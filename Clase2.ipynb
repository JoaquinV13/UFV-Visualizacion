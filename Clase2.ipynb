{
  "nbformat": 4,
  "nbformat_minor": 0,
  "metadata": {
    "colab": {
      "provenance": [],
      "mount_file_id": "1VwLKSkvRTceijPBxYHaYLqGTmsrYnkyD",
      "authorship_tag": "ABX9TyMDR6Fu1t2SOgI9tUvaiW4n",
      "include_colab_link": true
    },
    "kernelspec": {
      "name": "python3",
      "display_name": "Python 3"
    },
    "language_info": {
      "name": "python"
    }
  },
  "cells": [
    {
      "cell_type": "markdown",
      "metadata": {
        "id": "view-in-github",
        "colab_type": "text"
      },
      "source": [
        "<a href=\"https://colab.research.google.com/github/JoaquinV13/UFV-Visualizacion/blob/main/Clase2.ipynb\" target=\"_parent\"><img src=\"https://colab.research.google.com/assets/colab-badge.svg\" alt=\"Open In Colab\"/></a>"
      ]
    },
    {
      "cell_type": "code",
      "source": [
        "pip install plotly_express"
      ],
      "metadata": {
        "colab": {
          "base_uri": "https://localhost:8080/"
        },
        "id": "N-Qne7aZCjPQ",
        "outputId": "1df6fd2c-c188-432c-97dc-68e1596c2686",
        "collapsed": true
      },
      "execution_count": 85,
      "outputs": [
        {
          "output_type": "stream",
          "name": "stdout",
          "text": [
            "Requirement already satisfied: plotly_express in /usr/local/lib/python3.10/dist-packages (0.4.1)\n",
            "Requirement already satisfied: pandas>=0.20.0 in /usr/local/lib/python3.10/dist-packages (from plotly_express) (2.2.2)\n",
            "Requirement already satisfied: plotly>=4.1.0 in /usr/local/lib/python3.10/dist-packages (from plotly_express) (5.24.1)\n",
            "Requirement already satisfied: statsmodels>=0.9.0 in /usr/local/lib/python3.10/dist-packages (from plotly_express) (0.14.4)\n",
            "Requirement already satisfied: scipy>=0.18 in /usr/local/lib/python3.10/dist-packages (from plotly_express) (1.13.1)\n",
            "Requirement already satisfied: patsy>=0.5 in /usr/local/lib/python3.10/dist-packages (from plotly_express) (0.5.6)\n",
            "Requirement already satisfied: numpy>=1.11 in /usr/local/lib/python3.10/dist-packages (from plotly_express) (1.26.4)\n",
            "Requirement already satisfied: python-dateutil>=2.8.2 in /usr/local/lib/python3.10/dist-packages (from pandas>=0.20.0->plotly_express) (2.8.2)\n",
            "Requirement already satisfied: pytz>=2020.1 in /usr/local/lib/python3.10/dist-packages (from pandas>=0.20.0->plotly_express) (2024.2)\n",
            "Requirement already satisfied: tzdata>=2022.7 in /usr/local/lib/python3.10/dist-packages (from pandas>=0.20.0->plotly_express) (2024.2)\n",
            "Requirement already satisfied: six in /usr/local/lib/python3.10/dist-packages (from patsy>=0.5->plotly_express) (1.16.0)\n",
            "Requirement already satisfied: tenacity>=6.2.0 in /usr/local/lib/python3.10/dist-packages (from plotly>=4.1.0->plotly_express) (9.0.0)\n",
            "Requirement already satisfied: packaging in /usr/local/lib/python3.10/dist-packages (from plotly>=4.1.0->plotly_express) (24.1)\n"
          ]
        }
      ]
    },
    {
      "cell_type": "code",
      "execution_count": 86,
      "metadata": {
        "id": "nEo8qHW06ram"
      },
      "outputs": [],
      "source": [
        "import plotly_express as px\n",
        "import pandas as pd\n",
        "import numpy as np\n",
        "from google.colab import drive"
      ]
    },
    {
      "cell_type": "code",
      "source": [
        "drive.mount('/content/drive/')\n",
        "data = pd.read_csv('/content/drive/MyDrive/Colab/datos_ejercicio_ventas.csv',sep=';')"
      ],
      "metadata": {
        "colab": {
          "base_uri": "https://localhost:8080/"
        },
        "id": "YKirc1KWELxX",
        "outputId": "0f2344fa-7c6c-4a27-fbe9-cee50d07f4ef",
        "collapsed": true
      },
      "execution_count": 87,
      "outputs": [
        {
          "output_type": "stream",
          "name": "stdout",
          "text": [
            "Drive already mounted at /content/drive/; to attempt to forcibly remount, call drive.mount(\"/content/drive/\", force_remount=True).\n"
          ]
        }
      ]
    },
    {
      "cell_type": "code",
      "source": [
        "# Visualizamos los datos.\n",
        "data.head()"
      ],
      "metadata": {
        "colab": {
          "base_uri": "https://localhost:8080/",
          "height": 204
        },
        "id": "zL8J3lpGFmJc",
        "outputId": "a326dff2-4355-4fdc-ad74-af4cc3b49ae2"
      },
      "execution_count": 88,
      "outputs": [
        {
          "output_type": "execute_result",
          "data": {
            "text/plain": [
              "  COUNTRY            SUBBRAND  YEAR  MONTH     SCENARIO FORECAST  \\\n",
              "0   Spain      Pepsi Max (L3)  2023     12  AI_forecast  AI_P09F   \n",
              "1   Spain  Pepsi Regular (L3)  2023     12  AI_forecast  AI_P05F   \n",
              "2   Spain       7up Free (L3)  2023      8  AI_forecast  AI_P08F   \n",
              "3   Spain  Pepsi Regular (L3)  2023      8  AI_forecast    AI_PF   \n",
              "4   Spain      Pepsi Max (L3)  2023     10  AI_forecast  AI_P07F   \n",
              "\n",
              "   FORECAST_YEAR       AMOUNT  \n",
              "0         2023.0   8,8502E+15  \n",
              "1         2023.0  1,34268E+15  \n",
              "2         2023.0  8,98326E+15  \n",
              "3         2023.0   1,6476E+15  \n",
              "4         2023.0  1,41119E+16  "
            ],
            "text/html": [
              "\n",
              "  <div id=\"df-992963ad-7520-4552-9cce-30aab043baf5\" class=\"colab-df-container\">\n",
              "    <div>\n",
              "<style scoped>\n",
              "    .dataframe tbody tr th:only-of-type {\n",
              "        vertical-align: middle;\n",
              "    }\n",
              "\n",
              "    .dataframe tbody tr th {\n",
              "        vertical-align: top;\n",
              "    }\n",
              "\n",
              "    .dataframe thead th {\n",
              "        text-align: right;\n",
              "    }\n",
              "</style>\n",
              "<table border=\"1\" class=\"dataframe\">\n",
              "  <thead>\n",
              "    <tr style=\"text-align: right;\">\n",
              "      <th></th>\n",
              "      <th>COUNTRY</th>\n",
              "      <th>SUBBRAND</th>\n",
              "      <th>YEAR</th>\n",
              "      <th>MONTH</th>\n",
              "      <th>SCENARIO</th>\n",
              "      <th>FORECAST</th>\n",
              "      <th>FORECAST_YEAR</th>\n",
              "      <th>AMOUNT</th>\n",
              "    </tr>\n",
              "  </thead>\n",
              "  <tbody>\n",
              "    <tr>\n",
              "      <th>0</th>\n",
              "      <td>Spain</td>\n",
              "      <td>Pepsi Max (L3)</td>\n",
              "      <td>2023</td>\n",
              "      <td>12</td>\n",
              "      <td>AI_forecast</td>\n",
              "      <td>AI_P09F</td>\n",
              "      <td>2023.0</td>\n",
              "      <td>8,8502E+15</td>\n",
              "    </tr>\n",
              "    <tr>\n",
              "      <th>1</th>\n",
              "      <td>Spain</td>\n",
              "      <td>Pepsi Regular (L3)</td>\n",
              "      <td>2023</td>\n",
              "      <td>12</td>\n",
              "      <td>AI_forecast</td>\n",
              "      <td>AI_P05F</td>\n",
              "      <td>2023.0</td>\n",
              "      <td>1,34268E+15</td>\n",
              "    </tr>\n",
              "    <tr>\n",
              "      <th>2</th>\n",
              "      <td>Spain</td>\n",
              "      <td>7up Free (L3)</td>\n",
              "      <td>2023</td>\n",
              "      <td>8</td>\n",
              "      <td>AI_forecast</td>\n",
              "      <td>AI_P08F</td>\n",
              "      <td>2023.0</td>\n",
              "      <td>8,98326E+15</td>\n",
              "    </tr>\n",
              "    <tr>\n",
              "      <th>3</th>\n",
              "      <td>Spain</td>\n",
              "      <td>Pepsi Regular (L3)</td>\n",
              "      <td>2023</td>\n",
              "      <td>8</td>\n",
              "      <td>AI_forecast</td>\n",
              "      <td>AI_PF</td>\n",
              "      <td>2023.0</td>\n",
              "      <td>1,6476E+15</td>\n",
              "    </tr>\n",
              "    <tr>\n",
              "      <th>4</th>\n",
              "      <td>Spain</td>\n",
              "      <td>Pepsi Max (L3)</td>\n",
              "      <td>2023</td>\n",
              "      <td>10</td>\n",
              "      <td>AI_forecast</td>\n",
              "      <td>AI_P07F</td>\n",
              "      <td>2023.0</td>\n",
              "      <td>1,41119E+16</td>\n",
              "    </tr>\n",
              "  </tbody>\n",
              "</table>\n",
              "</div>\n",
              "    <div class=\"colab-df-buttons\">\n",
              "\n",
              "  <div class=\"colab-df-container\">\n",
              "    <button class=\"colab-df-convert\" onclick=\"convertToInteractive('df-992963ad-7520-4552-9cce-30aab043baf5')\"\n",
              "            title=\"Convert this dataframe to an interactive table.\"\n",
              "            style=\"display:none;\">\n",
              "\n",
              "  <svg xmlns=\"http://www.w3.org/2000/svg\" height=\"24px\" viewBox=\"0 -960 960 960\">\n",
              "    <path d=\"M120-120v-720h720v720H120Zm60-500h600v-160H180v160Zm220 220h160v-160H400v160Zm0 220h160v-160H400v160ZM180-400h160v-160H180v160Zm440 0h160v-160H620v160ZM180-180h160v-160H180v160Zm440 0h160v-160H620v160Z\"/>\n",
              "  </svg>\n",
              "    </button>\n",
              "\n",
              "  <style>\n",
              "    .colab-df-container {\n",
              "      display:flex;\n",
              "      gap: 12px;\n",
              "    }\n",
              "\n",
              "    .colab-df-convert {\n",
              "      background-color: #E8F0FE;\n",
              "      border: none;\n",
              "      border-radius: 50%;\n",
              "      cursor: pointer;\n",
              "      display: none;\n",
              "      fill: #1967D2;\n",
              "      height: 32px;\n",
              "      padding: 0 0 0 0;\n",
              "      width: 32px;\n",
              "    }\n",
              "\n",
              "    .colab-df-convert:hover {\n",
              "      background-color: #E2EBFA;\n",
              "      box-shadow: 0px 1px 2px rgba(60, 64, 67, 0.3), 0px 1px 3px 1px rgba(60, 64, 67, 0.15);\n",
              "      fill: #174EA6;\n",
              "    }\n",
              "\n",
              "    .colab-df-buttons div {\n",
              "      margin-bottom: 4px;\n",
              "    }\n",
              "\n",
              "    [theme=dark] .colab-df-convert {\n",
              "      background-color: #3B4455;\n",
              "      fill: #D2E3FC;\n",
              "    }\n",
              "\n",
              "    [theme=dark] .colab-df-convert:hover {\n",
              "      background-color: #434B5C;\n",
              "      box-shadow: 0px 1px 3px 1px rgba(0, 0, 0, 0.15);\n",
              "      filter: drop-shadow(0px 1px 2px rgba(0, 0, 0, 0.3));\n",
              "      fill: #FFFFFF;\n",
              "    }\n",
              "  </style>\n",
              "\n",
              "    <script>\n",
              "      const buttonEl =\n",
              "        document.querySelector('#df-992963ad-7520-4552-9cce-30aab043baf5 button.colab-df-convert');\n",
              "      buttonEl.style.display =\n",
              "        google.colab.kernel.accessAllowed ? 'block' : 'none';\n",
              "\n",
              "      async function convertToInteractive(key) {\n",
              "        const element = document.querySelector('#df-992963ad-7520-4552-9cce-30aab043baf5');\n",
              "        const dataTable =\n",
              "          await google.colab.kernel.invokeFunction('convertToInteractive',\n",
              "                                                    [key], {});\n",
              "        if (!dataTable) return;\n",
              "\n",
              "        const docLinkHtml = 'Like what you see? Visit the ' +\n",
              "          '<a target=\"_blank\" href=https://colab.research.google.com/notebooks/data_table.ipynb>data table notebook</a>'\n",
              "          + ' to learn more about interactive tables.';\n",
              "        element.innerHTML = '';\n",
              "        dataTable['output_type'] = 'display_data';\n",
              "        await google.colab.output.renderOutput(dataTable, element);\n",
              "        const docLink = document.createElement('div');\n",
              "        docLink.innerHTML = docLinkHtml;\n",
              "        element.appendChild(docLink);\n",
              "      }\n",
              "    </script>\n",
              "  </div>\n",
              "\n",
              "\n",
              "<div id=\"df-7cd057a5-9949-480f-91df-06ab91204e39\">\n",
              "  <button class=\"colab-df-quickchart\" onclick=\"quickchart('df-7cd057a5-9949-480f-91df-06ab91204e39')\"\n",
              "            title=\"Suggest charts\"\n",
              "            style=\"display:none;\">\n",
              "\n",
              "<svg xmlns=\"http://www.w3.org/2000/svg\" height=\"24px\"viewBox=\"0 0 24 24\"\n",
              "     width=\"24px\">\n",
              "    <g>\n",
              "        <path d=\"M19 3H5c-1.1 0-2 .9-2 2v14c0 1.1.9 2 2 2h14c1.1 0 2-.9 2-2V5c0-1.1-.9-2-2-2zM9 17H7v-7h2v7zm4 0h-2V7h2v10zm4 0h-2v-4h2v4z\"/>\n",
              "    </g>\n",
              "</svg>\n",
              "  </button>\n",
              "\n",
              "<style>\n",
              "  .colab-df-quickchart {\n",
              "      --bg-color: #E8F0FE;\n",
              "      --fill-color: #1967D2;\n",
              "      --hover-bg-color: #E2EBFA;\n",
              "      --hover-fill-color: #174EA6;\n",
              "      --disabled-fill-color: #AAA;\n",
              "      --disabled-bg-color: #DDD;\n",
              "  }\n",
              "\n",
              "  [theme=dark] .colab-df-quickchart {\n",
              "      --bg-color: #3B4455;\n",
              "      --fill-color: #D2E3FC;\n",
              "      --hover-bg-color: #434B5C;\n",
              "      --hover-fill-color: #FFFFFF;\n",
              "      --disabled-bg-color: #3B4455;\n",
              "      --disabled-fill-color: #666;\n",
              "  }\n",
              "\n",
              "  .colab-df-quickchart {\n",
              "    background-color: var(--bg-color);\n",
              "    border: none;\n",
              "    border-radius: 50%;\n",
              "    cursor: pointer;\n",
              "    display: none;\n",
              "    fill: var(--fill-color);\n",
              "    height: 32px;\n",
              "    padding: 0;\n",
              "    width: 32px;\n",
              "  }\n",
              "\n",
              "  .colab-df-quickchart:hover {\n",
              "    background-color: var(--hover-bg-color);\n",
              "    box-shadow: 0 1px 2px rgba(60, 64, 67, 0.3), 0 1px 3px 1px rgba(60, 64, 67, 0.15);\n",
              "    fill: var(--button-hover-fill-color);\n",
              "  }\n",
              "\n",
              "  .colab-df-quickchart-complete:disabled,\n",
              "  .colab-df-quickchart-complete:disabled:hover {\n",
              "    background-color: var(--disabled-bg-color);\n",
              "    fill: var(--disabled-fill-color);\n",
              "    box-shadow: none;\n",
              "  }\n",
              "\n",
              "  .colab-df-spinner {\n",
              "    border: 2px solid var(--fill-color);\n",
              "    border-color: transparent;\n",
              "    border-bottom-color: var(--fill-color);\n",
              "    animation:\n",
              "      spin 1s steps(1) infinite;\n",
              "  }\n",
              "\n",
              "  @keyframes spin {\n",
              "    0% {\n",
              "      border-color: transparent;\n",
              "      border-bottom-color: var(--fill-color);\n",
              "      border-left-color: var(--fill-color);\n",
              "    }\n",
              "    20% {\n",
              "      border-color: transparent;\n",
              "      border-left-color: var(--fill-color);\n",
              "      border-top-color: var(--fill-color);\n",
              "    }\n",
              "    30% {\n",
              "      border-color: transparent;\n",
              "      border-left-color: var(--fill-color);\n",
              "      border-top-color: var(--fill-color);\n",
              "      border-right-color: var(--fill-color);\n",
              "    }\n",
              "    40% {\n",
              "      border-color: transparent;\n",
              "      border-right-color: var(--fill-color);\n",
              "      border-top-color: var(--fill-color);\n",
              "    }\n",
              "    60% {\n",
              "      border-color: transparent;\n",
              "      border-right-color: var(--fill-color);\n",
              "    }\n",
              "    80% {\n",
              "      border-color: transparent;\n",
              "      border-right-color: var(--fill-color);\n",
              "      border-bottom-color: var(--fill-color);\n",
              "    }\n",
              "    90% {\n",
              "      border-color: transparent;\n",
              "      border-bottom-color: var(--fill-color);\n",
              "    }\n",
              "  }\n",
              "</style>\n",
              "\n",
              "  <script>\n",
              "    async function quickchart(key) {\n",
              "      const quickchartButtonEl =\n",
              "        document.querySelector('#' + key + ' button');\n",
              "      quickchartButtonEl.disabled = true;  // To prevent multiple clicks.\n",
              "      quickchartButtonEl.classList.add('colab-df-spinner');\n",
              "      try {\n",
              "        const charts = await google.colab.kernel.invokeFunction(\n",
              "            'suggestCharts', [key], {});\n",
              "      } catch (error) {\n",
              "        console.error('Error during call to suggestCharts:', error);\n",
              "      }\n",
              "      quickchartButtonEl.classList.remove('colab-df-spinner');\n",
              "      quickchartButtonEl.classList.add('colab-df-quickchart-complete');\n",
              "    }\n",
              "    (() => {\n",
              "      let quickchartButtonEl =\n",
              "        document.querySelector('#df-7cd057a5-9949-480f-91df-06ab91204e39 button');\n",
              "      quickchartButtonEl.style.display =\n",
              "        google.colab.kernel.accessAllowed ? 'block' : 'none';\n",
              "    })();\n",
              "  </script>\n",
              "</div>\n",
              "\n",
              "    </div>\n",
              "  </div>\n"
            ],
            "application/vnd.google.colaboratory.intrinsic+json": {
              "type": "dataframe",
              "variable_name": "data",
              "summary": "{\n  \"name\": \"data\",\n  \"rows\": 18666,\n  \"fields\": [\n    {\n      \"column\": \"COUNTRY\",\n      \"properties\": {\n        \"dtype\": \"category\",\n        \"num_unique_values\": 9,\n        \"samples\": [\n          \"Denmark\",\n          \"Portugal\",\n          \"Hungary\"\n        ],\n        \"semantic_type\": \"\",\n        \"description\": \"\"\n      }\n    },\n    {\n      \"column\": \"SUBBRAND\",\n      \"properties\": {\n        \"dtype\": \"category\",\n        \"num_unique_values\": 6,\n        \"samples\": [\n          \"Pepsi Max (L3)\",\n          \"Pepsi Regular (L3)\",\n          \"Mountain Dew (L3)\"\n        ],\n        \"semantic_type\": \"\",\n        \"description\": \"\"\n      }\n    },\n    {\n      \"column\": \"YEAR\",\n      \"properties\": {\n        \"dtype\": \"number\",\n        \"std\": 0,\n        \"min\": 2023,\n        \"max\": 2025,\n        \"num_unique_values\": 3,\n        \"samples\": [\n          2023,\n          2024,\n          2025\n        ],\n        \"semantic_type\": \"\",\n        \"description\": \"\"\n      }\n    },\n    {\n      \"column\": \"MONTH\",\n      \"properties\": {\n        \"dtype\": \"number\",\n        \"std\": 3,\n        \"min\": 1,\n        \"max\": 12,\n        \"num_unique_values\": 12,\n        \"samples\": [\n          2,\n          3,\n          12\n        ],\n        \"semantic_type\": \"\",\n        \"description\": \"\"\n      }\n    },\n    {\n      \"column\": \"SCENARIO\",\n      \"properties\": {\n        \"dtype\": \"category\",\n        \"num_unique_values\": 2,\n        \"samples\": [\n          \"actual\",\n          \"AI_forecast\"\n        ],\n        \"semantic_type\": \"\",\n        \"description\": \"\"\n      }\n    },\n    {\n      \"column\": \"FORECAST\",\n      \"properties\": {\n        \"dtype\": \"category\",\n        \"num_unique_values\": 12,\n        \"samples\": [\n          \"AI_P12F\",\n          \"AI_P06F\"\n        ],\n        \"semantic_type\": \"\",\n        \"description\": \"\"\n      }\n    },\n    {\n      \"column\": \"FORECAST_YEAR\",\n      \"properties\": {\n        \"dtype\": \"number\",\n        \"std\": 0.0,\n        \"min\": 2023.0,\n        \"max\": 2023.0,\n        \"num_unique_values\": 1,\n        \"samples\": [\n          2023.0\n        ],\n        \"semantic_type\": \"\",\n        \"description\": \"\"\n      }\n    },\n    {\n      \"column\": \"AMOUNT\",\n      \"properties\": {\n        \"dtype\": \"string\",\n        \"num_unique_values\": 16927,\n        \"samples\": [\n          \"3,6382E+15\"\n        ],\n        \"semantic_type\": \"\",\n        \"description\": \"\"\n      }\n    }\n  ]\n}"
            }
          },
          "metadata": {},
          "execution_count": 88
        }
      ]
    },
    {
      "cell_type": "code",
      "source": [
        "# Tipos de datos.\n",
        "data.info()"
      ],
      "metadata": {
        "colab": {
          "base_uri": "https://localhost:8080/"
        },
        "id": "5FvKMTwaGYKc",
        "outputId": "d9a2cdc2-92c8-41b7-dce7-bee176a903b4"
      },
      "execution_count": 89,
      "outputs": [
        {
          "output_type": "stream",
          "name": "stdout",
          "text": [
            "<class 'pandas.core.frame.DataFrame'>\n",
            "RangeIndex: 18666 entries, 0 to 18665\n",
            "Data columns (total 8 columns):\n",
            " #   Column         Non-Null Count  Dtype  \n",
            "---  ------         --------------  -----  \n",
            " 0   COUNTRY        18666 non-null  object \n",
            " 1   SUBBRAND       18666 non-null  object \n",
            " 2   YEAR           18666 non-null  int64  \n",
            " 3   MONTH          18666 non-null  int64  \n",
            " 4   SCENARIO       18666 non-null  object \n",
            " 5   FORECAST       17766 non-null  object \n",
            " 6   FORECAST_YEAR  17766 non-null  float64\n",
            " 7   AMOUNT         18666 non-null  object \n",
            "dtypes: float64(1), int64(2), object(5)\n",
            "memory usage: 1.1+ MB\n"
          ]
        }
      ]
    },
    {
      "cell_type": "code",
      "source": [
        "# Número de 'Actuals' y 'AI_forecast'.\n",
        "actuals = (sum(data['SCENARIO']=='actual'))\n",
        "forecast = (sum(data['SCENARIO']=='AI_forecast'))\n",
        "print('Número de Actuals:',actuals)\n",
        "print('Número de Forecasts:',forecast)"
      ],
      "metadata": {
        "colab": {
          "base_uri": "https://localhost:8080/"
        },
        "id": "9iBaa1nYGyAB",
        "outputId": "68a8d075-cd3f-48a0-caeb-1c081197edf3",
        "collapsed": true
      },
      "execution_count": 90,
      "outputs": [
        {
          "output_type": "stream",
          "name": "stdout",
          "text": [
            "Número de Actuals: 900\n",
            "Número de Forecasts: 17766\n"
          ]
        }
      ]
    },
    {
      "cell_type": "code",
      "source": [
        "# Número de regustros de cada marca por país.\n",
        "tabla_pivot = data.pivot_table(index='COUNTRY', columns='SUBBRAND', aggfunc='size', fill_value=0)\n",
        "\n",
        "# Agregar una columna con el total de registros por país.\n",
        "tabla_pivot['Total'] = tabla_pivot.sum(axis=1)\n",
        "print(tabla_pivot)"
      ],
      "metadata": {
        "colab": {
          "base_uri": "https://localhost:8080/"
        },
        "id": "0YEGltkZeFe-",
        "outputId": "361f015f-4506-46bc-d775-d6715e9d3afa"
      },
      "execution_count": 91,
      "outputs": [
        {
          "output_type": "stream",
          "name": "stdout",
          "text": [
            "SUBBRAND       7up (L3)  7up Free (L3)  Lipton (L3)  Mountain Dew (L3)  \\\n",
            "COUNTRY                                                                  \n",
            "Czech               236              7          236                236   \n",
            "Denmark             216            236            0                236   \n",
            "Great Britain       794            758          830                542   \n",
            "Hungary             268            236          452                236   \n",
            "Italy               236              0            0                  0   \n",
            "Netherlands         236            236          452                216   \n",
            "Norway              236            236          252                236   \n",
            "Portugal            236            236          235                  0   \n",
            "Spain               236            398          236                  0   \n",
            "\n",
            "SUBBRAND       Pepsi Max (L3)  Pepsi Regular (L3)  Total  \n",
            "COUNTRY                                                   \n",
            "Czech                     236                 452   1403  \n",
            "Denmark                  1280                 326   2294  \n",
            "Great Britain             542                 542   4008  \n",
            "Hungary                   740                 452   2384  \n",
            "Italy                     236                 236    708  \n",
            "Netherlands               884                 452   2476  \n",
            "Norway                    722                 380   2062  \n",
            "Portugal                  236                 236   1179  \n",
            "Spain                     722                 560   2152  \n"
          ]
        }
      ]
    },
    {
      "cell_type": "code",
      "source": [
        "# Todos los datos del dataset tiene el mismo horizonte de previsión. Calculamos\n",
        "# el de uno, sabemos el de todos.\n",
        "data_1 = data[(data['FORECAST_YEAR']==2023) & (data['FORECAST']=='AI_P02F') & (data['COUNTRY']=='Portugal') & (data['SCENARIO']=='AI_forecast') & (data['SUBBRAND']=='Lipton (L3)')]\n",
        "print(len(data_1))"
      ],
      "metadata": {
        "colab": {
          "base_uri": "https://localhost:8080/"
        },
        "id": "rq9abfWtJKWj",
        "outputId": "630f3846-81a4-4ddc-8b15-dc3ea2aa2459",
        "collapsed": true
      },
      "execution_count": 92,
      "outputs": [
        {
          "output_type": "stream",
          "name": "stdout",
          "text": [
            "18\n"
          ]
        }
      ]
    },
    {
      "cell_type": "code",
      "source": [
        "# Comprobamos la cantidad de forecasts distintos que hay. Contando las diferentes\n",
        "# fechas de inicio de un forecast.\n",
        "\n",
        "data[(data['SCENARIO']=='AI_forecast')].loc[:, ['FORECAST_YEAR', 'FORECAST']].drop_duplicates().shape[0]"
      ],
      "metadata": {
        "colab": {
          "base_uri": "https://localhost:8080/"
        },
        "collapsed": true,
        "id": "aG5o8IKd4EG8",
        "outputId": "91b9f001-466f-4ba0-e256-af87a5ad4da6"
      },
      "execution_count": 93,
      "outputs": [
        {
          "output_type": "execute_result",
          "data": {
            "text/plain": [
              "12"
            ]
          },
          "metadata": {},
          "execution_count": 93
        }
      ]
    },
    {
      "cell_type": "markdown",
      "source": [
        "Vemos que la cantidad de forecast distintos es 12 pero, ¿esto es igual para todos los productos de cada país?"
      ],
      "metadata": {
        "id": "z_5QiiRk7wgK"
      }
    },
    {
      "cell_type": "code",
      "source": [
        "# Comprobamos que para cada producto de cada país se han hecho 12 estudios\n",
        "# predicitivos teniendo en cuenta la fecha de inicio de la predicción.\n",
        "\n",
        "Pais_producto = data[(data['SCENARIO']=='AI_forecast')].groupby(['COUNTRY','SUBBRAND'])\n",
        "\n",
        "# Contar los valores únicos de la combinación de 'Year' y 'caca'\n",
        "resultado = Pais_producto.apply(lambda x: x[['FORECAST_YEAR', 'FORECAST']].drop_duplicates().shape[0], include_groups=False).reset_index(name='Estudios')\n",
        "\n",
        "print(resultado)"
      ],
      "metadata": {
        "colab": {
          "base_uri": "https://localhost:8080/"
        },
        "collapsed": true,
        "id": "b6W6B9xj76Nx",
        "outputId": "0ca33371-6969-448d-fe09-d99e0a88ec35"
      },
      "execution_count": 94,
      "outputs": [
        {
          "output_type": "stream",
          "name": "stdout",
          "text": [
            "          COUNTRY            SUBBRAND  Estudios\n",
            "0           Czech            7up (L3)        12\n",
            "1           Czech         Lipton (L3)        12\n",
            "2           Czech   Mountain Dew (L3)        12\n",
            "3           Czech      Pepsi Max (L3)        12\n",
            "4           Czech  Pepsi Regular (L3)        12\n",
            "5         Denmark            7up (L3)        12\n",
            "6         Denmark       7up Free (L3)        12\n",
            "7         Denmark   Mountain Dew (L3)        12\n",
            "8         Denmark      Pepsi Max (L3)        12\n",
            "9         Denmark  Pepsi Regular (L3)        12\n",
            "10  Great Britain            7up (L3)        12\n",
            "11  Great Britain       7up Free (L3)        12\n",
            "12  Great Britain         Lipton (L3)        12\n",
            "13  Great Britain   Mountain Dew (L3)        12\n",
            "14  Great Britain      Pepsi Max (L3)        12\n",
            "15  Great Britain  Pepsi Regular (L3)        12\n",
            "16        Hungary            7up (L3)        12\n",
            "17        Hungary       7up Free (L3)        12\n",
            "18        Hungary         Lipton (L3)        12\n",
            "19        Hungary   Mountain Dew (L3)        12\n",
            "20        Hungary      Pepsi Max (L3)        12\n",
            "21        Hungary  Pepsi Regular (L3)        12\n",
            "22          Italy            7up (L3)        12\n",
            "23          Italy      Pepsi Max (L3)        12\n",
            "24          Italy  Pepsi Regular (L3)        12\n",
            "25    Netherlands            7up (L3)        12\n",
            "26    Netherlands       7up Free (L3)        12\n",
            "27    Netherlands         Lipton (L3)        12\n",
            "28    Netherlands   Mountain Dew (L3)        12\n",
            "29    Netherlands      Pepsi Max (L3)        12\n",
            "30    Netherlands  Pepsi Regular (L3)        12\n",
            "31         Norway            7up (L3)        12\n",
            "32         Norway       7up Free (L3)        12\n",
            "33         Norway         Lipton (L3)        12\n",
            "34         Norway   Mountain Dew (L3)        12\n",
            "35         Norway      Pepsi Max (L3)        12\n",
            "36         Norway  Pepsi Regular (L3)        12\n",
            "37       Portugal            7up (L3)        12\n",
            "38       Portugal       7up Free (L3)        12\n",
            "39       Portugal         Lipton (L3)        12\n",
            "40       Portugal      Pepsi Max (L3)        12\n",
            "41       Portugal  Pepsi Regular (L3)        12\n",
            "42          Spain            7up (L3)        12\n",
            "43          Spain       7up Free (L3)        12\n",
            "44          Spain         Lipton (L3)        12\n",
            "45          Spain      Pepsi Max (L3)        12\n",
            "46          Spain  Pepsi Regular (L3)        12\n"
          ]
        }
      ]
    },
    {
      "cell_type": "markdown",
      "source": [
        "Efectivamente, para cada producto de cada país se han hecho 12 estudios de predicción distintos."
      ],
      "metadata": {
        "id": "Gi3AtNHt_8gi"
      }
    },
    {
      "cell_type": "code",
      "source": [
        "# Convertimos la columna AMOUNT en formato numérico.\n",
        "data['AMOUNT'] = data['AMOUNT'].str.replace(',', '', regex=False)\n",
        "data['AMOUNT'] = pd.to_numeric(data['AMOUNT'])"
      ],
      "metadata": {
        "id": "3eeU4rMXF47K"
      },
      "execution_count": 95,
      "outputs": []
    },
    {
      "cell_type": "code",
      "source": [
        "data.info()"
      ],
      "metadata": {
        "colab": {
          "base_uri": "https://localhost:8080/"
        },
        "collapsed": true,
        "id": "_qqyLFb7GGce",
        "outputId": "65dd2a83-c998-473a-a1ed-08bf565473e6"
      },
      "execution_count": 96,
      "outputs": [
        {
          "output_type": "stream",
          "name": "stdout",
          "text": [
            "<class 'pandas.core.frame.DataFrame'>\n",
            "RangeIndex: 18666 entries, 0 to 18665\n",
            "Data columns (total 8 columns):\n",
            " #   Column         Non-Null Count  Dtype  \n",
            "---  ------         --------------  -----  \n",
            " 0   COUNTRY        18666 non-null  object \n",
            " 1   SUBBRAND       18666 non-null  object \n",
            " 2   YEAR           18666 non-null  int64  \n",
            " 3   MONTH          18666 non-null  int64  \n",
            " 4   SCENARIO       18666 non-null  object \n",
            " 5   FORECAST       17766 non-null  object \n",
            " 6   FORECAST_YEAR  17766 non-null  float64\n",
            " 7   AMOUNT         18666 non-null  float64\n",
            "dtypes: float64(2), int64(2), object(4)\n",
            "memory usage: 1.1+ MB\n"
          ]
        }
      ]
    },
    {
      "cell_type": "code",
      "source": [
        "# Sumamos la cantidad de cada producto del país.\n",
        "datos = data[(data['SCENARIO'] == 'actual')].groupby(['COUNTRY', 'SUBBRAND'])['AMOUNT'].sum().reset_index()\n",
        "print(datos)"
      ],
      "metadata": {
        "colab": {
          "base_uri": "https://localhost:8080/"
        },
        "id": "WYblYx2WEDvh",
        "outputId": "d418abb8-96a4-43cf-d27f-5e9cce44324c"
      },
      "execution_count": 97,
      "outputs": [
        {
          "output_type": "stream",
          "name": "stdout",
          "text": [
            "          COUNTRY            SUBBRAND        AMOUNT\n",
            "0           Czech            7up (L3)  1.919635e+22\n",
            "1           Czech       7up Free (L3)  2.740001e+21\n",
            "2           Czech         Lipton (L3)  1.933554e+22\n",
            "3           Czech   Mountain Dew (L3)  1.460128e+22\n",
            "4           Czech      Pepsi Max (L3)  3.060774e+22\n",
            "5           Czech  Pepsi Regular (L3)  1.135877e+22\n",
            "6         Denmark       7up Free (L3)  3.172219e+22\n",
            "7         Denmark   Mountain Dew (L3)  2.603437e+22\n",
            "8         Denmark      Pepsi Max (L3)  2.361710e+22\n",
            "9         Denmark  Pepsi Regular (L3)  2.273068e+22\n",
            "10  Great Britain            7up (L3)  1.735373e+22\n",
            "11  Great Britain       7up Free (L3)  1.398643e+22\n",
            "12  Great Britain         Lipton (L3)  8.391507e+21\n",
            "13  Great Britain   Mountain Dew (L3)  2.043746e+22\n",
            "14  Great Britain      Pepsi Max (L3)  1.856443e+29\n",
            "15  Great Britain  Pepsi Regular (L3)  2.045068e+22\n",
            "16        Hungary            7up (L3)  9.103885e+21\n",
            "17        Hungary       7up Free (L3)  1.018670e+22\n",
            "18        Hungary         Lipton (L3)  2.660427e+22\n",
            "19        Hungary   Mountain Dew (L3)  1.666156e+22\n",
            "20        Hungary      Pepsi Max (L3)  3.522343e+22\n",
            "21        Hungary  Pepsi Regular (L3)  1.879318e+22\n",
            "22          Italy            7up (L3)  1.404751e+22\n",
            "23          Italy      Pepsi Max (L3)  1.928289e+22\n",
            "24          Italy  Pepsi Regular (L3)  1.914110e+22\n",
            "25    Netherlands            7up (L3)  1.266652e+22\n",
            "26    Netherlands       7up Free (L3)  1.314390e+22\n",
            "27    Netherlands         Lipton (L3)  1.779640e+22\n",
            "28    Netherlands      Pepsi Max (L3)  1.252951e+22\n",
            "29    Netherlands  Pepsi Regular (L3)  1.955660e+22\n",
            "30         Norway            7up (L3)  2.945231e+22\n",
            "31         Norway       7up Free (L3)  3.634199e+22\n",
            "32         Norway         Lipton (L3)  1.605064e+22\n",
            "33         Norway   Mountain Dew (L3)  1.156406e+22\n",
            "34         Norway      Pepsi Max (L3)  1.838504e+22\n",
            "35         Norway  Pepsi Regular (L3)  2.412975e+22\n",
            "36       Portugal            7up (L3)  2.788533e+22\n",
            "37       Portugal       7up Free (L3)  1.752376e+22\n",
            "38       Portugal         Lipton (L3)  6.872978e+21\n",
            "39       Portugal      Pepsi Max (L3)  2.105167e+22\n",
            "40       Portugal  Pepsi Regular (L3)  3.205058e+22\n",
            "41          Spain            7up (L3)  9.910818e+21\n",
            "42          Spain       7up Free (L3)  1.164026e+22\n",
            "43          Spain         Lipton (L3)  1.351938e+22\n",
            "44          Spain      Pepsi Max (L3)  1.252619e+22\n",
            "45          Spain  Pepsi Regular (L3)  1.896334e+22\n"
          ]
        }
      ]
    },
    {
      "cell_type": "code",
      "source": [
        "# Normalizamos las cantidades de los productos diviendo entre el total de\n",
        "# de cantidad vendida en el país.\n",
        "country_totals = datos.groupby('COUNTRY')['AMOUNT'].sum().reset_index()\n",
        "country_totals = country_totals.rename(columns={'AMOUNT': 'COUNTRY_TOTAL'})\n",
        "\n",
        "datos_N = pd.merge(datos, country_totals, on='COUNTRY', how='left')\n",
        "datos_N['AMOUNT_N'] = datos_N['AMOUNT'] / datos_N['COUNTRY_TOTAL']\n",
        "\n",
        "# Eliminamos columnas innecesarias.\n",
        "datos_N.drop(columns=['AMOUNT', 'COUNTRY_TOTAL'], inplace=True)\n",
        "\n",
        "print(datos_N)"
      ],
      "metadata": {
        "colab": {
          "base_uri": "https://localhost:8080/"
        },
        "id": "SC5qBSAIrzFz",
        "outputId": "51f2c124-4cfd-4ec8-a320-d47a25ca2777"
      },
      "execution_count": 98,
      "outputs": [
        {
          "output_type": "stream",
          "name": "stdout",
          "text": [
            "          COUNTRY            SUBBRAND      AMOUNT_N\n",
            "0           Czech            7up (L3)  1.962021e-01\n",
            "1           Czech       7up Free (L3)  2.800500e-02\n",
            "2           Czech         Lipton (L3)  1.976247e-01\n",
            "3           Czech   Mountain Dew (L3)  1.492368e-01\n",
            "4           Czech      Pepsi Max (L3)  3.128357e-01\n",
            "5           Czech  Pepsi Regular (L3)  1.160958e-01\n",
            "6         Denmark       7up Free (L3)  3.047154e-01\n",
            "7         Denmark   Mountain Dew (L3)  2.500796e-01\n",
            "8         Denmark      Pepsi Max (L3)  2.268599e-01\n",
            "9         Denmark  Pepsi Regular (L3)  2.183452e-01\n",
            "10  Great Britain            7up (L3)  9.347835e-08\n",
            "11  Great Britain       7up Free (L3)  7.533988e-08\n",
            "12  Great Britain         Lipton (L3)  4.520204e-08\n",
            "13  Great Britain   Mountain Dew (L3)  1.100893e-07\n",
            "14  Great Britain      Pepsi Max (L3)  9.999996e-01\n",
            "15  Great Britain  Pepsi Regular (L3)  1.101605e-07\n",
            "16        Hungary            7up (L3)  7.809597e-02\n",
            "17        Hungary       7up Free (L3)  8.738473e-02\n",
            "18        Hungary         Lipton (L3)  2.282198e-01\n",
            "19        Hungary   Mountain Dew (L3)  1.429281e-01\n",
            "20        Hungary      Pepsi Max (L3)  3.021576e-01\n",
            "21        Hungary  Pepsi Regular (L3)  1.612138e-01\n",
            "22          Italy            7up (L3)  2.677169e-01\n",
            "23          Italy      Pepsi Max (L3)  3.674927e-01\n",
            "24          Italy  Pepsi Regular (L3)  3.647904e-01\n",
            "25    Netherlands            7up (L3)  1.673408e-01\n",
            "26    Netherlands       7up Free (L3)  1.736477e-01\n",
            "27    Netherlands         Lipton (L3)  2.351132e-01\n",
            "28    Netherlands      Pepsi Max (L3)  1.655307e-01\n",
            "29    Netherlands  Pepsi Regular (L3)  2.583676e-01\n",
            "30         Norway            7up (L3)  2.166825e-01\n",
            "31         Norway       7up Free (L3)  2.673704e-01\n",
            "32         Norway         Lipton (L3)  1.180856e-01\n",
            "33         Norway   Mountain Dew (L3)  8.507752e-02\n",
            "34         Norway      Pepsi Max (L3)  1.352599e-01\n",
            "35         Norway  Pepsi Regular (L3)  1.775241e-01\n",
            "36       Portugal            7up (L3)  2.646061e-01\n",
            "37       Portugal       7up Free (L3)  1.662843e-01\n",
            "38       Portugal         Lipton (L3)  6.521822e-02\n",
            "39       Portugal      Pepsi Max (L3)  1.997609e-01\n",
            "40       Portugal  Pepsi Regular (L3)  3.041304e-01\n",
            "41          Spain            7up (L3)  1.489005e-01\n",
            "42          Spain       7up Free (L3)  1.748838e-01\n",
            "43          Spain         Lipton (L3)  2.031157e-01\n",
            "44          Spain      Pepsi Max (L3)  1.881939e-01\n",
            "45          Spain  Pepsi Regular (L3)  2.849060e-01\n"
          ]
        }
      ]
    },
    {
      "cell_type": "markdown",
      "source": [
        "# Distribución de ventas realizadas en cada país."
      ],
      "metadata": {
        "id": "Rtuod07A2EhM"
      }
    },
    {
      "cell_type": "code",
      "source": [
        "fig = px.histogram(datos_N, x='COUNTRY', y='AMOUNT_N', color='SUBBRAND',\n",
        "    title=\"Distribución de ventas realizadas por país\",\n",
        "    template=\"plotly_white\",\n",
        "    color_discrete_sequence=px.colors.qualitative.Prism, # Color pastel.\n",
        "    height=700, # Modificamos la altura para que se vean bien las porporciones.\n",
        "    width=1100)\n",
        "\n",
        "fig.update_layout(xaxis_title=\"País\",  yaxis_title=\"Proporción de las ventas\",\n",
        "    legend_title=\"Marca\",  font=dict(family=\"Arial\", size=12),\n",
        "    bargap=0.4) # Ajustamos el espacio entre barras.\n",
        "\n",
        "fig.show()"
      ],
      "metadata": {
        "colab": {
          "base_uri": "https://localhost:8080/",
          "height": 717
        },
        "id": "x-wbenhpwtG3",
        "outputId": "f2b06dac-821e-4f47-8702-7e6a0697ea36"
      },
      "execution_count": 99,
      "outputs": [
        {
          "output_type": "display_data",
          "data": {
            "text/html": [
              "<html>\n",
              "<head><meta charset=\"utf-8\" /></head>\n",
              "<body>\n",
              "    <div>            <script src=\"https://cdnjs.cloudflare.com/ajax/libs/mathjax/2.7.5/MathJax.js?config=TeX-AMS-MML_SVG\"></script><script type=\"text/javascript\">if (window.MathJax && window.MathJax.Hub && window.MathJax.Hub.Config) {window.MathJax.Hub.Config({SVG: {font: \"STIX-Web\"}});}</script>                <script type=\"text/javascript\">window.PlotlyConfig = {MathJaxConfig: 'local'};</script>\n",
              "        <script charset=\"utf-8\" src=\"https://cdn.plot.ly/plotly-2.35.2.min.js\"></script>                <div id=\"3e55922b-84e1-4bd9-b3e5-3958de79d2e0\" class=\"plotly-graph-div\" style=\"height:700px; width:1100px;\"></div>            <script type=\"text/javascript\">                                    window.PLOTLYENV=window.PLOTLYENV || {};                                    if (document.getElementById(\"3e55922b-84e1-4bd9-b3e5-3958de79d2e0\")) {                    Plotly.newPlot(                        \"3e55922b-84e1-4bd9-b3e5-3958de79d2e0\",                        [{\"alignmentgroup\":\"True\",\"bingroup\":\"x\",\"histfunc\":\"sum\",\"hovertemplate\":\"SUBBRAND=7up (L3)\\u003cbr\\u003eCOUNTRY=%{x}\\u003cbr\\u003esum of AMOUNT_N=%{y}\\u003cextra\\u003e\\u003c\\u002fextra\\u003e\",\"legendgroup\":\"7up (L3)\",\"marker\":{\"color\":\"rgb(95, 70, 144)\",\"pattern\":{\"shape\":\"\"}},\"name\":\"7up (L3)\",\"offsetgroup\":\"7up (L3)\",\"orientation\":\"v\",\"showlegend\":true,\"x\":[\"Czech\",\"Great Britain\",\"Hungary\",\"Italy\",\"Netherlands\",\"Norway\",\"Portugal\",\"Spain\"],\"xaxis\":\"x\",\"y\":[0.19620208880901924,9.347834988791945e-08,0.0780959715755281,0.2677168676614224,0.16734083922455648,0.2166825486181289,0.26460606361157935,0.14890054811813336],\"yaxis\":\"y\",\"type\":\"histogram\"},{\"alignmentgroup\":\"True\",\"bingroup\":\"x\",\"histfunc\":\"sum\",\"hovertemplate\":\"SUBBRAND=7up Free (L3)\\u003cbr\\u003eCOUNTRY=%{x}\\u003cbr\\u003esum of AMOUNT_N=%{y}\\u003cextra\\u003e\\u003c\\u002fextra\\u003e\",\"legendgroup\":\"7up Free (L3)\",\"marker\":{\"color\":\"rgb(29, 105, 150)\",\"pattern\":{\"shape\":\"\"}},\"name\":\"7up Free (L3)\",\"offsetgroup\":\"7up Free (L3)\",\"orientation\":\"v\",\"showlegend\":true,\"x\":[\"Czech\",\"Denmark\",\"Great Britain\",\"Hungary\",\"Netherlands\",\"Norway\",\"Portugal\",\"Spain\"],\"xaxis\":\"x\",\"y\":[0.02800500415795853,0.3047153618538991,7.533988099505571e-08,0.08738473333624522,0.17364769651122097,0.2673703521253683,0.1662843398585055,0.17488379383936273],\"yaxis\":\"y\",\"type\":\"histogram\"},{\"alignmentgroup\":\"True\",\"bingroup\":\"x\",\"histfunc\":\"sum\",\"hovertemplate\":\"SUBBRAND=Lipton (L3)\\u003cbr\\u003eCOUNTRY=%{x}\\u003cbr\\u003esum of AMOUNT_N=%{y}\\u003cextra\\u003e\\u003c\\u002fextra\\u003e\",\"legendgroup\":\"Lipton (L3)\",\"marker\":{\"color\":\"rgb(56, 166, 165)\",\"pattern\":{\"shape\":\"\"}},\"name\":\"Lipton (L3)\",\"offsetgroup\":\"Lipton (L3)\",\"orientation\":\"v\",\"showlegend\":true,\"x\":[\"Czech\",\"Great Britain\",\"Hungary\",\"Netherlands\",\"Norway\",\"Portugal\",\"Spain\"],\"xaxis\":\"x\",\"y\":[0.19762469925958445,4.520204273375109e-08,0.22821977329648263,0.23511317385899377,0.11808556329922137,0.06521822429273319,0.2031157191579523],\"yaxis\":\"y\",\"type\":\"histogram\"},{\"alignmentgroup\":\"True\",\"bingroup\":\"x\",\"histfunc\":\"sum\",\"hovertemplate\":\"SUBBRAND=Mountain Dew (L3)\\u003cbr\\u003eCOUNTRY=%{x}\\u003cbr\\u003esum of AMOUNT_N=%{y}\\u003cextra\\u003e\\u003c\\u002fextra\\u003e\",\"legendgroup\":\"Mountain Dew (L3)\",\"marker\":{\"color\":\"rgb(15, 133, 84)\",\"pattern\":{\"shape\":\"\"}},\"name\":\"Mountain Dew (L3)\",\"offsetgroup\":\"Mountain Dew (L3)\",\"orientation\":\"v\",\"showlegend\":true,\"x\":[\"Czech\",\"Denmark\",\"Great Britain\",\"Hungary\",\"Norway\"],\"xaxis\":\"x\",\"y\":[0.149236765402369,0.25007956995756514,1.1008928532649632e-07,0.14292811434356514,0.08507751633936966],\"yaxis\":\"y\",\"type\":\"histogram\"},{\"alignmentgroup\":\"True\",\"bingroup\":\"x\",\"histfunc\":\"sum\",\"hovertemplate\":\"SUBBRAND=Pepsi Max (L3)\\u003cbr\\u003eCOUNTRY=%{x}\\u003cbr\\u003esum of AMOUNT_N=%{y}\\u003cextra\\u003e\\u003c\\u002fextra\\u003e\",\"legendgroup\":\"Pepsi Max (L3)\",\"marker\":{\"color\":\"rgb(115, 175, 72)\",\"pattern\":{\"shape\":\"\"}},\"name\":\"Pepsi Max (L3)\",\"offsetgroup\":\"Pepsi Max (L3)\",\"orientation\":\"v\",\"showlegend\":true,\"x\":[\"Czech\",\"Denmark\",\"Great Britain\",\"Hungary\",\"Italy\",\"Netherlands\",\"Norway\",\"Portugal\",\"Spain\"],\"xaxis\":\"x\",\"y\":[0.3128356892093522,0.22685988966912643,0.9999995657299539,0.30215760422772475,0.3674926958504946,0.1655307267373865,0.13525990242107216,0.19976093372870746,0.18819394102226067],\"yaxis\":\"y\",\"type\":\"histogram\"},{\"alignmentgroup\":\"True\",\"bingroup\":\"x\",\"histfunc\":\"sum\",\"hovertemplate\":\"SUBBRAND=Pepsi Regular (L3)\\u003cbr\\u003eCOUNTRY=%{x}\\u003cbr\\u003esum of AMOUNT_N=%{y}\\u003cextra\\u003e\\u003c\\u002fextra\\u003e\",\"legendgroup\":\"Pepsi Regular (L3)\",\"marker\":{\"color\":\"rgb(237, 173, 8)\",\"pattern\":{\"shape\":\"\"}},\"name\":\"Pepsi Regular (L3)\",\"offsetgroup\":\"Pepsi Regular (L3)\",\"orientation\":\"v\",\"showlegend\":true,\"x\":[\"Czech\",\"Denmark\",\"Great Britain\",\"Hungary\",\"Italy\",\"Netherlands\",\"Norway\",\"Portugal\",\"Spain\"],\"xaxis\":\"x\",\"y\":[0.11609575316171658,0.21834517851940932,1.1016048703468998e-07,0.1612138032204542,0.36479043648808296,0.2583675636678422,0.17752411719683958,0.3041304385084745,0.284905997862291],\"yaxis\":\"y\",\"type\":\"histogram\"}],                        {\"template\":{\"data\":{\"barpolar\":[{\"marker\":{\"line\":{\"color\":\"white\",\"width\":0.5},\"pattern\":{\"fillmode\":\"overlay\",\"size\":10,\"solidity\":0.2}},\"type\":\"barpolar\"}],\"bar\":[{\"error_x\":{\"color\":\"#2a3f5f\"},\"error_y\":{\"color\":\"#2a3f5f\"},\"marker\":{\"line\":{\"color\":\"white\",\"width\":0.5},\"pattern\":{\"fillmode\":\"overlay\",\"size\":10,\"solidity\":0.2}},\"type\":\"bar\"}],\"carpet\":[{\"aaxis\":{\"endlinecolor\":\"#2a3f5f\",\"gridcolor\":\"#C8D4E3\",\"linecolor\":\"#C8D4E3\",\"minorgridcolor\":\"#C8D4E3\",\"startlinecolor\":\"#2a3f5f\"},\"baxis\":{\"endlinecolor\":\"#2a3f5f\",\"gridcolor\":\"#C8D4E3\",\"linecolor\":\"#C8D4E3\",\"minorgridcolor\":\"#C8D4E3\",\"startlinecolor\":\"#2a3f5f\"},\"type\":\"carpet\"}],\"choropleth\":[{\"colorbar\":{\"outlinewidth\":0,\"ticks\":\"\"},\"type\":\"choropleth\"}],\"contourcarpet\":[{\"colorbar\":{\"outlinewidth\":0,\"ticks\":\"\"},\"type\":\"contourcarpet\"}],\"contour\":[{\"colorbar\":{\"outlinewidth\":0,\"ticks\":\"\"},\"colorscale\":[[0.0,\"#0d0887\"],[0.1111111111111111,\"#46039f\"],[0.2222222222222222,\"#7201a8\"],[0.3333333333333333,\"#9c179e\"],[0.4444444444444444,\"#bd3786\"],[0.5555555555555556,\"#d8576b\"],[0.6666666666666666,\"#ed7953\"],[0.7777777777777778,\"#fb9f3a\"],[0.8888888888888888,\"#fdca26\"],[1.0,\"#f0f921\"]],\"type\":\"contour\"}],\"heatmapgl\":[{\"colorbar\":{\"outlinewidth\":0,\"ticks\":\"\"},\"colorscale\":[[0.0,\"#0d0887\"],[0.1111111111111111,\"#46039f\"],[0.2222222222222222,\"#7201a8\"],[0.3333333333333333,\"#9c179e\"],[0.4444444444444444,\"#bd3786\"],[0.5555555555555556,\"#d8576b\"],[0.6666666666666666,\"#ed7953\"],[0.7777777777777778,\"#fb9f3a\"],[0.8888888888888888,\"#fdca26\"],[1.0,\"#f0f921\"]],\"type\":\"heatmapgl\"}],\"heatmap\":[{\"colorbar\":{\"outlinewidth\":0,\"ticks\":\"\"},\"colorscale\":[[0.0,\"#0d0887\"],[0.1111111111111111,\"#46039f\"],[0.2222222222222222,\"#7201a8\"],[0.3333333333333333,\"#9c179e\"],[0.4444444444444444,\"#bd3786\"],[0.5555555555555556,\"#d8576b\"],[0.6666666666666666,\"#ed7953\"],[0.7777777777777778,\"#fb9f3a\"],[0.8888888888888888,\"#fdca26\"],[1.0,\"#f0f921\"]],\"type\":\"heatmap\"}],\"histogram2dcontour\":[{\"colorbar\":{\"outlinewidth\":0,\"ticks\":\"\"},\"colorscale\":[[0.0,\"#0d0887\"],[0.1111111111111111,\"#46039f\"],[0.2222222222222222,\"#7201a8\"],[0.3333333333333333,\"#9c179e\"],[0.4444444444444444,\"#bd3786\"],[0.5555555555555556,\"#d8576b\"],[0.6666666666666666,\"#ed7953\"],[0.7777777777777778,\"#fb9f3a\"],[0.8888888888888888,\"#fdca26\"],[1.0,\"#f0f921\"]],\"type\":\"histogram2dcontour\"}],\"histogram2d\":[{\"colorbar\":{\"outlinewidth\":0,\"ticks\":\"\"},\"colorscale\":[[0.0,\"#0d0887\"],[0.1111111111111111,\"#46039f\"],[0.2222222222222222,\"#7201a8\"],[0.3333333333333333,\"#9c179e\"],[0.4444444444444444,\"#bd3786\"],[0.5555555555555556,\"#d8576b\"],[0.6666666666666666,\"#ed7953\"],[0.7777777777777778,\"#fb9f3a\"],[0.8888888888888888,\"#fdca26\"],[1.0,\"#f0f921\"]],\"type\":\"histogram2d\"}],\"histogram\":[{\"marker\":{\"pattern\":{\"fillmode\":\"overlay\",\"size\":10,\"solidity\":0.2}},\"type\":\"histogram\"}],\"mesh3d\":[{\"colorbar\":{\"outlinewidth\":0,\"ticks\":\"\"},\"type\":\"mesh3d\"}],\"parcoords\":[{\"line\":{\"colorbar\":{\"outlinewidth\":0,\"ticks\":\"\"}},\"type\":\"parcoords\"}],\"pie\":[{\"automargin\":true,\"type\":\"pie\"}],\"scatter3d\":[{\"line\":{\"colorbar\":{\"outlinewidth\":0,\"ticks\":\"\"}},\"marker\":{\"colorbar\":{\"outlinewidth\":0,\"ticks\":\"\"}},\"type\":\"scatter3d\"}],\"scattercarpet\":[{\"marker\":{\"colorbar\":{\"outlinewidth\":0,\"ticks\":\"\"}},\"type\":\"scattercarpet\"}],\"scattergeo\":[{\"marker\":{\"colorbar\":{\"outlinewidth\":0,\"ticks\":\"\"}},\"type\":\"scattergeo\"}],\"scattergl\":[{\"marker\":{\"colorbar\":{\"outlinewidth\":0,\"ticks\":\"\"}},\"type\":\"scattergl\"}],\"scattermapbox\":[{\"marker\":{\"colorbar\":{\"outlinewidth\":0,\"ticks\":\"\"}},\"type\":\"scattermapbox\"}],\"scatterpolargl\":[{\"marker\":{\"colorbar\":{\"outlinewidth\":0,\"ticks\":\"\"}},\"type\":\"scatterpolargl\"}],\"scatterpolar\":[{\"marker\":{\"colorbar\":{\"outlinewidth\":0,\"ticks\":\"\"}},\"type\":\"scatterpolar\"}],\"scatter\":[{\"fillpattern\":{\"fillmode\":\"overlay\",\"size\":10,\"solidity\":0.2},\"type\":\"scatter\"}],\"scatterternary\":[{\"marker\":{\"colorbar\":{\"outlinewidth\":0,\"ticks\":\"\"}},\"type\":\"scatterternary\"}],\"surface\":[{\"colorbar\":{\"outlinewidth\":0,\"ticks\":\"\"},\"colorscale\":[[0.0,\"#0d0887\"],[0.1111111111111111,\"#46039f\"],[0.2222222222222222,\"#7201a8\"],[0.3333333333333333,\"#9c179e\"],[0.4444444444444444,\"#bd3786\"],[0.5555555555555556,\"#d8576b\"],[0.6666666666666666,\"#ed7953\"],[0.7777777777777778,\"#fb9f3a\"],[0.8888888888888888,\"#fdca26\"],[1.0,\"#f0f921\"]],\"type\":\"surface\"}],\"table\":[{\"cells\":{\"fill\":{\"color\":\"#EBF0F8\"},\"line\":{\"color\":\"white\"}},\"header\":{\"fill\":{\"color\":\"#C8D4E3\"},\"line\":{\"color\":\"white\"}},\"type\":\"table\"}]},\"layout\":{\"annotationdefaults\":{\"arrowcolor\":\"#2a3f5f\",\"arrowhead\":0,\"arrowwidth\":1},\"autotypenumbers\":\"strict\",\"coloraxis\":{\"colorbar\":{\"outlinewidth\":0,\"ticks\":\"\"}},\"colorscale\":{\"diverging\":[[0,\"#8e0152\"],[0.1,\"#c51b7d\"],[0.2,\"#de77ae\"],[0.3,\"#f1b6da\"],[0.4,\"#fde0ef\"],[0.5,\"#f7f7f7\"],[0.6,\"#e6f5d0\"],[0.7,\"#b8e186\"],[0.8,\"#7fbc41\"],[0.9,\"#4d9221\"],[1,\"#276419\"]],\"sequential\":[[0.0,\"#0d0887\"],[0.1111111111111111,\"#46039f\"],[0.2222222222222222,\"#7201a8\"],[0.3333333333333333,\"#9c179e\"],[0.4444444444444444,\"#bd3786\"],[0.5555555555555556,\"#d8576b\"],[0.6666666666666666,\"#ed7953\"],[0.7777777777777778,\"#fb9f3a\"],[0.8888888888888888,\"#fdca26\"],[1.0,\"#f0f921\"]],\"sequentialminus\":[[0.0,\"#0d0887\"],[0.1111111111111111,\"#46039f\"],[0.2222222222222222,\"#7201a8\"],[0.3333333333333333,\"#9c179e\"],[0.4444444444444444,\"#bd3786\"],[0.5555555555555556,\"#d8576b\"],[0.6666666666666666,\"#ed7953\"],[0.7777777777777778,\"#fb9f3a\"],[0.8888888888888888,\"#fdca26\"],[1.0,\"#f0f921\"]]},\"colorway\":[\"#636efa\",\"#EF553B\",\"#00cc96\",\"#ab63fa\",\"#FFA15A\",\"#19d3f3\",\"#FF6692\",\"#B6E880\",\"#FF97FF\",\"#FECB52\"],\"font\":{\"color\":\"#2a3f5f\"},\"geo\":{\"bgcolor\":\"white\",\"lakecolor\":\"white\",\"landcolor\":\"white\",\"showlakes\":true,\"showland\":true,\"subunitcolor\":\"#C8D4E3\"},\"hoverlabel\":{\"align\":\"left\"},\"hovermode\":\"closest\",\"mapbox\":{\"style\":\"light\"},\"paper_bgcolor\":\"white\",\"plot_bgcolor\":\"white\",\"polar\":{\"angularaxis\":{\"gridcolor\":\"#EBF0F8\",\"linecolor\":\"#EBF0F8\",\"ticks\":\"\"},\"bgcolor\":\"white\",\"radialaxis\":{\"gridcolor\":\"#EBF0F8\",\"linecolor\":\"#EBF0F8\",\"ticks\":\"\"}},\"scene\":{\"xaxis\":{\"backgroundcolor\":\"white\",\"gridcolor\":\"#DFE8F3\",\"gridwidth\":2,\"linecolor\":\"#EBF0F8\",\"showbackground\":true,\"ticks\":\"\",\"zerolinecolor\":\"#EBF0F8\"},\"yaxis\":{\"backgroundcolor\":\"white\",\"gridcolor\":\"#DFE8F3\",\"gridwidth\":2,\"linecolor\":\"#EBF0F8\",\"showbackground\":true,\"ticks\":\"\",\"zerolinecolor\":\"#EBF0F8\"},\"zaxis\":{\"backgroundcolor\":\"white\",\"gridcolor\":\"#DFE8F3\",\"gridwidth\":2,\"linecolor\":\"#EBF0F8\",\"showbackground\":true,\"ticks\":\"\",\"zerolinecolor\":\"#EBF0F8\"}},\"shapedefaults\":{\"line\":{\"color\":\"#2a3f5f\"}},\"ternary\":{\"aaxis\":{\"gridcolor\":\"#DFE8F3\",\"linecolor\":\"#A2B1C6\",\"ticks\":\"\"},\"baxis\":{\"gridcolor\":\"#DFE8F3\",\"linecolor\":\"#A2B1C6\",\"ticks\":\"\"},\"bgcolor\":\"white\",\"caxis\":{\"gridcolor\":\"#DFE8F3\",\"linecolor\":\"#A2B1C6\",\"ticks\":\"\"}},\"title\":{\"x\":0.05},\"xaxis\":{\"automargin\":true,\"gridcolor\":\"#EBF0F8\",\"linecolor\":\"#EBF0F8\",\"ticks\":\"\",\"title\":{\"standoff\":15},\"zerolinecolor\":\"#EBF0F8\",\"zerolinewidth\":2},\"yaxis\":{\"automargin\":true,\"gridcolor\":\"#EBF0F8\",\"linecolor\":\"#EBF0F8\",\"ticks\":\"\",\"title\":{\"standoff\":15},\"zerolinecolor\":\"#EBF0F8\",\"zerolinewidth\":2}}},\"xaxis\":{\"anchor\":\"y\",\"domain\":[0.0,1.0],\"title\":{\"text\":\"Pa\\u00eds\"}},\"yaxis\":{\"anchor\":\"x\",\"domain\":[0.0,1.0],\"title\":{\"text\":\"Proporci\\u00f3n de las ventas\"}},\"legend\":{\"title\":{\"text\":\"Marca\"},\"tracegroupgap\":0},\"title\":{\"text\":\"Distribuci\\u00f3n de ventas realizadas por pa\\u00eds\"},\"barmode\":\"relative\",\"height\":700,\"width\":1100,\"font\":{\"family\":\"Arial\",\"size\":12},\"bargap\":0.4},                        {\"responsive\": true}                    ).then(function(){\n",
              "                            \n",
              "var gd = document.getElementById('3e55922b-84e1-4bd9-b3e5-3958de79d2e0');\n",
              "var x = new MutationObserver(function (mutations, observer) {{\n",
              "        var display = window.getComputedStyle(gd).display;\n",
              "        if (!display || display === 'none') {{\n",
              "            console.log([gd, 'removed!']);\n",
              "            Plotly.purge(gd);\n",
              "            observer.disconnect();\n",
              "        }}\n",
              "}});\n",
              "\n",
              "// Listen for the removal of the full notebook cells\n",
              "var notebookContainer = gd.closest('#notebook-container');\n",
              "if (notebookContainer) {{\n",
              "    x.observe(notebookContainer, {childList: true});\n",
              "}}\n",
              "\n",
              "// Listen for the clearing of the current output cell\n",
              "var outputEl = gd.closest('.output');\n",
              "if (outputEl) {{\n",
              "    x.observe(outputEl, {childList: true});\n",
              "}}\n",
              "\n",
              "                        })                };                            </script>        </div>\n",
              "</body>\n",
              "</html>"
            ]
          },
          "metadata": {}
        }
      ]
    },
    {
      "cell_type": "code",
      "source": [
        "data['copia_Marca'] = data['SUBBRAND']\n",
        "Marca = data[data['SCENARIO'] == 'actual'].groupby('copia_Marca').apply(lambda x: x.sort_values(['YEAR', 'MONTH']),\n",
        "       include_groups=False).reset_index(drop=True)\n",
        "Marca.drop(columns=['COUNTRY','SCENARIO','FORECAST', 'FORECAST_YEAR'], inplace=True)\n",
        "data.drop(columns=['copia_Marca'], inplace=True)\n",
        "print(Marca)"
      ],
      "metadata": {
        "colab": {
          "base_uri": "https://localhost:8080/"
        },
        "id": "H0Ag8E-u22be",
        "outputId": "ea6a3401-a3a4-45e3-c13e-1d98719dfb9f"
      },
      "execution_count": 113,
      "outputs": [
        {
          "output_type": "stream",
          "name": "stdout",
          "text": [
            "               SUBBRAND  YEAR  MONTH        AMOUNT\n",
            "0              7up (L3)  2023      1  7.897200e+19\n",
            "1              7up (L3)  2023      1  2.503220e+21\n",
            "2              7up (L3)  2023      1  1.485700e+20\n",
            "3              7up (L3)  2023      1  1.221620e+21\n",
            "4              7up (L3)  2023      1  1.068160e+21\n",
            "..                  ...   ...    ...           ...\n",
            "895  Pepsi Regular (L3)  2024      8  2.132090e+20\n",
            "896  Pepsi Regular (L3)  2024      8  9.817880e+19\n",
            "897  Pepsi Regular (L3)  2024      8  2.035190e+20\n",
            "898  Pepsi Regular (L3)  2024      8  3.761880e+19\n",
            "899  Pepsi Regular (L3)  2024      8  9.852900e+18\n",
            "\n",
            "[900 rows x 4 columns]\n"
          ]
        }
      ]
    },
    {
      "cell_type": "markdown",
      "source": [
        "# Distriución de ventas según mes y año."
      ],
      "metadata": {
        "id": "GhwDlBnn9n5K"
      }
    },
    {
      "cell_type": "code",
      "source": [],
      "metadata": {
        "id": "B-G-lx3J9nYm"
      },
      "execution_count": null,
      "outputs": []
    }
  ]
}