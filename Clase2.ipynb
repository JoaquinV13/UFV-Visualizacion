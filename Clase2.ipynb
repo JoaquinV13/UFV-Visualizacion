{
  "nbformat": 4,
  "nbformat_minor": 0,
  "metadata": {
    "colab": {
      "provenance": [],
      "collapsed_sections": [
        "Rtuod07A2EhM",
        "GhwDlBnn9n5K",
        "bazuzxs7A6O5"
      ],
      "mount_file_id": "1VwLKSkvRTceijPBxYHaYLqGTmsrYnkyD",
      "authorship_tag": "ABX9TyO8Uu1iMftSFlKR7z7/vept",
      "include_colab_link": true
    },
    "kernelspec": {
      "name": "python3",
      "display_name": "Python 3"
    },
    "language_info": {
      "name": "python"
    }
  },
  "cells": [
    {
      "cell_type": "markdown",
      "metadata": {
        "id": "view-in-github",
        "colab_type": "text"
      },
      "source": [
        "<a href=\"https://colab.research.google.com/github/JoaquinV13/UFV-Visualizacion/blob/main/Clase2.ipynb\" target=\"_parent\"><img src=\"https://colab.research.google.com/assets/colab-badge.svg\" alt=\"Open In Colab\"/></a>"
      ]
    },
    {
      "cell_type": "code",
      "source": [
        "pip install plotly_express"
      ],
      "metadata": {
        "colab": {
          "base_uri": "https://localhost:8080/"
        },
        "id": "N-Qne7aZCjPQ",
        "outputId": "8124af2f-3019-41e1-8f62-9ce068085d9a",
        "collapsed": true
      },
      "execution_count": null,
      "outputs": [
        {
          "output_type": "stream",
          "name": "stdout",
          "text": [
            "Collecting plotly_express\n",
            "  Downloading plotly_express-0.4.1-py2.py3-none-any.whl.metadata (1.7 kB)\n",
            "Requirement already satisfied: pandas>=0.20.0 in /usr/local/lib/python3.10/dist-packages (from plotly_express) (2.2.2)\n",
            "Requirement already satisfied: plotly>=4.1.0 in /usr/local/lib/python3.10/dist-packages (from plotly_express) (5.24.1)\n",
            "Requirement already satisfied: statsmodels>=0.9.0 in /usr/local/lib/python3.10/dist-packages (from plotly_express) (0.14.4)\n",
            "Requirement already satisfied: scipy>=0.18 in /usr/local/lib/python3.10/dist-packages (from plotly_express) (1.13.1)\n",
            "Requirement already satisfied: patsy>=0.5 in /usr/local/lib/python3.10/dist-packages (from plotly_express) (0.5.6)\n",
            "Requirement already satisfied: numpy>=1.11 in /usr/local/lib/python3.10/dist-packages (from plotly_express) (1.26.4)\n",
            "Requirement already satisfied: python-dateutil>=2.8.2 in /usr/local/lib/python3.10/dist-packages (from pandas>=0.20.0->plotly_express) (2.8.2)\n",
            "Requirement already satisfied: pytz>=2020.1 in /usr/local/lib/python3.10/dist-packages (from pandas>=0.20.0->plotly_express) (2024.2)\n",
            "Requirement already satisfied: tzdata>=2022.7 in /usr/local/lib/python3.10/dist-packages (from pandas>=0.20.0->plotly_express) (2024.2)\n",
            "Requirement already satisfied: six in /usr/local/lib/python3.10/dist-packages (from patsy>=0.5->plotly_express) (1.16.0)\n",
            "Requirement already satisfied: tenacity>=6.2.0 in /usr/local/lib/python3.10/dist-packages (from plotly>=4.1.0->plotly_express) (9.0.0)\n",
            "Requirement already satisfied: packaging in /usr/local/lib/python3.10/dist-packages (from plotly>=4.1.0->plotly_express) (24.1)\n",
            "Downloading plotly_express-0.4.1-py2.py3-none-any.whl (2.9 kB)\n",
            "Installing collected packages: plotly_express\n",
            "Successfully installed plotly_express-0.4.1\n"
          ]
        }
      ]
    },
    {
      "cell_type": "code",
      "execution_count": null,
      "metadata": {
        "id": "nEo8qHW06ram"
      },
      "outputs": [],
      "source": [
        "import plotly_express as px\n",
        "import pandas as pd\n",
        "import numpy as np\n",
        "import re\n",
        "import plotly.graph_objects as go\n",
        "from google.colab import drive\n",
        "from statsmodels.tsa.seasonal import seasonal_decompose"
      ]
    },
    {
      "cell_type": "code",
      "source": [
        "drive.mount('/content/drive/')\n",
        "data = pd.read_csv('/content/drive/MyDrive/Colab/datos_ejercicio_ventas.csv',sep=',')"
      ],
      "metadata": {
        "colab": {
          "base_uri": "https://localhost:8080/"
        },
        "id": "YKirc1KWELxX",
        "outputId": "620306d6-af41-40db-8168-5724033b1ea1",
        "collapsed": true
      },
      "execution_count": null,
      "outputs": [
        {
          "output_type": "stream",
          "name": "stdout",
          "text": [
            "Drive already mounted at /content/drive/; to attempt to forcibly remount, call drive.mount(\"/content/drive/\", force_remount=True).\n"
          ]
        }
      ]
    },
    {
      "cell_type": "code",
      "source": [
        "# Visualizamos los datos.\n",
        "data.head()"
      ],
      "metadata": {
        "colab": {
          "base_uri": "https://localhost:8080/",
          "height": 204
        },
        "id": "zL8J3lpGFmJc",
        "outputId": "b3a63bfc-8513-4a4c-9c41-49c713563d51",
        "collapsed": true
      },
      "execution_count": null,
      "outputs": [
        {
          "output_type": "execute_result",
          "data": {
            "text/plain": [
              "         COUNTRY        SUBBRAND  YEAR  MONTH     SCENARIO FORECAST  \\\n",
              "0       Portugal     Lipton (L3)  2023     12  AI_forecast  AI_P02F   \n",
              "1  Great Britain     Lipton (L3)  2023     12  AI_forecast  AI_P10F   \n",
              "2          Spain  Pepsi Max (L3)  2023     12  AI_forecast  AI_P09F   \n",
              "3  Great Britain        7up (L3)  2024     12  AI_forecast  AI_P10F   \n",
              "4        Hungary     Lipton (L3)  2023      9  AI_forecast  AI_P03F   \n",
              "\n",
              "   FORECAST_YEAR         AMOUNT  \n",
              "0         2023.0  754356.237194  \n",
              "1         2023.0  560030.558029  \n",
              "2         2023.0   88501.980847  \n",
              "3         2023.0  363224.511516  \n",
              "4         2023.0  396176.120491  "
            ],
            "text/html": [
              "\n",
              "  <div id=\"df-e3097c28-c8b4-48fb-8ba6-e12a7687adf8\" class=\"colab-df-container\">\n",
              "    <div>\n",
              "<style scoped>\n",
              "    .dataframe tbody tr th:only-of-type {\n",
              "        vertical-align: middle;\n",
              "    }\n",
              "\n",
              "    .dataframe tbody tr th {\n",
              "        vertical-align: top;\n",
              "    }\n",
              "\n",
              "    .dataframe thead th {\n",
              "        text-align: right;\n",
              "    }\n",
              "</style>\n",
              "<table border=\"1\" class=\"dataframe\">\n",
              "  <thead>\n",
              "    <tr style=\"text-align: right;\">\n",
              "      <th></th>\n",
              "      <th>COUNTRY</th>\n",
              "      <th>SUBBRAND</th>\n",
              "      <th>YEAR</th>\n",
              "      <th>MONTH</th>\n",
              "      <th>SCENARIO</th>\n",
              "      <th>FORECAST</th>\n",
              "      <th>FORECAST_YEAR</th>\n",
              "      <th>AMOUNT</th>\n",
              "    </tr>\n",
              "  </thead>\n",
              "  <tbody>\n",
              "    <tr>\n",
              "      <th>0</th>\n",
              "      <td>Portugal</td>\n",
              "      <td>Lipton (L3)</td>\n",
              "      <td>2023</td>\n",
              "      <td>12</td>\n",
              "      <td>AI_forecast</td>\n",
              "      <td>AI_P02F</td>\n",
              "      <td>2023.0</td>\n",
              "      <td>754356.237194</td>\n",
              "    </tr>\n",
              "    <tr>\n",
              "      <th>1</th>\n",
              "      <td>Great Britain</td>\n",
              "      <td>Lipton (L3)</td>\n",
              "      <td>2023</td>\n",
              "      <td>12</td>\n",
              "      <td>AI_forecast</td>\n",
              "      <td>AI_P10F</td>\n",
              "      <td>2023.0</td>\n",
              "      <td>560030.558029</td>\n",
              "    </tr>\n",
              "    <tr>\n",
              "      <th>2</th>\n",
              "      <td>Spain</td>\n",
              "      <td>Pepsi Max (L3)</td>\n",
              "      <td>2023</td>\n",
              "      <td>12</td>\n",
              "      <td>AI_forecast</td>\n",
              "      <td>AI_P09F</td>\n",
              "      <td>2023.0</td>\n",
              "      <td>88501.980847</td>\n",
              "    </tr>\n",
              "    <tr>\n",
              "      <th>3</th>\n",
              "      <td>Great Britain</td>\n",
              "      <td>7up (L3)</td>\n",
              "      <td>2024</td>\n",
              "      <td>12</td>\n",
              "      <td>AI_forecast</td>\n",
              "      <td>AI_P10F</td>\n",
              "      <td>2023.0</td>\n",
              "      <td>363224.511516</td>\n",
              "    </tr>\n",
              "    <tr>\n",
              "      <th>4</th>\n",
              "      <td>Hungary</td>\n",
              "      <td>Lipton (L3)</td>\n",
              "      <td>2023</td>\n",
              "      <td>9</td>\n",
              "      <td>AI_forecast</td>\n",
              "      <td>AI_P03F</td>\n",
              "      <td>2023.0</td>\n",
              "      <td>396176.120491</td>\n",
              "    </tr>\n",
              "  </tbody>\n",
              "</table>\n",
              "</div>\n",
              "    <div class=\"colab-df-buttons\">\n",
              "\n",
              "  <div class=\"colab-df-container\">\n",
              "    <button class=\"colab-df-convert\" onclick=\"convertToInteractive('df-e3097c28-c8b4-48fb-8ba6-e12a7687adf8')\"\n",
              "            title=\"Convert this dataframe to an interactive table.\"\n",
              "            style=\"display:none;\">\n",
              "\n",
              "  <svg xmlns=\"http://www.w3.org/2000/svg\" height=\"24px\" viewBox=\"0 -960 960 960\">\n",
              "    <path d=\"M120-120v-720h720v720H120Zm60-500h600v-160H180v160Zm220 220h160v-160H400v160Zm0 220h160v-160H400v160ZM180-400h160v-160H180v160Zm440 0h160v-160H620v160ZM180-180h160v-160H180v160Zm440 0h160v-160H620v160Z\"/>\n",
              "  </svg>\n",
              "    </button>\n",
              "\n",
              "  <style>\n",
              "    .colab-df-container {\n",
              "      display:flex;\n",
              "      gap: 12px;\n",
              "    }\n",
              "\n",
              "    .colab-df-convert {\n",
              "      background-color: #E8F0FE;\n",
              "      border: none;\n",
              "      border-radius: 50%;\n",
              "      cursor: pointer;\n",
              "      display: none;\n",
              "      fill: #1967D2;\n",
              "      height: 32px;\n",
              "      padding: 0 0 0 0;\n",
              "      width: 32px;\n",
              "    }\n",
              "\n",
              "    .colab-df-convert:hover {\n",
              "      background-color: #E2EBFA;\n",
              "      box-shadow: 0px 1px 2px rgba(60, 64, 67, 0.3), 0px 1px 3px 1px rgba(60, 64, 67, 0.15);\n",
              "      fill: #174EA6;\n",
              "    }\n",
              "\n",
              "    .colab-df-buttons div {\n",
              "      margin-bottom: 4px;\n",
              "    }\n",
              "\n",
              "    [theme=dark] .colab-df-convert {\n",
              "      background-color: #3B4455;\n",
              "      fill: #D2E3FC;\n",
              "    }\n",
              "\n",
              "    [theme=dark] .colab-df-convert:hover {\n",
              "      background-color: #434B5C;\n",
              "      box-shadow: 0px 1px 3px 1px rgba(0, 0, 0, 0.15);\n",
              "      filter: drop-shadow(0px 1px 2px rgba(0, 0, 0, 0.3));\n",
              "      fill: #FFFFFF;\n",
              "    }\n",
              "  </style>\n",
              "\n",
              "    <script>\n",
              "      const buttonEl =\n",
              "        document.querySelector('#df-e3097c28-c8b4-48fb-8ba6-e12a7687adf8 button.colab-df-convert');\n",
              "      buttonEl.style.display =\n",
              "        google.colab.kernel.accessAllowed ? 'block' : 'none';\n",
              "\n",
              "      async function convertToInteractive(key) {\n",
              "        const element = document.querySelector('#df-e3097c28-c8b4-48fb-8ba6-e12a7687adf8');\n",
              "        const dataTable =\n",
              "          await google.colab.kernel.invokeFunction('convertToInteractive',\n",
              "                                                    [key], {});\n",
              "        if (!dataTable) return;\n",
              "\n",
              "        const docLinkHtml = 'Like what you see? Visit the ' +\n",
              "          '<a target=\"_blank\" href=https://colab.research.google.com/notebooks/data_table.ipynb>data table notebook</a>'\n",
              "          + ' to learn more about interactive tables.';\n",
              "        element.innerHTML = '';\n",
              "        dataTable['output_type'] = 'display_data';\n",
              "        await google.colab.output.renderOutput(dataTable, element);\n",
              "        const docLink = document.createElement('div');\n",
              "        docLink.innerHTML = docLinkHtml;\n",
              "        element.appendChild(docLink);\n",
              "      }\n",
              "    </script>\n",
              "  </div>\n",
              "\n",
              "\n",
              "<div id=\"df-45f00496-0c69-473a-9ed3-bd0d04dc4d3a\">\n",
              "  <button class=\"colab-df-quickchart\" onclick=\"quickchart('df-45f00496-0c69-473a-9ed3-bd0d04dc4d3a')\"\n",
              "            title=\"Suggest charts\"\n",
              "            style=\"display:none;\">\n",
              "\n",
              "<svg xmlns=\"http://www.w3.org/2000/svg\" height=\"24px\"viewBox=\"0 0 24 24\"\n",
              "     width=\"24px\">\n",
              "    <g>\n",
              "        <path d=\"M19 3H5c-1.1 0-2 .9-2 2v14c0 1.1.9 2 2 2h14c1.1 0 2-.9 2-2V5c0-1.1-.9-2-2-2zM9 17H7v-7h2v7zm4 0h-2V7h2v10zm4 0h-2v-4h2v4z\"/>\n",
              "    </g>\n",
              "</svg>\n",
              "  </button>\n",
              "\n",
              "<style>\n",
              "  .colab-df-quickchart {\n",
              "      --bg-color: #E8F0FE;\n",
              "      --fill-color: #1967D2;\n",
              "      --hover-bg-color: #E2EBFA;\n",
              "      --hover-fill-color: #174EA6;\n",
              "      --disabled-fill-color: #AAA;\n",
              "      --disabled-bg-color: #DDD;\n",
              "  }\n",
              "\n",
              "  [theme=dark] .colab-df-quickchart {\n",
              "      --bg-color: #3B4455;\n",
              "      --fill-color: #D2E3FC;\n",
              "      --hover-bg-color: #434B5C;\n",
              "      --hover-fill-color: #FFFFFF;\n",
              "      --disabled-bg-color: #3B4455;\n",
              "      --disabled-fill-color: #666;\n",
              "  }\n",
              "\n",
              "  .colab-df-quickchart {\n",
              "    background-color: var(--bg-color);\n",
              "    border: none;\n",
              "    border-radius: 50%;\n",
              "    cursor: pointer;\n",
              "    display: none;\n",
              "    fill: var(--fill-color);\n",
              "    height: 32px;\n",
              "    padding: 0;\n",
              "    width: 32px;\n",
              "  }\n",
              "\n",
              "  .colab-df-quickchart:hover {\n",
              "    background-color: var(--hover-bg-color);\n",
              "    box-shadow: 0 1px 2px rgba(60, 64, 67, 0.3), 0 1px 3px 1px rgba(60, 64, 67, 0.15);\n",
              "    fill: var(--button-hover-fill-color);\n",
              "  }\n",
              "\n",
              "  .colab-df-quickchart-complete:disabled,\n",
              "  .colab-df-quickchart-complete:disabled:hover {\n",
              "    background-color: var(--disabled-bg-color);\n",
              "    fill: var(--disabled-fill-color);\n",
              "    box-shadow: none;\n",
              "  }\n",
              "\n",
              "  .colab-df-spinner {\n",
              "    border: 2px solid var(--fill-color);\n",
              "    border-color: transparent;\n",
              "    border-bottom-color: var(--fill-color);\n",
              "    animation:\n",
              "      spin 1s steps(1) infinite;\n",
              "  }\n",
              "\n",
              "  @keyframes spin {\n",
              "    0% {\n",
              "      border-color: transparent;\n",
              "      border-bottom-color: var(--fill-color);\n",
              "      border-left-color: var(--fill-color);\n",
              "    }\n",
              "    20% {\n",
              "      border-color: transparent;\n",
              "      border-left-color: var(--fill-color);\n",
              "      border-top-color: var(--fill-color);\n",
              "    }\n",
              "    30% {\n",
              "      border-color: transparent;\n",
              "      border-left-color: var(--fill-color);\n",
              "      border-top-color: var(--fill-color);\n",
              "      border-right-color: var(--fill-color);\n",
              "    }\n",
              "    40% {\n",
              "      border-color: transparent;\n",
              "      border-right-color: var(--fill-color);\n",
              "      border-top-color: var(--fill-color);\n",
              "    }\n",
              "    60% {\n",
              "      border-color: transparent;\n",
              "      border-right-color: var(--fill-color);\n",
              "    }\n",
              "    80% {\n",
              "      border-color: transparent;\n",
              "      border-right-color: var(--fill-color);\n",
              "      border-bottom-color: var(--fill-color);\n",
              "    }\n",
              "    90% {\n",
              "      border-color: transparent;\n",
              "      border-bottom-color: var(--fill-color);\n",
              "    }\n",
              "  }\n",
              "</style>\n",
              "\n",
              "  <script>\n",
              "    async function quickchart(key) {\n",
              "      const quickchartButtonEl =\n",
              "        document.querySelector('#' + key + ' button');\n",
              "      quickchartButtonEl.disabled = true;  // To prevent multiple clicks.\n",
              "      quickchartButtonEl.classList.add('colab-df-spinner');\n",
              "      try {\n",
              "        const charts = await google.colab.kernel.invokeFunction(\n",
              "            'suggestCharts', [key], {});\n",
              "      } catch (error) {\n",
              "        console.error('Error during call to suggestCharts:', error);\n",
              "      }\n",
              "      quickchartButtonEl.classList.remove('colab-df-spinner');\n",
              "      quickchartButtonEl.classList.add('colab-df-quickchart-complete');\n",
              "    }\n",
              "    (() => {\n",
              "      let quickchartButtonEl =\n",
              "        document.querySelector('#df-45f00496-0c69-473a-9ed3-bd0d04dc4d3a button');\n",
              "      quickchartButtonEl.style.display =\n",
              "        google.colab.kernel.accessAllowed ? 'block' : 'none';\n",
              "    })();\n",
              "  </script>\n",
              "</div>\n",
              "\n",
              "    </div>\n",
              "  </div>\n"
            ],
            "application/vnd.google.colaboratory.intrinsic+json": {
              "type": "dataframe",
              "variable_name": "data",
              "summary": "{\n  \"name\": \"data\",\n  \"rows\": 18666,\n  \"fields\": [\n    {\n      \"column\": \"COUNTRY\",\n      \"properties\": {\n        \"dtype\": \"category\",\n        \"num_unique_values\": 9,\n        \"samples\": [\n          \"Italy\",\n          \"Great Britain\",\n          \"Denmark\"\n        ],\n        \"semantic_type\": \"\",\n        \"description\": \"\"\n      }\n    },\n    {\n      \"column\": \"SUBBRAND\",\n      \"properties\": {\n        \"dtype\": \"category\",\n        \"num_unique_values\": 6,\n        \"samples\": [\n          \"Lipton (L3)\",\n          \"Pepsi Max (L3)\",\n          \"7up Free (L3)\"\n        ],\n        \"semantic_type\": \"\",\n        \"description\": \"\"\n      }\n    },\n    {\n      \"column\": \"YEAR\",\n      \"properties\": {\n        \"dtype\": \"number\",\n        \"std\": 0,\n        \"min\": 2023,\n        \"max\": 2025,\n        \"num_unique_values\": 3,\n        \"samples\": [\n          2023,\n          2024,\n          2025\n        ],\n        \"semantic_type\": \"\",\n        \"description\": \"\"\n      }\n    },\n    {\n      \"column\": \"MONTH\",\n      \"properties\": {\n        \"dtype\": \"number\",\n        \"std\": 3,\n        \"min\": 1,\n        \"max\": 12,\n        \"num_unique_values\": 12,\n        \"samples\": [\n          5,\n          3,\n          12\n        ],\n        \"semantic_type\": \"\",\n        \"description\": \"\"\n      }\n    },\n    {\n      \"column\": \"SCENARIO\",\n      \"properties\": {\n        \"dtype\": \"category\",\n        \"num_unique_values\": 2,\n        \"samples\": [\n          \"actual\",\n          \"AI_forecast\"\n        ],\n        \"semantic_type\": \"\",\n        \"description\": \"\"\n      }\n    },\n    {\n      \"column\": \"FORECAST\",\n      \"properties\": {\n        \"dtype\": \"category\",\n        \"num_unique_values\": 12,\n        \"samples\": [\n          \"AI_P08F\",\n          \"AI_P12F\"\n        ],\n        \"semantic_type\": \"\",\n        \"description\": \"\"\n      }\n    },\n    {\n      \"column\": \"FORECAST_YEAR\",\n      \"properties\": {\n        \"dtype\": \"number\",\n        \"std\": 0.0,\n        \"min\": 2023.0,\n        \"max\": 2023.0,\n        \"num_unique_values\": 1,\n        \"samples\": [\n          2023.0\n        ],\n        \"semantic_type\": \"\",\n        \"description\": \"\"\n      }\n    },\n    {\n      \"column\": \"AMOUNT\",\n      \"properties\": {\n        \"dtype\": \"number\",\n        \"std\": 1915283.448382496,\n        \"min\": -217120.10313272703,\n        \"max\": 14815628.237867463,\n        \"num_unique_values\": 17121,\n        \"samples\": [\n          2568883.4881238216\n        ],\n        \"semantic_type\": \"\",\n        \"description\": \"\"\n      }\n    }\n  ]\n}"
            }
          },
          "metadata": {},
          "execution_count": 5
        }
      ]
    },
    {
      "cell_type": "code",
      "source": [
        "# Tipos de datos.\n",
        "data.info()"
      ],
      "metadata": {
        "colab": {
          "base_uri": "https://localhost:8080/"
        },
        "id": "5FvKMTwaGYKc",
        "outputId": "3f89c58b-168b-4f05-81b4-330dc0449ff6"
      },
      "execution_count": null,
      "outputs": [
        {
          "output_type": "stream",
          "name": "stdout",
          "text": [
            "<class 'pandas.core.frame.DataFrame'>\n",
            "RangeIndex: 18666 entries, 0 to 18665\n",
            "Data columns (total 8 columns):\n",
            " #   Column         Non-Null Count  Dtype  \n",
            "---  ------         --------------  -----  \n",
            " 0   COUNTRY        18666 non-null  object \n",
            " 1   SUBBRAND       18666 non-null  object \n",
            " 2   YEAR           18666 non-null  int64  \n",
            " 3   MONTH          18666 non-null  int64  \n",
            " 4   SCENARIO       18666 non-null  object \n",
            " 5   FORECAST       17766 non-null  object \n",
            " 6   FORECAST_YEAR  17766 non-null  float64\n",
            " 7   AMOUNT         18666 non-null  float64\n",
            "dtypes: float64(2), int64(2), object(4)\n",
            "memory usage: 1.1+ MB\n"
          ]
        }
      ]
    },
    {
      "cell_type": "code",
      "source": [
        "# Número de 'Actuals' y 'AI_forecast'.\n",
        "actuals = (sum(data['SCENARIO']=='actual'))\n",
        "forecast = (sum(data['SCENARIO']=='AI_forecast'))\n",
        "print('Número de Actuals:',actuals)\n",
        "print('Número de Forecasts:',forecast)"
      ],
      "metadata": {
        "colab": {
          "base_uri": "https://localhost:8080/"
        },
        "id": "9iBaa1nYGyAB",
        "outputId": "2f85bb19-887c-4590-af62-8b05f1b19fa1",
        "collapsed": true
      },
      "execution_count": null,
      "outputs": [
        {
          "output_type": "stream",
          "name": "stdout",
          "text": [
            "Número de Actuals: 900\n",
            "Número de Forecasts: 17766\n"
          ]
        }
      ]
    },
    {
      "cell_type": "code",
      "source": [
        "# Número de regustros de cada marca por país.\n",
        "tabla_pivot = data.pivot_table(index='COUNTRY', columns='SUBBRAND', aggfunc='size', fill_value=0)\n",
        "\n",
        "# Agregar una columna con el total de registros por país.\n",
        "tabla_pivot['Total'] = tabla_pivot.sum(axis=1)\n",
        "print(tabla_pivot)"
      ],
      "metadata": {
        "colab": {
          "base_uri": "https://localhost:8080/"
        },
        "id": "0YEGltkZeFe-",
        "outputId": "b6d3e34b-6a25-4b1e-be4c-4b4443f5ceab"
      },
      "execution_count": null,
      "outputs": [
        {
          "output_type": "stream",
          "name": "stdout",
          "text": [
            "SUBBRAND       7up (L3)  7up Free (L3)  Lipton (L3)  Mountain Dew (L3)  \\\n",
            "COUNTRY                                                                  \n",
            "Czech               236              7          236                236   \n",
            "Denmark             216            236            0                236   \n",
            "Great Britain       794            758          830                542   \n",
            "Hungary             268            236          452                236   \n",
            "Italy               236              0            0                  0   \n",
            "Netherlands         236            236          452                216   \n",
            "Norway              236            236          252                236   \n",
            "Portugal            236            236          235                  0   \n",
            "Spain               236            398          236                  0   \n",
            "\n",
            "SUBBRAND       Pepsi Max (L3)  Pepsi Regular (L3)  Total  \n",
            "COUNTRY                                                   \n",
            "Czech                     236                 452   1403  \n",
            "Denmark                  1280                 326   2294  \n",
            "Great Britain             542                 542   4008  \n",
            "Hungary                   740                 452   2384  \n",
            "Italy                     236                 236    708  \n",
            "Netherlands               884                 452   2476  \n",
            "Norway                    722                 380   2062  \n",
            "Portugal                  236                 236   1179  \n",
            "Spain                     722                 560   2152  \n"
          ]
        }
      ]
    },
    {
      "cell_type": "code",
      "source": [
        "# Todos los datos del dataset tiene el mismo horizonte de previsión. Calculamos\n",
        "# el de uno, sabemos el de todos.\n",
        "data_1 = data[(data['FORECAST_YEAR']==2023) & (data['FORECAST']=='AI_P02F') & (data['COUNTRY']=='Portugal') & (data['SCENARIO']=='AI_forecast') & (data['SUBBRAND']=='Lipton (L3)')]\n",
        "print(len(data_1))"
      ],
      "metadata": {
        "colab": {
          "base_uri": "https://localhost:8080/"
        },
        "id": "rq9abfWtJKWj",
        "outputId": "b48a27c8-a4b7-421f-d331-32c20e1d599f",
        "collapsed": true
      },
      "execution_count": null,
      "outputs": [
        {
          "output_type": "stream",
          "name": "stdout",
          "text": [
            "18\n"
          ]
        }
      ]
    },
    {
      "cell_type": "code",
      "source": [
        "# Comprobamos la cantidad de forecasts distintos que hay. Contando las diferentes\n",
        "# fechas de inicio de un forecast.\n",
        "\n",
        "data[(data['SCENARIO']=='AI_forecast')].loc[:, ['FORECAST_YEAR', 'FORECAST']].drop_duplicates().shape[0]"
      ],
      "metadata": {
        "colab": {
          "base_uri": "https://localhost:8080/"
        },
        "collapsed": true,
        "id": "aG5o8IKd4EG8",
        "outputId": "37167f6f-ea55-4f3f-f104-d3eea40144f4"
      },
      "execution_count": null,
      "outputs": [
        {
          "output_type": "execute_result",
          "data": {
            "text/plain": [
              "12"
            ]
          },
          "metadata": {},
          "execution_count": 10
        }
      ]
    },
    {
      "cell_type": "markdown",
      "source": [
        "Vemos que la cantidad de forecast distintos es 12 pero, ¿esto es igual para todos los productos de cada país?"
      ],
      "metadata": {
        "id": "z_5QiiRk7wgK"
      }
    },
    {
      "cell_type": "code",
      "source": [
        "# Comprobamos que para cada producto de cada país se han hecho 12 estudios\n",
        "# predicitivos teniendo en cuenta la fecha de inicio de la predicción.\n",
        "\n",
        "Pais_producto = data[(data['SCENARIO']=='AI_forecast')].groupby(['COUNTRY','SUBBRAND'])\n",
        "\n",
        "# Contar los valores únicos de la combinación de 'Year' y 'caca'\n",
        "resultado = Pais_producto.apply(lambda x: x[['FORECAST_YEAR', 'FORECAST']].drop_duplicates().shape[0], include_groups=False).reset_index(name='Estudios')\n",
        "\n",
        "print(resultado)"
      ],
      "metadata": {
        "colab": {
          "base_uri": "https://localhost:8080/"
        },
        "collapsed": true,
        "id": "b6W6B9xj76Nx",
        "outputId": "eb1a11db-7b96-474f-b0ea-0a793f536d16"
      },
      "execution_count": null,
      "outputs": [
        {
          "output_type": "stream",
          "name": "stdout",
          "text": [
            "          COUNTRY            SUBBRAND  Estudios\n",
            "0           Czech            7up (L3)        12\n",
            "1           Czech         Lipton (L3)        12\n",
            "2           Czech   Mountain Dew (L3)        12\n",
            "3           Czech      Pepsi Max (L3)        12\n",
            "4           Czech  Pepsi Regular (L3)        12\n",
            "5         Denmark            7up (L3)        12\n",
            "6         Denmark       7up Free (L3)        12\n",
            "7         Denmark   Mountain Dew (L3)        12\n",
            "8         Denmark      Pepsi Max (L3)        12\n",
            "9         Denmark  Pepsi Regular (L3)        12\n",
            "10  Great Britain            7up (L3)        12\n",
            "11  Great Britain       7up Free (L3)        12\n",
            "12  Great Britain         Lipton (L3)        12\n",
            "13  Great Britain   Mountain Dew (L3)        12\n",
            "14  Great Britain      Pepsi Max (L3)        12\n",
            "15  Great Britain  Pepsi Regular (L3)        12\n",
            "16        Hungary            7up (L3)        12\n",
            "17        Hungary       7up Free (L3)        12\n",
            "18        Hungary         Lipton (L3)        12\n",
            "19        Hungary   Mountain Dew (L3)        12\n",
            "20        Hungary      Pepsi Max (L3)        12\n",
            "21        Hungary  Pepsi Regular (L3)        12\n",
            "22          Italy            7up (L3)        12\n",
            "23          Italy      Pepsi Max (L3)        12\n",
            "24          Italy  Pepsi Regular (L3)        12\n",
            "25    Netherlands            7up (L3)        12\n",
            "26    Netherlands       7up Free (L3)        12\n",
            "27    Netherlands         Lipton (L3)        12\n",
            "28    Netherlands   Mountain Dew (L3)        12\n",
            "29    Netherlands      Pepsi Max (L3)        12\n",
            "30    Netherlands  Pepsi Regular (L3)        12\n",
            "31         Norway            7up (L3)        12\n",
            "32         Norway       7up Free (L3)        12\n",
            "33         Norway         Lipton (L3)        12\n",
            "34         Norway   Mountain Dew (L3)        12\n",
            "35         Norway      Pepsi Max (L3)        12\n",
            "36         Norway  Pepsi Regular (L3)        12\n",
            "37       Portugal            7up (L3)        12\n",
            "38       Portugal       7up Free (L3)        12\n",
            "39       Portugal         Lipton (L3)        12\n",
            "40       Portugal      Pepsi Max (L3)        12\n",
            "41       Portugal  Pepsi Regular (L3)        12\n",
            "42          Spain            7up (L3)        12\n",
            "43          Spain       7up Free (L3)        12\n",
            "44          Spain         Lipton (L3)        12\n",
            "45          Spain      Pepsi Max (L3)        12\n",
            "46          Spain  Pepsi Regular (L3)        12\n"
          ]
        }
      ]
    },
    {
      "cell_type": "markdown",
      "source": [
        "Efectivamente, para cada producto de cada país se han hecho 12 estudios de predicción distintos."
      ],
      "metadata": {
        "id": "Gi3AtNHt_8gi"
      }
    },
    {
      "cell_type": "code",
      "source": [
        "# Comprobamos que el amount tenga números con sentido.\n",
        "data['AMOUNT'].describe()"
      ],
      "metadata": {
        "colab": {
          "base_uri": "https://localhost:8080/",
          "height": 331
        },
        "id": "_wAYi6wm_zMi",
        "outputId": "62487c2c-cdfd-4367-8df1-1f40dc9ee32b"
      },
      "execution_count": null,
      "outputs": [
        {
          "output_type": "execute_result",
          "data": {
            "text/plain": [
              "count    1.866600e+04\n",
              "mean     9.721822e+05\n",
              "std      1.915283e+06\n",
              "min     -2.171201e+05\n",
              "25%      8.754541e+04\n",
              "50%      3.081759e+05\n",
              "75%      1.078576e+06\n",
              "max      1.481563e+07\n",
              "Name: AMOUNT, dtype: float64"
            ],
            "text/html": [
              "<div>\n",
              "<style scoped>\n",
              "    .dataframe tbody tr th:only-of-type {\n",
              "        vertical-align: middle;\n",
              "    }\n",
              "\n",
              "    .dataframe tbody tr th {\n",
              "        vertical-align: top;\n",
              "    }\n",
              "\n",
              "    .dataframe thead th {\n",
              "        text-align: right;\n",
              "    }\n",
              "</style>\n",
              "<table border=\"1\" class=\"dataframe\">\n",
              "  <thead>\n",
              "    <tr style=\"text-align: right;\">\n",
              "      <th></th>\n",
              "      <th>AMOUNT</th>\n",
              "    </tr>\n",
              "  </thead>\n",
              "  <tbody>\n",
              "    <tr>\n",
              "      <th>count</th>\n",
              "      <td>1.866600e+04</td>\n",
              "    </tr>\n",
              "    <tr>\n",
              "      <th>mean</th>\n",
              "      <td>9.721822e+05</td>\n",
              "    </tr>\n",
              "    <tr>\n",
              "      <th>std</th>\n",
              "      <td>1.915283e+06</td>\n",
              "    </tr>\n",
              "    <tr>\n",
              "      <th>min</th>\n",
              "      <td>-2.171201e+05</td>\n",
              "    </tr>\n",
              "    <tr>\n",
              "      <th>25%</th>\n",
              "      <td>8.754541e+04</td>\n",
              "    </tr>\n",
              "    <tr>\n",
              "      <th>50%</th>\n",
              "      <td>3.081759e+05</td>\n",
              "    </tr>\n",
              "    <tr>\n",
              "      <th>75%</th>\n",
              "      <td>1.078576e+06</td>\n",
              "    </tr>\n",
              "    <tr>\n",
              "      <th>max</th>\n",
              "      <td>1.481563e+07</td>\n",
              "    </tr>\n",
              "  </tbody>\n",
              "</table>\n",
              "</div><br><label><b>dtype:</b> float64</label>"
            ]
          },
          "metadata": {},
          "execution_count": 12
        }
      ]
    },
    {
      "cell_type": "code",
      "source": [
        "# Hay números negativos, los eliminamos.\n",
        "data = data[data['AMOUNT'] >= 0]"
      ],
      "metadata": {
        "id": "ppKTUH5iDuLV"
      },
      "execution_count": null,
      "outputs": []
    },
    {
      "cell_type": "code",
      "source": [
        "# Sumamos la cantidad de cada producto del país.\n",
        "datos = data[(data['SCENARIO'] == 'actual')].groupby(['COUNTRY', 'SUBBRAND'])['AMOUNT'].sum().reset_index()\n",
        "print(datos)"
      ],
      "metadata": {
        "colab": {
          "base_uri": "https://localhost:8080/"
        },
        "id": "WYblYx2WEDvh",
        "outputId": "16bae86d-ceb6-4238-89ad-001e7ef11f48",
        "collapsed": true
      },
      "execution_count": null,
      "outputs": [
        {
          "output_type": "stream",
          "name": "stdout",
          "text": [
            "          COUNTRY            SUBBRAND        AMOUNT\n",
            "0           Czech            7up (L3)  9.610990e+05\n",
            "1           Czech       7up Free (L3)  3.242474e+05\n",
            "2           Czech         Lipton (L3)  5.959059e+06\n",
            "3           Czech   Mountain Dew (L3)  1.604077e+06\n",
            "4           Czech      Pepsi Max (L3)  7.922810e+06\n",
            "5           Czech  Pepsi Regular (L3)  1.858035e+07\n",
            "6         Denmark       7up Free (L3)  6.356360e+05\n",
            "7         Denmark   Mountain Dew (L3)  8.253904e+05\n",
            "8         Denmark      Pepsi Max (L3)  4.936140e+07\n",
            "9         Denmark  Pepsi Regular (L3)  5.774250e+06\n",
            "10  Great Britain            7up (L3)  5.432014e+06\n",
            "11  Great Britain       7up Free (L3)  2.451862e+07\n",
            "12  Great Britain         Lipton (L3)  1.365866e+07\n",
            "13  Great Britain   Mountain Dew (L3)  3.692249e+06\n",
            "14  Great Britain      Pepsi Max (L3)  2.496323e+08\n",
            "15  Great Britain  Pepsi Regular (L3)  3.784479e+07\n",
            "16        Hungary            7up (L3)  1.814551e+05\n",
            "17        Hungary       7up Free (L3)  1.244282e+06\n",
            "18        Hungary         Lipton (L3)  6.564796e+06\n",
            "19        Hungary   Mountain Dew (L3)  1.129727e+06\n",
            "20        Hungary      Pepsi Max (L3)  1.005709e+07\n",
            "21        Hungary  Pepsi Regular (L3)  2.240212e+07\n",
            "22          Italy            7up (L3)  2.891541e+05\n",
            "23          Italy      Pepsi Max (L3)  3.964185e+06\n",
            "24          Italy  Pepsi Regular (L3)  3.920070e+07\n",
            "25    Netherlands            7up (L3)  2.383433e+06\n",
            "26    Netherlands       7up Free (L3)  2.729431e+06\n",
            "27    Netherlands         Lipton (L3)  3.099832e+07\n",
            "28    Netherlands      Pepsi Max (L3)  2.028984e+07\n",
            "29    Netherlands  Pepsi Regular (L3)  7.558400e+06\n",
            "30         Norway            7up (L3)  9.206923e+04\n",
            "31         Norway       7up Free (L3)  8.298246e+05\n",
            "32         Norway         Lipton (L3)  2.848504e+05\n",
            "33         Norway   Mountain Dew (L3)  2.229472e+05\n",
            "34         Norway      Pepsi Max (L3)  4.894936e+07\n",
            "35         Norway  Pepsi Regular (L3)  1.057919e+06\n",
            "36       Portugal            7up (L3)  7.751144e+06\n",
            "37       Portugal       7up Free (L3)  2.545966e+06\n",
            "38       Portugal         Lipton (L3)  1.541006e+07\n",
            "39       Portugal      Pepsi Max (L3)  4.332673e+06\n",
            "40       Portugal  Pepsi Regular (L3)  4.848222e+06\n",
            "41          Spain            7up (L3)  1.717711e+06\n",
            "42          Spain       7up Free (L3)  1.448288e+06\n",
            "43          Spain         Lipton (L3)  2.123016e+05\n",
            "44          Spain      Pepsi Max (L3)  2.189051e+06\n",
            "45          Spain  Pepsi Regular (L3)  2.563914e+06\n"
          ]
        }
      ]
    },
    {
      "cell_type": "code",
      "source": [
        "# Normalizamos las cantidades de los productos diviendo entre el total de\n",
        "# de cantidad vendida en el país.\n",
        "country_totals = datos.groupby('COUNTRY')['AMOUNT'].sum().reset_index()\n",
        "country_totals = country_totals.rename(columns={'AMOUNT': 'COUNTRY_TOTAL'})\n",
        "\n",
        "datos_N = pd.merge(datos, country_totals, on='COUNTRY', how='left')\n",
        "datos_N['AMOUNT_N'] = datos_N['AMOUNT'] / datos_N['COUNTRY_TOTAL']\n",
        "\n",
        "# Eliminamos columnas innecesarias.\n",
        "datos_N.drop(columns=['AMOUNT', 'COUNTRY_TOTAL'], inplace=True)\n",
        "\n",
        "print(datos_N)"
      ],
      "metadata": {
        "colab": {
          "base_uri": "https://localhost:8080/"
        },
        "id": "SC5qBSAIrzFz",
        "outputId": "f6bc5efa-88ee-4ccb-9e7e-9b717c6d673a",
        "collapsed": true
      },
      "execution_count": null,
      "outputs": [
        {
          "output_type": "stream",
          "name": "stdout",
          "text": [
            "          COUNTRY            SUBBRAND  AMOUNT_N\n",
            "0           Czech            7up (L3)  0.027187\n",
            "1           Czech       7up Free (L3)  0.009172\n",
            "2           Czech         Lipton (L3)  0.168565\n",
            "3           Czech   Mountain Dew (L3)  0.045375\n",
            "4           Czech      Pepsi Max (L3)  0.224114\n",
            "5           Czech  Pepsi Regular (L3)  0.525587\n",
            "6         Denmark       7up Free (L3)  0.011231\n",
            "7         Denmark   Mountain Dew (L3)  0.014584\n",
            "8         Denmark      Pepsi Max (L3)  0.872161\n",
            "9         Denmark  Pepsi Regular (L3)  0.102025\n",
            "10  Great Britain            7up (L3)  0.016226\n",
            "11  Great Britain       7up Free (L3)  0.073238\n",
            "12  Great Britain         Lipton (L3)  0.040799\n",
            "13  Great Britain   Mountain Dew (L3)  0.011029\n",
            "14  Great Britain      Pepsi Max (L3)  0.745664\n",
            "15  Great Britain  Pepsi Regular (L3)  0.113044\n",
            "16        Hungary            7up (L3)  0.004364\n",
            "17        Hungary       7up Free (L3)  0.029925\n",
            "18        Hungary         Lipton (L3)  0.157885\n",
            "19        Hungary   Mountain Dew (L3)  0.027170\n",
            "20        Hungary      Pepsi Max (L3)  0.241876\n",
            "21        Hungary  Pepsi Regular (L3)  0.538778\n",
            "22          Italy            7up (L3)  0.006654\n",
            "23          Italy      Pepsi Max (L3)  0.091227\n",
            "24          Italy  Pepsi Regular (L3)  0.902119\n",
            "25    Netherlands            7up (L3)  0.037265\n",
            "26    Netherlands       7up Free (L3)  0.042674\n",
            "27    Netherlands         Lipton (L3)  0.484656\n",
            "28    Netherlands      Pepsi Max (L3)  0.317230\n",
            "29    Netherlands  Pepsi Regular (L3)  0.118175\n",
            "30         Norway            7up (L3)  0.001790\n",
            "31         Norway       7up Free (L3)  0.016133\n",
            "32         Norway         Lipton (L3)  0.005538\n",
            "33         Norway   Mountain Dew (L3)  0.004334\n",
            "34         Norway      Pepsi Max (L3)  0.951638\n",
            "35         Norway  Pepsi Regular (L3)  0.020567\n",
            "36       Portugal            7up (L3)  0.222172\n",
            "37       Portugal       7up Free (L3)  0.072975\n",
            "38       Portugal         Lipton (L3)  0.441700\n",
            "39       Portugal      Pepsi Max (L3)  0.124188\n",
            "40       Portugal  Pepsi Regular (L3)  0.138965\n",
            "41          Spain            7up (L3)  0.211248\n",
            "42          Spain       7up Free (L3)  0.178114\n",
            "43          Spain         Lipton (L3)  0.026109\n",
            "44          Spain      Pepsi Max (L3)  0.269214\n",
            "45          Spain  Pepsi Regular (L3)  0.315315\n"
          ]
        }
      ]
    },
    {
      "cell_type": "markdown",
      "source": [
        "# Distribución de ventas realizadas en cada país."
      ],
      "metadata": {
        "id": "Rtuod07A2EhM"
      }
    },
    {
      "cell_type": "code",
      "source": [
        "fig = px.histogram(datos_N, x='COUNTRY', y='AMOUNT_N', color='SUBBRAND',\n",
        "    title=\"Distribución de ventas realizadas por país\",\n",
        "    template=\"plotly_white\",\n",
        "    color_discrete_sequence=px.colors.qualitative.Prism, # Color pastel.\n",
        "    height=700, # Modificamos la altura para que se vean bien las porporciones.\n",
        "    width=1100)\n",
        "\n",
        "fig.update_layout(xaxis_title=\"País\",  yaxis_title=\"Proporción de las ventas\",\n",
        "    legend_title=\"Marca\", title_font=dict(size=24, color=\"black\", family=\"Arial\"),\n",
        "    font=dict(size=16, color=\"black\", family=\"Arial\"),\n",
        "    bargap=0.4) # Ajustamos el espacio entre barras.\n",
        "\n",
        "fig.show()"
      ],
      "metadata": {
        "colab": {
          "base_uri": "https://localhost:8080/",
          "height": 717
        },
        "id": "x-wbenhpwtG3",
        "outputId": "e69d7d68-7b51-42d8-a828-4fadd5cb201d"
      },
      "execution_count": null,
      "outputs": [
        {
          "output_type": "display_data",
          "data": {
            "text/html": [
              "<html>\n",
              "<head><meta charset=\"utf-8\" /></head>\n",
              "<body>\n",
              "    <div>            <script src=\"https://cdnjs.cloudflare.com/ajax/libs/mathjax/2.7.5/MathJax.js?config=TeX-AMS-MML_SVG\"></script><script type=\"text/javascript\">if (window.MathJax && window.MathJax.Hub && window.MathJax.Hub.Config) {window.MathJax.Hub.Config({SVG: {font: \"STIX-Web\"}});}</script>                <script type=\"text/javascript\">window.PlotlyConfig = {MathJaxConfig: 'local'};</script>\n",
              "        <script charset=\"utf-8\" src=\"https://cdn.plot.ly/plotly-2.35.2.min.js\"></script>                <div id=\"6284b912-6319-4267-871e-ad4a9a328d0b\" class=\"plotly-graph-div\" style=\"height:700px; width:1100px;\"></div>            <script type=\"text/javascript\">                                    window.PLOTLYENV=window.PLOTLYENV || {};                                    if (document.getElementById(\"6284b912-6319-4267-871e-ad4a9a328d0b\")) {                    Plotly.newPlot(                        \"6284b912-6319-4267-871e-ad4a9a328d0b\",                        [{\"alignmentgroup\":\"True\",\"bingroup\":\"x\",\"histfunc\":\"sum\",\"hovertemplate\":\"SUBBRAND=7up (L3)\\u003cbr\\u003eCOUNTRY=%{x}\\u003cbr\\u003esum of AMOUNT_N=%{y}\\u003cextra\\u003e\\u003c\\u002fextra\\u003e\",\"legendgroup\":\"7up (L3)\",\"marker\":{\"color\":\"rgb(95, 70, 144)\",\"pattern\":{\"shape\":\"\"}},\"name\":\"7up (L3)\",\"offsetgroup\":\"7up (L3)\",\"orientation\":\"v\",\"showlegend\":true,\"x\":[\"Czech\",\"Great Britain\",\"Hungary\",\"Italy\",\"Netherlands\",\"Norway\",\"Portugal\",\"Spain\"],\"xaxis\":\"x\",\"y\":[0.027186828920652512,0.016225689535169098,0.004364054005454184,0.0066542505869337425,0.03726476264273887,0.0017899427903840107,0.22217174995548047,0.21124773163506888],\"yaxis\":\"y\",\"type\":\"histogram\"},{\"alignmentgroup\":\"True\",\"bingroup\":\"x\",\"histfunc\":\"sum\",\"hovertemplate\":\"SUBBRAND=7up Free (L3)\\u003cbr\\u003eCOUNTRY=%{x}\\u003cbr\\u003esum of AMOUNT_N=%{y}\\u003cextra\\u003e\\u003c\\u002fextra\\u003e\",\"legendgroup\":\"7up Free (L3)\",\"marker\":{\"color\":\"rgb(29, 105, 150)\",\"pattern\":{\"shape\":\"\"}},\"name\":\"7up Free (L3)\",\"offsetgroup\":\"7up Free (L3)\",\"orientation\":\"v\",\"showlegend\":true,\"x\":[\"Czech\",\"Denmark\",\"Great Britain\",\"Hungary\",\"Netherlands\",\"Norway\",\"Portugal\",\"Spain\"],\"xaxis\":\"x\",\"y\":[0.009172059952580212,0.01123097729974973,0.07323832437609909,0.029925388711723077,0.0426744079421985,0.01613284381230337,0.07297526513950986,0.17811350253156788],\"yaxis\":\"y\",\"type\":\"histogram\"},{\"alignmentgroup\":\"True\",\"bingroup\":\"x\",\"histfunc\":\"sum\",\"hovertemplate\":\"SUBBRAND=Lipton (L3)\\u003cbr\\u003eCOUNTRY=%{x}\\u003cbr\\u003esum of AMOUNT_N=%{y}\\u003cextra\\u003e\\u003c\\u002fextra\\u003e\",\"legendgroup\":\"Lipton (L3)\",\"marker\":{\"color\":\"rgb(56, 166, 165)\",\"pattern\":{\"shape\":\"\"}},\"name\":\"Lipton (L3)\",\"offsetgroup\":\"Lipton (L3)\",\"orientation\":\"v\",\"showlegend\":true,\"x\":[\"Czech\",\"Great Britain\",\"Hungary\",\"Netherlands\",\"Norway\",\"Portugal\",\"Spain\"],\"xaxis\":\"x\",\"y\":[0.16856528946854216,0.04079909678280039,0.15788549585913852,0.48465602592145846,0.005537854540377439,0.44170012820688165,0.026109295226754377],\"yaxis\":\"y\",\"type\":\"histogram\"},{\"alignmentgroup\":\"True\",\"bingroup\":\"x\",\"histfunc\":\"sum\",\"hovertemplate\":\"SUBBRAND=Mountain Dew (L3)\\u003cbr\\u003eCOUNTRY=%{x}\\u003cbr\\u003esum of AMOUNT_N=%{y}\\u003cextra\\u003e\\u003c\\u002fextra\\u003e\",\"legendgroup\":\"Mountain Dew (L3)\",\"marker\":{\"color\":\"rgb(15, 133, 84)\",\"pattern\":{\"shape\":\"\"}},\"name\":\"Mountain Dew (L3)\",\"offsetgroup\":\"Mountain Dew (L3)\",\"orientation\":\"v\",\"showlegend\":true,\"x\":[\"Czech\",\"Denmark\",\"Great Britain\",\"Hungary\",\"Norway\"],\"xaxis\":\"x\",\"y\":[0.045374905306332626,0.01458372536329545,0.011028927434592876,0.0271703090513315,0.0043343769561521245],\"yaxis\":\"y\",\"type\":\"histogram\"},{\"alignmentgroup\":\"True\",\"bingroup\":\"x\",\"histfunc\":\"sum\",\"hovertemplate\":\"SUBBRAND=Pepsi Max (L3)\\u003cbr\\u003eCOUNTRY=%{x}\\u003cbr\\u003esum of AMOUNT_N=%{y}\\u003cextra\\u003e\\u003c\\u002fextra\\u003e\",\"legendgroup\":\"Pepsi Max (L3)\",\"marker\":{\"color\":\"rgb(115, 175, 72)\",\"pattern\":{\"shape\":\"\"}},\"name\":\"Pepsi Max (L3)\",\"offsetgroup\":\"Pepsi Max (L3)\",\"orientation\":\"v\",\"showlegend\":true,\"x\":[\"Czech\",\"Denmark\",\"Great Britain\",\"Hungary\",\"Italy\",\"Netherlands\",\"Norway\",\"Portugal\",\"Spain\"],\"xaxis\":\"x\",\"y\":[0.2241143541256026,0.8721607489855392,0.7456637325310144,0.24187630369072893,0.09122708436814014,0.3172298952726399,0.9516376981723267,0.12418780916802058,0.26921402020810803],\"yaxis\":\"y\",\"type\":\"histogram\"},{\"alignmentgroup\":\"True\",\"bingroup\":\"x\",\"histfunc\":\"sum\",\"hovertemplate\":\"SUBBRAND=Pepsi Regular (L3)\\u003cbr\\u003eCOUNTRY=%{x}\\u003cbr\\u003esum of AMOUNT_N=%{y}\\u003cextra\\u003e\\u003c\\u002fextra\\u003e\",\"legendgroup\":\"Pepsi Regular (L3)\",\"marker\":{\"color\":\"rgb(237, 173, 8)\",\"pattern\":{\"shape\":\"\"}},\"name\":\"Pepsi Regular (L3)\",\"offsetgroup\":\"Pepsi Regular (L3)\",\"orientation\":\"v\",\"showlegend\":true,\"x\":[\"Czech\",\"Denmark\",\"Great Britain\",\"Hungary\",\"Italy\",\"Netherlands\",\"Norway\",\"Portugal\",\"Spain\"],\"xaxis\":\"x\",\"y\":[0.5255865622262899,0.10202454835141563,0.11304422934032429,0.5387784486816238,0.9021186650449261,0.1181749082209642,0.020567283728456245,0.13896504753010747,0.31531545039850084],\"yaxis\":\"y\",\"type\":\"histogram\"}],                        {\"template\":{\"data\":{\"barpolar\":[{\"marker\":{\"line\":{\"color\":\"white\",\"width\":0.5},\"pattern\":{\"fillmode\":\"overlay\",\"size\":10,\"solidity\":0.2}},\"type\":\"barpolar\"}],\"bar\":[{\"error_x\":{\"color\":\"#2a3f5f\"},\"error_y\":{\"color\":\"#2a3f5f\"},\"marker\":{\"line\":{\"color\":\"white\",\"width\":0.5},\"pattern\":{\"fillmode\":\"overlay\",\"size\":10,\"solidity\":0.2}},\"type\":\"bar\"}],\"carpet\":[{\"aaxis\":{\"endlinecolor\":\"#2a3f5f\",\"gridcolor\":\"#C8D4E3\",\"linecolor\":\"#C8D4E3\",\"minorgridcolor\":\"#C8D4E3\",\"startlinecolor\":\"#2a3f5f\"},\"baxis\":{\"endlinecolor\":\"#2a3f5f\",\"gridcolor\":\"#C8D4E3\",\"linecolor\":\"#C8D4E3\",\"minorgridcolor\":\"#C8D4E3\",\"startlinecolor\":\"#2a3f5f\"},\"type\":\"carpet\"}],\"choropleth\":[{\"colorbar\":{\"outlinewidth\":0,\"ticks\":\"\"},\"type\":\"choropleth\"}],\"contourcarpet\":[{\"colorbar\":{\"outlinewidth\":0,\"ticks\":\"\"},\"type\":\"contourcarpet\"}],\"contour\":[{\"colorbar\":{\"outlinewidth\":0,\"ticks\":\"\"},\"colorscale\":[[0.0,\"#0d0887\"],[0.1111111111111111,\"#46039f\"],[0.2222222222222222,\"#7201a8\"],[0.3333333333333333,\"#9c179e\"],[0.4444444444444444,\"#bd3786\"],[0.5555555555555556,\"#d8576b\"],[0.6666666666666666,\"#ed7953\"],[0.7777777777777778,\"#fb9f3a\"],[0.8888888888888888,\"#fdca26\"],[1.0,\"#f0f921\"]],\"type\":\"contour\"}],\"heatmapgl\":[{\"colorbar\":{\"outlinewidth\":0,\"ticks\":\"\"},\"colorscale\":[[0.0,\"#0d0887\"],[0.1111111111111111,\"#46039f\"],[0.2222222222222222,\"#7201a8\"],[0.3333333333333333,\"#9c179e\"],[0.4444444444444444,\"#bd3786\"],[0.5555555555555556,\"#d8576b\"],[0.6666666666666666,\"#ed7953\"],[0.7777777777777778,\"#fb9f3a\"],[0.8888888888888888,\"#fdca26\"],[1.0,\"#f0f921\"]],\"type\":\"heatmapgl\"}],\"heatmap\":[{\"colorbar\":{\"outlinewidth\":0,\"ticks\":\"\"},\"colorscale\":[[0.0,\"#0d0887\"],[0.1111111111111111,\"#46039f\"],[0.2222222222222222,\"#7201a8\"],[0.3333333333333333,\"#9c179e\"],[0.4444444444444444,\"#bd3786\"],[0.5555555555555556,\"#d8576b\"],[0.6666666666666666,\"#ed7953\"],[0.7777777777777778,\"#fb9f3a\"],[0.8888888888888888,\"#fdca26\"],[1.0,\"#f0f921\"]],\"type\":\"heatmap\"}],\"histogram2dcontour\":[{\"colorbar\":{\"outlinewidth\":0,\"ticks\":\"\"},\"colorscale\":[[0.0,\"#0d0887\"],[0.1111111111111111,\"#46039f\"],[0.2222222222222222,\"#7201a8\"],[0.3333333333333333,\"#9c179e\"],[0.4444444444444444,\"#bd3786\"],[0.5555555555555556,\"#d8576b\"],[0.6666666666666666,\"#ed7953\"],[0.7777777777777778,\"#fb9f3a\"],[0.8888888888888888,\"#fdca26\"],[1.0,\"#f0f921\"]],\"type\":\"histogram2dcontour\"}],\"histogram2d\":[{\"colorbar\":{\"outlinewidth\":0,\"ticks\":\"\"},\"colorscale\":[[0.0,\"#0d0887\"],[0.1111111111111111,\"#46039f\"],[0.2222222222222222,\"#7201a8\"],[0.3333333333333333,\"#9c179e\"],[0.4444444444444444,\"#bd3786\"],[0.5555555555555556,\"#d8576b\"],[0.6666666666666666,\"#ed7953\"],[0.7777777777777778,\"#fb9f3a\"],[0.8888888888888888,\"#fdca26\"],[1.0,\"#f0f921\"]],\"type\":\"histogram2d\"}],\"histogram\":[{\"marker\":{\"pattern\":{\"fillmode\":\"overlay\",\"size\":10,\"solidity\":0.2}},\"type\":\"histogram\"}],\"mesh3d\":[{\"colorbar\":{\"outlinewidth\":0,\"ticks\":\"\"},\"type\":\"mesh3d\"}],\"parcoords\":[{\"line\":{\"colorbar\":{\"outlinewidth\":0,\"ticks\":\"\"}},\"type\":\"parcoords\"}],\"pie\":[{\"automargin\":true,\"type\":\"pie\"}],\"scatter3d\":[{\"line\":{\"colorbar\":{\"outlinewidth\":0,\"ticks\":\"\"}},\"marker\":{\"colorbar\":{\"outlinewidth\":0,\"ticks\":\"\"}},\"type\":\"scatter3d\"}],\"scattercarpet\":[{\"marker\":{\"colorbar\":{\"outlinewidth\":0,\"ticks\":\"\"}},\"type\":\"scattercarpet\"}],\"scattergeo\":[{\"marker\":{\"colorbar\":{\"outlinewidth\":0,\"ticks\":\"\"}},\"type\":\"scattergeo\"}],\"scattergl\":[{\"marker\":{\"colorbar\":{\"outlinewidth\":0,\"ticks\":\"\"}},\"type\":\"scattergl\"}],\"scattermapbox\":[{\"marker\":{\"colorbar\":{\"outlinewidth\":0,\"ticks\":\"\"}},\"type\":\"scattermapbox\"}],\"scatterpolargl\":[{\"marker\":{\"colorbar\":{\"outlinewidth\":0,\"ticks\":\"\"}},\"type\":\"scatterpolargl\"}],\"scatterpolar\":[{\"marker\":{\"colorbar\":{\"outlinewidth\":0,\"ticks\":\"\"}},\"type\":\"scatterpolar\"}],\"scatter\":[{\"fillpattern\":{\"fillmode\":\"overlay\",\"size\":10,\"solidity\":0.2},\"type\":\"scatter\"}],\"scatterternary\":[{\"marker\":{\"colorbar\":{\"outlinewidth\":0,\"ticks\":\"\"}},\"type\":\"scatterternary\"}],\"surface\":[{\"colorbar\":{\"outlinewidth\":0,\"ticks\":\"\"},\"colorscale\":[[0.0,\"#0d0887\"],[0.1111111111111111,\"#46039f\"],[0.2222222222222222,\"#7201a8\"],[0.3333333333333333,\"#9c179e\"],[0.4444444444444444,\"#bd3786\"],[0.5555555555555556,\"#d8576b\"],[0.6666666666666666,\"#ed7953\"],[0.7777777777777778,\"#fb9f3a\"],[0.8888888888888888,\"#fdca26\"],[1.0,\"#f0f921\"]],\"type\":\"surface\"}],\"table\":[{\"cells\":{\"fill\":{\"color\":\"#EBF0F8\"},\"line\":{\"color\":\"white\"}},\"header\":{\"fill\":{\"color\":\"#C8D4E3\"},\"line\":{\"color\":\"white\"}},\"type\":\"table\"}]},\"layout\":{\"annotationdefaults\":{\"arrowcolor\":\"#2a3f5f\",\"arrowhead\":0,\"arrowwidth\":1},\"autotypenumbers\":\"strict\",\"coloraxis\":{\"colorbar\":{\"outlinewidth\":0,\"ticks\":\"\"}},\"colorscale\":{\"diverging\":[[0,\"#8e0152\"],[0.1,\"#c51b7d\"],[0.2,\"#de77ae\"],[0.3,\"#f1b6da\"],[0.4,\"#fde0ef\"],[0.5,\"#f7f7f7\"],[0.6,\"#e6f5d0\"],[0.7,\"#b8e186\"],[0.8,\"#7fbc41\"],[0.9,\"#4d9221\"],[1,\"#276419\"]],\"sequential\":[[0.0,\"#0d0887\"],[0.1111111111111111,\"#46039f\"],[0.2222222222222222,\"#7201a8\"],[0.3333333333333333,\"#9c179e\"],[0.4444444444444444,\"#bd3786\"],[0.5555555555555556,\"#d8576b\"],[0.6666666666666666,\"#ed7953\"],[0.7777777777777778,\"#fb9f3a\"],[0.8888888888888888,\"#fdca26\"],[1.0,\"#f0f921\"]],\"sequentialminus\":[[0.0,\"#0d0887\"],[0.1111111111111111,\"#46039f\"],[0.2222222222222222,\"#7201a8\"],[0.3333333333333333,\"#9c179e\"],[0.4444444444444444,\"#bd3786\"],[0.5555555555555556,\"#d8576b\"],[0.6666666666666666,\"#ed7953\"],[0.7777777777777778,\"#fb9f3a\"],[0.8888888888888888,\"#fdca26\"],[1.0,\"#f0f921\"]]},\"colorway\":[\"#636efa\",\"#EF553B\",\"#00cc96\",\"#ab63fa\",\"#FFA15A\",\"#19d3f3\",\"#FF6692\",\"#B6E880\",\"#FF97FF\",\"#FECB52\"],\"font\":{\"color\":\"#2a3f5f\"},\"geo\":{\"bgcolor\":\"white\",\"lakecolor\":\"white\",\"landcolor\":\"white\",\"showlakes\":true,\"showland\":true,\"subunitcolor\":\"#C8D4E3\"},\"hoverlabel\":{\"align\":\"left\"},\"hovermode\":\"closest\",\"mapbox\":{\"style\":\"light\"},\"paper_bgcolor\":\"white\",\"plot_bgcolor\":\"white\",\"polar\":{\"angularaxis\":{\"gridcolor\":\"#EBF0F8\",\"linecolor\":\"#EBF0F8\",\"ticks\":\"\"},\"bgcolor\":\"white\",\"radialaxis\":{\"gridcolor\":\"#EBF0F8\",\"linecolor\":\"#EBF0F8\",\"ticks\":\"\"}},\"scene\":{\"xaxis\":{\"backgroundcolor\":\"white\",\"gridcolor\":\"#DFE8F3\",\"gridwidth\":2,\"linecolor\":\"#EBF0F8\",\"showbackground\":true,\"ticks\":\"\",\"zerolinecolor\":\"#EBF0F8\"},\"yaxis\":{\"backgroundcolor\":\"white\",\"gridcolor\":\"#DFE8F3\",\"gridwidth\":2,\"linecolor\":\"#EBF0F8\",\"showbackground\":true,\"ticks\":\"\",\"zerolinecolor\":\"#EBF0F8\"},\"zaxis\":{\"backgroundcolor\":\"white\",\"gridcolor\":\"#DFE8F3\",\"gridwidth\":2,\"linecolor\":\"#EBF0F8\",\"showbackground\":true,\"ticks\":\"\",\"zerolinecolor\":\"#EBF0F8\"}},\"shapedefaults\":{\"line\":{\"color\":\"#2a3f5f\"}},\"ternary\":{\"aaxis\":{\"gridcolor\":\"#DFE8F3\",\"linecolor\":\"#A2B1C6\",\"ticks\":\"\"},\"baxis\":{\"gridcolor\":\"#DFE8F3\",\"linecolor\":\"#A2B1C6\",\"ticks\":\"\"},\"bgcolor\":\"white\",\"caxis\":{\"gridcolor\":\"#DFE8F3\",\"linecolor\":\"#A2B1C6\",\"ticks\":\"\"}},\"title\":{\"x\":0.05},\"xaxis\":{\"automargin\":true,\"gridcolor\":\"#EBF0F8\",\"linecolor\":\"#EBF0F8\",\"ticks\":\"\",\"title\":{\"standoff\":15},\"zerolinecolor\":\"#EBF0F8\",\"zerolinewidth\":2},\"yaxis\":{\"automargin\":true,\"gridcolor\":\"#EBF0F8\",\"linecolor\":\"#EBF0F8\",\"ticks\":\"\",\"title\":{\"standoff\":15},\"zerolinecolor\":\"#EBF0F8\",\"zerolinewidth\":2}}},\"xaxis\":{\"anchor\":\"y\",\"domain\":[0.0,1.0],\"title\":{\"text\":\"País\"}},\"yaxis\":{\"anchor\":\"x\",\"domain\":[0.0,1.0],\"title\":{\"text\":\"Proporción de las ventas\"}},\"legend\":{\"title\":{\"text\":\"Marca\"},\"tracegroupgap\":0},\"title\":{\"text\":\"Distribución de ventas realizadas por país\",\"font\":{\"size\":24,\"color\":\"black\",\"family\":\"Arial\"}},\"barmode\":\"relative\",\"height\":700,\"width\":1100,\"font\":{\"size\":16,\"color\":\"black\",\"family\":\"Arial\"},\"bargap\":0.4},                        {\"responsive\": true}                    ).then(function(){\n",
              "                            \n",
              "var gd = document.getElementById('6284b912-6319-4267-871e-ad4a9a328d0b');\n",
              "var x = new MutationObserver(function (mutations, observer) {{\n",
              "        var display = window.getComputedStyle(gd).display;\n",
              "        if (!display || display === 'none') {{\n",
              "            console.log([gd, 'removed!']);\n",
              "            Plotly.purge(gd);\n",
              "            observer.disconnect();\n",
              "        }}\n",
              "}});\n",
              "\n",
              "// Listen for the removal of the full notebook cells\n",
              "var notebookContainer = gd.closest('#notebook-container');\n",
              "if (notebookContainer) {{\n",
              "    x.observe(notebookContainer, {childList: true});\n",
              "}}\n",
              "\n",
              "// Listen for the clearing of the current output cell\n",
              "var outputEl = gd.closest('.output');\n",
              "if (outputEl) {{\n",
              "    x.observe(outputEl, {childList: true});\n",
              "}}\n",
              "\n",
              "                        })                };                            </script>        </div>\n",
              "</body>\n",
              "</html>"
            ]
          },
          "metadata": {}
        }
      ]
    },
    {
      "cell_type": "code",
      "source": [
        "# Total de ventas por país.\n",
        "fig = px.histogram(country_totals, x='COUNTRY', y='COUNTRY_TOTAL', log_y=True,\n",
        "                   color='COUNTRY',\n",
        "                   template=\"plotly_white\",\n",
        "                   color_discrete_sequence=px.colors.qualitative.Prism,\n",
        "                   height=700,\n",
        "                   width=1100)\n",
        "\n",
        "fig.update_layout(title=\"Ventas/Cantidad total por país\",\n",
        "                xaxis_title=\"País\", yaxis_title=\"Total de ventas/cantidad\",\n",
        "                showlegend=False,\n",
        "                title_font=dict(size=24, color=\"black\", family=\"Arial\"),\n",
        "                font=dict(size=16, color=\"black\", family=\"Arial\"))\n",
        "\n",
        "fig.show()\n"
      ],
      "metadata": {
        "colab": {
          "base_uri": "https://localhost:8080/",
          "height": 717
        },
        "id": "wgJQk7yw4kpQ",
        "outputId": "d0d22fc6-7ba2-44ec-e158-299300656137"
      },
      "execution_count": null,
      "outputs": [
        {
          "output_type": "display_data",
          "data": {
            "text/html": [
              "<html>\n",
              "<head><meta charset=\"utf-8\" /></head>\n",
              "<body>\n",
              "    <div>            <script src=\"https://cdnjs.cloudflare.com/ajax/libs/mathjax/2.7.5/MathJax.js?config=TeX-AMS-MML_SVG\"></script><script type=\"text/javascript\">if (window.MathJax && window.MathJax.Hub && window.MathJax.Hub.Config) {window.MathJax.Hub.Config({SVG: {font: \"STIX-Web\"}});}</script>                <script type=\"text/javascript\">window.PlotlyConfig = {MathJaxConfig: 'local'};</script>\n",
              "        <script charset=\"utf-8\" src=\"https://cdn.plot.ly/plotly-2.35.2.min.js\"></script>                <div id=\"e1b2526c-428d-4ef2-9a2f-b07e573d2e21\" class=\"plotly-graph-div\" style=\"height:700px; width:1100px;\"></div>            <script type=\"text/javascript\">                                    window.PLOTLYENV=window.PLOTLYENV || {};                                    if (document.getElementById(\"e1b2526c-428d-4ef2-9a2f-b07e573d2e21\")) {                    Plotly.newPlot(                        \"e1b2526c-428d-4ef2-9a2f-b07e573d2e21\",                        [{\"alignmentgroup\":\"True\",\"bingroup\":\"x\",\"histfunc\":\"sum\",\"hovertemplate\":\"COUNTRY=%{x}\\u003cbr\\u003esum of COUNTRY_TOTAL=%{y}\\u003cextra\\u003e\\u003c\\u002fextra\\u003e\",\"legendgroup\":\"Czech\",\"marker\":{\"color\":\"rgb(95, 70, 144)\",\"pattern\":{\"shape\":\"\"}},\"name\":\"Czech\",\"offsetgroup\":\"Czech\",\"orientation\":\"v\",\"showlegend\":true,\"x\":[\"Czech\"],\"xaxis\":\"x\",\"y\":[35351639.56481399],\"yaxis\":\"y\",\"type\":\"histogram\"},{\"alignmentgroup\":\"True\",\"bingroup\":\"x\",\"histfunc\":\"sum\",\"hovertemplate\":\"COUNTRY=%{x}\\u003cbr\\u003esum of COUNTRY_TOTAL=%{y}\\u003cextra\\u003e\\u003c\\u002fextra\\u003e\",\"legendgroup\":\"Denmark\",\"marker\":{\"color\":\"rgb(29, 105, 150)\",\"pattern\":{\"shape\":\"\"}},\"name\":\"Denmark\",\"offsetgroup\":\"Denmark\",\"orientation\":\"v\",\"showlegend\":true,\"x\":[\"Denmark\"],\"xaxis\":\"x\",\"y\":[56596675.75261528],\"yaxis\":\"y\",\"type\":\"histogram\"},{\"alignmentgroup\":\"True\",\"bingroup\":\"x\",\"histfunc\":\"sum\",\"hovertemplate\":\"COUNTRY=%{x}\\u003cbr\\u003esum of COUNTRY_TOTAL=%{y}\\u003cextra\\u003e\\u003c\\u002fextra\\u003e\",\"legendgroup\":\"Great Britain\",\"marker\":{\"color\":\"rgb(56, 166, 165)\",\"pattern\":{\"shape\":\"\"}},\"name\":\"Great Britain\",\"offsetgroup\":\"Great Britain\",\"orientation\":\"v\",\"showlegend\":true,\"x\":[\"Great Britain\"],\"xaxis\":\"x\",\"y\":[334778603.75283086],\"yaxis\":\"y\",\"type\":\"histogram\"},{\"alignmentgroup\":\"True\",\"bingroup\":\"x\",\"histfunc\":\"sum\",\"hovertemplate\":\"COUNTRY=%{x}\\u003cbr\\u003esum of COUNTRY_TOTAL=%{y}\\u003cextra\\u003e\\u003c\\u002fextra\\u003e\",\"legendgroup\":\"Hungary\",\"marker\":{\"color\":\"rgb(15, 133, 84)\",\"pattern\":{\"shape\":\"\"}},\"name\":\"Hungary\",\"offsetgroup\":\"Hungary\",\"orientation\":\"v\",\"showlegend\":true,\"x\":[\"Hungary\"],\"xaxis\":\"x\",\"y\":[41579473.66154638],\"yaxis\":\"y\",\"type\":\"histogram\"},{\"alignmentgroup\":\"True\",\"bingroup\":\"x\",\"histfunc\":\"sum\",\"hovertemplate\":\"COUNTRY=%{x}\\u003cbr\\u003esum of COUNTRY_TOTAL=%{y}\\u003cextra\\u003e\\u003c\\u002fextra\\u003e\",\"legendgroup\":\"Italy\",\"marker\":{\"color\":\"rgb(115, 175, 72)\",\"pattern\":{\"shape\":\"\"}},\"name\":\"Italy\",\"offsetgroup\":\"Italy\",\"orientation\":\"v\",\"showlegend\":true,\"x\":[\"Italy\"],\"xaxis\":\"x\",\"y\":[43454036.96646074],\"yaxis\":\"y\",\"type\":\"histogram\"},{\"alignmentgroup\":\"True\",\"bingroup\":\"x\",\"histfunc\":\"sum\",\"hovertemplate\":\"COUNTRY=%{x}\\u003cbr\\u003esum of COUNTRY_TOTAL=%{y}\\u003cextra\\u003e\\u003c\\u002fextra\\u003e\",\"legendgroup\":\"Netherlands\",\"marker\":{\"color\":\"rgb(237, 173, 8)\",\"pattern\":{\"shape\":\"\"}},\"name\":\"Netherlands\",\"offsetgroup\":\"Netherlands\",\"orientation\":\"v\",\"showlegend\":true,\"x\":[\"Netherlands\"],\"xaxis\":\"x\",\"y\":[63959428.7739604],\"yaxis\":\"y\",\"type\":\"histogram\"},{\"alignmentgroup\":\"True\",\"bingroup\":\"x\",\"histfunc\":\"sum\",\"hovertemplate\":\"COUNTRY=%{x}\\u003cbr\\u003esum of COUNTRY_TOTAL=%{y}\\u003cextra\\u003e\\u003c\\u002fextra\\u003e\",\"legendgroup\":\"Norway\",\"marker\":{\"color\":\"rgb(225, 124, 5)\",\"pattern\":{\"shape\":\"\"}},\"name\":\"Norway\",\"offsetgroup\":\"Norway\",\"orientation\":\"v\",\"showlegend\":true,\"x\":[\"Norway\"],\"xaxis\":\"x\",\"y\":[51436967.40142074],\"yaxis\":\"y\",\"type\":\"histogram\"},{\"alignmentgroup\":\"True\",\"bingroup\":\"x\",\"histfunc\":\"sum\",\"hovertemplate\":\"COUNTRY=%{x}\\u003cbr\\u003esum of COUNTRY_TOTAL=%{y}\\u003cextra\\u003e\\u003c\\u002fextra\\u003e\",\"legendgroup\":\"Portugal\",\"marker\":{\"color\":\"rgb(204, 80, 62)\",\"pattern\":{\"shape\":\"\"}},\"name\":\"Portugal\",\"offsetgroup\":\"Portugal\",\"orientation\":\"v\",\"showlegend\":true,\"x\":[\"Portugal\"],\"xaxis\":\"x\",\"y\":[34888069.81380808],\"yaxis\":\"y\",\"type\":\"histogram\"},{\"alignmentgroup\":\"True\",\"bingroup\":\"x\",\"histfunc\":\"sum\",\"hovertemplate\":\"COUNTRY=%{x}\\u003cbr\\u003esum of COUNTRY_TOTAL=%{y}\\u003cextra\\u003e\\u003c\\u002fextra\\u003e\",\"legendgroup\":\"Spain\",\"marker\":{\"color\":\"rgb(148, 52, 110)\",\"pattern\":{\"shape\":\"\"}},\"name\":\"Spain\",\"offsetgroup\":\"Spain\",\"orientation\":\"v\",\"showlegend\":true,\"x\":[\"Spain\"],\"xaxis\":\"x\",\"y\":[8131265.977520084],\"yaxis\":\"y\",\"type\":\"histogram\"}],                        {\"template\":{\"data\":{\"barpolar\":[{\"marker\":{\"line\":{\"color\":\"white\",\"width\":0.5},\"pattern\":{\"fillmode\":\"overlay\",\"size\":10,\"solidity\":0.2}},\"type\":\"barpolar\"}],\"bar\":[{\"error_x\":{\"color\":\"#2a3f5f\"},\"error_y\":{\"color\":\"#2a3f5f\"},\"marker\":{\"line\":{\"color\":\"white\",\"width\":0.5},\"pattern\":{\"fillmode\":\"overlay\",\"size\":10,\"solidity\":0.2}},\"type\":\"bar\"}],\"carpet\":[{\"aaxis\":{\"endlinecolor\":\"#2a3f5f\",\"gridcolor\":\"#C8D4E3\",\"linecolor\":\"#C8D4E3\",\"minorgridcolor\":\"#C8D4E3\",\"startlinecolor\":\"#2a3f5f\"},\"baxis\":{\"endlinecolor\":\"#2a3f5f\",\"gridcolor\":\"#C8D4E3\",\"linecolor\":\"#C8D4E3\",\"minorgridcolor\":\"#C8D4E3\",\"startlinecolor\":\"#2a3f5f\"},\"type\":\"carpet\"}],\"choropleth\":[{\"colorbar\":{\"outlinewidth\":0,\"ticks\":\"\"},\"type\":\"choropleth\"}],\"contourcarpet\":[{\"colorbar\":{\"outlinewidth\":0,\"ticks\":\"\"},\"type\":\"contourcarpet\"}],\"contour\":[{\"colorbar\":{\"outlinewidth\":0,\"ticks\":\"\"},\"colorscale\":[[0.0,\"#0d0887\"],[0.1111111111111111,\"#46039f\"],[0.2222222222222222,\"#7201a8\"],[0.3333333333333333,\"#9c179e\"],[0.4444444444444444,\"#bd3786\"],[0.5555555555555556,\"#d8576b\"],[0.6666666666666666,\"#ed7953\"],[0.7777777777777778,\"#fb9f3a\"],[0.8888888888888888,\"#fdca26\"],[1.0,\"#f0f921\"]],\"type\":\"contour\"}],\"heatmapgl\":[{\"colorbar\":{\"outlinewidth\":0,\"ticks\":\"\"},\"colorscale\":[[0.0,\"#0d0887\"],[0.1111111111111111,\"#46039f\"],[0.2222222222222222,\"#7201a8\"],[0.3333333333333333,\"#9c179e\"],[0.4444444444444444,\"#bd3786\"],[0.5555555555555556,\"#d8576b\"],[0.6666666666666666,\"#ed7953\"],[0.7777777777777778,\"#fb9f3a\"],[0.8888888888888888,\"#fdca26\"],[1.0,\"#f0f921\"]],\"type\":\"heatmapgl\"}],\"heatmap\":[{\"colorbar\":{\"outlinewidth\":0,\"ticks\":\"\"},\"colorscale\":[[0.0,\"#0d0887\"],[0.1111111111111111,\"#46039f\"],[0.2222222222222222,\"#7201a8\"],[0.3333333333333333,\"#9c179e\"],[0.4444444444444444,\"#bd3786\"],[0.5555555555555556,\"#d8576b\"],[0.6666666666666666,\"#ed7953\"],[0.7777777777777778,\"#fb9f3a\"],[0.8888888888888888,\"#fdca26\"],[1.0,\"#f0f921\"]],\"type\":\"heatmap\"}],\"histogram2dcontour\":[{\"colorbar\":{\"outlinewidth\":0,\"ticks\":\"\"},\"colorscale\":[[0.0,\"#0d0887\"],[0.1111111111111111,\"#46039f\"],[0.2222222222222222,\"#7201a8\"],[0.3333333333333333,\"#9c179e\"],[0.4444444444444444,\"#bd3786\"],[0.5555555555555556,\"#d8576b\"],[0.6666666666666666,\"#ed7953\"],[0.7777777777777778,\"#fb9f3a\"],[0.8888888888888888,\"#fdca26\"],[1.0,\"#f0f921\"]],\"type\":\"histogram2dcontour\"}],\"histogram2d\":[{\"colorbar\":{\"outlinewidth\":0,\"ticks\":\"\"},\"colorscale\":[[0.0,\"#0d0887\"],[0.1111111111111111,\"#46039f\"],[0.2222222222222222,\"#7201a8\"],[0.3333333333333333,\"#9c179e\"],[0.4444444444444444,\"#bd3786\"],[0.5555555555555556,\"#d8576b\"],[0.6666666666666666,\"#ed7953\"],[0.7777777777777778,\"#fb9f3a\"],[0.8888888888888888,\"#fdca26\"],[1.0,\"#f0f921\"]],\"type\":\"histogram2d\"}],\"histogram\":[{\"marker\":{\"pattern\":{\"fillmode\":\"overlay\",\"size\":10,\"solidity\":0.2}},\"type\":\"histogram\"}],\"mesh3d\":[{\"colorbar\":{\"outlinewidth\":0,\"ticks\":\"\"},\"type\":\"mesh3d\"}],\"parcoords\":[{\"line\":{\"colorbar\":{\"outlinewidth\":0,\"ticks\":\"\"}},\"type\":\"parcoords\"}],\"pie\":[{\"automargin\":true,\"type\":\"pie\"}],\"scatter3d\":[{\"line\":{\"colorbar\":{\"outlinewidth\":0,\"ticks\":\"\"}},\"marker\":{\"colorbar\":{\"outlinewidth\":0,\"ticks\":\"\"}},\"type\":\"scatter3d\"}],\"scattercarpet\":[{\"marker\":{\"colorbar\":{\"outlinewidth\":0,\"ticks\":\"\"}},\"type\":\"scattercarpet\"}],\"scattergeo\":[{\"marker\":{\"colorbar\":{\"outlinewidth\":0,\"ticks\":\"\"}},\"type\":\"scattergeo\"}],\"scattergl\":[{\"marker\":{\"colorbar\":{\"outlinewidth\":0,\"ticks\":\"\"}},\"type\":\"scattergl\"}],\"scattermapbox\":[{\"marker\":{\"colorbar\":{\"outlinewidth\":0,\"ticks\":\"\"}},\"type\":\"scattermapbox\"}],\"scatterpolargl\":[{\"marker\":{\"colorbar\":{\"outlinewidth\":0,\"ticks\":\"\"}},\"type\":\"scatterpolargl\"}],\"scatterpolar\":[{\"marker\":{\"colorbar\":{\"outlinewidth\":0,\"ticks\":\"\"}},\"type\":\"scatterpolar\"}],\"scatter\":[{\"fillpattern\":{\"fillmode\":\"overlay\",\"size\":10,\"solidity\":0.2},\"type\":\"scatter\"}],\"scatterternary\":[{\"marker\":{\"colorbar\":{\"outlinewidth\":0,\"ticks\":\"\"}},\"type\":\"scatterternary\"}],\"surface\":[{\"colorbar\":{\"outlinewidth\":0,\"ticks\":\"\"},\"colorscale\":[[0.0,\"#0d0887\"],[0.1111111111111111,\"#46039f\"],[0.2222222222222222,\"#7201a8\"],[0.3333333333333333,\"#9c179e\"],[0.4444444444444444,\"#bd3786\"],[0.5555555555555556,\"#d8576b\"],[0.6666666666666666,\"#ed7953\"],[0.7777777777777778,\"#fb9f3a\"],[0.8888888888888888,\"#fdca26\"],[1.0,\"#f0f921\"]],\"type\":\"surface\"}],\"table\":[{\"cells\":{\"fill\":{\"color\":\"#EBF0F8\"},\"line\":{\"color\":\"white\"}},\"header\":{\"fill\":{\"color\":\"#C8D4E3\"},\"line\":{\"color\":\"white\"}},\"type\":\"table\"}]},\"layout\":{\"annotationdefaults\":{\"arrowcolor\":\"#2a3f5f\",\"arrowhead\":0,\"arrowwidth\":1},\"autotypenumbers\":\"strict\",\"coloraxis\":{\"colorbar\":{\"outlinewidth\":0,\"ticks\":\"\"}},\"colorscale\":{\"diverging\":[[0,\"#8e0152\"],[0.1,\"#c51b7d\"],[0.2,\"#de77ae\"],[0.3,\"#f1b6da\"],[0.4,\"#fde0ef\"],[0.5,\"#f7f7f7\"],[0.6,\"#e6f5d0\"],[0.7,\"#b8e186\"],[0.8,\"#7fbc41\"],[0.9,\"#4d9221\"],[1,\"#276419\"]],\"sequential\":[[0.0,\"#0d0887\"],[0.1111111111111111,\"#46039f\"],[0.2222222222222222,\"#7201a8\"],[0.3333333333333333,\"#9c179e\"],[0.4444444444444444,\"#bd3786\"],[0.5555555555555556,\"#d8576b\"],[0.6666666666666666,\"#ed7953\"],[0.7777777777777778,\"#fb9f3a\"],[0.8888888888888888,\"#fdca26\"],[1.0,\"#f0f921\"]],\"sequentialminus\":[[0.0,\"#0d0887\"],[0.1111111111111111,\"#46039f\"],[0.2222222222222222,\"#7201a8\"],[0.3333333333333333,\"#9c179e\"],[0.4444444444444444,\"#bd3786\"],[0.5555555555555556,\"#d8576b\"],[0.6666666666666666,\"#ed7953\"],[0.7777777777777778,\"#fb9f3a\"],[0.8888888888888888,\"#fdca26\"],[1.0,\"#f0f921\"]]},\"colorway\":[\"#636efa\",\"#EF553B\",\"#00cc96\",\"#ab63fa\",\"#FFA15A\",\"#19d3f3\",\"#FF6692\",\"#B6E880\",\"#FF97FF\",\"#FECB52\"],\"font\":{\"color\":\"#2a3f5f\"},\"geo\":{\"bgcolor\":\"white\",\"lakecolor\":\"white\",\"landcolor\":\"white\",\"showlakes\":true,\"showland\":true,\"subunitcolor\":\"#C8D4E3\"},\"hoverlabel\":{\"align\":\"left\"},\"hovermode\":\"closest\",\"mapbox\":{\"style\":\"light\"},\"paper_bgcolor\":\"white\",\"plot_bgcolor\":\"white\",\"polar\":{\"angularaxis\":{\"gridcolor\":\"#EBF0F8\",\"linecolor\":\"#EBF0F8\",\"ticks\":\"\"},\"bgcolor\":\"white\",\"radialaxis\":{\"gridcolor\":\"#EBF0F8\",\"linecolor\":\"#EBF0F8\",\"ticks\":\"\"}},\"scene\":{\"xaxis\":{\"backgroundcolor\":\"white\",\"gridcolor\":\"#DFE8F3\",\"gridwidth\":2,\"linecolor\":\"#EBF0F8\",\"showbackground\":true,\"ticks\":\"\",\"zerolinecolor\":\"#EBF0F8\"},\"yaxis\":{\"backgroundcolor\":\"white\",\"gridcolor\":\"#DFE8F3\",\"gridwidth\":2,\"linecolor\":\"#EBF0F8\",\"showbackground\":true,\"ticks\":\"\",\"zerolinecolor\":\"#EBF0F8\"},\"zaxis\":{\"backgroundcolor\":\"white\",\"gridcolor\":\"#DFE8F3\",\"gridwidth\":2,\"linecolor\":\"#EBF0F8\",\"showbackground\":true,\"ticks\":\"\",\"zerolinecolor\":\"#EBF0F8\"}},\"shapedefaults\":{\"line\":{\"color\":\"#2a3f5f\"}},\"ternary\":{\"aaxis\":{\"gridcolor\":\"#DFE8F3\",\"linecolor\":\"#A2B1C6\",\"ticks\":\"\"},\"baxis\":{\"gridcolor\":\"#DFE8F3\",\"linecolor\":\"#A2B1C6\",\"ticks\":\"\"},\"bgcolor\":\"white\",\"caxis\":{\"gridcolor\":\"#DFE8F3\",\"linecolor\":\"#A2B1C6\",\"ticks\":\"\"}},\"title\":{\"x\":0.05},\"xaxis\":{\"automargin\":true,\"gridcolor\":\"#EBF0F8\",\"linecolor\":\"#EBF0F8\",\"ticks\":\"\",\"title\":{\"standoff\":15},\"zerolinecolor\":\"#EBF0F8\",\"zerolinewidth\":2},\"yaxis\":{\"automargin\":true,\"gridcolor\":\"#EBF0F8\",\"linecolor\":\"#EBF0F8\",\"ticks\":\"\",\"title\":{\"standoff\":15},\"zerolinecolor\":\"#EBF0F8\",\"zerolinewidth\":2}}},\"xaxis\":{\"anchor\":\"y\",\"domain\":[0.0,1.0],\"title\":{\"text\":\"País\"},\"categoryorder\":\"array\",\"categoryarray\":[\"Czech\",\"Denmark\",\"Great Britain\",\"Hungary\",\"Italy\",\"Netherlands\",\"Norway\",\"Portugal\",\"Spain\"]},\"yaxis\":{\"anchor\":\"x\",\"domain\":[0.0,1.0],\"title\":{\"text\":\"Total de ventas\\u002fcantidad\"},\"type\":\"log\"},\"legend\":{\"title\":{\"text\":\"COUNTRY\"},\"tracegroupgap\":0},\"margin\":{\"t\":60},\"barmode\":\"relative\",\"height\":700,\"width\":1100,\"title\":{\"text\":\"Ventas\\u002fCantidad total por país\",\"font\":{\"size\":24,\"color\":\"black\",\"family\":\"Arial\"}},\"font\":{\"size\":16,\"color\":\"black\",\"family\":\"Arial\"},\"showlegend\":false},                        {\"responsive\": true}                    ).then(function(){\n",
              "                            \n",
              "var gd = document.getElementById('e1b2526c-428d-4ef2-9a2f-b07e573d2e21');\n",
              "var x = new MutationObserver(function (mutations, observer) {{\n",
              "        var display = window.getComputedStyle(gd).display;\n",
              "        if (!display || display === 'none') {{\n",
              "            console.log([gd, 'removed!']);\n",
              "            Plotly.purge(gd);\n",
              "            observer.disconnect();\n",
              "        }}\n",
              "}});\n",
              "\n",
              "// Listen for the removal of the full notebook cells\n",
              "var notebookContainer = gd.closest('#notebook-container');\n",
              "if (notebookContainer) {{\n",
              "    x.observe(notebookContainer, {childList: true});\n",
              "}}\n",
              "\n",
              "// Listen for the clearing of the current output cell\n",
              "var outputEl = gd.closest('.output');\n",
              "if (outputEl) {{\n",
              "    x.observe(outputEl, {childList: true});\n",
              "}}\n",
              "\n",
              "                        })                };                            </script>        </div>\n",
              "</body>\n",
              "</html>"
            ]
          },
          "metadata": {}
        }
      ]
    },
    {
      "cell_type": "markdown",
      "source": [
        "# Distriución de ventas según mes y año."
      ],
      "metadata": {
        "id": "GhwDlBnn9n5K"
      }
    },
    {
      "cell_type": "code",
      "source": [
        "# Número de combinaciones distintas de mes y año. Si lo conocemos sabremos\n",
        "# cuántos puntos temporales necesitará nuestra gráfica.\n",
        "combinaciones = data[['YEAR', 'MONTH']].drop_duplicates().values.tolist()\n",
        "print(len(combinaciones))"
      ],
      "metadata": {
        "colab": {
          "base_uri": "https://localhost:8080/"
        },
        "id": "B-G-lx3J9nYm",
        "outputId": "e46210f9-b4cf-48ed-ed47-1ebc5c08f5f4"
      },
      "execution_count": null,
      "outputs": [
        {
          "output_type": "stream",
          "name": "stdout",
          "text": [
            "29\n"
          ]
        }
      ]
    },
    {
      "cell_type": "code",
      "source": [
        "data['copia_Marca'] = data['SUBBRAND']\n",
        "Marca = data[data['SCENARIO'] == 'actual'].groupby('copia_Marca').apply(lambda x: x.sort_values(['YEAR', 'MONTH']),\n",
        "       include_groups=False).reset_index(drop=True)\n",
        "Marca.drop(columns=['COUNTRY','SCENARIO','FORECAST', 'FORECAST_YEAR'], inplace=True)\n",
        "data.drop(columns=['copia_Marca'], inplace=True)\n",
        "print(Marca)"
      ],
      "metadata": {
        "colab": {
          "base_uri": "https://localhost:8080/"
        },
        "id": "H0Ag8E-u22be",
        "outputId": "9a982bb5-8ae6-4918-c746-85f1ee2d63c6"
      },
      "execution_count": null,
      "outputs": [
        {
          "output_type": "stream",
          "name": "stdout",
          "text": [
            "               SUBBRAND  YEAR  MONTH         AMOUNT\n",
            "0              7up (L3)  2023      1   64640.338704\n",
            "1              7up (L3)  2023      1   10681.570661\n",
            "2              7up (L3)  2023      1  146982.143738\n",
            "3              7up (L3)  2023      1   78971.969596\n",
            "4              7up (L3)  2023      1    1485.703014\n",
            "..                  ...   ...    ...            ...\n",
            "885  Pepsi Regular (L3)  2024      8  376188.333462\n",
            "886  Pepsi Regular (L3)  2024      8  335232.153177\n",
            "887  Pepsi Regular (L3)  2024      8  981788.232725\n",
            "888  Pepsi Regular (L3)  2024      8  118063.302642\n",
            "889  Pepsi Regular (L3)  2024      8  985290.247476\n",
            "\n",
            "[890 rows x 4 columns]\n"
          ]
        }
      ]
    },
    {
      "cell_type": "code",
      "source": [
        "# Sumamos el amount de aquellos productos que tengan la misma fecha de actual.\n",
        "Marca = Marca.groupby(['YEAR', 'MONTH', 'SUBBRAND'])['AMOUNT'].sum().reset_index()\n",
        "Marca['YEAR_MONTH'] = pd.to_datetime(Marca[['YEAR', 'MONTH']].assign(DAY=1))\n",
        "print(Marca)"
      ],
      "metadata": {
        "colab": {
          "base_uri": "https://localhost:8080/"
        },
        "id": "3EB7fC2XySAD",
        "outputId": "f2d76ea2-0b23-45b1-9ff9-3f0c26b289aa"
      },
      "execution_count": null,
      "outputs": [
        {
          "output_type": "stream",
          "name": "stdout",
          "text": [
            "     YEAR  MONTH            SUBBRAND        AMOUNT YEAR_MONTH\n",
            "0    2023      1            7up (L3)  7.411262e+05 2023-01-01\n",
            "1    2023      1       7up Free (L3)  1.308115e+06 2023-01-01\n",
            "2    2023      1         Lipton (L3)  3.399210e+06 2023-01-01\n",
            "3    2023      1   Mountain Dew (L3)  2.883267e+05 2023-01-01\n",
            "4    2023      1      Pepsi Max (L3)  1.485655e+07 2023-01-01\n",
            "..    ...    ...                 ...           ...        ...\n",
            "115  2024      8       7up Free (L3)  2.218120e+06 2024-08-01\n",
            "116  2024      8         Lipton (L3)  4.828370e+06 2024-08-01\n",
            "117  2024      8   Mountain Dew (L3)  4.248439e+05 2024-08-01\n",
            "118  2024      8      Pepsi Max (L3)  2.273393e+07 2024-08-01\n",
            "119  2024      8  Pepsi Regular (L3)  7.192413e+06 2024-08-01\n",
            "\n",
            "[120 rows x 5 columns]\n"
          ]
        }
      ]
    },
    {
      "cell_type": "code",
      "source": [
        "# Representamos las ventas de cada empresa en función del tiempo.\n",
        "fig = px.line(Marca,\n",
        "              x='YEAR_MONTH',\n",
        "              y='AMOUNT',\n",
        "              color='SUBBRAND',\n",
        "              symbol=\"SUBBRAND\",\n",
        "              color_discrete_sequence=px.colors.qualitative.Safe,\n",
        "              template=\"plotly_white\",\n",
        "              labels = {'AMOUNT':'Cantidad', 'YEAR_MONTH':'','SUBBRAND':'MARCA'},\n",
        "              title='Ventas en función del tiempo')\n",
        "\n",
        "fig.update_layout(\n",
        "    title_font=dict(size=24, color=\"black\", family=\"Arial\"),\n",
        "    font=dict(size=16, color=\"black\", family=\"Arial\"),\n",
        ")\n",
        "fig.show()"
      ],
      "metadata": {
        "colab": {
          "base_uri": "https://localhost:8080/",
          "height": 542
        },
        "id": "XAgQ5wp8yxou",
        "outputId": "d5ff9104-1ec1-4979-d1a4-dd3ebac1b188"
      },
      "execution_count": null,
      "outputs": [
        {
          "output_type": "display_data",
          "data": {
            "text/html": [
              "<html>\n",
              "<head><meta charset=\"utf-8\" /></head>\n",
              "<body>\n",
              "    <div>            <script src=\"https://cdnjs.cloudflare.com/ajax/libs/mathjax/2.7.5/MathJax.js?config=TeX-AMS-MML_SVG\"></script><script type=\"text/javascript\">if (window.MathJax && window.MathJax.Hub && window.MathJax.Hub.Config) {window.MathJax.Hub.Config({SVG: {font: \"STIX-Web\"}});}</script>                <script type=\"text/javascript\">window.PlotlyConfig = {MathJaxConfig: 'local'};</script>\n",
              "        <script charset=\"utf-8\" src=\"https://cdn.plot.ly/plotly-2.35.2.min.js\"></script>                <div id=\"d97be318-0d9f-40d9-bcb0-82062efae34b\" class=\"plotly-graph-div\" style=\"height:525px; width:100%;\"></div>            <script type=\"text/javascript\">                                    window.PLOTLYENV=window.PLOTLYENV || {};                                    if (document.getElementById(\"d97be318-0d9f-40d9-bcb0-82062efae34b\")) {                    Plotly.newPlot(                        \"d97be318-0d9f-40d9-bcb0-82062efae34b\",                        [{\"hovertemplate\":\"MARCA=7up (L3)\\u003cbr\\u003e=%{x}\\u003cbr\\u003eCantidad=%{y}\\u003cextra\\u003e\\u003c\\u002fextra\\u003e\",\"legendgroup\":\"7up (L3)\",\"line\":{\"color\":\"rgb(136, 204, 238)\",\"dash\":\"solid\"},\"marker\":{\"symbol\":\"circle\"},\"mode\":\"lines+markers\",\"name\":\"7up (L3)\",\"orientation\":\"v\",\"showlegend\":true,\"x\":[\"2023-01-01T00:00:00\",\"2023-02-01T00:00:00\",\"2023-03-01T00:00:00\",\"2023-04-01T00:00:00\",\"2023-05-01T00:00:00\",\"2023-06-01T00:00:00\",\"2023-07-01T00:00:00\",\"2023-08-01T00:00:00\",\"2023-09-01T00:00:00\",\"2023-10-01T00:00:00\",\"2023-11-01T00:00:00\",\"2023-12-01T00:00:00\",\"2024-01-01T00:00:00\",\"2024-02-01T00:00:00\",\"2024-03-01T00:00:00\",\"2024-04-01T00:00:00\",\"2024-05-01T00:00:00\",\"2024-06-01T00:00:00\",\"2024-07-01T00:00:00\",\"2024-08-01T00:00:00\"],\"xaxis\":\"x\",\"y\":[741126.2195938092,704156.5570998852,846298.8756986468,839424.6387584375,1035666.3825510627,1168746.9843074821,1251031.7751063732,1246907.704134643,981467.3603742084,893193.1267496989,777779.6883914042,893276.6010596864,777844.3326528851,774341.5467820334,818093.2766178242,847592.9850227558,1006827.196360769,980115.221675477,1064826.82451234,1159361.663702068],\"yaxis\":\"y\",\"type\":\"scatter\"},{\"hovertemplate\":\"MARCA=7up Free (L3)\\u003cbr\\u003e=%{x}\\u003cbr\\u003eCantidad=%{y}\\u003cextra\\u003e\\u003c\\u002fextra\\u003e\",\"legendgroup\":\"7up Free (L3)\",\"line\":{\"color\":\"rgb(204, 102, 119)\",\"dash\":\"solid\"},\"marker\":{\"symbol\":\"diamond\"},\"mode\":\"lines+markers\",\"name\":\"7up Free (L3)\",\"orientation\":\"v\",\"showlegend\":true,\"x\":[\"2023-01-01T00:00:00\",\"2023-02-01T00:00:00\",\"2023-03-01T00:00:00\",\"2023-04-01T00:00:00\",\"2023-05-01T00:00:00\",\"2023-06-01T00:00:00\",\"2023-07-01T00:00:00\",\"2023-08-01T00:00:00\",\"2023-09-01T00:00:00\",\"2023-10-01T00:00:00\",\"2023-11-01T00:00:00\",\"2023-12-01T00:00:00\",\"2024-01-01T00:00:00\",\"2024-02-01T00:00:00\",\"2024-03-01T00:00:00\",\"2024-04-01T00:00:00\",\"2024-05-01T00:00:00\",\"2024-06-01T00:00:00\",\"2024-07-01T00:00:00\",\"2024-08-01T00:00:00\"],\"xaxis\":\"x\",\"y\":[1308114.5062098019,1320526.1988122833,1704413.9577450815,1603991.817444716,1843327.4474267715,2004753.217850539,2171817.7187261805,1924541.2194017214,1780355.3665767193,1618881.758755486,1485241.6595156123,1555995.8722110486,1337362.7602403965,1267755.173639039,1610298.5858034,1712813.5616556644,1842466.510799349,1916182.3153860809,2049339.555891737,2218119.746271655],\"yaxis\":\"y\",\"type\":\"scatter\"},{\"hovertemplate\":\"MARCA=Lipton (L3)\\u003cbr\\u003e=%{x}\\u003cbr\\u003eCantidad=%{y}\\u003cextra\\u003e\\u003c\\u002fextra\\u003e\",\"legendgroup\":\"Lipton (L3)\",\"line\":{\"color\":\"rgb(221, 204, 119)\",\"dash\":\"solid\"},\"marker\":{\"symbol\":\"square\"},\"mode\":\"lines+markers\",\"name\":\"Lipton (L3)\",\"orientation\":\"v\",\"showlegend\":true,\"x\":[\"2023-01-01T00:00:00\",\"2023-02-01T00:00:00\",\"2023-03-01T00:00:00\",\"2023-04-01T00:00:00\",\"2023-05-01T00:00:00\",\"2023-06-01T00:00:00\",\"2023-07-01T00:00:00\",\"2023-08-01T00:00:00\",\"2023-09-01T00:00:00\",\"2023-10-01T00:00:00\",\"2023-11-01T00:00:00\",\"2023-12-01T00:00:00\",\"2024-01-01T00:00:00\",\"2024-02-01T00:00:00\",\"2024-03-01T00:00:00\",\"2024-04-01T00:00:00\",\"2024-05-01T00:00:00\",\"2024-06-01T00:00:00\",\"2024-07-01T00:00:00\",\"2024-08-01T00:00:00\"],\"xaxis\":\"x\",\"y\":[3399210.150542785,2382211.9310616893,4228475.459549992,3204295.6208965294,2983943.7417085236,4858290.2694139965,4716942.294522959,5187959.776410302,3005694.039084063,3773552.321309527,3042503.3674841505,3204757.198254571,2634821.649695075,2762567.3533371966,3052657.216276655,3435835.559318036,3770765.408268942,4241625.090699024,4373580.627038523,4828370.300381102],\"yaxis\":\"y\",\"type\":\"scatter\"},{\"hovertemplate\":\"MARCA=Mountain Dew (L3)\\u003cbr\\u003e=%{x}\\u003cbr\\u003eCantidad=%{y}\\u003cextra\\u003e\\u003c\\u002fextra\\u003e\",\"legendgroup\":\"Mountain Dew (L3)\",\"line\":{\"color\":\"rgb(17, 119, 51)\",\"dash\":\"solid\"},\"marker\":{\"symbol\":\"x\"},\"mode\":\"lines+markers\",\"name\":\"Mountain Dew (L3)\",\"orientation\":\"v\",\"showlegend\":true,\"x\":[\"2023-01-01T00:00:00\",\"2023-02-01T00:00:00\",\"2023-03-01T00:00:00\",\"2023-04-01T00:00:00\",\"2023-05-01T00:00:00\",\"2023-06-01T00:00:00\",\"2023-07-01T00:00:00\",\"2023-08-01T00:00:00\",\"2023-09-01T00:00:00\",\"2023-10-01T00:00:00\",\"2023-11-01T00:00:00\",\"2023-12-01T00:00:00\",\"2024-01-01T00:00:00\",\"2024-02-01T00:00:00\",\"2024-03-01T00:00:00\",\"2024-04-01T00:00:00\",\"2024-05-01T00:00:00\",\"2024-06-01T00:00:00\",\"2024-07-01T00:00:00\",\"2024-08-01T00:00:00\"],\"xaxis\":\"x\",\"y\":[288326.66093707073,273631.52240530314,394356.48700626264,332209.93244245264,495651.96566872485,412288.7645910971,403009.3576703205,380342.58447091636,367751.273872338,336578.92227797233,366421.5605531409,314170.6953021268,295520.4547364268,348896.24361056124,384656.7826551746,370644.0784009496,439523.227758487,405097.773558853,440468.737892118,424843.93073763803],\"yaxis\":\"y\",\"type\":\"scatter\"},{\"hovertemplate\":\"MARCA=Pepsi Max (L3)\\u003cbr\\u003e=%{x}\\u003cbr\\u003eCantidad=%{y}\\u003cextra\\u003e\\u003c\\u002fextra\\u003e\",\"legendgroup\":\"Pepsi Max (L3)\",\"line\":{\"color\":\"rgb(51, 34, 136)\",\"dash\":\"solid\"},\"marker\":{\"symbol\":\"cross\"},\"mode\":\"lines+markers\",\"name\":\"Pepsi Max (L3)\",\"orientation\":\"v\",\"showlegend\":true,\"x\":[\"2023-01-01T00:00:00\",\"2023-02-01T00:00:00\",\"2023-03-01T00:00:00\",\"2023-04-01T00:00:00\",\"2023-05-01T00:00:00\",\"2023-06-01T00:00:00\",\"2023-07-01T00:00:00\",\"2023-08-01T00:00:00\",\"2023-09-01T00:00:00\",\"2023-10-01T00:00:00\",\"2023-11-01T00:00:00\",\"2023-12-01T00:00:00\",\"2024-01-01T00:00:00\",\"2024-02-01T00:00:00\",\"2024-03-01T00:00:00\",\"2024-04-01T00:00:00\",\"2024-05-01T00:00:00\",\"2024-06-01T00:00:00\",\"2024-07-01T00:00:00\",\"2024-08-01T00:00:00\"],\"xaxis\":\"x\",\"y\":[14856548.128605943,15463315.96725677,20873551.914991353,17934944.15249419,22325446.036569193,21328548.8814003,18368657.109468464,21608180.963240135,19652280.390064318,18626907.831478518,20722021.60754396,21701863.908770297,15624249.97952067,18256940.63911945,21254343.204710368,20238337.23987266,23110133.530175477,21238809.837675165,20779660.905810736,22733928.40504956],\"yaxis\":\"y\",\"type\":\"scatter\"},{\"hovertemplate\":\"MARCA=Pepsi Regular (L3)\\u003cbr\\u003e=%{x}\\u003cbr\\u003eCantidad=%{y}\\u003cextra\\u003e\\u003c\\u002fextra\\u003e\",\"legendgroup\":\"Pepsi Regular (L3)\",\"line\":{\"color\":\"rgb(170, 68, 153)\",\"dash\":\"solid\"},\"marker\":{\"symbol\":\"circle\"},\"mode\":\"lines+markers\",\"name\":\"Pepsi Regular (L3)\",\"orientation\":\"v\",\"showlegend\":true,\"x\":[\"2023-01-01T00:00:00\",\"2023-02-01T00:00:00\",\"2023-03-01T00:00:00\",\"2023-04-01T00:00:00\",\"2023-05-01T00:00:00\",\"2023-06-01T00:00:00\",\"2023-07-01T00:00:00\",\"2023-08-01T00:00:00\",\"2023-09-01T00:00:00\",\"2023-10-01T00:00:00\",\"2023-11-01T00:00:00\",\"2023-12-01T00:00:00\",\"2024-01-01T00:00:00\",\"2024-02-01T00:00:00\",\"2024-03-01T00:00:00\",\"2024-04-01T00:00:00\",\"2024-05-01T00:00:00\",\"2024-06-01T00:00:00\",\"2024-07-01T00:00:00\",\"2024-08-01T00:00:00\"],\"xaxis\":\"x\",\"y\":[7495474.176311878,5960531.399477292,7884536.941011637,6942384.434413514,8218410.920301037,7827363.267069735,7127141.995042374,7826835.663979451,6380214.847097808,6200069.116219806,6523773.345204347,7161683.832293537,6221301.429466267,6479530.248697774,7377612.469294943,7093978.736550224,6602920.177329828,6305799.601206019,7008687.484501916,7192412.70237332],\"yaxis\":\"y\",\"type\":\"scatter\"}],                        {\"template\":{\"data\":{\"barpolar\":[{\"marker\":{\"line\":{\"color\":\"white\",\"width\":0.5},\"pattern\":{\"fillmode\":\"overlay\",\"size\":10,\"solidity\":0.2}},\"type\":\"barpolar\"}],\"bar\":[{\"error_x\":{\"color\":\"#2a3f5f\"},\"error_y\":{\"color\":\"#2a3f5f\"},\"marker\":{\"line\":{\"color\":\"white\",\"width\":0.5},\"pattern\":{\"fillmode\":\"overlay\",\"size\":10,\"solidity\":0.2}},\"type\":\"bar\"}],\"carpet\":[{\"aaxis\":{\"endlinecolor\":\"#2a3f5f\",\"gridcolor\":\"#C8D4E3\",\"linecolor\":\"#C8D4E3\",\"minorgridcolor\":\"#C8D4E3\",\"startlinecolor\":\"#2a3f5f\"},\"baxis\":{\"endlinecolor\":\"#2a3f5f\",\"gridcolor\":\"#C8D4E3\",\"linecolor\":\"#C8D4E3\",\"minorgridcolor\":\"#C8D4E3\",\"startlinecolor\":\"#2a3f5f\"},\"type\":\"carpet\"}],\"choropleth\":[{\"colorbar\":{\"outlinewidth\":0,\"ticks\":\"\"},\"type\":\"choropleth\"}],\"contourcarpet\":[{\"colorbar\":{\"outlinewidth\":0,\"ticks\":\"\"},\"type\":\"contourcarpet\"}],\"contour\":[{\"colorbar\":{\"outlinewidth\":0,\"ticks\":\"\"},\"colorscale\":[[0.0,\"#0d0887\"],[0.1111111111111111,\"#46039f\"],[0.2222222222222222,\"#7201a8\"],[0.3333333333333333,\"#9c179e\"],[0.4444444444444444,\"#bd3786\"],[0.5555555555555556,\"#d8576b\"],[0.6666666666666666,\"#ed7953\"],[0.7777777777777778,\"#fb9f3a\"],[0.8888888888888888,\"#fdca26\"],[1.0,\"#f0f921\"]],\"type\":\"contour\"}],\"heatmapgl\":[{\"colorbar\":{\"outlinewidth\":0,\"ticks\":\"\"},\"colorscale\":[[0.0,\"#0d0887\"],[0.1111111111111111,\"#46039f\"],[0.2222222222222222,\"#7201a8\"],[0.3333333333333333,\"#9c179e\"],[0.4444444444444444,\"#bd3786\"],[0.5555555555555556,\"#d8576b\"],[0.6666666666666666,\"#ed7953\"],[0.7777777777777778,\"#fb9f3a\"],[0.8888888888888888,\"#fdca26\"],[1.0,\"#f0f921\"]],\"type\":\"heatmapgl\"}],\"heatmap\":[{\"colorbar\":{\"outlinewidth\":0,\"ticks\":\"\"},\"colorscale\":[[0.0,\"#0d0887\"],[0.1111111111111111,\"#46039f\"],[0.2222222222222222,\"#7201a8\"],[0.3333333333333333,\"#9c179e\"],[0.4444444444444444,\"#bd3786\"],[0.5555555555555556,\"#d8576b\"],[0.6666666666666666,\"#ed7953\"],[0.7777777777777778,\"#fb9f3a\"],[0.8888888888888888,\"#fdca26\"],[1.0,\"#f0f921\"]],\"type\":\"heatmap\"}],\"histogram2dcontour\":[{\"colorbar\":{\"outlinewidth\":0,\"ticks\":\"\"},\"colorscale\":[[0.0,\"#0d0887\"],[0.1111111111111111,\"#46039f\"],[0.2222222222222222,\"#7201a8\"],[0.3333333333333333,\"#9c179e\"],[0.4444444444444444,\"#bd3786\"],[0.5555555555555556,\"#d8576b\"],[0.6666666666666666,\"#ed7953\"],[0.7777777777777778,\"#fb9f3a\"],[0.8888888888888888,\"#fdca26\"],[1.0,\"#f0f921\"]],\"type\":\"histogram2dcontour\"}],\"histogram2d\":[{\"colorbar\":{\"outlinewidth\":0,\"ticks\":\"\"},\"colorscale\":[[0.0,\"#0d0887\"],[0.1111111111111111,\"#46039f\"],[0.2222222222222222,\"#7201a8\"],[0.3333333333333333,\"#9c179e\"],[0.4444444444444444,\"#bd3786\"],[0.5555555555555556,\"#d8576b\"],[0.6666666666666666,\"#ed7953\"],[0.7777777777777778,\"#fb9f3a\"],[0.8888888888888888,\"#fdca26\"],[1.0,\"#f0f921\"]],\"type\":\"histogram2d\"}],\"histogram\":[{\"marker\":{\"pattern\":{\"fillmode\":\"overlay\",\"size\":10,\"solidity\":0.2}},\"type\":\"histogram\"}],\"mesh3d\":[{\"colorbar\":{\"outlinewidth\":0,\"ticks\":\"\"},\"type\":\"mesh3d\"}],\"parcoords\":[{\"line\":{\"colorbar\":{\"outlinewidth\":0,\"ticks\":\"\"}},\"type\":\"parcoords\"}],\"pie\":[{\"automargin\":true,\"type\":\"pie\"}],\"scatter3d\":[{\"line\":{\"colorbar\":{\"outlinewidth\":0,\"ticks\":\"\"}},\"marker\":{\"colorbar\":{\"outlinewidth\":0,\"ticks\":\"\"}},\"type\":\"scatter3d\"}],\"scattercarpet\":[{\"marker\":{\"colorbar\":{\"outlinewidth\":0,\"ticks\":\"\"}},\"type\":\"scattercarpet\"}],\"scattergeo\":[{\"marker\":{\"colorbar\":{\"outlinewidth\":0,\"ticks\":\"\"}},\"type\":\"scattergeo\"}],\"scattergl\":[{\"marker\":{\"colorbar\":{\"outlinewidth\":0,\"ticks\":\"\"}},\"type\":\"scattergl\"}],\"scattermapbox\":[{\"marker\":{\"colorbar\":{\"outlinewidth\":0,\"ticks\":\"\"}},\"type\":\"scattermapbox\"}],\"scatterpolargl\":[{\"marker\":{\"colorbar\":{\"outlinewidth\":0,\"ticks\":\"\"}},\"type\":\"scatterpolargl\"}],\"scatterpolar\":[{\"marker\":{\"colorbar\":{\"outlinewidth\":0,\"ticks\":\"\"}},\"type\":\"scatterpolar\"}],\"scatter\":[{\"fillpattern\":{\"fillmode\":\"overlay\",\"size\":10,\"solidity\":0.2},\"type\":\"scatter\"}],\"scatterternary\":[{\"marker\":{\"colorbar\":{\"outlinewidth\":0,\"ticks\":\"\"}},\"type\":\"scatterternary\"}],\"surface\":[{\"colorbar\":{\"outlinewidth\":0,\"ticks\":\"\"},\"colorscale\":[[0.0,\"#0d0887\"],[0.1111111111111111,\"#46039f\"],[0.2222222222222222,\"#7201a8\"],[0.3333333333333333,\"#9c179e\"],[0.4444444444444444,\"#bd3786\"],[0.5555555555555556,\"#d8576b\"],[0.6666666666666666,\"#ed7953\"],[0.7777777777777778,\"#fb9f3a\"],[0.8888888888888888,\"#fdca26\"],[1.0,\"#f0f921\"]],\"type\":\"surface\"}],\"table\":[{\"cells\":{\"fill\":{\"color\":\"#EBF0F8\"},\"line\":{\"color\":\"white\"}},\"header\":{\"fill\":{\"color\":\"#C8D4E3\"},\"line\":{\"color\":\"white\"}},\"type\":\"table\"}]},\"layout\":{\"annotationdefaults\":{\"arrowcolor\":\"#2a3f5f\",\"arrowhead\":0,\"arrowwidth\":1},\"autotypenumbers\":\"strict\",\"coloraxis\":{\"colorbar\":{\"outlinewidth\":0,\"ticks\":\"\"}},\"colorscale\":{\"diverging\":[[0,\"#8e0152\"],[0.1,\"#c51b7d\"],[0.2,\"#de77ae\"],[0.3,\"#f1b6da\"],[0.4,\"#fde0ef\"],[0.5,\"#f7f7f7\"],[0.6,\"#e6f5d0\"],[0.7,\"#b8e186\"],[0.8,\"#7fbc41\"],[0.9,\"#4d9221\"],[1,\"#276419\"]],\"sequential\":[[0.0,\"#0d0887\"],[0.1111111111111111,\"#46039f\"],[0.2222222222222222,\"#7201a8\"],[0.3333333333333333,\"#9c179e\"],[0.4444444444444444,\"#bd3786\"],[0.5555555555555556,\"#d8576b\"],[0.6666666666666666,\"#ed7953\"],[0.7777777777777778,\"#fb9f3a\"],[0.8888888888888888,\"#fdca26\"],[1.0,\"#f0f921\"]],\"sequentialminus\":[[0.0,\"#0d0887\"],[0.1111111111111111,\"#46039f\"],[0.2222222222222222,\"#7201a8\"],[0.3333333333333333,\"#9c179e\"],[0.4444444444444444,\"#bd3786\"],[0.5555555555555556,\"#d8576b\"],[0.6666666666666666,\"#ed7953\"],[0.7777777777777778,\"#fb9f3a\"],[0.8888888888888888,\"#fdca26\"],[1.0,\"#f0f921\"]]},\"colorway\":[\"#636efa\",\"#EF553B\",\"#00cc96\",\"#ab63fa\",\"#FFA15A\",\"#19d3f3\",\"#FF6692\",\"#B6E880\",\"#FF97FF\",\"#FECB52\"],\"font\":{\"color\":\"#2a3f5f\"},\"geo\":{\"bgcolor\":\"white\",\"lakecolor\":\"white\",\"landcolor\":\"white\",\"showlakes\":true,\"showland\":true,\"subunitcolor\":\"#C8D4E3\"},\"hoverlabel\":{\"align\":\"left\"},\"hovermode\":\"closest\",\"mapbox\":{\"style\":\"light\"},\"paper_bgcolor\":\"white\",\"plot_bgcolor\":\"white\",\"polar\":{\"angularaxis\":{\"gridcolor\":\"#EBF0F8\",\"linecolor\":\"#EBF0F8\",\"ticks\":\"\"},\"bgcolor\":\"white\",\"radialaxis\":{\"gridcolor\":\"#EBF0F8\",\"linecolor\":\"#EBF0F8\",\"ticks\":\"\"}},\"scene\":{\"xaxis\":{\"backgroundcolor\":\"white\",\"gridcolor\":\"#DFE8F3\",\"gridwidth\":2,\"linecolor\":\"#EBF0F8\",\"showbackground\":true,\"ticks\":\"\",\"zerolinecolor\":\"#EBF0F8\"},\"yaxis\":{\"backgroundcolor\":\"white\",\"gridcolor\":\"#DFE8F3\",\"gridwidth\":2,\"linecolor\":\"#EBF0F8\",\"showbackground\":true,\"ticks\":\"\",\"zerolinecolor\":\"#EBF0F8\"},\"zaxis\":{\"backgroundcolor\":\"white\",\"gridcolor\":\"#DFE8F3\",\"gridwidth\":2,\"linecolor\":\"#EBF0F8\",\"showbackground\":true,\"ticks\":\"\",\"zerolinecolor\":\"#EBF0F8\"}},\"shapedefaults\":{\"line\":{\"color\":\"#2a3f5f\"}},\"ternary\":{\"aaxis\":{\"gridcolor\":\"#DFE8F3\",\"linecolor\":\"#A2B1C6\",\"ticks\":\"\"},\"baxis\":{\"gridcolor\":\"#DFE8F3\",\"linecolor\":\"#A2B1C6\",\"ticks\":\"\"},\"bgcolor\":\"white\",\"caxis\":{\"gridcolor\":\"#DFE8F3\",\"linecolor\":\"#A2B1C6\",\"ticks\":\"\"}},\"title\":{\"x\":0.05},\"xaxis\":{\"automargin\":true,\"gridcolor\":\"#EBF0F8\",\"linecolor\":\"#EBF0F8\",\"ticks\":\"\",\"title\":{\"standoff\":15},\"zerolinecolor\":\"#EBF0F8\",\"zerolinewidth\":2},\"yaxis\":{\"automargin\":true,\"gridcolor\":\"#EBF0F8\",\"linecolor\":\"#EBF0F8\",\"ticks\":\"\",\"title\":{\"standoff\":15},\"zerolinecolor\":\"#EBF0F8\",\"zerolinewidth\":2}}},\"xaxis\":{\"anchor\":\"y\",\"domain\":[0.0,1.0],\"title\":{\"text\":\"\"}},\"yaxis\":{\"anchor\":\"x\",\"domain\":[0.0,1.0],\"title\":{\"text\":\"Cantidad\"}},\"legend\":{\"title\":{\"text\":\"MARCA\"},\"tracegroupgap\":0},\"title\":{\"text\":\"Ventas en función del tiempo\",\"font\":{\"size\":24,\"color\":\"black\",\"family\":\"Arial\"}},\"font\":{\"size\":16,\"color\":\"black\",\"family\":\"Arial\"}},                        {\"responsive\": true}                    ).then(function(){\n",
              "                            \n",
              "var gd = document.getElementById('d97be318-0d9f-40d9-bcb0-82062efae34b');\n",
              "var x = new MutationObserver(function (mutations, observer) {{\n",
              "        var display = window.getComputedStyle(gd).display;\n",
              "        if (!display || display === 'none') {{\n",
              "            console.log([gd, 'removed!']);\n",
              "            Plotly.purge(gd);\n",
              "            observer.disconnect();\n",
              "        }}\n",
              "}});\n",
              "\n",
              "// Listen for the removal of the full notebook cells\n",
              "var notebookContainer = gd.closest('#notebook-container');\n",
              "if (notebookContainer) {{\n",
              "    x.observe(notebookContainer, {childList: true});\n",
              "}}\n",
              "\n",
              "// Listen for the clearing of the current output cell\n",
              "var outputEl = gd.closest('.output');\n",
              "if (outputEl) {{\n",
              "    x.observe(outputEl, {childList: true});\n",
              "}}\n",
              "\n",
              "                        })                };                            </script>        </div>\n",
              "</body>\n",
              "</html>"
            ]
          },
          "metadata": {}
        }
      ]
    },
    {
      "cell_type": "markdown",
      "source": [
        "# Distribución de ventas según la marca."
      ],
      "metadata": {
        "id": "bazuzxs7A6O5"
      }
    },
    {
      "cell_type": "code",
      "source": [
        "MarcaTotal = data[data['SCENARIO'] == 'actual'].groupby('SUBBRAND')['AMOUNT'].sum().reset_index()\n",
        "print(MarcaTotal)"
      ],
      "metadata": {
        "colab": {
          "base_uri": "https://localhost:8080/"
        },
        "id": "HIxPPva1BAPl",
        "outputId": "814c1a40-c041-4386-8c0d-7840df865f93"
      },
      "execution_count": null,
      "outputs": [
        {
          "output_type": "stream",
          "name": "stdout",
          "text": [
            "             SUBBRAND        AMOUNT\n",
            "0            7up (L3)  1.880808e+07\n",
            "1       7up Free (L3)  3.427630e+07\n",
            "2         Lipton (L3)  7.308806e+07\n",
            "3   Mountain Dew (L3)  7.474391e+06\n",
            "4      Pepsi Max (L3)  3.966987e+08\n",
            "5  Pepsi Regular (L3)  1.398307e+08\n"
          ]
        }
      ]
    },
    {
      "cell_type": "code",
      "source": [
        "fig = px.treemap(MarcaTotal,\n",
        "                 path=['SUBBRAND'],\n",
        "                 values='AMOUNT',\n",
        "                 title='Cuota de mercado',\n",
        "                 color_discrete_sequence=px.colors.qualitative.Safe,\n",
        "                 color_continuous_scale='Blues')\n",
        "\n",
        "fig.update_layout(\n",
        "    title_font=dict(size=24, color=\"black\", family=\"Arial\"),\n",
        "    font=dict(size=16, color=\"black\", family=\"Arial\"),\n",
        "    margin = dict(t=60, l=20, r=20, b=25))\n",
        "\n",
        "fig.show()"
      ],
      "metadata": {
        "colab": {
          "base_uri": "https://localhost:8080/",
          "height": 542
        },
        "id": "-Demj2OH553n",
        "outputId": "f87936c7-c648-4296-aae3-b2d30da4c9fb"
      },
      "execution_count": null,
      "outputs": [
        {
          "output_type": "display_data",
          "data": {
            "text/html": [
              "<html>\n",
              "<head><meta charset=\"utf-8\" /></head>\n",
              "<body>\n",
              "    <div>            <script src=\"https://cdnjs.cloudflare.com/ajax/libs/mathjax/2.7.5/MathJax.js?config=TeX-AMS-MML_SVG\"></script><script type=\"text/javascript\">if (window.MathJax && window.MathJax.Hub && window.MathJax.Hub.Config) {window.MathJax.Hub.Config({SVG: {font: \"STIX-Web\"}});}</script>                <script type=\"text/javascript\">window.PlotlyConfig = {MathJaxConfig: 'local'};</script>\n",
              "        <script charset=\"utf-8\" src=\"https://cdn.plot.ly/plotly-2.35.2.min.js\"></script>                <div id=\"583501fb-670b-4b65-93d7-d0edbcae517b\" class=\"plotly-graph-div\" style=\"height:525px; width:100%;\"></div>            <script type=\"text/javascript\">                                    window.PLOTLYENV=window.PLOTLYENV || {};                                    if (document.getElementById(\"583501fb-670b-4b65-93d7-d0edbcae517b\")) {                    Plotly.newPlot(                        \"583501fb-670b-4b65-93d7-d0edbcae517b\",                        [{\"branchvalues\":\"total\",\"domain\":{\"x\":[0.0,1.0],\"y\":[0.0,1.0]},\"hovertemplate\":\"labels=%{label}\\u003cbr\\u003eAMOUNT=%{value}\\u003cbr\\u003eparent=%{parent}\\u003cbr\\u003eid=%{id}\\u003cextra\\u003e\\u003c\\u002fextra\\u003e\",\"ids\":[\"7up (L3)\",\"7up Free (L3)\",\"Lipton (L3)\",\"Mountain Dew (L3)\",\"Pepsi Max (L3)\",\"Pepsi Regular (L3)\"],\"labels\":[\"7up (L3)\",\"7up Free (L3)\",\"Lipton (L3)\",\"Mountain Dew (L3)\",\"Pepsi Max (L3)\",\"Pepsi Regular (L3)\"],\"name\":\"\",\"parents\":[\"\",\"\",\"\",\"\",\"\",\"\"],\"values\":[18808078.96115149,34276298.950363286,73088059.37525365,7474390.956547935,396698670.6338175,139830662.7878427],\"type\":\"treemap\"}],                        {\"template\":{\"data\":{\"histogram2dcontour\":[{\"type\":\"histogram2dcontour\",\"colorbar\":{\"outlinewidth\":0,\"ticks\":\"\"},\"colorscale\":[[0.0,\"#0d0887\"],[0.1111111111111111,\"#46039f\"],[0.2222222222222222,\"#7201a8\"],[0.3333333333333333,\"#9c179e\"],[0.4444444444444444,\"#bd3786\"],[0.5555555555555556,\"#d8576b\"],[0.6666666666666666,\"#ed7953\"],[0.7777777777777778,\"#fb9f3a\"],[0.8888888888888888,\"#fdca26\"],[1.0,\"#f0f921\"]]}],\"choropleth\":[{\"type\":\"choropleth\",\"colorbar\":{\"outlinewidth\":0,\"ticks\":\"\"}}],\"histogram2d\":[{\"type\":\"histogram2d\",\"colorbar\":{\"outlinewidth\":0,\"ticks\":\"\"},\"colorscale\":[[0.0,\"#0d0887\"],[0.1111111111111111,\"#46039f\"],[0.2222222222222222,\"#7201a8\"],[0.3333333333333333,\"#9c179e\"],[0.4444444444444444,\"#bd3786\"],[0.5555555555555556,\"#d8576b\"],[0.6666666666666666,\"#ed7953\"],[0.7777777777777778,\"#fb9f3a\"],[0.8888888888888888,\"#fdca26\"],[1.0,\"#f0f921\"]]}],\"heatmap\":[{\"type\":\"heatmap\",\"colorbar\":{\"outlinewidth\":0,\"ticks\":\"\"},\"colorscale\":[[0.0,\"#0d0887\"],[0.1111111111111111,\"#46039f\"],[0.2222222222222222,\"#7201a8\"],[0.3333333333333333,\"#9c179e\"],[0.4444444444444444,\"#bd3786\"],[0.5555555555555556,\"#d8576b\"],[0.6666666666666666,\"#ed7953\"],[0.7777777777777778,\"#fb9f3a\"],[0.8888888888888888,\"#fdca26\"],[1.0,\"#f0f921\"]]}],\"heatmapgl\":[{\"type\":\"heatmapgl\",\"colorbar\":{\"outlinewidth\":0,\"ticks\":\"\"},\"colorscale\":[[0.0,\"#0d0887\"],[0.1111111111111111,\"#46039f\"],[0.2222222222222222,\"#7201a8\"],[0.3333333333333333,\"#9c179e\"],[0.4444444444444444,\"#bd3786\"],[0.5555555555555556,\"#d8576b\"],[0.6666666666666666,\"#ed7953\"],[0.7777777777777778,\"#fb9f3a\"],[0.8888888888888888,\"#fdca26\"],[1.0,\"#f0f921\"]]}],\"contourcarpet\":[{\"type\":\"contourcarpet\",\"colorbar\":{\"outlinewidth\":0,\"ticks\":\"\"}}],\"contour\":[{\"type\":\"contour\",\"colorbar\":{\"outlinewidth\":0,\"ticks\":\"\"},\"colorscale\":[[0.0,\"#0d0887\"],[0.1111111111111111,\"#46039f\"],[0.2222222222222222,\"#7201a8\"],[0.3333333333333333,\"#9c179e\"],[0.4444444444444444,\"#bd3786\"],[0.5555555555555556,\"#d8576b\"],[0.6666666666666666,\"#ed7953\"],[0.7777777777777778,\"#fb9f3a\"],[0.8888888888888888,\"#fdca26\"],[1.0,\"#f0f921\"]]}],\"surface\":[{\"type\":\"surface\",\"colorbar\":{\"outlinewidth\":0,\"ticks\":\"\"},\"colorscale\":[[0.0,\"#0d0887\"],[0.1111111111111111,\"#46039f\"],[0.2222222222222222,\"#7201a8\"],[0.3333333333333333,\"#9c179e\"],[0.4444444444444444,\"#bd3786\"],[0.5555555555555556,\"#d8576b\"],[0.6666666666666666,\"#ed7953\"],[0.7777777777777778,\"#fb9f3a\"],[0.8888888888888888,\"#fdca26\"],[1.0,\"#f0f921\"]]}],\"mesh3d\":[{\"type\":\"mesh3d\",\"colorbar\":{\"outlinewidth\":0,\"ticks\":\"\"}}],\"scatter\":[{\"fillpattern\":{\"fillmode\":\"overlay\",\"size\":10,\"solidity\":0.2},\"type\":\"scatter\"}],\"parcoords\":[{\"type\":\"parcoords\",\"line\":{\"colorbar\":{\"outlinewidth\":0,\"ticks\":\"\"}}}],\"scatterpolargl\":[{\"type\":\"scatterpolargl\",\"marker\":{\"colorbar\":{\"outlinewidth\":0,\"ticks\":\"\"}}}],\"bar\":[{\"error_x\":{\"color\":\"#2a3f5f\"},\"error_y\":{\"color\":\"#2a3f5f\"},\"marker\":{\"line\":{\"color\":\"#E5ECF6\",\"width\":0.5},\"pattern\":{\"fillmode\":\"overlay\",\"size\":10,\"solidity\":0.2}},\"type\":\"bar\"}],\"scattergeo\":[{\"type\":\"scattergeo\",\"marker\":{\"colorbar\":{\"outlinewidth\":0,\"ticks\":\"\"}}}],\"scatterpolar\":[{\"type\":\"scatterpolar\",\"marker\":{\"colorbar\":{\"outlinewidth\":0,\"ticks\":\"\"}}}],\"histogram\":[{\"marker\":{\"pattern\":{\"fillmode\":\"overlay\",\"size\":10,\"solidity\":0.2}},\"type\":\"histogram\"}],\"scattergl\":[{\"type\":\"scattergl\",\"marker\":{\"colorbar\":{\"outlinewidth\":0,\"ticks\":\"\"}}}],\"scatter3d\":[{\"type\":\"scatter3d\",\"line\":{\"colorbar\":{\"outlinewidth\":0,\"ticks\":\"\"}},\"marker\":{\"colorbar\":{\"outlinewidth\":0,\"ticks\":\"\"}}}],\"scattermapbox\":[{\"type\":\"scattermapbox\",\"marker\":{\"colorbar\":{\"outlinewidth\":0,\"ticks\":\"\"}}}],\"scatterternary\":[{\"type\":\"scatterternary\",\"marker\":{\"colorbar\":{\"outlinewidth\":0,\"ticks\":\"\"}}}],\"scattercarpet\":[{\"type\":\"scattercarpet\",\"marker\":{\"colorbar\":{\"outlinewidth\":0,\"ticks\":\"\"}}}],\"carpet\":[{\"aaxis\":{\"endlinecolor\":\"#2a3f5f\",\"gridcolor\":\"white\",\"linecolor\":\"white\",\"minorgridcolor\":\"white\",\"startlinecolor\":\"#2a3f5f\"},\"baxis\":{\"endlinecolor\":\"#2a3f5f\",\"gridcolor\":\"white\",\"linecolor\":\"white\",\"minorgridcolor\":\"white\",\"startlinecolor\":\"#2a3f5f\"},\"type\":\"carpet\"}],\"table\":[{\"cells\":{\"fill\":{\"color\":\"#EBF0F8\"},\"line\":{\"color\":\"white\"}},\"header\":{\"fill\":{\"color\":\"#C8D4E3\"},\"line\":{\"color\":\"white\"}},\"type\":\"table\"}],\"barpolar\":[{\"marker\":{\"line\":{\"color\":\"#E5ECF6\",\"width\":0.5},\"pattern\":{\"fillmode\":\"overlay\",\"size\":10,\"solidity\":0.2}},\"type\":\"barpolar\"}],\"pie\":[{\"automargin\":true,\"type\":\"pie\"}]},\"layout\":{\"autotypenumbers\":\"strict\",\"colorway\":[\"#636efa\",\"#EF553B\",\"#00cc96\",\"#ab63fa\",\"#FFA15A\",\"#19d3f3\",\"#FF6692\",\"#B6E880\",\"#FF97FF\",\"#FECB52\"],\"font\":{\"color\":\"#2a3f5f\"},\"hovermode\":\"closest\",\"hoverlabel\":{\"align\":\"left\"},\"paper_bgcolor\":\"white\",\"plot_bgcolor\":\"#E5ECF6\",\"polar\":{\"bgcolor\":\"#E5ECF6\",\"angularaxis\":{\"gridcolor\":\"white\",\"linecolor\":\"white\",\"ticks\":\"\"},\"radialaxis\":{\"gridcolor\":\"white\",\"linecolor\":\"white\",\"ticks\":\"\"}},\"ternary\":{\"bgcolor\":\"#E5ECF6\",\"aaxis\":{\"gridcolor\":\"white\",\"linecolor\":\"white\",\"ticks\":\"\"},\"baxis\":{\"gridcolor\":\"white\",\"linecolor\":\"white\",\"ticks\":\"\"},\"caxis\":{\"gridcolor\":\"white\",\"linecolor\":\"white\",\"ticks\":\"\"}},\"coloraxis\":{\"colorbar\":{\"outlinewidth\":0,\"ticks\":\"\"}},\"colorscale\":{\"sequential\":[[0.0,\"#0d0887\"],[0.1111111111111111,\"#46039f\"],[0.2222222222222222,\"#7201a8\"],[0.3333333333333333,\"#9c179e\"],[0.4444444444444444,\"#bd3786\"],[0.5555555555555556,\"#d8576b\"],[0.6666666666666666,\"#ed7953\"],[0.7777777777777778,\"#fb9f3a\"],[0.8888888888888888,\"#fdca26\"],[1.0,\"#f0f921\"]],\"sequentialminus\":[[0.0,\"#0d0887\"],[0.1111111111111111,\"#46039f\"],[0.2222222222222222,\"#7201a8\"],[0.3333333333333333,\"#9c179e\"],[0.4444444444444444,\"#bd3786\"],[0.5555555555555556,\"#d8576b\"],[0.6666666666666666,\"#ed7953\"],[0.7777777777777778,\"#fb9f3a\"],[0.8888888888888888,\"#fdca26\"],[1.0,\"#f0f921\"]],\"diverging\":[[0,\"#8e0152\"],[0.1,\"#c51b7d\"],[0.2,\"#de77ae\"],[0.3,\"#f1b6da\"],[0.4,\"#fde0ef\"],[0.5,\"#f7f7f7\"],[0.6,\"#e6f5d0\"],[0.7,\"#b8e186\"],[0.8,\"#7fbc41\"],[0.9,\"#4d9221\"],[1,\"#276419\"]]},\"xaxis\":{\"gridcolor\":\"white\",\"linecolor\":\"white\",\"ticks\":\"\",\"title\":{\"standoff\":15},\"zerolinecolor\":\"white\",\"automargin\":true,\"zerolinewidth\":2},\"yaxis\":{\"gridcolor\":\"white\",\"linecolor\":\"white\",\"ticks\":\"\",\"title\":{\"standoff\":15},\"zerolinecolor\":\"white\",\"automargin\":true,\"zerolinewidth\":2},\"scene\":{\"xaxis\":{\"backgroundcolor\":\"#E5ECF6\",\"gridcolor\":\"white\",\"linecolor\":\"white\",\"showbackground\":true,\"ticks\":\"\",\"zerolinecolor\":\"white\",\"gridwidth\":2},\"yaxis\":{\"backgroundcolor\":\"#E5ECF6\",\"gridcolor\":\"white\",\"linecolor\":\"white\",\"showbackground\":true,\"ticks\":\"\",\"zerolinecolor\":\"white\",\"gridwidth\":2},\"zaxis\":{\"backgroundcolor\":\"#E5ECF6\",\"gridcolor\":\"white\",\"linecolor\":\"white\",\"showbackground\":true,\"ticks\":\"\",\"zerolinecolor\":\"white\",\"gridwidth\":2}},\"shapedefaults\":{\"line\":{\"color\":\"#2a3f5f\"}},\"annotationdefaults\":{\"arrowcolor\":\"#2a3f5f\",\"arrowhead\":0,\"arrowwidth\":1},\"geo\":{\"bgcolor\":\"white\",\"landcolor\":\"#E5ECF6\",\"subunitcolor\":\"white\",\"showland\":true,\"showlakes\":true,\"lakecolor\":\"white\"},\"title\":{\"x\":0.05},\"mapbox\":{\"style\":\"light\"}}},\"legend\":{\"tracegroupgap\":0},\"title\":{\"text\":\"Cuota de mercado\",\"font\":{\"size\":24,\"color\":\"black\",\"family\":\"Arial\"}},\"treemapcolorway\":[\"rgb(136, 204, 238)\",\"rgb(204, 102, 119)\",\"rgb(221, 204, 119)\",\"rgb(17, 119, 51)\",\"rgb(51, 34, 136)\",\"rgb(170, 68, 153)\",\"rgb(68, 170, 153)\",\"rgb(153, 153, 51)\",\"rgb(136, 34, 85)\",\"rgb(102, 17, 0)\",\"rgb(136, 136, 136)\"],\"font\":{\"size\":16,\"color\":\"black\",\"family\":\"Arial\"},\"margin\":{\"t\":60,\"l\":20,\"r\":20,\"b\":25}},                        {\"responsive\": true}                    ).then(function(){\n",
              "                            \n",
              "var gd = document.getElementById('583501fb-670b-4b65-93d7-d0edbcae517b');\n",
              "var x = new MutationObserver(function (mutations, observer) {{\n",
              "        var display = window.getComputedStyle(gd).display;\n",
              "        if (!display || display === 'none') {{\n",
              "            console.log([gd, 'removed!']);\n",
              "            Plotly.purge(gd);\n",
              "            observer.disconnect();\n",
              "        }}\n",
              "}});\n",
              "\n",
              "// Listen for the removal of the full notebook cells\n",
              "var notebookContainer = gd.closest('#notebook-container');\n",
              "if (notebookContainer) {{\n",
              "    x.observe(notebookContainer, {childList: true});\n",
              "}}\n",
              "\n",
              "// Listen for the clearing of the current output cell\n",
              "var outputEl = gd.closest('.output');\n",
              "if (outputEl) {{\n",
              "    x.observe(outputEl, {childList: true});\n",
              "}}\n",
              "\n",
              "                        })                };                            </script>        </div>\n",
              "</body>\n",
              "</html>"
            ]
          },
          "metadata": {}
        }
      ]
    },
    {
      "cell_type": "code",
      "source": [
        "# Se muestra un gráifco de bigotes para visualizar la distribución de ventas\n",
        "# según la marca. Se limpian algunos outliers para visualizar mejor el gráfico.\n",
        "\n",
        "datos11 = data[(data['SCENARIO'] == 'actual')]\n",
        "datos11 = datos11[datos11['AMOUNT'] > 1000]\n",
        "\n",
        "fig = px.box(datos11, x='AMOUNT', y='SUBBRAND', color='SUBBRAND',\n",
        "             log_x=True,\n",
        "             color_discrete_sequence=px.colors.qualitative.Safe,\n",
        "             template='plotly_white',\n",
        "             labels={'AMOUNT': 'Cantidad', 'SUBBRAND': ''},\n",
        "             notched=True, # used notched shape\n",
        "             title='Distribución de las ventas por marca',\n",
        "             hover_data=['YEAR','MONTH']\n",
        "             )\n",
        "\n",
        "fig.update_layout(showlegend=False,\n",
        "    title_font=dict(size=24, color=\"black\", family=\"Arial\"),\n",
        "    font=dict(size=16, color=\"black\", family=\"Arial\"),\n",
        ")\n",
        "\n",
        "fig.show()"
      ],
      "metadata": {
        "colab": {
          "base_uri": "https://localhost:8080/",
          "height": 542
        },
        "id": "IvfjcosYi4nI",
        "outputId": "f4d612d3-f09b-4650-8844-fb7f4d717f90"
      },
      "execution_count": null,
      "outputs": [
        {
          "output_type": "display_data",
          "data": {
            "text/html": [
              "<html>\n",
              "<head><meta charset=\"utf-8\" /></head>\n",
              "<body>\n",
              "    <div>            <script src=\"https://cdnjs.cloudflare.com/ajax/libs/mathjax/2.7.5/MathJax.js?config=TeX-AMS-MML_SVG\"></script><script type=\"text/javascript\">if (window.MathJax && window.MathJax.Hub && window.MathJax.Hub.Config) {window.MathJax.Hub.Config({SVG: {font: \"STIX-Web\"}});}</script>                <script type=\"text/javascript\">window.PlotlyConfig = {MathJaxConfig: 'local'};</script>\n",
              "        <script charset=\"utf-8\" src=\"https://cdn.plot.ly/plotly-2.35.2.min.js\"></script>                <div id=\"808bf70a-a8ce-426b-9158-c01d1ff6ba8d\" class=\"plotly-graph-div\" style=\"height:525px; width:100%;\"></div>            <script type=\"text/javascript\">                                    window.PLOTLYENV=window.PLOTLYENV || {};                                    if (document.getElementById(\"808bf70a-a8ce-426b-9158-c01d1ff6ba8d\")) {                    Plotly.newPlot(                        \"808bf70a-a8ce-426b-9158-c01d1ff6ba8d\",                        [{\"alignmentgroup\":\"True\",\"customdata\":[[2023,10],[2024,2],[2024,2],[2024,2],[2024,4],[2024,7],[2024,7],[2024,7],[2023,5],[2023,11],[2023,11],[2023,12],[2023,12],[2023,12],[2023,12],[2024,6],[2024,6],[2024,5],[2023,8],[2023,4],[2023,4],[2023,6],[2023,1],[2023,1],[2023,1],[2023,7],[2023,7],[2023,2],[2023,2],[2023,10],[2023,3],[2024,2],[2024,4],[2024,7],[2024,7],[2024,4],[2023,5],[2023,11],[2023,11],[2023,11],[2023,12],[2024,6],[2024,8],[2024,8],[2024,5],[2024,5],[2023,8],[2023,4],[2024,3],[2024,3],[2024,3],[2023,6],[2023,6],[2023,6],[2023,1],[2023,1],[2023,7],[2023,7],[2023,2],[2023,3],[2023,10],[2023,10],[2023,10],[2023,3],[2023,3],[2023,10],[2023,10],[2023,10],[2023,3],[2024,1],[2024,1],[2024,1],[2024,1],[2024,2],[2024,2],[2024,7],[2024,7],[2023,5],[2023,12],[2024,6],[2024,6],[2024,6],[2024,6],[2024,8],[2024,8],[2024,8],[2024,8],[2024,5],[2024,5],[2024,5],[2024,5],[2023,8],[2023,8],[2023,8],[2023,8],[2023,8],[2023,4],[2023,4],[2023,4],[2023,4],[2023,4],[2024,3],[2023,6],[2023,6],[2023,1],[2023,1],[2023,7],[2023,7],[2023,7],[2023,2],[2023,9],[2023,9],[2023,9],[2023,9],[2023,3],[2023,3],[2023,10],[2024,1],[2024,1],[2024,1],[2024,2],[2024,7],[2024,4],[2024,4],[2024,4],[2024,4],[2024,4],[2023,5],[2023,5],[2023,5],[2023,11],[2023,11],[2023,11],[2023,12],[2023,12],[2023,12],[2024,6],[2024,8],[2024,8],[2024,5],[2024,5],[2023,8],[2023,4],[2024,3],[2024,3],[2024,3],[2023,6],[2023,6],[2023,1],[2023,1],[2023,7],[2023,7],[2023,2],[2023,2],[2023,2],[2023,9],[2023,9],[2023,9],[2023,9],[2023,3],[2023,3],[2024,1],[2024,1],[2024,2],[2024,2],[2024,4],[2024,7],[2023,5],[2023,5],[2023,5],[2023,11],[2024,6],[2024,8],[2023,8],[2024,3],[2024,3],[2023,6],[2023,2],[2023,2],[2023,9]],\"hovertemplate\":\"=%{y}\\u003cbr\\u003eCantidad=%{x}\\u003cbr\\u003eYEAR=%{customdata[0]}\\u003cbr\\u003eMONTH=%{customdata[1]}\\u003cextra\\u003e\\u003c\\u002fextra\\u003e\",\"legendgroup\":\"Pepsi Max (L3)\",\"marker\":{\"color\":\"rgb(136, 204, 238)\"},\"name\":\"Pepsi Max (L3)\",\"notched\":true,\"offsetgroup\":\"Pepsi Max (L3)\",\"orientation\":\"h\",\"showlegend\":true,\"x\":[188594.89408466185,2557570.5515205744,192889.74167506144,2119033.169499764,2090877.40308412,249086.121392291,1323603.925242862,1900579.561545018,1106911.2030038116,2704018.777341796,2233147.3586327867,208084.9841144604,3004664.8714715424,1001472.7762005735,184646.53089402968,489731.868998895,2789422.562397415,14815628.237867463,1110572.689552176,2155775.256599015,90623.55743784914,3003307.991729657,83274.05549724207,686853.0429085685,2521703.796326954,778523.5887934739,107349.9221573338,2185992.599663269,114642.772607835,11732169.515790436,2971511.39813882,365915.334774538,240511.60067064452,470651.095785226,3185914.985946054,2700714.368641056,174296.3797876762,539381.3740569765,185403.7322212282,360459.9851910845,467211.6528117226,2600475.315773532,229202.943932146,451893.397814769,94165.227223096,460588.92379872,13225755.891527489,11717133.867759043,95639.02841081204,200197.4738117546,410398.91733531526,2677852.757602868,693856.0298126846,266983.9119285961,142643.44536571964,9159066.190922344,287059.8807351729,1967502.233133502,336105.88011524937,194375.7986798448,421500.28785920347,189886.8040830416,344103.25095693645,442842.9022282023,1070921.3049389587,951417.7932132469,2176313.5685755145,130091.60765395944,2762663.8623347166,724274.0625418272,9739060.125006163,188107.5109367185,445572.00520418736,100246.4604717935,797483.8784668165,426673.094263594,302609.860305876,85757.98791767348,2360408.9276027987,243410.502067585,1223161.109663059,238540.553123213,13173110.603509627,1229491.803625145,294264.064338196,696733.557938189,150238.709291102,250696.634519877,563365.011658788,2845438.683930593,274489.665593542,510976.4625534509,210844.4960655992,2882205.9950339203,375363.6393831057,2960407.620832247,220002.64348058865,126539.39684261694,393516.76963502006,777216.4026121321,1968366.6442416364,566835.0646041295,474625.8268581855,237207.88218635743,376371.6230019796,154587.69451860824,11807377.521080917,480248.2159588035,125493.49625476392,1825216.3497777432,108423.09226152318,12931426.045909563,371710.40767014434,1207033.968989736,108883.1082384134,199716.4519242285,2492830.109261516,352310.63409420726,97238.51342749008,1446233.6829795777,185368.6660373504,12784914.616968654,12652965.520313062,215496.7101787211,388034.7027965242,577621.5051380707,1265584.6935253218,3013392.549014311,453079.49109916657,234117.4772636013,13584262.451090328,112481.01179068074,816912.9641501062,105442.11223403168,445266.3229528796,13924665.73048826,113988.682873909,2433265.147619283,14138482.706649387,1307569.244750023,2498191.900833373,183119.15211372773,485769.6138862865,2819279.585496608,180144.61828915204,2096237.596246645,115198.26101891116,1088796.7496283983,460671.4335026381,1271376.84656189,2607643.205050439,207459.0463040584,719275.2037646263,162759.71096067008,9676396.55907237,197929.09272787475,2017784.1609546824,180327.70001338475,2169078.6915387493,548786.119349362,12573850.969158806,174657.55390868807,2456795.8914218093,392770.68300296576,11545662.153670585,106530.7355251386,135627.644361161,633915.9933217333,13896770.634012671,2727204.3211485487,185953.95306897355,366968.639267931,3110356.073841342,148935.01617841818,13782844.434425484,1102766.4860904666,12770719.47063464,80772.49512162477,362154.39617338136,468567.2299986616],\"x0\":\" \",\"xaxis\":\"x\",\"y\":[\"Pepsi Max (L3)\",\"Pepsi Max (L3)\",\"Pepsi Max (L3)\",\"Pepsi Max (L3)\",\"Pepsi Max (L3)\",\"Pepsi Max (L3)\",\"Pepsi Max (L3)\",\"Pepsi Max (L3)\",\"Pepsi Max (L3)\",\"Pepsi Max (L3)\",\"Pepsi Max (L3)\",\"Pepsi Max (L3)\",\"Pepsi Max (L3)\",\"Pepsi Max (L3)\",\"Pepsi Max (L3)\",\"Pepsi Max (L3)\",\"Pepsi Max (L3)\",\"Pepsi Max (L3)\",\"Pepsi Max (L3)\",\"Pepsi Max (L3)\",\"Pepsi Max (L3)\",\"Pepsi Max (L3)\",\"Pepsi Max (L3)\",\"Pepsi Max (L3)\",\"Pepsi Max (L3)\",\"Pepsi Max (L3)\",\"Pepsi Max (L3)\",\"Pepsi Max (L3)\",\"Pepsi Max (L3)\",\"Pepsi Max (L3)\",\"Pepsi Max (L3)\",\"Pepsi Max (L3)\",\"Pepsi Max (L3)\",\"Pepsi Max (L3)\",\"Pepsi Max (L3)\",\"Pepsi Max (L3)\",\"Pepsi Max (L3)\",\"Pepsi Max (L3)\",\"Pepsi Max (L3)\",\"Pepsi Max (L3)\",\"Pepsi Max (L3)\",\"Pepsi Max (L3)\",\"Pepsi Max (L3)\",\"Pepsi Max (L3)\",\"Pepsi Max (L3)\",\"Pepsi Max (L3)\",\"Pepsi Max (L3)\",\"Pepsi Max (L3)\",\"Pepsi Max (L3)\",\"Pepsi Max (L3)\",\"Pepsi Max (L3)\",\"Pepsi Max (L3)\",\"Pepsi Max (L3)\",\"Pepsi Max (L3)\",\"Pepsi Max (L3)\",\"Pepsi Max (L3)\",\"Pepsi Max (L3)\",\"Pepsi Max (L3)\",\"Pepsi Max (L3)\",\"Pepsi Max (L3)\",\"Pepsi Max (L3)\",\"Pepsi Max (L3)\",\"Pepsi Max (L3)\",\"Pepsi Max (L3)\",\"Pepsi Max (L3)\",\"Pepsi Max (L3)\",\"Pepsi Max (L3)\",\"Pepsi Max (L3)\",\"Pepsi Max (L3)\",\"Pepsi Max (L3)\",\"Pepsi Max (L3)\",\"Pepsi Max (L3)\",\"Pepsi Max (L3)\",\"Pepsi Max (L3)\",\"Pepsi Max (L3)\",\"Pepsi Max (L3)\",\"Pepsi Max (L3)\",\"Pepsi Max (L3)\",\"Pepsi Max (L3)\",\"Pepsi Max (L3)\",\"Pepsi Max (L3)\",\"Pepsi Max (L3)\",\"Pepsi Max (L3)\",\"Pepsi Max (L3)\",\"Pepsi Max (L3)\",\"Pepsi Max (L3)\",\"Pepsi Max (L3)\",\"Pepsi Max (L3)\",\"Pepsi Max (L3)\",\"Pepsi Max (L3)\",\"Pepsi Max (L3)\",\"Pepsi Max (L3)\",\"Pepsi Max (L3)\",\"Pepsi Max (L3)\",\"Pepsi Max (L3)\",\"Pepsi Max (L3)\",\"Pepsi Max (L3)\",\"Pepsi Max (L3)\",\"Pepsi Max (L3)\",\"Pepsi Max (L3)\",\"Pepsi Max (L3)\",\"Pepsi Max (L3)\",\"Pepsi Max (L3)\",\"Pepsi Max (L3)\",\"Pepsi Max (L3)\",\"Pepsi Max (L3)\",\"Pepsi Max (L3)\",\"Pepsi Max (L3)\",\"Pepsi Max (L3)\",\"Pepsi Max (L3)\",\"Pepsi Max (L3)\",\"Pepsi Max (L3)\",\"Pepsi Max (L3)\",\"Pepsi Max (L3)\",\"Pepsi Max (L3)\",\"Pepsi Max (L3)\",\"Pepsi Max (L3)\",\"Pepsi Max (L3)\",\"Pepsi Max (L3)\",\"Pepsi Max (L3)\",\"Pepsi Max (L3)\",\"Pepsi Max (L3)\",\"Pepsi Max (L3)\",\"Pepsi Max (L3)\",\"Pepsi Max (L3)\",\"Pepsi Max (L3)\",\"Pepsi Max (L3)\",\"Pepsi Max (L3)\",\"Pepsi Max (L3)\",\"Pepsi Max (L3)\",\"Pepsi Max (L3)\",\"Pepsi Max (L3)\",\"Pepsi Max (L3)\",\"Pepsi Max (L3)\",\"Pepsi Max (L3)\",\"Pepsi Max (L3)\",\"Pepsi Max (L3)\",\"Pepsi Max (L3)\",\"Pepsi Max (L3)\",\"Pepsi Max (L3)\",\"Pepsi Max (L3)\",\"Pepsi Max (L3)\",\"Pepsi Max (L3)\",\"Pepsi Max (L3)\",\"Pepsi Max (L3)\",\"Pepsi Max (L3)\",\"Pepsi Max (L3)\",\"Pepsi Max (L3)\",\"Pepsi Max (L3)\",\"Pepsi Max (L3)\",\"Pepsi Max (L3)\",\"Pepsi Max (L3)\",\"Pepsi Max (L3)\",\"Pepsi Max (L3)\",\"Pepsi Max (L3)\",\"Pepsi Max (L3)\",\"Pepsi Max (L3)\",\"Pepsi Max (L3)\",\"Pepsi Max (L3)\",\"Pepsi Max (L3)\",\"Pepsi Max (L3)\",\"Pepsi Max (L3)\",\"Pepsi Max (L3)\",\"Pepsi Max (L3)\",\"Pepsi Max (L3)\",\"Pepsi Max (L3)\",\"Pepsi Max (L3)\",\"Pepsi Max (L3)\",\"Pepsi Max (L3)\",\"Pepsi Max (L3)\",\"Pepsi Max (L3)\",\"Pepsi Max (L3)\",\"Pepsi Max (L3)\",\"Pepsi Max (L3)\",\"Pepsi Max (L3)\",\"Pepsi Max (L3)\",\"Pepsi Max (L3)\",\"Pepsi Max (L3)\",\"Pepsi Max (L3)\",\"Pepsi Max (L3)\"],\"y0\":\" \",\"yaxis\":\"y\",\"type\":\"box\"},{\"alignmentgroup\":\"True\",\"customdata\":[[2023,3],[2023,10],[2023,10],[2024,4],[2024,7],[2024,4],[2023,5],[2023,5],[2023,12],[2023,12],[2023,12],[2024,5],[2023,8],[2023,4],[2023,4],[2023,6],[2023,1],[2023,1],[2023,2],[2023,9],[2023,9],[2023,9],[2023,3],[2023,3],[2024,1],[2024,1],[2024,1],[2024,1],[2024,2],[2023,5],[2023,5],[2023,11],[2023,12],[2024,6],[2024,8],[2024,8],[2024,8],[2024,5],[2024,5],[2024,5],[2023,8],[2023,4],[2023,4],[2023,4],[2024,3],[2024,3],[2024,3],[2023,6],[2023,6],[2023,1],[2023,7],[2023,7],[2023,2],[2023,2],[2023,2],[2023,9],[2023,9],[2023,9],[2023,3],[2023,10],[2023,10],[2023,3],[2023,10],[2024,1],[2024,1],[2024,1],[2024,2],[2024,2],[2024,2],[2024,2],[2024,4],[2023,5],[2023,11],[2023,11],[2023,11],[2023,11],[2023,12],[2024,6],[2024,6],[2024,6],[2024,6],[2024,6],[2024,8],[2024,5],[2024,5],[2023,8],[2023,8],[2023,4],[2023,4],[2024,3],[2024,3],[2023,6],[2023,1],[2023,1],[2023,1],[2023,7],[2023,2],[2023,9],[2023,10],[2023,10],[2023,3],[2023,3],[2023,10],[2024,2],[2024,2],[2024,4],[2024,7],[2024,4],[2024,4],[2024,7],[2023,5],[2023,5],[2023,11],[2023,12],[2024,8],[2024,8],[2024,5],[2023,8],[2023,8],[2023,8],[2023,8],[2023,4],[2024,3],[2024,3],[2023,6],[2023,6],[2023,1],[2023,7],[2023,7],[2023,7],[2023,2],[2023,2],[2023,3],[2024,7],[2024,7],[2024,4],[2024,7],[2023,5],[2023,11],[2023,12],[2024,6],[2023,6],[2023,6],[2023,1],[2023,7]],\"hovertemplate\":\"=%{y}\\u003cbr\\u003eCantidad=%{x}\\u003cbr\\u003eYEAR=%{customdata[0]}\\u003cbr\\u003eMONTH=%{customdata[1]}\\u003cextra\\u003e\\u003c\\u002fextra\\u003e\",\"legendgroup\":\"7up (L3)\",\"marker\":{\"color\":\"rgb(204, 102, 119)\"},\"name\":\"7up (L3)\",\"notched\":true,\"offsetgroup\":\"7up (L3)\",\"orientation\":\"h\",\"showlegend\":true,\"x\":[293497.1117200764,348446.58091058314,140721.0555606433,74882.99296245942,467928.687452889,109110.6211210753,82918.33366906652,3774.4887599839385,100807.92233802738,272963.44071629347,11136.030939822676,482446.084302552,106715.95381781296,9060.449585426164,73141.16028298099,11802.589589512025,64640.33870365544,10681.570660711644,87711.84828781358,12398.87850203941,313828.81094446755,129415.9334427592,75310.10263960606,15229.00537501849,71405.76048903509,2567.753411340373,245995.7835339866,6789.810711996224,76848.37996555197,81047.37131304023,459201.46456925885,11175.973737786451,114694.920149627,3451.142279487,96514.247673526,556479.542507026,1800.595971906,3482.321613491,3391.967763978,301786.721661398,21004.4492235106,342200.0838305637,62656.2383324058,240064.25450677337,66435.80973984348,38418.88424851888,266715.7721217586,3924.538403556107,6965.280761942333,146982.14373771602,302001.9135911182,2398.6812536543785,26176.671151719234,50850.25677512979,4657.752918219411,3163.7232041591237,62839.81669989363,375453.7153142238,94306.65094820118,1542.7641543327725,13533.59391523955,31252.9006079477,60014.249460560895,288522.0037618085,52101.72996960261,110461.4907751157,264665.6921657168,3588.5116904891056,9042.352046099766,272026.82747106435,14310.76483061295,136417.9693278761,99913.5795238565,51336.52884299734,250399.60390569412,100802.81501623776,2388.114375884976,323061.095926113,79701.862588321,22362.683423385,440024.607176317,110012.271667383,15992.124153769,18141.892034689,120009.84833008,319487.7969468768,65701.26353159145,98599.36739625088,2138.736060713476,17993.173796960968,94549.0408797278,344973.0768634689,78971.96959557036,1485.7030143779984,65880.60484808353,91099.07152367334,311120.86218678014,84366.48226666574,226245.2291955788,92671.3869433897,1413.848245546061,140029.30547434714,10018.266609370708,94169.45749649532,54000.32594661614,262402.5683148648,22657.414778131,365441.52994300926,2050.946126534839,2679.76020232,8814.413925735982,242854.25654970307,1912.6048762618611,329658.85363465373,101146.576683832,387428.132903143,77568.360654581,14761.484434989045,576737.781167006,138851.28880685862,3647.68620599776,11564.34876332307,290162.8181158553,43817.777715159245,63797.1053799497,91915.88401372284,122161.56051650898,103384.94030894028,601534.6276584503,27799.84924587716,69302.9735194043,153406.3070171113,195259.95068790377,95936.841771572,340682.9549217,19387.98584989398,134893.971948462,20638.084436397967,262238.5824885702,61627.318905377135,1501.558614471,468507.61167428654,176860.89762104358,250322.3285171853,122812.69152465956],\"x0\":\" \",\"xaxis\":\"x\",\"y\":[\"7up (L3)\",\"7up (L3)\",\"7up (L3)\",\"7up (L3)\",\"7up (L3)\",\"7up (L3)\",\"7up (L3)\",\"7up (L3)\",\"7up (L3)\",\"7up (L3)\",\"7up (L3)\",\"7up (L3)\",\"7up (L3)\",\"7up (L3)\",\"7up (L3)\",\"7up (L3)\",\"7up (L3)\",\"7up (L3)\",\"7up (L3)\",\"7up (L3)\",\"7up (L3)\",\"7up (L3)\",\"7up (L3)\",\"7up (L3)\",\"7up (L3)\",\"7up (L3)\",\"7up (L3)\",\"7up (L3)\",\"7up (L3)\",\"7up (L3)\",\"7up (L3)\",\"7up (L3)\",\"7up (L3)\",\"7up (L3)\",\"7up (L3)\",\"7up (L3)\",\"7up (L3)\",\"7up (L3)\",\"7up (L3)\",\"7up (L3)\",\"7up (L3)\",\"7up (L3)\",\"7up (L3)\",\"7up (L3)\",\"7up (L3)\",\"7up (L3)\",\"7up (L3)\",\"7up (L3)\",\"7up (L3)\",\"7up (L3)\",\"7up (L3)\",\"7up (L3)\",\"7up (L3)\",\"7up (L3)\",\"7up (L3)\",\"7up (L3)\",\"7up (L3)\",\"7up (L3)\",\"7up (L3)\",\"7up (L3)\",\"7up (L3)\",\"7up (L3)\",\"7up (L3)\",\"7up (L3)\",\"7up (L3)\",\"7up (L3)\",\"7up (L3)\",\"7up (L3)\",\"7up (L3)\",\"7up (L3)\",\"7up (L3)\",\"7up (L3)\",\"7up (L3)\",\"7up (L3)\",\"7up (L3)\",\"7up (L3)\",\"7up (L3)\",\"7up (L3)\",\"7up (L3)\",\"7up (L3)\",\"7up (L3)\",\"7up (L3)\",\"7up (L3)\",\"7up (L3)\",\"7up (L3)\",\"7up (L3)\",\"7up (L3)\",\"7up (L3)\",\"7up (L3)\",\"7up (L3)\",\"7up (L3)\",\"7up (L3)\",\"7up (L3)\",\"7up (L3)\",\"7up (L3)\",\"7up (L3)\",\"7up (L3)\",\"7up (L3)\",\"7up (L3)\",\"7up (L3)\",\"7up (L3)\",\"7up (L3)\",\"7up (L3)\",\"7up (L3)\",\"7up (L3)\",\"7up (L3)\",\"7up (L3)\",\"7up (L3)\",\"7up (L3)\",\"7up (L3)\",\"7up (L3)\",\"7up (L3)\",\"7up (L3)\",\"7up (L3)\",\"7up (L3)\",\"7up (L3)\",\"7up (L3)\",\"7up (L3)\",\"7up (L3)\",\"7up (L3)\",\"7up (L3)\",\"7up (L3)\",\"7up (L3)\",\"7up (L3)\",\"7up (L3)\",\"7up (L3)\",\"7up (L3)\",\"7up (L3)\",\"7up (L3)\",\"7up (L3)\",\"7up (L3)\",\"7up (L3)\",\"7up (L3)\",\"7up (L3)\",\"7up (L3)\",\"7up (L3)\",\"7up (L3)\",\"7up (L3)\",\"7up (L3)\",\"7up (L3)\",\"7up (L3)\",\"7up (L3)\",\"7up (L3)\",\"7up (L3)\",\"7up (L3)\"],\"y0\":\" \",\"yaxis\":\"y\",\"type\":\"box\"},{\"alignmentgroup\":\"True\",\"customdata\":[[2023,10],[2023,10],[2023,10],[2024,1],[2024,1],[2024,1],[2024,2],[2024,2],[2024,2],[2024,4],[2024,4],[2024,7],[2024,7],[2024,7],[2023,5],[2023,11],[2023,12],[2023,12],[2024,8],[2024,5],[2024,5],[2024,3],[2023,6],[2023,1],[2023,2],[2023,2],[2023,10],[2023,3],[2024,1],[2024,4],[2024,7],[2024,7],[2023,5],[2023,5],[2023,5],[2023,5],[2023,5],[2023,11],[2023,12],[2023,12],[2024,6],[2024,8],[2024,8],[2024,8],[2024,5],[2024,5],[2023,4],[2023,4],[2024,3],[2024,3],[2023,6],[2023,1],[2023,1],[2023,7],[2023,7],[2023,7],[2023,7],[2023,9],[2023,9],[2023,3],[2023,10],[2023,3],[2023,10],[2023,3],[2023,3],[2024,1],[2024,1],[2024,2],[2024,7],[2024,4],[2024,7],[2024,7],[2024,4],[2023,5],[2023,11],[2023,12],[2024,6],[2024,6],[2024,6],[2024,8],[2024,8],[2024,5],[2024,5],[2023,8],[2023,8],[2023,8],[2023,8],[2023,4],[2023,4],[2023,4],[2024,3],[2024,3],[2023,6],[2023,6],[2023,6],[2023,2],[2023,2],[2023,9],[2023,9],[2023,3],[2023,10],[2023,3],[2024,1],[2024,2],[2024,2],[2024,2],[2024,4],[2024,4],[2024,4],[2023,11],[2023,11],[2023,11],[2023,12],[2024,6],[2024,8],[2024,8],[2024,5],[2023,8],[2023,8],[2023,8],[2023,4],[2023,4],[2024,3],[2023,6],[2023,6],[2023,1],[2023,1],[2023,7],[2023,2],[2023,2],[2023,11],[2023,12],[2024,6],[2024,6],[2024,6],[2024,5],[2024,3],[2024,3],[2023,1],[2023,1],[2023,7],[2023,7],[2023,2],[2023,9],[2023,9],[2023,9]],\"hovertemplate\":\"=%{y}\\u003cbr\\u003eCantidad=%{x}\\u003cbr\\u003eYEAR=%{customdata[0]}\\u003cbr\\u003eMONTH=%{customdata[1]}\\u003cextra\\u003e\\u003c\\u002fextra\\u003e\",\"legendgroup\":\"7up Free (L3)\",\"marker\":{\"color\":\"rgb(221, 204, 119)\"},\"name\":\"7up Free (L3)\",\"notched\":true,\"offsetgroup\":\"7up Free (L3)\",\"orientation\":\"h\",\"showlegend\":true,\"x\":[1172553.4686832966,132014.3991321071,83196.89587639924,969981.2136411348,103665.1849555839,60318.99423122441,52699.45814283602,59482.85058485907,910090.0804843856,29956.63806330264,72486.58258019538,94034.761505568,40910.2097173,49063.774629631,64424.03987398998,31843.99061661254,29107.04599409664,125054.94071981571,80319.401492045,88493.728558043,1270442.919487436,62914.44527414004,50624.28409403112,72078.55416933775,78712.61966989074,105868.78755644476,106866.12822553945,64655.47145032158,58579.906351398,143753.79174797295,79302.616006707,166701.35345854,128923.62260748276,46109.17347530521,1369.8195881735503,1398077.239720189,156433.91826872277,101695.60347438944,1133045.9368593832,63811.6805944221,58920.810056849,43022.796277641,82299.893274535,136482.215944714,38857.156946312,64397.071565943,28263.728135402565,147304.69944277333,114495.60770114051,1105659.5148746418,161835.08273865297,10365.666805210176,35732.59459116749,192337.2102033772,152992.8567906279,152643.734193712,58131.089163314624,28072.795220953416,135100.19513500945,95734.87703676573,44587.79525811359,25687.368354314454,48162.7334399414,1304897.9549921455,43451.00138778328,90492.87264094457,28550.647045148748,96123.5056673688,92202.399737943,32814.75708650047,153134.030277626,1373990.410558422,121748.45371355308,47989.63389290822,43669.911872239405,125343.33018675196,142005.198798195,1346003.398878506,131566.912992326,101061.307263671,1533493.899389235,150567.36636422,136778.93387248,79772.16402612132,164793.5126415081,105712.72961973328,48498.84782199038,116231.10113910944,41739.87164765802,54815.01624992075,14906.588661211812,87446.30969405366,76407.2321369573,32070.245081118403,174630.33539270036,13131.459004036547,19655.935415243075,83987.10840912133,130280.67388501827,17322.388396159295,31500.33814008862,152664.89612759155,25773.94137496213,23976.259747944743,95487.10840912133,29806.555690968136,36822.82163814784,1205175.7205201725,70054.79630581953,79338.81993089261,132196.72708572555,74531.12053248259,26668.157770529684,75371.66526949,51804.364824977,189635.867804837,57893.829295612,30500.578255813547,1317455.626721521,177807.76031503384,33523.877621466265,1182113.5232083858,29032.655174600048,65925.4401104591,1443260.5982966195,17068.677660915935,114214.14130028954,1492144.0896634802,1040915.5248568192,50344.87118975999,1021965.48600327,52964.78008604926,45056.603241918,38646.080040577,78611.64610822,35035.504709303,73851.81930163506,121991.645121977,1004129.6960965954,54525.1755862856,31229.40883003529,92339.32988163334,11897.001120089044,33798.11275563038,1293227.672891732,75888.8082792544],\"x0\":\" \",\"xaxis\":\"x\",\"y\":[\"7up Free (L3)\",\"7up Free (L3)\",\"7up Free (L3)\",\"7up Free (L3)\",\"7up Free (L3)\",\"7up Free (L3)\",\"7up Free (L3)\",\"7up Free (L3)\",\"7up Free (L3)\",\"7up Free (L3)\",\"7up Free (L3)\",\"7up Free (L3)\",\"7up Free (L3)\",\"7up Free (L3)\",\"7up Free (L3)\",\"7up Free (L3)\",\"7up Free (L3)\",\"7up Free (L3)\",\"7up Free (L3)\",\"7up Free (L3)\",\"7up Free (L3)\",\"7up Free (L3)\",\"7up Free (L3)\",\"7up Free (L3)\",\"7up Free (L3)\",\"7up Free (L3)\",\"7up Free (L3)\",\"7up Free (L3)\",\"7up Free (L3)\",\"7up Free (L3)\",\"7up Free (L3)\",\"7up Free (L3)\",\"7up Free (L3)\",\"7up Free (L3)\",\"7up Free (L3)\",\"7up Free (L3)\",\"7up Free (L3)\",\"7up Free (L3)\",\"7up Free (L3)\",\"7up Free (L3)\",\"7up Free (L3)\",\"7up Free (L3)\",\"7up Free (L3)\",\"7up Free (L3)\",\"7up Free (L3)\",\"7up Free (L3)\",\"7up Free (L3)\",\"7up Free (L3)\",\"7up Free (L3)\",\"7up Free (L3)\",\"7up Free (L3)\",\"7up Free (L3)\",\"7up Free (L3)\",\"7up Free (L3)\",\"7up Free (L3)\",\"7up Free (L3)\",\"7up Free (L3)\",\"7up Free (L3)\",\"7up Free (L3)\",\"7up Free (L3)\",\"7up Free (L3)\",\"7up Free (L3)\",\"7up Free (L3)\",\"7up Free (L3)\",\"7up Free (L3)\",\"7up Free (L3)\",\"7up Free (L3)\",\"7up Free (L3)\",\"7up Free (L3)\",\"7up Free (L3)\",\"7up Free (L3)\",\"7up Free (L3)\",\"7up Free (L3)\",\"7up Free (L3)\",\"7up Free (L3)\",\"7up Free (L3)\",\"7up Free (L3)\",\"7up Free (L3)\",\"7up Free (L3)\",\"7up Free (L3)\",\"7up Free (L3)\",\"7up Free (L3)\",\"7up Free (L3)\",\"7up Free (L3)\",\"7up Free (L3)\",\"7up Free (L3)\",\"7up Free (L3)\",\"7up Free (L3)\",\"7up Free (L3)\",\"7up Free (L3)\",\"7up Free (L3)\",\"7up Free (L3)\",\"7up Free (L3)\",\"7up Free (L3)\",\"7up Free (L3)\",\"7up Free (L3)\",\"7up Free (L3)\",\"7up Free (L3)\",\"7up Free (L3)\",\"7up Free (L3)\",\"7up Free (L3)\",\"7up Free (L3)\",\"7up Free (L3)\",\"7up Free (L3)\",\"7up Free (L3)\",\"7up Free (L3)\",\"7up Free (L3)\",\"7up Free (L3)\",\"7up Free (L3)\",\"7up Free (L3)\",\"7up Free (L3)\",\"7up Free (L3)\",\"7up Free (L3)\",\"7up Free (L3)\",\"7up Free (L3)\",\"7up Free (L3)\",\"7up Free (L3)\",\"7up Free (L3)\",\"7up Free (L3)\",\"7up Free (L3)\",\"7up Free (L3)\",\"7up Free (L3)\",\"7up Free (L3)\",\"7up Free (L3)\",\"7up Free (L3)\",\"7up Free (L3)\",\"7up Free (L3)\",\"7up Free (L3)\",\"7up Free (L3)\",\"7up Free (L3)\",\"7up Free (L3)\",\"7up Free (L3)\",\"7up Free (L3)\",\"7up Free (L3)\",\"7up Free (L3)\",\"7up Free (L3)\",\"7up Free (L3)\",\"7up Free (L3)\",\"7up Free (L3)\",\"7up Free (L3)\",\"7up Free (L3)\",\"7up Free (L3)\",\"7up Free (L3)\",\"7up Free (L3)\",\"7up Free (L3)\",\"7up Free (L3)\"],\"y0\":\" \",\"yaxis\":\"y\",\"type\":\"box\"},{\"alignmentgroup\":\"True\",\"customdata\":[[2023,10],[2023,3],[2023,3],[2024,1],[2024,2],[2024,2],[2024,7],[2024,4],[2023,5],[2024,8],[2024,8],[2024,5],[2023,8],[2023,4],[2024,3],[2024,3],[2023,6],[2023,6],[2023,6],[2023,1],[2023,7],[2023,7],[2023,7],[2023,7],[2023,2],[2023,9],[2023,9],[2023,10],[2024,1],[2024,2],[2024,4],[2024,7],[2024,4],[2024,7],[2024,7],[2024,7],[2023,5],[2023,11],[2023,11],[2023,11],[2023,12],[2023,12],[2024,6],[2024,6],[2024,6],[2024,6],[2024,5],[2023,8],[2023,8],[2023,4],[2023,4],[2024,3],[2024,3],[2023,6],[2023,1],[2023,7],[2023,2],[2023,2],[2023,9],[2023,3],[2023,10],[2023,10],[2023,10],[2023,10],[2023,10],[2024,1],[2024,1],[2024,2],[2024,4],[2024,4],[2024,4],[2024,4],[2024,7],[2023,5],[2023,5],[2023,5],[2023,11],[2023,11],[2023,12],[2023,12],[2023,12],[2023,12],[2023,12],[2024,6],[2024,8],[2024,8],[2024,8],[2024,8],[2024,5],[2024,5],[2023,8],[2023,8],[2023,8],[2024,3],[2024,3],[2023,6],[2023,6],[2023,6],[2023,1],[2023,1],[2023,1],[2023,7],[2023,2],[2023,2],[2023,2],[2023,9],[2023,3],[2023,10],[2023,3],[2023,3],[2023,3],[2023,3],[2023,3],[2024,1],[2024,1],[2024,1],[2024,1],[2024,2],[2024,2],[2024,2],[2024,2],[2024,2],[2024,7],[2024,7],[2024,7],[2024,4],[2023,5],[2023,5],[2023,11],[2023,11],[2023,12],[2023,12],[2024,6],[2024,6],[2024,6],[2024,6],[2024,8],[2024,8],[2024,8],[2024,5],[2024,5],[2024,5],[2024,5],[2023,8],[2023,8],[2023,4],[2023,4],[2023,4],[2023,4],[2024,3],[2024,3],[2024,3],[2023,6],[2023,1],[2023,1],[2023,1],[2023,7],[2023,2],[2023,2],[2023,9],[2023,9],[2023,9],[2023,9],[2023,10],[2024,1],[2024,4],[2023,5],[2023,5],[2023,11],[2023,11],[2024,5],[2023,8],[2023,4],[2023,4],[2023,6],[2023,1],[2023,7],[2023,7],[2023,2],[2023,9]],\"hovertemplate\":\"=%{y}\\u003cbr\\u003eCantidad=%{x}\\u003cbr\\u003eYEAR=%{customdata[0]}\\u003cbr\\u003eMONTH=%{customdata[1]}\\u003cextra\\u003e\\u003c\\u002fextra\\u003e\",\"legendgroup\":\"Pepsi Regular (L3)\",\"marker\":{\"color\":\"rgb(17, 119, 51)\"},\"name\":\"Pepsi Regular (L3)\",\"notched\":true,\"offsetgroup\":\"Pepsi Regular (L3)\",\"orientation\":\"h\",\"showlegend\":true,\"x\":[37848.59296386832,45879.58157101294,1042737.081991927,424229.5125851514,2028092.6916655512,195622.0791388699,394678.995864828,38736.60987791734,1908551.1472106967,173370.457123134,55198.204687467,1851436.730819364,1266616.6603699818,869314.3998365657,2100892.975139659,1968418.517889724,571161.9691024494,55327.72183927076,300333.1490000212,2100111.241044571,47753.36538326066,311299.1553542369,162071.55519256374,350901.80552718154,1830788.5638204191,257955.8022725832,216877.1949870732,252543.58837079885,193161.47950377944,389128.2959852909,1884452.6451360665,1845970.157376038,1596162.3533582513,2105301.82525202,1088774.907892049,268931.038706472,1779800.6769846354,393152.2405303164,1803962.3552026025,220008.26858185456,501825.3576888125,214672.65397702053,1847830.664022591,729744.905003767,312715.88131283,767879.162469266,991092.859960691,2228968.41912464,49100.65680013808,1896348.932428339,99838.51406116813,294037.2165435038,213812.88877304463,1429954.6328714434,135789.36338083734,2439380.35476531,36319.49307165048,1722087.5148816863,140729.30844064584,122439.03679157892,151523.86577670075,833296.3274087199,447053.3204652244,1799985.184497686,1433297.739392616,191390.19605080556,34536.63396335406,265639.3313279748,311093.23156255943,876939.3265816856,108135.50964051482,1913489.6409374936,935186.161969102,276816.72983311384,551830.1832296605,2137516.019245807,1036212.2823575408,38067.145597486495,1735358.908652864,285393.5985854473,1045487.76012792,115494.26762467154,37395.060963840144,265107.932132466,2132092.495403409,2035189.275675748,376188.333462483,335232.153177461,1700379.484759041,241078.499098294,260730.62591139323,933191.1872854044,186616.62295196296,981337.4232497727,1207066.7033542793,2099138.8100286718,143831.89772037225,973766.088071404,34297.395969088364,1607574.0456348227,1052390.2242291465,301485.7460338985,447496.10786668834,864592.2629320972,85035.20179214247,38895.2611005051,2106423.3130331864,1024731.9881193072,216674.3710946581,593942.2484906976,2344058.304509239,306278.2752037646,1106104.7283255726,1871824.466548787,1594887.3361253373,926173.7784539602,113340.61179034613,878493.5759953647,771024.4963093419,36672.00045789803,1806539.9463202609,108317.83149722092,151248.159602121,53269.147182519,165327.090656767,115596.74681056407,49642.68303060167,1048286.7674511988,123046.45431128611,299182.0884377224,2232423.5451170523,993632.6795559094,128068.022514494,2076134.033799918,48152.476523919,130166.523426768,981788.232724916,118063.302642424,985290.247476278,121190.253111945,1179755.864617163,358350.351877028,47917.039442632,2064473.571569463,330683.31879565766,223824.77298824256,1077233.6407120668,286841.753960818,34586.398503564946,273459.1026607398,100264.4079378386,238323.23374638084,309603.1080709813,193217.05775855383,99292.75887089389,1851080.885927032,1054386.0080449162,174903.04889646574,192058.3978499926,503292.2516607609,1015832.6770128142,1948755.726965968,695304.0125957185,219788.50922488436,871757.4144447459,249372.6726451713,350075.1657238663,115891.54759145631,1686422.661021606,923719.849163931,111719.09364367,506454.60117081006,448285.6438398625,2006110.3780828863,1944245.890365121,421721.20349693205,438084.2250604073,2021779.7796805988,607250.8083661493,1562572.6120617387],\"x0\":\" \",\"xaxis\":\"x\",\"y\":[\"Pepsi Regular (L3)\",\"Pepsi Regular (L3)\",\"Pepsi Regular (L3)\",\"Pepsi Regular (L3)\",\"Pepsi Regular (L3)\",\"Pepsi Regular (L3)\",\"Pepsi Regular (L3)\",\"Pepsi Regular (L3)\",\"Pepsi Regular (L3)\",\"Pepsi Regular (L3)\",\"Pepsi Regular (L3)\",\"Pepsi Regular (L3)\",\"Pepsi Regular (L3)\",\"Pepsi Regular (L3)\",\"Pepsi Regular (L3)\",\"Pepsi Regular (L3)\",\"Pepsi Regular (L3)\",\"Pepsi Regular (L3)\",\"Pepsi Regular (L3)\",\"Pepsi Regular (L3)\",\"Pepsi Regular (L3)\",\"Pepsi Regular (L3)\",\"Pepsi Regular (L3)\",\"Pepsi Regular (L3)\",\"Pepsi Regular (L3)\",\"Pepsi Regular (L3)\",\"Pepsi Regular (L3)\",\"Pepsi Regular (L3)\",\"Pepsi Regular (L3)\",\"Pepsi Regular (L3)\",\"Pepsi Regular (L3)\",\"Pepsi Regular (L3)\",\"Pepsi Regular (L3)\",\"Pepsi Regular (L3)\",\"Pepsi Regular (L3)\",\"Pepsi Regular (L3)\",\"Pepsi Regular (L3)\",\"Pepsi Regular (L3)\",\"Pepsi Regular (L3)\",\"Pepsi Regular (L3)\",\"Pepsi Regular (L3)\",\"Pepsi Regular (L3)\",\"Pepsi Regular (L3)\",\"Pepsi Regular (L3)\",\"Pepsi Regular (L3)\",\"Pepsi Regular (L3)\",\"Pepsi Regular (L3)\",\"Pepsi Regular (L3)\",\"Pepsi Regular (L3)\",\"Pepsi Regular (L3)\",\"Pepsi Regular (L3)\",\"Pepsi Regular (L3)\",\"Pepsi Regular (L3)\",\"Pepsi Regular (L3)\",\"Pepsi Regular (L3)\",\"Pepsi Regular (L3)\",\"Pepsi Regular (L3)\",\"Pepsi Regular (L3)\",\"Pepsi Regular (L3)\",\"Pepsi Regular (L3)\",\"Pepsi Regular (L3)\",\"Pepsi Regular (L3)\",\"Pepsi Regular (L3)\",\"Pepsi Regular (L3)\",\"Pepsi Regular (L3)\",\"Pepsi Regular (L3)\",\"Pepsi Regular (L3)\",\"Pepsi Regular (L3)\",\"Pepsi Regular (L3)\",\"Pepsi Regular (L3)\",\"Pepsi Regular (L3)\",\"Pepsi Regular (L3)\",\"Pepsi Regular (L3)\",\"Pepsi Regular (L3)\",\"Pepsi Regular (L3)\",\"Pepsi Regular (L3)\",\"Pepsi Regular (L3)\",\"Pepsi Regular (L3)\",\"Pepsi Regular (L3)\",\"Pepsi Regular (L3)\",\"Pepsi Regular (L3)\",\"Pepsi Regular (L3)\",\"Pepsi Regular (L3)\",\"Pepsi Regular (L3)\",\"Pepsi Regular (L3)\",\"Pepsi Regular (L3)\",\"Pepsi Regular (L3)\",\"Pepsi Regular (L3)\",\"Pepsi Regular (L3)\",\"Pepsi Regular (L3)\",\"Pepsi Regular (L3)\",\"Pepsi Regular (L3)\",\"Pepsi Regular (L3)\",\"Pepsi Regular (L3)\",\"Pepsi Regular (L3)\",\"Pepsi Regular (L3)\",\"Pepsi Regular (L3)\",\"Pepsi Regular (L3)\",\"Pepsi Regular (L3)\",\"Pepsi Regular (L3)\",\"Pepsi Regular (L3)\",\"Pepsi Regular (L3)\",\"Pepsi Regular (L3)\",\"Pepsi Regular (L3)\",\"Pepsi Regular (L3)\",\"Pepsi Regular (L3)\",\"Pepsi Regular (L3)\",\"Pepsi Regular (L3)\",\"Pepsi Regular (L3)\",\"Pepsi Regular (L3)\",\"Pepsi Regular (L3)\",\"Pepsi Regular (L3)\",\"Pepsi Regular (L3)\",\"Pepsi Regular (L3)\",\"Pepsi Regular (L3)\",\"Pepsi Regular (L3)\",\"Pepsi Regular (L3)\",\"Pepsi Regular (L3)\",\"Pepsi Regular (L3)\",\"Pepsi Regular (L3)\",\"Pepsi Regular (L3)\",\"Pepsi Regular (L3)\",\"Pepsi Regular (L3)\",\"Pepsi Regular (L3)\",\"Pepsi Regular (L3)\",\"Pepsi Regular (L3)\",\"Pepsi Regular (L3)\",\"Pepsi Regular (L3)\",\"Pepsi Regular (L3)\",\"Pepsi Regular (L3)\",\"Pepsi Regular (L3)\",\"Pepsi Regular (L3)\",\"Pepsi Regular (L3)\",\"Pepsi Regular (L3)\",\"Pepsi Regular (L3)\",\"Pepsi Regular (L3)\",\"Pepsi Regular (L3)\",\"Pepsi Regular (L3)\",\"Pepsi Regular (L3)\",\"Pepsi Regular (L3)\",\"Pepsi Regular (L3)\",\"Pepsi Regular (L3)\",\"Pepsi Regular (L3)\",\"Pepsi Regular (L3)\",\"Pepsi Regular (L3)\",\"Pepsi Regular (L3)\",\"Pepsi Regular (L3)\",\"Pepsi Regular (L3)\",\"Pepsi Regular (L3)\",\"Pepsi Regular (L3)\",\"Pepsi Regular (L3)\",\"Pepsi Regular (L3)\",\"Pepsi Regular (L3)\",\"Pepsi Regular (L3)\",\"Pepsi Regular (L3)\",\"Pepsi Regular (L3)\",\"Pepsi Regular (L3)\",\"Pepsi Regular (L3)\",\"Pepsi Regular (L3)\",\"Pepsi Regular (L3)\",\"Pepsi Regular (L3)\",\"Pepsi Regular (L3)\",\"Pepsi Regular (L3)\",\"Pepsi Regular (L3)\",\"Pepsi Regular (L3)\",\"Pepsi Regular (L3)\",\"Pepsi Regular (L3)\",\"Pepsi Regular (L3)\",\"Pepsi Regular (L3)\",\"Pepsi Regular (L3)\",\"Pepsi Regular (L3)\",\"Pepsi Regular (L3)\",\"Pepsi Regular (L3)\",\"Pepsi Regular (L3)\",\"Pepsi Regular (L3)\",\"Pepsi Regular (L3)\",\"Pepsi Regular (L3)\",\"Pepsi Regular (L3)\",\"Pepsi Regular (L3)\",\"Pepsi Regular (L3)\"],\"y0\":\" \",\"yaxis\":\"y\",\"type\":\"box\"},{\"alignmentgroup\":\"True\",\"customdata\":[[2023,10],[2023,10],[2024,2],[2024,2],[2024,7],[2024,7],[2023,5],[2023,5],[2023,11],[2023,12],[2024,6],[2024,8],[2024,8],[2024,8],[2024,5],[2024,5],[2023,8],[2023,8],[2023,8],[2023,4],[2023,4],[2024,3],[2023,7],[2023,2],[2023,9],[2023,3],[2023,10],[2024,1],[2024,1],[2024,7],[2024,7],[2024,4],[2023,5],[2023,11],[2023,12],[2023,12],[2024,6],[2024,6],[2024,8],[2024,5],[2023,4],[2023,4],[2023,4],[2023,4],[2024,3],[2023,6],[2023,6],[2023,6],[2023,6],[2023,1],[2023,1],[2023,7],[2023,7],[2023,2],[2023,9],[2023,3],[2023,10],[2023,3],[2023,3],[2023,3],[2024,1],[2024,2],[2024,7],[2024,4],[2024,4],[2023,5],[2023,5],[2023,12],[2024,6],[2024,6],[2024,5],[2024,5],[2023,8],[2023,8],[2023,8],[2023,4],[2024,3],[2023,6],[2023,6],[2023,6],[2023,1],[2023,1],[2023,2],[2023,2],[2023,2],[2023,9],[2023,9],[2023,3],[2023,10],[2023,10],[2024,1],[2024,1],[2024,1],[2024,2],[2024,2],[2024,2],[2024,4],[2024,4],[2024,4],[2023,5],[2023,5],[2023,11],[2023,11],[2023,11],[2023,12],[2024,6],[2024,8],[2024,8],[2024,5],[2023,8],[2024,3],[2024,3],[2023,1],[2023,1],[2023,7],[2023,7],[2023,7],[2023,2],[2023,10],[2023,3],[2024,1],[2024,7],[2023,11],[2023,11],[2023,12],[2023,12],[2024,6],[2024,3],[2023,7],[2023,2],[2023,9]],\"hovertemplate\":\"=%{y}\\u003cbr\\u003eCantidad=%{x}\\u003cbr\\u003eYEAR=%{customdata[0]}\\u003cbr\\u003eMONTH=%{customdata[1]}\\u003cextra\\u003e\\u003c\\u002fextra\\u003e\",\"legendgroup\":\"Lipton (L3)\",\"marker\":{\"color\":\"rgb(51, 34, 136)\"},\"name\":\"Lipton (L3)\",\"notched\":true,\"offsetgroup\":\"Lipton (L3)\",\"orientation\":\"h\",\"showlegend\":true,\"x\":[1206886.222904764,642688.8624756082,8003.513133044036,287384.59063616133,480667.294808845,15308.024486978,874043.682909132,311656.59760625,511840.46921868506,8591.425799032075,379306.000929886,16677.562291743,829271.484223649,462035.781209272,8909.258698302,769221.568054214,644766.3709819448,310316.8858660965,356247.3093537218,5781.138827640136,241540.5451100012,606040.6452628688,9078.885271885763,5337.329961325228,316922.2524356654,2061711.955717738,272927.96378429834,279790.3326555269,7392.653203701226,865671.68886885,986530.746092015,9613.097292765917,11759.247227955731,306240.8039472755,3218.847086711799,237346.75869002411,6618.035546977,9739.012208266,1266922.558875118,359128.547829213,584073.0946158236,270766.7115171924,657783.9962875036,1434733.1246962023,1169245.468570583,932690.8871246118,302972.6106528218,11845.311399723854,2245735.412425239,314354.5222714561,1854979.9933780893,399943.1889428192,696546.3075806783,195816.13280451985,294266.052848478,9426.005681457948,10942.085509666931,4765.66187400055,615373.1719301459,271460.49044402025,245344.32084908392,256625.6720106303,1589825.171007304,745942.7747212107,1241237.3672976266,883778.1448789388,1045.064211393912,533035.6995977542,857590.691989599,1822674.050566031,745673.687769899,321262.608046326,1219854.9847308616,229142.92054412377,2411275.506681789,9617.009842166068,6855.564870062626,1011623.23180912,344308.88392637006,9113.9320761097,204094.2248490698,647593.3125752892,10132.837981585457,191676.7486421562,310512.9655590231,1534608.0674589474,10634.28934295154,970709.8159249892,245019.93944773977,1391180.6724761014,3823.096376969842,559138.4604059091,592168.3585412072,636620.1057392238,1051473.5511049433,522385.952568808,406366.91102863743,731579.0674730367,300841.679750516,75731.47097983136,825929.5338950215,2690.327080089889,257105.39744686615,1410549.5833127866,596053.7767077833,325133.96159292,1801768.981634766,451693.932146554,1566569.737870988,16355.798251764669,241767.3204359541,698062.6725042795,368979.1180883814,9208.97938049918,1085059.273139701,870973.6265172276,1642085.0985889696,1359168.3796749625,3906.5747113481225,295028.3579776405,947164.4276626772,435577.701774531,546042.753587455,8034.032890992088,247952.81558372203,1578557.8747895432,840563.337865345,330685.54463290673,13255.914481677031,309567.536438117,849263.3769980205],\"x0\":\" \",\"xaxis\":\"x\",\"y\":[\"Lipton (L3)\",\"Lipton (L3)\",\"Lipton (L3)\",\"Lipton (L3)\",\"Lipton (L3)\",\"Lipton (L3)\",\"Lipton (L3)\",\"Lipton (L3)\",\"Lipton (L3)\",\"Lipton (L3)\",\"Lipton (L3)\",\"Lipton (L3)\",\"Lipton (L3)\",\"Lipton (L3)\",\"Lipton (L3)\",\"Lipton (L3)\",\"Lipton (L3)\",\"Lipton (L3)\",\"Lipton (L3)\",\"Lipton (L3)\",\"Lipton (L3)\",\"Lipton (L3)\",\"Lipton (L3)\",\"Lipton (L3)\",\"Lipton (L3)\",\"Lipton (L3)\",\"Lipton (L3)\",\"Lipton (L3)\",\"Lipton (L3)\",\"Lipton (L3)\",\"Lipton (L3)\",\"Lipton (L3)\",\"Lipton (L3)\",\"Lipton (L3)\",\"Lipton (L3)\",\"Lipton (L3)\",\"Lipton (L3)\",\"Lipton (L3)\",\"Lipton (L3)\",\"Lipton (L3)\",\"Lipton (L3)\",\"Lipton (L3)\",\"Lipton (L3)\",\"Lipton (L3)\",\"Lipton (L3)\",\"Lipton (L3)\",\"Lipton (L3)\",\"Lipton (L3)\",\"Lipton (L3)\",\"Lipton (L3)\",\"Lipton (L3)\",\"Lipton (L3)\",\"Lipton (L3)\",\"Lipton (L3)\",\"Lipton (L3)\",\"Lipton (L3)\",\"Lipton (L3)\",\"Lipton (L3)\",\"Lipton (L3)\",\"Lipton (L3)\",\"Lipton (L3)\",\"Lipton (L3)\",\"Lipton (L3)\",\"Lipton (L3)\",\"Lipton (L3)\",\"Lipton (L3)\",\"Lipton (L3)\",\"Lipton (L3)\",\"Lipton (L3)\",\"Lipton (L3)\",\"Lipton (L3)\",\"Lipton (L3)\",\"Lipton (L3)\",\"Lipton (L3)\",\"Lipton (L3)\",\"Lipton (L3)\",\"Lipton (L3)\",\"Lipton (L3)\",\"Lipton (L3)\",\"Lipton (L3)\",\"Lipton (L3)\",\"Lipton (L3)\",\"Lipton (L3)\",\"Lipton (L3)\",\"Lipton (L3)\",\"Lipton (L3)\",\"Lipton (L3)\",\"Lipton (L3)\",\"Lipton (L3)\",\"Lipton (L3)\",\"Lipton (L3)\",\"Lipton (L3)\",\"Lipton (L3)\",\"Lipton (L3)\",\"Lipton (L3)\",\"Lipton (L3)\",\"Lipton (L3)\",\"Lipton (L3)\",\"Lipton (L3)\",\"Lipton (L3)\",\"Lipton (L3)\",\"Lipton (L3)\",\"Lipton (L3)\",\"Lipton (L3)\",\"Lipton (L3)\",\"Lipton (L3)\",\"Lipton (L3)\",\"Lipton (L3)\",\"Lipton (L3)\",\"Lipton (L3)\",\"Lipton (L3)\",\"Lipton (L3)\",\"Lipton (L3)\",\"Lipton (L3)\",\"Lipton (L3)\",\"Lipton (L3)\",\"Lipton (L3)\",\"Lipton (L3)\",\"Lipton (L3)\",\"Lipton (L3)\",\"Lipton (L3)\",\"Lipton (L3)\",\"Lipton (L3)\",\"Lipton (L3)\",\"Lipton (L3)\",\"Lipton (L3)\",\"Lipton (L3)\",\"Lipton (L3)\",\"Lipton (L3)\",\"Lipton (L3)\",\"Lipton (L3)\"],\"y0\":\" \",\"yaxis\":\"y\",\"type\":\"box\"},{\"alignmentgroup\":\"True\",\"customdata\":[[2024,1],[2024,2],[2024,7],[2023,11],[2024,6],[2024,8],[2024,5],[2023,4],[2024,3],[2023,6],[2023,6],[2023,7],[2023,3],[2024,1],[2024,1],[2024,1],[2024,2],[2024,7],[2024,7],[2024,4],[2024,6],[2024,8],[2023,8],[2023,4],[2024,3],[2023,6],[2023,6],[2023,1],[2023,2],[2024,1],[2024,2],[2024,2],[2024,4],[2024,7],[2023,5],[2023,5],[2023,11],[2023,11],[2023,11],[2023,12],[2023,12],[2023,12],[2024,6],[2024,8],[2023,8],[2023,4],[2024,3],[2023,1],[2023,1],[2023,1],[2023,7],[2023,7],[2023,2],[2023,2],[2023,2],[2023,9],[2023,9],[2023,10],[2023,10],[2023,3],[2023,10],[2023,10],[2024,4],[2024,4],[2024,7],[2023,5],[2023,5],[2023,5],[2023,12],[2023,12],[2024,6],[2024,6],[2024,8],[2024,8],[2024,5],[2024,5],[2024,5],[2024,5],[2023,8],[2023,8],[2023,8],[2023,4],[2023,4],[2024,3],[2024,3],[2023,7],[2023,7],[2023,9],[2023,9],[2023,10],[2023,3],[2023,3],[2023,3],[2024,2],[2024,4],[2023,11],[2023,6],[2023,1],[2023,2],[2023,9]],\"hovertemplate\":\"=%{y}\\u003cbr\\u003eCantidad=%{x}\\u003cbr\\u003eYEAR=%{customdata[0]}\\u003cbr\\u003eMONTH=%{customdata[1]}\\u003cextra\\u003e\\u003c\\u002fextra\\u003e\",\"legendgroup\":\"Mountain Dew (L3)\",\"marker\":{\"color\":\"rgb(170, 68, 153)\"},\"name\":\"Mountain Dew (L3)\",\"notched\":true,\"offsetgroup\":\"Mountain Dew (L3)\",\"orientation\":\"h\",\"showlegend\":true,\"x\":[51328.769601558255,90174.6081379048,12583.038047805,94278.57019189453,196195.228350228,40695.476671856,78607.338344382,42561.53445154382,22482.30047973625,21947.47557290089,19464.18885123949,60504.8713306517,86546.85001373693,55881.68309193888,28582.38290138285,150676.03164427663,8652.159517586808,81390.830063471,212553.774840966,158102.72752248985,101538.482807691,212753.497636541,11369.960479877143,165850.19365564658,52057.7761653505,97490.71875902588,226203.12356906864,36744.908526061445,8730.354413080386,9051.587497270224,55111.12086570907,157587.1653293696,81093.61521242946,54319.739632132,47794.99200439583,232377.61780307567,59886.1971444774,167743.52121829058,8073.094615823547,147858.78833134912,70500.65097583567,41169.05047621396,37561.235056674,73714.991933949,191911.6951385317,8225.257655727459,62413.95733270872,20454.005903362384,70126.82014469578,151776.04207026272,86197.8189964284,10987.43950462477,21617.929878199124,57389.50568145794,162902.67201115863,85027.72044268173,34381.749593175206,180099.9867561799,8882.517452959783,52614.12227990955,67437.3486215508,42629.28846343508,74824.22465182138,48258.103034102845,79621.355307744,112877.10016695668,12671.79983918973,89930.45585510698,46108.395032158536,8533.810486569499,54778.840531724,15023.986812536,88567.089106959,9112.875388333,104483.304333125,203606.315118387,11817.9960973,41008.273865293,51530.94352003832,47132.14864074729,78397.8366917219,40746.14837305305,74826.79830648172,166701.00568498025,81001.74299239888,45946.17915348742,199373.0486851282,9780.702063359,31914.78869766754,37529.780983846766,43951.49098645326,201330.17900290943,9913.84472325347,37371.189759990986,8365.40798010609,36440.17738265483,47183.25783886216,9224.884292688424,22991.060421407088,206646.31307545456],\"x0\":\" \",\"xaxis\":\"x\",\"y\":[\"Mountain Dew (L3)\",\"Mountain Dew (L3)\",\"Mountain Dew (L3)\",\"Mountain Dew (L3)\",\"Mountain Dew (L3)\",\"Mountain Dew (L3)\",\"Mountain Dew (L3)\",\"Mountain Dew (L3)\",\"Mountain Dew (L3)\",\"Mountain Dew (L3)\",\"Mountain Dew (L3)\",\"Mountain Dew (L3)\",\"Mountain Dew (L3)\",\"Mountain Dew (L3)\",\"Mountain Dew (L3)\",\"Mountain Dew (L3)\",\"Mountain Dew (L3)\",\"Mountain Dew (L3)\",\"Mountain Dew (L3)\",\"Mountain Dew (L3)\",\"Mountain Dew (L3)\",\"Mountain Dew (L3)\",\"Mountain Dew (L3)\",\"Mountain Dew (L3)\",\"Mountain Dew (L3)\",\"Mountain Dew (L3)\",\"Mountain Dew (L3)\",\"Mountain Dew (L3)\",\"Mountain Dew (L3)\",\"Mountain Dew (L3)\",\"Mountain Dew (L3)\",\"Mountain Dew (L3)\",\"Mountain Dew (L3)\",\"Mountain Dew (L3)\",\"Mountain Dew (L3)\",\"Mountain Dew (L3)\",\"Mountain Dew (L3)\",\"Mountain Dew (L3)\",\"Mountain Dew (L3)\",\"Mountain Dew (L3)\",\"Mountain Dew (L3)\",\"Mountain Dew (L3)\",\"Mountain Dew (L3)\",\"Mountain Dew (L3)\",\"Mountain Dew (L3)\",\"Mountain Dew (L3)\",\"Mountain Dew (L3)\",\"Mountain Dew (L3)\",\"Mountain Dew (L3)\",\"Mountain Dew (L3)\",\"Mountain Dew (L3)\",\"Mountain Dew (L3)\",\"Mountain Dew (L3)\",\"Mountain Dew (L3)\",\"Mountain Dew (L3)\",\"Mountain Dew (L3)\",\"Mountain Dew (L3)\",\"Mountain Dew (L3)\",\"Mountain Dew (L3)\",\"Mountain Dew (L3)\",\"Mountain Dew (L3)\",\"Mountain Dew (L3)\",\"Mountain Dew (L3)\",\"Mountain Dew (L3)\",\"Mountain Dew (L3)\",\"Mountain Dew (L3)\",\"Mountain Dew (L3)\",\"Mountain Dew (L3)\",\"Mountain Dew (L3)\",\"Mountain Dew (L3)\",\"Mountain Dew (L3)\",\"Mountain Dew (L3)\",\"Mountain Dew (L3)\",\"Mountain Dew (L3)\",\"Mountain Dew (L3)\",\"Mountain Dew (L3)\",\"Mountain Dew (L3)\",\"Mountain Dew (L3)\",\"Mountain Dew (L3)\",\"Mountain Dew (L3)\",\"Mountain Dew (L3)\",\"Mountain Dew (L3)\",\"Mountain Dew (L3)\",\"Mountain Dew (L3)\",\"Mountain Dew (L3)\",\"Mountain Dew (L3)\",\"Mountain Dew (L3)\",\"Mountain Dew (L3)\",\"Mountain Dew (L3)\",\"Mountain Dew (L3)\",\"Mountain Dew (L3)\",\"Mountain Dew (L3)\",\"Mountain Dew (L3)\",\"Mountain Dew (L3)\",\"Mountain Dew (L3)\",\"Mountain Dew (L3)\",\"Mountain Dew (L3)\",\"Mountain Dew (L3)\",\"Mountain Dew (L3)\",\"Mountain Dew (L3)\"],\"y0\":\" \",\"yaxis\":\"y\",\"type\":\"box\"}],                        {\"template\":{\"data\":{\"barpolar\":[{\"marker\":{\"line\":{\"color\":\"white\",\"width\":0.5},\"pattern\":{\"fillmode\":\"overlay\",\"size\":10,\"solidity\":0.2}},\"type\":\"barpolar\"}],\"bar\":[{\"error_x\":{\"color\":\"#2a3f5f\"},\"error_y\":{\"color\":\"#2a3f5f\"},\"marker\":{\"line\":{\"color\":\"white\",\"width\":0.5},\"pattern\":{\"fillmode\":\"overlay\",\"size\":10,\"solidity\":0.2}},\"type\":\"bar\"}],\"carpet\":[{\"aaxis\":{\"endlinecolor\":\"#2a3f5f\",\"gridcolor\":\"#C8D4E3\",\"linecolor\":\"#C8D4E3\",\"minorgridcolor\":\"#C8D4E3\",\"startlinecolor\":\"#2a3f5f\"},\"baxis\":{\"endlinecolor\":\"#2a3f5f\",\"gridcolor\":\"#C8D4E3\",\"linecolor\":\"#C8D4E3\",\"minorgridcolor\":\"#C8D4E3\",\"startlinecolor\":\"#2a3f5f\"},\"type\":\"carpet\"}],\"choropleth\":[{\"colorbar\":{\"outlinewidth\":0,\"ticks\":\"\"},\"type\":\"choropleth\"}],\"contourcarpet\":[{\"colorbar\":{\"outlinewidth\":0,\"ticks\":\"\"},\"type\":\"contourcarpet\"}],\"contour\":[{\"colorbar\":{\"outlinewidth\":0,\"ticks\":\"\"},\"colorscale\":[[0.0,\"#0d0887\"],[0.1111111111111111,\"#46039f\"],[0.2222222222222222,\"#7201a8\"],[0.3333333333333333,\"#9c179e\"],[0.4444444444444444,\"#bd3786\"],[0.5555555555555556,\"#d8576b\"],[0.6666666666666666,\"#ed7953\"],[0.7777777777777778,\"#fb9f3a\"],[0.8888888888888888,\"#fdca26\"],[1.0,\"#f0f921\"]],\"type\":\"contour\"}],\"heatmapgl\":[{\"colorbar\":{\"outlinewidth\":0,\"ticks\":\"\"},\"colorscale\":[[0.0,\"#0d0887\"],[0.1111111111111111,\"#46039f\"],[0.2222222222222222,\"#7201a8\"],[0.3333333333333333,\"#9c179e\"],[0.4444444444444444,\"#bd3786\"],[0.5555555555555556,\"#d8576b\"],[0.6666666666666666,\"#ed7953\"],[0.7777777777777778,\"#fb9f3a\"],[0.8888888888888888,\"#fdca26\"],[1.0,\"#f0f921\"]],\"type\":\"heatmapgl\"}],\"heatmap\":[{\"colorbar\":{\"outlinewidth\":0,\"ticks\":\"\"},\"colorscale\":[[0.0,\"#0d0887\"],[0.1111111111111111,\"#46039f\"],[0.2222222222222222,\"#7201a8\"],[0.3333333333333333,\"#9c179e\"],[0.4444444444444444,\"#bd3786\"],[0.5555555555555556,\"#d8576b\"],[0.6666666666666666,\"#ed7953\"],[0.7777777777777778,\"#fb9f3a\"],[0.8888888888888888,\"#fdca26\"],[1.0,\"#f0f921\"]],\"type\":\"heatmap\"}],\"histogram2dcontour\":[{\"colorbar\":{\"outlinewidth\":0,\"ticks\":\"\"},\"colorscale\":[[0.0,\"#0d0887\"],[0.1111111111111111,\"#46039f\"],[0.2222222222222222,\"#7201a8\"],[0.3333333333333333,\"#9c179e\"],[0.4444444444444444,\"#bd3786\"],[0.5555555555555556,\"#d8576b\"],[0.6666666666666666,\"#ed7953\"],[0.7777777777777778,\"#fb9f3a\"],[0.8888888888888888,\"#fdca26\"],[1.0,\"#f0f921\"]],\"type\":\"histogram2dcontour\"}],\"histogram2d\":[{\"colorbar\":{\"outlinewidth\":0,\"ticks\":\"\"},\"colorscale\":[[0.0,\"#0d0887\"],[0.1111111111111111,\"#46039f\"],[0.2222222222222222,\"#7201a8\"],[0.3333333333333333,\"#9c179e\"],[0.4444444444444444,\"#bd3786\"],[0.5555555555555556,\"#d8576b\"],[0.6666666666666666,\"#ed7953\"],[0.7777777777777778,\"#fb9f3a\"],[0.8888888888888888,\"#fdca26\"],[1.0,\"#f0f921\"]],\"type\":\"histogram2d\"}],\"histogram\":[{\"marker\":{\"pattern\":{\"fillmode\":\"overlay\",\"size\":10,\"solidity\":0.2}},\"type\":\"histogram\"}],\"mesh3d\":[{\"colorbar\":{\"outlinewidth\":0,\"ticks\":\"\"},\"type\":\"mesh3d\"}],\"parcoords\":[{\"line\":{\"colorbar\":{\"outlinewidth\":0,\"ticks\":\"\"}},\"type\":\"parcoords\"}],\"pie\":[{\"automargin\":true,\"type\":\"pie\"}],\"scatter3d\":[{\"line\":{\"colorbar\":{\"outlinewidth\":0,\"ticks\":\"\"}},\"marker\":{\"colorbar\":{\"outlinewidth\":0,\"ticks\":\"\"}},\"type\":\"scatter3d\"}],\"scattercarpet\":[{\"marker\":{\"colorbar\":{\"outlinewidth\":0,\"ticks\":\"\"}},\"type\":\"scattercarpet\"}],\"scattergeo\":[{\"marker\":{\"colorbar\":{\"outlinewidth\":0,\"ticks\":\"\"}},\"type\":\"scattergeo\"}],\"scattergl\":[{\"marker\":{\"colorbar\":{\"outlinewidth\":0,\"ticks\":\"\"}},\"type\":\"scattergl\"}],\"scattermapbox\":[{\"marker\":{\"colorbar\":{\"outlinewidth\":0,\"ticks\":\"\"}},\"type\":\"scattermapbox\"}],\"scatterpolargl\":[{\"marker\":{\"colorbar\":{\"outlinewidth\":0,\"ticks\":\"\"}},\"type\":\"scatterpolargl\"}],\"scatterpolar\":[{\"marker\":{\"colorbar\":{\"outlinewidth\":0,\"ticks\":\"\"}},\"type\":\"scatterpolar\"}],\"scatter\":[{\"fillpattern\":{\"fillmode\":\"overlay\",\"size\":10,\"solidity\":0.2},\"type\":\"scatter\"}],\"scatterternary\":[{\"marker\":{\"colorbar\":{\"outlinewidth\":0,\"ticks\":\"\"}},\"type\":\"scatterternary\"}],\"surface\":[{\"colorbar\":{\"outlinewidth\":0,\"ticks\":\"\"},\"colorscale\":[[0.0,\"#0d0887\"],[0.1111111111111111,\"#46039f\"],[0.2222222222222222,\"#7201a8\"],[0.3333333333333333,\"#9c179e\"],[0.4444444444444444,\"#bd3786\"],[0.5555555555555556,\"#d8576b\"],[0.6666666666666666,\"#ed7953\"],[0.7777777777777778,\"#fb9f3a\"],[0.8888888888888888,\"#fdca26\"],[1.0,\"#f0f921\"]],\"type\":\"surface\"}],\"table\":[{\"cells\":{\"fill\":{\"color\":\"#EBF0F8\"},\"line\":{\"color\":\"white\"}},\"header\":{\"fill\":{\"color\":\"#C8D4E3\"},\"line\":{\"color\":\"white\"}},\"type\":\"table\"}]},\"layout\":{\"annotationdefaults\":{\"arrowcolor\":\"#2a3f5f\",\"arrowhead\":0,\"arrowwidth\":1},\"autotypenumbers\":\"strict\",\"coloraxis\":{\"colorbar\":{\"outlinewidth\":0,\"ticks\":\"\"}},\"colorscale\":{\"diverging\":[[0,\"#8e0152\"],[0.1,\"#c51b7d\"],[0.2,\"#de77ae\"],[0.3,\"#f1b6da\"],[0.4,\"#fde0ef\"],[0.5,\"#f7f7f7\"],[0.6,\"#e6f5d0\"],[0.7,\"#b8e186\"],[0.8,\"#7fbc41\"],[0.9,\"#4d9221\"],[1,\"#276419\"]],\"sequential\":[[0.0,\"#0d0887\"],[0.1111111111111111,\"#46039f\"],[0.2222222222222222,\"#7201a8\"],[0.3333333333333333,\"#9c179e\"],[0.4444444444444444,\"#bd3786\"],[0.5555555555555556,\"#d8576b\"],[0.6666666666666666,\"#ed7953\"],[0.7777777777777778,\"#fb9f3a\"],[0.8888888888888888,\"#fdca26\"],[1.0,\"#f0f921\"]],\"sequentialminus\":[[0.0,\"#0d0887\"],[0.1111111111111111,\"#46039f\"],[0.2222222222222222,\"#7201a8\"],[0.3333333333333333,\"#9c179e\"],[0.4444444444444444,\"#bd3786\"],[0.5555555555555556,\"#d8576b\"],[0.6666666666666666,\"#ed7953\"],[0.7777777777777778,\"#fb9f3a\"],[0.8888888888888888,\"#fdca26\"],[1.0,\"#f0f921\"]]},\"colorway\":[\"#636efa\",\"#EF553B\",\"#00cc96\",\"#ab63fa\",\"#FFA15A\",\"#19d3f3\",\"#FF6692\",\"#B6E880\",\"#FF97FF\",\"#FECB52\"],\"font\":{\"color\":\"#2a3f5f\"},\"geo\":{\"bgcolor\":\"white\",\"lakecolor\":\"white\",\"landcolor\":\"white\",\"showlakes\":true,\"showland\":true,\"subunitcolor\":\"#C8D4E3\"},\"hoverlabel\":{\"align\":\"left\"},\"hovermode\":\"closest\",\"mapbox\":{\"style\":\"light\"},\"paper_bgcolor\":\"white\",\"plot_bgcolor\":\"white\",\"polar\":{\"angularaxis\":{\"gridcolor\":\"#EBF0F8\",\"linecolor\":\"#EBF0F8\",\"ticks\":\"\"},\"bgcolor\":\"white\",\"radialaxis\":{\"gridcolor\":\"#EBF0F8\",\"linecolor\":\"#EBF0F8\",\"ticks\":\"\"}},\"scene\":{\"xaxis\":{\"backgroundcolor\":\"white\",\"gridcolor\":\"#DFE8F3\",\"gridwidth\":2,\"linecolor\":\"#EBF0F8\",\"showbackground\":true,\"ticks\":\"\",\"zerolinecolor\":\"#EBF0F8\"},\"yaxis\":{\"backgroundcolor\":\"white\",\"gridcolor\":\"#DFE8F3\",\"gridwidth\":2,\"linecolor\":\"#EBF0F8\",\"showbackground\":true,\"ticks\":\"\",\"zerolinecolor\":\"#EBF0F8\"},\"zaxis\":{\"backgroundcolor\":\"white\",\"gridcolor\":\"#DFE8F3\",\"gridwidth\":2,\"linecolor\":\"#EBF0F8\",\"showbackground\":true,\"ticks\":\"\",\"zerolinecolor\":\"#EBF0F8\"}},\"shapedefaults\":{\"line\":{\"color\":\"#2a3f5f\"}},\"ternary\":{\"aaxis\":{\"gridcolor\":\"#DFE8F3\",\"linecolor\":\"#A2B1C6\",\"ticks\":\"\"},\"baxis\":{\"gridcolor\":\"#DFE8F3\",\"linecolor\":\"#A2B1C6\",\"ticks\":\"\"},\"bgcolor\":\"white\",\"caxis\":{\"gridcolor\":\"#DFE8F3\",\"linecolor\":\"#A2B1C6\",\"ticks\":\"\"}},\"title\":{\"x\":0.05},\"xaxis\":{\"automargin\":true,\"gridcolor\":\"#EBF0F8\",\"linecolor\":\"#EBF0F8\",\"ticks\":\"\",\"title\":{\"standoff\":15},\"zerolinecolor\":\"#EBF0F8\",\"zerolinewidth\":2},\"yaxis\":{\"automargin\":true,\"gridcolor\":\"#EBF0F8\",\"linecolor\":\"#EBF0F8\",\"ticks\":\"\",\"title\":{\"standoff\":15},\"zerolinecolor\":\"#EBF0F8\",\"zerolinewidth\":2}}},\"xaxis\":{\"anchor\":\"y\",\"domain\":[0.0,1.0],\"title\":{\"text\":\"Cantidad\"},\"type\":\"log\"},\"yaxis\":{\"anchor\":\"x\",\"domain\":[0.0,1.0],\"title\":{\"text\":\"\"},\"categoryorder\":\"array\",\"categoryarray\":[\"Mountain Dew (L3)\",\"Lipton (L3)\",\"Pepsi Regular (L3)\",\"7up Free (L3)\",\"7up (L3)\",\"Pepsi Max (L3)\"]},\"legend\":{\"title\":{\"text\":\"\"},\"tracegroupgap\":0},\"title\":{\"text\":\"Distribución de las ventas por marca\",\"font\":{\"size\":24,\"color\":\"black\",\"family\":\"Arial\"}},\"boxmode\":\"overlay\",\"font\":{\"size\":16,\"color\":\"black\",\"family\":\"Arial\"},\"showlegend\":false},                        {\"responsive\": true}                    ).then(function(){\n",
              "                            \n",
              "var gd = document.getElementById('808bf70a-a8ce-426b-9158-c01d1ff6ba8d');\n",
              "var x = new MutationObserver(function (mutations, observer) {{\n",
              "        var display = window.getComputedStyle(gd).display;\n",
              "        if (!display || display === 'none') {{\n",
              "            console.log([gd, 'removed!']);\n",
              "            Plotly.purge(gd);\n",
              "            observer.disconnect();\n",
              "        }}\n",
              "}});\n",
              "\n",
              "// Listen for the removal of the full notebook cells\n",
              "var notebookContainer = gd.closest('#notebook-container');\n",
              "if (notebookContainer) {{\n",
              "    x.observe(notebookContainer, {childList: true});\n",
              "}}\n",
              "\n",
              "// Listen for the clearing of the current output cell\n",
              "var outputEl = gd.closest('.output');\n",
              "if (outputEl) {{\n",
              "    x.observe(outputEl, {childList: true});\n",
              "}}\n",
              "\n",
              "                        })                };                            </script>        </div>\n",
              "</body>\n",
              "</html>"
            ]
          },
          "metadata": {}
        }
      ]
    },
    {
      "cell_type": "markdown",
      "source": [
        "#  Tendencia y estacionalidad"
      ],
      "metadata": {
        "id": "d-PDqNEaoenZ"
      }
    },
    {
      "cell_type": "markdown",
      "source": [
        "## Todas las ventas del país con menos ventas"
      ],
      "metadata": {
        "id": "enwdxVKF0v7V"
      }
    },
    {
      "cell_type": "code",
      "source": [
        "# Sabemos por las gráficas anteriores que el país con menos ventas es España.\n",
        "data_espana = data[(data['COUNTRY'] == 'Spain') & (data['SCENARIO'] == 'actual')]\n",
        "data_espana = data_espana.groupby(['YEAR', 'MONTH'])['AMOUNT'].sum().reset_index()\n",
        "data_espana['YEAR_MONTH'] = pd.to_datetime(data_espana[['YEAR', 'MONTH']].assign(DAY=1))\n",
        "\n",
        "fig = px.area(data_espana, x=\"YEAR_MONTH\", y=\"AMOUNT\",\n",
        "              labels={'YEAR_MONTH':'','AMOUNT':'Cantidad'},\n",
        "              title='Total de ventas en España con respecto al tiempo',\n",
        "              markers=True,\n",
        "              color_discrete_sequence=px.colors.qualitative.Prism)\n",
        "\n",
        "fig.update_layout(\n",
        "    title_font=dict(size=24, color=\"black\", family=\"Arial\"),\n",
        "    font=dict(size=16, color=\"black\", family=\"Arial\"))\n",
        "\n",
        "fig.update_yaxes(range=[0, 800000])\n",
        "\n",
        "fig.show()"
      ],
      "metadata": {
        "colab": {
          "base_uri": "https://localhost:8080/",
          "height": 542
        },
        "id": "5He2O_TdorN_",
        "outputId": "2facf38f-5c0a-4d12-9edf-847865e9e7bf"
      },
      "execution_count": null,
      "outputs": [
        {
          "output_type": "display_data",
          "data": {
            "text/html": [
              "<html>\n",
              "<head><meta charset=\"utf-8\" /></head>\n",
              "<body>\n",
              "    <div>            <script src=\"https://cdnjs.cloudflare.com/ajax/libs/mathjax/2.7.5/MathJax.js?config=TeX-AMS-MML_SVG\"></script><script type=\"text/javascript\">if (window.MathJax && window.MathJax.Hub && window.MathJax.Hub.Config) {window.MathJax.Hub.Config({SVG: {font: \"STIX-Web\"}});}</script>                <script type=\"text/javascript\">window.PlotlyConfig = {MathJaxConfig: 'local'};</script>\n",
              "        <script charset=\"utf-8\" src=\"https://cdn.plot.ly/plotly-2.35.2.min.js\"></script>                <div id=\"7bcf0ded-bc4f-4476-959e-e81ecde6ed8c\" class=\"plotly-graph-div\" style=\"height:525px; width:100%;\"></div>            <script type=\"text/javascript\">                                    window.PLOTLYENV=window.PLOTLYENV || {};                                    if (document.getElementById(\"7bcf0ded-bc4f-4476-959e-e81ecde6ed8c\")) {                    Plotly.newPlot(                        \"7bcf0ded-bc4f-4476-959e-e81ecde6ed8c\",                        [{\"fillpattern\":{\"shape\":\"\"},\"hovertemplate\":\"=%{x}\\u003cbr\\u003eCantidad=%{y}\\u003cextra\\u003e\\u003c\\u002fextra\\u003e\",\"legendgroup\":\"\",\"line\":{\"color\":\"rgb(95, 70, 144)\"},\"marker\":{\"symbol\":\"circle\"},\"mode\":\"lines+markers\",\"name\":\"\",\"orientation\":\"v\",\"showlegend\":false,\"stackgroup\":\"1\",\"x\":[\"2023-01-01T00:00:00\",\"2023-02-01T00:00:00\",\"2023-03-01T00:00:00\",\"2023-04-01T00:00:00\",\"2023-05-01T00:00:00\",\"2023-06-01T00:00:00\",\"2023-07-01T00:00:00\",\"2023-08-01T00:00:00\",\"2023-09-01T00:00:00\",\"2023-10-01T00:00:00\",\"2023-11-01T00:00:00\",\"2023-12-01T00:00:00\",\"2024-01-01T00:00:00\",\"2024-02-01T00:00:00\",\"2024-03-01T00:00:00\",\"2024-04-01T00:00:00\",\"2024-05-01T00:00:00\",\"2024-06-01T00:00:00\",\"2024-07-01T00:00:00\",\"2024-08-01T00:00:00\"],\"xaxis\":\"x\",\"y\":[325272.9389304911,295588.379604517,399710.27310997306,328035.2578740851,360751.156280142,439198.58628968743,496545.2361195783,564336.120819692,420041.9805910407,468425.84176011605,418006.199049298,394147.40859018476,349696.53314179694,352899.0356524695,332109.2562326968,376678.36889674753,356759.011785592,408967.746366754,506234.36278204597,537862.283643176],\"yaxis\":\"y\",\"type\":\"scatter\"}],                        {\"template\":{\"data\":{\"histogram2dcontour\":[{\"type\":\"histogram2dcontour\",\"colorbar\":{\"outlinewidth\":0,\"ticks\":\"\"},\"colorscale\":[[0.0,\"#0d0887\"],[0.1111111111111111,\"#46039f\"],[0.2222222222222222,\"#7201a8\"],[0.3333333333333333,\"#9c179e\"],[0.4444444444444444,\"#bd3786\"],[0.5555555555555556,\"#d8576b\"],[0.6666666666666666,\"#ed7953\"],[0.7777777777777778,\"#fb9f3a\"],[0.8888888888888888,\"#fdca26\"],[1.0,\"#f0f921\"]]}],\"choropleth\":[{\"type\":\"choropleth\",\"colorbar\":{\"outlinewidth\":0,\"ticks\":\"\"}}],\"histogram2d\":[{\"type\":\"histogram2d\",\"colorbar\":{\"outlinewidth\":0,\"ticks\":\"\"},\"colorscale\":[[0.0,\"#0d0887\"],[0.1111111111111111,\"#46039f\"],[0.2222222222222222,\"#7201a8\"],[0.3333333333333333,\"#9c179e\"],[0.4444444444444444,\"#bd3786\"],[0.5555555555555556,\"#d8576b\"],[0.6666666666666666,\"#ed7953\"],[0.7777777777777778,\"#fb9f3a\"],[0.8888888888888888,\"#fdca26\"],[1.0,\"#f0f921\"]]}],\"heatmap\":[{\"type\":\"heatmap\",\"colorbar\":{\"outlinewidth\":0,\"ticks\":\"\"},\"colorscale\":[[0.0,\"#0d0887\"],[0.1111111111111111,\"#46039f\"],[0.2222222222222222,\"#7201a8\"],[0.3333333333333333,\"#9c179e\"],[0.4444444444444444,\"#bd3786\"],[0.5555555555555556,\"#d8576b\"],[0.6666666666666666,\"#ed7953\"],[0.7777777777777778,\"#fb9f3a\"],[0.8888888888888888,\"#fdca26\"],[1.0,\"#f0f921\"]]}],\"heatmapgl\":[{\"type\":\"heatmapgl\",\"colorbar\":{\"outlinewidth\":0,\"ticks\":\"\"},\"colorscale\":[[0.0,\"#0d0887\"],[0.1111111111111111,\"#46039f\"],[0.2222222222222222,\"#7201a8\"],[0.3333333333333333,\"#9c179e\"],[0.4444444444444444,\"#bd3786\"],[0.5555555555555556,\"#d8576b\"],[0.6666666666666666,\"#ed7953\"],[0.7777777777777778,\"#fb9f3a\"],[0.8888888888888888,\"#fdca26\"],[1.0,\"#f0f921\"]]}],\"contourcarpet\":[{\"type\":\"contourcarpet\",\"colorbar\":{\"outlinewidth\":0,\"ticks\":\"\"}}],\"contour\":[{\"type\":\"contour\",\"colorbar\":{\"outlinewidth\":0,\"ticks\":\"\"},\"colorscale\":[[0.0,\"#0d0887\"],[0.1111111111111111,\"#46039f\"],[0.2222222222222222,\"#7201a8\"],[0.3333333333333333,\"#9c179e\"],[0.4444444444444444,\"#bd3786\"],[0.5555555555555556,\"#d8576b\"],[0.6666666666666666,\"#ed7953\"],[0.7777777777777778,\"#fb9f3a\"],[0.8888888888888888,\"#fdca26\"],[1.0,\"#f0f921\"]]}],\"surface\":[{\"type\":\"surface\",\"colorbar\":{\"outlinewidth\":0,\"ticks\":\"\"},\"colorscale\":[[0.0,\"#0d0887\"],[0.1111111111111111,\"#46039f\"],[0.2222222222222222,\"#7201a8\"],[0.3333333333333333,\"#9c179e\"],[0.4444444444444444,\"#bd3786\"],[0.5555555555555556,\"#d8576b\"],[0.6666666666666666,\"#ed7953\"],[0.7777777777777778,\"#fb9f3a\"],[0.8888888888888888,\"#fdca26\"],[1.0,\"#f0f921\"]]}],\"mesh3d\":[{\"type\":\"mesh3d\",\"colorbar\":{\"outlinewidth\":0,\"ticks\":\"\"}}],\"scatter\":[{\"fillpattern\":{\"fillmode\":\"overlay\",\"size\":10,\"solidity\":0.2},\"type\":\"scatter\"}],\"parcoords\":[{\"type\":\"parcoords\",\"line\":{\"colorbar\":{\"outlinewidth\":0,\"ticks\":\"\"}}}],\"scatterpolargl\":[{\"type\":\"scatterpolargl\",\"marker\":{\"colorbar\":{\"outlinewidth\":0,\"ticks\":\"\"}}}],\"bar\":[{\"error_x\":{\"color\":\"#2a3f5f\"},\"error_y\":{\"color\":\"#2a3f5f\"},\"marker\":{\"line\":{\"color\":\"#E5ECF6\",\"width\":0.5},\"pattern\":{\"fillmode\":\"overlay\",\"size\":10,\"solidity\":0.2}},\"type\":\"bar\"}],\"scattergeo\":[{\"type\":\"scattergeo\",\"marker\":{\"colorbar\":{\"outlinewidth\":0,\"ticks\":\"\"}}}],\"scatterpolar\":[{\"type\":\"scatterpolar\",\"marker\":{\"colorbar\":{\"outlinewidth\":0,\"ticks\":\"\"}}}],\"histogram\":[{\"marker\":{\"pattern\":{\"fillmode\":\"overlay\",\"size\":10,\"solidity\":0.2}},\"type\":\"histogram\"}],\"scattergl\":[{\"type\":\"scattergl\",\"marker\":{\"colorbar\":{\"outlinewidth\":0,\"ticks\":\"\"}}}],\"scatter3d\":[{\"type\":\"scatter3d\",\"line\":{\"colorbar\":{\"outlinewidth\":0,\"ticks\":\"\"}},\"marker\":{\"colorbar\":{\"outlinewidth\":0,\"ticks\":\"\"}}}],\"scattermapbox\":[{\"type\":\"scattermapbox\",\"marker\":{\"colorbar\":{\"outlinewidth\":0,\"ticks\":\"\"}}}],\"scatterternary\":[{\"type\":\"scatterternary\",\"marker\":{\"colorbar\":{\"outlinewidth\":0,\"ticks\":\"\"}}}],\"scattercarpet\":[{\"type\":\"scattercarpet\",\"marker\":{\"colorbar\":{\"outlinewidth\":0,\"ticks\":\"\"}}}],\"carpet\":[{\"aaxis\":{\"endlinecolor\":\"#2a3f5f\",\"gridcolor\":\"white\",\"linecolor\":\"white\",\"minorgridcolor\":\"white\",\"startlinecolor\":\"#2a3f5f\"},\"baxis\":{\"endlinecolor\":\"#2a3f5f\",\"gridcolor\":\"white\",\"linecolor\":\"white\",\"minorgridcolor\":\"white\",\"startlinecolor\":\"#2a3f5f\"},\"type\":\"carpet\"}],\"table\":[{\"cells\":{\"fill\":{\"color\":\"#EBF0F8\"},\"line\":{\"color\":\"white\"}},\"header\":{\"fill\":{\"color\":\"#C8D4E3\"},\"line\":{\"color\":\"white\"}},\"type\":\"table\"}],\"barpolar\":[{\"marker\":{\"line\":{\"color\":\"#E5ECF6\",\"width\":0.5},\"pattern\":{\"fillmode\":\"overlay\",\"size\":10,\"solidity\":0.2}},\"type\":\"barpolar\"}],\"pie\":[{\"automargin\":true,\"type\":\"pie\"}]},\"layout\":{\"autotypenumbers\":\"strict\",\"colorway\":[\"#636efa\",\"#EF553B\",\"#00cc96\",\"#ab63fa\",\"#FFA15A\",\"#19d3f3\",\"#FF6692\",\"#B6E880\",\"#FF97FF\",\"#FECB52\"],\"font\":{\"color\":\"#2a3f5f\"},\"hovermode\":\"closest\",\"hoverlabel\":{\"align\":\"left\"},\"paper_bgcolor\":\"white\",\"plot_bgcolor\":\"#E5ECF6\",\"polar\":{\"bgcolor\":\"#E5ECF6\",\"angularaxis\":{\"gridcolor\":\"white\",\"linecolor\":\"white\",\"ticks\":\"\"},\"radialaxis\":{\"gridcolor\":\"white\",\"linecolor\":\"white\",\"ticks\":\"\"}},\"ternary\":{\"bgcolor\":\"#E5ECF6\",\"aaxis\":{\"gridcolor\":\"white\",\"linecolor\":\"white\",\"ticks\":\"\"},\"baxis\":{\"gridcolor\":\"white\",\"linecolor\":\"white\",\"ticks\":\"\"},\"caxis\":{\"gridcolor\":\"white\",\"linecolor\":\"white\",\"ticks\":\"\"}},\"coloraxis\":{\"colorbar\":{\"outlinewidth\":0,\"ticks\":\"\"}},\"colorscale\":{\"sequential\":[[0.0,\"#0d0887\"],[0.1111111111111111,\"#46039f\"],[0.2222222222222222,\"#7201a8\"],[0.3333333333333333,\"#9c179e\"],[0.4444444444444444,\"#bd3786\"],[0.5555555555555556,\"#d8576b\"],[0.6666666666666666,\"#ed7953\"],[0.7777777777777778,\"#fb9f3a\"],[0.8888888888888888,\"#fdca26\"],[1.0,\"#f0f921\"]],\"sequentialminus\":[[0.0,\"#0d0887\"],[0.1111111111111111,\"#46039f\"],[0.2222222222222222,\"#7201a8\"],[0.3333333333333333,\"#9c179e\"],[0.4444444444444444,\"#bd3786\"],[0.5555555555555556,\"#d8576b\"],[0.6666666666666666,\"#ed7953\"],[0.7777777777777778,\"#fb9f3a\"],[0.8888888888888888,\"#fdca26\"],[1.0,\"#f0f921\"]],\"diverging\":[[0,\"#8e0152\"],[0.1,\"#c51b7d\"],[0.2,\"#de77ae\"],[0.3,\"#f1b6da\"],[0.4,\"#fde0ef\"],[0.5,\"#f7f7f7\"],[0.6,\"#e6f5d0\"],[0.7,\"#b8e186\"],[0.8,\"#7fbc41\"],[0.9,\"#4d9221\"],[1,\"#276419\"]]},\"xaxis\":{\"gridcolor\":\"white\",\"linecolor\":\"white\",\"ticks\":\"\",\"title\":{\"standoff\":15},\"zerolinecolor\":\"white\",\"automargin\":true,\"zerolinewidth\":2},\"yaxis\":{\"gridcolor\":\"white\",\"linecolor\":\"white\",\"ticks\":\"\",\"title\":{\"standoff\":15},\"zerolinecolor\":\"white\",\"automargin\":true,\"zerolinewidth\":2},\"scene\":{\"xaxis\":{\"backgroundcolor\":\"#E5ECF6\",\"gridcolor\":\"white\",\"linecolor\":\"white\",\"showbackground\":true,\"ticks\":\"\",\"zerolinecolor\":\"white\",\"gridwidth\":2},\"yaxis\":{\"backgroundcolor\":\"#E5ECF6\",\"gridcolor\":\"white\",\"linecolor\":\"white\",\"showbackground\":true,\"ticks\":\"\",\"zerolinecolor\":\"white\",\"gridwidth\":2},\"zaxis\":{\"backgroundcolor\":\"#E5ECF6\",\"gridcolor\":\"white\",\"linecolor\":\"white\",\"showbackground\":true,\"ticks\":\"\",\"zerolinecolor\":\"white\",\"gridwidth\":2}},\"shapedefaults\":{\"line\":{\"color\":\"#2a3f5f\"}},\"annotationdefaults\":{\"arrowcolor\":\"#2a3f5f\",\"arrowhead\":0,\"arrowwidth\":1},\"geo\":{\"bgcolor\":\"white\",\"landcolor\":\"#E5ECF6\",\"subunitcolor\":\"white\",\"showland\":true,\"showlakes\":true,\"lakecolor\":\"white\"},\"title\":{\"x\":0.05},\"mapbox\":{\"style\":\"light\"}}},\"xaxis\":{\"anchor\":\"y\",\"domain\":[0.0,1.0],\"title\":{\"text\":\"\"}},\"yaxis\":{\"anchor\":\"x\",\"domain\":[0.0,1.0],\"title\":{\"text\":\"Cantidad\"},\"range\":[0,800000]},\"legend\":{\"tracegroupgap\":0},\"title\":{\"text\":\"Total de ventas en España con respecto al tiempo\",\"font\":{\"size\":24,\"color\":\"black\",\"family\":\"Arial\"}},\"font\":{\"size\":16,\"color\":\"black\",\"family\":\"Arial\"}},                        {\"responsive\": true}                    ).then(function(){\n",
              "                            \n",
              "var gd = document.getElementById('7bcf0ded-bc4f-4476-959e-e81ecde6ed8c');\n",
              "var x = new MutationObserver(function (mutations, observer) {{\n",
              "        var display = window.getComputedStyle(gd).display;\n",
              "        if (!display || display === 'none') {{\n",
              "            console.log([gd, 'removed!']);\n",
              "            Plotly.purge(gd);\n",
              "            observer.disconnect();\n",
              "        }}\n",
              "}});\n",
              "\n",
              "// Listen for the removal of the full notebook cells\n",
              "var notebookContainer = gd.closest('#notebook-container');\n",
              "if (notebookContainer) {{\n",
              "    x.observe(notebookContainer, {childList: true});\n",
              "}}\n",
              "\n",
              "// Listen for the clearing of the current output cell\n",
              "var outputEl = gd.closest('.output');\n",
              "if (outputEl) {{\n",
              "    x.observe(outputEl, {childList: true});\n",
              "}}\n",
              "\n",
              "                        })                };                            </script>        </div>\n",
              "</body>\n",
              "</html>"
            ]
          },
          "metadata": {}
        }
      ]
    },
    {
      "cell_type": "code",
      "source": [
        "# Para estudiar la estacionalidad y la tendencia se necesitan como mínimo dos\n",
        "# dos ciclos anuales completos, 24 observaciones, ya que son datos mensuales.\n",
        "# Lo que se va a hacer es acoplar datos de dos meses antes de los datos que se\n",
        "# tienen y otros dos meses depués, para sumar un total de 4 meses más a las\n",
        "# observaciones. Si los datos empiezan en enero se acoplaran datos de los dos\n",
        "# mese anteriores a enero, diciembre y noviembre. Si los datos acaban en julio,\n",
        "# se cogen datos de agosto y septiembre. Los datos se extraerán de los meses\n",
        "# determinados que ya tenemos y que sean los más cercanos.\n",
        "\n",
        "# Datos antes\n",
        "datos_antes = data_espana[(data_espana['YEAR_MONTH'] == '2023-12-01') | (data_espana['YEAR_MONTH'] == '2023-11-01')]\n",
        "datos_antes['YEAR'] = datos_antes['YEAR']-1\n",
        "datos_antes['YEAR_MONTH'] = pd.to_datetime(datos_antes[['YEAR', 'MONTH']].assign(DAY=1))\n",
        "# Datos después\n",
        "datos_despues = data_espana[(data_espana['YEAR_MONTH'] == '2023-09-01') | (data_espana['YEAR_MONTH'] == '2023-10-01')]\n",
        "datos_despues['YEAR'] = datos_despues['YEAR']+1\n",
        "datos_despues['YEAR_MONTH'] = pd.to_datetime(datos_despues[['YEAR', 'MONTH']].assign(DAY=1))\n",
        "\n",
        "# Concatenamos\n",
        "data_espana = pd.concat([datos_antes, data_espana,datos_despues])"
      ],
      "metadata": {
        "colab": {
          "base_uri": "https://localhost:8080/"
        },
        "id": "FsEEMwjQMlim",
        "outputId": "27110aa0-09c5-40bd-f18f-c4697baba0ec"
      },
      "execution_count": null,
      "outputs": [
        {
          "output_type": "stream",
          "name": "stderr",
          "text": [
            "<ipython-input-127-77bd6d3f5a70>:3: SettingWithCopyWarning:\n",
            "\n",
            "\n",
            "A value is trying to be set on a copy of a slice from a DataFrame.\n",
            "Try using .loc[row_indexer,col_indexer] = value instead\n",
            "\n",
            "See the caveats in the documentation: https://pandas.pydata.org/pandas-docs/stable/user_guide/indexing.html#returning-a-view-versus-a-copy\n",
            "\n",
            "<ipython-input-127-77bd6d3f5a70>:4: SettingWithCopyWarning:\n",
            "\n",
            "\n",
            "A value is trying to be set on a copy of a slice from a DataFrame.\n",
            "Try using .loc[row_indexer,col_indexer] = value instead\n",
            "\n",
            "See the caveats in the documentation: https://pandas.pydata.org/pandas-docs/stable/user_guide/indexing.html#returning-a-view-versus-a-copy\n",
            "\n",
            "<ipython-input-127-77bd6d3f5a70>:7: SettingWithCopyWarning:\n",
            "\n",
            "\n",
            "A value is trying to be set on a copy of a slice from a DataFrame.\n",
            "Try using .loc[row_indexer,col_indexer] = value instead\n",
            "\n",
            "See the caveats in the documentation: https://pandas.pydata.org/pandas-docs/stable/user_guide/indexing.html#returning-a-view-versus-a-copy\n",
            "\n",
            "<ipython-input-127-77bd6d3f5a70>:8: SettingWithCopyWarning:\n",
            "\n",
            "\n",
            "A value is trying to be set on a copy of a slice from a DataFrame.\n",
            "Try using .loc[row_indexer,col_indexer] = value instead\n",
            "\n",
            "See the caveats in the documentation: https://pandas.pydata.org/pandas-docs/stable/user_guide/indexing.html#returning-a-view-versus-a-copy\n",
            "\n"
          ]
        }
      ]
    },
    {
      "cell_type": "code",
      "source": [
        "# Gráfico habiendo añadido las 4 observaciones.\n",
        "fig = px.area(data_espana, x=\"YEAR_MONTH\", y=\"AMOUNT\",\n",
        "              labels={'YEAR_MONTH':'','AMOUNT':'Cantidad'},\n",
        "              title='Total de ventas en España con respecto al tiempo',\n",
        "              markers=True,\n",
        "              color_discrete_sequence=px.colors.qualitative.Prism)\n",
        "\n",
        "fig.update_layout(\n",
        "    title_font=dict(size=24, color=\"black\", family=\"Arial\"),\n",
        "    font=dict(size=16, color=\"black\", family=\"Arial\"))\n",
        "\n",
        "fig.update_yaxes(range=[0, 800000])\n",
        "\n",
        "fig.show()"
      ],
      "metadata": {
        "colab": {
          "base_uri": "https://localhost:8080/",
          "height": 542
        },
        "id": "Q03FY5LTPWvY",
        "outputId": "0446e026-8b23-4ac8-a731-8d6656da1704"
      },
      "execution_count": null,
      "outputs": [
        {
          "output_type": "display_data",
          "data": {
            "text/html": [
              "<html>\n",
              "<head><meta charset=\"utf-8\" /></head>\n",
              "<body>\n",
              "    <div>            <script src=\"https://cdnjs.cloudflare.com/ajax/libs/mathjax/2.7.5/MathJax.js?config=TeX-AMS-MML_SVG\"></script><script type=\"text/javascript\">if (window.MathJax && window.MathJax.Hub && window.MathJax.Hub.Config) {window.MathJax.Hub.Config({SVG: {font: \"STIX-Web\"}});}</script>                <script type=\"text/javascript\">window.PlotlyConfig = {MathJaxConfig: 'local'};</script>\n",
              "        <script charset=\"utf-8\" src=\"https://cdn.plot.ly/plotly-2.35.2.min.js\"></script>                <div id=\"a9d833e1-de86-4d5f-af45-10c982e9892a\" class=\"plotly-graph-div\" style=\"height:525px; width:100%;\"></div>            <script type=\"text/javascript\">                                    window.PLOTLYENV=window.PLOTLYENV || {};                                    if (document.getElementById(\"a9d833e1-de86-4d5f-af45-10c982e9892a\")) {                    Plotly.newPlot(                        \"a9d833e1-de86-4d5f-af45-10c982e9892a\",                        [{\"fillpattern\":{\"shape\":\"\"},\"hovertemplate\":\"=%{x}\\u003cbr\\u003eCantidad=%{y}\\u003cextra\\u003e\\u003c\\u002fextra\\u003e\",\"legendgroup\":\"\",\"line\":{\"color\":\"rgb(95, 70, 144)\"},\"marker\":{\"symbol\":\"circle\"},\"mode\":\"lines+markers\",\"name\":\"\",\"orientation\":\"v\",\"showlegend\":false,\"stackgroup\":\"1\",\"x\":[\"2022-11-01T00:00:00\",\"2022-12-01T00:00:00\",\"2023-01-01T00:00:00\",\"2023-02-01T00:00:00\",\"2023-03-01T00:00:00\",\"2023-04-01T00:00:00\",\"2023-05-01T00:00:00\",\"2023-06-01T00:00:00\",\"2023-07-01T00:00:00\",\"2023-08-01T00:00:00\",\"2023-09-01T00:00:00\",\"2023-10-01T00:00:00\",\"2023-11-01T00:00:00\",\"2023-12-01T00:00:00\",\"2024-01-01T00:00:00\",\"2024-02-01T00:00:00\",\"2024-03-01T00:00:00\",\"2024-04-01T00:00:00\",\"2024-05-01T00:00:00\",\"2024-06-01T00:00:00\",\"2024-07-01T00:00:00\",\"2024-08-01T00:00:00\",\"2024-09-01T00:00:00\",\"2024-10-01T00:00:00\"],\"xaxis\":\"x\",\"y\":[418006.199049298,394147.40859018476,325272.9389304911,295588.379604517,399710.27310997306,328035.2578740851,360751.156280142,439198.58628968743,496545.2361195783,564336.120819692,420041.9805910407,468425.84176011605,418006.199049298,394147.40859018476,349696.53314179694,352899.0356524695,332109.2562326968,376678.36889674753,356759.011785592,408967.746366754,506234.36278204597,537862.283643176,420041.9805910407,468425.84176011605],\"yaxis\":\"y\",\"type\":\"scatter\"}],                        {\"template\":{\"data\":{\"histogram2dcontour\":[{\"type\":\"histogram2dcontour\",\"colorbar\":{\"outlinewidth\":0,\"ticks\":\"\"},\"colorscale\":[[0.0,\"#0d0887\"],[0.1111111111111111,\"#46039f\"],[0.2222222222222222,\"#7201a8\"],[0.3333333333333333,\"#9c179e\"],[0.4444444444444444,\"#bd3786\"],[0.5555555555555556,\"#d8576b\"],[0.6666666666666666,\"#ed7953\"],[0.7777777777777778,\"#fb9f3a\"],[0.8888888888888888,\"#fdca26\"],[1.0,\"#f0f921\"]]}],\"choropleth\":[{\"type\":\"choropleth\",\"colorbar\":{\"outlinewidth\":0,\"ticks\":\"\"}}],\"histogram2d\":[{\"type\":\"histogram2d\",\"colorbar\":{\"outlinewidth\":0,\"ticks\":\"\"},\"colorscale\":[[0.0,\"#0d0887\"],[0.1111111111111111,\"#46039f\"],[0.2222222222222222,\"#7201a8\"],[0.3333333333333333,\"#9c179e\"],[0.4444444444444444,\"#bd3786\"],[0.5555555555555556,\"#d8576b\"],[0.6666666666666666,\"#ed7953\"],[0.7777777777777778,\"#fb9f3a\"],[0.8888888888888888,\"#fdca26\"],[1.0,\"#f0f921\"]]}],\"heatmap\":[{\"type\":\"heatmap\",\"colorbar\":{\"outlinewidth\":0,\"ticks\":\"\"},\"colorscale\":[[0.0,\"#0d0887\"],[0.1111111111111111,\"#46039f\"],[0.2222222222222222,\"#7201a8\"],[0.3333333333333333,\"#9c179e\"],[0.4444444444444444,\"#bd3786\"],[0.5555555555555556,\"#d8576b\"],[0.6666666666666666,\"#ed7953\"],[0.7777777777777778,\"#fb9f3a\"],[0.8888888888888888,\"#fdca26\"],[1.0,\"#f0f921\"]]}],\"heatmapgl\":[{\"type\":\"heatmapgl\",\"colorbar\":{\"outlinewidth\":0,\"ticks\":\"\"},\"colorscale\":[[0.0,\"#0d0887\"],[0.1111111111111111,\"#46039f\"],[0.2222222222222222,\"#7201a8\"],[0.3333333333333333,\"#9c179e\"],[0.4444444444444444,\"#bd3786\"],[0.5555555555555556,\"#d8576b\"],[0.6666666666666666,\"#ed7953\"],[0.7777777777777778,\"#fb9f3a\"],[0.8888888888888888,\"#fdca26\"],[1.0,\"#f0f921\"]]}],\"contourcarpet\":[{\"type\":\"contourcarpet\",\"colorbar\":{\"outlinewidth\":0,\"ticks\":\"\"}}],\"contour\":[{\"type\":\"contour\",\"colorbar\":{\"outlinewidth\":0,\"ticks\":\"\"},\"colorscale\":[[0.0,\"#0d0887\"],[0.1111111111111111,\"#46039f\"],[0.2222222222222222,\"#7201a8\"],[0.3333333333333333,\"#9c179e\"],[0.4444444444444444,\"#bd3786\"],[0.5555555555555556,\"#d8576b\"],[0.6666666666666666,\"#ed7953\"],[0.7777777777777778,\"#fb9f3a\"],[0.8888888888888888,\"#fdca26\"],[1.0,\"#f0f921\"]]}],\"surface\":[{\"type\":\"surface\",\"colorbar\":{\"outlinewidth\":0,\"ticks\":\"\"},\"colorscale\":[[0.0,\"#0d0887\"],[0.1111111111111111,\"#46039f\"],[0.2222222222222222,\"#7201a8\"],[0.3333333333333333,\"#9c179e\"],[0.4444444444444444,\"#bd3786\"],[0.5555555555555556,\"#d8576b\"],[0.6666666666666666,\"#ed7953\"],[0.7777777777777778,\"#fb9f3a\"],[0.8888888888888888,\"#fdca26\"],[1.0,\"#f0f921\"]]}],\"mesh3d\":[{\"type\":\"mesh3d\",\"colorbar\":{\"outlinewidth\":0,\"ticks\":\"\"}}],\"scatter\":[{\"fillpattern\":{\"fillmode\":\"overlay\",\"size\":10,\"solidity\":0.2},\"type\":\"scatter\"}],\"parcoords\":[{\"type\":\"parcoords\",\"line\":{\"colorbar\":{\"outlinewidth\":0,\"ticks\":\"\"}}}],\"scatterpolargl\":[{\"type\":\"scatterpolargl\",\"marker\":{\"colorbar\":{\"outlinewidth\":0,\"ticks\":\"\"}}}],\"bar\":[{\"error_x\":{\"color\":\"#2a3f5f\"},\"error_y\":{\"color\":\"#2a3f5f\"},\"marker\":{\"line\":{\"color\":\"#E5ECF6\",\"width\":0.5},\"pattern\":{\"fillmode\":\"overlay\",\"size\":10,\"solidity\":0.2}},\"type\":\"bar\"}],\"scattergeo\":[{\"type\":\"scattergeo\",\"marker\":{\"colorbar\":{\"outlinewidth\":0,\"ticks\":\"\"}}}],\"scatterpolar\":[{\"type\":\"scatterpolar\",\"marker\":{\"colorbar\":{\"outlinewidth\":0,\"ticks\":\"\"}}}],\"histogram\":[{\"marker\":{\"pattern\":{\"fillmode\":\"overlay\",\"size\":10,\"solidity\":0.2}},\"type\":\"histogram\"}],\"scattergl\":[{\"type\":\"scattergl\",\"marker\":{\"colorbar\":{\"outlinewidth\":0,\"ticks\":\"\"}}}],\"scatter3d\":[{\"type\":\"scatter3d\",\"line\":{\"colorbar\":{\"outlinewidth\":0,\"ticks\":\"\"}},\"marker\":{\"colorbar\":{\"outlinewidth\":0,\"ticks\":\"\"}}}],\"scattermapbox\":[{\"type\":\"scattermapbox\",\"marker\":{\"colorbar\":{\"outlinewidth\":0,\"ticks\":\"\"}}}],\"scatterternary\":[{\"type\":\"scatterternary\",\"marker\":{\"colorbar\":{\"outlinewidth\":0,\"ticks\":\"\"}}}],\"scattercarpet\":[{\"type\":\"scattercarpet\",\"marker\":{\"colorbar\":{\"outlinewidth\":0,\"ticks\":\"\"}}}],\"carpet\":[{\"aaxis\":{\"endlinecolor\":\"#2a3f5f\",\"gridcolor\":\"white\",\"linecolor\":\"white\",\"minorgridcolor\":\"white\",\"startlinecolor\":\"#2a3f5f\"},\"baxis\":{\"endlinecolor\":\"#2a3f5f\",\"gridcolor\":\"white\",\"linecolor\":\"white\",\"minorgridcolor\":\"white\",\"startlinecolor\":\"#2a3f5f\"},\"type\":\"carpet\"}],\"table\":[{\"cells\":{\"fill\":{\"color\":\"#EBF0F8\"},\"line\":{\"color\":\"white\"}},\"header\":{\"fill\":{\"color\":\"#C8D4E3\"},\"line\":{\"color\":\"white\"}},\"type\":\"table\"}],\"barpolar\":[{\"marker\":{\"line\":{\"color\":\"#E5ECF6\",\"width\":0.5},\"pattern\":{\"fillmode\":\"overlay\",\"size\":10,\"solidity\":0.2}},\"type\":\"barpolar\"}],\"pie\":[{\"automargin\":true,\"type\":\"pie\"}]},\"layout\":{\"autotypenumbers\":\"strict\",\"colorway\":[\"#636efa\",\"#EF553B\",\"#00cc96\",\"#ab63fa\",\"#FFA15A\",\"#19d3f3\",\"#FF6692\",\"#B6E880\",\"#FF97FF\",\"#FECB52\"],\"font\":{\"color\":\"#2a3f5f\"},\"hovermode\":\"closest\",\"hoverlabel\":{\"align\":\"left\"},\"paper_bgcolor\":\"white\",\"plot_bgcolor\":\"#E5ECF6\",\"polar\":{\"bgcolor\":\"#E5ECF6\",\"angularaxis\":{\"gridcolor\":\"white\",\"linecolor\":\"white\",\"ticks\":\"\"},\"radialaxis\":{\"gridcolor\":\"white\",\"linecolor\":\"white\",\"ticks\":\"\"}},\"ternary\":{\"bgcolor\":\"#E5ECF6\",\"aaxis\":{\"gridcolor\":\"white\",\"linecolor\":\"white\",\"ticks\":\"\"},\"baxis\":{\"gridcolor\":\"white\",\"linecolor\":\"white\",\"ticks\":\"\"},\"caxis\":{\"gridcolor\":\"white\",\"linecolor\":\"white\",\"ticks\":\"\"}},\"coloraxis\":{\"colorbar\":{\"outlinewidth\":0,\"ticks\":\"\"}},\"colorscale\":{\"sequential\":[[0.0,\"#0d0887\"],[0.1111111111111111,\"#46039f\"],[0.2222222222222222,\"#7201a8\"],[0.3333333333333333,\"#9c179e\"],[0.4444444444444444,\"#bd3786\"],[0.5555555555555556,\"#d8576b\"],[0.6666666666666666,\"#ed7953\"],[0.7777777777777778,\"#fb9f3a\"],[0.8888888888888888,\"#fdca26\"],[1.0,\"#f0f921\"]],\"sequentialminus\":[[0.0,\"#0d0887\"],[0.1111111111111111,\"#46039f\"],[0.2222222222222222,\"#7201a8\"],[0.3333333333333333,\"#9c179e\"],[0.4444444444444444,\"#bd3786\"],[0.5555555555555556,\"#d8576b\"],[0.6666666666666666,\"#ed7953\"],[0.7777777777777778,\"#fb9f3a\"],[0.8888888888888888,\"#fdca26\"],[1.0,\"#f0f921\"]],\"diverging\":[[0,\"#8e0152\"],[0.1,\"#c51b7d\"],[0.2,\"#de77ae\"],[0.3,\"#f1b6da\"],[0.4,\"#fde0ef\"],[0.5,\"#f7f7f7\"],[0.6,\"#e6f5d0\"],[0.7,\"#b8e186\"],[0.8,\"#7fbc41\"],[0.9,\"#4d9221\"],[1,\"#276419\"]]},\"xaxis\":{\"gridcolor\":\"white\",\"linecolor\":\"white\",\"ticks\":\"\",\"title\":{\"standoff\":15},\"zerolinecolor\":\"white\",\"automargin\":true,\"zerolinewidth\":2},\"yaxis\":{\"gridcolor\":\"white\",\"linecolor\":\"white\",\"ticks\":\"\",\"title\":{\"standoff\":15},\"zerolinecolor\":\"white\",\"automargin\":true,\"zerolinewidth\":2},\"scene\":{\"xaxis\":{\"backgroundcolor\":\"#E5ECF6\",\"gridcolor\":\"white\",\"linecolor\":\"white\",\"showbackground\":true,\"ticks\":\"\",\"zerolinecolor\":\"white\",\"gridwidth\":2},\"yaxis\":{\"backgroundcolor\":\"#E5ECF6\",\"gridcolor\":\"white\",\"linecolor\":\"white\",\"showbackground\":true,\"ticks\":\"\",\"zerolinecolor\":\"white\",\"gridwidth\":2},\"zaxis\":{\"backgroundcolor\":\"#E5ECF6\",\"gridcolor\":\"white\",\"linecolor\":\"white\",\"showbackground\":true,\"ticks\":\"\",\"zerolinecolor\":\"white\",\"gridwidth\":2}},\"shapedefaults\":{\"line\":{\"color\":\"#2a3f5f\"}},\"annotationdefaults\":{\"arrowcolor\":\"#2a3f5f\",\"arrowhead\":0,\"arrowwidth\":1},\"geo\":{\"bgcolor\":\"white\",\"landcolor\":\"#E5ECF6\",\"subunitcolor\":\"white\",\"showland\":true,\"showlakes\":true,\"lakecolor\":\"white\"},\"title\":{\"x\":0.05},\"mapbox\":{\"style\":\"light\"}}},\"xaxis\":{\"anchor\":\"y\",\"domain\":[0.0,1.0],\"title\":{\"text\":\"\"}},\"yaxis\":{\"anchor\":\"x\",\"domain\":[0.0,1.0],\"title\":{\"text\":\"Cantidad\"},\"range\":[0,800000]},\"legend\":{\"tracegroupgap\":0},\"title\":{\"text\":\"Total de ventas en España con respecto al tiempo\",\"font\":{\"size\":24,\"color\":\"black\",\"family\":\"Arial\"}},\"font\":{\"size\":16,\"color\":\"black\",\"family\":\"Arial\"}},                        {\"responsive\": true}                    ).then(function(){\n",
              "                            \n",
              "var gd = document.getElementById('a9d833e1-de86-4d5f-af45-10c982e9892a');\n",
              "var x = new MutationObserver(function (mutations, observer) {{\n",
              "        var display = window.getComputedStyle(gd).display;\n",
              "        if (!display || display === 'none') {{\n",
              "            console.log([gd, 'removed!']);\n",
              "            Plotly.purge(gd);\n",
              "            observer.disconnect();\n",
              "        }}\n",
              "}});\n",
              "\n",
              "// Listen for the removal of the full notebook cells\n",
              "var notebookContainer = gd.closest('#notebook-container');\n",
              "if (notebookContainer) {{\n",
              "    x.observe(notebookContainer, {childList: true});\n",
              "}}\n",
              "\n",
              "// Listen for the clearing of the current output cell\n",
              "var outputEl = gd.closest('.output');\n",
              "if (outputEl) {{\n",
              "    x.observe(outputEl, {childList: true});\n",
              "}}\n",
              "\n",
              "                        })                };                            </script>        </div>\n",
              "</body>\n",
              "</html>"
            ]
          },
          "metadata": {}
        }
      ]
    },
    {
      "cell_type": "code",
      "source": [
        "data_espana = data_espana.set_index('YEAR_MONTH')"
      ],
      "metadata": {
        "id": "zIUqvGEoP9vh"
      },
      "execution_count": null,
      "outputs": []
    },
    {
      "cell_type": "code",
      "source": [
        "# Tendencia\n",
        "result = seasonal_decompose(data_espana['AMOUNT'], model='additive',period=12)\n",
        "\n",
        "fig = px.line(result.trend, title='Tendencia')\n",
        "\n",
        "fig.update_layout(\n",
        "    title_font=dict(size=20, family=\"Arial\", color=\"black\"),\n",
        "    xaxis_title=\"Fecha\",\n",
        "    yaxis_title=\"Valor\",\n",
        "    template=\"plotly_white\",  # Fondo blanco\n",
        "    showlegend=False,  # Ocultar leyenda si no es necesaria\n",
        "    xaxis=dict(tickangle=-45),  # Rotar etiquetas del eje x si es necesario\n",
        ")\n",
        "\n",
        "fig.update_traces(\n",
        "    line=dict(color=\"#FF66B3\", width=3),\n",
        "    mode='lines+markers',\n",
        "    marker=dict(size=8, symbol='circle', color=\"#FF66B3\")\n",
        ")\n",
        "\n",
        "fig.show()"
      ],
      "metadata": {
        "colab": {
          "base_uri": "https://localhost:8080/",
          "height": 542
        },
        "id": "IelTPUNvwTKa",
        "outputId": "0b08c4ef-e970-449e-91ba-32eb5f3cba71"
      },
      "execution_count": null,
      "outputs": [
        {
          "output_type": "display_data",
          "data": {
            "text/html": [
              "<html>\n",
              "<head><meta charset=\"utf-8\" /></head>\n",
              "<body>\n",
              "    <div>            <script src=\"https://cdnjs.cloudflare.com/ajax/libs/mathjax/2.7.5/MathJax.js?config=TeX-AMS-MML_SVG\"></script><script type=\"text/javascript\">if (window.MathJax && window.MathJax.Hub && window.MathJax.Hub.Config) {window.MathJax.Hub.Config({SVG: {font: \"STIX-Web\"}});}</script>                <script type=\"text/javascript\">window.PlotlyConfig = {MathJaxConfig: 'local'};</script>\n",
              "        <script charset=\"utf-8\" src=\"https://cdn.plot.ly/plotly-2.35.2.min.js\"></script>                <div id=\"78f655ad-6940-47bc-84e1-0d335f574218\" class=\"plotly-graph-div\" style=\"height:525px; width:100%;\"></div>            <script type=\"text/javascript\">                                    window.PLOTLYENV=window.PLOTLYENV || {};                                    if (document.getElementById(\"78f655ad-6940-47bc-84e1-0d335f574218\")) {                    Plotly.newPlot(                        \"78f655ad-6940-47bc-84e1-0d335f574218\",                        [{\"hovertemplate\":\"variable=trend\\u003cbr\\u003eYEAR_MONTH=%{x}\\u003cbr\\u003evalue=%{y}\\u003cextra\\u003e\\u003c\\u002fextra\\u003e\",\"legendgroup\":\"trend\",\"line\":{\"color\":\"#FF66B3\",\"dash\":\"solid\",\"width\":3},\"marker\":{\"symbol\":\"circle\",\"color\":\"#FF66B3\",\"size\":8},\"mode\":\"lines+markers\",\"name\":\"trend\",\"orientation\":\"v\",\"showlegend\":true,\"x\":[\"2022-11-01T00:00:00\",\"2022-12-01T00:00:00\",\"2023-01-01T00:00:00\",\"2023-02-01T00:00:00\",\"2023-03-01T00:00:00\",\"2023-04-01T00:00:00\",\"2023-05-01T00:00:00\",\"2023-06-01T00:00:00\",\"2023-07-01T00:00:00\",\"2023-08-01T00:00:00\",\"2023-09-01T00:00:00\",\"2023-10-01T00:00:00\",\"2023-11-01T00:00:00\",\"2023-12-01T00:00:00\",\"2024-01-01T00:00:00\",\"2024-02-01T00:00:00\",\"2024-03-01T00:00:00\",\"2024-04-01T00:00:00\",\"2024-05-01T00:00:00\",\"2024-06-01T00:00:00\",\"2024-07-01T00:00:00\",\"2024-08-01T00:00:00\",\"2024-09-01T00:00:00\",\"2024-10-01T00:00:00\"],\"xaxis\":\"x\",\"y\":[null,null,null,null,null,null,409171.6149182337,409171.6149182338,410189.2646770381,413594.8584378406,413166.0934032854,412376.18065934326,414236.63759801467,412810.67991395283,411954.77519476676,411255.4122566813,410152.33570765983,410152.3357076599,null,null,null,null,null,null],\"yaxis\":\"y\",\"type\":\"scatter\"}],                        {\"template\":{\"data\":{\"barpolar\":[{\"marker\":{\"line\":{\"color\":\"white\",\"width\":0.5},\"pattern\":{\"fillmode\":\"overlay\",\"size\":10,\"solidity\":0.2}},\"type\":\"barpolar\"}],\"bar\":[{\"error_x\":{\"color\":\"#2a3f5f\"},\"error_y\":{\"color\":\"#2a3f5f\"},\"marker\":{\"line\":{\"color\":\"white\",\"width\":0.5},\"pattern\":{\"fillmode\":\"overlay\",\"size\":10,\"solidity\":0.2}},\"type\":\"bar\"}],\"carpet\":[{\"aaxis\":{\"endlinecolor\":\"#2a3f5f\",\"gridcolor\":\"#C8D4E3\",\"linecolor\":\"#C8D4E3\",\"minorgridcolor\":\"#C8D4E3\",\"startlinecolor\":\"#2a3f5f\"},\"baxis\":{\"endlinecolor\":\"#2a3f5f\",\"gridcolor\":\"#C8D4E3\",\"linecolor\":\"#C8D4E3\",\"minorgridcolor\":\"#C8D4E3\",\"startlinecolor\":\"#2a3f5f\"},\"type\":\"carpet\"}],\"choropleth\":[{\"colorbar\":{\"outlinewidth\":0,\"ticks\":\"\"},\"type\":\"choropleth\"}],\"contourcarpet\":[{\"colorbar\":{\"outlinewidth\":0,\"ticks\":\"\"},\"type\":\"contourcarpet\"}],\"contour\":[{\"colorbar\":{\"outlinewidth\":0,\"ticks\":\"\"},\"colorscale\":[[0.0,\"#0d0887\"],[0.1111111111111111,\"#46039f\"],[0.2222222222222222,\"#7201a8\"],[0.3333333333333333,\"#9c179e\"],[0.4444444444444444,\"#bd3786\"],[0.5555555555555556,\"#d8576b\"],[0.6666666666666666,\"#ed7953\"],[0.7777777777777778,\"#fb9f3a\"],[0.8888888888888888,\"#fdca26\"],[1.0,\"#f0f921\"]],\"type\":\"contour\"}],\"heatmapgl\":[{\"colorbar\":{\"outlinewidth\":0,\"ticks\":\"\"},\"colorscale\":[[0.0,\"#0d0887\"],[0.1111111111111111,\"#46039f\"],[0.2222222222222222,\"#7201a8\"],[0.3333333333333333,\"#9c179e\"],[0.4444444444444444,\"#bd3786\"],[0.5555555555555556,\"#d8576b\"],[0.6666666666666666,\"#ed7953\"],[0.7777777777777778,\"#fb9f3a\"],[0.8888888888888888,\"#fdca26\"],[1.0,\"#f0f921\"]],\"type\":\"heatmapgl\"}],\"heatmap\":[{\"colorbar\":{\"outlinewidth\":0,\"ticks\":\"\"},\"colorscale\":[[0.0,\"#0d0887\"],[0.1111111111111111,\"#46039f\"],[0.2222222222222222,\"#7201a8\"],[0.3333333333333333,\"#9c179e\"],[0.4444444444444444,\"#bd3786\"],[0.5555555555555556,\"#d8576b\"],[0.6666666666666666,\"#ed7953\"],[0.7777777777777778,\"#fb9f3a\"],[0.8888888888888888,\"#fdca26\"],[1.0,\"#f0f921\"]],\"type\":\"heatmap\"}],\"histogram2dcontour\":[{\"colorbar\":{\"outlinewidth\":0,\"ticks\":\"\"},\"colorscale\":[[0.0,\"#0d0887\"],[0.1111111111111111,\"#46039f\"],[0.2222222222222222,\"#7201a8\"],[0.3333333333333333,\"#9c179e\"],[0.4444444444444444,\"#bd3786\"],[0.5555555555555556,\"#d8576b\"],[0.6666666666666666,\"#ed7953\"],[0.7777777777777778,\"#fb9f3a\"],[0.8888888888888888,\"#fdca26\"],[1.0,\"#f0f921\"]],\"type\":\"histogram2dcontour\"}],\"histogram2d\":[{\"colorbar\":{\"outlinewidth\":0,\"ticks\":\"\"},\"colorscale\":[[0.0,\"#0d0887\"],[0.1111111111111111,\"#46039f\"],[0.2222222222222222,\"#7201a8\"],[0.3333333333333333,\"#9c179e\"],[0.4444444444444444,\"#bd3786\"],[0.5555555555555556,\"#d8576b\"],[0.6666666666666666,\"#ed7953\"],[0.7777777777777778,\"#fb9f3a\"],[0.8888888888888888,\"#fdca26\"],[1.0,\"#f0f921\"]],\"type\":\"histogram2d\"}],\"histogram\":[{\"marker\":{\"pattern\":{\"fillmode\":\"overlay\",\"size\":10,\"solidity\":0.2}},\"type\":\"histogram\"}],\"mesh3d\":[{\"colorbar\":{\"outlinewidth\":0,\"ticks\":\"\"},\"type\":\"mesh3d\"}],\"parcoords\":[{\"line\":{\"colorbar\":{\"outlinewidth\":0,\"ticks\":\"\"}},\"type\":\"parcoords\"}],\"pie\":[{\"automargin\":true,\"type\":\"pie\"}],\"scatter3d\":[{\"line\":{\"colorbar\":{\"outlinewidth\":0,\"ticks\":\"\"}},\"marker\":{\"colorbar\":{\"outlinewidth\":0,\"ticks\":\"\"}},\"type\":\"scatter3d\"}],\"scattercarpet\":[{\"marker\":{\"colorbar\":{\"outlinewidth\":0,\"ticks\":\"\"}},\"type\":\"scattercarpet\"}],\"scattergeo\":[{\"marker\":{\"colorbar\":{\"outlinewidth\":0,\"ticks\":\"\"}},\"type\":\"scattergeo\"}],\"scattergl\":[{\"marker\":{\"colorbar\":{\"outlinewidth\":0,\"ticks\":\"\"}},\"type\":\"scattergl\"}],\"scattermapbox\":[{\"marker\":{\"colorbar\":{\"outlinewidth\":0,\"ticks\":\"\"}},\"type\":\"scattermapbox\"}],\"scatterpolargl\":[{\"marker\":{\"colorbar\":{\"outlinewidth\":0,\"ticks\":\"\"}},\"type\":\"scatterpolargl\"}],\"scatterpolar\":[{\"marker\":{\"colorbar\":{\"outlinewidth\":0,\"ticks\":\"\"}},\"type\":\"scatterpolar\"}],\"scatter\":[{\"fillpattern\":{\"fillmode\":\"overlay\",\"size\":10,\"solidity\":0.2},\"type\":\"scatter\"}],\"scatterternary\":[{\"marker\":{\"colorbar\":{\"outlinewidth\":0,\"ticks\":\"\"}},\"type\":\"scatterternary\"}],\"surface\":[{\"colorbar\":{\"outlinewidth\":0,\"ticks\":\"\"},\"colorscale\":[[0.0,\"#0d0887\"],[0.1111111111111111,\"#46039f\"],[0.2222222222222222,\"#7201a8\"],[0.3333333333333333,\"#9c179e\"],[0.4444444444444444,\"#bd3786\"],[0.5555555555555556,\"#d8576b\"],[0.6666666666666666,\"#ed7953\"],[0.7777777777777778,\"#fb9f3a\"],[0.8888888888888888,\"#fdca26\"],[1.0,\"#f0f921\"]],\"type\":\"surface\"}],\"table\":[{\"cells\":{\"fill\":{\"color\":\"#EBF0F8\"},\"line\":{\"color\":\"white\"}},\"header\":{\"fill\":{\"color\":\"#C8D4E3\"},\"line\":{\"color\":\"white\"}},\"type\":\"table\"}]},\"layout\":{\"annotationdefaults\":{\"arrowcolor\":\"#2a3f5f\",\"arrowhead\":0,\"arrowwidth\":1},\"autotypenumbers\":\"strict\",\"coloraxis\":{\"colorbar\":{\"outlinewidth\":0,\"ticks\":\"\"}},\"colorscale\":{\"diverging\":[[0,\"#8e0152\"],[0.1,\"#c51b7d\"],[0.2,\"#de77ae\"],[0.3,\"#f1b6da\"],[0.4,\"#fde0ef\"],[0.5,\"#f7f7f7\"],[0.6,\"#e6f5d0\"],[0.7,\"#b8e186\"],[0.8,\"#7fbc41\"],[0.9,\"#4d9221\"],[1,\"#276419\"]],\"sequential\":[[0.0,\"#0d0887\"],[0.1111111111111111,\"#46039f\"],[0.2222222222222222,\"#7201a8\"],[0.3333333333333333,\"#9c179e\"],[0.4444444444444444,\"#bd3786\"],[0.5555555555555556,\"#d8576b\"],[0.6666666666666666,\"#ed7953\"],[0.7777777777777778,\"#fb9f3a\"],[0.8888888888888888,\"#fdca26\"],[1.0,\"#f0f921\"]],\"sequentialminus\":[[0.0,\"#0d0887\"],[0.1111111111111111,\"#46039f\"],[0.2222222222222222,\"#7201a8\"],[0.3333333333333333,\"#9c179e\"],[0.4444444444444444,\"#bd3786\"],[0.5555555555555556,\"#d8576b\"],[0.6666666666666666,\"#ed7953\"],[0.7777777777777778,\"#fb9f3a\"],[0.8888888888888888,\"#fdca26\"],[1.0,\"#f0f921\"]]},\"colorway\":[\"#636efa\",\"#EF553B\",\"#00cc96\",\"#ab63fa\",\"#FFA15A\",\"#19d3f3\",\"#FF6692\",\"#B6E880\",\"#FF97FF\",\"#FECB52\"],\"font\":{\"color\":\"#2a3f5f\"},\"geo\":{\"bgcolor\":\"white\",\"lakecolor\":\"white\",\"landcolor\":\"white\",\"showlakes\":true,\"showland\":true,\"subunitcolor\":\"#C8D4E3\"},\"hoverlabel\":{\"align\":\"left\"},\"hovermode\":\"closest\",\"mapbox\":{\"style\":\"light\"},\"paper_bgcolor\":\"white\",\"plot_bgcolor\":\"white\",\"polar\":{\"angularaxis\":{\"gridcolor\":\"#EBF0F8\",\"linecolor\":\"#EBF0F8\",\"ticks\":\"\"},\"bgcolor\":\"white\",\"radialaxis\":{\"gridcolor\":\"#EBF0F8\",\"linecolor\":\"#EBF0F8\",\"ticks\":\"\"}},\"scene\":{\"xaxis\":{\"backgroundcolor\":\"white\",\"gridcolor\":\"#DFE8F3\",\"gridwidth\":2,\"linecolor\":\"#EBF0F8\",\"showbackground\":true,\"ticks\":\"\",\"zerolinecolor\":\"#EBF0F8\"},\"yaxis\":{\"backgroundcolor\":\"white\",\"gridcolor\":\"#DFE8F3\",\"gridwidth\":2,\"linecolor\":\"#EBF0F8\",\"showbackground\":true,\"ticks\":\"\",\"zerolinecolor\":\"#EBF0F8\"},\"zaxis\":{\"backgroundcolor\":\"white\",\"gridcolor\":\"#DFE8F3\",\"gridwidth\":2,\"linecolor\":\"#EBF0F8\",\"showbackground\":true,\"ticks\":\"\",\"zerolinecolor\":\"#EBF0F8\"}},\"shapedefaults\":{\"line\":{\"color\":\"#2a3f5f\"}},\"ternary\":{\"aaxis\":{\"gridcolor\":\"#DFE8F3\",\"linecolor\":\"#A2B1C6\",\"ticks\":\"\"},\"baxis\":{\"gridcolor\":\"#DFE8F3\",\"linecolor\":\"#A2B1C6\",\"ticks\":\"\"},\"bgcolor\":\"white\",\"caxis\":{\"gridcolor\":\"#DFE8F3\",\"linecolor\":\"#A2B1C6\",\"ticks\":\"\"}},\"title\":{\"x\":0.05},\"xaxis\":{\"automargin\":true,\"gridcolor\":\"#EBF0F8\",\"linecolor\":\"#EBF0F8\",\"ticks\":\"\",\"title\":{\"standoff\":15},\"zerolinecolor\":\"#EBF0F8\",\"zerolinewidth\":2},\"yaxis\":{\"automargin\":true,\"gridcolor\":\"#EBF0F8\",\"linecolor\":\"#EBF0F8\",\"ticks\":\"\",\"title\":{\"standoff\":15},\"zerolinecolor\":\"#EBF0F8\",\"zerolinewidth\":2}}},\"xaxis\":{\"anchor\":\"y\",\"domain\":[0.0,1.0],\"title\":{\"text\":\"Fecha\"},\"tickangle\":-45},\"yaxis\":{\"anchor\":\"x\",\"domain\":[0.0,1.0],\"title\":{\"text\":\"Valor\"}},\"legend\":{\"title\":{\"text\":\"variable\"},\"tracegroupgap\":0},\"title\":{\"text\":\"Tendencia\",\"font\":{\"size\":20,\"family\":\"Arial\",\"color\":\"black\"}},\"showlegend\":false},                        {\"responsive\": true}                    ).then(function(){\n",
              "                            \n",
              "var gd = document.getElementById('78f655ad-6940-47bc-84e1-0d335f574218');\n",
              "var x = new MutationObserver(function (mutations, observer) {{\n",
              "        var display = window.getComputedStyle(gd).display;\n",
              "        if (!display || display === 'none') {{\n",
              "            console.log([gd, 'removed!']);\n",
              "            Plotly.purge(gd);\n",
              "            observer.disconnect();\n",
              "        }}\n",
              "}});\n",
              "\n",
              "// Listen for the removal of the full notebook cells\n",
              "var notebookContainer = gd.closest('#notebook-container');\n",
              "if (notebookContainer) {{\n",
              "    x.observe(notebookContainer, {childList: true});\n",
              "}}\n",
              "\n",
              "// Listen for the clearing of the current output cell\n",
              "var outputEl = gd.closest('.output');\n",
              "if (outputEl) {{\n",
              "    x.observe(outputEl, {childList: true});\n",
              "}}\n",
              "\n",
              "                        })                };                            </script>        </div>\n",
              "</body>\n",
              "</html>"
            ]
          },
          "metadata": {}
        }
      ]
    },
    {
      "cell_type": "code",
      "source": [
        "# Estacionalidad\n",
        "fig = px.line(result.seasonal, title='Estacionalidad')\n",
        "\n",
        "fig.update_layout(\n",
        "    title_font=dict(size=20, family=\"Arial\", color=\"black\"),\n",
        "    xaxis_title=\"Fecha\",\n",
        "    yaxis_title=\"Valor\",\n",
        "    template=\"plotly_white\",  # Fondo blanco\n",
        "    showlegend=False,  # Ocultar leyenda si no es necesaria\n",
        "    xaxis=dict(tickangle=-45),  # Rotar etiquetas del eje x si es necesario\n",
        ")\n",
        "\n",
        "fig.update_traces(\n",
        "    line=dict(color=\"#FF66B3\", width=3),\n",
        "    mode='lines+markers',\n",
        "    marker=dict(size=8, symbol='circle', color=\"#FF66B3\")\n",
        ")\n",
        "\n",
        "fig.show()"
      ],
      "metadata": {
        "colab": {
          "base_uri": "https://localhost:8080/",
          "height": 542
        },
        "id": "9URP-6lb0Ns4",
        "outputId": "86f7fcec-8052-463f-da5e-f16b5dec21a3"
      },
      "execution_count": null,
      "outputs": [
        {
          "output_type": "display_data",
          "data": {
            "text/html": [
              "<html>\n",
              "<head><meta charset=\"utf-8\" /></head>\n",
              "<body>\n",
              "    <div>            <script src=\"https://cdnjs.cloudflare.com/ajax/libs/mathjax/2.7.5/MathJax.js?config=TeX-AMS-MML_SVG\"></script><script type=\"text/javascript\">if (window.MathJax && window.MathJax.Hub && window.MathJax.Hub.Config) {window.MathJax.Hub.Config({SVG: {font: \"STIX-Web\"}});}</script>                <script type=\"text/javascript\">window.PlotlyConfig = {MathJaxConfig: 'local'};</script>\n",
              "        <script charset=\"utf-8\" src=\"https://cdn.plot.ly/plotly-2.35.2.min.js\"></script>                <div id=\"b1edf73b-e61e-437b-b6ac-afe225b41022\" class=\"plotly-graph-div\" style=\"height:525px; width:100%;\"></div>            <script type=\"text/javascript\">                                    window.PLOTLYENV=window.PLOTLYENV || {};                                    if (document.getElementById(\"b1edf73b-e61e-437b-b6ac-afe225b41022\")) {                    Plotly.newPlot(                        \"b1edf73b-e61e-437b-b6ac-afe225b41022\",                        [{\"hovertemplate\":\"variable=seasonal\\u003cbr\\u003eYEAR_MONTH=%{x}\\u003cbr\\u003evalue=%{y}\\u003cextra\\u003e\\u003c\\u002fextra\\u003e\",\"legendgroup\":\"seasonal\",\"line\":{\"color\":\"#FF66B3\",\"dash\":\"solid\",\"width\":3},\"marker\":{\"symbol\":\"circle\",\"color\":\"#FF66B3\",\"size\":8},\"mode\":\"lines+markers\",\"name\":\"seasonal\",\"orientation\":\"v\",\"showlegend\":true,\"x\":[\"2022-11-01T00:00:00\",\"2022-12-01T00:00:00\",\"2023-01-01T00:00:00\",\"2023-02-01T00:00:00\",\"2023-03-01T00:00:00\",\"2023-04-01T00:00:00\",\"2023-05-01T00:00:00\",\"2023-06-01T00:00:00\",\"2023-07-01T00:00:00\",\"2023-08-01T00:00:00\",\"2023-09-01T00:00:00\",\"2023-10-01T00:00:00\",\"2023-11-01T00:00:00\",\"2023-12-01T00:00:00\",\"2024-01-01T00:00:00\",\"2024-02-01T00:00:00\",\"2024-03-01T00:00:00\",\"2024-04-01T00:00:00\",\"2024-05-01T00:00:00\",\"2024-06-01T00:00:00\",\"2024-07-01T00:00:00\",\"2024-08-01T00:00:00\",\"2024-09-01T00:00:00\",\"2024-10-01T00:00:00\"],\"xaxis\":\"x\",\"y\":[885.9014487216868,-21546.931326329726,-65141.90205553147,-61240.036606773465,-80926.73947752466,-36357.62681347402,-51304.118640653345,27143.31136889195,83472.31143997853,147857.60237928978,3992.2271851936043,53166.001098211134,885.9014487216868,-21546.931326329726,-65141.90205553147,-61240.036606773465,-80926.73947752466,-36357.62681347402,-51304.118640653345,27143.31136889195,83472.31143997853,147857.60237928978,3992.2271851936043,53166.001098211134],\"yaxis\":\"y\",\"type\":\"scatter\"}],                        {\"template\":{\"data\":{\"barpolar\":[{\"marker\":{\"line\":{\"color\":\"white\",\"width\":0.5},\"pattern\":{\"fillmode\":\"overlay\",\"size\":10,\"solidity\":0.2}},\"type\":\"barpolar\"}],\"bar\":[{\"error_x\":{\"color\":\"#2a3f5f\"},\"error_y\":{\"color\":\"#2a3f5f\"},\"marker\":{\"line\":{\"color\":\"white\",\"width\":0.5},\"pattern\":{\"fillmode\":\"overlay\",\"size\":10,\"solidity\":0.2}},\"type\":\"bar\"}],\"carpet\":[{\"aaxis\":{\"endlinecolor\":\"#2a3f5f\",\"gridcolor\":\"#C8D4E3\",\"linecolor\":\"#C8D4E3\",\"minorgridcolor\":\"#C8D4E3\",\"startlinecolor\":\"#2a3f5f\"},\"baxis\":{\"endlinecolor\":\"#2a3f5f\",\"gridcolor\":\"#C8D4E3\",\"linecolor\":\"#C8D4E3\",\"minorgridcolor\":\"#C8D4E3\",\"startlinecolor\":\"#2a3f5f\"},\"type\":\"carpet\"}],\"choropleth\":[{\"colorbar\":{\"outlinewidth\":0,\"ticks\":\"\"},\"type\":\"choropleth\"}],\"contourcarpet\":[{\"colorbar\":{\"outlinewidth\":0,\"ticks\":\"\"},\"type\":\"contourcarpet\"}],\"contour\":[{\"colorbar\":{\"outlinewidth\":0,\"ticks\":\"\"},\"colorscale\":[[0.0,\"#0d0887\"],[0.1111111111111111,\"#46039f\"],[0.2222222222222222,\"#7201a8\"],[0.3333333333333333,\"#9c179e\"],[0.4444444444444444,\"#bd3786\"],[0.5555555555555556,\"#d8576b\"],[0.6666666666666666,\"#ed7953\"],[0.7777777777777778,\"#fb9f3a\"],[0.8888888888888888,\"#fdca26\"],[1.0,\"#f0f921\"]],\"type\":\"contour\"}],\"heatmapgl\":[{\"colorbar\":{\"outlinewidth\":0,\"ticks\":\"\"},\"colorscale\":[[0.0,\"#0d0887\"],[0.1111111111111111,\"#46039f\"],[0.2222222222222222,\"#7201a8\"],[0.3333333333333333,\"#9c179e\"],[0.4444444444444444,\"#bd3786\"],[0.5555555555555556,\"#d8576b\"],[0.6666666666666666,\"#ed7953\"],[0.7777777777777778,\"#fb9f3a\"],[0.8888888888888888,\"#fdca26\"],[1.0,\"#f0f921\"]],\"type\":\"heatmapgl\"}],\"heatmap\":[{\"colorbar\":{\"outlinewidth\":0,\"ticks\":\"\"},\"colorscale\":[[0.0,\"#0d0887\"],[0.1111111111111111,\"#46039f\"],[0.2222222222222222,\"#7201a8\"],[0.3333333333333333,\"#9c179e\"],[0.4444444444444444,\"#bd3786\"],[0.5555555555555556,\"#d8576b\"],[0.6666666666666666,\"#ed7953\"],[0.7777777777777778,\"#fb9f3a\"],[0.8888888888888888,\"#fdca26\"],[1.0,\"#f0f921\"]],\"type\":\"heatmap\"}],\"histogram2dcontour\":[{\"colorbar\":{\"outlinewidth\":0,\"ticks\":\"\"},\"colorscale\":[[0.0,\"#0d0887\"],[0.1111111111111111,\"#46039f\"],[0.2222222222222222,\"#7201a8\"],[0.3333333333333333,\"#9c179e\"],[0.4444444444444444,\"#bd3786\"],[0.5555555555555556,\"#d8576b\"],[0.6666666666666666,\"#ed7953\"],[0.7777777777777778,\"#fb9f3a\"],[0.8888888888888888,\"#fdca26\"],[1.0,\"#f0f921\"]],\"type\":\"histogram2dcontour\"}],\"histogram2d\":[{\"colorbar\":{\"outlinewidth\":0,\"ticks\":\"\"},\"colorscale\":[[0.0,\"#0d0887\"],[0.1111111111111111,\"#46039f\"],[0.2222222222222222,\"#7201a8\"],[0.3333333333333333,\"#9c179e\"],[0.4444444444444444,\"#bd3786\"],[0.5555555555555556,\"#d8576b\"],[0.6666666666666666,\"#ed7953\"],[0.7777777777777778,\"#fb9f3a\"],[0.8888888888888888,\"#fdca26\"],[1.0,\"#f0f921\"]],\"type\":\"histogram2d\"}],\"histogram\":[{\"marker\":{\"pattern\":{\"fillmode\":\"overlay\",\"size\":10,\"solidity\":0.2}},\"type\":\"histogram\"}],\"mesh3d\":[{\"colorbar\":{\"outlinewidth\":0,\"ticks\":\"\"},\"type\":\"mesh3d\"}],\"parcoords\":[{\"line\":{\"colorbar\":{\"outlinewidth\":0,\"ticks\":\"\"}},\"type\":\"parcoords\"}],\"pie\":[{\"automargin\":true,\"type\":\"pie\"}],\"scatter3d\":[{\"line\":{\"colorbar\":{\"outlinewidth\":0,\"ticks\":\"\"}},\"marker\":{\"colorbar\":{\"outlinewidth\":0,\"ticks\":\"\"}},\"type\":\"scatter3d\"}],\"scattercarpet\":[{\"marker\":{\"colorbar\":{\"outlinewidth\":0,\"ticks\":\"\"}},\"type\":\"scattercarpet\"}],\"scattergeo\":[{\"marker\":{\"colorbar\":{\"outlinewidth\":0,\"ticks\":\"\"}},\"type\":\"scattergeo\"}],\"scattergl\":[{\"marker\":{\"colorbar\":{\"outlinewidth\":0,\"ticks\":\"\"}},\"type\":\"scattergl\"}],\"scattermapbox\":[{\"marker\":{\"colorbar\":{\"outlinewidth\":0,\"ticks\":\"\"}},\"type\":\"scattermapbox\"}],\"scatterpolargl\":[{\"marker\":{\"colorbar\":{\"outlinewidth\":0,\"ticks\":\"\"}},\"type\":\"scatterpolargl\"}],\"scatterpolar\":[{\"marker\":{\"colorbar\":{\"outlinewidth\":0,\"ticks\":\"\"}},\"type\":\"scatterpolar\"}],\"scatter\":[{\"fillpattern\":{\"fillmode\":\"overlay\",\"size\":10,\"solidity\":0.2},\"type\":\"scatter\"}],\"scatterternary\":[{\"marker\":{\"colorbar\":{\"outlinewidth\":0,\"ticks\":\"\"}},\"type\":\"scatterternary\"}],\"surface\":[{\"colorbar\":{\"outlinewidth\":0,\"ticks\":\"\"},\"colorscale\":[[0.0,\"#0d0887\"],[0.1111111111111111,\"#46039f\"],[0.2222222222222222,\"#7201a8\"],[0.3333333333333333,\"#9c179e\"],[0.4444444444444444,\"#bd3786\"],[0.5555555555555556,\"#d8576b\"],[0.6666666666666666,\"#ed7953\"],[0.7777777777777778,\"#fb9f3a\"],[0.8888888888888888,\"#fdca26\"],[1.0,\"#f0f921\"]],\"type\":\"surface\"}],\"table\":[{\"cells\":{\"fill\":{\"color\":\"#EBF0F8\"},\"line\":{\"color\":\"white\"}},\"header\":{\"fill\":{\"color\":\"#C8D4E3\"},\"line\":{\"color\":\"white\"}},\"type\":\"table\"}]},\"layout\":{\"annotationdefaults\":{\"arrowcolor\":\"#2a3f5f\",\"arrowhead\":0,\"arrowwidth\":1},\"autotypenumbers\":\"strict\",\"coloraxis\":{\"colorbar\":{\"outlinewidth\":0,\"ticks\":\"\"}},\"colorscale\":{\"diverging\":[[0,\"#8e0152\"],[0.1,\"#c51b7d\"],[0.2,\"#de77ae\"],[0.3,\"#f1b6da\"],[0.4,\"#fde0ef\"],[0.5,\"#f7f7f7\"],[0.6,\"#e6f5d0\"],[0.7,\"#b8e186\"],[0.8,\"#7fbc41\"],[0.9,\"#4d9221\"],[1,\"#276419\"]],\"sequential\":[[0.0,\"#0d0887\"],[0.1111111111111111,\"#46039f\"],[0.2222222222222222,\"#7201a8\"],[0.3333333333333333,\"#9c179e\"],[0.4444444444444444,\"#bd3786\"],[0.5555555555555556,\"#d8576b\"],[0.6666666666666666,\"#ed7953\"],[0.7777777777777778,\"#fb9f3a\"],[0.8888888888888888,\"#fdca26\"],[1.0,\"#f0f921\"]],\"sequentialminus\":[[0.0,\"#0d0887\"],[0.1111111111111111,\"#46039f\"],[0.2222222222222222,\"#7201a8\"],[0.3333333333333333,\"#9c179e\"],[0.4444444444444444,\"#bd3786\"],[0.5555555555555556,\"#d8576b\"],[0.6666666666666666,\"#ed7953\"],[0.7777777777777778,\"#fb9f3a\"],[0.8888888888888888,\"#fdca26\"],[1.0,\"#f0f921\"]]},\"colorway\":[\"#636efa\",\"#EF553B\",\"#00cc96\",\"#ab63fa\",\"#FFA15A\",\"#19d3f3\",\"#FF6692\",\"#B6E880\",\"#FF97FF\",\"#FECB52\"],\"font\":{\"color\":\"#2a3f5f\"},\"geo\":{\"bgcolor\":\"white\",\"lakecolor\":\"white\",\"landcolor\":\"white\",\"showlakes\":true,\"showland\":true,\"subunitcolor\":\"#C8D4E3\"},\"hoverlabel\":{\"align\":\"left\"},\"hovermode\":\"closest\",\"mapbox\":{\"style\":\"light\"},\"paper_bgcolor\":\"white\",\"plot_bgcolor\":\"white\",\"polar\":{\"angularaxis\":{\"gridcolor\":\"#EBF0F8\",\"linecolor\":\"#EBF0F8\",\"ticks\":\"\"},\"bgcolor\":\"white\",\"radialaxis\":{\"gridcolor\":\"#EBF0F8\",\"linecolor\":\"#EBF0F8\",\"ticks\":\"\"}},\"scene\":{\"xaxis\":{\"backgroundcolor\":\"white\",\"gridcolor\":\"#DFE8F3\",\"gridwidth\":2,\"linecolor\":\"#EBF0F8\",\"showbackground\":true,\"ticks\":\"\",\"zerolinecolor\":\"#EBF0F8\"},\"yaxis\":{\"backgroundcolor\":\"white\",\"gridcolor\":\"#DFE8F3\",\"gridwidth\":2,\"linecolor\":\"#EBF0F8\",\"showbackground\":true,\"ticks\":\"\",\"zerolinecolor\":\"#EBF0F8\"},\"zaxis\":{\"backgroundcolor\":\"white\",\"gridcolor\":\"#DFE8F3\",\"gridwidth\":2,\"linecolor\":\"#EBF0F8\",\"showbackground\":true,\"ticks\":\"\",\"zerolinecolor\":\"#EBF0F8\"}},\"shapedefaults\":{\"line\":{\"color\":\"#2a3f5f\"}},\"ternary\":{\"aaxis\":{\"gridcolor\":\"#DFE8F3\",\"linecolor\":\"#A2B1C6\",\"ticks\":\"\"},\"baxis\":{\"gridcolor\":\"#DFE8F3\",\"linecolor\":\"#A2B1C6\",\"ticks\":\"\"},\"bgcolor\":\"white\",\"caxis\":{\"gridcolor\":\"#DFE8F3\",\"linecolor\":\"#A2B1C6\",\"ticks\":\"\"}},\"title\":{\"x\":0.05},\"xaxis\":{\"automargin\":true,\"gridcolor\":\"#EBF0F8\",\"linecolor\":\"#EBF0F8\",\"ticks\":\"\",\"title\":{\"standoff\":15},\"zerolinecolor\":\"#EBF0F8\",\"zerolinewidth\":2},\"yaxis\":{\"automargin\":true,\"gridcolor\":\"#EBF0F8\",\"linecolor\":\"#EBF0F8\",\"ticks\":\"\",\"title\":{\"standoff\":15},\"zerolinecolor\":\"#EBF0F8\",\"zerolinewidth\":2}}},\"xaxis\":{\"anchor\":\"y\",\"domain\":[0.0,1.0],\"title\":{\"text\":\"Fecha\"},\"tickangle\":-45},\"yaxis\":{\"anchor\":\"x\",\"domain\":[0.0,1.0],\"title\":{\"text\":\"Valor\"}},\"legend\":{\"title\":{\"text\":\"variable\"},\"tracegroupgap\":0},\"title\":{\"text\":\"Estacionalidad\",\"font\":{\"size\":20,\"family\":\"Arial\",\"color\":\"black\"}},\"showlegend\":false},                        {\"responsive\": true}                    ).then(function(){\n",
              "                            \n",
              "var gd = document.getElementById('b1edf73b-e61e-437b-b6ac-afe225b41022');\n",
              "var x = new MutationObserver(function (mutations, observer) {{\n",
              "        var display = window.getComputedStyle(gd).display;\n",
              "        if (!display || display === 'none') {{\n",
              "            console.log([gd, 'removed!']);\n",
              "            Plotly.purge(gd);\n",
              "            observer.disconnect();\n",
              "        }}\n",
              "}});\n",
              "\n",
              "// Listen for the removal of the full notebook cells\n",
              "var notebookContainer = gd.closest('#notebook-container');\n",
              "if (notebookContainer) {{\n",
              "    x.observe(notebookContainer, {childList: true});\n",
              "}}\n",
              "\n",
              "// Listen for the clearing of the current output cell\n",
              "var outputEl = gd.closest('.output');\n",
              "if (outputEl) {{\n",
              "    x.observe(outputEl, {childList: true});\n",
              "}}\n",
              "\n",
              "                        })                };                            </script>        </div>\n",
              "</body>\n",
              "</html>"
            ]
          },
          "metadata": {}
        }
      ]
    },
    {
      "cell_type": "markdown",
      "source": [
        "## La marca con más ventas"
      ],
      "metadata": {
        "id": "rLy4gh_00lv0"
      }
    },
    {
      "cell_type": "code",
      "source": [
        "# Sabemos por las gráficas que la marca con más ventas es Pepsi Max.\n",
        "\n",
        "pepsi_max = data[(data['SUBBRAND'] == 'Pepsi Max (L3)') & (data['SCENARIO'] == 'actual')]\n",
        "pepsi_max = pepsi_max.groupby(['YEAR', 'MONTH'])['AMOUNT'].sum().reset_index()\n",
        "pepsi_max['YEAR_MONTH'] = pd.to_datetime(pepsi_max[['YEAR', 'MONTH']].assign(DAY=1))\n",
        "\n",
        "fig = px.area(pepsi_max, x=\"YEAR_MONTH\", y=\"AMOUNT\",\n",
        "              labels={'YEAR_MONTH':'','AMOUNT':'Cantidad'},\n",
        "              title='Total de ventas de Pepsi Max con respecto al tiempo',\n",
        "              markers=True,\n",
        "              color_discrete_sequence=px.colors.qualitative.Prism)\n",
        "\n",
        "fig.update_layout(\n",
        "    title_font=dict(size=24, color=\"black\", family=\"Arial\"),\n",
        "    font=dict(size=16, color=\"black\", family=\"Arial\"))\n",
        "\n",
        "fig.update_yaxes(range=[0, 35000000])\n",
        "\n",
        "fig.show()"
      ],
      "metadata": {
        "colab": {
          "base_uri": "https://localhost:8080/",
          "height": 542
        },
        "id": "1WaisW-L0sbe",
        "outputId": "d6c20d54-6f36-40b7-c2d6-a1636d95f093"
      },
      "execution_count": null,
      "outputs": [
        {
          "output_type": "display_data",
          "data": {
            "text/html": [
              "<html>\n",
              "<head><meta charset=\"utf-8\" /></head>\n",
              "<body>\n",
              "    <div>            <script src=\"https://cdnjs.cloudflare.com/ajax/libs/mathjax/2.7.5/MathJax.js?config=TeX-AMS-MML_SVG\"></script><script type=\"text/javascript\">if (window.MathJax && window.MathJax.Hub && window.MathJax.Hub.Config) {window.MathJax.Hub.Config({SVG: {font: \"STIX-Web\"}});}</script>                <script type=\"text/javascript\">window.PlotlyConfig = {MathJaxConfig: 'local'};</script>\n",
              "        <script charset=\"utf-8\" src=\"https://cdn.plot.ly/plotly-2.35.2.min.js\"></script>                <div id=\"7ddcdbf8-ebec-473c-b36c-ebcdc7ece453\" class=\"plotly-graph-div\" style=\"height:525px; width:100%;\"></div>            <script type=\"text/javascript\">                                    window.PLOTLYENV=window.PLOTLYENV || {};                                    if (document.getElementById(\"7ddcdbf8-ebec-473c-b36c-ebcdc7ece453\")) {                    Plotly.newPlot(                        \"7ddcdbf8-ebec-473c-b36c-ebcdc7ece453\",                        [{\"fillpattern\":{\"shape\":\"\"},\"hovertemplate\":\"=%{x}\\u003cbr\\u003eCantidad=%{y}\\u003cextra\\u003e\\u003c\\u002fextra\\u003e\",\"legendgroup\":\"\",\"line\":{\"color\":\"rgb(95, 70, 144)\"},\"marker\":{\"symbol\":\"circle\"},\"mode\":\"lines+markers\",\"name\":\"\",\"orientation\":\"v\",\"showlegend\":false,\"stackgroup\":\"1\",\"x\":[\"2023-01-01T00:00:00\",\"2023-02-01T00:00:00\",\"2023-03-01T00:00:00\",\"2023-04-01T00:00:00\",\"2023-05-01T00:00:00\",\"2023-06-01T00:00:00\",\"2023-07-01T00:00:00\",\"2023-08-01T00:00:00\",\"2023-09-01T00:00:00\",\"2023-10-01T00:00:00\",\"2023-11-01T00:00:00\",\"2023-12-01T00:00:00\",\"2024-01-01T00:00:00\",\"2024-02-01T00:00:00\",\"2024-03-01T00:00:00\",\"2024-04-01T00:00:00\",\"2024-05-01T00:00:00\",\"2024-06-01T00:00:00\",\"2024-07-01T00:00:00\",\"2024-08-01T00:00:00\"],\"xaxis\":\"x\",\"y\":[14856548.128605943,15463315.96725677,20873551.914991353,17934944.15249419,22325446.036569193,21328548.8814003,18368657.109468464,21608180.963240135,19652280.390064318,18626907.831478518,20722021.60754396,21701863.908770297,15624249.97952067,18256940.63911945,21254343.204710368,20238337.23987266,23110133.530175477,21238809.837675165,20779660.905810736,22733928.40504956],\"yaxis\":\"y\",\"type\":\"scatter\"}],                        {\"template\":{\"data\":{\"histogram2dcontour\":[{\"type\":\"histogram2dcontour\",\"colorbar\":{\"outlinewidth\":0,\"ticks\":\"\"},\"colorscale\":[[0.0,\"#0d0887\"],[0.1111111111111111,\"#46039f\"],[0.2222222222222222,\"#7201a8\"],[0.3333333333333333,\"#9c179e\"],[0.4444444444444444,\"#bd3786\"],[0.5555555555555556,\"#d8576b\"],[0.6666666666666666,\"#ed7953\"],[0.7777777777777778,\"#fb9f3a\"],[0.8888888888888888,\"#fdca26\"],[1.0,\"#f0f921\"]]}],\"choropleth\":[{\"type\":\"choropleth\",\"colorbar\":{\"outlinewidth\":0,\"ticks\":\"\"}}],\"histogram2d\":[{\"type\":\"histogram2d\",\"colorbar\":{\"outlinewidth\":0,\"ticks\":\"\"},\"colorscale\":[[0.0,\"#0d0887\"],[0.1111111111111111,\"#46039f\"],[0.2222222222222222,\"#7201a8\"],[0.3333333333333333,\"#9c179e\"],[0.4444444444444444,\"#bd3786\"],[0.5555555555555556,\"#d8576b\"],[0.6666666666666666,\"#ed7953\"],[0.7777777777777778,\"#fb9f3a\"],[0.8888888888888888,\"#fdca26\"],[1.0,\"#f0f921\"]]}],\"heatmap\":[{\"type\":\"heatmap\",\"colorbar\":{\"outlinewidth\":0,\"ticks\":\"\"},\"colorscale\":[[0.0,\"#0d0887\"],[0.1111111111111111,\"#46039f\"],[0.2222222222222222,\"#7201a8\"],[0.3333333333333333,\"#9c179e\"],[0.4444444444444444,\"#bd3786\"],[0.5555555555555556,\"#d8576b\"],[0.6666666666666666,\"#ed7953\"],[0.7777777777777778,\"#fb9f3a\"],[0.8888888888888888,\"#fdca26\"],[1.0,\"#f0f921\"]]}],\"heatmapgl\":[{\"type\":\"heatmapgl\",\"colorbar\":{\"outlinewidth\":0,\"ticks\":\"\"},\"colorscale\":[[0.0,\"#0d0887\"],[0.1111111111111111,\"#46039f\"],[0.2222222222222222,\"#7201a8\"],[0.3333333333333333,\"#9c179e\"],[0.4444444444444444,\"#bd3786\"],[0.5555555555555556,\"#d8576b\"],[0.6666666666666666,\"#ed7953\"],[0.7777777777777778,\"#fb9f3a\"],[0.8888888888888888,\"#fdca26\"],[1.0,\"#f0f921\"]]}],\"contourcarpet\":[{\"type\":\"contourcarpet\",\"colorbar\":{\"outlinewidth\":0,\"ticks\":\"\"}}],\"contour\":[{\"type\":\"contour\",\"colorbar\":{\"outlinewidth\":0,\"ticks\":\"\"},\"colorscale\":[[0.0,\"#0d0887\"],[0.1111111111111111,\"#46039f\"],[0.2222222222222222,\"#7201a8\"],[0.3333333333333333,\"#9c179e\"],[0.4444444444444444,\"#bd3786\"],[0.5555555555555556,\"#d8576b\"],[0.6666666666666666,\"#ed7953\"],[0.7777777777777778,\"#fb9f3a\"],[0.8888888888888888,\"#fdca26\"],[1.0,\"#f0f921\"]]}],\"surface\":[{\"type\":\"surface\",\"colorbar\":{\"outlinewidth\":0,\"ticks\":\"\"},\"colorscale\":[[0.0,\"#0d0887\"],[0.1111111111111111,\"#46039f\"],[0.2222222222222222,\"#7201a8\"],[0.3333333333333333,\"#9c179e\"],[0.4444444444444444,\"#bd3786\"],[0.5555555555555556,\"#d8576b\"],[0.6666666666666666,\"#ed7953\"],[0.7777777777777778,\"#fb9f3a\"],[0.8888888888888888,\"#fdca26\"],[1.0,\"#f0f921\"]]}],\"mesh3d\":[{\"type\":\"mesh3d\",\"colorbar\":{\"outlinewidth\":0,\"ticks\":\"\"}}],\"scatter\":[{\"fillpattern\":{\"fillmode\":\"overlay\",\"size\":10,\"solidity\":0.2},\"type\":\"scatter\"}],\"parcoords\":[{\"type\":\"parcoords\",\"line\":{\"colorbar\":{\"outlinewidth\":0,\"ticks\":\"\"}}}],\"scatterpolargl\":[{\"type\":\"scatterpolargl\",\"marker\":{\"colorbar\":{\"outlinewidth\":0,\"ticks\":\"\"}}}],\"bar\":[{\"error_x\":{\"color\":\"#2a3f5f\"},\"error_y\":{\"color\":\"#2a3f5f\"},\"marker\":{\"line\":{\"color\":\"#E5ECF6\",\"width\":0.5},\"pattern\":{\"fillmode\":\"overlay\",\"size\":10,\"solidity\":0.2}},\"type\":\"bar\"}],\"scattergeo\":[{\"type\":\"scattergeo\",\"marker\":{\"colorbar\":{\"outlinewidth\":0,\"ticks\":\"\"}}}],\"scatterpolar\":[{\"type\":\"scatterpolar\",\"marker\":{\"colorbar\":{\"outlinewidth\":0,\"ticks\":\"\"}}}],\"histogram\":[{\"marker\":{\"pattern\":{\"fillmode\":\"overlay\",\"size\":10,\"solidity\":0.2}},\"type\":\"histogram\"}],\"scattergl\":[{\"type\":\"scattergl\",\"marker\":{\"colorbar\":{\"outlinewidth\":0,\"ticks\":\"\"}}}],\"scatter3d\":[{\"type\":\"scatter3d\",\"line\":{\"colorbar\":{\"outlinewidth\":0,\"ticks\":\"\"}},\"marker\":{\"colorbar\":{\"outlinewidth\":0,\"ticks\":\"\"}}}],\"scattermapbox\":[{\"type\":\"scattermapbox\",\"marker\":{\"colorbar\":{\"outlinewidth\":0,\"ticks\":\"\"}}}],\"scatterternary\":[{\"type\":\"scatterternary\",\"marker\":{\"colorbar\":{\"outlinewidth\":0,\"ticks\":\"\"}}}],\"scattercarpet\":[{\"type\":\"scattercarpet\",\"marker\":{\"colorbar\":{\"outlinewidth\":0,\"ticks\":\"\"}}}],\"carpet\":[{\"aaxis\":{\"endlinecolor\":\"#2a3f5f\",\"gridcolor\":\"white\",\"linecolor\":\"white\",\"minorgridcolor\":\"white\",\"startlinecolor\":\"#2a3f5f\"},\"baxis\":{\"endlinecolor\":\"#2a3f5f\",\"gridcolor\":\"white\",\"linecolor\":\"white\",\"minorgridcolor\":\"white\",\"startlinecolor\":\"#2a3f5f\"},\"type\":\"carpet\"}],\"table\":[{\"cells\":{\"fill\":{\"color\":\"#EBF0F8\"},\"line\":{\"color\":\"white\"}},\"header\":{\"fill\":{\"color\":\"#C8D4E3\"},\"line\":{\"color\":\"white\"}},\"type\":\"table\"}],\"barpolar\":[{\"marker\":{\"line\":{\"color\":\"#E5ECF6\",\"width\":0.5},\"pattern\":{\"fillmode\":\"overlay\",\"size\":10,\"solidity\":0.2}},\"type\":\"barpolar\"}],\"pie\":[{\"automargin\":true,\"type\":\"pie\"}]},\"layout\":{\"autotypenumbers\":\"strict\",\"colorway\":[\"#636efa\",\"#EF553B\",\"#00cc96\",\"#ab63fa\",\"#FFA15A\",\"#19d3f3\",\"#FF6692\",\"#B6E880\",\"#FF97FF\",\"#FECB52\"],\"font\":{\"color\":\"#2a3f5f\"},\"hovermode\":\"closest\",\"hoverlabel\":{\"align\":\"left\"},\"paper_bgcolor\":\"white\",\"plot_bgcolor\":\"#E5ECF6\",\"polar\":{\"bgcolor\":\"#E5ECF6\",\"angularaxis\":{\"gridcolor\":\"white\",\"linecolor\":\"white\",\"ticks\":\"\"},\"radialaxis\":{\"gridcolor\":\"white\",\"linecolor\":\"white\",\"ticks\":\"\"}},\"ternary\":{\"bgcolor\":\"#E5ECF6\",\"aaxis\":{\"gridcolor\":\"white\",\"linecolor\":\"white\",\"ticks\":\"\"},\"baxis\":{\"gridcolor\":\"white\",\"linecolor\":\"white\",\"ticks\":\"\"},\"caxis\":{\"gridcolor\":\"white\",\"linecolor\":\"white\",\"ticks\":\"\"}},\"coloraxis\":{\"colorbar\":{\"outlinewidth\":0,\"ticks\":\"\"}},\"colorscale\":{\"sequential\":[[0.0,\"#0d0887\"],[0.1111111111111111,\"#46039f\"],[0.2222222222222222,\"#7201a8\"],[0.3333333333333333,\"#9c179e\"],[0.4444444444444444,\"#bd3786\"],[0.5555555555555556,\"#d8576b\"],[0.6666666666666666,\"#ed7953\"],[0.7777777777777778,\"#fb9f3a\"],[0.8888888888888888,\"#fdca26\"],[1.0,\"#f0f921\"]],\"sequentialminus\":[[0.0,\"#0d0887\"],[0.1111111111111111,\"#46039f\"],[0.2222222222222222,\"#7201a8\"],[0.3333333333333333,\"#9c179e\"],[0.4444444444444444,\"#bd3786\"],[0.5555555555555556,\"#d8576b\"],[0.6666666666666666,\"#ed7953\"],[0.7777777777777778,\"#fb9f3a\"],[0.8888888888888888,\"#fdca26\"],[1.0,\"#f0f921\"]],\"diverging\":[[0,\"#8e0152\"],[0.1,\"#c51b7d\"],[0.2,\"#de77ae\"],[0.3,\"#f1b6da\"],[0.4,\"#fde0ef\"],[0.5,\"#f7f7f7\"],[0.6,\"#e6f5d0\"],[0.7,\"#b8e186\"],[0.8,\"#7fbc41\"],[0.9,\"#4d9221\"],[1,\"#276419\"]]},\"xaxis\":{\"gridcolor\":\"white\",\"linecolor\":\"white\",\"ticks\":\"\",\"title\":{\"standoff\":15},\"zerolinecolor\":\"white\",\"automargin\":true,\"zerolinewidth\":2},\"yaxis\":{\"gridcolor\":\"white\",\"linecolor\":\"white\",\"ticks\":\"\",\"title\":{\"standoff\":15},\"zerolinecolor\":\"white\",\"automargin\":true,\"zerolinewidth\":2},\"scene\":{\"xaxis\":{\"backgroundcolor\":\"#E5ECF6\",\"gridcolor\":\"white\",\"linecolor\":\"white\",\"showbackground\":true,\"ticks\":\"\",\"zerolinecolor\":\"white\",\"gridwidth\":2},\"yaxis\":{\"backgroundcolor\":\"#E5ECF6\",\"gridcolor\":\"white\",\"linecolor\":\"white\",\"showbackground\":true,\"ticks\":\"\",\"zerolinecolor\":\"white\",\"gridwidth\":2},\"zaxis\":{\"backgroundcolor\":\"#E5ECF6\",\"gridcolor\":\"white\",\"linecolor\":\"white\",\"showbackground\":true,\"ticks\":\"\",\"zerolinecolor\":\"white\",\"gridwidth\":2}},\"shapedefaults\":{\"line\":{\"color\":\"#2a3f5f\"}},\"annotationdefaults\":{\"arrowcolor\":\"#2a3f5f\",\"arrowhead\":0,\"arrowwidth\":1},\"geo\":{\"bgcolor\":\"white\",\"landcolor\":\"#E5ECF6\",\"subunitcolor\":\"white\",\"showland\":true,\"showlakes\":true,\"lakecolor\":\"white\"},\"title\":{\"x\":0.05},\"mapbox\":{\"style\":\"light\"}}},\"xaxis\":{\"anchor\":\"y\",\"domain\":[0.0,1.0],\"title\":{\"text\":\"\"}},\"yaxis\":{\"anchor\":\"x\",\"domain\":[0.0,1.0],\"title\":{\"text\":\"Cantidad\"},\"range\":[0,35000000]},\"legend\":{\"tracegroupgap\":0},\"title\":{\"text\":\"Total de ventas de Pepsi Max con respecto al tiempo\",\"font\":{\"size\":24,\"color\":\"black\",\"family\":\"Arial\"}},\"font\":{\"size\":16,\"color\":\"black\",\"family\":\"Arial\"}},                        {\"responsive\": true}                    ).then(function(){\n",
              "                            \n",
              "var gd = document.getElementById('7ddcdbf8-ebec-473c-b36c-ebcdc7ece453');\n",
              "var x = new MutationObserver(function (mutations, observer) {{\n",
              "        var display = window.getComputedStyle(gd).display;\n",
              "        if (!display || display === 'none') {{\n",
              "            console.log([gd, 'removed!']);\n",
              "            Plotly.purge(gd);\n",
              "            observer.disconnect();\n",
              "        }}\n",
              "}});\n",
              "\n",
              "// Listen for the removal of the full notebook cells\n",
              "var notebookContainer = gd.closest('#notebook-container');\n",
              "if (notebookContainer) {{\n",
              "    x.observe(notebookContainer, {childList: true});\n",
              "}}\n",
              "\n",
              "// Listen for the clearing of the current output cell\n",
              "var outputEl = gd.closest('.output');\n",
              "if (outputEl) {{\n",
              "    x.observe(outputEl, {childList: true});\n",
              "}}\n",
              "\n",
              "                        })                };                            </script>        </div>\n",
              "</body>\n",
              "</html>"
            ]
          },
          "metadata": {}
        }
      ]
    },
    {
      "cell_type": "code",
      "source": [
        "# Para estudiar la estacionalidad y la tendencia se necesitan como mínimo\n",
        "# dos ciclos anuales completos, 24 observaciones, ya que son datos mensuales.\n",
        "# Lo que se va a hacer es acoplar datos de dos meses antes de los datos que se\n",
        "# tienen y otros dos meses depués, para sumar un total de 4 meses más a las\n",
        "# observaciones. Si los datos empiezan en enero se acoplaran datos de los dos\n",
        "# mese anteriores a enero, diciembre y noviembre. Si los datos acaban en julio,\n",
        "# se cogen datos de agosto y septiembre. Los datos se extraerán de los meses\n",
        "# determinados que ya tenemos y que sean los más cercanos.\n",
        "\n",
        "# Datos antes\n",
        "datos_antes = pepsi_max[(pepsi_max['YEAR_MONTH'] == '2023-12-01') | (pepsi_max['YEAR_MONTH'] == '2023-11-01')]\n",
        "datos_antes['YEAR'] = datos_antes['YEAR']-1\n",
        "datos_antes['YEAR_MONTH'] = pd.to_datetime(datos_antes[['YEAR', 'MONTH']].assign(DAY=1))\n",
        "# Datos después\n",
        "datos_despues = pepsi_max[(pepsi_max['YEAR_MONTH'] == '2023-09-01') | (pepsi_max['YEAR_MONTH'] == '2023-10-01')]\n",
        "datos_despues['YEAR'] = datos_despues['YEAR']+1\n",
        "datos_despues['YEAR_MONTH'] = pd.to_datetime(datos_despues[['YEAR', 'MONTH']].assign(DAY=1))\n",
        "\n",
        "# Concatenamos\n",
        "pepsi_max = pd.concat([datos_antes, pepsi_max,datos_despues])"
      ],
      "metadata": {
        "colab": {
          "base_uri": "https://localhost:8080/"
        },
        "id": "QxVE8wj6QHJQ",
        "outputId": "7c680b7c-1b49-462d-b936-3610312e22b4"
      },
      "execution_count": null,
      "outputs": [
        {
          "output_type": "stream",
          "name": "stderr",
          "text": [
            "<ipython-input-144-a79c1f5c27f9>:12: SettingWithCopyWarning:\n",
            "\n",
            "\n",
            "A value is trying to be set on a copy of a slice from a DataFrame.\n",
            "Try using .loc[row_indexer,col_indexer] = value instead\n",
            "\n",
            "See the caveats in the documentation: https://pandas.pydata.org/pandas-docs/stable/user_guide/indexing.html#returning-a-view-versus-a-copy\n",
            "\n",
            "<ipython-input-144-a79c1f5c27f9>:13: SettingWithCopyWarning:\n",
            "\n",
            "\n",
            "A value is trying to be set on a copy of a slice from a DataFrame.\n",
            "Try using .loc[row_indexer,col_indexer] = value instead\n",
            "\n",
            "See the caveats in the documentation: https://pandas.pydata.org/pandas-docs/stable/user_guide/indexing.html#returning-a-view-versus-a-copy\n",
            "\n",
            "<ipython-input-144-a79c1f5c27f9>:16: SettingWithCopyWarning:\n",
            "\n",
            "\n",
            "A value is trying to be set on a copy of a slice from a DataFrame.\n",
            "Try using .loc[row_indexer,col_indexer] = value instead\n",
            "\n",
            "See the caveats in the documentation: https://pandas.pydata.org/pandas-docs/stable/user_guide/indexing.html#returning-a-view-versus-a-copy\n",
            "\n",
            "<ipython-input-144-a79c1f5c27f9>:17: SettingWithCopyWarning:\n",
            "\n",
            "\n",
            "A value is trying to be set on a copy of a slice from a DataFrame.\n",
            "Try using .loc[row_indexer,col_indexer] = value instead\n",
            "\n",
            "See the caveats in the documentation: https://pandas.pydata.org/pandas-docs/stable/user_guide/indexing.html#returning-a-view-versus-a-copy\n",
            "\n"
          ]
        }
      ]
    },
    {
      "cell_type": "code",
      "source": [
        "fig = px.area(pepsi_max, x=\"YEAR_MONTH\", y=\"AMOUNT\",\n",
        "              labels={'YEAR_MONTH':'','AMOUNT':'Cantidad'},\n",
        "              title='Total de ventas de Pepsi Max con respecto al tiempo',\n",
        "              markers=True,\n",
        "              color_discrete_sequence=px.colors.qualitative.Prism)\n",
        "\n",
        "fig.update_layout(\n",
        "    title_font=dict(size=24, color=\"black\", family=\"Arial\"),\n",
        "    font=dict(size=16, color=\"black\", family=\"Arial\"))\n",
        "\n",
        "fig.update_yaxes(range=[0, 35000000])\n",
        "\n",
        "fig.show()"
      ],
      "metadata": {
        "colab": {
          "base_uri": "https://localhost:8080/",
          "height": 542
        },
        "id": "cpl-zvIeRiXA",
        "outputId": "93140296-8a22-495a-9ffb-f805be5c1c2c"
      },
      "execution_count": null,
      "outputs": [
        {
          "output_type": "display_data",
          "data": {
            "text/html": [
              "<html>\n",
              "<head><meta charset=\"utf-8\" /></head>\n",
              "<body>\n",
              "    <div>            <script src=\"https://cdnjs.cloudflare.com/ajax/libs/mathjax/2.7.5/MathJax.js?config=TeX-AMS-MML_SVG\"></script><script type=\"text/javascript\">if (window.MathJax && window.MathJax.Hub && window.MathJax.Hub.Config) {window.MathJax.Hub.Config({SVG: {font: \"STIX-Web\"}});}</script>                <script type=\"text/javascript\">window.PlotlyConfig = {MathJaxConfig: 'local'};</script>\n",
              "        <script charset=\"utf-8\" src=\"https://cdn.plot.ly/plotly-2.35.2.min.js\"></script>                <div id=\"bb876e8f-e13e-4d15-a04a-c31ae8bde6c7\" class=\"plotly-graph-div\" style=\"height:525px; width:100%;\"></div>            <script type=\"text/javascript\">                                    window.PLOTLYENV=window.PLOTLYENV || {};                                    if (document.getElementById(\"bb876e8f-e13e-4d15-a04a-c31ae8bde6c7\")) {                    Plotly.newPlot(                        \"bb876e8f-e13e-4d15-a04a-c31ae8bde6c7\",                        [{\"fillpattern\":{\"shape\":\"\"},\"hovertemplate\":\"=%{x}\\u003cbr\\u003eCantidad=%{y}\\u003cextra\\u003e\\u003c\\u002fextra\\u003e\",\"legendgroup\":\"\",\"line\":{\"color\":\"rgb(95, 70, 144)\"},\"marker\":{\"symbol\":\"circle\"},\"mode\":\"lines+markers\",\"name\":\"\",\"orientation\":\"v\",\"showlegend\":false,\"stackgroup\":\"1\",\"x\":[\"2022-11-01T00:00:00\",\"2022-12-01T00:00:00\",\"2023-01-01T00:00:00\",\"2023-02-01T00:00:00\",\"2023-03-01T00:00:00\",\"2023-04-01T00:00:00\",\"2023-05-01T00:00:00\",\"2023-06-01T00:00:00\",\"2023-07-01T00:00:00\",\"2023-08-01T00:00:00\",\"2023-09-01T00:00:00\",\"2023-10-01T00:00:00\",\"2023-11-01T00:00:00\",\"2023-12-01T00:00:00\",\"2024-01-01T00:00:00\",\"2024-02-01T00:00:00\",\"2024-03-01T00:00:00\",\"2024-04-01T00:00:00\",\"2024-05-01T00:00:00\",\"2024-06-01T00:00:00\",\"2024-07-01T00:00:00\",\"2024-08-01T00:00:00\",\"2024-09-01T00:00:00\",\"2024-10-01T00:00:00\"],\"xaxis\":\"x\",\"y\":[20722021.60754396,21701863.908770297,14856548.128605943,15463315.96725677,20873551.914991353,17934944.15249419,22325446.036569193,21328548.8814003,18368657.109468464,21608180.963240135,19652280.390064318,18626907.831478518,20722021.60754396,21701863.908770297,15624249.97952067,18256940.63911945,21254343.204710368,20238337.23987266,23110133.530175477,21238809.837675165,20779660.905810736,22733928.40504956,19652280.390064318,18626907.831478518],\"yaxis\":\"y\",\"type\":\"scatter\"}],                        {\"template\":{\"data\":{\"histogram2dcontour\":[{\"type\":\"histogram2dcontour\",\"colorbar\":{\"outlinewidth\":0,\"ticks\":\"\"},\"colorscale\":[[0.0,\"#0d0887\"],[0.1111111111111111,\"#46039f\"],[0.2222222222222222,\"#7201a8\"],[0.3333333333333333,\"#9c179e\"],[0.4444444444444444,\"#bd3786\"],[0.5555555555555556,\"#d8576b\"],[0.6666666666666666,\"#ed7953\"],[0.7777777777777778,\"#fb9f3a\"],[0.8888888888888888,\"#fdca26\"],[1.0,\"#f0f921\"]]}],\"choropleth\":[{\"type\":\"choropleth\",\"colorbar\":{\"outlinewidth\":0,\"ticks\":\"\"}}],\"histogram2d\":[{\"type\":\"histogram2d\",\"colorbar\":{\"outlinewidth\":0,\"ticks\":\"\"},\"colorscale\":[[0.0,\"#0d0887\"],[0.1111111111111111,\"#46039f\"],[0.2222222222222222,\"#7201a8\"],[0.3333333333333333,\"#9c179e\"],[0.4444444444444444,\"#bd3786\"],[0.5555555555555556,\"#d8576b\"],[0.6666666666666666,\"#ed7953\"],[0.7777777777777778,\"#fb9f3a\"],[0.8888888888888888,\"#fdca26\"],[1.0,\"#f0f921\"]]}],\"heatmap\":[{\"type\":\"heatmap\",\"colorbar\":{\"outlinewidth\":0,\"ticks\":\"\"},\"colorscale\":[[0.0,\"#0d0887\"],[0.1111111111111111,\"#46039f\"],[0.2222222222222222,\"#7201a8\"],[0.3333333333333333,\"#9c179e\"],[0.4444444444444444,\"#bd3786\"],[0.5555555555555556,\"#d8576b\"],[0.6666666666666666,\"#ed7953\"],[0.7777777777777778,\"#fb9f3a\"],[0.8888888888888888,\"#fdca26\"],[1.0,\"#f0f921\"]]}],\"heatmapgl\":[{\"type\":\"heatmapgl\",\"colorbar\":{\"outlinewidth\":0,\"ticks\":\"\"},\"colorscale\":[[0.0,\"#0d0887\"],[0.1111111111111111,\"#46039f\"],[0.2222222222222222,\"#7201a8\"],[0.3333333333333333,\"#9c179e\"],[0.4444444444444444,\"#bd3786\"],[0.5555555555555556,\"#d8576b\"],[0.6666666666666666,\"#ed7953\"],[0.7777777777777778,\"#fb9f3a\"],[0.8888888888888888,\"#fdca26\"],[1.0,\"#f0f921\"]]}],\"contourcarpet\":[{\"type\":\"contourcarpet\",\"colorbar\":{\"outlinewidth\":0,\"ticks\":\"\"}}],\"contour\":[{\"type\":\"contour\",\"colorbar\":{\"outlinewidth\":0,\"ticks\":\"\"},\"colorscale\":[[0.0,\"#0d0887\"],[0.1111111111111111,\"#46039f\"],[0.2222222222222222,\"#7201a8\"],[0.3333333333333333,\"#9c179e\"],[0.4444444444444444,\"#bd3786\"],[0.5555555555555556,\"#d8576b\"],[0.6666666666666666,\"#ed7953\"],[0.7777777777777778,\"#fb9f3a\"],[0.8888888888888888,\"#fdca26\"],[1.0,\"#f0f921\"]]}],\"surface\":[{\"type\":\"surface\",\"colorbar\":{\"outlinewidth\":0,\"ticks\":\"\"},\"colorscale\":[[0.0,\"#0d0887\"],[0.1111111111111111,\"#46039f\"],[0.2222222222222222,\"#7201a8\"],[0.3333333333333333,\"#9c179e\"],[0.4444444444444444,\"#bd3786\"],[0.5555555555555556,\"#d8576b\"],[0.6666666666666666,\"#ed7953\"],[0.7777777777777778,\"#fb9f3a\"],[0.8888888888888888,\"#fdca26\"],[1.0,\"#f0f921\"]]}],\"mesh3d\":[{\"type\":\"mesh3d\",\"colorbar\":{\"outlinewidth\":0,\"ticks\":\"\"}}],\"scatter\":[{\"fillpattern\":{\"fillmode\":\"overlay\",\"size\":10,\"solidity\":0.2},\"type\":\"scatter\"}],\"parcoords\":[{\"type\":\"parcoords\",\"line\":{\"colorbar\":{\"outlinewidth\":0,\"ticks\":\"\"}}}],\"scatterpolargl\":[{\"type\":\"scatterpolargl\",\"marker\":{\"colorbar\":{\"outlinewidth\":0,\"ticks\":\"\"}}}],\"bar\":[{\"error_x\":{\"color\":\"#2a3f5f\"},\"error_y\":{\"color\":\"#2a3f5f\"},\"marker\":{\"line\":{\"color\":\"#E5ECF6\",\"width\":0.5},\"pattern\":{\"fillmode\":\"overlay\",\"size\":10,\"solidity\":0.2}},\"type\":\"bar\"}],\"scattergeo\":[{\"type\":\"scattergeo\",\"marker\":{\"colorbar\":{\"outlinewidth\":0,\"ticks\":\"\"}}}],\"scatterpolar\":[{\"type\":\"scatterpolar\",\"marker\":{\"colorbar\":{\"outlinewidth\":0,\"ticks\":\"\"}}}],\"histogram\":[{\"marker\":{\"pattern\":{\"fillmode\":\"overlay\",\"size\":10,\"solidity\":0.2}},\"type\":\"histogram\"}],\"scattergl\":[{\"type\":\"scattergl\",\"marker\":{\"colorbar\":{\"outlinewidth\":0,\"ticks\":\"\"}}}],\"scatter3d\":[{\"type\":\"scatter3d\",\"line\":{\"colorbar\":{\"outlinewidth\":0,\"ticks\":\"\"}},\"marker\":{\"colorbar\":{\"outlinewidth\":0,\"ticks\":\"\"}}}],\"scattermapbox\":[{\"type\":\"scattermapbox\",\"marker\":{\"colorbar\":{\"outlinewidth\":0,\"ticks\":\"\"}}}],\"scatterternary\":[{\"type\":\"scatterternary\",\"marker\":{\"colorbar\":{\"outlinewidth\":0,\"ticks\":\"\"}}}],\"scattercarpet\":[{\"type\":\"scattercarpet\",\"marker\":{\"colorbar\":{\"outlinewidth\":0,\"ticks\":\"\"}}}],\"carpet\":[{\"aaxis\":{\"endlinecolor\":\"#2a3f5f\",\"gridcolor\":\"white\",\"linecolor\":\"white\",\"minorgridcolor\":\"white\",\"startlinecolor\":\"#2a3f5f\"},\"baxis\":{\"endlinecolor\":\"#2a3f5f\",\"gridcolor\":\"white\",\"linecolor\":\"white\",\"minorgridcolor\":\"white\",\"startlinecolor\":\"#2a3f5f\"},\"type\":\"carpet\"}],\"table\":[{\"cells\":{\"fill\":{\"color\":\"#EBF0F8\"},\"line\":{\"color\":\"white\"}},\"header\":{\"fill\":{\"color\":\"#C8D4E3\"},\"line\":{\"color\":\"white\"}},\"type\":\"table\"}],\"barpolar\":[{\"marker\":{\"line\":{\"color\":\"#E5ECF6\",\"width\":0.5},\"pattern\":{\"fillmode\":\"overlay\",\"size\":10,\"solidity\":0.2}},\"type\":\"barpolar\"}],\"pie\":[{\"automargin\":true,\"type\":\"pie\"}]},\"layout\":{\"autotypenumbers\":\"strict\",\"colorway\":[\"#636efa\",\"#EF553B\",\"#00cc96\",\"#ab63fa\",\"#FFA15A\",\"#19d3f3\",\"#FF6692\",\"#B6E880\",\"#FF97FF\",\"#FECB52\"],\"font\":{\"color\":\"#2a3f5f\"},\"hovermode\":\"closest\",\"hoverlabel\":{\"align\":\"left\"},\"paper_bgcolor\":\"white\",\"plot_bgcolor\":\"#E5ECF6\",\"polar\":{\"bgcolor\":\"#E5ECF6\",\"angularaxis\":{\"gridcolor\":\"white\",\"linecolor\":\"white\",\"ticks\":\"\"},\"radialaxis\":{\"gridcolor\":\"white\",\"linecolor\":\"white\",\"ticks\":\"\"}},\"ternary\":{\"bgcolor\":\"#E5ECF6\",\"aaxis\":{\"gridcolor\":\"white\",\"linecolor\":\"white\",\"ticks\":\"\"},\"baxis\":{\"gridcolor\":\"white\",\"linecolor\":\"white\",\"ticks\":\"\"},\"caxis\":{\"gridcolor\":\"white\",\"linecolor\":\"white\",\"ticks\":\"\"}},\"coloraxis\":{\"colorbar\":{\"outlinewidth\":0,\"ticks\":\"\"}},\"colorscale\":{\"sequential\":[[0.0,\"#0d0887\"],[0.1111111111111111,\"#46039f\"],[0.2222222222222222,\"#7201a8\"],[0.3333333333333333,\"#9c179e\"],[0.4444444444444444,\"#bd3786\"],[0.5555555555555556,\"#d8576b\"],[0.6666666666666666,\"#ed7953\"],[0.7777777777777778,\"#fb9f3a\"],[0.8888888888888888,\"#fdca26\"],[1.0,\"#f0f921\"]],\"sequentialminus\":[[0.0,\"#0d0887\"],[0.1111111111111111,\"#46039f\"],[0.2222222222222222,\"#7201a8\"],[0.3333333333333333,\"#9c179e\"],[0.4444444444444444,\"#bd3786\"],[0.5555555555555556,\"#d8576b\"],[0.6666666666666666,\"#ed7953\"],[0.7777777777777778,\"#fb9f3a\"],[0.8888888888888888,\"#fdca26\"],[1.0,\"#f0f921\"]],\"diverging\":[[0,\"#8e0152\"],[0.1,\"#c51b7d\"],[0.2,\"#de77ae\"],[0.3,\"#f1b6da\"],[0.4,\"#fde0ef\"],[0.5,\"#f7f7f7\"],[0.6,\"#e6f5d0\"],[0.7,\"#b8e186\"],[0.8,\"#7fbc41\"],[0.9,\"#4d9221\"],[1,\"#276419\"]]},\"xaxis\":{\"gridcolor\":\"white\",\"linecolor\":\"white\",\"ticks\":\"\",\"title\":{\"standoff\":15},\"zerolinecolor\":\"white\",\"automargin\":true,\"zerolinewidth\":2},\"yaxis\":{\"gridcolor\":\"white\",\"linecolor\":\"white\",\"ticks\":\"\",\"title\":{\"standoff\":15},\"zerolinecolor\":\"white\",\"automargin\":true,\"zerolinewidth\":2},\"scene\":{\"xaxis\":{\"backgroundcolor\":\"#E5ECF6\",\"gridcolor\":\"white\",\"linecolor\":\"white\",\"showbackground\":true,\"ticks\":\"\",\"zerolinecolor\":\"white\",\"gridwidth\":2},\"yaxis\":{\"backgroundcolor\":\"#E5ECF6\",\"gridcolor\":\"white\",\"linecolor\":\"white\",\"showbackground\":true,\"ticks\":\"\",\"zerolinecolor\":\"white\",\"gridwidth\":2},\"zaxis\":{\"backgroundcolor\":\"#E5ECF6\",\"gridcolor\":\"white\",\"linecolor\":\"white\",\"showbackground\":true,\"ticks\":\"\",\"zerolinecolor\":\"white\",\"gridwidth\":2}},\"shapedefaults\":{\"line\":{\"color\":\"#2a3f5f\"}},\"annotationdefaults\":{\"arrowcolor\":\"#2a3f5f\",\"arrowhead\":0,\"arrowwidth\":1},\"geo\":{\"bgcolor\":\"white\",\"landcolor\":\"#E5ECF6\",\"subunitcolor\":\"white\",\"showland\":true,\"showlakes\":true,\"lakecolor\":\"white\"},\"title\":{\"x\":0.05},\"mapbox\":{\"style\":\"light\"}}},\"xaxis\":{\"anchor\":\"y\",\"domain\":[0.0,1.0],\"title\":{\"text\":\"\"}},\"yaxis\":{\"anchor\":\"x\",\"domain\":[0.0,1.0],\"title\":{\"text\":\"Cantidad\"},\"range\":[0,35000000]},\"legend\":{\"tracegroupgap\":0},\"title\":{\"text\":\"Total de ventas de Pepsi Max con respecto al tiempo\",\"font\":{\"size\":24,\"color\":\"black\",\"family\":\"Arial\"}},\"font\":{\"size\":16,\"color\":\"black\",\"family\":\"Arial\"}},                        {\"responsive\": true}                    ).then(function(){\n",
              "                            \n",
              "var gd = document.getElementById('bb876e8f-e13e-4d15-a04a-c31ae8bde6c7');\n",
              "var x = new MutationObserver(function (mutations, observer) {{\n",
              "        var display = window.getComputedStyle(gd).display;\n",
              "        if (!display || display === 'none') {{\n",
              "            console.log([gd, 'removed!']);\n",
              "            Plotly.purge(gd);\n",
              "            observer.disconnect();\n",
              "        }}\n",
              "}});\n",
              "\n",
              "// Listen for the removal of the full notebook cells\n",
              "var notebookContainer = gd.closest('#notebook-container');\n",
              "if (notebookContainer) {{\n",
              "    x.observe(notebookContainer, {childList: true});\n",
              "}}\n",
              "\n",
              "// Listen for the clearing of the current output cell\n",
              "var outputEl = gd.closest('.output');\n",
              "if (outputEl) {{\n",
              "    x.observe(outputEl, {childList: true});\n",
              "}}\n",
              "\n",
              "                        })                };                            </script>        </div>\n",
              "</body>\n",
              "</html>"
            ]
          },
          "metadata": {}
        }
      ]
    },
    {
      "cell_type": "code",
      "source": [
        "pepsi_max = pepsi_max.set_index('YEAR_MONTH')"
      ],
      "metadata": {
        "id": "uEAVXlMR129X"
      },
      "execution_count": null,
      "outputs": []
    },
    {
      "cell_type": "code",
      "source": [
        "result = seasonal_decompose(pepsi_max['AMOUNT'], model='additive', period = 12)\n",
        "\n",
        "fig = px.line(result.trend, title='Tendencia')\n",
        "\n",
        "fig.update_layout(\n",
        "    title_font=dict(size=20, family=\"Arial\", color=\"black\"),\n",
        "    xaxis_title=\"Fecha\",\n",
        "    yaxis_title=\"Valor\",\n",
        "    template=\"plotly_white\",  # Fondo blanco\n",
        "    showlegend=False,  # Ocultar leyenda si no es necesaria\n",
        "    xaxis=dict(tickangle=-45),  # Rotar etiquetas del eje x si es necesario\n",
        ")\n",
        "\n",
        "fig.update_traces(\n",
        "    line=dict(color=\"#FF66B3\", width=3),\n",
        "    mode='lines+markers',\n",
        "    marker=dict(size=8, symbol='circle', color=\"#FF66B3\")\n",
        ")\n",
        "\n",
        "fig.show()"
      ],
      "metadata": {
        "colab": {
          "base_uri": "https://localhost:8080/",
          "height": 542
        },
        "id": "SvovcQ8x2Xqo",
        "outputId": "c5dd0487-ef1a-4a68-d871-1f814d231725"
      },
      "execution_count": null,
      "outputs": [
        {
          "output_type": "display_data",
          "data": {
            "text/html": [
              "<html>\n",
              "<head><meta charset=\"utf-8\" /></head>\n",
              "<body>\n",
              "    <div>            <script src=\"https://cdnjs.cloudflare.com/ajax/libs/mathjax/2.7.5/MathJax.js?config=TeX-AMS-MML_SVG\"></script><script type=\"text/javascript\">if (window.MathJax && window.MathJax.Hub && window.MathJax.Hub.Config) {window.MathJax.Hub.Config({SVG: {font: \"STIX-Web\"}});}</script>                <script type=\"text/javascript\">window.PlotlyConfig = {MathJaxConfig: 'local'};</script>\n",
              "        <script charset=\"utf-8\" src=\"https://cdn.plot.ly/plotly-2.35.2.min.js\"></script>                <div id=\"11353e54-6f1e-464f-9d93-3e778e28e682\" class=\"plotly-graph-div\" style=\"height:525px; width:100%;\"></div>            <script type=\"text/javascript\">                                    window.PLOTLYENV=window.PLOTLYENV || {};                                    if (document.getElementById(\"11353e54-6f1e-464f-9d93-3e778e28e682\")) {                    Plotly.newPlot(                        \"11353e54-6f1e-464f-9d93-3e778e28e682\",                        [{\"hovertemplate\":\"variable=trend\\u003cbr\\u003eYEAR_MONTH=%{x}\\u003cbr\\u003evalue=%{y}\\u003cextra\\u003e\\u003c\\u002fextra\\u003e\",\"legendgroup\":\"trend\",\"line\":{\"color\":\"#FF66B3\",\"dash\":\"solid\",\"width\":3},\"marker\":{\"symbol\":\"circle\",\"color\":\"#FF66B3\",\"size\":8},\"mode\":\"lines+markers\",\"name\":\"trend\",\"orientation\":\"v\",\"showlegend\":true,\"x\":[\"2022-11-01T00:00:00\",\"2022-12-01T00:00:00\",\"2023-01-01T00:00:00\",\"2023-02-01T00:00:00\",\"2023-03-01T00:00:00\",\"2023-04-01T00:00:00\",\"2023-05-01T00:00:00\",\"2023-06-01T00:00:00\",\"2023-07-01T00:00:00\",\"2023-08-01T00:00:00\",\"2023-09-01T00:00:00\",\"2023-10-01T00:00:00\",\"2023-11-01T00:00:00\",\"2023-12-01T00:00:00\",\"2024-01-01T00:00:00\",\"2024-02-01T00:00:00\",\"2024-03-01T00:00:00\",\"2024-04-01T00:00:00\",\"2024-05-01T00:00:00\",\"2024-06-01T00:00:00\",\"2024-07-01T00:00:00\",\"2024-08-01T00:00:00\",\"2024-09-01T00:00:00\",\"2024-10-01T00:00:00\"],\"xaxis\":\"x\",\"y\":[null,null,null,null,null,null,19455188.907656956,19455188.907656956,19487176.484778397,19635565.089894123,19767832.421626695,19879673.437339086,20008343.461546786,20037299.6469585,20134019.011650883,20281383.646573875,20328289.7899826,20328289.7899826,null,null,null,null,null,null],\"yaxis\":\"y\",\"type\":\"scatter\"}],                        {\"template\":{\"data\":{\"barpolar\":[{\"marker\":{\"line\":{\"color\":\"white\",\"width\":0.5},\"pattern\":{\"fillmode\":\"overlay\",\"size\":10,\"solidity\":0.2}},\"type\":\"barpolar\"}],\"bar\":[{\"error_x\":{\"color\":\"#2a3f5f\"},\"error_y\":{\"color\":\"#2a3f5f\"},\"marker\":{\"line\":{\"color\":\"white\",\"width\":0.5},\"pattern\":{\"fillmode\":\"overlay\",\"size\":10,\"solidity\":0.2}},\"type\":\"bar\"}],\"carpet\":[{\"aaxis\":{\"endlinecolor\":\"#2a3f5f\",\"gridcolor\":\"#C8D4E3\",\"linecolor\":\"#C8D4E3\",\"minorgridcolor\":\"#C8D4E3\",\"startlinecolor\":\"#2a3f5f\"},\"baxis\":{\"endlinecolor\":\"#2a3f5f\",\"gridcolor\":\"#C8D4E3\",\"linecolor\":\"#C8D4E3\",\"minorgridcolor\":\"#C8D4E3\",\"startlinecolor\":\"#2a3f5f\"},\"type\":\"carpet\"}],\"choropleth\":[{\"colorbar\":{\"outlinewidth\":0,\"ticks\":\"\"},\"type\":\"choropleth\"}],\"contourcarpet\":[{\"colorbar\":{\"outlinewidth\":0,\"ticks\":\"\"},\"type\":\"contourcarpet\"}],\"contour\":[{\"colorbar\":{\"outlinewidth\":0,\"ticks\":\"\"},\"colorscale\":[[0.0,\"#0d0887\"],[0.1111111111111111,\"#46039f\"],[0.2222222222222222,\"#7201a8\"],[0.3333333333333333,\"#9c179e\"],[0.4444444444444444,\"#bd3786\"],[0.5555555555555556,\"#d8576b\"],[0.6666666666666666,\"#ed7953\"],[0.7777777777777778,\"#fb9f3a\"],[0.8888888888888888,\"#fdca26\"],[1.0,\"#f0f921\"]],\"type\":\"contour\"}],\"heatmapgl\":[{\"colorbar\":{\"outlinewidth\":0,\"ticks\":\"\"},\"colorscale\":[[0.0,\"#0d0887\"],[0.1111111111111111,\"#46039f\"],[0.2222222222222222,\"#7201a8\"],[0.3333333333333333,\"#9c179e\"],[0.4444444444444444,\"#bd3786\"],[0.5555555555555556,\"#d8576b\"],[0.6666666666666666,\"#ed7953\"],[0.7777777777777778,\"#fb9f3a\"],[0.8888888888888888,\"#fdca26\"],[1.0,\"#f0f921\"]],\"type\":\"heatmapgl\"}],\"heatmap\":[{\"colorbar\":{\"outlinewidth\":0,\"ticks\":\"\"},\"colorscale\":[[0.0,\"#0d0887\"],[0.1111111111111111,\"#46039f\"],[0.2222222222222222,\"#7201a8\"],[0.3333333333333333,\"#9c179e\"],[0.4444444444444444,\"#bd3786\"],[0.5555555555555556,\"#d8576b\"],[0.6666666666666666,\"#ed7953\"],[0.7777777777777778,\"#fb9f3a\"],[0.8888888888888888,\"#fdca26\"],[1.0,\"#f0f921\"]],\"type\":\"heatmap\"}],\"histogram2dcontour\":[{\"colorbar\":{\"outlinewidth\":0,\"ticks\":\"\"},\"colorscale\":[[0.0,\"#0d0887\"],[0.1111111111111111,\"#46039f\"],[0.2222222222222222,\"#7201a8\"],[0.3333333333333333,\"#9c179e\"],[0.4444444444444444,\"#bd3786\"],[0.5555555555555556,\"#d8576b\"],[0.6666666666666666,\"#ed7953\"],[0.7777777777777778,\"#fb9f3a\"],[0.8888888888888888,\"#fdca26\"],[1.0,\"#f0f921\"]],\"type\":\"histogram2dcontour\"}],\"histogram2d\":[{\"colorbar\":{\"outlinewidth\":0,\"ticks\":\"\"},\"colorscale\":[[0.0,\"#0d0887\"],[0.1111111111111111,\"#46039f\"],[0.2222222222222222,\"#7201a8\"],[0.3333333333333333,\"#9c179e\"],[0.4444444444444444,\"#bd3786\"],[0.5555555555555556,\"#d8576b\"],[0.6666666666666666,\"#ed7953\"],[0.7777777777777778,\"#fb9f3a\"],[0.8888888888888888,\"#fdca26\"],[1.0,\"#f0f921\"]],\"type\":\"histogram2d\"}],\"histogram\":[{\"marker\":{\"pattern\":{\"fillmode\":\"overlay\",\"size\":10,\"solidity\":0.2}},\"type\":\"histogram\"}],\"mesh3d\":[{\"colorbar\":{\"outlinewidth\":0,\"ticks\":\"\"},\"type\":\"mesh3d\"}],\"parcoords\":[{\"line\":{\"colorbar\":{\"outlinewidth\":0,\"ticks\":\"\"}},\"type\":\"parcoords\"}],\"pie\":[{\"automargin\":true,\"type\":\"pie\"}],\"scatter3d\":[{\"line\":{\"colorbar\":{\"outlinewidth\":0,\"ticks\":\"\"}},\"marker\":{\"colorbar\":{\"outlinewidth\":0,\"ticks\":\"\"}},\"type\":\"scatter3d\"}],\"scattercarpet\":[{\"marker\":{\"colorbar\":{\"outlinewidth\":0,\"ticks\":\"\"}},\"type\":\"scattercarpet\"}],\"scattergeo\":[{\"marker\":{\"colorbar\":{\"outlinewidth\":0,\"ticks\":\"\"}},\"type\":\"scattergeo\"}],\"scattergl\":[{\"marker\":{\"colorbar\":{\"outlinewidth\":0,\"ticks\":\"\"}},\"type\":\"scattergl\"}],\"scattermapbox\":[{\"marker\":{\"colorbar\":{\"outlinewidth\":0,\"ticks\":\"\"}},\"type\":\"scattermapbox\"}],\"scatterpolargl\":[{\"marker\":{\"colorbar\":{\"outlinewidth\":0,\"ticks\":\"\"}},\"type\":\"scatterpolargl\"}],\"scatterpolar\":[{\"marker\":{\"colorbar\":{\"outlinewidth\":0,\"ticks\":\"\"}},\"type\":\"scatterpolar\"}],\"scatter\":[{\"fillpattern\":{\"fillmode\":\"overlay\",\"size\":10,\"solidity\":0.2},\"type\":\"scatter\"}],\"scatterternary\":[{\"marker\":{\"colorbar\":{\"outlinewidth\":0,\"ticks\":\"\"}},\"type\":\"scatterternary\"}],\"surface\":[{\"colorbar\":{\"outlinewidth\":0,\"ticks\":\"\"},\"colorscale\":[[0.0,\"#0d0887\"],[0.1111111111111111,\"#46039f\"],[0.2222222222222222,\"#7201a8\"],[0.3333333333333333,\"#9c179e\"],[0.4444444444444444,\"#bd3786\"],[0.5555555555555556,\"#d8576b\"],[0.6666666666666666,\"#ed7953\"],[0.7777777777777778,\"#fb9f3a\"],[0.8888888888888888,\"#fdca26\"],[1.0,\"#f0f921\"]],\"type\":\"surface\"}],\"table\":[{\"cells\":{\"fill\":{\"color\":\"#EBF0F8\"},\"line\":{\"color\":\"white\"}},\"header\":{\"fill\":{\"color\":\"#C8D4E3\"},\"line\":{\"color\":\"white\"}},\"type\":\"table\"}]},\"layout\":{\"annotationdefaults\":{\"arrowcolor\":\"#2a3f5f\",\"arrowhead\":0,\"arrowwidth\":1},\"autotypenumbers\":\"strict\",\"coloraxis\":{\"colorbar\":{\"outlinewidth\":0,\"ticks\":\"\"}},\"colorscale\":{\"diverging\":[[0,\"#8e0152\"],[0.1,\"#c51b7d\"],[0.2,\"#de77ae\"],[0.3,\"#f1b6da\"],[0.4,\"#fde0ef\"],[0.5,\"#f7f7f7\"],[0.6,\"#e6f5d0\"],[0.7,\"#b8e186\"],[0.8,\"#7fbc41\"],[0.9,\"#4d9221\"],[1,\"#276419\"]],\"sequential\":[[0.0,\"#0d0887\"],[0.1111111111111111,\"#46039f\"],[0.2222222222222222,\"#7201a8\"],[0.3333333333333333,\"#9c179e\"],[0.4444444444444444,\"#bd3786\"],[0.5555555555555556,\"#d8576b\"],[0.6666666666666666,\"#ed7953\"],[0.7777777777777778,\"#fb9f3a\"],[0.8888888888888888,\"#fdca26\"],[1.0,\"#f0f921\"]],\"sequentialminus\":[[0.0,\"#0d0887\"],[0.1111111111111111,\"#46039f\"],[0.2222222222222222,\"#7201a8\"],[0.3333333333333333,\"#9c179e\"],[0.4444444444444444,\"#bd3786\"],[0.5555555555555556,\"#d8576b\"],[0.6666666666666666,\"#ed7953\"],[0.7777777777777778,\"#fb9f3a\"],[0.8888888888888888,\"#fdca26\"],[1.0,\"#f0f921\"]]},\"colorway\":[\"#636efa\",\"#EF553B\",\"#00cc96\",\"#ab63fa\",\"#FFA15A\",\"#19d3f3\",\"#FF6692\",\"#B6E880\",\"#FF97FF\",\"#FECB52\"],\"font\":{\"color\":\"#2a3f5f\"},\"geo\":{\"bgcolor\":\"white\",\"lakecolor\":\"white\",\"landcolor\":\"white\",\"showlakes\":true,\"showland\":true,\"subunitcolor\":\"#C8D4E3\"},\"hoverlabel\":{\"align\":\"left\"},\"hovermode\":\"closest\",\"mapbox\":{\"style\":\"light\"},\"paper_bgcolor\":\"white\",\"plot_bgcolor\":\"white\",\"polar\":{\"angularaxis\":{\"gridcolor\":\"#EBF0F8\",\"linecolor\":\"#EBF0F8\",\"ticks\":\"\"},\"bgcolor\":\"white\",\"radialaxis\":{\"gridcolor\":\"#EBF0F8\",\"linecolor\":\"#EBF0F8\",\"ticks\":\"\"}},\"scene\":{\"xaxis\":{\"backgroundcolor\":\"white\",\"gridcolor\":\"#DFE8F3\",\"gridwidth\":2,\"linecolor\":\"#EBF0F8\",\"showbackground\":true,\"ticks\":\"\",\"zerolinecolor\":\"#EBF0F8\"},\"yaxis\":{\"backgroundcolor\":\"white\",\"gridcolor\":\"#DFE8F3\",\"gridwidth\":2,\"linecolor\":\"#EBF0F8\",\"showbackground\":true,\"ticks\":\"\",\"zerolinecolor\":\"#EBF0F8\"},\"zaxis\":{\"backgroundcolor\":\"white\",\"gridcolor\":\"#DFE8F3\",\"gridwidth\":2,\"linecolor\":\"#EBF0F8\",\"showbackground\":true,\"ticks\":\"\",\"zerolinecolor\":\"#EBF0F8\"}},\"shapedefaults\":{\"line\":{\"color\":\"#2a3f5f\"}},\"ternary\":{\"aaxis\":{\"gridcolor\":\"#DFE8F3\",\"linecolor\":\"#A2B1C6\",\"ticks\":\"\"},\"baxis\":{\"gridcolor\":\"#DFE8F3\",\"linecolor\":\"#A2B1C6\",\"ticks\":\"\"},\"bgcolor\":\"white\",\"caxis\":{\"gridcolor\":\"#DFE8F3\",\"linecolor\":\"#A2B1C6\",\"ticks\":\"\"}},\"title\":{\"x\":0.05},\"xaxis\":{\"automargin\":true,\"gridcolor\":\"#EBF0F8\",\"linecolor\":\"#EBF0F8\",\"ticks\":\"\",\"title\":{\"standoff\":15},\"zerolinecolor\":\"#EBF0F8\",\"zerolinewidth\":2},\"yaxis\":{\"automargin\":true,\"gridcolor\":\"#EBF0F8\",\"linecolor\":\"#EBF0F8\",\"ticks\":\"\",\"title\":{\"standoff\":15},\"zerolinecolor\":\"#EBF0F8\",\"zerolinewidth\":2}}},\"xaxis\":{\"anchor\":\"y\",\"domain\":[0.0,1.0],\"title\":{\"text\":\"Fecha\"},\"tickangle\":-45},\"yaxis\":{\"anchor\":\"x\",\"domain\":[0.0,1.0],\"title\":{\"text\":\"Valor\"}},\"legend\":{\"title\":{\"text\":\"variable\"},\"tracegroupgap\":0},\"title\":{\"text\":\"Tendencia\",\"font\":{\"size\":20,\"family\":\"Arial\",\"color\":\"black\"}},\"showlegend\":false},                        {\"responsive\": true}                    ).then(function(){\n",
              "                            \n",
              "var gd = document.getElementById('11353e54-6f1e-464f-9d93-3e778e28e682');\n",
              "var x = new MutationObserver(function (mutations, observer) {{\n",
              "        var display = window.getComputedStyle(gd).display;\n",
              "        if (!display || display === 'none') {{\n",
              "            console.log([gd, 'removed!']);\n",
              "            Plotly.purge(gd);\n",
              "            observer.disconnect();\n",
              "        }}\n",
              "}});\n",
              "\n",
              "// Listen for the removal of the full notebook cells\n",
              "var notebookContainer = gd.closest('#notebook-container');\n",
              "if (notebookContainer) {{\n",
              "    x.observe(notebookContainer, {childList: true});\n",
              "}}\n",
              "\n",
              "// Listen for the clearing of the current output cell\n",
              "var outputEl = gd.closest('.output');\n",
              "if (outputEl) {{\n",
              "    x.observe(outputEl, {childList: true});\n",
              "}}\n",
              "\n",
              "                        })                };                            </script>        </div>\n",
              "</body>\n",
              "</html>"
            ]
          },
          "metadata": {}
        }
      ]
    },
    {
      "cell_type": "code",
      "source": [
        "# Estacionalidad\n",
        "fig = px.line(result.seasonal, title='Estacionalidad')\n",
        "\n",
        "fig.update_layout(\n",
        "    title_font=dict(size=20, family=\"Arial\", color=\"black\"),\n",
        "    xaxis_title=\"Fecha\",\n",
        "    yaxis_title=\"Valor\",\n",
        "    template=\"plotly_white\",  # Fondo blanco\n",
        "    showlegend=False,  # Ocultar leyenda si no es necesaria\n",
        "    xaxis=dict(tickangle=-45),  # Rotar etiquetas del eje x si es necesario\n",
        ")\n",
        "\n",
        "fig.update_traces(\n",
        "    line=dict(color=\"#FF66B3\", width=3),\n",
        "    mode='lines+markers',\n",
        "    marker=dict(size=8, symbol='circle', color=\"#FF66B3\")\n",
        ")\n",
        "\n",
        "fig.show()"
      ],
      "metadata": {
        "colab": {
          "base_uri": "https://localhost:8080/",
          "height": 542
        },
        "id": "-pjRou4L2_kV",
        "outputId": "59cb674d-7144-4b94-f7a7-cead1c587a43"
      },
      "execution_count": null,
      "outputs": [
        {
          "output_type": "display_data",
          "data": {
            "text/html": [
              "<html>\n",
              "<head><meta charset=\"utf-8\" /></head>\n",
              "<body>\n",
              "    <div>            <script src=\"https://cdnjs.cloudflare.com/ajax/libs/mathjax/2.7.5/MathJax.js?config=TeX-AMS-MML_SVG\"></script><script type=\"text/javascript\">if (window.MathJax && window.MathJax.Hub && window.MathJax.Hub.Config) {window.MathJax.Hub.Config({SVG: {font: \"STIX-Web\"}});}</script>                <script type=\"text/javascript\">window.PlotlyConfig = {MathJaxConfig: 'local'};</script>\n",
              "        <script charset=\"utf-8\" src=\"https://cdn.plot.ly/plotly-2.35.2.min.js\"></script>                <div id=\"fdc98887-969d-493c-8f34-ba58d09f276d\" class=\"plotly-graph-div\" style=\"height:525px; width:100%;\"></div>            <script type=\"text/javascript\">                                    window.PLOTLYENV=window.PLOTLYENV || {};                                    if (document.getElementById(\"fdc98887-969d-493c-8f34-ba58d09f276d\")) {                    Plotly.newPlot(                        \"fdc98887-969d-493c-8f34-ba58d09f276d\",                        [{\"hovertemplate\":\"variable=seasonal\\u003cbr\\u003eYEAR_MONTH=%{x}\\u003cbr\\u003evalue=%{y}\\u003cextra\\u003e\\u003c\\u002fextra\\u003e\",\"legendgroup\":\"seasonal\",\"line\":{\"color\":\"#FF66B3\",\"dash\":\"solid\",\"width\":3},\"marker\":{\"symbol\":\"circle\",\"color\":\"#FF66B3\",\"size\":8},\"mode\":\"lines+markers\",\"name\":\"seasonal\",\"orientation\":\"v\",\"showlegend\":true,\"x\":[\"2022-11-01T00:00:00\",\"2022-12-01T00:00:00\",\"2023-01-01T00:00:00\",\"2023-02-01T00:00:00\",\"2023-03-01T00:00:00\",\"2023-04-01T00:00:00\",\"2023-05-01T00:00:00\",\"2023-06-01T00:00:00\",\"2023-07-01T00:00:00\",\"2023-08-01T00:00:00\",\"2023-09-01T00:00:00\",\"2023-10-01T00:00:00\",\"2023-11-01T00:00:00\",\"2023-12-01T00:00:00\",\"2024-01-01T00:00:00\",\"2024-02-01T00:00:00\",\"2024-03-01T00:00:00\",\"2024-04-01T00:00:00\",\"2024-05-01T00:00:00\",\"2024-06-01T00:00:00\",\"2024-07-01T00:00:00\",\"2024-08-01T00:00:00\",\"2024-09-01T00:00:00\",\"2024-10-01T00:00:00\"],\"xaxis\":\"x\",\"y\":[637884.2129879344,1588770.328802557,-4585562.965139453,-2100236.940463665,850259.4817185301,-165746.48311917746,2794463.1959029967,1797566.0407341023,-1194313.3083191726,1896821.9403367725,-191345.96457161644,-1328559.5388698082,637884.2129879344,1588770.328802557,-4585562.965139453,-2100236.940463665,850259.4817185301,-165746.48311917746,2794463.1959029967,1797566.0407341023,-1194313.3083191726,1896821.9403367725,-191345.96457161644,-1328559.5388698082],\"yaxis\":\"y\",\"type\":\"scatter\"}],                        {\"template\":{\"data\":{\"barpolar\":[{\"marker\":{\"line\":{\"color\":\"white\",\"width\":0.5},\"pattern\":{\"fillmode\":\"overlay\",\"size\":10,\"solidity\":0.2}},\"type\":\"barpolar\"}],\"bar\":[{\"error_x\":{\"color\":\"#2a3f5f\"},\"error_y\":{\"color\":\"#2a3f5f\"},\"marker\":{\"line\":{\"color\":\"white\",\"width\":0.5},\"pattern\":{\"fillmode\":\"overlay\",\"size\":10,\"solidity\":0.2}},\"type\":\"bar\"}],\"carpet\":[{\"aaxis\":{\"endlinecolor\":\"#2a3f5f\",\"gridcolor\":\"#C8D4E3\",\"linecolor\":\"#C8D4E3\",\"minorgridcolor\":\"#C8D4E3\",\"startlinecolor\":\"#2a3f5f\"},\"baxis\":{\"endlinecolor\":\"#2a3f5f\",\"gridcolor\":\"#C8D4E3\",\"linecolor\":\"#C8D4E3\",\"minorgridcolor\":\"#C8D4E3\",\"startlinecolor\":\"#2a3f5f\"},\"type\":\"carpet\"}],\"choropleth\":[{\"colorbar\":{\"outlinewidth\":0,\"ticks\":\"\"},\"type\":\"choropleth\"}],\"contourcarpet\":[{\"colorbar\":{\"outlinewidth\":0,\"ticks\":\"\"},\"type\":\"contourcarpet\"}],\"contour\":[{\"colorbar\":{\"outlinewidth\":0,\"ticks\":\"\"},\"colorscale\":[[0.0,\"#0d0887\"],[0.1111111111111111,\"#46039f\"],[0.2222222222222222,\"#7201a8\"],[0.3333333333333333,\"#9c179e\"],[0.4444444444444444,\"#bd3786\"],[0.5555555555555556,\"#d8576b\"],[0.6666666666666666,\"#ed7953\"],[0.7777777777777778,\"#fb9f3a\"],[0.8888888888888888,\"#fdca26\"],[1.0,\"#f0f921\"]],\"type\":\"contour\"}],\"heatmapgl\":[{\"colorbar\":{\"outlinewidth\":0,\"ticks\":\"\"},\"colorscale\":[[0.0,\"#0d0887\"],[0.1111111111111111,\"#46039f\"],[0.2222222222222222,\"#7201a8\"],[0.3333333333333333,\"#9c179e\"],[0.4444444444444444,\"#bd3786\"],[0.5555555555555556,\"#d8576b\"],[0.6666666666666666,\"#ed7953\"],[0.7777777777777778,\"#fb9f3a\"],[0.8888888888888888,\"#fdca26\"],[1.0,\"#f0f921\"]],\"type\":\"heatmapgl\"}],\"heatmap\":[{\"colorbar\":{\"outlinewidth\":0,\"ticks\":\"\"},\"colorscale\":[[0.0,\"#0d0887\"],[0.1111111111111111,\"#46039f\"],[0.2222222222222222,\"#7201a8\"],[0.3333333333333333,\"#9c179e\"],[0.4444444444444444,\"#bd3786\"],[0.5555555555555556,\"#d8576b\"],[0.6666666666666666,\"#ed7953\"],[0.7777777777777778,\"#fb9f3a\"],[0.8888888888888888,\"#fdca26\"],[1.0,\"#f0f921\"]],\"type\":\"heatmap\"}],\"histogram2dcontour\":[{\"colorbar\":{\"outlinewidth\":0,\"ticks\":\"\"},\"colorscale\":[[0.0,\"#0d0887\"],[0.1111111111111111,\"#46039f\"],[0.2222222222222222,\"#7201a8\"],[0.3333333333333333,\"#9c179e\"],[0.4444444444444444,\"#bd3786\"],[0.5555555555555556,\"#d8576b\"],[0.6666666666666666,\"#ed7953\"],[0.7777777777777778,\"#fb9f3a\"],[0.8888888888888888,\"#fdca26\"],[1.0,\"#f0f921\"]],\"type\":\"histogram2dcontour\"}],\"histogram2d\":[{\"colorbar\":{\"outlinewidth\":0,\"ticks\":\"\"},\"colorscale\":[[0.0,\"#0d0887\"],[0.1111111111111111,\"#46039f\"],[0.2222222222222222,\"#7201a8\"],[0.3333333333333333,\"#9c179e\"],[0.4444444444444444,\"#bd3786\"],[0.5555555555555556,\"#d8576b\"],[0.6666666666666666,\"#ed7953\"],[0.7777777777777778,\"#fb9f3a\"],[0.8888888888888888,\"#fdca26\"],[1.0,\"#f0f921\"]],\"type\":\"histogram2d\"}],\"histogram\":[{\"marker\":{\"pattern\":{\"fillmode\":\"overlay\",\"size\":10,\"solidity\":0.2}},\"type\":\"histogram\"}],\"mesh3d\":[{\"colorbar\":{\"outlinewidth\":0,\"ticks\":\"\"},\"type\":\"mesh3d\"}],\"parcoords\":[{\"line\":{\"colorbar\":{\"outlinewidth\":0,\"ticks\":\"\"}},\"type\":\"parcoords\"}],\"pie\":[{\"automargin\":true,\"type\":\"pie\"}],\"scatter3d\":[{\"line\":{\"colorbar\":{\"outlinewidth\":0,\"ticks\":\"\"}},\"marker\":{\"colorbar\":{\"outlinewidth\":0,\"ticks\":\"\"}},\"type\":\"scatter3d\"}],\"scattercarpet\":[{\"marker\":{\"colorbar\":{\"outlinewidth\":0,\"ticks\":\"\"}},\"type\":\"scattercarpet\"}],\"scattergeo\":[{\"marker\":{\"colorbar\":{\"outlinewidth\":0,\"ticks\":\"\"}},\"type\":\"scattergeo\"}],\"scattergl\":[{\"marker\":{\"colorbar\":{\"outlinewidth\":0,\"ticks\":\"\"}},\"type\":\"scattergl\"}],\"scattermapbox\":[{\"marker\":{\"colorbar\":{\"outlinewidth\":0,\"ticks\":\"\"}},\"type\":\"scattermapbox\"}],\"scatterpolargl\":[{\"marker\":{\"colorbar\":{\"outlinewidth\":0,\"ticks\":\"\"}},\"type\":\"scatterpolargl\"}],\"scatterpolar\":[{\"marker\":{\"colorbar\":{\"outlinewidth\":0,\"ticks\":\"\"}},\"type\":\"scatterpolar\"}],\"scatter\":[{\"fillpattern\":{\"fillmode\":\"overlay\",\"size\":10,\"solidity\":0.2},\"type\":\"scatter\"}],\"scatterternary\":[{\"marker\":{\"colorbar\":{\"outlinewidth\":0,\"ticks\":\"\"}},\"type\":\"scatterternary\"}],\"surface\":[{\"colorbar\":{\"outlinewidth\":0,\"ticks\":\"\"},\"colorscale\":[[0.0,\"#0d0887\"],[0.1111111111111111,\"#46039f\"],[0.2222222222222222,\"#7201a8\"],[0.3333333333333333,\"#9c179e\"],[0.4444444444444444,\"#bd3786\"],[0.5555555555555556,\"#d8576b\"],[0.6666666666666666,\"#ed7953\"],[0.7777777777777778,\"#fb9f3a\"],[0.8888888888888888,\"#fdca26\"],[1.0,\"#f0f921\"]],\"type\":\"surface\"}],\"table\":[{\"cells\":{\"fill\":{\"color\":\"#EBF0F8\"},\"line\":{\"color\":\"white\"}},\"header\":{\"fill\":{\"color\":\"#C8D4E3\"},\"line\":{\"color\":\"white\"}},\"type\":\"table\"}]},\"layout\":{\"annotationdefaults\":{\"arrowcolor\":\"#2a3f5f\",\"arrowhead\":0,\"arrowwidth\":1},\"autotypenumbers\":\"strict\",\"coloraxis\":{\"colorbar\":{\"outlinewidth\":0,\"ticks\":\"\"}},\"colorscale\":{\"diverging\":[[0,\"#8e0152\"],[0.1,\"#c51b7d\"],[0.2,\"#de77ae\"],[0.3,\"#f1b6da\"],[0.4,\"#fde0ef\"],[0.5,\"#f7f7f7\"],[0.6,\"#e6f5d0\"],[0.7,\"#b8e186\"],[0.8,\"#7fbc41\"],[0.9,\"#4d9221\"],[1,\"#276419\"]],\"sequential\":[[0.0,\"#0d0887\"],[0.1111111111111111,\"#46039f\"],[0.2222222222222222,\"#7201a8\"],[0.3333333333333333,\"#9c179e\"],[0.4444444444444444,\"#bd3786\"],[0.5555555555555556,\"#d8576b\"],[0.6666666666666666,\"#ed7953\"],[0.7777777777777778,\"#fb9f3a\"],[0.8888888888888888,\"#fdca26\"],[1.0,\"#f0f921\"]],\"sequentialminus\":[[0.0,\"#0d0887\"],[0.1111111111111111,\"#46039f\"],[0.2222222222222222,\"#7201a8\"],[0.3333333333333333,\"#9c179e\"],[0.4444444444444444,\"#bd3786\"],[0.5555555555555556,\"#d8576b\"],[0.6666666666666666,\"#ed7953\"],[0.7777777777777778,\"#fb9f3a\"],[0.8888888888888888,\"#fdca26\"],[1.0,\"#f0f921\"]]},\"colorway\":[\"#636efa\",\"#EF553B\",\"#00cc96\",\"#ab63fa\",\"#FFA15A\",\"#19d3f3\",\"#FF6692\",\"#B6E880\",\"#FF97FF\",\"#FECB52\"],\"font\":{\"color\":\"#2a3f5f\"},\"geo\":{\"bgcolor\":\"white\",\"lakecolor\":\"white\",\"landcolor\":\"white\",\"showlakes\":true,\"showland\":true,\"subunitcolor\":\"#C8D4E3\"},\"hoverlabel\":{\"align\":\"left\"},\"hovermode\":\"closest\",\"mapbox\":{\"style\":\"light\"},\"paper_bgcolor\":\"white\",\"plot_bgcolor\":\"white\",\"polar\":{\"angularaxis\":{\"gridcolor\":\"#EBF0F8\",\"linecolor\":\"#EBF0F8\",\"ticks\":\"\"},\"bgcolor\":\"white\",\"radialaxis\":{\"gridcolor\":\"#EBF0F8\",\"linecolor\":\"#EBF0F8\",\"ticks\":\"\"}},\"scene\":{\"xaxis\":{\"backgroundcolor\":\"white\",\"gridcolor\":\"#DFE8F3\",\"gridwidth\":2,\"linecolor\":\"#EBF0F8\",\"showbackground\":true,\"ticks\":\"\",\"zerolinecolor\":\"#EBF0F8\"},\"yaxis\":{\"backgroundcolor\":\"white\",\"gridcolor\":\"#DFE8F3\",\"gridwidth\":2,\"linecolor\":\"#EBF0F8\",\"showbackground\":true,\"ticks\":\"\",\"zerolinecolor\":\"#EBF0F8\"},\"zaxis\":{\"backgroundcolor\":\"white\",\"gridcolor\":\"#DFE8F3\",\"gridwidth\":2,\"linecolor\":\"#EBF0F8\",\"showbackground\":true,\"ticks\":\"\",\"zerolinecolor\":\"#EBF0F8\"}},\"shapedefaults\":{\"line\":{\"color\":\"#2a3f5f\"}},\"ternary\":{\"aaxis\":{\"gridcolor\":\"#DFE8F3\",\"linecolor\":\"#A2B1C6\",\"ticks\":\"\"},\"baxis\":{\"gridcolor\":\"#DFE8F3\",\"linecolor\":\"#A2B1C6\",\"ticks\":\"\"},\"bgcolor\":\"white\",\"caxis\":{\"gridcolor\":\"#DFE8F3\",\"linecolor\":\"#A2B1C6\",\"ticks\":\"\"}},\"title\":{\"x\":0.05},\"xaxis\":{\"automargin\":true,\"gridcolor\":\"#EBF0F8\",\"linecolor\":\"#EBF0F8\",\"ticks\":\"\",\"title\":{\"standoff\":15},\"zerolinecolor\":\"#EBF0F8\",\"zerolinewidth\":2},\"yaxis\":{\"automargin\":true,\"gridcolor\":\"#EBF0F8\",\"linecolor\":\"#EBF0F8\",\"ticks\":\"\",\"title\":{\"standoff\":15},\"zerolinecolor\":\"#EBF0F8\",\"zerolinewidth\":2}}},\"xaxis\":{\"anchor\":\"y\",\"domain\":[0.0,1.0],\"title\":{\"text\":\"Fecha\"},\"tickangle\":-45},\"yaxis\":{\"anchor\":\"x\",\"domain\":[0.0,1.0],\"title\":{\"text\":\"Valor\"}},\"legend\":{\"title\":{\"text\":\"variable\"},\"tracegroupgap\":0},\"title\":{\"text\":\"Estacionalidad\",\"font\":{\"size\":20,\"family\":\"Arial\",\"color\":\"black\"}},\"showlegend\":false},                        {\"responsive\": true}                    ).then(function(){\n",
              "                            \n",
              "var gd = document.getElementById('fdc98887-969d-493c-8f34-ba58d09f276d');\n",
              "var x = new MutationObserver(function (mutations, observer) {{\n",
              "        var display = window.getComputedStyle(gd).display;\n",
              "        if (!display || display === 'none') {{\n",
              "            console.log([gd, 'removed!']);\n",
              "            Plotly.purge(gd);\n",
              "            observer.disconnect();\n",
              "        }}\n",
              "}});\n",
              "\n",
              "// Listen for the removal of the full notebook cells\n",
              "var notebookContainer = gd.closest('#notebook-container');\n",
              "if (notebookContainer) {{\n",
              "    x.observe(notebookContainer, {childList: true});\n",
              "}}\n",
              "\n",
              "// Listen for the clearing of the current output cell\n",
              "var outputEl = gd.closest('.output');\n",
              "if (outputEl) {{\n",
              "    x.observe(outputEl, {childList: true});\n",
              "}}\n",
              "\n",
              "                        })                };                            </script>        </div>\n",
              "</body>\n",
              "</html>"
            ]
          },
          "metadata": {}
        }
      ]
    },
    {
      "cell_type": "markdown",
      "source": [
        "# Cuáles son las predicciones hechas en España y cómo de buenas son.\n"
      ],
      "metadata": {
        "id": "oRgz0i2L4iuZ"
      }
    },
    {
      "cell_type": "code",
      "source": [
        "espanapredict = data[(data['COUNTRY'] == 'Spain')].dropna()\n",
        "espanaactual = data[(data['COUNTRY'] == 'Spain') & (data['SCENARIO'] == 'actual')]\n",
        "\n",
        "espanapredict['FORECAST'] = espanapredict['FORECAST'].str.extract(r'(\\d+)').fillna(1).astype(int)\n"
      ],
      "metadata": {
        "id": "QCJGM00TA6SJ"
      },
      "execution_count": null,
      "outputs": []
    },
    {
      "cell_type": "code",
      "source": [
        "# Convertir 'YEAR' y 'MONTH' a datatime.\n",
        "espanapredict['YEAR_MONTH'] = pd.to_datetime(espanapredict[['YEAR', 'MONTH']].assign(DAY=1))\n",
        "espanaactual['YEAR_MONTH'] = pd.to_datetime(espanaactual[['YEAR', 'MONTH']].assign(DAY=1))\n",
        "espanapredict.drop(columns=['COUNTRY','SCENARIO','YEAR', 'MONTH'], inplace=True)\n",
        "espanaactual.drop(columns=['COUNTRY','FORECAST_YEAR', 'FORECAST','SCENARIO','YEAR', 'MONTH'], inplace=True)"
      ],
      "metadata": {
        "colab": {
          "base_uri": "https://localhost:8080/"
        },
        "id": "psZtw1qi4qiw",
        "outputId": "2a22a793-1e50-4907-ed5e-3038753b6d93",
        "collapsed": true
      },
      "execution_count": null,
      "outputs": [
        {
          "output_type": "stream",
          "name": "stderr",
          "text": [
            "<ipython-input-37-2ef721f4f14b>:3: SettingWithCopyWarning:\n",
            "\n",
            "\n",
            "A value is trying to be set on a copy of a slice from a DataFrame.\n",
            "Try using .loc[row_indexer,col_indexer] = value instead\n",
            "\n",
            "See the caveats in the documentation: https://pandas.pydata.org/pandas-docs/stable/user_guide/indexing.html#returning-a-view-versus-a-copy\n",
            "\n",
            "<ipython-input-37-2ef721f4f14b>:5: SettingWithCopyWarning:\n",
            "\n",
            "\n",
            "A value is trying to be set on a copy of a slice from a DataFrame\n",
            "\n",
            "See the caveats in the documentation: https://pandas.pydata.org/pandas-docs/stable/user_guide/indexing.html#returning-a-view-versus-a-copy\n",
            "\n"
          ]
        }
      ]
    },
    {
      "cell_type": "code",
      "source": [
        "fechaforecast = '2023-' + espanapredict['FORECAST'].astype(str) + '-01'\n",
        "espanapredict['YEAR_MONTH_FORECAST'] = pd.to_datetime(fechaforecast, errors='coerce')\n",
        "espanapredict.drop(columns=['FORECAST','FORECAST_YEAR'], inplace=True)"
      ],
      "metadata": {
        "id": "XO8gI8ciJpHn"
      },
      "execution_count": null,
      "outputs": []
    },
    {
      "cell_type": "code",
      "source": [
        "# Juntamos el dataframe de predicciones con el de actuals.\n",
        "merged_df = pd.merge(espanapredict, espanaactual,\n",
        "                   on=['YEAR_MONTH', 'SUBBRAND'],\n",
        "                   how='inner', suffixes=('_pred', '_actual'))\n",
        "\n",
        "print(merged_df)"
      ],
      "metadata": {
        "colab": {
          "base_uri": "https://localhost:8080/"
        },
        "id": "k2i6cP7d2Ku6",
        "outputId": "e7a6b924-e2d7-4868-be4a-07da99e32f6c"
      },
      "execution_count": null,
      "outputs": [
        {
          "output_type": "stream",
          "name": "stdout",
          "text": [
            "                SUBBRAND    AMOUNT_pred YEAR_MONTH YEAR_MONTH_FORECAST  \\\n",
            "0         Pepsi Max (L3)   88501.980847 2023-12-01          2023-09-01   \n",
            "1     Pepsi Regular (L3)  134268.151080 2023-12-01          2023-05-01   \n",
            "2          7up Free (L3)   70144.329753 2024-01-01          2023-04-01   \n",
            "3               7up (L3)   38882.921227 2024-04-01          2023-02-01   \n",
            "4     Pepsi Regular (L3)  132236.387105 2024-01-01          2023-05-01   \n",
            "...                  ...            ...        ...                 ...   \n",
            "1552  Pepsi Regular (L3)  109407.155303 2023-04-01          2023-04-01   \n",
            "1553         Lipton (L3)    5561.750886 2023-04-01          2023-01-01   \n",
            "1554      Pepsi Max (L3)  117771.620781 2024-03-01          2023-04-01   \n",
            "1555  Pepsi Regular (L3)  107080.159342 2024-01-01          2023-07-01   \n",
            "1556  Pepsi Regular (L3)  120652.827718 2024-03-01          2023-09-01   \n",
            "\n",
            "      AMOUNT_actual  \n",
            "0     105442.112234  \n",
            "1     115494.267625  \n",
            "2      60318.994231  \n",
            "3      74882.992962  \n",
            "4     113340.611790  \n",
            "...             ...  \n",
            "1552   99838.514061  \n",
            "1553    9617.009842  \n",
            "1554   95639.028411  \n",
            "1555  113340.611790  \n",
            "1556  100264.407938  \n",
            "\n",
            "[1557 rows x 5 columns]\n"
          ]
        }
      ]
    },
    {
      "cell_type": "code",
      "source": [
        "merged_df['Distancia_prediccion'] = (merged_df['YEAR_MONTH'].dt.year - merged_df['YEAR_MONTH_FORECAST'].dt.year) * 12 + (merged_df['YEAR_MONTH'].dt.month - merged_df['YEAR_MONTH_FORECAST'].dt.month)\n",
        "merged_df['Distancia_prediccion'] = merged_df['Distancia_prediccion'] + 1\n",
        "\n",
        "for subbrand in merged_df['SUBBRAND'].unique():\n",
        "    subbrand_data = merged_df[merged_df['SUBBRAND'] == subbrand]\n",
        "    fig = px.scatter(subbrand_data,\n",
        "                     x='YEAR_MONTH',\n",
        "                     y='AMOUNT_pred',\n",
        "                     color='Distancia_prediccion',\n",
        "                     title=f'Predicción de las cantidades de {subbrand}',\n",
        "                     labels={'YEAR_MONTH': 'Fecha de la predicción', 'AMOUNT_pred': 'Cantidad predicha',\n",
        "                             'Distancia_prediccion':'Distiancia de la predicción (Meses)'},\n",
        "                     color_continuous_scale='Plasma')\n",
        "\n",
        "    fig.update_layout(coloraxis_colorbar=dict(title_side='right', title_text=\"Distiancia de la predicción (Meses)\", ticks='outside'))\n",
        "\n",
        "    fig.show()"
      ],
      "metadata": {
        "colab": {
          "base_uri": "https://localhost:8080/",
          "height": 1000
        },
        "id": "Qh70bW3lEtTz",
        "outputId": "b9bb53b6-05ab-4625-9103-fc91660436ea"
      },
      "execution_count": null,
      "outputs": [
        {
          "output_type": "display_data",
          "data": {
            "text/html": [
              "<html>\n",
              "<head><meta charset=\"utf-8\" /></head>\n",
              "<body>\n",
              "    <div>            <script src=\"https://cdnjs.cloudflare.com/ajax/libs/mathjax/2.7.5/MathJax.js?config=TeX-AMS-MML_SVG\"></script><script type=\"text/javascript\">if (window.MathJax && window.MathJax.Hub && window.MathJax.Hub.Config) {window.MathJax.Hub.Config({SVG: {font: \"STIX-Web\"}});}</script>                <script type=\"text/javascript\">window.PlotlyConfig = {MathJaxConfig: 'local'};</script>\n",
              "        <script charset=\"utf-8\" src=\"https://cdn.plot.ly/plotly-2.35.2.min.js\"></script>                <div id=\"7c6d9bbc-eb1a-44c5-8f7f-5822a6519f90\" class=\"plotly-graph-div\" style=\"height:525px; width:100%;\"></div>            <script type=\"text/javascript\">                                    window.PLOTLYENV=window.PLOTLYENV || {};                                    if (document.getElementById(\"7c6d9bbc-eb1a-44c5-8f7f-5822a6519f90\")) {                    Plotly.newPlot(                        \"7c6d9bbc-eb1a-44c5-8f7f-5822a6519f90\",                        [{\"hovertemplate\":\"Fecha de la predicción=%{x}\\u003cbr\\u003eCantidad predicha=%{y}\\u003cbr\\u003eDistiancia de la predicción (Meses)=%{marker.color}\\u003cextra\\u003e\\u003c\\u002fextra\\u003e\",\"legendgroup\":\"\",\"marker\":{\"color\":[4,15,4,7,5,6,3,9,1,12,8,11,9,8,9,2,2,8,10,10,9,12,16,3,6,7,13,4,3,9,9,14,6,1,3,7,18,9,1,9,6,7,6,3,16,2,13,9,14,8,13,5,2,6,14,16,1,6,9,13,10,14,11,1,10,1,12,2,6,8,3,10,2,10,8,3,6,5,12,5,3,2,1,12,7,9,6,10,2,15,8,2,12,5,7,11,15,6,9,4,8,1,4,2,2,11,7,17,10,11,12,9,10,4,8,2,11,6,5,14,5,4,1,2,17,2,8,3,17,14,10,5,15,9,10,5,6,2,1,1,11,9,5,12,10,10,6,14,5,7,9,8,16,2,16,3,5,7,7,3,12,3,1,17,12,17,4,3,4,13,1,10,3,7,8,10,9,11,12,9,3,2,2,3,5,4,9,11,8,5,4,6,6,10,5,5,18,1,4,11,13,4,2,5,8,7,8,13,2,11,9,1,9,6,10,5,4,13,8,11,1,7,1,15,7,4,5,1,17,5,8,13,9,7,4,14,6,6,3,11,4,5,4,11,5,7,5,11,12,10,5,7,18,13,10,8,4,14,10,7,3,4,15,15,2,1,2,15,11,9,6,3,3,10,3,8,8,3,2,10,6,12,12,2,13,4,1,9,6,4,1,13,10,6,11,16,2,9,1,3,7,8,12,4,6,11,12,11,7,9,7,7,9,10,16,9,7,3,8,6,2,12,11,4,13,9,4,13,12,6,4,7,5,5,3,12,11,1,10,7,8,9,1,1,8,3,14,15,10,3,2,3,2,7,4,12,2,1,2,5,15,2,2,10,8,5,5,1,10,11,11,1,1,15,15,7,8,15,8,16,12,11,9,6,3,2,5,8,9,13,4,5,11,7,13,11,11,6,13,13,7,4,8,14,2,10,6,4,8,14,4,5,1,13,1,1,2,8,1,7,3,5,2,10,16,3,14,15,7,6,9,13,8,11,9,3,13,3,5,14,6,8,4,6,13,5,4,1,12,8,9,6,15,12,11,7,7,1,10,9,4,2,5,2,3,9,3,8,8,6,1,1,13,3,16,14,5,3,6,1,4,12,14,7,7,10,11,2,10,6,17,11,7,14,4,4,3,9,9,1,10,14,7,6,5,6,8,4,4,12,10,3,12,14,8,6,5,7,7,16,8,12],\"coloraxis\":\"coloraxis\",\"symbol\":\"circle\"},\"mode\":\"markers\",\"name\":\"\",\"orientation\":\"v\",\"showlegend\":false,\"x\":[\"2023-12-01T00:00:00\",\"2024-08-01T00:00:00\",\"2023-10-01T00:00:00\",\"2024-01-01T00:00:00\",\"2023-11-01T00:00:00\",\"2024-02-01T00:00:00\",\"2023-07-01T00:00:00\",\"2024-05-01T00:00:00\",\"2023-05-01T00:00:00\",\"2024-06-01T00:00:00\",\"2024-03-01T00:00:00\",\"2024-07-01T00:00:00\",\"2024-04-01T00:00:00\",\"2024-01-01T00:00:00\",\"2024-04-01T00:00:00\",\"2023-10-01T00:00:00\",\"2023-06-01T00:00:00\",\"2024-05-01T00:00:00\",\"2024-05-01T00:00:00\",\"2024-07-01T00:00:00\",\"2024-02-01T00:00:00\",\"2024-05-01T00:00:00\",\"2024-08-01T00:00:00\",\"2023-03-01T00:00:00\",\"2023-06-01T00:00:00\",\"2023-10-01T00:00:00\",\"2024-04-01T00:00:00\",\"2024-02-01T00:00:00\",\"2023-06-01T00:00:00\",\"2024-04-01T00:00:00\",\"2023-11-01T00:00:00\",\"2024-07-01T00:00:00\",\"2023-12-01T00:00:00\",\"2023-07-01T00:00:00\",\"2023-08-01T00:00:00\",\"2023-10-01T00:00:00\",\"2024-08-01T00:00:00\",\"2024-08-01T00:00:00\",\"2023-07-01T00:00:00\",\"2024-03-01T00:00:00\",\"2024-03-01T00:00:00\",\"2024-05-01T00:00:00\",\"2023-11-01T00:00:00\",\"2023-10-01T00:00:00\",\"2024-07-01T00:00:00\",\"2023-08-01T00:00:00\",\"2024-05-01T00:00:00\",\"2024-01-01T00:00:00\",\"2024-07-01T00:00:00\",\"2024-01-01T00:00:00\",\"2024-08-01T00:00:00\",\"2024-02-01T00:00:00\",\"2023-12-01T00:00:00\",\"2024-01-01T00:00:00\",\"2024-07-01T00:00:00\",\"2024-08-01T00:00:00\",\"2023-08-01T00:00:00\",\"2023-12-01T00:00:00\",\"2023-10-01T00:00:00\",\"2024-04-01T00:00:00\",\"2024-01-01T00:00:00\",\"2024-03-01T00:00:00\",\"2024-08-01T00:00:00\",\"2023-01-01T00:00:00\",\"2024-03-01T00:00:00\",\"2023-04-01T00:00:00\",\"2024-06-01T00:00:00\",\"2023-07-01T00:00:00\",\"2023-07-01T00:00:00\",\"2024-06-01T00:00:00\",\"2023-07-01T00:00:00\",\"2024-07-01T00:00:00\",\"2023-05-01T00:00:00\",\"2024-06-01T00:00:00\",\"2023-11-01T00:00:00\",\"2024-01-01T00:00:00\",\"2023-09-01T00:00:00\",\"2023-08-01T00:00:00\",\"2024-07-01T00:00:00\",\"2023-10-01T00:00:00\",\"2023-06-01T00:00:00\",\"2023-11-01T00:00:00\",\"2023-12-01T00:00:00\",\"2024-04-01T00:00:00\",\"2024-02-01T00:00:00\",\"2024-06-01T00:00:00\",\"2023-12-01T00:00:00\",\"2024-01-01T00:00:00\",\"2024-01-01T00:00:00\",\"2024-08-01T00:00:00\",\"2024-01-01T00:00:00\",\"2023-08-01T00:00:00\",\"2024-06-01T00:00:00\",\"2023-09-01T00:00:00\",\"2024-04-01T00:00:00\",\"2024-05-01T00:00:00\",\"2024-03-01T00:00:00\",\"2024-01-01T00:00:00\",\"2024-02-01T00:00:00\",\"2024-03-01T00:00:00\",\"2024-05-01T00:00:00\",\"2023-05-01T00:00:00\",\"2023-10-01T00:00:00\",\"2023-09-01T00:00:00\",\"2023-10-01T00:00:00\",\"2024-03-01T00:00:00\",\"2024-02-01T00:00:00\",\"2024-05-01T00:00:00\",\"2024-04-01T00:00:00\",\"2024-07-01T00:00:00\",\"2024-07-01T00:00:00\",\"2024-03-01T00:00:00\",\"2024-02-01T00:00:00\",\"2023-05-01T00:00:00\",\"2024-02-01T00:00:00\",\"2023-04-01T00:00:00\",\"2024-05-01T00:00:00\",\"2023-08-01T00:00:00\",\"2023-10-01T00:00:00\",\"2024-07-01T00:00:00\",\"2024-02-01T00:00:00\",\"2023-12-01T00:00:00\",\"2023-07-01T00:00:00\",\"2023-03-01T00:00:00\",\"2024-07-01T00:00:00\",\"2023-07-01T00:00:00\",\"2024-03-01T00:00:00\",\"2023-10-01T00:00:00\",\"2024-08-01T00:00:00\",\"2024-05-01T00:00:00\",\"2024-08-01T00:00:00\",\"2023-09-01T00:00:00\",\"2024-04-01T00:00:00\",\"2024-01-01T00:00:00\",\"2024-08-01T00:00:00\",\"2023-08-01T00:00:00\",\"2024-02-01T00:00:00\",\"2023-02-01T00:00:00\",\"2023-09-01T00:00:00\",\"2023-11-01T00:00:00\",\"2024-05-01T00:00:00\",\"2023-12-01T00:00:00\",\"2023-12-01T00:00:00\",\"2024-07-01T00:00:00\",\"2024-08-01T00:00:00\",\"2024-04-01T00:00:00\",\"2024-04-01T00:00:00\",\"2024-06-01T00:00:00\",\"2023-11-01T00:00:00\",\"2024-01-01T00:00:00\",\"2024-05-01T00:00:00\",\"2023-11-01T00:00:00\",\"2024-07-01T00:00:00\",\"2023-07-01T00:00:00\",\"2024-05-01T00:00:00\",\"2023-04-01T00:00:00\",\"2023-06-01T00:00:00\",\"2024-03-01T00:00:00\",\"2024-01-01T00:00:00\",\"2024-02-01T00:00:00\",\"2024-05-01T00:00:00\",\"2023-09-01T00:00:00\",\"2023-06-01T00:00:00\",\"2024-06-01T00:00:00\",\"2024-08-01T00:00:00\",\"2024-08-01T00:00:00\",\"2023-12-01T00:00:00\",\"2023-07-01T00:00:00\",\"2023-11-01T00:00:00\",\"2024-08-01T00:00:00\",\"2023-03-01T00:00:00\",\"2024-06-01T00:00:00\",\"2023-11-01T00:00:00\",\"2024-05-01T00:00:00\",\"2024-07-01T00:00:00\",\"2024-04-01T00:00:00\",\"2024-02-01T00:00:00\",\"2024-01-01T00:00:00\",\"2024-08-01T00:00:00\",\"2024-05-01T00:00:00\",\"2023-09-01T00:00:00\",\"2023-06-01T00:00:00\",\"2023-11-01T00:00:00\",\"2023-10-01T00:00:00\",\"2024-01-01T00:00:00\",\"2024-02-01T00:00:00\",\"2024-08-01T00:00:00\",\"2024-06-01T00:00:00\",\"2024-04-01T00:00:00\",\"2024-03-01T00:00:00\",\"2023-09-01T00:00:00\",\"2024-01-01T00:00:00\",\"2023-12-01T00:00:00\",\"2024-05-01T00:00:00\",\"2024-01-01T00:00:00\",\"2024-02-01T00:00:00\",\"2024-07-01T00:00:00\",\"2023-10-01T00:00:00\",\"2024-01-01T00:00:00\",\"2024-08-01T00:00:00\",\"2024-05-01T00:00:00\",\"2023-09-01T00:00:00\",\"2024-01-01T00:00:00\",\"2024-04-01T00:00:00\",\"2023-11-01T00:00:00\",\"2023-09-01T00:00:00\",\"2024-07-01T00:00:00\",\"2024-04-01T00:00:00\",\"2023-05-01T00:00:00\",\"2024-02-01T00:00:00\",\"2024-03-01T00:00:00\",\"2023-10-01T00:00:00\",\"2024-05-01T00:00:00\",\"2023-10-01T00:00:00\",\"2023-12-01T00:00:00\",\"2024-04-01T00:00:00\",\"2024-01-01T00:00:00\",\"2024-02-01T00:00:00\",\"2023-10-01T00:00:00\",\"2024-04-01T00:00:00\",\"2023-09-01T00:00:00\",\"2023-08-01T00:00:00\",\"2023-04-01T00:00:00\",\"2024-07-01T00:00:00\",\"2024-05-01T00:00:00\",\"2023-08-01T00:00:00\",\"2024-04-01T00:00:00\",\"2023-07-01T00:00:00\",\"2024-08-01T00:00:00\",\"2023-10-01T00:00:00\",\"2023-09-01T00:00:00\",\"2024-05-01T00:00:00\",\"2024-02-01T00:00:00\",\"2024-03-01T00:00:00\",\"2024-02-01T00:00:00\",\"2024-05-01T00:00:00\",\"2023-09-01T00:00:00\",\"2024-05-01T00:00:00\",\"2023-11-01T00:00:00\",\"2024-04-01T00:00:00\",\"2023-10-01T00:00:00\",\"2024-01-01T00:00:00\",\"2023-12-01T00:00:00\",\"2024-02-01T00:00:00\",\"2024-04-01T00:00:00\",\"2024-03-01T00:00:00\",\"2024-03-01T00:00:00\",\"2024-02-01T00:00:00\",\"2024-05-01T00:00:00\",\"2023-10-01T00:00:00\",\"2023-10-01T00:00:00\",\"2024-01-01T00:00:00\",\"2024-06-01T00:00:00\",\"2024-01-01T00:00:00\",\"2024-07-01T00:00:00\",\"2023-12-01T00:00:00\",\"2023-09-01T00:00:00\",\"2024-08-01T00:00:00\",\"2024-03-01T00:00:00\",\"2023-07-01T00:00:00\",\"2024-02-01T00:00:00\",\"2023-08-01T00:00:00\",\"2024-06-01T00:00:00\",\"2024-05-01T00:00:00\",\"2023-08-01T00:00:00\",\"2023-08-01T00:00:00\",\"2023-05-01T00:00:00\",\"2024-07-01T00:00:00\",\"2024-03-01T00:00:00\",\"2023-12-01T00:00:00\",\"2023-09-01T00:00:00\",\"2023-08-01T00:00:00\",\"2023-12-01T00:00:00\",\"2024-02-01T00:00:00\",\"2023-06-01T00:00:00\",\"2024-07-01T00:00:00\",\"2024-04-01T00:00:00\",\"2024-01-01T00:00:00\",\"2023-10-01T00:00:00\",\"2023-11-01T00:00:00\",\"2023-10-01T00:00:00\",\"2024-06-01T00:00:00\",\"2024-07-01T00:00:00\",\"2023-05-01T00:00:00\",\"2024-06-01T00:00:00\",\"2023-08-01T00:00:00\",\"2023-02-01T00:00:00\",\"2024-06-01T00:00:00\",\"2024-04-01T00:00:00\",\"2024-03-01T00:00:00\",\"2023-08-01T00:00:00\",\"2024-07-01T00:00:00\",\"2024-03-01T00:00:00\",\"2024-01-01T00:00:00\",\"2024-06-01T00:00:00\",\"2024-08-01T00:00:00\",\"2023-11-01T00:00:00\",\"2024-08-01T00:00:00\",\"2023-06-01T00:00:00\",\"2023-08-01T00:00:00\",\"2023-11-01T00:00:00\",\"2023-12-01T00:00:00\",\"2023-12-01T00:00:00\",\"2023-11-01T00:00:00\",\"2024-05-01T00:00:00\",\"2024-08-01T00:00:00\",\"2024-04-01T00:00:00\",\"2024-06-01T00:00:00\",\"2023-12-01T00:00:00\",\"2023-12-01T00:00:00\",\"2023-12-01T00:00:00\",\"2023-10-01T00:00:00\",\"2024-07-01T00:00:00\",\"2024-04-01T00:00:00\",\"2024-08-01T00:00:00\",\"2024-01-01T00:00:00\",\"2024-04-01T00:00:00\",\"2023-11-01T00:00:00\",\"2024-04-01T00:00:00\",\"2024-03-01T00:00:00\",\"2023-12-01T00:00:00\",\"2024-04-01T00:00:00\",\"2024-03-01T00:00:00\",\"2023-06-01T00:00:00\",\"2024-07-01T00:00:00\",\"2024-08-01T00:00:00\",\"2023-07-01T00:00:00\",\"2024-08-01T00:00:00\",\"2024-08-01T00:00:00\",\"2024-03-01T00:00:00\",\"2023-07-01T00:00:00\",\"2023-12-01T00:00:00\",\"2023-05-01T00:00:00\",\"2023-12-01T00:00:00\",\"2023-05-01T00:00:00\",\"2024-03-01T00:00:00\",\"2023-12-01T00:00:00\",\"2023-06-01T00:00:00\",\"2024-02-01T00:00:00\",\"2024-05-01T00:00:00\",\"2023-08-01T00:00:00\",\"2024-06-01T00:00:00\",\"2023-12-01T00:00:00\",\"2023-12-01T00:00:00\",\"2024-03-01T00:00:00\",\"2024-02-01T00:00:00\",\"2024-08-01T00:00:00\",\"2024-08-01T00:00:00\",\"2024-05-01T00:00:00\",\"2024-01-01T00:00:00\",\"2023-09-01T00:00:00\",\"2023-11-01T00:00:00\",\"2023-11-01T00:00:00\",\"2024-06-01T00:00:00\",\"2023-04-01T00:00:00\",\"2024-01-01T00:00:00\",\"2023-10-01T00:00:00\",\"2023-06-01T00:00:00\",\"2023-12-01T00:00:00\",\"2023-12-01T00:00:00\",\"2024-07-01T00:00:00\",\"2023-06-01T00:00:00\",\"2023-09-01T00:00:00\",\"2024-08-01T00:00:00\",\"2024-01-01T00:00:00\",\"2024-02-01T00:00:00\",\"2024-03-01T00:00:00\",\"2023-08-01T00:00:00\",\"2024-05-01T00:00:00\",\"2024-07-01T00:00:00\",\"2024-02-01T00:00:00\",\"2023-04-01T00:00:00\",\"2023-04-01T00:00:00\",\"2024-07-01T00:00:00\",\"2024-06-01T00:00:00\",\"2024-03-01T00:00:00\",\"2024-03-01T00:00:00\",\"2024-06-01T00:00:00\",\"2024-05-01T00:00:00\",\"2024-04-01T00:00:00\",\"2024-02-01T00:00:00\",\"2024-04-01T00:00:00\",\"2023-09-01T00:00:00\",\"2024-02-01T00:00:00\",\"2023-09-01T00:00:00\",\"2023-07-01T00:00:00\",\"2023-07-01T00:00:00\",\"2024-06-01T00:00:00\",\"2024-07-01T00:00:00\",\"2024-03-01T00:00:00\",\"2023-07-01T00:00:00\",\"2023-11-01T00:00:00\",\"2024-06-01T00:00:00\",\"2024-04-01T00:00:00\",\"2024-06-01T00:00:00\",\"2024-03-01T00:00:00\",\"2024-07-01T00:00:00\",\"2024-04-01T00:00:00\",\"2024-08-01T00:00:00\",\"2024-06-01T00:00:00\",\"2024-02-01T00:00:00\",\"2024-03-01T00:00:00\",\"2023-12-01T00:00:00\",\"2024-06-01T00:00:00\",\"2023-08-01T00:00:00\",\"2024-01-01T00:00:00\",\"2023-11-01T00:00:00\",\"2024-01-01T00:00:00\",\"2024-05-01T00:00:00\",\"2024-06-01T00:00:00\",\"2023-10-01T00:00:00\",\"2023-09-01T00:00:00\",\"2023-09-01T00:00:00\",\"2024-04-01T00:00:00\",\"2023-05-01T00:00:00\",\"2023-09-01T00:00:00\",\"2024-01-01T00:00:00\",\"2024-04-01T00:00:00\",\"2023-05-01T00:00:00\",\"2024-06-01T00:00:00\",\"2023-10-01T00:00:00\",\"2023-12-01T00:00:00\",\"2023-12-01T00:00:00\",\"2024-07-01T00:00:00\",\"2024-07-01T00:00:00\",\"2024-01-01T00:00:00\",\"2024-02-01T00:00:00\",\"2024-06-01T00:00:00\",\"2023-11-01T00:00:00\",\"2023-10-01T00:00:00\",\"2024-01-01T00:00:00\",\"2024-05-01T00:00:00\",\"2024-07-01T00:00:00\",\"2024-08-01T00:00:00\",\"2024-03-01T00:00:00\",\"2023-12-01T00:00:00\",\"2024-07-01T00:00:00\",\"2023-12-01T00:00:00\",\"2023-09-01T00:00:00\",\"2024-06-01T00:00:00\",\"2023-10-01T00:00:00\",\"2023-11-01T00:00:00\",\"2023-08-01T00:00:00\",\"2024-05-01T00:00:00\",\"2024-07-01T00:00:00\",\"2024-03-01T00:00:00\",\"2024-01-01T00:00:00\",\"2023-11-01T00:00:00\",\"2024-05-01T00:00:00\",\"2024-06-01T00:00:00\",\"2024-04-01T00:00:00\",\"2024-02-01T00:00:00\",\"2024-08-01T00:00:00\",\"2024-03-01T00:00:00\",\"2024-05-01T00:00:00\",\"2024-04-01T00:00:00\",\"2023-11-01T00:00:00\",\"2023-10-01T00:00:00\",\"2024-06-01T00:00:00\",\"2024-07-01T00:00:00\",\"2024-02-01T00:00:00\",\"2023-06-01T00:00:00\",\"2023-08-01T00:00:00\",\"2024-01-01T00:00:00\",\"2023-09-01T00:00:00\",\"2024-07-01T00:00:00\",\"2023-06-01T00:00:00\",\"2024-02-01T00:00:00\",\"2023-12-01T00:00:00\",\"2023-09-01T00:00:00\",\"2023-11-01T00:00:00\",\"2023-10-01T00:00:00\",\"2024-06-01T00:00:00\",\"2023-08-01T00:00:00\",\"2024-06-01T00:00:00\",\"2024-05-01T00:00:00\",\"2024-01-01T00:00:00\",\"2024-02-01T00:00:00\",\"2023-11-01T00:00:00\",\"2023-11-01T00:00:00\",\"2023-07-01T00:00:00\",\"2024-04-01T00:00:00\",\"2024-08-01T00:00:00\",\"2024-06-01T00:00:00\",\"2024-02-01T00:00:00\",\"2024-01-01T00:00:00\",\"2023-11-01T00:00:00\",\"2023-09-01T00:00:00\",\"2024-03-01T00:00:00\",\"2023-11-01T00:00:00\",\"2024-08-01T00:00:00\",\"2024-04-01T00:00:00\",\"2023-10-01T00:00:00\",\"2024-05-01T00:00:00\",\"2023-11-01T00:00:00\",\"2023-09-01T00:00:00\",\"2023-07-01T00:00:00\",\"2023-12-01T00:00:00\",\"2024-06-01T00:00:00\",\"2023-12-01T00:00:00\",\"2024-02-01T00:00:00\",\"2024-08-01T00:00:00\",\"2023-11-01T00:00:00\",\"2024-03-01T00:00:00\",\"2023-08-01T00:00:00\",\"2024-04-01T00:00:00\",\"2024-06-01T00:00:00\",\"2023-11-01T00:00:00\",\"2024-03-01T00:00:00\",\"2024-08-01T00:00:00\",\"2024-06-01T00:00:00\",\"2023-12-01T00:00:00\",\"2024-03-01T00:00:00\",\"2024-04-01T00:00:00\",\"2024-02-01T00:00:00\",\"2024-05-01T00:00:00\",\"2023-11-01T00:00:00\",\"2024-06-01T00:00:00\",\"2023-12-01T00:00:00\",\"2024-07-01T00:00:00\",\"2024-02-01T00:00:00\",\"2024-03-01T00:00:00\"],\"xaxis\":\"x\",\"y\":[88501.98084743075,113707.5764119321,141118.72032595918,98341.72852753189,124329.00168670202,107132.00416822512,155017.2355882723,134564.90255661728,65153.6543177359,89608.975755027,117195.77025733607,110180.93250086869,100287.56576602944,94120.6493912076,111315.18211071806,100079.04597593374,102724.48748660403,106206.7013255938,102547.76559833655,137574.4785363841,101819.31231503472,77623.36679837354,141814.1833852174,98687.59679329234,86989.3806302287,85890.91571772427,78132.7842076388,95093.39409362074,103214.48675367737,109295.3729516639,88578.20973251574,132753.48815562797,114201.53624511484,105342.14612552588,128490.20396876968,117999.39275956473,112310.47242532804,148029.98366881764,164113.4549471739,122971.72395618302,126907.0749262658,105962.41122874252,104229.97987335175,119747.01400810198,110379.13224039457,111494.56982726458,101298.90879591032,98483.28929043526,112023.96666861468,75733.8569775879,177638.74438802933,101954.62628628188,118709.34435406284,90066.70056661303,197259.1881500642,170602.90235585655,126755.80031496196,117356.30915470234,88093.83493749904,88052.6178170916,100252.48635976078,86900.28250843861,160036.0217267978,93305.41195705684,115299.2380174689,89326.18250989637,115601.23905965449,120891.10914256156,103323.49121642952,145367.16791762016,117135.119244879,153425.50651216877,61568.3147216696,87640.49745192271,120285.23478109986,100131.72107384737,110325.1401986213,144580.20975554027,134171.51423368423,86099.03909147387,102535.31613922516,95885.53983470786,118097.07204376029,106578.56837007524,89852.3030242469,125314.3839690258,135762.70812931072,93243.5993880412,110278.62140243805,139056.1174219288,96930.70492678652,136642.0220510263,124601.00699705958,87677.01413044533,104915.52517492628,105517.56916931392,89796.40631195447,113014.18613506538,94104.77595481998,131411.3614500783,119252.52795298264,83690.45582089346,121120.50682323908,112370.00767685787,129990.5610906636,80551.93628138267,85584.64612882718,80397.44456350169,107249.70813319836,192803.4588973638,195451.84676232983,124139.87663917472,98323.67056601198,62573.01116676615,116242.88712734268,73582.72631404124,114949.31624084224,99876.9633444259,123855.6122736688,144997.22349980343,105314.83493848795,124534.64854631574,132802.84979086946,90107.70995138798,110013.10519291573,128160.34402742216,97843.11595686308,111288.97345865816,141602.88005747896,105434.32994049152,159584.44663553528,110959.96962129524,80817.15757318126,103679.03186829068,183810.26607682795,124890.25342801044,103073.2225931594,97717.1632902218,120999.46155828974,121970.69478487578,79423.8782172122,84164.58416843678,108886.56270105382,109054.27058704036,148819.27758957,79084.86613152765,106730.0870238622,114587.74567208094,110577.51792695904,126995.83594053357,81970.52071706644,94412.60772634397,186678.51857767376,154587.99921677937,78250.83671959743,72773.88662280905,74701.89793589333,89817.77135962123,74471.51973161846,100687.62165927084,103157.84497031724,122635.75769902192,103529.12349170214,89203.2685637062,149125.32865537642,142413.38266797274,118980.49773150629,124726.11711325213,101057.48858879643,141984.11358430225,91615.00243446237,148165.9104878114,129618.58031253912,106460.54578315788,197506.1290447513,111624.67865811248,99979.40251045322,75099.73243669231,156632.90038638073,117813.48441734536,95318.31945484388,103522.975725429,124006.62180127332,120846.79893057096,118519.61030121255,102793.3447936252,178940.68541804564,88403.33137292224,125092.40861128343,117378.3124389533,92666.05039719243,94681.61469503156,81725.89817606434,86728.78984566813,120675.9348941755,92298.41713005028,115468.45820195292,126084.5645399105,115835.11277977882,147819.78492473392,77966.6578676161,110343.89676084496,116359.07015939504,108278.9558775009,89742.85535590339,82310.31127430273,147595.19532586983,106373.58846529668,83502.86532925454,98121.85237271334,85269.12139182552,121639.92526971448,107418.7713443538,84835.71160707677,87405.36128231093,120945.62777501844,112432.93242118742,70754.04724749472,87961.86795629108,81096.25233339494,127290.84593901083,99729.75261792936,68646.15665826356,141457.71401160024,107125.8069116835,143457.10903157614,111529.82104823156,129327.5719429736,111659.80450436556,117100.57982756874,86485.62761265184,106023.81264982247,72863.2487103961,139096.4659971522,93677.99309468812,76437.72870547925,114647.3000720369,102461.25421670088,122237.48595127383,110091.75721477016,83273.22785612638,77898.31060747555,119883.53536039028,94690.39232359613,108047.55705154856,124762.12069192856,125719.375819792,71778.36858857777,106343.5574358932,88778.05470714028,119831.38106509068,95511.16179570784,92761.09196816666,76511.46518376099,196765.61421017707,103659.42945827782,121562.9227450268,190959.3318106439,121479.43512703967,111452.2518244556,102136.81708071016,125082.58648686927,119448.2484262651,77118.19022253784,164407.21056985873,124537.24252943024,94688.5470149684,109968.16043193842,115184.6770636463,110444.38518575572,118492.8164652904,142187.24361047044,110233.0949690583,70490.00677873123,77542.83860113761,161958.99298392746,79252.53488160246,113094.50717063886,136970.37119940232,90489.39977620648,114065.3589150164,147986.0935208331,146324.65191098515,89216.89694413806,133906.36744692322,129541.47376611196,83771.57727182,133695.5592279342,112230.604163759,125040.72040557078,149687.71189365094,130581.54720714792,105314.95769445728,98436.04314585378,117997.27394294844,140563.90099879057,121212.36335627886,144983.0743278099,100746.93256713444,110640.1004307865,95697.32870480292,84869.2607737719,85990.76553751601,104079.73098748933,110572.3884334634,175268.36802616945,105473.77176900551,142096.73548854276,108778.90343813114,99560.373771788,88424.11435065865,121099.83439280948,192197.3399801167,114951.34383287448,110018.0476878707,71299.2213569311,119489.73086882342,86802.02962780668,113974.59029180698,124853.86161953324,116074.2442006878,106042.30016787432,106079.39385933112,76900.6057197493,217144.79456702128,160379.53045628392,151494.64257842422,108851.42453228132,113215.78278491984,115860.61600054197,124535.36491013326,109377.47542659884,68287.03158963329,102457.71941448208,62344.70209994436,87135.24547497192,87665.12765482102,106149.940852938,91984.27489203194,118792.19464558644,106048.06145230342,146341.6546482559,119116.2198565555,123999.83277674076,122668.19218457631,92326.21358536326,139322.94288152843,174576.4489586103,100985.17345960316,96210.6860985368,110945.92895493296,122397.4529141554,114679.02061279531,146704.65365275304,78876.9693876405,76947.00118014547,122633.88996074864,78966.52374724094,113537.31098168812,118100.00407294184,192641.39817957164,77714.7690366838,119273.73802354698,143642.54351886574,103137.41286331908,98536.57982259104,116379.4184989333,129471.66913753316,105202.10784613177,148664.050400077,93172.45174777822,98344.01030362085,89660.96183582816,133757.47649543316,86233.58329110095,134186.88272996157,113404.27468486874,129295.41675097296,106464.6167103108,81746.0985485621,72452.9082336415,98086.06140373011,93179.3723352711,115378.3394279767,119541.48114042736,102139.7104487644,99344.9862122996,129084.14884705032,148362.36154531594,86432.66512289883,101298.2515005548,83650.14213181069,124279.58089808973,105104.97060181569,115395.77771703187,117975.01983018086,164736.9176929537,106130.46451773329,146724.56267084967,122986.82032531928,95703.27758348903,119435.13068413224,115895.50587250074,119456.08438495216,129733.44747862584,75774.66082591508,119338.9417217697,94706.86596937578,106269.2377085957,84989.4327106381,117607.90015322124,119992.5405472992,108799.71992396424,111163.91874216271,80128.75823500792,128964.75845843744,93921.86342172584,113470.4781135052,87380.17930675534,125515.24672989103,111700.63870651888,117070.6717104588,112342.45228704116,147389.66457339533,141247.99153960176,112375.24271850828,68600.41096584198,119247.94276869368,108844.75684532207,119382.34537522042,93443.83672559986,100422.0527192416,133153.01312357443,142240.46967431647,109252.37767035344,113179.86523047028,114083.3397935353,117924.21723255044,114841.2139866357,136010.79670132854,116370.83350741232,108138.55990599052,117076.7515222838,105723.22728145048,146652.04278574273,115677.06662409422,99319.79825941952,115518.3171240809,103944.0151117726,112711.806763189,90960.6921507164,70375.33715010923,145362.46642125671,117321.63884340142,104555.41529324408,112289.565998706,85254.72686216477,126566.5476551212,134894.7149294735,133066.05290165186,92193.7753273158,106875.69397735862,99009.5072553221,99497.32106223857,139429.07933252642,144658.89458624405,105080.02230269124,103270.96852997904,111079.00026903804,83065.34743221258,120835.5998223976,109984.21211662985,88269.66674994525,128525.58694887544,88521.90450917228,87457.32503045785,100407.23666233616,108586.83817362395,82434.21714641221,111714.82095149226,117202.13646481172,75104.8129919284,147057.91832139497,131595.17056100446,102973.40153416006,98632.31266436396,89829.34363520118,112294.08679479182,83240.20492172701,110250.51506120656,169017.99593943558,110147.56981107008,121837.48061407146,100215.49195872304,120389.02742566126,118292.98799647795,103240.08706059406,115696.84939068204,110592.50507403232,108682.78735294608,95461.61426436728,113563.51303936852,120482.3104071786,123767.9492839931,129169.52945931288,111647.9686179718,126260.28524803097,113659.40806447944,125324.46648939888,189266.7908581033,126557.61189174664,125813.17855109712,106959.84797386714,78286.7437387145,72199.90257308129,127379.63693982984,120668.70009411708,117196.24273243772,119373.60052585127,131640.82876565965,94710.203286803,117771.62078114226],\"yaxis\":\"y\",\"type\":\"scatter\"}],                        {\"template\":{\"data\":{\"histogram2dcontour\":[{\"type\":\"histogram2dcontour\",\"colorbar\":{\"outlinewidth\":0,\"ticks\":\"\"},\"colorscale\":[[0.0,\"#0d0887\"],[0.1111111111111111,\"#46039f\"],[0.2222222222222222,\"#7201a8\"],[0.3333333333333333,\"#9c179e\"],[0.4444444444444444,\"#bd3786\"],[0.5555555555555556,\"#d8576b\"],[0.6666666666666666,\"#ed7953\"],[0.7777777777777778,\"#fb9f3a\"],[0.8888888888888888,\"#fdca26\"],[1.0,\"#f0f921\"]]}],\"choropleth\":[{\"type\":\"choropleth\",\"colorbar\":{\"outlinewidth\":0,\"ticks\":\"\"}}],\"histogram2d\":[{\"type\":\"histogram2d\",\"colorbar\":{\"outlinewidth\":0,\"ticks\":\"\"},\"colorscale\":[[0.0,\"#0d0887\"],[0.1111111111111111,\"#46039f\"],[0.2222222222222222,\"#7201a8\"],[0.3333333333333333,\"#9c179e\"],[0.4444444444444444,\"#bd3786\"],[0.5555555555555556,\"#d8576b\"],[0.6666666666666666,\"#ed7953\"],[0.7777777777777778,\"#fb9f3a\"],[0.8888888888888888,\"#fdca26\"],[1.0,\"#f0f921\"]]}],\"heatmap\":[{\"type\":\"heatmap\",\"colorbar\":{\"outlinewidth\":0,\"ticks\":\"\"},\"colorscale\":[[0.0,\"#0d0887\"],[0.1111111111111111,\"#46039f\"],[0.2222222222222222,\"#7201a8\"],[0.3333333333333333,\"#9c179e\"],[0.4444444444444444,\"#bd3786\"],[0.5555555555555556,\"#d8576b\"],[0.6666666666666666,\"#ed7953\"],[0.7777777777777778,\"#fb9f3a\"],[0.8888888888888888,\"#fdca26\"],[1.0,\"#f0f921\"]]}],\"heatmapgl\":[{\"type\":\"heatmapgl\",\"colorbar\":{\"outlinewidth\":0,\"ticks\":\"\"},\"colorscale\":[[0.0,\"#0d0887\"],[0.1111111111111111,\"#46039f\"],[0.2222222222222222,\"#7201a8\"],[0.3333333333333333,\"#9c179e\"],[0.4444444444444444,\"#bd3786\"],[0.5555555555555556,\"#d8576b\"],[0.6666666666666666,\"#ed7953\"],[0.7777777777777778,\"#fb9f3a\"],[0.8888888888888888,\"#fdca26\"],[1.0,\"#f0f921\"]]}],\"contourcarpet\":[{\"type\":\"contourcarpet\",\"colorbar\":{\"outlinewidth\":0,\"ticks\":\"\"}}],\"contour\":[{\"type\":\"contour\",\"colorbar\":{\"outlinewidth\":0,\"ticks\":\"\"},\"colorscale\":[[0.0,\"#0d0887\"],[0.1111111111111111,\"#46039f\"],[0.2222222222222222,\"#7201a8\"],[0.3333333333333333,\"#9c179e\"],[0.4444444444444444,\"#bd3786\"],[0.5555555555555556,\"#d8576b\"],[0.6666666666666666,\"#ed7953\"],[0.7777777777777778,\"#fb9f3a\"],[0.8888888888888888,\"#fdca26\"],[1.0,\"#f0f921\"]]}],\"surface\":[{\"type\":\"surface\",\"colorbar\":{\"outlinewidth\":0,\"ticks\":\"\"},\"colorscale\":[[0.0,\"#0d0887\"],[0.1111111111111111,\"#46039f\"],[0.2222222222222222,\"#7201a8\"],[0.3333333333333333,\"#9c179e\"],[0.4444444444444444,\"#bd3786\"],[0.5555555555555556,\"#d8576b\"],[0.6666666666666666,\"#ed7953\"],[0.7777777777777778,\"#fb9f3a\"],[0.8888888888888888,\"#fdca26\"],[1.0,\"#f0f921\"]]}],\"mesh3d\":[{\"type\":\"mesh3d\",\"colorbar\":{\"outlinewidth\":0,\"ticks\":\"\"}}],\"scatter\":[{\"fillpattern\":{\"fillmode\":\"overlay\",\"size\":10,\"solidity\":0.2},\"type\":\"scatter\"}],\"parcoords\":[{\"type\":\"parcoords\",\"line\":{\"colorbar\":{\"outlinewidth\":0,\"ticks\":\"\"}}}],\"scatterpolargl\":[{\"type\":\"scatterpolargl\",\"marker\":{\"colorbar\":{\"outlinewidth\":0,\"ticks\":\"\"}}}],\"bar\":[{\"error_x\":{\"color\":\"#2a3f5f\"},\"error_y\":{\"color\":\"#2a3f5f\"},\"marker\":{\"line\":{\"color\":\"#E5ECF6\",\"width\":0.5},\"pattern\":{\"fillmode\":\"overlay\",\"size\":10,\"solidity\":0.2}},\"type\":\"bar\"}],\"scattergeo\":[{\"type\":\"scattergeo\",\"marker\":{\"colorbar\":{\"outlinewidth\":0,\"ticks\":\"\"}}}],\"scatterpolar\":[{\"type\":\"scatterpolar\",\"marker\":{\"colorbar\":{\"outlinewidth\":0,\"ticks\":\"\"}}}],\"histogram\":[{\"marker\":{\"pattern\":{\"fillmode\":\"overlay\",\"size\":10,\"solidity\":0.2}},\"type\":\"histogram\"}],\"scattergl\":[{\"type\":\"scattergl\",\"marker\":{\"colorbar\":{\"outlinewidth\":0,\"ticks\":\"\"}}}],\"scatter3d\":[{\"type\":\"scatter3d\",\"line\":{\"colorbar\":{\"outlinewidth\":0,\"ticks\":\"\"}},\"marker\":{\"colorbar\":{\"outlinewidth\":0,\"ticks\":\"\"}}}],\"scattermapbox\":[{\"type\":\"scattermapbox\",\"marker\":{\"colorbar\":{\"outlinewidth\":0,\"ticks\":\"\"}}}],\"scatterternary\":[{\"type\":\"scatterternary\",\"marker\":{\"colorbar\":{\"outlinewidth\":0,\"ticks\":\"\"}}}],\"scattercarpet\":[{\"type\":\"scattercarpet\",\"marker\":{\"colorbar\":{\"outlinewidth\":0,\"ticks\":\"\"}}}],\"carpet\":[{\"aaxis\":{\"endlinecolor\":\"#2a3f5f\",\"gridcolor\":\"white\",\"linecolor\":\"white\",\"minorgridcolor\":\"white\",\"startlinecolor\":\"#2a3f5f\"},\"baxis\":{\"endlinecolor\":\"#2a3f5f\",\"gridcolor\":\"white\",\"linecolor\":\"white\",\"minorgridcolor\":\"white\",\"startlinecolor\":\"#2a3f5f\"},\"type\":\"carpet\"}],\"table\":[{\"cells\":{\"fill\":{\"color\":\"#EBF0F8\"},\"line\":{\"color\":\"white\"}},\"header\":{\"fill\":{\"color\":\"#C8D4E3\"},\"line\":{\"color\":\"white\"}},\"type\":\"table\"}],\"barpolar\":[{\"marker\":{\"line\":{\"color\":\"#E5ECF6\",\"width\":0.5},\"pattern\":{\"fillmode\":\"overlay\",\"size\":10,\"solidity\":0.2}},\"type\":\"barpolar\"}],\"pie\":[{\"automargin\":true,\"type\":\"pie\"}]},\"layout\":{\"autotypenumbers\":\"strict\",\"colorway\":[\"#636efa\",\"#EF553B\",\"#00cc96\",\"#ab63fa\",\"#FFA15A\",\"#19d3f3\",\"#FF6692\",\"#B6E880\",\"#FF97FF\",\"#FECB52\"],\"font\":{\"color\":\"#2a3f5f\"},\"hovermode\":\"closest\",\"hoverlabel\":{\"align\":\"left\"},\"paper_bgcolor\":\"white\",\"plot_bgcolor\":\"#E5ECF6\",\"polar\":{\"bgcolor\":\"#E5ECF6\",\"angularaxis\":{\"gridcolor\":\"white\",\"linecolor\":\"white\",\"ticks\":\"\"},\"radialaxis\":{\"gridcolor\":\"white\",\"linecolor\":\"white\",\"ticks\":\"\"}},\"ternary\":{\"bgcolor\":\"#E5ECF6\",\"aaxis\":{\"gridcolor\":\"white\",\"linecolor\":\"white\",\"ticks\":\"\"},\"baxis\":{\"gridcolor\":\"white\",\"linecolor\":\"white\",\"ticks\":\"\"},\"caxis\":{\"gridcolor\":\"white\",\"linecolor\":\"white\",\"ticks\":\"\"}},\"coloraxis\":{\"colorbar\":{\"outlinewidth\":0,\"ticks\":\"\"}},\"colorscale\":{\"sequential\":[[0.0,\"#0d0887\"],[0.1111111111111111,\"#46039f\"],[0.2222222222222222,\"#7201a8\"],[0.3333333333333333,\"#9c179e\"],[0.4444444444444444,\"#bd3786\"],[0.5555555555555556,\"#d8576b\"],[0.6666666666666666,\"#ed7953\"],[0.7777777777777778,\"#fb9f3a\"],[0.8888888888888888,\"#fdca26\"],[1.0,\"#f0f921\"]],\"sequentialminus\":[[0.0,\"#0d0887\"],[0.1111111111111111,\"#46039f\"],[0.2222222222222222,\"#7201a8\"],[0.3333333333333333,\"#9c179e\"],[0.4444444444444444,\"#bd3786\"],[0.5555555555555556,\"#d8576b\"],[0.6666666666666666,\"#ed7953\"],[0.7777777777777778,\"#fb9f3a\"],[0.8888888888888888,\"#fdca26\"],[1.0,\"#f0f921\"]],\"diverging\":[[0,\"#8e0152\"],[0.1,\"#c51b7d\"],[0.2,\"#de77ae\"],[0.3,\"#f1b6da\"],[0.4,\"#fde0ef\"],[0.5,\"#f7f7f7\"],[0.6,\"#e6f5d0\"],[0.7,\"#b8e186\"],[0.8,\"#7fbc41\"],[0.9,\"#4d9221\"],[1,\"#276419\"]]},\"xaxis\":{\"gridcolor\":\"white\",\"linecolor\":\"white\",\"ticks\":\"\",\"title\":{\"standoff\":15},\"zerolinecolor\":\"white\",\"automargin\":true,\"zerolinewidth\":2},\"yaxis\":{\"gridcolor\":\"white\",\"linecolor\":\"white\",\"ticks\":\"\",\"title\":{\"standoff\":15},\"zerolinecolor\":\"white\",\"automargin\":true,\"zerolinewidth\":2},\"scene\":{\"xaxis\":{\"backgroundcolor\":\"#E5ECF6\",\"gridcolor\":\"white\",\"linecolor\":\"white\",\"showbackground\":true,\"ticks\":\"\",\"zerolinecolor\":\"white\",\"gridwidth\":2},\"yaxis\":{\"backgroundcolor\":\"#E5ECF6\",\"gridcolor\":\"white\",\"linecolor\":\"white\",\"showbackground\":true,\"ticks\":\"\",\"zerolinecolor\":\"white\",\"gridwidth\":2},\"zaxis\":{\"backgroundcolor\":\"#E5ECF6\",\"gridcolor\":\"white\",\"linecolor\":\"white\",\"showbackground\":true,\"ticks\":\"\",\"zerolinecolor\":\"white\",\"gridwidth\":2}},\"shapedefaults\":{\"line\":{\"color\":\"#2a3f5f\"}},\"annotationdefaults\":{\"arrowcolor\":\"#2a3f5f\",\"arrowhead\":0,\"arrowwidth\":1},\"geo\":{\"bgcolor\":\"white\",\"landcolor\":\"#E5ECF6\",\"subunitcolor\":\"white\",\"showland\":true,\"showlakes\":true,\"lakecolor\":\"white\"},\"title\":{\"x\":0.05},\"mapbox\":{\"style\":\"light\"}}},\"xaxis\":{\"anchor\":\"y\",\"domain\":[0.0,1.0],\"title\":{\"text\":\"Fecha de la predicción\"}},\"yaxis\":{\"anchor\":\"x\",\"domain\":[0.0,1.0],\"title\":{\"text\":\"Cantidad predicha\"}},\"coloraxis\":{\"colorbar\":{\"title\":{\"text\":\"Distiancia de la predicción (Meses)\",\"side\":\"right\"},\"ticks\":\"outside\"},\"colorscale\":[[0.0,\"#0d0887\"],[0.1111111111111111,\"#46039f\"],[0.2222222222222222,\"#7201a8\"],[0.3333333333333333,\"#9c179e\"],[0.4444444444444444,\"#bd3786\"],[0.5555555555555556,\"#d8576b\"],[0.6666666666666666,\"#ed7953\"],[0.7777777777777778,\"#fb9f3a\"],[0.8888888888888888,\"#fdca26\"],[1.0,\"#f0f921\"]]},\"legend\":{\"tracegroupgap\":0},\"title\":{\"text\":\"Predicción de las cantidades de Pepsi Max (L3)\"}},                        {\"responsive\": true}                    ).then(function(){\n",
              "                            \n",
              "var gd = document.getElementById('7c6d9bbc-eb1a-44c5-8f7f-5822a6519f90');\n",
              "var x = new MutationObserver(function (mutations, observer) {{\n",
              "        var display = window.getComputedStyle(gd).display;\n",
              "        if (!display || display === 'none') {{\n",
              "            console.log([gd, 'removed!']);\n",
              "            Plotly.purge(gd);\n",
              "            observer.disconnect();\n",
              "        }}\n",
              "}});\n",
              "\n",
              "// Listen for the removal of the full notebook cells\n",
              "var notebookContainer = gd.closest('#notebook-container');\n",
              "if (notebookContainer) {{\n",
              "    x.observe(notebookContainer, {childList: true});\n",
              "}}\n",
              "\n",
              "// Listen for the clearing of the current output cell\n",
              "var outputEl = gd.closest('.output');\n",
              "if (outputEl) {{\n",
              "    x.observe(outputEl, {childList: true});\n",
              "}}\n",
              "\n",
              "                        })                };                            </script>        </div>\n",
              "</body>\n",
              "</html>"
            ]
          },
          "metadata": {}
        },
        {
          "output_type": "display_data",
          "data": {
            "text/html": [
              "<html>\n",
              "<head><meta charset=\"utf-8\" /></head>\n",
              "<body>\n",
              "    <div>            <script src=\"https://cdnjs.cloudflare.com/ajax/libs/mathjax/2.7.5/MathJax.js?config=TeX-AMS-MML_SVG\"></script><script type=\"text/javascript\">if (window.MathJax && window.MathJax.Hub && window.MathJax.Hub.Config) {window.MathJax.Hub.Config({SVG: {font: \"STIX-Web\"}});}</script>                <script type=\"text/javascript\">window.PlotlyConfig = {MathJaxConfig: 'local'};</script>\n",
              "        <script charset=\"utf-8\" src=\"https://cdn.plot.ly/plotly-2.35.2.min.js\"></script>                <div id=\"219e7776-6159-4788-8e77-148998967349\" class=\"plotly-graph-div\" style=\"height:525px; width:100%;\"></div>            <script type=\"text/javascript\">                                    window.PLOTLYENV=window.PLOTLYENV || {};                                    if (document.getElementById(\"219e7776-6159-4788-8e77-148998967349\")) {                    Plotly.newPlot(                        \"219e7776-6159-4788-8e77-148998967349\",                        [{\"hovertemplate\":\"Fecha de la predicción=%{x}\\u003cbr\\u003eCantidad predicha=%{y}\\u003cbr\\u003eDistiancia de la predicción (Meses)=%{marker.color}\\u003cextra\\u003e\\u003c\\u002fextra\\u003e\",\"legendgroup\":\"\",\"marker\":{\"color\":[8,9,8,12,10,9,12,1,2,3,9,10,1,7,12,10,8,4,11,9,6,1,11,11,5,12,4,8,2,8,3,1,10,8,4,1,2,5,5,17,9,2,11,9,3,4,10,7,14,12,12,2,5,6,11,10,15,13,2,2,11,10,5,3,9,2,8,12,7,13,9,2,3,11,9,1,14,7,7,8,3,5,3,14,4,11,7,6,16,7,15,1,5,6,6,11,3,7,6,8,12,9,14,10,12,6,5,13,9,6,8,13,11,14,3,6,3,16,5,7,14,1,4,5,15,14,3,10,14,5,15,6,16,15,2,13,4,7,1,9,4,4,15,5,16,12,1,11,7,10,7,3,15,2,4,17,8,8,10,9,1,9,3,7,9,1,13,4,4,14,12,10,2,11,14,2,7,4,10,5,17,3,13,11,1,10,18,12,7,5,9,8,2,11,10,6,9,9,8,13,10,7,3,10,15,4,7,2,9,8,11,11,8,6,7,3,8,4,5,9,9,12,4,7,13,15,13,2,8,9,5,4,6,6,16,2,12,13,7,2,9,4,13,1,2,5,6,6,4,1,17,5,13,8,5,2,7,5,6,18,2,10,16,10,3,11,8,8,3,13,6,3,6,1,6,8,17,9,12,2,3,5,18,9,9,2,14,3,13,1,12,5,8,8,15,1,1,9,14,3,1,1,6,4,3,10,12,10,3,4,14,6,7,13,11,8,15,12,8,7,7,7,11,16,6,2,13,3,4,6,10,1,9,10,14,11,5,4,1,12,16,8,6,6,10,6,11,4,7,4,2,11,4,3,5,15,2,10,6,9,4,10,1,11,12,17,3,1,16,7,2,2,10,14,5,3,12,5,5,2,5,8,3,5,5,4,9,8,4,6,1,3,8,1,11,1,2,6,13,4,7,1,1,7,7],\"coloraxis\":\"coloraxis\",\"symbol\":\"circle\"},\"mode\":\"markers\",\"name\":\"\",\"orientation\":\"v\",\"showlegend\":false,\"x\":[\"2023-12-01T00:00:00\",\"2024-01-01T00:00:00\",\"2023-08-01T00:00:00\",\"2024-08-01T00:00:00\",\"2024-06-01T00:00:00\",\"2024-06-01T00:00:00\",\"2024-06-01T00:00:00\",\"2023-08-01T00:00:00\",\"2023-06-01T00:00:00\",\"2023-12-01T00:00:00\",\"2024-08-01T00:00:00\",\"2024-02-01T00:00:00\",\"2023-08-01T00:00:00\",\"2024-04-01T00:00:00\",\"2024-05-01T00:00:00\",\"2024-04-01T00:00:00\",\"2024-05-01T00:00:00\",\"2024-01-01T00:00:00\",\"2024-04-01T00:00:00\",\"2024-02-01T00:00:00\",\"2023-09-01T00:00:00\",\"2023-12-01T00:00:00\",\"2024-07-01T00:00:00\",\"2024-07-01T00:00:00\",\"2023-11-01T00:00:00\",\"2024-07-01T00:00:00\",\"2023-09-01T00:00:00\",\"2023-11-01T00:00:00\",\"2023-12-01T00:00:00\",\"2024-06-01T00:00:00\",\"2024-01-01T00:00:00\",\"2023-10-01T00:00:00\",\"2024-08-01T00:00:00\",\"2024-04-01T00:00:00\",\"2024-01-01T00:00:00\",\"2023-11-01T00:00:00\",\"2023-07-01T00:00:00\",\"2023-12-01T00:00:00\",\"2023-07-01T00:00:00\",\"2024-08-01T00:00:00\",\"2024-03-01T00:00:00\",\"2024-01-01T00:00:00\",\"2024-02-01T00:00:00\",\"2024-04-01T00:00:00\",\"2023-09-01T00:00:00\",\"2024-02-01T00:00:00\",\"2024-04-01T00:00:00\",\"2024-02-01T00:00:00\",\"2024-08-01T00:00:00\",\"2024-04-01T00:00:00\",\"2024-01-01T00:00:00\",\"2023-06-01T00:00:00\",\"2023-06-01T00:00:00\",\"2023-11-01T00:00:00\",\"2024-04-01T00:00:00\",\"2023-11-01T00:00:00\",\"2024-06-01T00:00:00\",\"2024-07-01T00:00:00\",\"2023-02-01T00:00:00\",\"2023-05-01T00:00:00\",\"2024-03-01T00:00:00\",\"2024-02-01T00:00:00\",\"2024-04-01T00:00:00\",\"2023-10-01T00:00:00\",\"2023-12-01T00:00:00\",\"2023-12-01T00:00:00\",\"2024-03-01T00:00:00\",\"2024-02-01T00:00:00\",\"2024-02-01T00:00:00\",\"2024-07-01T00:00:00\",\"2024-06-01T00:00:00\",\"2023-03-01T00:00:00\",\"2023-08-01T00:00:00\",\"2024-08-01T00:00:00\",\"2023-09-01T00:00:00\",\"2023-12-01T00:00:00\",\"2024-06-01T00:00:00\",\"2024-06-01T00:00:00\",\"2023-09-01T00:00:00\",\"2024-03-01T00:00:00\",\"2023-09-01T00:00:00\",\"2023-10-01T00:00:00\",\"2023-07-01T00:00:00\",\"2024-02-01T00:00:00\",\"2024-03-01T00:00:00\",\"2024-08-01T00:00:00\",\"2024-02-01T00:00:00\",\"2023-09-01T00:00:00\",\"2024-08-01T00:00:00\",\"2023-12-01T00:00:00\",\"2024-03-01T00:00:00\",\"2023-04-01T00:00:00\",\"2024-04-01T00:00:00\",\"2023-09-01T00:00:00\",\"2023-08-01T00:00:00\",\"2023-11-01T00:00:00\",\"2023-12-01T00:00:00\",\"2024-05-01T00:00:00\",\"2024-03-01T00:00:00\",\"2024-07-01T00:00:00\",\"2024-05-01T00:00:00\",\"2024-05-01T00:00:00\",\"2024-07-01T00:00:00\",\"2024-01-01T00:00:00\",\"2024-08-01T00:00:00\",\"2024-05-01T00:00:00\",\"2024-03-01T00:00:00\",\"2024-06-01T00:00:00\",\"2024-07-01T00:00:00\",\"2023-07-01T00:00:00\",\"2024-05-01T00:00:00\",\"2024-07-01T00:00:00\",\"2024-05-01T00:00:00\",\"2024-06-01T00:00:00\",\"2023-08-01T00:00:00\",\"2024-02-01T00:00:00\",\"2023-11-01T00:00:00\",\"2024-07-01T00:00:00\",\"2023-09-01T00:00:00\",\"2024-03-01T00:00:00\",\"2024-04-01T00:00:00\",\"2023-01-01T00:00:00\",\"2024-01-01T00:00:00\",\"2024-01-01T00:00:00\",\"2024-08-01T00:00:00\",\"2024-05-01T00:00:00\",\"2023-10-01T00:00:00\",\"2024-06-01T00:00:00\",\"2024-07-01T00:00:00\",\"2023-05-01T00:00:00\",\"2024-08-01T00:00:00\",\"2023-12-01T00:00:00\",\"2024-06-01T00:00:00\",\"2024-07-01T00:00:00\",\"2023-11-01T00:00:00\",\"2024-08-01T00:00:00\",\"2023-10-01T00:00:00\",\"2024-05-01T00:00:00\",\"2023-10-01T00:00:00\",\"2023-11-01T00:00:00\",\"2023-06-01T00:00:00\",\"2023-11-01T00:00:00\",\"2024-04-01T00:00:00\",\"2024-02-01T00:00:00\",\"2024-07-01T00:00:00\",\"2024-06-01T00:00:00\",\"2023-08-01T00:00:00\",\"2024-06-01T00:00:00\",\"2024-04-01T00:00:00\",\"2024-03-01T00:00:00\",\"2023-11-01T00:00:00\",\"2023-06-01T00:00:00\",\"2024-08-01T00:00:00\",\"2024-01-01T00:00:00\",\"2023-07-01T00:00:00\",\"2024-06-01T00:00:00\",\"2024-06-01T00:00:00\",\"2023-11-01T00:00:00\",\"2024-02-01T00:00:00\",\"2024-08-01T00:00:00\",\"2023-11-01T00:00:00\",\"2024-08-01T00:00:00\",\"2023-06-01T00:00:00\",\"2024-06-01T00:00:00\",\"2023-12-01T00:00:00\",\"2023-06-01T00:00:00\",\"2024-05-01T00:00:00\",\"2023-08-01T00:00:00\",\"2023-08-01T00:00:00\",\"2024-05-01T00:00:00\",\"2024-07-01T00:00:00\",\"2024-05-01T00:00:00\",\"2024-01-01T00:00:00\",\"2024-06-01T00:00:00\",\"2024-08-01T00:00:00\",\"2023-10-01T00:00:00\",\"2023-10-01T00:00:00\",\"2023-12-01T00:00:00\",\"2024-04-01T00:00:00\",\"2023-11-01T00:00:00\",\"2024-05-01T00:00:00\",\"2023-11-01T00:00:00\",\"2024-04-01T00:00:00\",\"2024-06-01T00:00:00\",\"2023-02-01T00:00:00\",\"2023-12-01T00:00:00\",\"2024-06-01T00:00:00\",\"2023-12-01T00:00:00\",\"2023-11-01T00:00:00\",\"2023-09-01T00:00:00\",\"2024-05-01T00:00:00\",\"2023-12-01T00:00:00\",\"2023-07-01T00:00:00\",\"2024-01-01T00:00:00\",\"2024-07-01T00:00:00\",\"2023-12-01T00:00:00\",\"2024-04-01T00:00:00\",\"2024-07-01T00:00:00\",\"2024-02-01T00:00:00\",\"2024-06-01T00:00:00\",\"2024-07-01T00:00:00\",\"2024-01-01T00:00:00\",\"2024-02-01T00:00:00\",\"2024-05-01T00:00:00\",\"2024-06-01T00:00:00\",\"2023-11-01T00:00:00\",\"2024-05-01T00:00:00\",\"2023-12-01T00:00:00\",\"2024-02-01T00:00:00\",\"2023-11-01T00:00:00\",\"2024-08-01T00:00:00\",\"2024-02-01T00:00:00\",\"2024-02-01T00:00:00\",\"2024-02-01T00:00:00\",\"2023-12-01T00:00:00\",\"2023-10-01T00:00:00\",\"2023-10-01T00:00:00\",\"2024-02-01T00:00:00\",\"2024-01-01T00:00:00\",\"2024-03-01T00:00:00\",\"2024-07-01T00:00:00\",\"2024-03-01T00:00:00\",\"2024-03-01T00:00:00\",\"2023-11-01T00:00:00\",\"2024-04-01T00:00:00\",\"2024-07-01T00:00:00\",\"2024-08-01T00:00:00\",\"2023-09-01T00:00:00\",\"2024-04-01T00:00:00\",\"2024-04-01T00:00:00\",\"2023-10-01T00:00:00\",\"2023-09-01T00:00:00\",\"2024-02-01T00:00:00\",\"2024-04-01T00:00:00\",\"2024-04-01T00:00:00\",\"2023-06-01T00:00:00\",\"2024-05-01T00:00:00\",\"2024-05-01T00:00:00\",\"2024-06-01T00:00:00\",\"2023-08-01T00:00:00\",\"2023-12-01T00:00:00\",\"2023-04-01T00:00:00\",\"2024-05-01T00:00:00\",\"2023-07-01T00:00:00\",\"2023-11-01T00:00:00\",\"2024-04-01T00:00:00\",\"2024-05-01T00:00:00\",\"2023-06-01T00:00:00\",\"2023-09-01T00:00:00\",\"2023-11-01T00:00:00\",\"2024-08-01T00:00:00\",\"2024-02-01T00:00:00\",\"2024-03-01T00:00:00\",\"2024-04-01T00:00:00\",\"2023-08-01T00:00:00\",\"2023-09-01T00:00:00\",\"2024-01-01T00:00:00\",\"2023-10-01T00:00:00\",\"2023-10-01T00:00:00\",\"2024-08-01T00:00:00\",\"2023-09-01T00:00:00\",\"2024-06-01T00:00:00\",\"2024-07-01T00:00:00\",\"2024-08-01T00:00:00\",\"2023-06-01T00:00:00\",\"2024-02-01T00:00:00\",\"2024-01-01T00:00:00\",\"2024-07-01T00:00:00\",\"2023-12-01T00:00:00\",\"2024-04-01T00:00:00\",\"2024-03-01T00:00:00\",\"2024-01-01T00:00:00\",\"2024-04-01T00:00:00\",\"2023-05-01T00:00:00\",\"2023-10-01T00:00:00\",\"2024-03-01T00:00:00\",\"2024-08-01T00:00:00\",\"2024-01-01T00:00:00\",\"2024-03-01T00:00:00\",\"2023-10-01T00:00:00\",\"2024-02-01T00:00:00\",\"2023-12-01T00:00:00\",\"2024-07-01T00:00:00\",\"2023-10-01T00:00:00\",\"2024-02-01T00:00:00\",\"2023-08-01T00:00:00\",\"2024-08-01T00:00:00\",\"2023-08-01T00:00:00\",\"2024-02-01T00:00:00\",\"2023-06-01T00:00:00\",\"2024-06-01T00:00:00\",\"2024-01-01T00:00:00\",\"2024-07-01T00:00:00\",\"2023-09-01T00:00:00\",\"2024-06-01T00:00:00\",\"2023-10-01T00:00:00\",\"2023-03-01T00:00:00\",\"2024-05-01T00:00:00\",\"2024-03-01T00:00:00\",\"2023-04-01T00:00:00\",\"2023-04-01T00:00:00\",\"2023-09-01T00:00:00\",\"2024-05-01T00:00:00\",\"2023-07-01T00:00:00\",\"2023-03-01T00:00:00\",\"2024-01-01T00:00:00\",\"2024-07-01T00:00:00\",\"2024-03-01T00:00:00\",\"2023-11-01T00:00:00\",\"2023-12-01T00:00:00\",\"2024-05-01T00:00:00\",\"2023-10-01T00:00:00\",\"2023-12-01T00:00:00\",\"2024-01-01T00:00:00\",\"2024-07-01T00:00:00\",\"2024-05-01T00:00:00\",\"2024-07-01T00:00:00\",\"2024-04-01T00:00:00\",\"2024-01-01T00:00:00\",\"2023-10-01T00:00:00\",\"2023-10-01T00:00:00\",\"2023-08-01T00:00:00\",\"2024-03-01T00:00:00\",\"2024-08-01T00:00:00\",\"2023-11-01T00:00:00\",\"2023-11-01T00:00:00\",\"2024-06-01T00:00:00\",\"2024-02-01T00:00:00\",\"2023-10-01T00:00:00\",\"2024-04-01T00:00:00\",\"2024-08-01T00:00:00\",\"2023-07-01T00:00:00\",\"2024-01-01T00:00:00\",\"2024-07-01T00:00:00\",\"2024-06-01T00:00:00\",\"2024-05-01T00:00:00\",\"2023-11-01T00:00:00\",\"2023-12-01T00:00:00\",\"2023-06-01T00:00:00\",\"2024-08-01T00:00:00\",\"2024-08-01T00:00:00\",\"2024-06-01T00:00:00\",\"2023-12-01T00:00:00\",\"2024-01-01T00:00:00\",\"2024-05-01T00:00:00\",\"2024-01-01T00:00:00\",\"2024-03-01T00:00:00\",\"2023-07-01T00:00:00\",\"2023-07-01T00:00:00\",\"2023-05-01T00:00:00\",\"2023-10-01T00:00:00\",\"2024-05-01T00:00:00\",\"2023-11-01T00:00:00\",\"2024-01-01T00:00:00\",\"2023-09-01T00:00:00\",\"2024-05-01T00:00:00\",\"2023-07-01T00:00:00\",\"2024-01-01T00:00:00\",\"2024-01-01T00:00:00\",\"2024-03-01T00:00:00\",\"2023-08-01T00:00:00\",\"2023-10-01T00:00:00\",\"2023-12-01T00:00:00\",\"2023-12-01T00:00:00\",\"2024-03-01T00:00:00\",\"2024-07-01T00:00:00\",\"2023-07-01T00:00:00\",\"2023-09-01T00:00:00\",\"2024-05-01T00:00:00\",\"2024-04-01T00:00:00\",\"2023-05-01T00:00:00\",\"2023-05-01T00:00:00\",\"2024-03-01T00:00:00\",\"2024-07-01T00:00:00\",\"2023-08-01T00:00:00\",\"2023-07-01T00:00:00\",\"2024-04-01T00:00:00\",\"2023-08-01T00:00:00\",\"2024-03-01T00:00:00\",\"2023-04-01T00:00:00\",\"2023-12-01T00:00:00\",\"2024-01-01T00:00:00\",\"2023-09-01T00:00:00\",\"2024-03-01T00:00:00\",\"2024-02-01T00:00:00\",\"2024-03-01T00:00:00\",\"2024-06-01T00:00:00\",\"2023-12-01T00:00:00\",\"2023-10-01T00:00:00\",\"2024-03-01T00:00:00\",\"2023-05-01T00:00:00\",\"2023-05-01T00:00:00\",\"2024-02-01T00:00:00\",\"2023-07-01T00:00:00\",\"2024-04-01T00:00:00\",\"2023-09-01T00:00:00\",\"2023-08-01T00:00:00\",\"2023-11-01T00:00:00\",\"2024-08-01T00:00:00\",\"2024-02-01T00:00:00\",\"2024-03-01T00:00:00\",\"2023-05-01T00:00:00\",\"2023-04-01T00:00:00\",\"2024-01-01T00:00:00\",\"2024-03-01T00:00:00\"],\"xaxis\":\"x\",\"y\":[134268.1510802472,132236.38710502087,164759.7931374658,173701.35175561922,156544.88406468928,183736.8040462092,194970.8492367681,183272.0828741894,152607.6921344687,135724.2460312794,281190.29517676245,131842.38979379044,166426.4478385857,108609.393776022,123600.26000220983,113087.15518591228,131619.10570302178,111801.83113995443,181926.3894581757,115590.93773857696,146945.61475218151,143674.698858048,163653.5731951399,288239.1058785544,140862.86002359563,268663.7422046393,179489.3842586898,130102.9810569137,138545.88437924525,218633.0859132747,136387.96568690648,142858.05814603763,195778.2691922098,115094.67739730212,116189.91045614616,142264.87695374552,153062.88305392867,142583.07028073823,118181.32591253416,293255.2270367028,151539.35324724973,128186.2321197533,127699.88870364662,129960.35387260524,165388.1002600435,119441.12275746456,152143.47866740564,99468.18480374802,169138.93111329427,153787.59894345625,102832.19633824522,125345.493148678,121714.95351400292,134140.084255092,123855.90316550506,111241.31612194394,93809.88476809606,171825.68686117898,100841.7178485865,69307.7450951033,74400.55189077434,61918.21415159904,122274.91748714211,146984.04665278026,141840.8571419992,158885.6633516648,148803.28764087742,72168.24108429051,127488.81920793814,160166.74800104706,115006.72070449631,107155.80366038806,161098.97606930786,273415.28659463127,132941.16935257564,137204.95026224438,199014.09108519196,182861.4986862468,95060.313883104,110063.0618831537,149070.00165005212,137371.75247327384,122562.13104630868,106706.06739080136,141817.863029404,153081.58773328195,121501.14371122156,96052.82646697124,290871.7277311437,117818.264939007,119105.0890778414,75926.16784787309,136880.39813725857,154065.9005845641,129754.70791556672,116845.48343032002,144178.34940619676,131411.88973766714,142362.00559221613,174287.37116126783,106107.0535011763,164037.68795813553,322656.3525506345,70610.1239080258,318267.3739534708,132871.7828537933,143427.1080066713,147375.67851994478,176060.634503436,151395.16727270224,102656.6482181138,276490.92233430507,128734.4778932947,141947.04887206422,215204.79867861464,131073.6959569742,142171.74975424772,123471.01751008592,90593.92494076684,142573.79269422716,80260.30501423625,108418.89166220822,114865.04329197938,117093.82596581828,165728.71429867682,155786.6213666928,142893.4689770073,214696.9881717124,166583.61524128684,107417.55331794314,178327.53596915174,162507.0700716461,93654.5888333544,271427.007686746,141309.80355130666,160099.06075040068,142128.4823135332,173962.31455006986,153166.29899091838,80888.62244405478,85978.48449420542,126241.8895913918,107359.83687562804,115506.44896883552,272650.0568176835,152563.82327543324,184381.87047009144,185049.8803852473,136159.1511130256,113392.02582332278,148576.74768849803,143259.15255492218,339110.6103502686,115672.76256977629,119828.54808944072,126127.36228186272,155958.54931695506,143303.409715821,110371.30948284896,179903.56534585208,136334.69236115075,186159.31561834447,87575.70901751687,154951.41071071397,85749.13968696813,151864.06295478632,65781.26238076635,129033.23067142858,214190.59501380575,73914.84937179365,172979.4330500704,129801.83307653782,108945.97944488347,120899.02066862553,286896.86325549724,158309.70231274425,95518.86250866432,116250.6586927464,128936.19419218626,138950.74095975503,111804.86426865098,118472.90784311268,151919.00999722842,153674.3739615005,95476.2233336438,89333.26867894533,131716.8891969002,123554.20692409152,135742.67481014552,139408.8221586591,132606.95982615597,80112.90031506756,149355.05534144296,71919.66062654187,253172.63737144263,121284.341864739,146628.8435554517,183970.4853692781,120563.37503645087,233038.1349090624,151562.83757485216,111937.97005974418,109414.22970656188,97505.29638354506,202994.60578772463,123180.8490149118,132739.2226234851,145160.9300616397,157270.69456898762,79057.40572514344,186770.94487226236,68867.02108978441,104317.59430288793,118249.861111359,184252.51359392708,149798.3442623826,94666.73349552178,118362.55610977244,109046.37342756613,138918.46847415538,304779.9801569692,81249.05324487765,144368.68374382617,76232.39377065173,75080.52139528026,161102.73524536818,285911.9078774283,144449.31085239557,132700.09726865278,103264.36270310797,128523.95764374376,127341.38659230308,106552.10104748169,133554.76059740444,112953.5467601908,100174.71100785816,180244.4136140472,156003.8390444574,144835.25911858823,166065.12415513155,152445.29982563367,108566.23580948295,118223.88070236747,155898.59408397865,125135.18219826886,127711.40457792528,126857.88168175847,127329.57824619237,144367.19867419635,133724.12904366478,180462.88093555925,115718.67015718986,85734.02196926247,158397.9594989377,163717.6713392546,135680.2133013001,129360.72829319694,184690.15191300891,169007.10687688965,133480.54415414296,149791.79281070197,133049.642529875,168759.23939965595,331228.3168259762,132846.3722739708,117967.9578567541,107019.45962627388,250539.30771842235,134891.49309497586,126152.364899759,142327.16209099133,117199.99836459318,164178.687572912,101622.32497898124,95288.95105376942,139899.43265175022,133462.6628428879,67157.5393884564,136228.84523809334,145240.91225163118,118166.99245378228,119321.4760937788,155807.57604056204,128302.0001560436,101275.45975637971,165747.85218075998,183623.5344534475,167454.46773430915,101108.17453671328,130147.11862010084,129410.92135273482,127305.59200701458,175538.2354983847,127332.81907467423,149591.58187027546,144399.9507020556,84815.15440841833,114184.23524946638,113509.28770851596,102947.42810776824,98328.5869089742,140963.07699815845,143531.24541010792,182889.66639080265,113240.73953562652,120723.722531301,150053.90933832835,133892.10431187783,140762.21479176014,145061.28026250337,125856.44254450216,132361.12560969844,139383.27863989887,108432.18067709598,175915.32650682976,144317.12530673365,121928.093220201,118531.7742137008,153787.5572231286,141269.36247186747,151168.05927619006,159149.3513748017,155175.32377612527,172794.40562519492,111803.43111348985,127347.45471221113,126026.70467294744,116794.31572373032,131907.74419611963,129361.65414641784,187973.5835517379,195678.41303290884,101852.08171858409,174885.50307696455,90986.91495858476,109478.2701135486,109398.40882407158,157774.77588146258,124740.97334711625,187821.75295549305,144297.77749432257,156683.66946165694,141731.69261161587,114550.23263048255,148767.53225712193,120285.39606880846,128620.22570811171,152014.0298033513,157633.50215404504,101800.83710099108,138221.97999873952,150863.41098524013,139758.92312605324,127382.24283708524,169018.05334666165,74280.55117647725,201640.39448994293,109436.75893641265,99810.44184092224,116737.24230086498,156192.84990180875,133908.25894918235,137252.4865769345,117952.1311004781,151976.26598452614,122650.84089384114,198188.85771075592,149580.9006929501,106213.24586885088,131733.22779888412,109111.23294819752,105454.56184135868,186906.31445574004,155712.45319040606,192461.4906400348,144501.17952198198,70288.57200803996,129489.31366777206,163489.45475840283,75737.23856630013,147681.71151996107,102278.73666990816,128482.68700066238,147877.4937571723,117324.96094832131,146119.38502476062,155536.0452881896,166125.46065460853,164509.09139317286,119772.16209214296,88533.49131475516,74261.75156943465,130102.6233260242,153950.00458849146,107248.10974919412,152073.8527317553,202739.80108432844,161822.96522624348,184820.47614516303,130458.20787805704,158053.24153361106,111318.90449308624,109407.15530345432,107080.15934168408,120652.82771803398],\"yaxis\":\"y\",\"type\":\"scatter\"}],                        {\"template\":{\"data\":{\"histogram2dcontour\":[{\"type\":\"histogram2dcontour\",\"colorbar\":{\"outlinewidth\":0,\"ticks\":\"\"},\"colorscale\":[[0.0,\"#0d0887\"],[0.1111111111111111,\"#46039f\"],[0.2222222222222222,\"#7201a8\"],[0.3333333333333333,\"#9c179e\"],[0.4444444444444444,\"#bd3786\"],[0.5555555555555556,\"#d8576b\"],[0.6666666666666666,\"#ed7953\"],[0.7777777777777778,\"#fb9f3a\"],[0.8888888888888888,\"#fdca26\"],[1.0,\"#f0f921\"]]}],\"choropleth\":[{\"type\":\"choropleth\",\"colorbar\":{\"outlinewidth\":0,\"ticks\":\"\"}}],\"histogram2d\":[{\"type\":\"histogram2d\",\"colorbar\":{\"outlinewidth\":0,\"ticks\":\"\"},\"colorscale\":[[0.0,\"#0d0887\"],[0.1111111111111111,\"#46039f\"],[0.2222222222222222,\"#7201a8\"],[0.3333333333333333,\"#9c179e\"],[0.4444444444444444,\"#bd3786\"],[0.5555555555555556,\"#d8576b\"],[0.6666666666666666,\"#ed7953\"],[0.7777777777777778,\"#fb9f3a\"],[0.8888888888888888,\"#fdca26\"],[1.0,\"#f0f921\"]]}],\"heatmap\":[{\"type\":\"heatmap\",\"colorbar\":{\"outlinewidth\":0,\"ticks\":\"\"},\"colorscale\":[[0.0,\"#0d0887\"],[0.1111111111111111,\"#46039f\"],[0.2222222222222222,\"#7201a8\"],[0.3333333333333333,\"#9c179e\"],[0.4444444444444444,\"#bd3786\"],[0.5555555555555556,\"#d8576b\"],[0.6666666666666666,\"#ed7953\"],[0.7777777777777778,\"#fb9f3a\"],[0.8888888888888888,\"#fdca26\"],[1.0,\"#f0f921\"]]}],\"heatmapgl\":[{\"type\":\"heatmapgl\",\"colorbar\":{\"outlinewidth\":0,\"ticks\":\"\"},\"colorscale\":[[0.0,\"#0d0887\"],[0.1111111111111111,\"#46039f\"],[0.2222222222222222,\"#7201a8\"],[0.3333333333333333,\"#9c179e\"],[0.4444444444444444,\"#bd3786\"],[0.5555555555555556,\"#d8576b\"],[0.6666666666666666,\"#ed7953\"],[0.7777777777777778,\"#fb9f3a\"],[0.8888888888888888,\"#fdca26\"],[1.0,\"#f0f921\"]]}],\"contourcarpet\":[{\"type\":\"contourcarpet\",\"colorbar\":{\"outlinewidth\":0,\"ticks\":\"\"}}],\"contour\":[{\"type\":\"contour\",\"colorbar\":{\"outlinewidth\":0,\"ticks\":\"\"},\"colorscale\":[[0.0,\"#0d0887\"],[0.1111111111111111,\"#46039f\"],[0.2222222222222222,\"#7201a8\"],[0.3333333333333333,\"#9c179e\"],[0.4444444444444444,\"#bd3786\"],[0.5555555555555556,\"#d8576b\"],[0.6666666666666666,\"#ed7953\"],[0.7777777777777778,\"#fb9f3a\"],[0.8888888888888888,\"#fdca26\"],[1.0,\"#f0f921\"]]}],\"surface\":[{\"type\":\"surface\",\"colorbar\":{\"outlinewidth\":0,\"ticks\":\"\"},\"colorscale\":[[0.0,\"#0d0887\"],[0.1111111111111111,\"#46039f\"],[0.2222222222222222,\"#7201a8\"],[0.3333333333333333,\"#9c179e\"],[0.4444444444444444,\"#bd3786\"],[0.5555555555555556,\"#d8576b\"],[0.6666666666666666,\"#ed7953\"],[0.7777777777777778,\"#fb9f3a\"],[0.8888888888888888,\"#fdca26\"],[1.0,\"#f0f921\"]]}],\"mesh3d\":[{\"type\":\"mesh3d\",\"colorbar\":{\"outlinewidth\":0,\"ticks\":\"\"}}],\"scatter\":[{\"fillpattern\":{\"fillmode\":\"overlay\",\"size\":10,\"solidity\":0.2},\"type\":\"scatter\"}],\"parcoords\":[{\"type\":\"parcoords\",\"line\":{\"colorbar\":{\"outlinewidth\":0,\"ticks\":\"\"}}}],\"scatterpolargl\":[{\"type\":\"scatterpolargl\",\"marker\":{\"colorbar\":{\"outlinewidth\":0,\"ticks\":\"\"}}}],\"bar\":[{\"error_x\":{\"color\":\"#2a3f5f\"},\"error_y\":{\"color\":\"#2a3f5f\"},\"marker\":{\"line\":{\"color\":\"#E5ECF6\",\"width\":0.5},\"pattern\":{\"fillmode\":\"overlay\",\"size\":10,\"solidity\":0.2}},\"type\":\"bar\"}],\"scattergeo\":[{\"type\":\"scattergeo\",\"marker\":{\"colorbar\":{\"outlinewidth\":0,\"ticks\":\"\"}}}],\"scatterpolar\":[{\"type\":\"scatterpolar\",\"marker\":{\"colorbar\":{\"outlinewidth\":0,\"ticks\":\"\"}}}],\"histogram\":[{\"marker\":{\"pattern\":{\"fillmode\":\"overlay\",\"size\":10,\"solidity\":0.2}},\"type\":\"histogram\"}],\"scattergl\":[{\"type\":\"scattergl\",\"marker\":{\"colorbar\":{\"outlinewidth\":0,\"ticks\":\"\"}}}],\"scatter3d\":[{\"type\":\"scatter3d\",\"line\":{\"colorbar\":{\"outlinewidth\":0,\"ticks\":\"\"}},\"marker\":{\"colorbar\":{\"outlinewidth\":0,\"ticks\":\"\"}}}],\"scattermapbox\":[{\"type\":\"scattermapbox\",\"marker\":{\"colorbar\":{\"outlinewidth\":0,\"ticks\":\"\"}}}],\"scatterternary\":[{\"type\":\"scatterternary\",\"marker\":{\"colorbar\":{\"outlinewidth\":0,\"ticks\":\"\"}}}],\"scattercarpet\":[{\"type\":\"scattercarpet\",\"marker\":{\"colorbar\":{\"outlinewidth\":0,\"ticks\":\"\"}}}],\"carpet\":[{\"aaxis\":{\"endlinecolor\":\"#2a3f5f\",\"gridcolor\":\"white\",\"linecolor\":\"white\",\"minorgridcolor\":\"white\",\"startlinecolor\":\"#2a3f5f\"},\"baxis\":{\"endlinecolor\":\"#2a3f5f\",\"gridcolor\":\"white\",\"linecolor\":\"white\",\"minorgridcolor\":\"white\",\"startlinecolor\":\"#2a3f5f\"},\"type\":\"carpet\"}],\"table\":[{\"cells\":{\"fill\":{\"color\":\"#EBF0F8\"},\"line\":{\"color\":\"white\"}},\"header\":{\"fill\":{\"color\":\"#C8D4E3\"},\"line\":{\"color\":\"white\"}},\"type\":\"table\"}],\"barpolar\":[{\"marker\":{\"line\":{\"color\":\"#E5ECF6\",\"width\":0.5},\"pattern\":{\"fillmode\":\"overlay\",\"size\":10,\"solidity\":0.2}},\"type\":\"barpolar\"}],\"pie\":[{\"automargin\":true,\"type\":\"pie\"}]},\"layout\":{\"autotypenumbers\":\"strict\",\"colorway\":[\"#636efa\",\"#EF553B\",\"#00cc96\",\"#ab63fa\",\"#FFA15A\",\"#19d3f3\",\"#FF6692\",\"#B6E880\",\"#FF97FF\",\"#FECB52\"],\"font\":{\"color\":\"#2a3f5f\"},\"hovermode\":\"closest\",\"hoverlabel\":{\"align\":\"left\"},\"paper_bgcolor\":\"white\",\"plot_bgcolor\":\"#E5ECF6\",\"polar\":{\"bgcolor\":\"#E5ECF6\",\"angularaxis\":{\"gridcolor\":\"white\",\"linecolor\":\"white\",\"ticks\":\"\"},\"radialaxis\":{\"gridcolor\":\"white\",\"linecolor\":\"white\",\"ticks\":\"\"}},\"ternary\":{\"bgcolor\":\"#E5ECF6\",\"aaxis\":{\"gridcolor\":\"white\",\"linecolor\":\"white\",\"ticks\":\"\"},\"baxis\":{\"gridcolor\":\"white\",\"linecolor\":\"white\",\"ticks\":\"\"},\"caxis\":{\"gridcolor\":\"white\",\"linecolor\":\"white\",\"ticks\":\"\"}},\"coloraxis\":{\"colorbar\":{\"outlinewidth\":0,\"ticks\":\"\"}},\"colorscale\":{\"sequential\":[[0.0,\"#0d0887\"],[0.1111111111111111,\"#46039f\"],[0.2222222222222222,\"#7201a8\"],[0.3333333333333333,\"#9c179e\"],[0.4444444444444444,\"#bd3786\"],[0.5555555555555556,\"#d8576b\"],[0.6666666666666666,\"#ed7953\"],[0.7777777777777778,\"#fb9f3a\"],[0.8888888888888888,\"#fdca26\"],[1.0,\"#f0f921\"]],\"sequentialminus\":[[0.0,\"#0d0887\"],[0.1111111111111111,\"#46039f\"],[0.2222222222222222,\"#7201a8\"],[0.3333333333333333,\"#9c179e\"],[0.4444444444444444,\"#bd3786\"],[0.5555555555555556,\"#d8576b\"],[0.6666666666666666,\"#ed7953\"],[0.7777777777777778,\"#fb9f3a\"],[0.8888888888888888,\"#fdca26\"],[1.0,\"#f0f921\"]],\"diverging\":[[0,\"#8e0152\"],[0.1,\"#c51b7d\"],[0.2,\"#de77ae\"],[0.3,\"#f1b6da\"],[0.4,\"#fde0ef\"],[0.5,\"#f7f7f7\"],[0.6,\"#e6f5d0\"],[0.7,\"#b8e186\"],[0.8,\"#7fbc41\"],[0.9,\"#4d9221\"],[1,\"#276419\"]]},\"xaxis\":{\"gridcolor\":\"white\",\"linecolor\":\"white\",\"ticks\":\"\",\"title\":{\"standoff\":15},\"zerolinecolor\":\"white\",\"automargin\":true,\"zerolinewidth\":2},\"yaxis\":{\"gridcolor\":\"white\",\"linecolor\":\"white\",\"ticks\":\"\",\"title\":{\"standoff\":15},\"zerolinecolor\":\"white\",\"automargin\":true,\"zerolinewidth\":2},\"scene\":{\"xaxis\":{\"backgroundcolor\":\"#E5ECF6\",\"gridcolor\":\"white\",\"linecolor\":\"white\",\"showbackground\":true,\"ticks\":\"\",\"zerolinecolor\":\"white\",\"gridwidth\":2},\"yaxis\":{\"backgroundcolor\":\"#E5ECF6\",\"gridcolor\":\"white\",\"linecolor\":\"white\",\"showbackground\":true,\"ticks\":\"\",\"zerolinecolor\":\"white\",\"gridwidth\":2},\"zaxis\":{\"backgroundcolor\":\"#E5ECF6\",\"gridcolor\":\"white\",\"linecolor\":\"white\",\"showbackground\":true,\"ticks\":\"\",\"zerolinecolor\":\"white\",\"gridwidth\":2}},\"shapedefaults\":{\"line\":{\"color\":\"#2a3f5f\"}},\"annotationdefaults\":{\"arrowcolor\":\"#2a3f5f\",\"arrowhead\":0,\"arrowwidth\":1},\"geo\":{\"bgcolor\":\"white\",\"landcolor\":\"#E5ECF6\",\"subunitcolor\":\"white\",\"showland\":true,\"showlakes\":true,\"lakecolor\":\"white\"},\"title\":{\"x\":0.05},\"mapbox\":{\"style\":\"light\"}}},\"xaxis\":{\"anchor\":\"y\",\"domain\":[0.0,1.0],\"title\":{\"text\":\"Fecha de la predicción\"}},\"yaxis\":{\"anchor\":\"x\",\"domain\":[0.0,1.0],\"title\":{\"text\":\"Cantidad predicha\"}},\"coloraxis\":{\"colorbar\":{\"title\":{\"text\":\"Distiancia de la predicción (Meses)\",\"side\":\"right\"},\"ticks\":\"outside\"},\"colorscale\":[[0.0,\"#0d0887\"],[0.1111111111111111,\"#46039f\"],[0.2222222222222222,\"#7201a8\"],[0.3333333333333333,\"#9c179e\"],[0.4444444444444444,\"#bd3786\"],[0.5555555555555556,\"#d8576b\"],[0.6666666666666666,\"#ed7953\"],[0.7777777777777778,\"#fb9f3a\"],[0.8888888888888888,\"#fdca26\"],[1.0,\"#f0f921\"]]},\"legend\":{\"tracegroupgap\":0},\"title\":{\"text\":\"Predicción de las cantidades de Pepsi Regular (L3)\"}},                        {\"responsive\": true}                    ).then(function(){\n",
              "                            \n",
              "var gd = document.getElementById('219e7776-6159-4788-8e77-148998967349');\n",
              "var x = new MutationObserver(function (mutations, observer) {{\n",
              "        var display = window.getComputedStyle(gd).display;\n",
              "        if (!display || display === 'none') {{\n",
              "            console.log([gd, 'removed!']);\n",
              "            Plotly.purge(gd);\n",
              "            observer.disconnect();\n",
              "        }}\n",
              "}});\n",
              "\n",
              "// Listen for the removal of the full notebook cells\n",
              "var notebookContainer = gd.closest('#notebook-container');\n",
              "if (notebookContainer) {{\n",
              "    x.observe(notebookContainer, {childList: true});\n",
              "}}\n",
              "\n",
              "// Listen for the clearing of the current output cell\n",
              "var outputEl = gd.closest('.output');\n",
              "if (outputEl) {{\n",
              "    x.observe(outputEl, {childList: true});\n",
              "}}\n",
              "\n",
              "                        })                };                            </script>        </div>\n",
              "</body>\n",
              "</html>"
            ]
          },
          "metadata": {}
        },
        {
          "output_type": "display_data",
          "data": {
            "text/html": [
              "<html>\n",
              "<head><meta charset=\"utf-8\" /></head>\n",
              "<body>\n",
              "    <div>            <script src=\"https://cdnjs.cloudflare.com/ajax/libs/mathjax/2.7.5/MathJax.js?config=TeX-AMS-MML_SVG\"></script><script type=\"text/javascript\">if (window.MathJax && window.MathJax.Hub && window.MathJax.Hub.Config) {window.MathJax.Hub.Config({SVG: {font: \"STIX-Web\"}});}</script>                <script type=\"text/javascript\">window.PlotlyConfig = {MathJaxConfig: 'local'};</script>\n",
              "        <script charset=\"utf-8\" src=\"https://cdn.plot.ly/plotly-2.35.2.min.js\"></script>                <div id=\"4a8e490f-9ec8-4c21-b09b-d3a5a9e11d5f\" class=\"plotly-graph-div\" style=\"height:525px; width:100%;\"></div>            <script type=\"text/javascript\">                                    window.PLOTLYENV=window.PLOTLYENV || {};                                    if (document.getElementById(\"4a8e490f-9ec8-4c21-b09b-d3a5a9e11d5f\")) {                    Plotly.newPlot(                        \"4a8e490f-9ec8-4c21-b09b-d3a5a9e11d5f\",                        [{\"hovertemplate\":\"Fecha de la predicción=%{x}\\u003cbr\\u003eCantidad predicha=%{y}\\u003cbr\\u003eDistiancia de la predicción (Meses)=%{marker.color}\\u003cextra\\u003e\\u003c\\u002fextra\\u003e\",\"legendgroup\":\"\",\"marker\":{\"color\":[10,1,12,5,8,6,14,3,2,2,9,8,9,16,6,11,4,6,6,12,5,8,5,8,7,9,7,3,6,7,8,8,1,9,1,3,11,5,15,7,18,9,7,5,2,13,9,10,2,11,4,1,11,3,17,11,10,1,17,8,12,2,7,4,7,10,12,9,3,13,9,16,3,12,10,13,2,7,3,2,5,3,2,5,6,3,14,8,11,14,3,6,3,6,1,8,11,1,9,15,1,2,8,7,2,2,12,4,6,1,3,4,2,4,5,12,8,6,11,11,14,13,11,6,12,10,13,14,9,10,7,9,4,6,11,6,15,8,6,15,4,5,6,9,5,16,13,3,4,3,6,4,13,12,1,7,15,7,10,10,4,17,9,7,16,12,6,3,4,8,12,16,1,5,6,12,9,8,3,8,7,13,8,5,14,9,1,15,3,4,8,2,2,11,17,14,18,5,2,5,3,12,11,10,11,8,10,9,8,10,14,1,3,2,7,13,1,11,10,9,14,4,5,2,6,7,1,4,1,13,8,10,5,6,5,9,7,12,13,6,9,5,1,7,10,16,2,8,15,2,5,11,4,14,3,1,18,1,5,4,1,3,4,13,10,7,11,10,16,9,13,1,17,2,4,12,10,4,10,15,7,15,7,14,5,2,9,4],\"coloraxis\":\"coloraxis\",\"symbol\":\"circle\"},\"mode\":\"markers\",\"name\":\"\",\"orientation\":\"v\",\"showlegend\":false,\"x\":[\"2024-01-01T00:00:00\",\"2023-08-01T00:00:00\",\"2024-01-01T00:00:00\",\"2023-12-01T00:00:00\",\"2024-07-01T00:00:00\",\"2024-04-01T00:00:00\",\"2024-06-01T00:00:00\",\"2023-04-01T00:00:00\",\"2023-05-01T00:00:00\",\"2023-05-01T00:00:00\",\"2024-02-01T00:00:00\",\"2024-02-01T00:00:00\",\"2024-02-01T00:00:00\",\"2024-07-01T00:00:00\",\"2023-12-01T00:00:00\",\"2024-06-01T00:00:00\",\"2024-01-01T00:00:00\",\"2023-09-01T00:00:00\",\"2023-10-01T00:00:00\",\"2024-04-01T00:00:00\",\"2023-06-01T00:00:00\",\"2023-11-01T00:00:00\",\"2023-07-01T00:00:00\",\"2024-07-01T00:00:00\",\"2024-01-01T00:00:00\",\"2023-10-01T00:00:00\",\"2023-07-01T00:00:00\",\"2024-01-01T00:00:00\",\"2023-06-01T00:00:00\",\"2024-04-01T00:00:00\",\"2024-01-01T00:00:00\",\"2024-01-01T00:00:00\",\"2023-04-01T00:00:00\",\"2024-08-01T00:00:00\",\"2023-12-01T00:00:00\",\"2023-07-01T00:00:00\",\"2024-08-01T00:00:00\",\"2023-05-01T00:00:00\",\"2024-06-01T00:00:00\",\"2024-06-01T00:00:00\",\"2024-08-01T00:00:00\",\"2024-04-01T00:00:00\",\"2023-10-01T00:00:00\",\"2023-12-01T00:00:00\",\"2023-12-01T00:00:00\",\"2024-05-01T00:00:00\",\"2024-07-01T00:00:00\",\"2024-06-01T00:00:00\",\"2023-06-01T00:00:00\",\"2024-02-01T00:00:00\",\"2023-06-01T00:00:00\",\"2023-09-01T00:00:00\",\"2024-06-01T00:00:00\",\"2023-08-01T00:00:00\",\"2024-07-01T00:00:00\",\"2024-03-01T00:00:00\",\"2023-10-01T00:00:00\",\"2023-06-01T00:00:00\",\"2024-05-01T00:00:00\",\"2023-11-01T00:00:00\",\"2024-08-01T00:00:00\",\"2023-07-01T00:00:00\",\"2024-05-01T00:00:00\",\"2023-08-01T00:00:00\",\"2023-12-01T00:00:00\",\"2024-04-01T00:00:00\",\"2024-03-01T00:00:00\",\"2024-05-01T00:00:00\",\"2023-11-01T00:00:00\",\"2024-02-01T00:00:00\",\"2024-08-01T00:00:00\",\"2024-08-01T00:00:00\",\"2024-02-01T00:00:00\",\"2024-07-01T00:00:00\",\"2024-03-01T00:00:00\",\"2024-06-01T00:00:00\",\"2023-06-01T00:00:00\",\"2024-01-01T00:00:00\",\"2023-03-01T00:00:00\",\"2023-12-01T00:00:00\",\"2024-04-01T00:00:00\",\"2023-12-01T00:00:00\",\"2023-09-01T00:00:00\",\"2023-09-01T00:00:00\",\"2024-04-01T00:00:00\",\"2023-12-01T00:00:00\",\"2024-06-01T00:00:00\",\"2024-06-01T00:00:00\",\"2024-08-01T00:00:00\",\"2024-08-01T00:00:00\",\"2023-09-01T00:00:00\",\"2024-02-01T00:00:00\",\"2023-10-01T00:00:00\",\"2023-10-01T00:00:00\",\"2023-07-01T00:00:00\",\"2024-04-01T00:00:00\",\"2024-05-01T00:00:00\",\"2023-12-01T00:00:00\",\"2024-01-01T00:00:00\",\"2024-07-01T00:00:00\",\"2023-04-01T00:00:00\",\"2024-01-01T00:00:00\",\"2023-12-01T00:00:00\",\"2023-11-01T00:00:00\",\"2023-04-01T00:00:00\",\"2023-07-01T00:00:00\",\"2024-06-01T00:00:00\",\"2023-11-01T00:00:00\",\"2024-02-01T00:00:00\",\"2023-03-01T00:00:00\",\"2023-07-01T00:00:00\",\"2023-08-01T00:00:00\",\"2023-02-01T00:00:00\",\"2023-11-01T00:00:00\",\"2024-02-01T00:00:00\",\"2024-05-01T00:00:00\",\"2024-05-01T00:00:00\",\"2023-11-01T00:00:00\",\"2023-11-01T00:00:00\",\"2024-02-01T00:00:00\",\"2024-02-01T00:00:00\",\"2024-08-01T00:00:00\",\"2024-04-01T00:00:00\",\"2023-07-01T00:00:00\",\"2024-02-01T00:00:00\",\"2024-05-01T00:00:00\",\"2024-05-01T00:00:00\",\"2024-05-01T00:00:00\",\"2024-03-01T00:00:00\",\"2024-08-01T00:00:00\",\"2023-12-01T00:00:00\",\"2023-12-01T00:00:00\",\"2023-04-01T00:00:00\",\"2023-12-01T00:00:00\",\"2024-05-01T00:00:00\",\"2024-03-01T00:00:00\",\"2024-07-01T00:00:00\",\"2023-12-01T00:00:00\",\"2023-09-01T00:00:00\",\"2024-08-01T00:00:00\",\"2023-10-01T00:00:00\",\"2023-11-01T00:00:00\",\"2024-01-01T00:00:00\",\"2023-11-01T00:00:00\",\"2024-03-01T00:00:00\",\"2024-06-01T00:00:00\",\"2024-04-01T00:00:00\",\"2023-09-01T00:00:00\",\"2024-03-01T00:00:00\",\"2023-06-01T00:00:00\",\"2024-03-01T00:00:00\",\"2023-09-01T00:00:00\",\"2024-07-01T00:00:00\",\"2024-07-01T00:00:00\",\"2023-11-01T00:00:00\",\"2023-10-01T00:00:00\",\"2024-03-01T00:00:00\",\"2023-11-01T00:00:00\",\"2024-02-01T00:00:00\",\"2024-05-01T00:00:00\",\"2023-07-01T00:00:00\",\"2024-06-01T00:00:00\",\"2023-12-01T00:00:00\",\"2023-09-01T00:00:00\",\"2024-07-01T00:00:00\",\"2023-12-01T00:00:00\",\"2024-01-01T00:00:00\",\"2023-06-01T00:00:00\",\"2024-03-01T00:00:00\",\"2024-06-01T00:00:00\",\"2024-06-01T00:00:00\",\"2024-05-01T00:00:00\",\"2023-11-01T00:00:00\",\"2024-03-01T00:00:00\",\"2023-11-01T00:00:00\",\"2024-08-01T00:00:00\",\"2024-01-01T00:00:00\",\"2023-08-01T00:00:00\",\"2023-05-01T00:00:00\",\"2023-09-01T00:00:00\",\"2024-06-01T00:00:00\",\"2024-03-01T00:00:00\",\"2024-04-01T00:00:00\",\"2023-08-01T00:00:00\",\"2024-04-01T00:00:00\",\"2024-05-01T00:00:00\",\"2023-02-01T00:00:00\",\"2024-04-01T00:00:00\",\"2024-01-01T00:00:00\",\"2023-12-01T00:00:00\",\"2024-02-01T00:00:00\",\"2023-11-01T00:00:00\",\"2024-01-01T00:00:00\",\"2024-07-01T00:00:00\",\"2024-08-01T00:00:00\",\"2024-07-01T00:00:00\",\"2024-07-01T00:00:00\",\"2023-11-01T00:00:00\",\"2023-09-01T00:00:00\",\"2023-10-01T00:00:00\",\"2023-10-01T00:00:00\",\"2024-03-01T00:00:00\",\"2024-03-01T00:00:00\",\"2024-07-01T00:00:00\",\"2024-07-01T00:00:00\",\"2024-05-01T00:00:00\",\"2023-11-01T00:00:00\",\"2024-07-01T00:00:00\",\"2024-03-01T00:00:00\",\"2024-03-01T00:00:00\",\"2024-03-01T00:00:00\",\"2023-08-01T00:00:00\",\"2023-11-01T00:00:00\",\"2023-08-01T00:00:00\",\"2024-03-01T00:00:00\",\"2024-06-01T00:00:00\",\"2023-06-01T00:00:00\",\"2024-04-01T00:00:00\",\"2024-04-01T00:00:00\",\"2023-09-01T00:00:00\",\"2024-07-01T00:00:00\",\"2023-05-01T00:00:00\",\"2023-10-01T00:00:00\",\"2023-10-01T00:00:00\",\"2023-08-01T00:00:00\",\"2024-04-01T00:00:00\",\"2023-09-01T00:00:00\",\"2023-09-01T00:00:00\",\"2023-05-01T00:00:00\",\"2024-07-01T00:00:00\",\"2023-10-01T00:00:00\",\"2024-02-01T00:00:00\",\"2023-09-01T00:00:00\",\"2024-05-01T00:00:00\",\"2024-04-01T00:00:00\",\"2024-06-01T00:00:00\",\"2024-05-01T00:00:00\",\"2024-04-01T00:00:00\",\"2024-01-01T00:00:00\",\"2024-05-01T00:00:00\",\"2024-03-01T00:00:00\",\"2024-01-01T00:00:00\",\"2023-07-01T00:00:00\",\"2023-08-01T00:00:00\",\"2024-07-01T00:00:00\",\"2024-04-01T00:00:00\",\"2023-10-01T00:00:00\",\"2024-03-01T00:00:00\",\"2024-06-01T00:00:00\",\"2023-11-01T00:00:00\",\"2024-01-01T00:00:00\",\"2024-01-01T00:00:00\",\"2024-02-01T00:00:00\",\"2024-08-01T00:00:00\",\"2024-02-01T00:00:00\",\"2023-10-01T00:00:00\",\"2024-06-01T00:00:00\",\"2023-10-01T00:00:00\",\"2023-08-01T00:00:00\",\"2023-12-01T00:00:00\",\"2023-01-01T00:00:00\",\"2023-08-01T00:00:00\",\"2023-10-01T00:00:00\",\"2024-04-01T00:00:00\",\"2024-01-01T00:00:00\",\"2024-03-01T00:00:00\",\"2023-12-01T00:00:00\",\"2023-12-01T00:00:00\",\"2024-08-01T00:00:00\",\"2024-06-01T00:00:00\",\"2024-08-01T00:00:00\",\"2023-05-01T00:00:00\",\"2024-08-01T00:00:00\",\"2023-08-01T00:00:00\",\"2023-07-01T00:00:00\",\"2024-05-01T00:00:00\",\"2024-06-01T00:00:00\",\"2024-02-01T00:00:00\",\"2024-08-01T00:00:00\",\"2024-08-01T00:00:00\",\"2024-02-01T00:00:00\",\"2024-05-01T00:00:00\",\"2024-02-01T00:00:00\",\"2024-05-01T00:00:00\",\"2024-02-01T00:00:00\",\"2023-03-01T00:00:00\",\"2024-04-01T00:00:00\",\"2024-01-01T00:00:00\"],\"xaxis\":\"x\",\"y\":[70144.32975342302,89832.64174302659,67393.99935189556,78469.65753519084,86121.87124242412,59780.74520784726,85199.69502940672,55546.758200358,53594.64087455855,83596.12929550445,46792.80592168391,45420.19407952087,56897.89759892516,62675.7399734738,67976.48301549267,88031.92944939567,64085.78726805472,80331.53047267684,76979.63688962717,67919.75570270886,73259.57275578004,78821.58473609787,86679.56310682674,95213.68966906628,61291.24678132994,93859.25492058849,103514.07654637843,65113.304427696334,96170.75513204552,68155.10182682614,62321.185904929735,63896.52411330267,41315.96039735968,86779.56125645342,77311.7325857065,79223.50702788681,96928.76640507556,76829.65740399598,69386.93779273993,88397.80618075823,77116.13662462756,67069.27226336948,81868.41428107892,70868.22863716906,78011.47685748627,60660.11858147588,92203.37788727562,85921.77350210604,74461.3300815756,56253.72916016804,70303.57791726498,78157.03595090231,84257.03351964157,88795.17657261198,65651.74816907741,68244.80178599675,87251.80404690388,73005.90657509486,72348.53640590521,81378.06723555003,101796.01384513402,88427.899988315,93460.17111261329,85873.34280715702,71451.23535017567,66174.1699197618,60605.687252061776,88669.06406410108,77066.24946317486,57124.44627794414,104273.19791388602,101269.60821427625,59192.84781786587,91358.25545434444,56937.31214645082,77461.84566156357,70543.29479090426,62695.03603223026,69172.94114125201,71770.11991741187,70141.18302562715,91155.06966664012,76867.6576849822,77612.34824361361,68228.57996607038,71841.95649490223,72277.17433047594,76722.84437788573,101263.30087057114,99273.66372300716,76299.31926783688,66629.53063177211,76188.85729578286,71950.99466919115,78058.9540326428,68645.15818930473,62545.44331653681,74784.69928006188,48703.56522510624,89961.87197571792,58143.25124141954,71464.0443148074,73320.04348172927,75280.14850276147,41079.710956063216,77732.93608010701,83329.9427890974,71101.53653938205,59794.51512961344,47731.40805292456,86232.20955709719,90531.24326644512,69262.076535612,83220.77501329989,65875.03279280485,65318.3121215813,83823.83516804501,78487.45066933938,77155.3770869937,60988.49843246912,63918.16861257808,100017.93826830309,59702.2673086135,88775.8655531337,33445.83582454365,92363.24754826642,93259.82002281866,95688.25905103688,66561.29923173082,76543.70749048935,71921.75930034103,76974.29344904075,67408.97363077698,70251.90763961902,91452.15101119052,70569.85272301767,66501.30768510532,54705.34854766614,83235.6615163625,86311.25771103658,74857.07609649669,70501.20973530026,73959.5218174962,59821.31794956567,61297.94664185104,62352.60524267984,70235.38099695194,76629.68465507428,73531.70428773575,72168.81332379529,73195.8144377591,75949.48242468061,77858.0182411904,91599.73332059344,71958.19845629354,88669.03524768616,60307.45901253829,65776.4782871556,58898.500606176254,76937.45941804448,67398.02491724907,86191.86534888194,74426.06067148237,67858.26688872931,79490.15467278149,78334.70498792647,63089.962900526654,75648.81803606759,64298.589996252325,85399.18644731975,80265.57956620239,71142.03618047928,79902.35522673873,70524.44234031209,70139.24447431363,105046.65006076609,64255.89147433209,100796.70483030748,56123.0406998788,84174.4935380331,80456.99790470261,39060.90766277054,80183.00044631478,90811.09710396048,56939.07362855324,93983.56050246628,56467.24141128526,63381.525496647846,72005.4057979783,88010.763717182,57277.08128059145,80101.64642089384,67033.88730185888,102798.97522843508,74056.63581228362,75594.12019496183,86030.15783129084,73307.97197948658,84659.57456880333,75248.62363309786,90579.72594124293,70447.61334626473,37523.63786511506,96794.2917836474,92798.12554886426,93483.03145478992,81391.36822457227,84425.71089992557,67440.40738187026,66176.05134114934,60128.0348445923,93832.09915064946,72479.7688618314,87969.78128858398,74532.67128989103,82926.50227177041,70368.25766356544,65782.85782026516,53762.55619870727,88479.19947094056,87653.53177678258,47612.6961746149,89300.14969697775,89605.34807563738,86081.4223032521,74145.23395391511,86923.14122655959,79941.75094386745,82521.45507498755,88052.32023630045,72590.39312601514,32002.029316789703,72656.36237495983,70158.89822754999,66159.98680295637,85410.77176923194,71955.62193588301,49735.72274864123,66477.71230606889,90084.43239418558,54791.68692239488,69695.19738109274,88279.10832233621,90405.2268308197,92285.07571501809,64625.54721506617,77522.66258996759,55604.322496859175,87740.9477916,72041.31005404837,64544.80851058665,30559.79296126101,60360.49688443216,86091.95656490004,62278.86141997908,93841.57341637148,76783.37472161786,77094.67646738233,93137.61176153323,72290.88798788302,60943.9754538628,88936.5248851084,75604.52468516931,58155.06672084998,67128.01537113427,68971.86627954089,74095.6535620294,48208.69305013722,72017.91406767856,86405.28916932266,101301.8778070962,63296.50985164562,105229.74151706565,89280.29751934951,88856.13109395815,91054.77470277864,95927.52814694303,56878.14586131458,101281.6644551965,98857.12058178397,58140.195237262655,65937.02136328894,59331.81077853861,67800.89004086397,59325.40413753039,55997.315600698144,71576.7585758298,71483.45168379508],\"yaxis\":\"y\",\"type\":\"scatter\"}],                        {\"template\":{\"data\":{\"histogram2dcontour\":[{\"type\":\"histogram2dcontour\",\"colorbar\":{\"outlinewidth\":0,\"ticks\":\"\"},\"colorscale\":[[0.0,\"#0d0887\"],[0.1111111111111111,\"#46039f\"],[0.2222222222222222,\"#7201a8\"],[0.3333333333333333,\"#9c179e\"],[0.4444444444444444,\"#bd3786\"],[0.5555555555555556,\"#d8576b\"],[0.6666666666666666,\"#ed7953\"],[0.7777777777777778,\"#fb9f3a\"],[0.8888888888888888,\"#fdca26\"],[1.0,\"#f0f921\"]]}],\"choropleth\":[{\"type\":\"choropleth\",\"colorbar\":{\"outlinewidth\":0,\"ticks\":\"\"}}],\"histogram2d\":[{\"type\":\"histogram2d\",\"colorbar\":{\"outlinewidth\":0,\"ticks\":\"\"},\"colorscale\":[[0.0,\"#0d0887\"],[0.1111111111111111,\"#46039f\"],[0.2222222222222222,\"#7201a8\"],[0.3333333333333333,\"#9c179e\"],[0.4444444444444444,\"#bd3786\"],[0.5555555555555556,\"#d8576b\"],[0.6666666666666666,\"#ed7953\"],[0.7777777777777778,\"#fb9f3a\"],[0.8888888888888888,\"#fdca26\"],[1.0,\"#f0f921\"]]}],\"heatmap\":[{\"type\":\"heatmap\",\"colorbar\":{\"outlinewidth\":0,\"ticks\":\"\"},\"colorscale\":[[0.0,\"#0d0887\"],[0.1111111111111111,\"#46039f\"],[0.2222222222222222,\"#7201a8\"],[0.3333333333333333,\"#9c179e\"],[0.4444444444444444,\"#bd3786\"],[0.5555555555555556,\"#d8576b\"],[0.6666666666666666,\"#ed7953\"],[0.7777777777777778,\"#fb9f3a\"],[0.8888888888888888,\"#fdca26\"],[1.0,\"#f0f921\"]]}],\"heatmapgl\":[{\"type\":\"heatmapgl\",\"colorbar\":{\"outlinewidth\":0,\"ticks\":\"\"},\"colorscale\":[[0.0,\"#0d0887\"],[0.1111111111111111,\"#46039f\"],[0.2222222222222222,\"#7201a8\"],[0.3333333333333333,\"#9c179e\"],[0.4444444444444444,\"#bd3786\"],[0.5555555555555556,\"#d8576b\"],[0.6666666666666666,\"#ed7953\"],[0.7777777777777778,\"#fb9f3a\"],[0.8888888888888888,\"#fdca26\"],[1.0,\"#f0f921\"]]}],\"contourcarpet\":[{\"type\":\"contourcarpet\",\"colorbar\":{\"outlinewidth\":0,\"ticks\":\"\"}}],\"contour\":[{\"type\":\"contour\",\"colorbar\":{\"outlinewidth\":0,\"ticks\":\"\"},\"colorscale\":[[0.0,\"#0d0887\"],[0.1111111111111111,\"#46039f\"],[0.2222222222222222,\"#7201a8\"],[0.3333333333333333,\"#9c179e\"],[0.4444444444444444,\"#bd3786\"],[0.5555555555555556,\"#d8576b\"],[0.6666666666666666,\"#ed7953\"],[0.7777777777777778,\"#fb9f3a\"],[0.8888888888888888,\"#fdca26\"],[1.0,\"#f0f921\"]]}],\"surface\":[{\"type\":\"surface\",\"colorbar\":{\"outlinewidth\":0,\"ticks\":\"\"},\"colorscale\":[[0.0,\"#0d0887\"],[0.1111111111111111,\"#46039f\"],[0.2222222222222222,\"#7201a8\"],[0.3333333333333333,\"#9c179e\"],[0.4444444444444444,\"#bd3786\"],[0.5555555555555556,\"#d8576b\"],[0.6666666666666666,\"#ed7953\"],[0.7777777777777778,\"#fb9f3a\"],[0.8888888888888888,\"#fdca26\"],[1.0,\"#f0f921\"]]}],\"mesh3d\":[{\"type\":\"mesh3d\",\"colorbar\":{\"outlinewidth\":0,\"ticks\":\"\"}}],\"scatter\":[{\"fillpattern\":{\"fillmode\":\"overlay\",\"size\":10,\"solidity\":0.2},\"type\":\"scatter\"}],\"parcoords\":[{\"type\":\"parcoords\",\"line\":{\"colorbar\":{\"outlinewidth\":0,\"ticks\":\"\"}}}],\"scatterpolargl\":[{\"type\":\"scatterpolargl\",\"marker\":{\"colorbar\":{\"outlinewidth\":0,\"ticks\":\"\"}}}],\"bar\":[{\"error_x\":{\"color\":\"#2a3f5f\"},\"error_y\":{\"color\":\"#2a3f5f\"},\"marker\":{\"line\":{\"color\":\"#E5ECF6\",\"width\":0.5},\"pattern\":{\"fillmode\":\"overlay\",\"size\":10,\"solidity\":0.2}},\"type\":\"bar\"}],\"scattergeo\":[{\"type\":\"scattergeo\",\"marker\":{\"colorbar\":{\"outlinewidth\":0,\"ticks\":\"\"}}}],\"scatterpolar\":[{\"type\":\"scatterpolar\",\"marker\":{\"colorbar\":{\"outlinewidth\":0,\"ticks\":\"\"}}}],\"histogram\":[{\"marker\":{\"pattern\":{\"fillmode\":\"overlay\",\"size\":10,\"solidity\":0.2}},\"type\":\"histogram\"}],\"scattergl\":[{\"type\":\"scattergl\",\"marker\":{\"colorbar\":{\"outlinewidth\":0,\"ticks\":\"\"}}}],\"scatter3d\":[{\"type\":\"scatter3d\",\"line\":{\"colorbar\":{\"outlinewidth\":0,\"ticks\":\"\"}},\"marker\":{\"colorbar\":{\"outlinewidth\":0,\"ticks\":\"\"}}}],\"scattermapbox\":[{\"type\":\"scattermapbox\",\"marker\":{\"colorbar\":{\"outlinewidth\":0,\"ticks\":\"\"}}}],\"scatterternary\":[{\"type\":\"scatterternary\",\"marker\":{\"colorbar\":{\"outlinewidth\":0,\"ticks\":\"\"}}}],\"scattercarpet\":[{\"type\":\"scattercarpet\",\"marker\":{\"colorbar\":{\"outlinewidth\":0,\"ticks\":\"\"}}}],\"carpet\":[{\"aaxis\":{\"endlinecolor\":\"#2a3f5f\",\"gridcolor\":\"white\",\"linecolor\":\"white\",\"minorgridcolor\":\"white\",\"startlinecolor\":\"#2a3f5f\"},\"baxis\":{\"endlinecolor\":\"#2a3f5f\",\"gridcolor\":\"white\",\"linecolor\":\"white\",\"minorgridcolor\":\"white\",\"startlinecolor\":\"#2a3f5f\"},\"type\":\"carpet\"}],\"table\":[{\"cells\":{\"fill\":{\"color\":\"#EBF0F8\"},\"line\":{\"color\":\"white\"}},\"header\":{\"fill\":{\"color\":\"#C8D4E3\"},\"line\":{\"color\":\"white\"}},\"type\":\"table\"}],\"barpolar\":[{\"marker\":{\"line\":{\"color\":\"#E5ECF6\",\"width\":0.5},\"pattern\":{\"fillmode\":\"overlay\",\"size\":10,\"solidity\":0.2}},\"type\":\"barpolar\"}],\"pie\":[{\"automargin\":true,\"type\":\"pie\"}]},\"layout\":{\"autotypenumbers\":\"strict\",\"colorway\":[\"#636efa\",\"#EF553B\",\"#00cc96\",\"#ab63fa\",\"#FFA15A\",\"#19d3f3\",\"#FF6692\",\"#B6E880\",\"#FF97FF\",\"#FECB52\"],\"font\":{\"color\":\"#2a3f5f\"},\"hovermode\":\"closest\",\"hoverlabel\":{\"align\":\"left\"},\"paper_bgcolor\":\"white\",\"plot_bgcolor\":\"#E5ECF6\",\"polar\":{\"bgcolor\":\"#E5ECF6\",\"angularaxis\":{\"gridcolor\":\"white\",\"linecolor\":\"white\",\"ticks\":\"\"},\"radialaxis\":{\"gridcolor\":\"white\",\"linecolor\":\"white\",\"ticks\":\"\"}},\"ternary\":{\"bgcolor\":\"#E5ECF6\",\"aaxis\":{\"gridcolor\":\"white\",\"linecolor\":\"white\",\"ticks\":\"\"},\"baxis\":{\"gridcolor\":\"white\",\"linecolor\":\"white\",\"ticks\":\"\"},\"caxis\":{\"gridcolor\":\"white\",\"linecolor\":\"white\",\"ticks\":\"\"}},\"coloraxis\":{\"colorbar\":{\"outlinewidth\":0,\"ticks\":\"\"}},\"colorscale\":{\"sequential\":[[0.0,\"#0d0887\"],[0.1111111111111111,\"#46039f\"],[0.2222222222222222,\"#7201a8\"],[0.3333333333333333,\"#9c179e\"],[0.4444444444444444,\"#bd3786\"],[0.5555555555555556,\"#d8576b\"],[0.6666666666666666,\"#ed7953\"],[0.7777777777777778,\"#fb9f3a\"],[0.8888888888888888,\"#fdca26\"],[1.0,\"#f0f921\"]],\"sequentialminus\":[[0.0,\"#0d0887\"],[0.1111111111111111,\"#46039f\"],[0.2222222222222222,\"#7201a8\"],[0.3333333333333333,\"#9c179e\"],[0.4444444444444444,\"#bd3786\"],[0.5555555555555556,\"#d8576b\"],[0.6666666666666666,\"#ed7953\"],[0.7777777777777778,\"#fb9f3a\"],[0.8888888888888888,\"#fdca26\"],[1.0,\"#f0f921\"]],\"diverging\":[[0,\"#8e0152\"],[0.1,\"#c51b7d\"],[0.2,\"#de77ae\"],[0.3,\"#f1b6da\"],[0.4,\"#fde0ef\"],[0.5,\"#f7f7f7\"],[0.6,\"#e6f5d0\"],[0.7,\"#b8e186\"],[0.8,\"#7fbc41\"],[0.9,\"#4d9221\"],[1,\"#276419\"]]},\"xaxis\":{\"gridcolor\":\"white\",\"linecolor\":\"white\",\"ticks\":\"\",\"title\":{\"standoff\":15},\"zerolinecolor\":\"white\",\"automargin\":true,\"zerolinewidth\":2},\"yaxis\":{\"gridcolor\":\"white\",\"linecolor\":\"white\",\"ticks\":\"\",\"title\":{\"standoff\":15},\"zerolinecolor\":\"white\",\"automargin\":true,\"zerolinewidth\":2},\"scene\":{\"xaxis\":{\"backgroundcolor\":\"#E5ECF6\",\"gridcolor\":\"white\",\"linecolor\":\"white\",\"showbackground\":true,\"ticks\":\"\",\"zerolinecolor\":\"white\",\"gridwidth\":2},\"yaxis\":{\"backgroundcolor\":\"#E5ECF6\",\"gridcolor\":\"white\",\"linecolor\":\"white\",\"showbackground\":true,\"ticks\":\"\",\"zerolinecolor\":\"white\",\"gridwidth\":2},\"zaxis\":{\"backgroundcolor\":\"#E5ECF6\",\"gridcolor\":\"white\",\"linecolor\":\"white\",\"showbackground\":true,\"ticks\":\"\",\"zerolinecolor\":\"white\",\"gridwidth\":2}},\"shapedefaults\":{\"line\":{\"color\":\"#2a3f5f\"}},\"annotationdefaults\":{\"arrowcolor\":\"#2a3f5f\",\"arrowhead\":0,\"arrowwidth\":1},\"geo\":{\"bgcolor\":\"white\",\"landcolor\":\"#E5ECF6\",\"subunitcolor\":\"white\",\"showland\":true,\"showlakes\":true,\"lakecolor\":\"white\"},\"title\":{\"x\":0.05},\"mapbox\":{\"style\":\"light\"}}},\"xaxis\":{\"anchor\":\"y\",\"domain\":[0.0,1.0],\"title\":{\"text\":\"Fecha de la predicción\"}},\"yaxis\":{\"anchor\":\"x\",\"domain\":[0.0,1.0],\"title\":{\"text\":\"Cantidad predicha\"}},\"coloraxis\":{\"colorbar\":{\"title\":{\"text\":\"Distiancia de la predicción (Meses)\",\"side\":\"right\"},\"ticks\":\"outside\"},\"colorscale\":[[0.0,\"#0d0887\"],[0.1111111111111111,\"#46039f\"],[0.2222222222222222,\"#7201a8\"],[0.3333333333333333,\"#9c179e\"],[0.4444444444444444,\"#bd3786\"],[0.5555555555555556,\"#d8576b\"],[0.6666666666666666,\"#ed7953\"],[0.7777777777777778,\"#fb9f3a\"],[0.8888888888888888,\"#fdca26\"],[1.0,\"#f0f921\"]]},\"legend\":{\"tracegroupgap\":0},\"title\":{\"text\":\"Predicción de las cantidades de 7up Free (L3)\"}},                        {\"responsive\": true}                    ).then(function(){\n",
              "                            \n",
              "var gd = document.getElementById('4a8e490f-9ec8-4c21-b09b-d3a5a9e11d5f');\n",
              "var x = new MutationObserver(function (mutations, observer) {{\n",
              "        var display = window.getComputedStyle(gd).display;\n",
              "        if (!display || display === 'none') {{\n",
              "            console.log([gd, 'removed!']);\n",
              "            Plotly.purge(gd);\n",
              "            observer.disconnect();\n",
              "        }}\n",
              "}});\n",
              "\n",
              "// Listen for the removal of the full notebook cells\n",
              "var notebookContainer = gd.closest('#notebook-container');\n",
              "if (notebookContainer) {{\n",
              "    x.observe(notebookContainer, {childList: true});\n",
              "}}\n",
              "\n",
              "// Listen for the clearing of the current output cell\n",
              "var outputEl = gd.closest('.output');\n",
              "if (outputEl) {{\n",
              "    x.observe(outputEl, {childList: true});\n",
              "}}\n",
              "\n",
              "                        })                };                            </script>        </div>\n",
              "</body>\n",
              "</html>"
            ]
          },
          "metadata": {}
        },
        {
          "output_type": "display_data",
          "data": {
            "text/html": [
              "<html>\n",
              "<head><meta charset=\"utf-8\" /></head>\n",
              "<body>\n",
              "    <div>            <script src=\"https://cdnjs.cloudflare.com/ajax/libs/mathjax/2.7.5/MathJax.js?config=TeX-AMS-MML_SVG\"></script><script type=\"text/javascript\">if (window.MathJax && window.MathJax.Hub && window.MathJax.Hub.Config) {window.MathJax.Hub.Config({SVG: {font: \"STIX-Web\"}});}</script>                <script type=\"text/javascript\">window.PlotlyConfig = {MathJaxConfig: 'local'};</script>\n",
              "        <script charset=\"utf-8\" src=\"https://cdn.plot.ly/plotly-2.35.2.min.js\"></script>                <div id=\"5f9eaf58-8645-4c8b-a5f3-e2b1b34c0953\" class=\"plotly-graph-div\" style=\"height:525px; width:100%;\"></div>            <script type=\"text/javascript\">                                    window.PLOTLYENV=window.PLOTLYENV || {};                                    if (document.getElementById(\"5f9eaf58-8645-4c8b-a5f3-e2b1b34c0953\")) {                    Plotly.newPlot(                        \"5f9eaf58-8645-4c8b-a5f3-e2b1b34c0953\",                        [{\"hovertemplate\":\"Fecha de la predicción=%{x}\\u003cbr\\u003eCantidad predicha=%{y}\\u003cbr\\u003eDistiancia de la predicción (Meses)=%{marker.color}\\u003cextra\\u003e\\u003c\\u002fextra\\u003e\",\"legendgroup\":\"\",\"marker\":{\"color\":[15,7,2,12,14,6,10,6,4,13,3,11,10,7,16,5,2,4,3,1,1,6,8,2,2,8,11,9,4,1,7,12,8,5,4,9,3,2,11,3,1,15,4,2,7,1,7,5,14,13,7,3,6,17,13,5,1,12,4,6,2,17,4,8,15,14,12,5,8,7,3,4,10,16,10,1,11,7,11,10,1,10,14,5,13,11,9,16,3,9,16,5,11,18,4,8,11,15,13,5,3,8,1,1,15,10,10,6,12,18,17,17,9,9,10,6,7,3,4,12,3,10,2,9,4,2,4,18,11,12,7,6,8,7,6,8,2,14,14,9,9,6,12,6,1,5,3,5,3,12,7,16,9,5,13,9,10,6,1,8,14,15,13,8,8,9,13,2,5,11,2],\"coloraxis\":\"coloraxis\",\"symbol\":\"circle\"},\"mode\":\"markers\",\"name\":\"\",\"orientation\":\"v\",\"showlegend\":false,\"x\":[\"2024-04-01T00:00:00\",\"2024-05-01T00:00:00\",\"2023-09-01T00:00:00\",\"2024-03-01T00:00:00\",\"2024-07-01T00:00:00\",\"2024-02-01T00:00:00\",\"2024-01-01T00:00:00\",\"2023-06-01T00:00:00\",\"2024-02-01T00:00:00\",\"2024-04-01T00:00:00\",\"2023-07-01T00:00:00\",\"2024-01-01T00:00:00\",\"2024-07-01T00:00:00\",\"2023-11-01T00:00:00\",\"2024-08-01T00:00:00\",\"2023-11-01T00:00:00\",\"2023-07-01T00:00:00\",\"2023-09-01T00:00:00\",\"2023-12-01T00:00:00\",\"2023-08-01T00:00:00\",\"2023-07-01T00:00:00\",\"2023-08-01T00:00:00\",\"2024-01-01T00:00:00\",\"2023-06-01T00:00:00\",\"2023-08-01T00:00:00\",\"2023-11-01T00:00:00\",\"2024-07-01T00:00:00\",\"2023-11-01T00:00:00\",\"2023-06-01T00:00:00\",\"2023-05-01T00:00:00\",\"2024-06-01T00:00:00\",\"2024-02-01T00:00:00\",\"2024-02-01T00:00:00\",\"2023-05-01T00:00:00\",\"2023-04-01T00:00:00\",\"2024-08-01T00:00:00\",\"2023-08-01T00:00:00\",\"2024-01-01T00:00:00\",\"2024-04-01T00:00:00\",\"2024-01-01T00:00:00\",\"2023-09-01T00:00:00\",\"2024-05-01T00:00:00\",\"2023-08-01T00:00:00\",\"2023-02-01T00:00:00\",\"2023-07-01T00:00:00\",\"2023-01-01T00:00:00\",\"2023-12-01T00:00:00\",\"2024-01-01T00:00:00\",\"2024-03-01T00:00:00\",\"2024-03-01T00:00:00\",\"2024-02-01T00:00:00\",\"2023-06-01T00:00:00\",\"2023-10-01T00:00:00\",\"2024-06-01T00:00:00\",\"2024-05-01T00:00:00\",\"2024-02-01T00:00:00\",\"2023-10-01T00:00:00\",\"2024-05-01T00:00:00\",\"2023-05-01T00:00:00\",\"2024-01-01T00:00:00\",\"2023-10-01T00:00:00\",\"2024-08-01T00:00:00\",\"2023-10-01T00:00:00\",\"2024-07-01T00:00:00\",\"2024-07-01T00:00:00\",\"2024-04-01T00:00:00\",\"2024-04-01T00:00:00\",\"2024-03-01T00:00:00\",\"2024-05-01T00:00:00\",\"2023-10-01T00:00:00\",\"2023-09-01T00:00:00\",\"2024-03-01T00:00:00\",\"2023-10-01T00:00:00\",\"2024-04-01T00:00:00\",\"2024-05-01T00:00:00\",\"2023-12-01T00:00:00\",\"2024-06-01T00:00:00\",\"2024-04-01T00:00:00\",\"2023-11-01T00:00:00\",\"2024-08-01T00:00:00\",\"2023-03-01T00:00:00\",\"2024-06-01T00:00:00\",\"2024-08-01T00:00:00\",\"2023-06-01T00:00:00\",\"2024-01-01T00:00:00\",\"2024-03-01T00:00:00\",\"2024-02-01T00:00:00\",\"2024-07-01T00:00:00\",\"2023-11-01T00:00:00\",\"2023-12-01T00:00:00\",\"2024-05-01T00:00:00\",\"2023-10-01T00:00:00\",\"2024-02-01T00:00:00\",\"2024-08-01T00:00:00\",\"2024-01-01T00:00:00\",\"2023-10-01T00:00:00\",\"2024-08-01T00:00:00\",\"2024-03-01T00:00:00\",\"2024-06-01T00:00:00\",\"2023-12-01T00:00:00\",\"2023-04-01T00:00:00\",\"2023-08-01T00:00:00\",\"2023-11-01T00:00:00\",\"2023-04-01T00:00:00\",\"2024-06-01T00:00:00\",\"2024-03-01T00:00:00\",\"2024-02-01T00:00:00\",\"2023-07-01T00:00:00\",\"2024-07-01T00:00:00\",\"2024-07-01T00:00:00\",\"2024-07-01T00:00:00\",\"2024-05-01T00:00:00\",\"2024-06-01T00:00:00\",\"2024-05-01T00:00:00\",\"2024-04-01T00:00:00\",\"2024-05-01T00:00:00\",\"2023-08-01T00:00:00\",\"2023-03-01T00:00:00\",\"2023-11-01T00:00:00\",\"2024-08-01T00:00:00\",\"2023-05-01T00:00:00\",\"2023-11-01T00:00:00\",\"2023-05-01T00:00:00\",\"2023-10-01T00:00:00\",\"2023-07-01T00:00:00\",\"2023-03-01T00:00:00\",\"2023-12-01T00:00:00\",\"2024-06-01T00:00:00\",\"2023-12-01T00:00:00\",\"2024-01-01T00:00:00\",\"2024-01-01T00:00:00\",\"2024-03-01T00:00:00\",\"2023-09-01T00:00:00\",\"2023-09-01T00:00:00\",\"2023-12-01T00:00:00\",\"2024-06-01T00:00:00\",\"2023-04-01T00:00:00\",\"2024-02-01T00:00:00\",\"2024-05-01T00:00:00\",\"2024-03-01T00:00:00\",\"2024-07-01T00:00:00\",\"2023-09-01T00:00:00\",\"2024-06-01T00:00:00\",\"2024-04-01T00:00:00\",\"2023-02-01T00:00:00\",\"2023-07-01T00:00:00\",\"2024-02-01T00:00:00\",\"2023-09-01T00:00:00\",\"2023-10-01T00:00:00\",\"2023-12-01T00:00:00\",\"2024-03-01T00:00:00\",\"2024-06-01T00:00:00\",\"2024-01-01T00:00:00\",\"2023-08-01T00:00:00\",\"2024-02-01T00:00:00\",\"2024-04-01T00:00:00\",\"2023-12-01T00:00:00\",\"2023-11-01T00:00:00\",\"2023-06-01T00:00:00\",\"2023-12-01T00:00:00\",\"2024-06-01T00:00:00\",\"2024-08-01T00:00:00\",\"2024-08-01T00:00:00\",\"2024-04-01T00:00:00\",\"2024-03-01T00:00:00\",\"2023-09-01T00:00:00\",\"2024-07-01T00:00:00\",\"2023-12-01T00:00:00\",\"2024-04-01T00:00:00\",\"2024-05-01T00:00:00\",\"2023-11-01T00:00:00\"],\"xaxis\":\"x\",\"y\":[38882.92122747848,46147.26811412559,97152.3082271685,53554.87360386692,108945.32711611134,42504.18009647184,50826.66116249256,68621.31677923279,40560.99554854425,49815.605181460254,110233.43973133144,56924.146344995,94195.37994911688,60833.869094251255,107175.92092781451,72751.73083829874,119153.20150157736,91856.22898616915,98946.5096626945,122545.71128125576,122650.3731298861,112043.5487231638,58937.20857476977,83584.52587326315,124304.99553283886,63435.4908168918,96219.49563323832,66107.12670852234,83587.48554147672,69313.60916397133,81207.43284972022,50778.41371645809,57617.07433884984,53748.32180069965,57308.78245021579,108958.62829772718,120782.5974762808,60523.0720800666,61546.829826545785,52865.62775271946,79801.70034068903,52178.3101232894,110108.0889691098,52017.66287621038,108283.13970406455,52156.149274496944,107557.1814449448,55279.92535363238,45365.43814435575,58172.90341287656,59416.40457759978,83350.35781319276,77641.42243320371,58099.95465012265,56124.95584682115,47864.03290054413,73630.60073803787,61571.37178659727,55368.04597707433,65557.54970504565,77791.83167536971,90259.84634657673,89306.57714620311,108580.0853831884,105320.36155754572,53270.03264078815,58750.918297788274,55182.64624931241,53955.8543160377,74501.58277062513,95394.53166857836,69858.44944576219,60299.96101485749,38302.18247599687,67061.2922344097,110375.66296212474,88376.63897656988,50547.21412236516,31428.35934022217,96340.25633923404,68081.91771190088,71978.37827994364,114287.9766575864,77314.00596663717,38711.8916246336,65357.05284874294,53999.13755334691,90529.20271311284,61718.14595255697,93502.00802725642,36566.28566433121,85752.36983794278,43122.34316757595,101054.85020912086,52786.73464939952,84563.81944725316,97622.36779915149,45662.14578192468,82862.50072090428,112708.84100094084,63681.36636582853,91990.38171501992,61262.82405467652,64433.42782662976,64262.22227009748,66053.61523489036,52092.089023831344,96550.85617005374,114475.2899406821,85645.74824430484,99449.57726808835,39008.05305967558,69891.76888848945,44851.14101824394,65196.57586375099,59891.45040040559,101724.84056942674,52204.17106996863,74526.13376089299,97524.45658383786,64118.87406554946,54676.09375489298,68631.88786635315,72189.48031200888,107335.55538137109,63117.73284800981,92460.94135452854,55679.1905719566,87261.24737175005,38339.0054055823,62539.24073442159,63231.97308065834,69354.86016624869,81380.60088270345,110911.99496673937,68815.0559360197,66646.50847605168,39726.93931521021,43488.38386120211,69687.45664624442,95242.3957391952,75029.24744756009,86544.05600981176,50053.13308056402,65063.618869695885,108522.4174158544,58483.77172568203,79032.59566621535,91072.6668867953,86063.78928535203,45801.27604502542,73427.24038021264,58381.864787584775,110897.0290942698,30066.093737320927,67012.53246650503,103051.45979916737,69239.50875178065,93070.37510637032,104033.60676220233,79278.8981339029,110574.72309081478,116137.19821819912,48885.884290248265,71495.10006699641,61430.54221843868,112633.35425463364,93897.032181378,59781.43068905469,65237.02244965362,62128.23667901397],\"yaxis\":\"y\",\"type\":\"scatter\"}],                        {\"template\":{\"data\":{\"histogram2dcontour\":[{\"type\":\"histogram2dcontour\",\"colorbar\":{\"outlinewidth\":0,\"ticks\":\"\"},\"colorscale\":[[0.0,\"#0d0887\"],[0.1111111111111111,\"#46039f\"],[0.2222222222222222,\"#7201a8\"],[0.3333333333333333,\"#9c179e\"],[0.4444444444444444,\"#bd3786\"],[0.5555555555555556,\"#d8576b\"],[0.6666666666666666,\"#ed7953\"],[0.7777777777777778,\"#fb9f3a\"],[0.8888888888888888,\"#fdca26\"],[1.0,\"#f0f921\"]]}],\"choropleth\":[{\"type\":\"choropleth\",\"colorbar\":{\"outlinewidth\":0,\"ticks\":\"\"}}],\"histogram2d\":[{\"type\":\"histogram2d\",\"colorbar\":{\"outlinewidth\":0,\"ticks\":\"\"},\"colorscale\":[[0.0,\"#0d0887\"],[0.1111111111111111,\"#46039f\"],[0.2222222222222222,\"#7201a8\"],[0.3333333333333333,\"#9c179e\"],[0.4444444444444444,\"#bd3786\"],[0.5555555555555556,\"#d8576b\"],[0.6666666666666666,\"#ed7953\"],[0.7777777777777778,\"#fb9f3a\"],[0.8888888888888888,\"#fdca26\"],[1.0,\"#f0f921\"]]}],\"heatmap\":[{\"type\":\"heatmap\",\"colorbar\":{\"outlinewidth\":0,\"ticks\":\"\"},\"colorscale\":[[0.0,\"#0d0887\"],[0.1111111111111111,\"#46039f\"],[0.2222222222222222,\"#7201a8\"],[0.3333333333333333,\"#9c179e\"],[0.4444444444444444,\"#bd3786\"],[0.5555555555555556,\"#d8576b\"],[0.6666666666666666,\"#ed7953\"],[0.7777777777777778,\"#fb9f3a\"],[0.8888888888888888,\"#fdca26\"],[1.0,\"#f0f921\"]]}],\"heatmapgl\":[{\"type\":\"heatmapgl\",\"colorbar\":{\"outlinewidth\":0,\"ticks\":\"\"},\"colorscale\":[[0.0,\"#0d0887\"],[0.1111111111111111,\"#46039f\"],[0.2222222222222222,\"#7201a8\"],[0.3333333333333333,\"#9c179e\"],[0.4444444444444444,\"#bd3786\"],[0.5555555555555556,\"#d8576b\"],[0.6666666666666666,\"#ed7953\"],[0.7777777777777778,\"#fb9f3a\"],[0.8888888888888888,\"#fdca26\"],[1.0,\"#f0f921\"]]}],\"contourcarpet\":[{\"type\":\"contourcarpet\",\"colorbar\":{\"outlinewidth\":0,\"ticks\":\"\"}}],\"contour\":[{\"type\":\"contour\",\"colorbar\":{\"outlinewidth\":0,\"ticks\":\"\"},\"colorscale\":[[0.0,\"#0d0887\"],[0.1111111111111111,\"#46039f\"],[0.2222222222222222,\"#7201a8\"],[0.3333333333333333,\"#9c179e\"],[0.4444444444444444,\"#bd3786\"],[0.5555555555555556,\"#d8576b\"],[0.6666666666666666,\"#ed7953\"],[0.7777777777777778,\"#fb9f3a\"],[0.8888888888888888,\"#fdca26\"],[1.0,\"#f0f921\"]]}],\"surface\":[{\"type\":\"surface\",\"colorbar\":{\"outlinewidth\":0,\"ticks\":\"\"},\"colorscale\":[[0.0,\"#0d0887\"],[0.1111111111111111,\"#46039f\"],[0.2222222222222222,\"#7201a8\"],[0.3333333333333333,\"#9c179e\"],[0.4444444444444444,\"#bd3786\"],[0.5555555555555556,\"#d8576b\"],[0.6666666666666666,\"#ed7953\"],[0.7777777777777778,\"#fb9f3a\"],[0.8888888888888888,\"#fdca26\"],[1.0,\"#f0f921\"]]}],\"mesh3d\":[{\"type\":\"mesh3d\",\"colorbar\":{\"outlinewidth\":0,\"ticks\":\"\"}}],\"scatter\":[{\"fillpattern\":{\"fillmode\":\"overlay\",\"size\":10,\"solidity\":0.2},\"type\":\"scatter\"}],\"parcoords\":[{\"type\":\"parcoords\",\"line\":{\"colorbar\":{\"outlinewidth\":0,\"ticks\":\"\"}}}],\"scatterpolargl\":[{\"type\":\"scatterpolargl\",\"marker\":{\"colorbar\":{\"outlinewidth\":0,\"ticks\":\"\"}}}],\"bar\":[{\"error_x\":{\"color\":\"#2a3f5f\"},\"error_y\":{\"color\":\"#2a3f5f\"},\"marker\":{\"line\":{\"color\":\"#E5ECF6\",\"width\":0.5},\"pattern\":{\"fillmode\":\"overlay\",\"size\":10,\"solidity\":0.2}},\"type\":\"bar\"}],\"scattergeo\":[{\"type\":\"scattergeo\",\"marker\":{\"colorbar\":{\"outlinewidth\":0,\"ticks\":\"\"}}}],\"scatterpolar\":[{\"type\":\"scatterpolar\",\"marker\":{\"colorbar\":{\"outlinewidth\":0,\"ticks\":\"\"}}}],\"histogram\":[{\"marker\":{\"pattern\":{\"fillmode\":\"overlay\",\"size\":10,\"solidity\":0.2}},\"type\":\"histogram\"}],\"scattergl\":[{\"type\":\"scattergl\",\"marker\":{\"colorbar\":{\"outlinewidth\":0,\"ticks\":\"\"}}}],\"scatter3d\":[{\"type\":\"scatter3d\",\"line\":{\"colorbar\":{\"outlinewidth\":0,\"ticks\":\"\"}},\"marker\":{\"colorbar\":{\"outlinewidth\":0,\"ticks\":\"\"}}}],\"scattermapbox\":[{\"type\":\"scattermapbox\",\"marker\":{\"colorbar\":{\"outlinewidth\":0,\"ticks\":\"\"}}}],\"scatterternary\":[{\"type\":\"scatterternary\",\"marker\":{\"colorbar\":{\"outlinewidth\":0,\"ticks\":\"\"}}}],\"scattercarpet\":[{\"type\":\"scattercarpet\",\"marker\":{\"colorbar\":{\"outlinewidth\":0,\"ticks\":\"\"}}}],\"carpet\":[{\"aaxis\":{\"endlinecolor\":\"#2a3f5f\",\"gridcolor\":\"white\",\"linecolor\":\"white\",\"minorgridcolor\":\"white\",\"startlinecolor\":\"#2a3f5f\"},\"baxis\":{\"endlinecolor\":\"#2a3f5f\",\"gridcolor\":\"white\",\"linecolor\":\"white\",\"minorgridcolor\":\"white\",\"startlinecolor\":\"#2a3f5f\"},\"type\":\"carpet\"}],\"table\":[{\"cells\":{\"fill\":{\"color\":\"#EBF0F8\"},\"line\":{\"color\":\"white\"}},\"header\":{\"fill\":{\"color\":\"#C8D4E3\"},\"line\":{\"color\":\"white\"}},\"type\":\"table\"}],\"barpolar\":[{\"marker\":{\"line\":{\"color\":\"#E5ECF6\",\"width\":0.5},\"pattern\":{\"fillmode\":\"overlay\",\"size\":10,\"solidity\":0.2}},\"type\":\"barpolar\"}],\"pie\":[{\"automargin\":true,\"type\":\"pie\"}]},\"layout\":{\"autotypenumbers\":\"strict\",\"colorway\":[\"#636efa\",\"#EF553B\",\"#00cc96\",\"#ab63fa\",\"#FFA15A\",\"#19d3f3\",\"#FF6692\",\"#B6E880\",\"#FF97FF\",\"#FECB52\"],\"font\":{\"color\":\"#2a3f5f\"},\"hovermode\":\"closest\",\"hoverlabel\":{\"align\":\"left\"},\"paper_bgcolor\":\"white\",\"plot_bgcolor\":\"#E5ECF6\",\"polar\":{\"bgcolor\":\"#E5ECF6\",\"angularaxis\":{\"gridcolor\":\"white\",\"linecolor\":\"white\",\"ticks\":\"\"},\"radialaxis\":{\"gridcolor\":\"white\",\"linecolor\":\"white\",\"ticks\":\"\"}},\"ternary\":{\"bgcolor\":\"#E5ECF6\",\"aaxis\":{\"gridcolor\":\"white\",\"linecolor\":\"white\",\"ticks\":\"\"},\"baxis\":{\"gridcolor\":\"white\",\"linecolor\":\"white\",\"ticks\":\"\"},\"caxis\":{\"gridcolor\":\"white\",\"linecolor\":\"white\",\"ticks\":\"\"}},\"coloraxis\":{\"colorbar\":{\"outlinewidth\":0,\"ticks\":\"\"}},\"colorscale\":{\"sequential\":[[0.0,\"#0d0887\"],[0.1111111111111111,\"#46039f\"],[0.2222222222222222,\"#7201a8\"],[0.3333333333333333,\"#9c179e\"],[0.4444444444444444,\"#bd3786\"],[0.5555555555555556,\"#d8576b\"],[0.6666666666666666,\"#ed7953\"],[0.7777777777777778,\"#fb9f3a\"],[0.8888888888888888,\"#fdca26\"],[1.0,\"#f0f921\"]],\"sequentialminus\":[[0.0,\"#0d0887\"],[0.1111111111111111,\"#46039f\"],[0.2222222222222222,\"#7201a8\"],[0.3333333333333333,\"#9c179e\"],[0.4444444444444444,\"#bd3786\"],[0.5555555555555556,\"#d8576b\"],[0.6666666666666666,\"#ed7953\"],[0.7777777777777778,\"#fb9f3a\"],[0.8888888888888888,\"#fdca26\"],[1.0,\"#f0f921\"]],\"diverging\":[[0,\"#8e0152\"],[0.1,\"#c51b7d\"],[0.2,\"#de77ae\"],[0.3,\"#f1b6da\"],[0.4,\"#fde0ef\"],[0.5,\"#f7f7f7\"],[0.6,\"#e6f5d0\"],[0.7,\"#b8e186\"],[0.8,\"#7fbc41\"],[0.9,\"#4d9221\"],[1,\"#276419\"]]},\"xaxis\":{\"gridcolor\":\"white\",\"linecolor\":\"white\",\"ticks\":\"\",\"title\":{\"standoff\":15},\"zerolinecolor\":\"white\",\"automargin\":true,\"zerolinewidth\":2},\"yaxis\":{\"gridcolor\":\"white\",\"linecolor\":\"white\",\"ticks\":\"\",\"title\":{\"standoff\":15},\"zerolinecolor\":\"white\",\"automargin\":true,\"zerolinewidth\":2},\"scene\":{\"xaxis\":{\"backgroundcolor\":\"#E5ECF6\",\"gridcolor\":\"white\",\"linecolor\":\"white\",\"showbackground\":true,\"ticks\":\"\",\"zerolinecolor\":\"white\",\"gridwidth\":2},\"yaxis\":{\"backgroundcolor\":\"#E5ECF6\",\"gridcolor\":\"white\",\"linecolor\":\"white\",\"showbackground\":true,\"ticks\":\"\",\"zerolinecolor\":\"white\",\"gridwidth\":2},\"zaxis\":{\"backgroundcolor\":\"#E5ECF6\",\"gridcolor\":\"white\",\"linecolor\":\"white\",\"showbackground\":true,\"ticks\":\"\",\"zerolinecolor\":\"white\",\"gridwidth\":2}},\"shapedefaults\":{\"line\":{\"color\":\"#2a3f5f\"}},\"annotationdefaults\":{\"arrowcolor\":\"#2a3f5f\",\"arrowhead\":0,\"arrowwidth\":1},\"geo\":{\"bgcolor\":\"white\",\"landcolor\":\"#E5ECF6\",\"subunitcolor\":\"white\",\"showland\":true,\"showlakes\":true,\"lakecolor\":\"white\"},\"title\":{\"x\":0.05},\"mapbox\":{\"style\":\"light\"}}},\"xaxis\":{\"anchor\":\"y\",\"domain\":[0.0,1.0],\"title\":{\"text\":\"Fecha de la predicción\"}},\"yaxis\":{\"anchor\":\"x\",\"domain\":[0.0,1.0],\"title\":{\"text\":\"Cantidad predicha\"}},\"coloraxis\":{\"colorbar\":{\"title\":{\"text\":\"Distiancia de la predicción (Meses)\",\"side\":\"right\"},\"ticks\":\"outside\"},\"colorscale\":[[0.0,\"#0d0887\"],[0.1111111111111111,\"#46039f\"],[0.2222222222222222,\"#7201a8\"],[0.3333333333333333,\"#9c179e\"],[0.4444444444444444,\"#bd3786\"],[0.5555555555555556,\"#d8576b\"],[0.6666666666666666,\"#ed7953\"],[0.7777777777777778,\"#fb9f3a\"],[0.8888888888888888,\"#fdca26\"],[1.0,\"#f0f921\"]]},\"legend\":{\"tracegroupgap\":0},\"title\":{\"text\":\"Predicción de las cantidades de 7up (L3)\"}},                        {\"responsive\": true}                    ).then(function(){\n",
              "                            \n",
              "var gd = document.getElementById('5f9eaf58-8645-4c8b-a5f3-e2b1b34c0953');\n",
              "var x = new MutationObserver(function (mutations, observer) {{\n",
              "        var display = window.getComputedStyle(gd).display;\n",
              "        if (!display || display === 'none') {{\n",
              "            console.log([gd, 'removed!']);\n",
              "            Plotly.purge(gd);\n",
              "            observer.disconnect();\n",
              "        }}\n",
              "}});\n",
              "\n",
              "// Listen for the removal of the full notebook cells\n",
              "var notebookContainer = gd.closest('#notebook-container');\n",
              "if (notebookContainer) {{\n",
              "    x.observe(notebookContainer, {childList: true});\n",
              "}}\n",
              "\n",
              "// Listen for the clearing of the current output cell\n",
              "var outputEl = gd.closest('.output');\n",
              "if (outputEl) {{\n",
              "    x.observe(outputEl, {childList: true});\n",
              "}}\n",
              "\n",
              "                        })                };                            </script>        </div>\n",
              "</body>\n",
              "</html>"
            ]
          },
          "metadata": {}
        },
        {
          "output_type": "display_data",
          "data": {
            "text/html": [
              "<html>\n",
              "<head><meta charset=\"utf-8\" /></head>\n",
              "<body>\n",
              "    <div>            <script src=\"https://cdnjs.cloudflare.com/ajax/libs/mathjax/2.7.5/MathJax.js?config=TeX-AMS-MML_SVG\"></script><script type=\"text/javascript\">if (window.MathJax && window.MathJax.Hub && window.MathJax.Hub.Config) {window.MathJax.Hub.Config({SVG: {font: \"STIX-Web\"}});}</script>                <script type=\"text/javascript\">window.PlotlyConfig = {MathJaxConfig: 'local'};</script>\n",
              "        <script charset=\"utf-8\" src=\"https://cdn.plot.ly/plotly-2.35.2.min.js\"></script>                <div id=\"7be2f891-7352-40de-8043-ff704f3a5f31\" class=\"plotly-graph-div\" style=\"height:525px; width:100%;\"></div>            <script type=\"text/javascript\">                                    window.PLOTLYENV=window.PLOTLYENV || {};                                    if (document.getElementById(\"7be2f891-7352-40de-8043-ff704f3a5f31\")) {                    Plotly.newPlot(                        \"7be2f891-7352-40de-8043-ff704f3a5f31\",                        [{\"hovertemplate\":\"Fecha de la predicción=%{x}\\u003cbr\\u003eCantidad predicha=%{y}\\u003cbr\\u003eDistiancia de la predicción (Meses)=%{marker.color}\\u003cextra\\u003e\\u003c\\u002fextra\\u003e\",\"legendgroup\":\"\",\"marker\":{\"color\":[7,13,9,8,13,6,3,10,5,8,1,1,1,13,8,5,8,4,5,11,10,12,9,12,5,8,3,15,15,10,9,11,2,1,7,6,4,3,13,14,2,6,16,12,6,11,18,7,3,7,18,1,8,2,15,11,13,6,17,13,1,10,9,2,11,1,12,9,3,5,6,2,16,6,8,6,2,11,14,6,8,2,4,1,1,5,3,4,4,7,8,12,12,14,3,9,7,4,5,5,4,3,15,7,10,2,4,14,7,9,7,1,8,17,6,3,14,10,5,15,9,2,16,14,11,9,11,13,7,3,9,10,15,10,10,11,9,1,12,17,4,4,2,4,12,5,8,7,10,6,3,18,7,16,13,5,5,16,9,12,1,3,10,8,11,2,14,17,6,2,4],\"coloraxis\":\"coloraxis\",\"symbol\":\"circle\"},\"mode\":\"markers\",\"name\":\"\",\"orientation\":\"v\",\"showlegend\":false,\"x\":[\"2024-06-01T00:00:00\",\"2024-05-01T00:00:00\",\"2023-10-01T00:00:00\",\"2024-01-01T00:00:00\",\"2024-06-01T00:00:00\",\"2024-02-01T00:00:00\",\"2023-10-01T00:00:00\",\"2023-12-01T00:00:00\",\"2023-09-01T00:00:00\",\"2024-02-01T00:00:00\",\"2023-02-01T00:00:00\",\"2023-01-01T00:00:00\",\"2023-11-01T00:00:00\",\"2024-04-01T00:00:00\",\"2023-08-01T00:00:00\",\"2023-11-01T00:00:00\",\"2024-06-01T00:00:00\",\"2024-02-01T00:00:00\",\"2023-10-01T00:00:00\",\"2024-08-01T00:00:00\",\"2024-01-01T00:00:00\",\"2024-02-01T00:00:00\",\"2023-11-01T00:00:00\",\"2024-05-01T00:00:00\",\"2023-05-01T00:00:00\",\"2023-09-01T00:00:00\",\"2023-08-01T00:00:00\",\"2024-08-01T00:00:00\",\"2024-04-01T00:00:00\",\"2024-02-01T00:00:00\",\"2023-12-01T00:00:00\",\"2024-06-01T00:00:00\",\"2023-06-01T00:00:00\",\"2023-12-01T00:00:00\",\"2024-05-01T00:00:00\",\"2024-01-01T00:00:00\",\"2023-06-01T00:00:00\",\"2023-03-01T00:00:00\",\"2024-08-01T00:00:00\",\"2024-04-01T00:00:00\",\"2023-08-01T00:00:00\",\"2023-07-01T00:00:00\",\"2024-05-01T00:00:00\",\"2024-07-01T00:00:00\",\"2023-06-01T00:00:00\",\"2023-11-01T00:00:00\",\"2024-08-01T00:00:00\",\"2024-03-01T00:00:00\",\"2023-12-01T00:00:00\",\"2024-01-01T00:00:00\",\"2024-06-01T00:00:00\",\"2023-10-01T00:00:00\",\"2024-03-01T00:00:00\",\"2023-12-01T00:00:00\",\"2024-03-01T00:00:00\",\"2024-01-01T00:00:00\",\"2024-07-01T00:00:00\",\"2023-12-01T00:00:00\",\"2024-05-01T00:00:00\",\"2024-02-01T00:00:00\",\"2023-06-01T00:00:00\",\"2023-11-01T00:00:00\",\"2024-07-01T00:00:00\",\"2023-09-01T00:00:00\",\"2024-07-01T00:00:00\",\"2023-08-01T00:00:00\",\"2023-12-01T00:00:00\",\"2024-02-01T00:00:00\",\"2023-05-01T00:00:00\",\"2023-07-01T00:00:00\",\"2023-10-01T00:00:00\",\"2023-05-01T00:00:00\",\"2024-04-01T00:00:00\",\"2024-04-01T00:00:00\",\"2024-05-01T00:00:00\",\"2023-09-01T00:00:00\",\"2023-04-01T00:00:00\",\"2024-05-01T00:00:00\",\"2024-07-01T00:00:00\",\"2024-03-01T00:00:00\",\"2024-07-01T00:00:00\",\"2023-07-01T00:00:00\",\"2023-07-01T00:00:00\",\"2023-07-01T00:00:00\",\"2023-05-01T00:00:00\",\"2023-06-01T00:00:00\",\"2023-07-01T00:00:00\",\"2024-01-01T00:00:00\",\"2023-08-01T00:00:00\",\"2023-12-01T00:00:00\",\"2024-04-01T00:00:00\",\"2024-08-01T00:00:00\",\"2024-04-01T00:00:00\",\"2024-06-01T00:00:00\",\"2023-09-01T00:00:00\",\"2024-04-01T00:00:00\",\"2023-07-01T00:00:00\",\"2023-09-01T00:00:00\",\"2023-08-01T00:00:00\",\"2024-02-01T00:00:00\",\"2023-12-01T00:00:00\",\"2023-11-01T00:00:00\",\"2024-07-01T00:00:00\",\"2023-08-01T00:00:00\",\"2023-10-01T00:00:00\",\"2023-02-01T00:00:00\",\"2023-11-01T00:00:00\",\"2024-05-01T00:00:00\",\"2024-02-01T00:00:00\",\"2024-03-01T00:00:00\",\"2023-11-01T00:00:00\",\"2023-04-01T00:00:00\",\"2023-10-01T00:00:00\",\"2024-07-01T00:00:00\",\"2023-11-01T00:00:00\",\"2023-06-01T00:00:00\",\"2024-08-01T00:00:00\",\"2024-05-01T00:00:00\",\"2024-03-01T00:00:00\",\"2024-06-01T00:00:00\",\"2024-08-01T00:00:00\",\"2023-03-01T00:00:00\",\"2024-07-01T00:00:00\",\"2024-03-01T00:00:00\",\"2024-03-01T00:00:00\",\"2023-09-01T00:00:00\",\"2023-12-01T00:00:00\",\"2024-03-01T00:00:00\",\"2023-10-01T00:00:00\",\"2024-01-01T00:00:00\",\"2024-05-01T00:00:00\",\"2024-07-01T00:00:00\",\"2024-05-01T00:00:00\",\"2024-08-01T00:00:00\",\"2024-06-01T00:00:00\",\"2024-04-01T00:00:00\",\"2024-06-01T00:00:00\",\"2023-09-01T00:00:00\",\"2024-06-01T00:00:00\",\"2024-08-01T00:00:00\",\"2023-05-01T00:00:00\",\"2023-10-01T00:00:00\",\"2024-01-01T00:00:00\",\"2024-03-01T00:00:00\",\"2024-03-01T00:00:00\",\"2024-04-01T00:00:00\",\"2023-11-01T00:00:00\",\"2023-09-01T00:00:00\",\"2024-04-01T00:00:00\",\"2023-08-01T00:00:00\",\"2023-04-01T00:00:00\",\"2024-07-01T00:00:00\",\"2024-04-01T00:00:00\",\"2024-06-01T00:00:00\",\"2024-01-01T00:00:00\",\"2023-12-01T00:00:00\",\"2024-01-01T00:00:00\",\"2024-08-01T00:00:00\",\"2024-01-01T00:00:00\",\"2024-01-01T00:00:00\",\"2023-03-01T00:00:00\",\"2024-02-01T00:00:00\",\"2024-03-01T00:00:00\",\"2023-12-01T00:00:00\",\"2024-02-01T00:00:00\",\"2023-10-01T00:00:00\",\"2024-02-01T00:00:00\",\"2024-06-01T00:00:00\",\"2024-05-01T00:00:00\",\"2023-11-01T00:00:00\",\"2023-04-01T00:00:00\"],\"xaxis\":\"x\",\"y\":[11066.397441724564,12219.846356914872,8139.370207220293,12670.573619694456,14337.826225489138,12471.431288980011,14357.914179158435,11712.649253378948,15480.080567485817,12081.14426852554,7424.886701137902,7967.645287146979,9051.488347195764,12457.30561248784,12861.386328583496,12558.101216117046,10767.819493076526,8747.911368004203,14162.967439592132,18972.068869708768,12171.089746621965,11394.599374385589,14455.462056442284,12195.738232686166,5282.182665200514,8106.324585177008,18899.71332038137,19747.47699322169,6747.18619402832,11952.671343125385,12095.99283472081,14646.651952870832,14267.063465403038,8820.682771698643,8509.405123985476,12124.669695185055,13582.375161569522,4839.238140411764,20062.9306174256,12270.59998751376,18994.22471434793,11357.26927006688,6164.416266668052,18087.52768955873,7623.003113145997,6794.875333922688,20395.74804241368,12176.135291418175,11543.700195138776,12820.182302849373,8425.191222141671,13231.58601148867,11969.069616634535,8734.295811057702,6571.191899152116,12574.94364129255,18342.890012768104,12823.625934896418,6285.063275571119,5904.133814298609,12362.611877307972,6674.631451769315,14631.079115008868,15975.328773324873,19054.84296713983,18452.46394629014,6478.895216557161,11929.374078244628,10282.384893078592,17234.82367360198,13793.294142398114,10396.63448004105,6867.76601513977,9082.075441751316,13817.476885003043,15419.0010963618,11453.649139040996,12353.992944345062,18180.31228685722,11442.551965867986,14790.724676964865,17440.148349263196,17334.006660096144,18420.74665884212,10385.194696355607,7257.161669544209,17239.54343660592,13480.829252089465,20444.544132995936,14138.70705922421,11674.92697470924,17832.1019262213,12800.318763801792,14362.20463616716,16219.08568386197,13078.678756581878,11210.69577396725,15181.959011511844,19862.17230283616,13248.085329643423,10889.014816590914,10396.22582999329,18204.96098398456,12782.355320620778,8259.546901582053,6154.269009941921,12100.101975978328,11671.225482547556,12627.780768206769,12631.878461209237,14476.179437111712,11321.486196460868,14346.288456080558,16861.072509165508,13749.678736527214,14332.207248015417,19912.216226258573,12096.325738565463,8963.504343427154,14120.204332493557,16198.330597188458,7197.631312780142,17845.67543246361,6450.679265832281,12501.514315132405,8349.176041257722,6358.584146612171,12194.132754479631,13831.891528738468,9271.108395110963,12449.6657007053,17312.984442835077,11106.94187364556,16197.454494678072,15042.684757265451,12776.4809260224,14330.564599878297,12155.534624824884,14498.242444274028,18985.510119272,4993.860353504379,16324.51061585654,9481.729039492018,9168.505872543832,11462.951928569611,9704.755668446707,14422.046080232183,14988.878881315606,12932.574130555302,20290.78347729342,7020.384186361782,12144.935852791044,12594.898415108444,14507.627596787264,6767.738847509074,14487.672529659329,11704.779148267997,19772.39597679835,13248.727321247376,6647.360589772469,9243.717389854992,8533.810923952316,12477.94676380233,12402.526634492251,11901.724239762374,12903.852762018098,6024.579259826828,8304.477025446991,9179.760049094522,10514.285230772022,5561.750886352638],\"yaxis\":\"y\",\"type\":\"scatter\"}],                        {\"template\":{\"data\":{\"histogram2dcontour\":[{\"type\":\"histogram2dcontour\",\"colorbar\":{\"outlinewidth\":0,\"ticks\":\"\"},\"colorscale\":[[0.0,\"#0d0887\"],[0.1111111111111111,\"#46039f\"],[0.2222222222222222,\"#7201a8\"],[0.3333333333333333,\"#9c179e\"],[0.4444444444444444,\"#bd3786\"],[0.5555555555555556,\"#d8576b\"],[0.6666666666666666,\"#ed7953\"],[0.7777777777777778,\"#fb9f3a\"],[0.8888888888888888,\"#fdca26\"],[1.0,\"#f0f921\"]]}],\"choropleth\":[{\"type\":\"choropleth\",\"colorbar\":{\"outlinewidth\":0,\"ticks\":\"\"}}],\"histogram2d\":[{\"type\":\"histogram2d\",\"colorbar\":{\"outlinewidth\":0,\"ticks\":\"\"},\"colorscale\":[[0.0,\"#0d0887\"],[0.1111111111111111,\"#46039f\"],[0.2222222222222222,\"#7201a8\"],[0.3333333333333333,\"#9c179e\"],[0.4444444444444444,\"#bd3786\"],[0.5555555555555556,\"#d8576b\"],[0.6666666666666666,\"#ed7953\"],[0.7777777777777778,\"#fb9f3a\"],[0.8888888888888888,\"#fdca26\"],[1.0,\"#f0f921\"]]}],\"heatmap\":[{\"type\":\"heatmap\",\"colorbar\":{\"outlinewidth\":0,\"ticks\":\"\"},\"colorscale\":[[0.0,\"#0d0887\"],[0.1111111111111111,\"#46039f\"],[0.2222222222222222,\"#7201a8\"],[0.3333333333333333,\"#9c179e\"],[0.4444444444444444,\"#bd3786\"],[0.5555555555555556,\"#d8576b\"],[0.6666666666666666,\"#ed7953\"],[0.7777777777777778,\"#fb9f3a\"],[0.8888888888888888,\"#fdca26\"],[1.0,\"#f0f921\"]]}],\"heatmapgl\":[{\"type\":\"heatmapgl\",\"colorbar\":{\"outlinewidth\":0,\"ticks\":\"\"},\"colorscale\":[[0.0,\"#0d0887\"],[0.1111111111111111,\"#46039f\"],[0.2222222222222222,\"#7201a8\"],[0.3333333333333333,\"#9c179e\"],[0.4444444444444444,\"#bd3786\"],[0.5555555555555556,\"#d8576b\"],[0.6666666666666666,\"#ed7953\"],[0.7777777777777778,\"#fb9f3a\"],[0.8888888888888888,\"#fdca26\"],[1.0,\"#f0f921\"]]}],\"contourcarpet\":[{\"type\":\"contourcarpet\",\"colorbar\":{\"outlinewidth\":0,\"ticks\":\"\"}}],\"contour\":[{\"type\":\"contour\",\"colorbar\":{\"outlinewidth\":0,\"ticks\":\"\"},\"colorscale\":[[0.0,\"#0d0887\"],[0.1111111111111111,\"#46039f\"],[0.2222222222222222,\"#7201a8\"],[0.3333333333333333,\"#9c179e\"],[0.4444444444444444,\"#bd3786\"],[0.5555555555555556,\"#d8576b\"],[0.6666666666666666,\"#ed7953\"],[0.7777777777777778,\"#fb9f3a\"],[0.8888888888888888,\"#fdca26\"],[1.0,\"#f0f921\"]]}],\"surface\":[{\"type\":\"surface\",\"colorbar\":{\"outlinewidth\":0,\"ticks\":\"\"},\"colorscale\":[[0.0,\"#0d0887\"],[0.1111111111111111,\"#46039f\"],[0.2222222222222222,\"#7201a8\"],[0.3333333333333333,\"#9c179e\"],[0.4444444444444444,\"#bd3786\"],[0.5555555555555556,\"#d8576b\"],[0.6666666666666666,\"#ed7953\"],[0.7777777777777778,\"#fb9f3a\"],[0.8888888888888888,\"#fdca26\"],[1.0,\"#f0f921\"]]}],\"mesh3d\":[{\"type\":\"mesh3d\",\"colorbar\":{\"outlinewidth\":0,\"ticks\":\"\"}}],\"scatter\":[{\"fillpattern\":{\"fillmode\":\"overlay\",\"size\":10,\"solidity\":0.2},\"type\":\"scatter\"}],\"parcoords\":[{\"type\":\"parcoords\",\"line\":{\"colorbar\":{\"outlinewidth\":0,\"ticks\":\"\"}}}],\"scatterpolargl\":[{\"type\":\"scatterpolargl\",\"marker\":{\"colorbar\":{\"outlinewidth\":0,\"ticks\":\"\"}}}],\"bar\":[{\"error_x\":{\"color\":\"#2a3f5f\"},\"error_y\":{\"color\":\"#2a3f5f\"},\"marker\":{\"line\":{\"color\":\"#E5ECF6\",\"width\":0.5},\"pattern\":{\"fillmode\":\"overlay\",\"size\":10,\"solidity\":0.2}},\"type\":\"bar\"}],\"scattergeo\":[{\"type\":\"scattergeo\",\"marker\":{\"colorbar\":{\"outlinewidth\":0,\"ticks\":\"\"}}}],\"scatterpolar\":[{\"type\":\"scatterpolar\",\"marker\":{\"colorbar\":{\"outlinewidth\":0,\"ticks\":\"\"}}}],\"histogram\":[{\"marker\":{\"pattern\":{\"fillmode\":\"overlay\",\"size\":10,\"solidity\":0.2}},\"type\":\"histogram\"}],\"scattergl\":[{\"type\":\"scattergl\",\"marker\":{\"colorbar\":{\"outlinewidth\":0,\"ticks\":\"\"}}}],\"scatter3d\":[{\"type\":\"scatter3d\",\"line\":{\"colorbar\":{\"outlinewidth\":0,\"ticks\":\"\"}},\"marker\":{\"colorbar\":{\"outlinewidth\":0,\"ticks\":\"\"}}}],\"scattermapbox\":[{\"type\":\"scattermapbox\",\"marker\":{\"colorbar\":{\"outlinewidth\":0,\"ticks\":\"\"}}}],\"scatterternary\":[{\"type\":\"scatterternary\",\"marker\":{\"colorbar\":{\"outlinewidth\":0,\"ticks\":\"\"}}}],\"scattercarpet\":[{\"type\":\"scattercarpet\",\"marker\":{\"colorbar\":{\"outlinewidth\":0,\"ticks\":\"\"}}}],\"carpet\":[{\"aaxis\":{\"endlinecolor\":\"#2a3f5f\",\"gridcolor\":\"white\",\"linecolor\":\"white\",\"minorgridcolor\":\"white\",\"startlinecolor\":\"#2a3f5f\"},\"baxis\":{\"endlinecolor\":\"#2a3f5f\",\"gridcolor\":\"white\",\"linecolor\":\"white\",\"minorgridcolor\":\"white\",\"startlinecolor\":\"#2a3f5f\"},\"type\":\"carpet\"}],\"table\":[{\"cells\":{\"fill\":{\"color\":\"#EBF0F8\"},\"line\":{\"color\":\"white\"}},\"header\":{\"fill\":{\"color\":\"#C8D4E3\"},\"line\":{\"color\":\"white\"}},\"type\":\"table\"}],\"barpolar\":[{\"marker\":{\"line\":{\"color\":\"#E5ECF6\",\"width\":0.5},\"pattern\":{\"fillmode\":\"overlay\",\"size\":10,\"solidity\":0.2}},\"type\":\"barpolar\"}],\"pie\":[{\"automargin\":true,\"type\":\"pie\"}]},\"layout\":{\"autotypenumbers\":\"strict\",\"colorway\":[\"#636efa\",\"#EF553B\",\"#00cc96\",\"#ab63fa\",\"#FFA15A\",\"#19d3f3\",\"#FF6692\",\"#B6E880\",\"#FF97FF\",\"#FECB52\"],\"font\":{\"color\":\"#2a3f5f\"},\"hovermode\":\"closest\",\"hoverlabel\":{\"align\":\"left\"},\"paper_bgcolor\":\"white\",\"plot_bgcolor\":\"#E5ECF6\",\"polar\":{\"bgcolor\":\"#E5ECF6\",\"angularaxis\":{\"gridcolor\":\"white\",\"linecolor\":\"white\",\"ticks\":\"\"},\"radialaxis\":{\"gridcolor\":\"white\",\"linecolor\":\"white\",\"ticks\":\"\"}},\"ternary\":{\"bgcolor\":\"#E5ECF6\",\"aaxis\":{\"gridcolor\":\"white\",\"linecolor\":\"white\",\"ticks\":\"\"},\"baxis\":{\"gridcolor\":\"white\",\"linecolor\":\"white\",\"ticks\":\"\"},\"caxis\":{\"gridcolor\":\"white\",\"linecolor\":\"white\",\"ticks\":\"\"}},\"coloraxis\":{\"colorbar\":{\"outlinewidth\":0,\"ticks\":\"\"}},\"colorscale\":{\"sequential\":[[0.0,\"#0d0887\"],[0.1111111111111111,\"#46039f\"],[0.2222222222222222,\"#7201a8\"],[0.3333333333333333,\"#9c179e\"],[0.4444444444444444,\"#bd3786\"],[0.5555555555555556,\"#d8576b\"],[0.6666666666666666,\"#ed7953\"],[0.7777777777777778,\"#fb9f3a\"],[0.8888888888888888,\"#fdca26\"],[1.0,\"#f0f921\"]],\"sequentialminus\":[[0.0,\"#0d0887\"],[0.1111111111111111,\"#46039f\"],[0.2222222222222222,\"#7201a8\"],[0.3333333333333333,\"#9c179e\"],[0.4444444444444444,\"#bd3786\"],[0.5555555555555556,\"#d8576b\"],[0.6666666666666666,\"#ed7953\"],[0.7777777777777778,\"#fb9f3a\"],[0.8888888888888888,\"#fdca26\"],[1.0,\"#f0f921\"]],\"diverging\":[[0,\"#8e0152\"],[0.1,\"#c51b7d\"],[0.2,\"#de77ae\"],[0.3,\"#f1b6da\"],[0.4,\"#fde0ef\"],[0.5,\"#f7f7f7\"],[0.6,\"#e6f5d0\"],[0.7,\"#b8e186\"],[0.8,\"#7fbc41\"],[0.9,\"#4d9221\"],[1,\"#276419\"]]},\"xaxis\":{\"gridcolor\":\"white\",\"linecolor\":\"white\",\"ticks\":\"\",\"title\":{\"standoff\":15},\"zerolinecolor\":\"white\",\"automargin\":true,\"zerolinewidth\":2},\"yaxis\":{\"gridcolor\":\"white\",\"linecolor\":\"white\",\"ticks\":\"\",\"title\":{\"standoff\":15},\"zerolinecolor\":\"white\",\"automargin\":true,\"zerolinewidth\":2},\"scene\":{\"xaxis\":{\"backgroundcolor\":\"#E5ECF6\",\"gridcolor\":\"white\",\"linecolor\":\"white\",\"showbackground\":true,\"ticks\":\"\",\"zerolinecolor\":\"white\",\"gridwidth\":2},\"yaxis\":{\"backgroundcolor\":\"#E5ECF6\",\"gridcolor\":\"white\",\"linecolor\":\"white\",\"showbackground\":true,\"ticks\":\"\",\"zerolinecolor\":\"white\",\"gridwidth\":2},\"zaxis\":{\"backgroundcolor\":\"#E5ECF6\",\"gridcolor\":\"white\",\"linecolor\":\"white\",\"showbackground\":true,\"ticks\":\"\",\"zerolinecolor\":\"white\",\"gridwidth\":2}},\"shapedefaults\":{\"line\":{\"color\":\"#2a3f5f\"}},\"annotationdefaults\":{\"arrowcolor\":\"#2a3f5f\",\"arrowhead\":0,\"arrowwidth\":1},\"geo\":{\"bgcolor\":\"white\",\"landcolor\":\"#E5ECF6\",\"subunitcolor\":\"white\",\"showland\":true,\"showlakes\":true,\"lakecolor\":\"white\"},\"title\":{\"x\":0.05},\"mapbox\":{\"style\":\"light\"}}},\"xaxis\":{\"anchor\":\"y\",\"domain\":[0.0,1.0],\"title\":{\"text\":\"Fecha de la predicción\"}},\"yaxis\":{\"anchor\":\"x\",\"domain\":[0.0,1.0],\"title\":{\"text\":\"Cantidad predicha\"}},\"coloraxis\":{\"colorbar\":{\"title\":{\"text\":\"Distiancia de la predicción (Meses)\",\"side\":\"right\"},\"ticks\":\"outside\"},\"colorscale\":[[0.0,\"#0d0887\"],[0.1111111111111111,\"#46039f\"],[0.2222222222222222,\"#7201a8\"],[0.3333333333333333,\"#9c179e\"],[0.4444444444444444,\"#bd3786\"],[0.5555555555555556,\"#d8576b\"],[0.6666666666666666,\"#ed7953\"],[0.7777777777777778,\"#fb9f3a\"],[0.8888888888888888,\"#fdca26\"],[1.0,\"#f0f921\"]]},\"legend\":{\"tracegroupgap\":0},\"title\":{\"text\":\"Predicción de las cantidades de Lipton (L3)\"}},                        {\"responsive\": true}                    ).then(function(){\n",
              "                            \n",
              "var gd = document.getElementById('7be2f891-7352-40de-8043-ff704f3a5f31');\n",
              "var x = new MutationObserver(function (mutations, observer) {{\n",
              "        var display = window.getComputedStyle(gd).display;\n",
              "        if (!display || display === 'none') {{\n",
              "            console.log([gd, 'removed!']);\n",
              "            Plotly.purge(gd);\n",
              "            observer.disconnect();\n",
              "        }}\n",
              "}});\n",
              "\n",
              "// Listen for the removal of the full notebook cells\n",
              "var notebookContainer = gd.closest('#notebook-container');\n",
              "if (notebookContainer) {{\n",
              "    x.observe(notebookContainer, {childList: true});\n",
              "}}\n",
              "\n",
              "// Listen for the clearing of the current output cell\n",
              "var outputEl = gd.closest('.output');\n",
              "if (outputEl) {{\n",
              "    x.observe(outputEl, {childList: true});\n",
              "}}\n",
              "\n",
              "                        })                };                            </script>        </div>\n",
              "</body>\n",
              "</html>"
            ]
          },
          "metadata": {}
        }
      ]
    },
    {
      "cell_type": "code",
      "source": [
        "merged_df['Precision'] = ((merged_df['AMOUNT_actual'] - merged_df['AMOUNT_pred']).abs() / merged_df['AMOUNT_actual'])*100"
      ],
      "metadata": {
        "id": "lJKTygh4Rv53"
      },
      "execution_count": null,
      "outputs": []
    },
    {
      "cell_type": "code",
      "source": [
        "fig = px.box(merged_df, x='Distancia_prediccion', y='Precision', color='Distancia_prediccion',\n",
        "\n",
        "             color_discrete_sequence=px.colors.qualitative.Safe,\n",
        "             template='plotly_white',\n",
        "             notched=True, # used notched shape\n",
        "             title='Distribución de la precisión de la predicción según su distancia con la fecha predicha.',\n",
        "             labels={'Precision': 'Precisión (%)', 'Distancia_prediccion':'Distancia de la predicción (Meses)'}\n",
        "             )\n",
        "\n",
        "fig.update_layout(showlegend=False,\n",
        "    title_font=dict(size=24, color=\"black\", family=\"Arial\"),\n",
        "    font=dict(size=16, color=\"black\", family=\"Arial\"),\n",
        ")\n",
        "\n",
        "fig.show()"
      ],
      "metadata": {
        "colab": {
          "base_uri": "https://localhost:8080/",
          "height": 542
        },
        "id": "4hLlFCTV867r",
        "outputId": "8d23944f-6461-4adc-8c7a-b65b1ccf6fc5"
      },
      "execution_count": null,
      "outputs": [
        {
          "output_type": "display_data",
          "data": {
            "text/html": [
              "<html>\n",
              "<head><meta charset=\"utf-8\" /></head>\n",
              "<body>\n",
              "    <div>            <script src=\"https://cdnjs.cloudflare.com/ajax/libs/mathjax/2.7.5/MathJax.js?config=TeX-AMS-MML_SVG\"></script><script type=\"text/javascript\">if (window.MathJax && window.MathJax.Hub && window.MathJax.Hub.Config) {window.MathJax.Hub.Config({SVG: {font: \"STIX-Web\"}});}</script>                <script type=\"text/javascript\">window.PlotlyConfig = {MathJaxConfig: 'local'};</script>\n",
              "        <script charset=\"utf-8\" src=\"https://cdn.plot.ly/plotly-2.35.2.min.js\"></script>                <div id=\"fe13aa7e-2ab3-4767-af61-1830fd315009\" class=\"plotly-graph-div\" style=\"height:525px; width:100%;\"></div>            <script type=\"text/javascript\">                                    window.PLOTLYENV=window.PLOTLYENV || {};                                    if (document.getElementById(\"fe13aa7e-2ab3-4767-af61-1830fd315009\")) {                    Plotly.newPlot(                        \"fe13aa7e-2ab3-4767-af61-1830fd315009\",                        [{\"alignmentgroup\":\"True\",\"hovertemplate\":\"Distancia de la predicción (Meses)=%{x}\\u003cbr\\u003ePrecisión (%)=%{y}\\u003cextra\\u003e\\u003c\\u002fextra\\u003e\",\"legendgroup\":\"4\",\"marker\":{\"color\":\"rgb(136, 204, 238)\"},\"name\":\"4\",\"notched\":true,\"offsetgroup\":\"4\",\"orientation\":\"v\",\"showlegend\":true,\"x\":[4,4,4,4,4,4,4,4,4,4,4,4,4,4,4,4,4,4,4,4,4,4,4,4,4,4,4,4,4,4,4,4,4,4,4,4,4,4,4,4,4,4,4,4,4,4,4,4,4,4,4,4,4,4,4,4,4,4,4,4,4,4,4,4,4,4,4,4,4,4,4,4,4,4,4,4,4,4,4,4,4,4,4,4,4,4,4,4,4,4,4,4,4,4,4,4,4,4,4,4,4,4,4,4,4,4,4,4,4,4,4,4,4,4],\"x0\":\" \",\"xaxis\":\"x\",\"y\":[16.065811873155425,8.47642124719651,5.140397330659559,1.3576604414647788,47.21945268498034,6.244787541368544,27.542291117270327,9.300893527453287,8.877633057912508,2.513925609534006,10.26912291955275,7.988320017602179,9.060891446142982,18.767263776029537,14.664568142009024,37.40348854821926,6.895987368057802,21.64633124701631,27.03535532242734,41.44387419843689,18.10712618304502,3.178657951263728,1.3450002409137334,12.83963798773851,33.22580962848037,10.155957010008661,6.200596463802898,3.6309047573034157,40.222936735939705,2.596934058759455,4.601546264967036,2.540622691160578,14.532920557480313,14.361076861697313,11.659095447290545,19.124726095443723,26.064417690650526,1.7715824731217573,5.151799487838648,30.856518229545358,14.775731993039345,15.625926865930225,0.6549165457570071,30.764321722624636,3.6780518694675073,22.975378358798597,82.35441161151881,24.99875468193747,6.552318502011907,10.024195845350448,35.98877794051775,13.696067747870472,42.764208513609056,16.875709492998993,0.07995137465189932,0.10922273573661181,12.119033140845614,26.742813955486756,16.01532688791913,26.074963297246402,50.61056060083094,9.273380452422773,27.01048945921059,43.987968126567026,13.021479373979815,30.74235746986621,2.2000427979315225,9.513243543003169,7.4690658178160865,8.741838588430522,2.585026725321281,33.24499429108121,20.719118599481416,0.7634908367566398,37.92265443777575,12.961958658778766,25.40940469148312,3.821267450196688,19.280078630601245,12.845012299353872,8.280084332568514,57.532482677698326,49.190121037113386,25.60041571406597,24.881162710170354,33.73815354853578,2.6035439754044836,9.596089806149953,26.094830023477538,5.340632902942807,12.945895671305808,21.390714872565265,36.608317561000064,2.1403914545458766,6.205607996580705,12.158531647310596,1.4754610630521618,13.582243314778895,8.032887252656163,16.302820493105592,13.287860959741133,9.125786618901593,6.607003579787066,45.73405262149551,7.03053387330546,9.103130642269429,8.569756024841858,3.7721724774699905,4.378917112972895,1.0476401794745718,31.03904187637156,20.440195372083476,18.509024553316138,42.16756582730138],\"y0\":\" \",\"yaxis\":\"y\",\"type\":\"box\"},{\"alignmentgroup\":\"True\",\"hovertemplate\":\"Distancia de la predicción (Meses)=%{x}\\u003cbr\\u003ePrecisión (%)=%{y}\\u003cextra\\u003e\\u003c\\u002fextra\\u003e\",\"legendgroup\":\"8\",\"marker\":{\"color\":\"rgb(204, 102, 119)\"},\"name\":\"8\",\"notched\":true,\"offsetgroup\":\"8\",\"orientation\":\"v\",\"showlegend\":true,\"x\":[8,8,8,8,8,8,8,8,8,8,8,8,8,8,8,8,8,8,8,8,8,8,8,8,8,8,8,8,8,8,8,8,8,8,8,8,8,8,8,8,8,8,8,8,8,8,8,8,8,8,8,8,8,8,8,8,8,8,8,8,8,8,8,8,8,8,8,8,8,8,8,8,8,8,8,8,8,8,8,8,8,8,8,8,8,8,8,8,8,8,8,8,8,8,8,8,8,8,8,8,8,8,8,8,8,8,8,8,8,8,8,8,8,8],\"x0\":\" \",\"xaxis\":\"x\",\"y\":[16.255251313932074,11.712155899489899,8.41485652374983,71.39412969285199,22.539691384074153,3.206408578641471,12.787601599440935,17.812543416099683,23.641530906922856,50.948015798789946,5.756607673361605,1.2537152693565021,21.36497326141909,22.115369406524312,3.319338624961491,5.734847692381128,5.931017132620454,10.563774465107704,67.9641432816466,0.43432832420857626,17.46154908073553,27.527719640748145,36.50964051213357,23.77182598901242,6.938258170136511,9.18669497271729,0.3165499860639944,48.41087750015111,26.641788555822078,25.024998100575118,9.772813849746187,15.957098714772194,2.3045900639888455,74.58910889898992,5.419729137496978,8.111814310328214,1.792688410909617,16.063514878369702,2.012193583949804,45.623799613311085,14.90066207116682,17.423772580416227,13.178715682261336,19.814638365676032,16.46285178871414,55.091207393455676,30.16715376911028,30.440899020274454,20.21510659691741,8.823828667878814,32.384671430714,3.3792721618206465,20.23320326997945,30.63473888122732,14.270635034100579,21.448130806861794,11.305196355914987,1.6906743785605718,35.749952188673426,8.748727912197133,3.693055094475027,37.52354917143467,19.41444072614657,25.605944152238735,31.111098002351913,14.795702240753439,13.304099281840909,19.511038829151843,13.798847853557822,4.65036217219021,10.918191294148631,6.98751841895601,14.457545627969923,37.026312477906295,28.795749869015296,28.261646132227558,3.7082441116718914,5.577129030999864,51.54159353022375,39.53050292630695,6.066422889350078,45.16658783010454,18.57531027787849,13.061498230206709,7.193836150043184,6.1763288769273155,9.519331484259885,13.242951486543184,9.913869721489897,12.854012932845068,29.17856795995467,17.793348373786984,6.514310216819064,35.68618943719833,13.659413091177361,79.51191233486806,12.748676063757905,1.8245773192055825,3.8606088401580334,11.619148425179821,20.371709512398205,1.1201779672570134,3.0170721678862207,5.34595515546495,3.1998322645304014,9.75985125340586,44.359352272931716,34.716973298922646,43.83870651873055,7.615306183464387,20.11191650320493,10.765632223065918,27.977604163494345,5.522646045491304],\"y0\":\" \",\"yaxis\":\"y\",\"type\":\"box\"},{\"alignmentgroup\":\"True\",\"hovertemplate\":\"Distancia de la predicción (Meses)=%{x}\\u003cbr\\u003ePrecisión (%)=%{y}\\u003cextra\\u003e\\u003c\\u002fextra\\u003e\",\"legendgroup\":\"10\",\"marker\":{\"color\":\"rgb(221, 204, 119)\"},\"name\":\"10\",\"notched\":true,\"offsetgroup\":\"10\",\"orientation\":\"v\",\"showlegend\":true,\"x\":[10,10,10,10,10,10,10,10,10,10,10,10,10,10,10,10,10,10,10,10,10,10,10,10,10,10,10,10,10,10,10,10,10,10,10,10,10,10,10,10,10,10,10,10,10,10,10,10,10,10,10,10,10,10,10,10,10,10,10,10,10,10,10,10,10,10,10,10,10,10,10,10,10,10,10,10,10,10,10,10,10,10,10,10,10,10,10,10,10,10,10,10,10,10,10,10,10,10,10,10,10,10,10],\"x0\":\" \",\"xaxis\":\"x\",\"y\":[16.288957810759523,20.265088091379962,21.718084613956737,8.90194674025548,1.4354257824009007,2.1709881064078904,28.81994279677564,36.32951651282975,1.8152169597177141,12.924815704420132,3.099567060450994,64.63763971138744,20.55668060763598,13.122591809980932,31.615709667619868,23.114738022836786,13.997446115717787,49.342809144355535,4.873869544999348,4.10836601531126,9.59404986955352,42.836545658516386,5.53941570127064,0.6748968778968971,1.9180626395507914,9.500414573544717,6.220592142019155,22.34547737006834,37.700950442513786,0.9447842757898679,25.763334176111464,16.92053614501578,64.94024924350188,29.98300072622847,4.781665223527748,7.897222357685687,13.09299895694091,1.8957894164274531,34.931414103370436,13.545559467165017,17.105832356324278,43.42771387311593,16.18589879590595,11.539639089915228,24.26012530118449,0.18027528420520122,22.65133974505396,9.690469027393982,53.13439338084671,8.325467427773575,31.7572775768228,12.722800370597428,45.07780853747826,27.01868384236572,24.515789112733163,0.9823839525800399,29.683296101446782,19.4735374562181,19.551399533460014,10.117134651434172,35.772527751056124,7.904393287277007,0.5752838814635647,32.214460412591485,2.2149466907511397,8.241872621613709,91.05234093645251,7.242531492383455,13.097444138285946,4.390456895802757,2.8787648258560483,54.458013149402895,12.935403241113045,11.720760357628858,2.9345852894155406,9.204541194439463,5.184192680706885,45.2766140343937,6.514091131440083,33.53901655200274,23.25642349453073,22.07340676549977,8.672288210590331,46.199570124610695,34.53077334697704,8.423076613469515,5.781516134002283,1.8606797768571117,33.16213675311274,18.3404453218309,3.4443548453353188,11.625631868103442,86.41342256927028,11.288353240454299,2.2255566914840266,1.433381885165513,24.451616692961327,82.01194212736468,12.964188046564615,4.773082445910936,27.272666464189065,0.21804308443248727,11.0264709626841],\"y0\":\" \",\"yaxis\":\"y\",\"type\":\"box\"},{\"alignmentgroup\":\"True\",\"hovertemplate\":\"Distancia de la predicción (Meses)=%{x}\\u003cbr\\u003ePrecisión (%)=%{y}\\u003cextra\\u003e\\u003c\\u002fextra\\u003e\",\"legendgroup\":\"15\",\"marker\":{\"color\":\"rgb(17, 119, 51)\"},\"name\":\"15\",\"notched\":true,\"offsetgroup\":\"15\",\"orientation\":\"v\",\"showlegend\":true,\"x\":[15,15,15,15,15,15,15,15,15,15,15,15,15,15,15,15,15,15,15,15,15,15,15,15,15,15,15,15,15,15,15,15,15,15,15,15,15,15,15,15,15,15,15,15,15,15,15,15],\"x0\":\" \",\"xaxis\":\"x\",\"y\":[48.07509730951674,24.31539318431397,7.940288244065965,18.40745456545885,29.812567286656538,7.443216147115484,27.930867093585913,6.109035396889347,18.79099625430747,32.732483085927036,24.137238727587285,4.148060390360106,4.407753749550153,4.3312594881297395,2.8592408004652405,64.17576006962551,7.125555140781249,9.780934636472729,95.59884421912778,4.298585054617952,29.28008045070904,14.595150163802293,55.94993278124224,18.924300124231472,4.789568064748423,18.103324871898156,18.919066278917505,4.143700624303698,31.26877513688259,2.5551501539266335,44.98600094688262,19.37174341580061,9.525787185277032,16.199380161308227,42.03697121406128,24.667407803102773,1.3788987300758393,24.348995780142438,13.428292608658204,14.923236737160028,26.25038477611995,4.613843902909491,16.411051126287134,3.245663446427166,33.511319548119175,14.568289922178595,2.1810391549124386,2.3913351335689517],\"y0\":\" \",\"yaxis\":\"y\",\"type\":\"box\"},{\"alignmentgroup\":\"True\",\"hovertemplate\":\"Distancia de la predicción (Meses)=%{x}\\u003cbr\\u003ePrecisión (%)=%{y}\\u003cextra\\u003e\\u003c\\u002fextra\\u003e\",\"legendgroup\":\"9\",\"marker\":{\"color\":\"rgb(51, 34, 136)\"},\"name\":\"9\",\"notched\":true,\"offsetgroup\":\"9\",\"orientation\":\"v\",\"showlegend\":true,\"x\":[9,9,9,9,9,9,9,9,9,9,9,9,9,9,9,9,9,9,9,9,9,9,9,9,9,9,9,9,9,9,9,9,9,9,9,9,9,9,9,9,9,9,9,9,9,9,9,9,9,9,9,9,9,9,9,9,9,9,9,9,9,9,9,9,9,9,9,9,9,9,9,9,9,9,9,9,9,9,9,9,9,9,9,9,9,9,9,9,9,9,9,9,9,9,9,9,9,9,9,9,9,9,9,9,9,9,9,9,9,9,9,9,9,9],\"x0\":\" \",\"xaxis\":\"x\",\"y\":[16.671672241921147,42.9029659088556,25.614087003529097,41.155190450776665,5.860439926875313,62.190433043070826,4.491141980757699,1.5689849156158282,21.33395514572955,4.345711344560024,2.5951547343563686,21.25052191266419,6.714597348214682,1.4701441677089515,28.57901841909658,12.815813537117643,1.280126381069579,14.1317645634211,32.283229851516225,79.92784262372172,4.261698270332478,51.139727809693255,12.425615303499624,1.9475602308875362,33.8356937830079,40.79144856356166,9.935811880241628,22.81203219795091,6.126584906907125,11.646468172594801,37.691143258437485,5.534127307500363,12.893827516841009,29.80043681115088,3.1781606009064696,6.623423388309243,46.830485826654304,20.179345438726457,6.492307947856392,4.422160237233652,12.950328763225826,19.25666890530709,49.05172116219717,0.26640138722446277,25.113577369937186,34.26172017974557,19.10424834077269,3.7682938207159697,7.376607703195568,10.842756551690558,14.07477527756349,25.75463574899482,5.796528828475208,20.627278159743724,18.69677375749949,27.315888892757716,29.73288756698248,7.247361260231997,19.7364570367703,26.84512981644885,36.05062300184866,11.276672587928353,45.1937251652076,4.744094030117069,84.25729608906528,38.552125655877134,84.34969063220149,16.633914007881643,17.28844992079115,10.668452571304613,3.4981896397344414,6.5267952380242615,5.578168283644583,31.99382355585305,41.70956141383467,26.675944701583376,2.873511644995075,6.749805834349329,21.488161813167164,45.943842191995536,28.382617430657426,12.30848738191103,39.73851385725348,42.17856270294254,40.74715291577719,15.325549874023794,6.501581174122646,47.1459763415761,10.218615384134793,14.059477190968964,2.206553531179721,22.101651121173614,9.389470151264925,16.590577026003935,4.894419017596223,13.319470206538897,0.7238575082868509,3.9024421169497567,12.910800240471776,14.234094057361213,10.136287329217138,14.615541043315211,18.23927875321801,1.8886942050603668,6.658856509395582,16.429393741834218,10.510344451509889,79.2147819758978,19.490051046569246,14.638954652762601,9.725466361950039,2.979399107219645,27.18608081314935,2.172531147426706],\"y0\":\" \",\"yaxis\":\"y\",\"type\":\"box\"},{\"alignmentgroup\":\"True\",\"hovertemplate\":\"Distancia de la predicción (Meses)=%{x}\\u003cbr\\u003ePrecisión (%)=%{y}\\u003cextra\\u003e\\u003c\\u002fextra\\u003e\",\"legendgroup\":\"7\",\"marker\":{\"color\":\"rgb(170, 68, 153)\"},\"name\":\"7\",\"notched\":true,\"offsetgroup\":\"7\",\"orientation\":\"v\",\"showlegend\":true,\"x\":[7,7,7,7,7,7,7,7,7,7,7,7,7,7,7,7,7,7,7,7,7,7,7,7,7,7,7,7,7,7,7,7,7,7,7,7,7,7,7,7,7,7,7,7,7,7,7,7,7,7,7,7,7,7,7,7,7,7,7,7,7,7,7,7,7,7,7,7,7,7,7,7,7,7,7,7,7,7,7,7,7,7,7,7,7,7,7,7,7,7,7,7,7,7,7,7,7,7,7,7,7,7,7,7,7,7,7,7,7,7,7,7,7,7],\"x0\":\" \",\"xaxis\":\"x\",\"y\":[13.629567404504787,40.50761454193471,1.134545419459201,6.044593145854446,33.97658983030477,9.295153709345888,12.528174522105356,1.6118513952313827,12.101827768373045,39.11351251335574,2.711726504350112,17.282543598703178,1.5967922616896293,8.170073727611458,10.368602939822722,1.8890026060944711,45.13108879013154,4.488067838828504,11.972031898532013,1.5161918691823653,17.69882894231416,14.625767607118393,40.48274001043373,32.45165848079418,77.60951172075985,12.170952863230914,73.41787785244391,2.012218755209469,3.9391270217431447,17.627063961696336,4.73782678646157,6.695167354293767,22.683595146398975,30.602403784415387,42.19781039610718,6.086696140602696,23.413555898146022,13.057175055641137,1.004986863108327,55.714040345624085,17.78804756171771,20.74849984106386,19.60670361377454,24.084150749210153,19.040907471028834,32.49840568244161,36.96117636714105,33.03807581525548,13.763657849920898,12.709395255494726,10.318233524015389,64.56764441610032,45.439020354400924,30.451054098981356,15.428725875810237,1.2375455791578973,1.7764068689411907,18.815162470668785,21.848171982424294,11.18882240861569,6.577335985487433,59.53390361563504,57.777972726383844,11.746290922208116,80.1857128733277,10.5819837899871,38.04584276943321,14.921347895688458,11.269207554792606,3.1645716624998523,16.13965949923415,6.911878039871606,6.747008464029691,12.164560096017373,14.134489173646173,3.732249960843461,26.152931553113874,26.410011295547815,28.701069223717155,4.677007579304513,40.30556871988431,1.3383601608443525,18.466706596754303,4.532013267024812,20.684152994381368,12.417093094295979,3.539179664412828,5.838911628889836,6.767582949569968,0.234818784939819,14.718555690631913,10.112024777698668,40.94857115440731,11.737413186871413,3.2327722585972856,14.480283352797038,2.738329396077968,31.059354549332646,5.4057924646624285,24.205227615823883,31.01811030859329,13.959286427639658,15.445820798342982,9.628028951072475,2.7202367540286816,6.3448574344962765,7.113466076734537,2.257214196015987,0.25392160065528036,57.63643827787831,2.813928345919071,13.212451834138406,5.5235738979796905,20.334653342625522],\"y0\":\" \",\"yaxis\":\"y\",\"type\":\"box\"},{\"alignmentgroup\":\"True\",\"hovertemplate\":\"Distancia de la predicción (Meses)=%{x}\\u003cbr\\u003ePrecisión (%)=%{y}\\u003cextra\\u003e\\u003c\\u002fextra\\u003e\",\"legendgroup\":\"1\",\"marker\":{\"color\":\"rgb(68, 170, 153)\"},\"name\":\"1\",\"notched\":true,\"offsetgroup\":\"1\",\"orientation\":\"v\",\"showlegend\":true,\"x\":[1,1,1,1,1,1,1,1,1,1,1,1,1,1,1,1,1,1,1,1,1,1,1,1,1,1,1,1,1,1,1,1,1,1,1,1,1,1,1,1,1,1,1,1,1,1,1,1,1,1,1,1,1,1,1,1,1,1,1,1,1,1,1,1,1,1,1,1,1,1,1,1,1,1,1,1,1,1,1,1,1,1,1,1,1,1,1,1,1,1,1,1,1,1,1,1,1,1,1,1,1,1,1,1,1,1,1,1,1,1,1,1,1,1],\"x0\":\" \",\"xaxis\":\"x\",\"y\":[15.021925868180752,24.026139255642832,1.7921983716501408,10.819065737018727,16.057684844741956,24.399852748498358,26.724509810269854,13.479605524808047,30.774470267373637,12.66431778421602,24.626565448807263,14.891874612540015,21.156082813566375,5.7191041069621615,15.618834975805271,12.046196621403896,14.83354353039621,18.634660680149203,1.4316089156426313,2.9888829763953106,16.40737808286488,12.001807950926262,4.451575416009942,2.6684391861057146,2.410891564719108,18.798060790451792,5.410658123149358,23.95102374885572,5.824487925068919,20.923803783100105,33.95612450645723,11.599345706200278,8.43669775291022,4.367132784674431,9.191136287370815,20.54656440718137,15.465106653141273,10.129612568798581,12.819097314918618,17.19594059179026,15.859306446451113,6.071757739383318,1.083943579315793,26.175763655827218,1.1975098715867158,3.0801703402017884,10.799366892968495,6.496716073127658,5.5844116372778725,9.491060228396519,17.401969713220744,24.251311028766427,12.278469764819336,38.9624735758832,27.80793610272989,11.684868129428674,3.055198717570309,3.452144631406287,16.381489239414584,17.723558385283884,3.712999265008842,0.5053853247855783,12.544745314692173,7.206700578069558,3.808787483559807,38.68418652736917,11.905379163608101,8.677758974968926,12.160861825326382,7.85456315567799,12.968355178786407,17.59991349710418,12.31256541916006,31.45163559866789,13.06834855919223,8.519256012507006,1.062191365287272,9.514425740857833,14.305095834933553,4.7015135458222845,30.72866576629937,1.5123694161441892,0.16611220512833214,11.23859965760081,7.903668677026817,0.34736849372696715,6.564087870239622,18.945840566294212,1.8915921752258646,14.540132066247802,28.091090276851858,20.735814992591038,4.397066303710233,6.117132403447927,13.273081059092481,2.7002827277659733,2.709675176138038,12.794560936247446,7.334671978726967,18.839219815629207,7.427554125548021,15.456335654498776,11.772176427785185,6.2898001492258535,0.6811734949666939,1.256030015960159,1.933886926904129,3.0734163516391155,1.7501696952717523,23.606601900894823,5.011089450226317,8.061252070953042,3.94562260441086,9.584118245613876],\"y0\":\" \",\"yaxis\":\"y\",\"type\":\"box\"},{\"alignmentgroup\":\"True\",\"hovertemplate\":\"Distancia de la predicción (Meses)=%{x}\\u003cbr\\u003ePrecisión (%)=%{y}\\u003cextra\\u003e\\u003c\\u002fextra\\u003e\",\"legendgroup\":\"13\",\"marker\":{\"color\":\"rgb(153, 153, 51)\"},\"name\":\"13\",\"notched\":true,\"offsetgroup\":\"13\",\"orientation\":\"v\",\"showlegend\":true,\"x\":[13,13,13,13,13,13,13,13,13,13,13,13,13,13,13,13,13,13,13,13,13,13,13,13,13,13,13,13,13,13,13,13,13,13,13,13,13,13,13,13,13,13,13,13,13,13,13,13,13,13,13,13,13,13,13,13,13,13,13,13,13,13,13,13,13,13,13,13,13,13],\"x0\":\" \",\"xaxis\":\"x\",\"y\":[37.15895756000251,47.22053858110875,26.657049890356376,33.47540848636489,29.586804680134232,7.5757068539889225,18.237666727978294,17.345339461855712,5.802985902302183,3.930750960774862,3.1212928475425934,20.298939775860912,3.9648474875130626,2.77316466950832,19.825324478490078,26.230722482077752,13.220876336040948,12.437428488225995,67.23872732287026,27.64452494136017,5.494320169381688,7.654935329210956,17.202283510772283,0.1475133528997767,41.119051152906025,1.032411932536893,44.8199704660794,29.419904788156693,31.421527152652494,12.593380567787674,45.78603832588813,0.2577763417426465,79.0307744065779,21.31567782469759,17.202939642080924,3.965576248711679,35.049624261209004,17.47338777047419,64.91385707910042,3.7205520878736844,39.63937045715243,5.822448828169522,37.914246096315985,14.492067790979826,60.10363933534774,27.547683918549122,77.87203513644583,9.131414490836073,6.656020399275269,9.626157271660887,1.2344162662879112,10.023444453918108,2.3390420730008517,7.8938866776483065,4.330690505120624,4.34915162669725,6.361946554108419,3.1804020302882554,10.210246628509584,6.644518025026327,15.8848918073484,8.128430215321753,60.87608645647657,8.453181002448222,22.562780335319243,16.986316729866825,20.331661923170877,0.23804416342799514,17.40365033363976,6.604365710299084],\"y0\":\" \",\"yaxis\":\"y\",\"type\":\"box\"},{\"alignmentgroup\":\"True\",\"hovertemplate\":\"Distancia de la predicción (Meses)=%{x}\\u003cbr\\u003ePrecisión (%)=%{y}\\u003cextra\\u003e\\u003c\\u002fextra\\u003e\",\"legendgroup\":\"12\",\"marker\":{\"color\":\"rgb(136, 34, 85)\"},\"name\":\"12\",\"notched\":true,\"offsetgroup\":\"12\",\"orientation\":\"v\",\"showlegend\":true,\"x\":[12,12,12,12,12,12,12,12,12,12,12,12,12,12,12,12,12,12,12,12,12,12,12,12,12,12,12,12,12,12,12,12,12,12,12,12,12,12,12,12,12,12,12,12,12,12,12,12,12,12,12,12,12,12,12,12,12,12,12,12,12,12,12,12,12,12,12,12,12,12,12,12,12,12,12,12,12,12,12,12,12],\"x0\":\" \",\"xaxis\":\"x\",\"y\":[11.729315468275399,0.19085987196204723,21.38783123395691,49.78570841715623,19.38854389886586,10.634857454568172,17.566845971211357,3.0476722732734696,62.50436703226572,42.369971598357274,36.88836126186943,1.4146634078834404,33.03799906711736,9.271535847661594,1.0736234005504455,0.04490051129455572,0.7269909734555029,9.309980478403833,33.92389827967746,33.37362825054145,3.669678739148384,44.10915096472796,18.157164596549713,2.8462942941213107,5.023349151393405,83.57647504351087,19.592888971335928,9.549828543307138,20.62308489310453,0.7410744148289272,24.588824158999493,4.256021051731337,10.558712602610985,17.206651340938677,21.543042053298443,1.4305628085819801,43.77230496573235,4.628607666719494,6.978648780745403,6.922712170290669,33.15499025932396,12.932937743509445,2.5894979111850915,18.965209174475937,22.759194332790937,29.825250884362838,7.887040728466278,6.493042550160317,18.447417530239598,3.94349024864407,61.337160672767276,0.9921678949486574,0.4584924293036803,24.642734672624655,8.891540490470693,19.32359646907139,20.867772996628354,35.86959524316126,11.97367002013618,0.5804887878551134,27.725220528830853,1.0466940733238137,48.86768939429633,9.238160096911798,67.2065270453038,46.30824580116397,2.5390224933808483,29.00454305580555,8.584734659003267,8.335500795325943,10.384712252123318,14.62596660135061,22.67129935642273,51.57548836148077,10.081530857630604,29.499395060305833,39.195025857235905,41.39583134543313,25.977380763688974,11.83702903633354,23.14179967958366],\"y0\":\" \",\"yaxis\":\"y\",\"type\":\"box\"},{\"alignmentgroup\":\"True\",\"hovertemplate\":\"Distancia de la predicción (Meses)=%{x}\\u003cbr\\u003ePrecisión (%)=%{y}\\u003cextra\\u003e\\u003c\\u002fextra\\u003e\",\"legendgroup\":\"5\",\"marker\":{\"color\":\"rgb(102, 17, 0)\"},\"name\":\"5\",\"notched\":true,\"offsetgroup\":\"5\",\"orientation\":\"v\",\"showlegend\":true,\"x\":[5,5,5,5,5,5,5,5,5,5,5,5,5,5,5,5,5,5,5,5,5,5,5,5,5,5,5,5,5,5,5,5,5,5,5,5,5,5,5,5,5,5,5,5,5,5,5,5,5,5,5,5,5,5,5,5,5,5,5,5,5,5,5,5,5,5,5,5,5,5,5,5,5,5,5,5,5,5,5,5,5,5,5,5,5,5,5,5,5,5,5,5,5,5,5,5,5,5,5,5,5,5,5,5,5,5,5,5,5,5,5,5,5,5],\"x0\":\" \",\"xaxis\":\"x\",\"y\":[22.9706799824514,10.533324431744578,45.56760746543059,4.119583046190172,6.129313242863756,14.479414146495523,56.31129952427043,1.7039662113247513,27.18534238789062,29.435722532781067,19.25619311404676,23.454672870950404,27.080772580902202,55.08060539246961,11.058395542968642,2.9239641117445663,33.81660766273621,15.376939717062985,19.134372298695407,5.777126831710925,35.179206548923965,9.33985760651246,4.793541637888154,5.05591363808855,18.411981231248145,2.33979432504374,0.12331306971545988,16.144465799502164,2.2711385294350066,22.58338126358721,3.2666743808935492,43.04887542505861,1.6922801754877228,35.625403162571615,35.15362360927469,37.71627596834228,3.3114468999115068,7.312003722122952,21.885460938881597,22.730557168315638,6.636596553171434,30.01610486718807,24.103023216374556,10.74626072068722,7.928502716541871,16.938400441866243,1.6410478569818625,13.531205035638076,12.92543270546735,4.692622742582397,38.73388866996445,9.986061407547917,15.886131329494308,0.9383164719690615,5.407017589955576,19.889447234748555,2.569360065475189,1.4238346510355449,31.45195837809176,7.886924278897922,21.438110186356564,7.466184907401412,65.52837621951498,3.788790527020753,11.805539075597164,15.179066357013179,12.09578664011525,30.74785977986481,10.480102685946937,6.832521070327023,14.096346361858703,12.270585144284167,21.888489952589378,20.372395332796376,2.8303613767956914,1.6411245990363514,12.004588651274,9.553568266669068,3.3137648714694268,1.705676830039871,21.68611542040357,12.321250076274893,20.83654597476535,25.63176593087754,0.9534739209366528,10.670649623116995,7.335915308241496,11.028382521982502,4.259450079120844,5.559661448247789,15.544362550088245,5.919515475201182,11.091782825929592,20.951737534607652,4.9692702743378785,7.005777090982606,6.322281618416939,20.101530533667695,3.917947717165925,33.52167287730867,11.895556858133252,68.62943204714095,58.329882732871205,3.2587121328309605,3.1320187856879103,30.61212253256563,63.05831562857497,27.869299972437545,47.487525033661626,8.315463231306923,13.271215343628153,20.166878587472457,0.2646921688866669,7.279173767278209],\"y0\":\" \",\"yaxis\":\"y\",\"type\":\"box\"},{\"alignmentgroup\":\"True\",\"hovertemplate\":\"Distancia de la predicción (Meses)=%{x}\\u003cbr\\u003ePrecisión (%)=%{y}\\u003cextra\\u003e\\u003c\\u002fextra\\u003e\",\"legendgroup\":\"6\",\"marker\":{\"color\":\"rgb(136, 136, 136)\"},\"name\":\"6\",\"notched\":true,\"offsetgroup\":\"6\",\"orientation\":\"v\",\"showlegend\":true,\"x\":[6,6,6,6,6,6,6,6,6,6,6,6,6,6,6,6,6,6,6,6,6,6,6,6,6,6,6,6,6,6,6,6,6,6,6,6,6,6,6,6,6,6,6,6,6,6,6,6,6,6,6,6,6,6,6,6,6,6,6,6,6,6,6,6,6,6,6,6,6,6,6,6,6,6,6,6,6,6,6,6,6,6,6,6,6,6,6,6,6,6,6,6,6,6,6,6,6,6,6,6,6,6,6,6,6,6,6,6,6,6,6,6,6,6],\"x0\":\" \",\"xaxis\":\"x\",\"y\":[6.868615274819617,14.665735452461504,55.82446210388935,44.69085735375976,25.343353310960076,24.487244980244657,8.307329799730658,6.526708562248132,4.417208028956864,5.854252154117614,7.472945860875248,32.693814476181885,7.335488706914889,25.866037078352473,7.375485914050926,11.299277554518984,4.9923134402623495,17.66625817271609,1.7542830567036978,28.755679540999367,9.01580627080966,64.00971831215733,16.223687663982115,14.323004378419546,35.64539710350114,32.93923356158414,31.7463948829944,9.476769474457502,30.46990891643832,41.98658179927316,2.81981239842505,49.26074245256416,2.606839839740491,18.933817416734662,0.18713050063993564,6.587453243831995,16.218560017200744,21.00841952355474,12.014689909182286,13.51721249782621,8.190110635244174,40.705745327339365,0.5239569753129864,2.6295123632933524,22.492165184749478,26.05726879224481,5.52394129428199,44.99324401570463,5.308292842762938,34.787713721904545,3.859097020811745,66.90895911197843,10.092551998638125,12.167964631207298,9.68107604229765,5.740666200056853,22.613983804144258,8.810074842117634,5.013300104974739,16.3418259810121,9.169339412405893,9.28743498615444,12.319202620335409,71.14292315063358,4.593857547889683,5.350445212382265,1.2315384883549139,1.6301382933284954,15.535051186405216,5.892674129667571,17.423800371123846,13.5507615970945,11.473337789272945,30.546978251630225,11.53827551229044,21.143656439993556,6.610328466084684,41.95183018407747,42.027083030253706,37.112909200590344,22.788815059392974,15.094676545154304,28.475125181290256,0.3757328863188629,12.646681147405687,6.096966787470838,4.822454443967895,18.570428922891633,10.023093814820614,9.13721834629495,11.907694390752383,8.947342668690832,8.232093116433301,39.88902011163438,11.067469649371537,10.547009445101217,24.058655927136996,12.274169987368381,33.15820976111784,22.717512761940377,1.0672439658027837,6.12735732475891,29.79768380958363,11.937618595575932,23.38777127675547,26.712770596501663,30.70060237883056,1.982998458108625,19.456310125920933,29.411550222316013,4.803527421084644,31.513716613775433,3.036182469862253,35.27247870176362],\"y0\":\" \",\"yaxis\":\"y\",\"type\":\"box\"},{\"alignmentgroup\":\"True\",\"hovertemplate\":\"Distancia de la predicción (Meses)=%{x}\\u003cbr\\u003ePrecisión (%)=%{y}\\u003cextra\\u003e\\u003c\\u002fextra\\u003e\",\"legendgroup\":\"3\",\"marker\":{\"color\":\"rgb(136, 204, 238)\"},\"name\":\"3\",\"notched\":true,\"offsetgroup\":\"3\",\"orientation\":\"v\",\"showlegend\":true,\"x\":[3,3,3,3,3,3,3,3,3,3,3,3,3,3,3,3,3,3,3,3,3,3,3,3,3,3,3,3,3,3,3,3,3,3,3,3,3,3,3,3,3,3,3,3,3,3,3,3,3,3,3,3,3,3,3,3,3,3,3,3,3,3,3,3,3,3,3,3,3,3,3,3,3,3,3,3,3,3,3,3,3,3,3,3,3,3,3,3,3,3,3,3,3,3,3,3,3,3,3,3,3,3,3,3,3,3,3,3,3,3,3,3,3,3],\"x0\":\" \",\"xaxis\":\"x\",\"y\":[23.526111085129344,17.51600215549261,1.3349297336718566,9.363721894122182,31.21734578361451,10.402738860152162,13.727337421547956,6.624271776843049,7.948259511910309,7.9517763154821095,20.334594575148945,1.8464944343275103,14.203939827762731,17.522143818249326,6.660406522515403,15.553597748384002,2.975372148726573,16.00332628622553,10.992305584897,2.996108303236387,48.66077632510757,13.673833809126211,3.401436759007796,13.181387744968879,5.9267634452449975,24.3777657956773,0.4875401298723577,25.964477668664575,34.36303199451841,14.453379840854785,24.835935472348773,6.986987473135136,42.85013153940998,12.584335384487705,9.318874852197755,15.319201084252054,15.54315038983402,0.5409374555888228,8.423437565540686,19.696502013046267,0.4400765726800571,13.108522493729394,0.6114891722786452,5.695734302616063,15.23596583017069,12.086698998650386,7.106383640041902,6.6137802086766975,12.559157114803535,0.398204553042575,13.071600362635886,39.11245669039607,3.7169266630009137,30.051709826849393,38.22847079778535,8.673885489889798,52.51687405526594,1.012204725838781,0.9762656610624478,5.547143502809786,29.402330947010896,1.8857090814179405,1.1387787035878825,4.530682401688655,4.543708992089323,32.68749205475589,16.30628974492957,12.933612046285283,20.994769697228378,0.9925946532525641,25.71249980713462,12.884940451340054,22.829615198217493,27.301580163244456,19.37434752634579,7.9007746000755485,7.637753252591245,25.409756682070046,1.0570167032836457,16.794968156636664,8.816102349726771,3.4051224122435677,8.873924906780084,9.092834319540508,44.64423182767643,10.268193108706262,22.67225928411339,10.254631782762608,3.11394262608453,2.75234245238156,7.512552774823073,14.397619646687449,14.136937254523058,7.825566768964428,15.566598827434285,7.338389598327136,11.837874577867314,27.000343125565944,23.897196334004764,1.7251495950643534,12.388878818399956,4.700532687368743,28.597217091184678,8.783325917184538,13.70358009367862,22.284788021735068,15.869616454869478,8.3198725048025,10.841122397885115,6.625812716153913,8.702253692341994,17.732719111589088,35.92133929281541,19.31966828571425],\"y0\":\" \",\"yaxis\":\"y\",\"type\":\"box\"},{\"alignmentgroup\":\"True\",\"hovertemplate\":\"Distancia de la predicción (Meses)=%{x}\\u003cbr\\u003ePrecisión (%)=%{y}\\u003cextra\\u003e\\u003c\\u002fextra\\u003e\",\"legendgroup\":\"2\",\"marker\":{\"color\":\"rgb(204, 102, 119)\"},\"name\":\"2\",\"notched\":true,\"offsetgroup\":\"2\",\"orientation\":\"v\",\"showlegend\":true,\"x\":[2,2,2,2,2,2,2,2,2,2,2,2,2,2,2,2,2,2,2,2,2,2,2,2,2,2,2,2,2,2,2,2,2,2,2,2,2,2,2,2,2,2,2,2,2,2,2,2,2,2,2,2,2,2,2,2,2,2,2,2,2,2,2,2,2,2,2,2,2,2,2,2,2,2,2,2,2,2,2,2,2,2,2,2,2,2,2,2,2,2,2,2,2,2,2,2,2,2,2,2,2,2,2,2,2,2,2,2,2,2,2,2,2,2],\"x0\":\" \",\"xaxis\":\"x\",\"y\":[15.15510143007894,6.101424338541183,23.070328839242567,10.828091866993901,16.809562114721714,29.75921637173648,25.13878019545212,12.58247946568461,19.959100333434638,15.251990420962228,5.558453565729966,9.064111420846302,3.6674307829140926,13.098235570554472,16.48211076766851,28.206903850432735,22.2526599061323,2.5467511398577405,14.754020871412404,20.444815538877613,12.852784997410104,4.235930559959959,13.41043534635262,8.253931441257158,18.58820314801041,40.19603108638377,37.570172632294465,3.640290396638464,0.07767339117264052,12.482320615774405,16.131444164142792,18.80397504312798,15.240630916100406,7.674584174888241,17.243628135517866,2.125088432666097,12.471759478601527,24.941658005993304,1.6629371581341381,1.2898468534725782,20.97826511745398,23.184072346626476,50.22469539925956,16.0562561528398,18.47684999663622,14.842645683895489,25.057559467342845,10.134949252025185,15.81817175871838,10.246716158671228,37.57523834860801,2.0576479538897288,11.58758483005007,19.66356339472733,2.6296356096691955,19.097820705372765,3.877367764338264,4.478394542839687,31.56503365625824,7.846225598324022,25.686696878651706,10.38855387298946,39.2641131623129,10.413676106613101,5.287630516289896,4.033337430660202,2.643374328325283,7.762511580040327,30.352924076263864,11.012683903363515,1.6975116419841114,23.640706827296714,10.083382949554167,3.5878064031525096,6.439656721455671,7.474093839745072,11.132302778282192,2.3268444394894536,1.9541154432402428,5.73266625549601,7.677386744386268,11.557390988766631,32.538244632073045,10.007688893295319,4.146510843597869,11.182696611423955,17.22953799304708,18.609558664768635,33.07181178273649,16.784117102049777,28.258810175822536,12.892581739669358,7.7027539690408595,3.410839891374356,8.879612767697003,6.544197481262501,3.4954281494729047,6.82024638859307,3.3406320214239775,8.778739711910525,24.41442562229125,7.224559613956577,2.3229557457528007,5.850568729275172,9.005821362305342,24.14025861813393,3.570267599388842,15.544421338370535,6.8555030163957715,17.928641213944243,8.639733094149795,30.87182207781151,37.81802536242881,13.391219111712738],\"y0\":\" \",\"yaxis\":\"y\",\"type\":\"box\"},{\"alignmentgroup\":\"True\",\"hovertemplate\":\"Distancia de la predicción (Meses)=%{x}\\u003cbr\\u003ePrecisión (%)=%{y}\\u003cextra\\u003e\\u003c\\u002fextra\\u003e\",\"legendgroup\":\"11\",\"marker\":{\"color\":\"rgb(221, 204, 119)\"},\"name\":\"11\",\"notched\":true,\"offsetgroup\":\"11\",\"orientation\":\"v\",\"showlegend\":true,\"x\":[11,11,11,11,11,11,11,11,11,11,11,11,11,11,11,11,11,11,11,11,11,11,11,11,11,11,11,11,11,11,11,11,11,11,11,11,11,11,11,11,11,11,11,11,11,11,11,11,11,11,11,11,11,11,11,11,11,11,11,11,11,11,11,11,11,11,11,11,11,11,11,11,11,11,11,11,11,11,11,11,11,11,11,11,11,11,11,11,11,11,11,11],\"x0\":\" \",\"xaxis\":\"x\",\"y\":[18.76218670622237,57.38019838595486,16.79711352354911,1.0122463626372311,74.34475180898401,20.28073651881889,13.75804531758079,4.089142492302776,6.521163874426382,17.893690206420885,5.4286595093224745,0.2946249391233061,11.788738139700246,8.472388953968366,50.39155552592353,7.144799990328282,25.79565030005383,12.05576865366872,15.775037011693192,57.705811665733684,42.15646065779195,22.07193635130794,15.42385466779415,11.702610540757904,17.809335081731263,5.0395364219750025,70.10054840658215,15.654769218533959,15.230506885327552,0.1998723471616452,24.476172502527135,2.875329893705042,22.767502515663676,22.445519025154923,42.16395699417815,1.6100540118999351,2.119384653663618,3.5210211999528376,2.53123014920421,14.777759044523892,10.884032200170973,68.54445662942345,38.66465620422032,7.1197282635856824,23.87525352788141,18.059828223005486,42.012903362450196,1.6237581739800406,36.54555106904083,3.342717641136761,5.542408302546196,28.39810178756969,43.88646424699394,7.729395175794488,36.42134435496771,20.436895875684804,1.1481414944805555,3.516657064520717,16.659926628210105,24.658634441566523,10.916427761763826,82.35571469427583,16.85947312944012,25.989186249754493,8.909083782554099,9.320184985366426,40.35767509097224,9.611909209454037,7.056616952581287,1.3150838444254676,32.9070177583348,7.926983775884808,9.027999766927937,23.354473367740447,21.462640207978563,13.438105510053907,6.097995727381054,6.404416728075645,54.76610989647499,5.32368765315213,2.005765941199404,28.28104045440832,49.336368500916436,35.038162291596834,11.033996706163816,2.128125946297198,16.116129322734444,20.138215148377867,3.3951087149661046,48.70624989198589,7.222207624105037,15.897381485010314],\"y0\":\" \",\"yaxis\":\"y\",\"type\":\"box\"},{\"alignmentgroup\":\"True\",\"hovertemplate\":\"Distancia de la predicción (Meses)=%{x}\\u003cbr\\u003ePrecisión (%)=%{y}\\u003cextra\\u003e\\u003c\\u002fextra\\u003e\",\"legendgroup\":\"14\",\"marker\":{\"color\":\"rgb(17, 119, 51)\"},\"name\":\"14\",\"notched\":true,\"offsetgroup\":\"14\",\"orientation\":\"v\",\"showlegend\":true,\"x\":[14,14,14,14,14,14,14,14,14,14,14,14,14,14,14,14,14,14,14,14,14,14,14,14,14,14,14,14,14,14,14,14,14,14,14,14,14,14,14,14,14,14,14,14,14,14,14,14,14,14,14,14,14,14,14,14,14,14,14],\"x0\":\" \",\"xaxis\":\"x\",\"y\":[13.559426289550853,13.039422340977588,2.119152197231608,17.40329399933571,45.44172692757638,9.137217355279518,2.4407422579697897,27.64460416673071,52.891915560115386,1.4879951750704274,6.90831075240997,11.967371661193782,95.16242091291399,31.71538313147287,0.5255458551395058,4.105642256874328,9.050349609993203,1.768870390722174,30.568716483203424,39.44493844854931,0.7600234054372267,28.862308338164784,7.456465156106673,33.83866001675027,65.48197888855579,18.763281978824736,48.591010001210236,18.415653038277547,18.825949918452167,47.470855658002144,27.10394858401091,31.001084128042606,19.395244208543822,5.905940821863252,18.72209094722149,7.265615140784525,19.61045151320373,5.913970292546093,4.4288881788695456,13.209951610035791,12.65437128045765,4.796442395155181,25.44046429183592,6.786032767688345,48.30477970645809,43.935409367667496,31.568246257288873,30.099604288982786,19.319561619796737,14.812148293031294,7.123544848190931,2.117158077778693,5.815524502467494,0.5306832747470634,6.4251581120202435,24.411282834353784,24.725815280377322,5.285672767643549,26.51252865869796],\"y0\":\" \",\"yaxis\":\"y\",\"type\":\"box\"},{\"alignmentgroup\":\"True\",\"hovertemplate\":\"Distancia de la predicción (Meses)=%{x}\\u003cbr\\u003ePrecisión (%)=%{y}\\u003cextra\\u003e\\u003c\\u002fextra\\u003e\",\"legendgroup\":\"16\",\"marker\":{\"color\":\"rgb(51, 34, 136)\"},\"name\":\"16\",\"notched\":true,\"offsetgroup\":\"16\",\"orientation\":\"v\",\"showlegend\":true,\"x\":[16,16,16,16,16,16,16,16,16,16,16,16,16,16,16,16,16,16,16,16,16,16,16,16,16,16,16,16,16,16,16,16,16,16,16,16,16],\"x0\":\" \",\"xaxis\":\"x\",\"y\":[5.607426971141816,33.34832888392807,18.61605149871401,11.046735079315162,13.554558050213931,30.808875626847403,0.2061134535513045,67.77467889154613,25.317129201515932,37.640463680523794,16.900496045949357,28.0501726805013,64.91553546038506,28.558238765481686,48.85062554163848,5.63666570485495,17.273148974831255,52.85927747375735,15.46726614702511,6.439624207344286,10.474023818970391,2.2865695820184757,26.771170887324303,16.577259512775804,2.07597480198475,23.26524533450531,0.3322662392993168,4.143953988815458,7.7500033931329035,16.769108250180683,7.872616780009619,48.964055969391794,22.341497175563767,18.556870787930382,4.928296135645461,28.73839056941707,2.939530222087246],\"y0\":\" \",\"yaxis\":\"y\",\"type\":\"box\"},{\"alignmentgroup\":\"True\",\"hovertemplate\":\"Distancia de la predicción (Meses)=%{x}\\u003cbr\\u003ePrecisión (%)=%{y}\\u003cextra\\u003e\\u003c\\u002fextra\\u003e\",\"legendgroup\":\"18\",\"marker\":{\"color\":\"rgb(170, 68, 153)\"},\"name\":\"18\",\"notched\":true,\"offsetgroup\":\"18\",\"orientation\":\"v\",\"showlegend\":true,\"x\":[18,18,18,18,18,18,18,18,18,18,18,18,18,18,18],\"x0\":\" \",\"xaxis\":\"x\",\"y\":[25.24531596732792,23.693707599259533,22.294539727257025,13.490289959891633,14.863626257141538,1.1910633620052453,18.62254249329619,4.704592995382546,23.008483469971917,10.726946329722331,8.512387914976738,5.757988348061036,30.14066577144777,20.662944698564363,1.8729975609273353],\"y0\":\" \",\"yaxis\":\"y\",\"type\":\"box\"},{\"alignmentgroup\":\"True\",\"hovertemplate\":\"Distancia de la predicción (Meses)=%{x}\\u003cbr\\u003ePrecisión (%)=%{y}\\u003cextra\\u003e\\u003c\\u002fextra\\u003e\",\"legendgroup\":\"17\",\"marker\":{\"color\":\"rgb(68, 170, 153)\"},\"name\":\"17\",\"notched\":true,\"offsetgroup\":\"17\",\"orientation\":\"v\",\"showlegend\":true,\"x\":[17,17,17,17,17,17,17,17,17,17,17,17,17,17,17,17,17,17,17,17,17,17,17,17,17,17],\"x0\":\" \",\"xaxis\":\"x\",\"y\":[69.14948019570733,30.183533070172107,12.347556568344665,14.620877648365582,18.885927930766574,5.748072034411765,29.454700010350138,27.10339161052901,21.74375006825872,5.208595481186494,6.4802881208852465,3.1030721560123165,0.07677347012369454,25.678405364882416,14.355792777968377,10.145319688432895,4.090906795837749,26.72107870218979,3.661508375354136,49.71138653634566,23.018797402086875,13.838640127110512,25.81322249934546,12.499632576014028,4.1246589483739,14.729781133259543],\"y0\":\" \",\"yaxis\":\"y\",\"type\":\"box\"}],                        {\"template\":{\"data\":{\"barpolar\":[{\"marker\":{\"line\":{\"color\":\"white\",\"width\":0.5},\"pattern\":{\"fillmode\":\"overlay\",\"size\":10,\"solidity\":0.2}},\"type\":\"barpolar\"}],\"bar\":[{\"error_x\":{\"color\":\"#2a3f5f\"},\"error_y\":{\"color\":\"#2a3f5f\"},\"marker\":{\"line\":{\"color\":\"white\",\"width\":0.5},\"pattern\":{\"fillmode\":\"overlay\",\"size\":10,\"solidity\":0.2}},\"type\":\"bar\"}],\"carpet\":[{\"aaxis\":{\"endlinecolor\":\"#2a3f5f\",\"gridcolor\":\"#C8D4E3\",\"linecolor\":\"#C8D4E3\",\"minorgridcolor\":\"#C8D4E3\",\"startlinecolor\":\"#2a3f5f\"},\"baxis\":{\"endlinecolor\":\"#2a3f5f\",\"gridcolor\":\"#C8D4E3\",\"linecolor\":\"#C8D4E3\",\"minorgridcolor\":\"#C8D4E3\",\"startlinecolor\":\"#2a3f5f\"},\"type\":\"carpet\"}],\"choropleth\":[{\"colorbar\":{\"outlinewidth\":0,\"ticks\":\"\"},\"type\":\"choropleth\"}],\"contourcarpet\":[{\"colorbar\":{\"outlinewidth\":0,\"ticks\":\"\"},\"type\":\"contourcarpet\"}],\"contour\":[{\"colorbar\":{\"outlinewidth\":0,\"ticks\":\"\"},\"colorscale\":[[0.0,\"#0d0887\"],[0.1111111111111111,\"#46039f\"],[0.2222222222222222,\"#7201a8\"],[0.3333333333333333,\"#9c179e\"],[0.4444444444444444,\"#bd3786\"],[0.5555555555555556,\"#d8576b\"],[0.6666666666666666,\"#ed7953\"],[0.7777777777777778,\"#fb9f3a\"],[0.8888888888888888,\"#fdca26\"],[1.0,\"#f0f921\"]],\"type\":\"contour\"}],\"heatmapgl\":[{\"colorbar\":{\"outlinewidth\":0,\"ticks\":\"\"},\"colorscale\":[[0.0,\"#0d0887\"],[0.1111111111111111,\"#46039f\"],[0.2222222222222222,\"#7201a8\"],[0.3333333333333333,\"#9c179e\"],[0.4444444444444444,\"#bd3786\"],[0.5555555555555556,\"#d8576b\"],[0.6666666666666666,\"#ed7953\"],[0.7777777777777778,\"#fb9f3a\"],[0.8888888888888888,\"#fdca26\"],[1.0,\"#f0f921\"]],\"type\":\"heatmapgl\"}],\"heatmap\":[{\"colorbar\":{\"outlinewidth\":0,\"ticks\":\"\"},\"colorscale\":[[0.0,\"#0d0887\"],[0.1111111111111111,\"#46039f\"],[0.2222222222222222,\"#7201a8\"],[0.3333333333333333,\"#9c179e\"],[0.4444444444444444,\"#bd3786\"],[0.5555555555555556,\"#d8576b\"],[0.6666666666666666,\"#ed7953\"],[0.7777777777777778,\"#fb9f3a\"],[0.8888888888888888,\"#fdca26\"],[1.0,\"#f0f921\"]],\"type\":\"heatmap\"}],\"histogram2dcontour\":[{\"colorbar\":{\"outlinewidth\":0,\"ticks\":\"\"},\"colorscale\":[[0.0,\"#0d0887\"],[0.1111111111111111,\"#46039f\"],[0.2222222222222222,\"#7201a8\"],[0.3333333333333333,\"#9c179e\"],[0.4444444444444444,\"#bd3786\"],[0.5555555555555556,\"#d8576b\"],[0.6666666666666666,\"#ed7953\"],[0.7777777777777778,\"#fb9f3a\"],[0.8888888888888888,\"#fdca26\"],[1.0,\"#f0f921\"]],\"type\":\"histogram2dcontour\"}],\"histogram2d\":[{\"colorbar\":{\"outlinewidth\":0,\"ticks\":\"\"},\"colorscale\":[[0.0,\"#0d0887\"],[0.1111111111111111,\"#46039f\"],[0.2222222222222222,\"#7201a8\"],[0.3333333333333333,\"#9c179e\"],[0.4444444444444444,\"#bd3786\"],[0.5555555555555556,\"#d8576b\"],[0.6666666666666666,\"#ed7953\"],[0.7777777777777778,\"#fb9f3a\"],[0.8888888888888888,\"#fdca26\"],[1.0,\"#f0f921\"]],\"type\":\"histogram2d\"}],\"histogram\":[{\"marker\":{\"pattern\":{\"fillmode\":\"overlay\",\"size\":10,\"solidity\":0.2}},\"type\":\"histogram\"}],\"mesh3d\":[{\"colorbar\":{\"outlinewidth\":0,\"ticks\":\"\"},\"type\":\"mesh3d\"}],\"parcoords\":[{\"line\":{\"colorbar\":{\"outlinewidth\":0,\"ticks\":\"\"}},\"type\":\"parcoords\"}],\"pie\":[{\"automargin\":true,\"type\":\"pie\"}],\"scatter3d\":[{\"line\":{\"colorbar\":{\"outlinewidth\":0,\"ticks\":\"\"}},\"marker\":{\"colorbar\":{\"outlinewidth\":0,\"ticks\":\"\"}},\"type\":\"scatter3d\"}],\"scattercarpet\":[{\"marker\":{\"colorbar\":{\"outlinewidth\":0,\"ticks\":\"\"}},\"type\":\"scattercarpet\"}],\"scattergeo\":[{\"marker\":{\"colorbar\":{\"outlinewidth\":0,\"ticks\":\"\"}},\"type\":\"scattergeo\"}],\"scattergl\":[{\"marker\":{\"colorbar\":{\"outlinewidth\":0,\"ticks\":\"\"}},\"type\":\"scattergl\"}],\"scattermapbox\":[{\"marker\":{\"colorbar\":{\"outlinewidth\":0,\"ticks\":\"\"}},\"type\":\"scattermapbox\"}],\"scatterpolargl\":[{\"marker\":{\"colorbar\":{\"outlinewidth\":0,\"ticks\":\"\"}},\"type\":\"scatterpolargl\"}],\"scatterpolar\":[{\"marker\":{\"colorbar\":{\"outlinewidth\":0,\"ticks\":\"\"}},\"type\":\"scatterpolar\"}],\"scatter\":[{\"fillpattern\":{\"fillmode\":\"overlay\",\"size\":10,\"solidity\":0.2},\"type\":\"scatter\"}],\"scatterternary\":[{\"marker\":{\"colorbar\":{\"outlinewidth\":0,\"ticks\":\"\"}},\"type\":\"scatterternary\"}],\"surface\":[{\"colorbar\":{\"outlinewidth\":0,\"ticks\":\"\"},\"colorscale\":[[0.0,\"#0d0887\"],[0.1111111111111111,\"#46039f\"],[0.2222222222222222,\"#7201a8\"],[0.3333333333333333,\"#9c179e\"],[0.4444444444444444,\"#bd3786\"],[0.5555555555555556,\"#d8576b\"],[0.6666666666666666,\"#ed7953\"],[0.7777777777777778,\"#fb9f3a\"],[0.8888888888888888,\"#fdca26\"],[1.0,\"#f0f921\"]],\"type\":\"surface\"}],\"table\":[{\"cells\":{\"fill\":{\"color\":\"#EBF0F8\"},\"line\":{\"color\":\"white\"}},\"header\":{\"fill\":{\"color\":\"#C8D4E3\"},\"line\":{\"color\":\"white\"}},\"type\":\"table\"}]},\"layout\":{\"annotationdefaults\":{\"arrowcolor\":\"#2a3f5f\",\"arrowhead\":0,\"arrowwidth\":1},\"autotypenumbers\":\"strict\",\"coloraxis\":{\"colorbar\":{\"outlinewidth\":0,\"ticks\":\"\"}},\"colorscale\":{\"diverging\":[[0,\"#8e0152\"],[0.1,\"#c51b7d\"],[0.2,\"#de77ae\"],[0.3,\"#f1b6da\"],[0.4,\"#fde0ef\"],[0.5,\"#f7f7f7\"],[0.6,\"#e6f5d0\"],[0.7,\"#b8e186\"],[0.8,\"#7fbc41\"],[0.9,\"#4d9221\"],[1,\"#276419\"]],\"sequential\":[[0.0,\"#0d0887\"],[0.1111111111111111,\"#46039f\"],[0.2222222222222222,\"#7201a8\"],[0.3333333333333333,\"#9c179e\"],[0.4444444444444444,\"#bd3786\"],[0.5555555555555556,\"#d8576b\"],[0.6666666666666666,\"#ed7953\"],[0.7777777777777778,\"#fb9f3a\"],[0.8888888888888888,\"#fdca26\"],[1.0,\"#f0f921\"]],\"sequentialminus\":[[0.0,\"#0d0887\"],[0.1111111111111111,\"#46039f\"],[0.2222222222222222,\"#7201a8\"],[0.3333333333333333,\"#9c179e\"],[0.4444444444444444,\"#bd3786\"],[0.5555555555555556,\"#d8576b\"],[0.6666666666666666,\"#ed7953\"],[0.7777777777777778,\"#fb9f3a\"],[0.8888888888888888,\"#fdca26\"],[1.0,\"#f0f921\"]]},\"colorway\":[\"#636efa\",\"#EF553B\",\"#00cc96\",\"#ab63fa\",\"#FFA15A\",\"#19d3f3\",\"#FF6692\",\"#B6E880\",\"#FF97FF\",\"#FECB52\"],\"font\":{\"color\":\"#2a3f5f\"},\"geo\":{\"bgcolor\":\"white\",\"lakecolor\":\"white\",\"landcolor\":\"white\",\"showlakes\":true,\"showland\":true,\"subunitcolor\":\"#C8D4E3\"},\"hoverlabel\":{\"align\":\"left\"},\"hovermode\":\"closest\",\"mapbox\":{\"style\":\"light\"},\"paper_bgcolor\":\"white\",\"plot_bgcolor\":\"white\",\"polar\":{\"angularaxis\":{\"gridcolor\":\"#EBF0F8\",\"linecolor\":\"#EBF0F8\",\"ticks\":\"\"},\"bgcolor\":\"white\",\"radialaxis\":{\"gridcolor\":\"#EBF0F8\",\"linecolor\":\"#EBF0F8\",\"ticks\":\"\"}},\"scene\":{\"xaxis\":{\"backgroundcolor\":\"white\",\"gridcolor\":\"#DFE8F3\",\"gridwidth\":2,\"linecolor\":\"#EBF0F8\",\"showbackground\":true,\"ticks\":\"\",\"zerolinecolor\":\"#EBF0F8\"},\"yaxis\":{\"backgroundcolor\":\"white\",\"gridcolor\":\"#DFE8F3\",\"gridwidth\":2,\"linecolor\":\"#EBF0F8\",\"showbackground\":true,\"ticks\":\"\",\"zerolinecolor\":\"#EBF0F8\"},\"zaxis\":{\"backgroundcolor\":\"white\",\"gridcolor\":\"#DFE8F3\",\"gridwidth\":2,\"linecolor\":\"#EBF0F8\",\"showbackground\":true,\"ticks\":\"\",\"zerolinecolor\":\"#EBF0F8\"}},\"shapedefaults\":{\"line\":{\"color\":\"#2a3f5f\"}},\"ternary\":{\"aaxis\":{\"gridcolor\":\"#DFE8F3\",\"linecolor\":\"#A2B1C6\",\"ticks\":\"\"},\"baxis\":{\"gridcolor\":\"#DFE8F3\",\"linecolor\":\"#A2B1C6\",\"ticks\":\"\"},\"bgcolor\":\"white\",\"caxis\":{\"gridcolor\":\"#DFE8F3\",\"linecolor\":\"#A2B1C6\",\"ticks\":\"\"}},\"title\":{\"x\":0.05},\"xaxis\":{\"automargin\":true,\"gridcolor\":\"#EBF0F8\",\"linecolor\":\"#EBF0F8\",\"ticks\":\"\",\"title\":{\"standoff\":15},\"zerolinecolor\":\"#EBF0F8\",\"zerolinewidth\":2},\"yaxis\":{\"automargin\":true,\"gridcolor\":\"#EBF0F8\",\"linecolor\":\"#EBF0F8\",\"ticks\":\"\",\"title\":{\"standoff\":15},\"zerolinecolor\":\"#EBF0F8\",\"zerolinewidth\":2}}},\"xaxis\":{\"anchor\":\"y\",\"domain\":[0.0,1.0],\"title\":{\"text\":\"Distancia de la predicción (Meses)\"},\"categoryorder\":\"array\",\"categoryarray\":[4,8,10,15,9,7,1,13,12,5,6,3,2,11,14,16,18,17]},\"yaxis\":{\"anchor\":\"x\",\"domain\":[0.0,1.0],\"title\":{\"text\":\"Precisión (%)\"}},\"legend\":{\"title\":{\"text\":\"Distancia de la predicción (Meses)\"},\"tracegroupgap\":0},\"title\":{\"text\":\"Distribución de la precisión de la predicción según su distancia con la fecha predicha.\",\"font\":{\"size\":24,\"color\":\"black\",\"family\":\"Arial\"}},\"boxmode\":\"overlay\",\"font\":{\"size\":16,\"color\":\"black\",\"family\":\"Arial\"},\"showlegend\":false},                        {\"responsive\": true}                    ).then(function(){\n",
              "                            \n",
              "var gd = document.getElementById('fe13aa7e-2ab3-4767-af61-1830fd315009');\n",
              "var x = new MutationObserver(function (mutations, observer) {{\n",
              "        var display = window.getComputedStyle(gd).display;\n",
              "        if (!display || display === 'none') {{\n",
              "            console.log([gd, 'removed!']);\n",
              "            Plotly.purge(gd);\n",
              "            observer.disconnect();\n",
              "        }}\n",
              "}});\n",
              "\n",
              "// Listen for the removal of the full notebook cells\n",
              "var notebookContainer = gd.closest('#notebook-container');\n",
              "if (notebookContainer) {{\n",
              "    x.observe(notebookContainer, {childList: true});\n",
              "}}\n",
              "\n",
              "// Listen for the clearing of the current output cell\n",
              "var outputEl = gd.closest('.output');\n",
              "if (outputEl) {{\n",
              "    x.observe(outputEl, {childList: true});\n",
              "}}\n",
              "\n",
              "                        })                };                            </script>        </div>\n",
              "</body>\n",
              "</html>"
            ]
          },
          "metadata": {}
        }
      ]
    },
    {
      "cell_type": "code",
      "source": [
        "# Desviación estándar de las predicciones.\n",
        "SD1 = merged_df.groupby('Distancia_prediccion')['Precision'].std().reset_index()\n",
        "SD1.rename(columns={'Precision': 'Desviacion'}, inplace=True)\n",
        "\n",
        "# Media de las precisiones\n",
        "SD2 =  merged_df.groupby('Distancia_prediccion')['Precision'].mean().reset_index()\n",
        "SD2.rename(columns={'Precision': 'PrecisionMedia'}, inplace=True)\n",
        "SD2.drop(columns=['Distancia_prediccion'], inplace=True)\n",
        "\n",
        "SD = pd.concat([SD1,SD2], axis=1)\n",
        "print(SD)"
      ],
      "metadata": {
        "colab": {
          "base_uri": "https://localhost:8080/"
        },
        "id": "RVBfqhpwDm1A",
        "outputId": "2aa3d878-77e7-4bc5-e280-393c60e5c33c"
      },
      "execution_count": null,
      "outputs": [
        {
          "output_type": "stream",
          "name": "stdout",
          "text": [
            "    Distancia_prediccion  Desviacion  PrecisionMedia\n",
            "0                      1    8.903060       11.985494\n",
            "1                      2   10.339407       14.091624\n",
            "2                      3   11.188891       14.099088\n",
            "3                      4   14.807344       17.189377\n",
            "4                      5   15.301705       16.850455\n",
            "5                      6   15.097956       18.063156\n",
            "6                      7   17.646075       18.642176\n",
            "7                      8   16.636945       19.254858\n",
            "8                      9   18.286055       20.231485\n",
            "9                     10   19.062833       19.673484\n",
            "10                    11   18.604529       20.131957\n",
            "11                    12   18.035455       19.983009\n",
            "12                    13   19.439497       20.374440\n",
            "13                    14   18.432796       20.306286\n",
            "14                    15   18.616831       19.895611\n",
            "15                    16   17.705168       20.909682\n",
            "16                    17   15.462806       18.172890\n",
            "17                    18    9.217153       14.985873\n"
          ]
        }
      ]
    },
    {
      "cell_type": "code",
      "source": [
        "fig = px.scatter(SD, x='Distancia_prediccion', y='Desviacion',\n",
        "                 size='PrecisionMedia',\n",
        "                 template='plotly_white',\n",
        "                 title='Desviación estándar de la precisión de la predicción según su distancia con la fecha predicha.',\n",
        "                 labels={'Desviacion': 'Desviación (%)', 'Distancia_prediccion':'Distancia de la predicción (Meses)'},\n",
        "                 color = 'Distancia_prediccion',\n",
        "                 color_discrete_sequence=px.colors.qualitative.Safe)\n",
        "\n",
        "\n",
        "fig.update_layout(showlegend=False,\n",
        "    title_font=dict(size=24, color=\"black\", family=\"Arial\"),\n",
        "    font=dict(size=16, color=\"black\", family=\"Arial\"),\n",
        "    coloraxis_showscale=False\n",
        ")\n",
        "\n",
        "fig.show()"
      ],
      "metadata": {
        "colab": {
          "base_uri": "https://localhost:8080/",
          "height": 542
        },
        "id": "Uq2KSXHz-ldL",
        "outputId": "65d80356-62fb-4f31-b2c2-038f1c465971"
      },
      "execution_count": null,
      "outputs": [
        {
          "output_type": "display_data",
          "data": {
            "text/html": [
              "<html>\n",
              "<head><meta charset=\"utf-8\" /></head>\n",
              "<body>\n",
              "    <div>            <script src=\"https://cdnjs.cloudflare.com/ajax/libs/mathjax/2.7.5/MathJax.js?config=TeX-AMS-MML_SVG\"></script><script type=\"text/javascript\">if (window.MathJax && window.MathJax.Hub && window.MathJax.Hub.Config) {window.MathJax.Hub.Config({SVG: {font: \"STIX-Web\"}});}</script>                <script type=\"text/javascript\">window.PlotlyConfig = {MathJaxConfig: 'local'};</script>\n",
              "        <script charset=\"utf-8\" src=\"https://cdn.plot.ly/plotly-2.35.2.min.js\"></script>                <div id=\"f2bca2ae-aaaa-41a4-8d64-6b59677a8bbc\" class=\"plotly-graph-div\" style=\"height:525px; width:100%;\"></div>            <script type=\"text/javascript\">                                    window.PLOTLYENV=window.PLOTLYENV || {};                                    if (document.getElementById(\"f2bca2ae-aaaa-41a4-8d64-6b59677a8bbc\")) {                    Plotly.newPlot(                        \"f2bca2ae-aaaa-41a4-8d64-6b59677a8bbc\",                        [{\"hovertemplate\":\"Distancia de la predicción (Meses)=%{marker.color}\\u003cbr\\u003eDesviación=%{y}\\u003cbr\\u003ePrecisionMedia=%{marker.size}\\u003cextra\\u003e\\u003c\\u002fextra\\u003e\",\"legendgroup\":\"\",\"marker\":{\"color\":[1,2,3,4,5,6,7,8,9,10,11,12,13,14,15,16,17,18],\"coloraxis\":\"coloraxis\",\"size\":[11.985494419607388,14.091624444914524,14.099087567673111,17.18937657843428,16.85045483850295,18.063155532116877,18.642176318358867,19.254857903395,20.23148485816208,19.673484404196433,20.131957209167755,19.983008889692414,20.37443996553934,20.306285529183956,19.895610856004357,20.909682318597813,18.17289035739673,14.985872830348876],\"sizemode\":\"area\",\"sizeref\":0.052274205796494534,\"symbol\":\"circle\"},\"mode\":\"markers\",\"name\":\"\",\"orientation\":\"v\",\"showlegend\":false,\"x\":[1,2,3,4,5,6,7,8,9,10,11,12,13,14,15,16,17,18],\"xaxis\":\"x\",\"y\":[8.903059881399848,10.339407298432889,11.188891394100594,14.807343814161742,15.301705490811603,15.0979557912711,17.646075329931485,16.636945030246693,18.28605547733095,19.062833020156603,18.604529178131358,18.03545485563011,19.439496790485506,18.43279561646266,18.616831421029552,17.70516818509368,15.462806287378452,9.21715295695777],\"yaxis\":\"y\",\"type\":\"scatter\"}],                        {\"template\":{\"data\":{\"barpolar\":[{\"marker\":{\"line\":{\"color\":\"white\",\"width\":0.5},\"pattern\":{\"fillmode\":\"overlay\",\"size\":10,\"solidity\":0.2}},\"type\":\"barpolar\"}],\"bar\":[{\"error_x\":{\"color\":\"#2a3f5f\"},\"error_y\":{\"color\":\"#2a3f5f\"},\"marker\":{\"line\":{\"color\":\"white\",\"width\":0.5},\"pattern\":{\"fillmode\":\"overlay\",\"size\":10,\"solidity\":0.2}},\"type\":\"bar\"}],\"carpet\":[{\"aaxis\":{\"endlinecolor\":\"#2a3f5f\",\"gridcolor\":\"#C8D4E3\",\"linecolor\":\"#C8D4E3\",\"minorgridcolor\":\"#C8D4E3\",\"startlinecolor\":\"#2a3f5f\"},\"baxis\":{\"endlinecolor\":\"#2a3f5f\",\"gridcolor\":\"#C8D4E3\",\"linecolor\":\"#C8D4E3\",\"minorgridcolor\":\"#C8D4E3\",\"startlinecolor\":\"#2a3f5f\"},\"type\":\"carpet\"}],\"choropleth\":[{\"colorbar\":{\"outlinewidth\":0,\"ticks\":\"\"},\"type\":\"choropleth\"}],\"contourcarpet\":[{\"colorbar\":{\"outlinewidth\":0,\"ticks\":\"\"},\"type\":\"contourcarpet\"}],\"contour\":[{\"colorbar\":{\"outlinewidth\":0,\"ticks\":\"\"},\"colorscale\":[[0.0,\"#0d0887\"],[0.1111111111111111,\"#46039f\"],[0.2222222222222222,\"#7201a8\"],[0.3333333333333333,\"#9c179e\"],[0.4444444444444444,\"#bd3786\"],[0.5555555555555556,\"#d8576b\"],[0.6666666666666666,\"#ed7953\"],[0.7777777777777778,\"#fb9f3a\"],[0.8888888888888888,\"#fdca26\"],[1.0,\"#f0f921\"]],\"type\":\"contour\"}],\"heatmapgl\":[{\"colorbar\":{\"outlinewidth\":0,\"ticks\":\"\"},\"colorscale\":[[0.0,\"#0d0887\"],[0.1111111111111111,\"#46039f\"],[0.2222222222222222,\"#7201a8\"],[0.3333333333333333,\"#9c179e\"],[0.4444444444444444,\"#bd3786\"],[0.5555555555555556,\"#d8576b\"],[0.6666666666666666,\"#ed7953\"],[0.7777777777777778,\"#fb9f3a\"],[0.8888888888888888,\"#fdca26\"],[1.0,\"#f0f921\"]],\"type\":\"heatmapgl\"}],\"heatmap\":[{\"colorbar\":{\"outlinewidth\":0,\"ticks\":\"\"},\"colorscale\":[[0.0,\"#0d0887\"],[0.1111111111111111,\"#46039f\"],[0.2222222222222222,\"#7201a8\"],[0.3333333333333333,\"#9c179e\"],[0.4444444444444444,\"#bd3786\"],[0.5555555555555556,\"#d8576b\"],[0.6666666666666666,\"#ed7953\"],[0.7777777777777778,\"#fb9f3a\"],[0.8888888888888888,\"#fdca26\"],[1.0,\"#f0f921\"]],\"type\":\"heatmap\"}],\"histogram2dcontour\":[{\"colorbar\":{\"outlinewidth\":0,\"ticks\":\"\"},\"colorscale\":[[0.0,\"#0d0887\"],[0.1111111111111111,\"#46039f\"],[0.2222222222222222,\"#7201a8\"],[0.3333333333333333,\"#9c179e\"],[0.4444444444444444,\"#bd3786\"],[0.5555555555555556,\"#d8576b\"],[0.6666666666666666,\"#ed7953\"],[0.7777777777777778,\"#fb9f3a\"],[0.8888888888888888,\"#fdca26\"],[1.0,\"#f0f921\"]],\"type\":\"histogram2dcontour\"}],\"histogram2d\":[{\"colorbar\":{\"outlinewidth\":0,\"ticks\":\"\"},\"colorscale\":[[0.0,\"#0d0887\"],[0.1111111111111111,\"#46039f\"],[0.2222222222222222,\"#7201a8\"],[0.3333333333333333,\"#9c179e\"],[0.4444444444444444,\"#bd3786\"],[0.5555555555555556,\"#d8576b\"],[0.6666666666666666,\"#ed7953\"],[0.7777777777777778,\"#fb9f3a\"],[0.8888888888888888,\"#fdca26\"],[1.0,\"#f0f921\"]],\"type\":\"histogram2d\"}],\"histogram\":[{\"marker\":{\"pattern\":{\"fillmode\":\"overlay\",\"size\":10,\"solidity\":0.2}},\"type\":\"histogram\"}],\"mesh3d\":[{\"colorbar\":{\"outlinewidth\":0,\"ticks\":\"\"},\"type\":\"mesh3d\"}],\"parcoords\":[{\"line\":{\"colorbar\":{\"outlinewidth\":0,\"ticks\":\"\"}},\"type\":\"parcoords\"}],\"pie\":[{\"automargin\":true,\"type\":\"pie\"}],\"scatter3d\":[{\"line\":{\"colorbar\":{\"outlinewidth\":0,\"ticks\":\"\"}},\"marker\":{\"colorbar\":{\"outlinewidth\":0,\"ticks\":\"\"}},\"type\":\"scatter3d\"}],\"scattercarpet\":[{\"marker\":{\"colorbar\":{\"outlinewidth\":0,\"ticks\":\"\"}},\"type\":\"scattercarpet\"}],\"scattergeo\":[{\"marker\":{\"colorbar\":{\"outlinewidth\":0,\"ticks\":\"\"}},\"type\":\"scattergeo\"}],\"scattergl\":[{\"marker\":{\"colorbar\":{\"outlinewidth\":0,\"ticks\":\"\"}},\"type\":\"scattergl\"}],\"scattermapbox\":[{\"marker\":{\"colorbar\":{\"outlinewidth\":0,\"ticks\":\"\"}},\"type\":\"scattermapbox\"}],\"scatterpolargl\":[{\"marker\":{\"colorbar\":{\"outlinewidth\":0,\"ticks\":\"\"}},\"type\":\"scatterpolargl\"}],\"scatterpolar\":[{\"marker\":{\"colorbar\":{\"outlinewidth\":0,\"ticks\":\"\"}},\"type\":\"scatterpolar\"}],\"scatter\":[{\"fillpattern\":{\"fillmode\":\"overlay\",\"size\":10,\"solidity\":0.2},\"type\":\"scatter\"}],\"scatterternary\":[{\"marker\":{\"colorbar\":{\"outlinewidth\":0,\"ticks\":\"\"}},\"type\":\"scatterternary\"}],\"surface\":[{\"colorbar\":{\"outlinewidth\":0,\"ticks\":\"\"},\"colorscale\":[[0.0,\"#0d0887\"],[0.1111111111111111,\"#46039f\"],[0.2222222222222222,\"#7201a8\"],[0.3333333333333333,\"#9c179e\"],[0.4444444444444444,\"#bd3786\"],[0.5555555555555556,\"#d8576b\"],[0.6666666666666666,\"#ed7953\"],[0.7777777777777778,\"#fb9f3a\"],[0.8888888888888888,\"#fdca26\"],[1.0,\"#f0f921\"]],\"type\":\"surface\"}],\"table\":[{\"cells\":{\"fill\":{\"color\":\"#EBF0F8\"},\"line\":{\"color\":\"white\"}},\"header\":{\"fill\":{\"color\":\"#C8D4E3\"},\"line\":{\"color\":\"white\"}},\"type\":\"table\"}]},\"layout\":{\"annotationdefaults\":{\"arrowcolor\":\"#2a3f5f\",\"arrowhead\":0,\"arrowwidth\":1},\"autotypenumbers\":\"strict\",\"coloraxis\":{\"colorbar\":{\"outlinewidth\":0,\"ticks\":\"\"}},\"colorscale\":{\"diverging\":[[0,\"#8e0152\"],[0.1,\"#c51b7d\"],[0.2,\"#de77ae\"],[0.3,\"#f1b6da\"],[0.4,\"#fde0ef\"],[0.5,\"#f7f7f7\"],[0.6,\"#e6f5d0\"],[0.7,\"#b8e186\"],[0.8,\"#7fbc41\"],[0.9,\"#4d9221\"],[1,\"#276419\"]],\"sequential\":[[0.0,\"#0d0887\"],[0.1111111111111111,\"#46039f\"],[0.2222222222222222,\"#7201a8\"],[0.3333333333333333,\"#9c179e\"],[0.4444444444444444,\"#bd3786\"],[0.5555555555555556,\"#d8576b\"],[0.6666666666666666,\"#ed7953\"],[0.7777777777777778,\"#fb9f3a\"],[0.8888888888888888,\"#fdca26\"],[1.0,\"#f0f921\"]],\"sequentialminus\":[[0.0,\"#0d0887\"],[0.1111111111111111,\"#46039f\"],[0.2222222222222222,\"#7201a8\"],[0.3333333333333333,\"#9c179e\"],[0.4444444444444444,\"#bd3786\"],[0.5555555555555556,\"#d8576b\"],[0.6666666666666666,\"#ed7953\"],[0.7777777777777778,\"#fb9f3a\"],[0.8888888888888888,\"#fdca26\"],[1.0,\"#f0f921\"]]},\"colorway\":[\"#636efa\",\"#EF553B\",\"#00cc96\",\"#ab63fa\",\"#FFA15A\",\"#19d3f3\",\"#FF6692\",\"#B6E880\",\"#FF97FF\",\"#FECB52\"],\"font\":{\"color\":\"#2a3f5f\"},\"geo\":{\"bgcolor\":\"white\",\"lakecolor\":\"white\",\"landcolor\":\"white\",\"showlakes\":true,\"showland\":true,\"subunitcolor\":\"#C8D4E3\"},\"hoverlabel\":{\"align\":\"left\"},\"hovermode\":\"closest\",\"mapbox\":{\"style\":\"light\"},\"paper_bgcolor\":\"white\",\"plot_bgcolor\":\"white\",\"polar\":{\"angularaxis\":{\"gridcolor\":\"#EBF0F8\",\"linecolor\":\"#EBF0F8\",\"ticks\":\"\"},\"bgcolor\":\"white\",\"radialaxis\":{\"gridcolor\":\"#EBF0F8\",\"linecolor\":\"#EBF0F8\",\"ticks\":\"\"}},\"scene\":{\"xaxis\":{\"backgroundcolor\":\"white\",\"gridcolor\":\"#DFE8F3\",\"gridwidth\":2,\"linecolor\":\"#EBF0F8\",\"showbackground\":true,\"ticks\":\"\",\"zerolinecolor\":\"#EBF0F8\"},\"yaxis\":{\"backgroundcolor\":\"white\",\"gridcolor\":\"#DFE8F3\",\"gridwidth\":2,\"linecolor\":\"#EBF0F8\",\"showbackground\":true,\"ticks\":\"\",\"zerolinecolor\":\"#EBF0F8\"},\"zaxis\":{\"backgroundcolor\":\"white\",\"gridcolor\":\"#DFE8F3\",\"gridwidth\":2,\"linecolor\":\"#EBF0F8\",\"showbackground\":true,\"ticks\":\"\",\"zerolinecolor\":\"#EBF0F8\"}},\"shapedefaults\":{\"line\":{\"color\":\"#2a3f5f\"}},\"ternary\":{\"aaxis\":{\"gridcolor\":\"#DFE8F3\",\"linecolor\":\"#A2B1C6\",\"ticks\":\"\"},\"baxis\":{\"gridcolor\":\"#DFE8F3\",\"linecolor\":\"#A2B1C6\",\"ticks\":\"\"},\"bgcolor\":\"white\",\"caxis\":{\"gridcolor\":\"#DFE8F3\",\"linecolor\":\"#A2B1C6\",\"ticks\":\"\"}},\"title\":{\"x\":0.05},\"xaxis\":{\"automargin\":true,\"gridcolor\":\"#EBF0F8\",\"linecolor\":\"#EBF0F8\",\"ticks\":\"\",\"title\":{\"standoff\":15},\"zerolinecolor\":\"#EBF0F8\",\"zerolinewidth\":2},\"yaxis\":{\"automargin\":true,\"gridcolor\":\"#EBF0F8\",\"linecolor\":\"#EBF0F8\",\"ticks\":\"\",\"title\":{\"standoff\":15},\"zerolinecolor\":\"#EBF0F8\",\"zerolinewidth\":2}}},\"xaxis\":{\"anchor\":\"y\",\"domain\":[0.0,1.0],\"title\":{\"text\":\"Distancia de la predicción (Meses)\"}},\"yaxis\":{\"anchor\":\"x\",\"domain\":[0.0,1.0],\"title\":{\"text\":\"Desviación\"}},\"coloraxis\":{\"colorbar\":{\"title\":{\"text\":\"Distancia de la predicción (Meses)\"}},\"colorscale\":[[0.0,\"#0d0887\"],[0.1111111111111111,\"#46039f\"],[0.2222222222222222,\"#7201a8\"],[0.3333333333333333,\"#9c179e\"],[0.4444444444444444,\"#bd3786\"],[0.5555555555555556,\"#d8576b\"],[0.6666666666666666,\"#ed7953\"],[0.7777777777777778,\"#fb9f3a\"],[0.8888888888888888,\"#fdca26\"],[1.0,\"#f0f921\"]],\"showscale\":false},\"legend\":{\"tracegroupgap\":0,\"itemsizing\":\"constant\"},\"title\":{\"text\":\"Desviación estándar de la precisión de la predicción según su distancia con la fecha predicha.\",\"font\":{\"size\":24,\"color\":\"black\",\"family\":\"Arial\"}},\"font\":{\"size\":16,\"color\":\"black\",\"family\":\"Arial\"},\"showlegend\":false},                        {\"responsive\": true}                    ).then(function(){\n",
              "                            \n",
              "var gd = document.getElementById('f2bca2ae-aaaa-41a4-8d64-6b59677a8bbc');\n",
              "var x = new MutationObserver(function (mutations, observer) {{\n",
              "        var display = window.getComputedStyle(gd).display;\n",
              "        if (!display || display === 'none') {{\n",
              "            console.log([gd, 'removed!']);\n",
              "            Plotly.purge(gd);\n",
              "            observer.disconnect();\n",
              "        }}\n",
              "}});\n",
              "\n",
              "// Listen for the removal of the full notebook cells\n",
              "var notebookContainer = gd.closest('#notebook-container');\n",
              "if (notebookContainer) {{\n",
              "    x.observe(notebookContainer, {childList: true});\n",
              "}}\n",
              "\n",
              "// Listen for the clearing of the current output cell\n",
              "var outputEl = gd.closest('.output');\n",
              "if (outputEl) {{\n",
              "    x.observe(outputEl, {childList: true});\n",
              "}}\n",
              "\n",
              "                        })                };                            </script>        </div>\n",
              "</body>\n",
              "</html>"
            ]
          },
          "metadata": {}
        }
      ]
    }
  ]
}