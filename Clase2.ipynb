{
  "nbformat": 4,
  "nbformat_minor": 0,
  "metadata": {
    "colab": {
      "provenance": [],
      "mount_file_id": "1VwLKSkvRTceijPBxYHaYLqGTmsrYnkyD",
      "authorship_tag": "ABX9TyOTbIVJibmU4DG2mAl+2Awm",
      "include_colab_link": true
    },
    "kernelspec": {
      "name": "python3",
      "display_name": "Python 3"
    },
    "language_info": {
      "name": "python"
    }
  },
  "cells": [
    {
      "cell_type": "markdown",
      "metadata": {
        "id": "view-in-github",
        "colab_type": "text"
      },
      "source": [
        "<a href=\"https://colab.research.google.com/github/JoaquinV13/UFV-Visualizacion/blob/main/Clase2.ipynb\" target=\"_parent\"><img src=\"https://colab.research.google.com/assets/colab-badge.svg\" alt=\"Open In Colab\"/></a>"
      ]
    },
    {
      "cell_type": "code",
      "source": [
        "pip install plotly_express"
      ],
      "metadata": {
        "colab": {
          "base_uri": "https://localhost:8080/"
        },
        "id": "N-Qne7aZCjPQ",
        "outputId": "3bbf5eb9-9113-4380-fbb4-c40f5a3be1a1",
        "collapsed": true
      },
      "execution_count": 2,
      "outputs": [
        {
          "output_type": "stream",
          "name": "stdout",
          "text": [
            "Collecting plotly_express\n",
            "  Downloading plotly_express-0.4.1-py2.py3-none-any.whl.metadata (1.7 kB)\n",
            "Requirement already satisfied: pandas>=0.20.0 in /usr/local/lib/python3.10/dist-packages (from plotly_express) (2.2.2)\n",
            "Requirement already satisfied: plotly>=4.1.0 in /usr/local/lib/python3.10/dist-packages (from plotly_express) (5.24.1)\n",
            "Requirement already satisfied: statsmodels>=0.9.0 in /usr/local/lib/python3.10/dist-packages (from plotly_express) (0.14.4)\n",
            "Requirement already satisfied: scipy>=0.18 in /usr/local/lib/python3.10/dist-packages (from plotly_express) (1.13.1)\n",
            "Requirement already satisfied: patsy>=0.5 in /usr/local/lib/python3.10/dist-packages (from plotly_express) (0.5.6)\n",
            "Requirement already satisfied: numpy>=1.11 in /usr/local/lib/python3.10/dist-packages (from plotly_express) (1.26.4)\n",
            "Requirement already satisfied: python-dateutil>=2.8.2 in /usr/local/lib/python3.10/dist-packages (from pandas>=0.20.0->plotly_express) (2.8.2)\n",
            "Requirement already satisfied: pytz>=2020.1 in /usr/local/lib/python3.10/dist-packages (from pandas>=0.20.0->plotly_express) (2024.2)\n",
            "Requirement already satisfied: tzdata>=2022.7 in /usr/local/lib/python3.10/dist-packages (from pandas>=0.20.0->plotly_express) (2024.2)\n",
            "Requirement already satisfied: six in /usr/local/lib/python3.10/dist-packages (from patsy>=0.5->plotly_express) (1.16.0)\n",
            "Requirement already satisfied: tenacity>=6.2.0 in /usr/local/lib/python3.10/dist-packages (from plotly>=4.1.0->plotly_express) (9.0.0)\n",
            "Requirement already satisfied: packaging in /usr/local/lib/python3.10/dist-packages (from plotly>=4.1.0->plotly_express) (24.1)\n",
            "Downloading plotly_express-0.4.1-py2.py3-none-any.whl (2.9 kB)\n",
            "Installing collected packages: plotly_express\n",
            "Successfully installed plotly_express-0.4.1\n"
          ]
        }
      ]
    },
    {
      "cell_type": "code",
      "execution_count": 107,
      "metadata": {
        "id": "nEo8qHW06ram"
      },
      "outputs": [],
      "source": [
        "import plotly_express as px\n",
        "import pandas as pd\n",
        "import numpy as np\n",
        "import plotly.graph_objects as go\n",
        "from google.colab import drive\n",
        "from statsmodels.tsa.seasonal import seasonal_decompose"
      ]
    },
    {
      "cell_type": "code",
      "source": [
        "drive.mount('/content/drive/')\n",
        "data = pd.read_csv('/content/drive/MyDrive/Colab/datos_ejercicio_ventas.csv',sep=',')"
      ],
      "metadata": {
        "colab": {
          "base_uri": "https://localhost:8080/"
        },
        "id": "YKirc1KWELxX",
        "outputId": "1a51f4ec-ab22-4e26-baa2-1c4f8d8bd617",
        "collapsed": true
      },
      "execution_count": 4,
      "outputs": [
        {
          "output_type": "stream",
          "name": "stdout",
          "text": [
            "Drive already mounted at /content/drive/; to attempt to forcibly remount, call drive.mount(\"/content/drive/\", force_remount=True).\n"
          ]
        }
      ]
    },
    {
      "cell_type": "code",
      "source": [
        "# Visualizamos los datos.\n",
        "data.head()"
      ],
      "metadata": {
        "colab": {
          "base_uri": "https://localhost:8080/",
          "height": 204
        },
        "id": "zL8J3lpGFmJc",
        "outputId": "b17c119e-cdbb-4b7e-ac59-a0ba0373f7ce"
      },
      "execution_count": 5,
      "outputs": [
        {
          "output_type": "execute_result",
          "data": {
            "text/plain": [
              "         COUNTRY        SUBBRAND  YEAR  MONTH     SCENARIO FORECAST  \\\n",
              "0       Portugal     Lipton (L3)  2023     12  AI_forecast  AI_P02F   \n",
              "1  Great Britain     Lipton (L3)  2023     12  AI_forecast  AI_P10F   \n",
              "2          Spain  Pepsi Max (L3)  2023     12  AI_forecast  AI_P09F   \n",
              "3  Great Britain        7up (L3)  2024     12  AI_forecast  AI_P10F   \n",
              "4        Hungary     Lipton (L3)  2023      9  AI_forecast  AI_P03F   \n",
              "\n",
              "   FORECAST_YEAR         AMOUNT  \n",
              "0         2023.0  754356.237194  \n",
              "1         2023.0  560030.558029  \n",
              "2         2023.0   88501.980847  \n",
              "3         2023.0  363224.511516  \n",
              "4         2023.0  396176.120491  "
            ],
            "text/html": [
              "\n",
              "  <div id=\"df-4fc5343e-c08e-4daf-b3ba-006e0432044f\" class=\"colab-df-container\">\n",
              "    <div>\n",
              "<style scoped>\n",
              "    .dataframe tbody tr th:only-of-type {\n",
              "        vertical-align: middle;\n",
              "    }\n",
              "\n",
              "    .dataframe tbody tr th {\n",
              "        vertical-align: top;\n",
              "    }\n",
              "\n",
              "    .dataframe thead th {\n",
              "        text-align: right;\n",
              "    }\n",
              "</style>\n",
              "<table border=\"1\" class=\"dataframe\">\n",
              "  <thead>\n",
              "    <tr style=\"text-align: right;\">\n",
              "      <th></th>\n",
              "      <th>COUNTRY</th>\n",
              "      <th>SUBBRAND</th>\n",
              "      <th>YEAR</th>\n",
              "      <th>MONTH</th>\n",
              "      <th>SCENARIO</th>\n",
              "      <th>FORECAST</th>\n",
              "      <th>FORECAST_YEAR</th>\n",
              "      <th>AMOUNT</th>\n",
              "    </tr>\n",
              "  </thead>\n",
              "  <tbody>\n",
              "    <tr>\n",
              "      <th>0</th>\n",
              "      <td>Portugal</td>\n",
              "      <td>Lipton (L3)</td>\n",
              "      <td>2023</td>\n",
              "      <td>12</td>\n",
              "      <td>AI_forecast</td>\n",
              "      <td>AI_P02F</td>\n",
              "      <td>2023.0</td>\n",
              "      <td>754356.237194</td>\n",
              "    </tr>\n",
              "    <tr>\n",
              "      <th>1</th>\n",
              "      <td>Great Britain</td>\n",
              "      <td>Lipton (L3)</td>\n",
              "      <td>2023</td>\n",
              "      <td>12</td>\n",
              "      <td>AI_forecast</td>\n",
              "      <td>AI_P10F</td>\n",
              "      <td>2023.0</td>\n",
              "      <td>560030.558029</td>\n",
              "    </tr>\n",
              "    <tr>\n",
              "      <th>2</th>\n",
              "      <td>Spain</td>\n",
              "      <td>Pepsi Max (L3)</td>\n",
              "      <td>2023</td>\n",
              "      <td>12</td>\n",
              "      <td>AI_forecast</td>\n",
              "      <td>AI_P09F</td>\n",
              "      <td>2023.0</td>\n",
              "      <td>88501.980847</td>\n",
              "    </tr>\n",
              "    <tr>\n",
              "      <th>3</th>\n",
              "      <td>Great Britain</td>\n",
              "      <td>7up (L3)</td>\n",
              "      <td>2024</td>\n",
              "      <td>12</td>\n",
              "      <td>AI_forecast</td>\n",
              "      <td>AI_P10F</td>\n",
              "      <td>2023.0</td>\n",
              "      <td>363224.511516</td>\n",
              "    </tr>\n",
              "    <tr>\n",
              "      <th>4</th>\n",
              "      <td>Hungary</td>\n",
              "      <td>Lipton (L3)</td>\n",
              "      <td>2023</td>\n",
              "      <td>9</td>\n",
              "      <td>AI_forecast</td>\n",
              "      <td>AI_P03F</td>\n",
              "      <td>2023.0</td>\n",
              "      <td>396176.120491</td>\n",
              "    </tr>\n",
              "  </tbody>\n",
              "</table>\n",
              "</div>\n",
              "    <div class=\"colab-df-buttons\">\n",
              "\n",
              "  <div class=\"colab-df-container\">\n",
              "    <button class=\"colab-df-convert\" onclick=\"convertToInteractive('df-4fc5343e-c08e-4daf-b3ba-006e0432044f')\"\n",
              "            title=\"Convert this dataframe to an interactive table.\"\n",
              "            style=\"display:none;\">\n",
              "\n",
              "  <svg xmlns=\"http://www.w3.org/2000/svg\" height=\"24px\" viewBox=\"0 -960 960 960\">\n",
              "    <path d=\"M120-120v-720h720v720H120Zm60-500h600v-160H180v160Zm220 220h160v-160H400v160Zm0 220h160v-160H400v160ZM180-400h160v-160H180v160Zm440 0h160v-160H620v160ZM180-180h160v-160H180v160Zm440 0h160v-160H620v160Z\"/>\n",
              "  </svg>\n",
              "    </button>\n",
              "\n",
              "  <style>\n",
              "    .colab-df-container {\n",
              "      display:flex;\n",
              "      gap: 12px;\n",
              "    }\n",
              "\n",
              "    .colab-df-convert {\n",
              "      background-color: #E8F0FE;\n",
              "      border: none;\n",
              "      border-radius: 50%;\n",
              "      cursor: pointer;\n",
              "      display: none;\n",
              "      fill: #1967D2;\n",
              "      height: 32px;\n",
              "      padding: 0 0 0 0;\n",
              "      width: 32px;\n",
              "    }\n",
              "\n",
              "    .colab-df-convert:hover {\n",
              "      background-color: #E2EBFA;\n",
              "      box-shadow: 0px 1px 2px rgba(60, 64, 67, 0.3), 0px 1px 3px 1px rgba(60, 64, 67, 0.15);\n",
              "      fill: #174EA6;\n",
              "    }\n",
              "\n",
              "    .colab-df-buttons div {\n",
              "      margin-bottom: 4px;\n",
              "    }\n",
              "\n",
              "    [theme=dark] .colab-df-convert {\n",
              "      background-color: #3B4455;\n",
              "      fill: #D2E3FC;\n",
              "    }\n",
              "\n",
              "    [theme=dark] .colab-df-convert:hover {\n",
              "      background-color: #434B5C;\n",
              "      box-shadow: 0px 1px 3px 1px rgba(0, 0, 0, 0.15);\n",
              "      filter: drop-shadow(0px 1px 2px rgba(0, 0, 0, 0.3));\n",
              "      fill: #FFFFFF;\n",
              "    }\n",
              "  </style>\n",
              "\n",
              "    <script>\n",
              "      const buttonEl =\n",
              "        document.querySelector('#df-4fc5343e-c08e-4daf-b3ba-006e0432044f button.colab-df-convert');\n",
              "      buttonEl.style.display =\n",
              "        google.colab.kernel.accessAllowed ? 'block' : 'none';\n",
              "\n",
              "      async function convertToInteractive(key) {\n",
              "        const element = document.querySelector('#df-4fc5343e-c08e-4daf-b3ba-006e0432044f');\n",
              "        const dataTable =\n",
              "          await google.colab.kernel.invokeFunction('convertToInteractive',\n",
              "                                                    [key], {});\n",
              "        if (!dataTable) return;\n",
              "\n",
              "        const docLinkHtml = 'Like what you see? Visit the ' +\n",
              "          '<a target=\"_blank\" href=https://colab.research.google.com/notebooks/data_table.ipynb>data table notebook</a>'\n",
              "          + ' to learn more about interactive tables.';\n",
              "        element.innerHTML = '';\n",
              "        dataTable['output_type'] = 'display_data';\n",
              "        await google.colab.output.renderOutput(dataTable, element);\n",
              "        const docLink = document.createElement('div');\n",
              "        docLink.innerHTML = docLinkHtml;\n",
              "        element.appendChild(docLink);\n",
              "      }\n",
              "    </script>\n",
              "  </div>\n",
              "\n",
              "\n",
              "<div id=\"df-c0736ec2-0054-4498-9d4f-05cfa42565e0\">\n",
              "  <button class=\"colab-df-quickchart\" onclick=\"quickchart('df-c0736ec2-0054-4498-9d4f-05cfa42565e0')\"\n",
              "            title=\"Suggest charts\"\n",
              "            style=\"display:none;\">\n",
              "\n",
              "<svg xmlns=\"http://www.w3.org/2000/svg\" height=\"24px\"viewBox=\"0 0 24 24\"\n",
              "     width=\"24px\">\n",
              "    <g>\n",
              "        <path d=\"M19 3H5c-1.1 0-2 .9-2 2v14c0 1.1.9 2 2 2h14c1.1 0 2-.9 2-2V5c0-1.1-.9-2-2-2zM9 17H7v-7h2v7zm4 0h-2V7h2v10zm4 0h-2v-4h2v4z\"/>\n",
              "    </g>\n",
              "</svg>\n",
              "  </button>\n",
              "\n",
              "<style>\n",
              "  .colab-df-quickchart {\n",
              "      --bg-color: #E8F0FE;\n",
              "      --fill-color: #1967D2;\n",
              "      --hover-bg-color: #E2EBFA;\n",
              "      --hover-fill-color: #174EA6;\n",
              "      --disabled-fill-color: #AAA;\n",
              "      --disabled-bg-color: #DDD;\n",
              "  }\n",
              "\n",
              "  [theme=dark] .colab-df-quickchart {\n",
              "      --bg-color: #3B4455;\n",
              "      --fill-color: #D2E3FC;\n",
              "      --hover-bg-color: #434B5C;\n",
              "      --hover-fill-color: #FFFFFF;\n",
              "      --disabled-bg-color: #3B4455;\n",
              "      --disabled-fill-color: #666;\n",
              "  }\n",
              "\n",
              "  .colab-df-quickchart {\n",
              "    background-color: var(--bg-color);\n",
              "    border: none;\n",
              "    border-radius: 50%;\n",
              "    cursor: pointer;\n",
              "    display: none;\n",
              "    fill: var(--fill-color);\n",
              "    height: 32px;\n",
              "    padding: 0;\n",
              "    width: 32px;\n",
              "  }\n",
              "\n",
              "  .colab-df-quickchart:hover {\n",
              "    background-color: var(--hover-bg-color);\n",
              "    box-shadow: 0 1px 2px rgba(60, 64, 67, 0.3), 0 1px 3px 1px rgba(60, 64, 67, 0.15);\n",
              "    fill: var(--button-hover-fill-color);\n",
              "  }\n",
              "\n",
              "  .colab-df-quickchart-complete:disabled,\n",
              "  .colab-df-quickchart-complete:disabled:hover {\n",
              "    background-color: var(--disabled-bg-color);\n",
              "    fill: var(--disabled-fill-color);\n",
              "    box-shadow: none;\n",
              "  }\n",
              "\n",
              "  .colab-df-spinner {\n",
              "    border: 2px solid var(--fill-color);\n",
              "    border-color: transparent;\n",
              "    border-bottom-color: var(--fill-color);\n",
              "    animation:\n",
              "      spin 1s steps(1) infinite;\n",
              "  }\n",
              "\n",
              "  @keyframes spin {\n",
              "    0% {\n",
              "      border-color: transparent;\n",
              "      border-bottom-color: var(--fill-color);\n",
              "      border-left-color: var(--fill-color);\n",
              "    }\n",
              "    20% {\n",
              "      border-color: transparent;\n",
              "      border-left-color: var(--fill-color);\n",
              "      border-top-color: var(--fill-color);\n",
              "    }\n",
              "    30% {\n",
              "      border-color: transparent;\n",
              "      border-left-color: var(--fill-color);\n",
              "      border-top-color: var(--fill-color);\n",
              "      border-right-color: var(--fill-color);\n",
              "    }\n",
              "    40% {\n",
              "      border-color: transparent;\n",
              "      border-right-color: var(--fill-color);\n",
              "      border-top-color: var(--fill-color);\n",
              "    }\n",
              "    60% {\n",
              "      border-color: transparent;\n",
              "      border-right-color: var(--fill-color);\n",
              "    }\n",
              "    80% {\n",
              "      border-color: transparent;\n",
              "      border-right-color: var(--fill-color);\n",
              "      border-bottom-color: var(--fill-color);\n",
              "    }\n",
              "    90% {\n",
              "      border-color: transparent;\n",
              "      border-bottom-color: var(--fill-color);\n",
              "    }\n",
              "  }\n",
              "</style>\n",
              "\n",
              "  <script>\n",
              "    async function quickchart(key) {\n",
              "      const quickchartButtonEl =\n",
              "        document.querySelector('#' + key + ' button');\n",
              "      quickchartButtonEl.disabled = true;  // To prevent multiple clicks.\n",
              "      quickchartButtonEl.classList.add('colab-df-spinner');\n",
              "      try {\n",
              "        const charts = await google.colab.kernel.invokeFunction(\n",
              "            'suggestCharts', [key], {});\n",
              "      } catch (error) {\n",
              "        console.error('Error during call to suggestCharts:', error);\n",
              "      }\n",
              "      quickchartButtonEl.classList.remove('colab-df-spinner');\n",
              "      quickchartButtonEl.classList.add('colab-df-quickchart-complete');\n",
              "    }\n",
              "    (() => {\n",
              "      let quickchartButtonEl =\n",
              "        document.querySelector('#df-c0736ec2-0054-4498-9d4f-05cfa42565e0 button');\n",
              "      quickchartButtonEl.style.display =\n",
              "        google.colab.kernel.accessAllowed ? 'block' : 'none';\n",
              "    })();\n",
              "  </script>\n",
              "</div>\n",
              "\n",
              "    </div>\n",
              "  </div>\n"
            ],
            "application/vnd.google.colaboratory.intrinsic+json": {
              "type": "dataframe",
              "variable_name": "data",
              "summary": "{\n  \"name\": \"data\",\n  \"rows\": 18666,\n  \"fields\": [\n    {\n      \"column\": \"COUNTRY\",\n      \"properties\": {\n        \"dtype\": \"category\",\n        \"num_unique_values\": 9,\n        \"samples\": [\n          \"Italy\",\n          \"Great Britain\",\n          \"Denmark\"\n        ],\n        \"semantic_type\": \"\",\n        \"description\": \"\"\n      }\n    },\n    {\n      \"column\": \"SUBBRAND\",\n      \"properties\": {\n        \"dtype\": \"category\",\n        \"num_unique_values\": 6,\n        \"samples\": [\n          \"Lipton (L3)\",\n          \"Pepsi Max (L3)\",\n          \"7up Free (L3)\"\n        ],\n        \"semantic_type\": \"\",\n        \"description\": \"\"\n      }\n    },\n    {\n      \"column\": \"YEAR\",\n      \"properties\": {\n        \"dtype\": \"number\",\n        \"std\": 0,\n        \"min\": 2023,\n        \"max\": 2025,\n        \"num_unique_values\": 3,\n        \"samples\": [\n          2023,\n          2024,\n          2025\n        ],\n        \"semantic_type\": \"\",\n        \"description\": \"\"\n      }\n    },\n    {\n      \"column\": \"MONTH\",\n      \"properties\": {\n        \"dtype\": \"number\",\n        \"std\": 3,\n        \"min\": 1,\n        \"max\": 12,\n        \"num_unique_values\": 12,\n        \"samples\": [\n          5,\n          3,\n          12\n        ],\n        \"semantic_type\": \"\",\n        \"description\": \"\"\n      }\n    },\n    {\n      \"column\": \"SCENARIO\",\n      \"properties\": {\n        \"dtype\": \"category\",\n        \"num_unique_values\": 2,\n        \"samples\": [\n          \"actual\",\n          \"AI_forecast\"\n        ],\n        \"semantic_type\": \"\",\n        \"description\": \"\"\n      }\n    },\n    {\n      \"column\": \"FORECAST\",\n      \"properties\": {\n        \"dtype\": \"category\",\n        \"num_unique_values\": 12,\n        \"samples\": [\n          \"AI_P08F\",\n          \"AI_P12F\"\n        ],\n        \"semantic_type\": \"\",\n        \"description\": \"\"\n      }\n    },\n    {\n      \"column\": \"FORECAST_YEAR\",\n      \"properties\": {\n        \"dtype\": \"number\",\n        \"std\": 0.0,\n        \"min\": 2023.0,\n        \"max\": 2023.0,\n        \"num_unique_values\": 1,\n        \"samples\": [\n          2023.0\n        ],\n        \"semantic_type\": \"\",\n        \"description\": \"\"\n      }\n    },\n    {\n      \"column\": \"AMOUNT\",\n      \"properties\": {\n        \"dtype\": \"number\",\n        \"std\": 1915283.448382496,\n        \"min\": -217120.10313272703,\n        \"max\": 14815628.237867463,\n        \"num_unique_values\": 17121,\n        \"samples\": [\n          2568883.4881238216\n        ],\n        \"semantic_type\": \"\",\n        \"description\": \"\"\n      }\n    }\n  ]\n}"
            }
          },
          "metadata": {},
          "execution_count": 5
        }
      ]
    },
    {
      "cell_type": "code",
      "source": [
        "# Tipos de datos.\n",
        "data.info()"
      ],
      "metadata": {
        "colab": {
          "base_uri": "https://localhost:8080/"
        },
        "id": "5FvKMTwaGYKc",
        "outputId": "bd5ee50f-8667-488b-8819-a7423680a90f"
      },
      "execution_count": 6,
      "outputs": [
        {
          "output_type": "stream",
          "name": "stdout",
          "text": [
            "<class 'pandas.core.frame.DataFrame'>\n",
            "RangeIndex: 18666 entries, 0 to 18665\n",
            "Data columns (total 8 columns):\n",
            " #   Column         Non-Null Count  Dtype  \n",
            "---  ------         --------------  -----  \n",
            " 0   COUNTRY        18666 non-null  object \n",
            " 1   SUBBRAND       18666 non-null  object \n",
            " 2   YEAR           18666 non-null  int64  \n",
            " 3   MONTH          18666 non-null  int64  \n",
            " 4   SCENARIO       18666 non-null  object \n",
            " 5   FORECAST       17766 non-null  object \n",
            " 6   FORECAST_YEAR  17766 non-null  float64\n",
            " 7   AMOUNT         18666 non-null  float64\n",
            "dtypes: float64(2), int64(2), object(4)\n",
            "memory usage: 1.1+ MB\n"
          ]
        }
      ]
    },
    {
      "cell_type": "code",
      "source": [
        "# Número de 'Actuals' y 'AI_forecast'.\n",
        "actuals = (sum(data['SCENARIO']=='actual'))\n",
        "forecast = (sum(data['SCENARIO']=='AI_forecast'))\n",
        "print('Número de Actuals:',actuals)\n",
        "print('Número de Forecasts:',forecast)"
      ],
      "metadata": {
        "colab": {
          "base_uri": "https://localhost:8080/"
        },
        "id": "9iBaa1nYGyAB",
        "outputId": "bc10ecfa-1ba2-495d-c7ef-a8da31236fd4",
        "collapsed": true
      },
      "execution_count": 7,
      "outputs": [
        {
          "output_type": "stream",
          "name": "stdout",
          "text": [
            "Número de Actuals: 900\n",
            "Número de Forecasts: 17766\n"
          ]
        }
      ]
    },
    {
      "cell_type": "code",
      "source": [
        "# Número de regustros de cada marca por país.\n",
        "tabla_pivot = data.pivot_table(index='COUNTRY', columns='SUBBRAND', aggfunc='size', fill_value=0)\n",
        "\n",
        "# Agregar una columna con el total de registros por país.\n",
        "tabla_pivot['Total'] = tabla_pivot.sum(axis=1)\n",
        "print(tabla_pivot)"
      ],
      "metadata": {
        "colab": {
          "base_uri": "https://localhost:8080/"
        },
        "id": "0YEGltkZeFe-",
        "outputId": "9b73a6ee-5c5d-45c2-91d1-f3168e0c393d"
      },
      "execution_count": 8,
      "outputs": [
        {
          "output_type": "stream",
          "name": "stdout",
          "text": [
            "SUBBRAND       7up (L3)  7up Free (L3)  Lipton (L3)  Mountain Dew (L3)  \\\n",
            "COUNTRY                                                                  \n",
            "Czech               236              7          236                236   \n",
            "Denmark             216            236            0                236   \n",
            "Great Britain       794            758          830                542   \n",
            "Hungary             268            236          452                236   \n",
            "Italy               236              0            0                  0   \n",
            "Netherlands         236            236          452                216   \n",
            "Norway              236            236          252                236   \n",
            "Portugal            236            236          235                  0   \n",
            "Spain               236            398          236                  0   \n",
            "\n",
            "SUBBRAND       Pepsi Max (L3)  Pepsi Regular (L3)  Total  \n",
            "COUNTRY                                                   \n",
            "Czech                     236                 452   1403  \n",
            "Denmark                  1280                 326   2294  \n",
            "Great Britain             542                 542   4008  \n",
            "Hungary                   740                 452   2384  \n",
            "Italy                     236                 236    708  \n",
            "Netherlands               884                 452   2476  \n",
            "Norway                    722                 380   2062  \n",
            "Portugal                  236                 236   1179  \n",
            "Spain                     722                 560   2152  \n"
          ]
        }
      ]
    },
    {
      "cell_type": "code",
      "source": [
        "# Todos los datos del dataset tiene el mismo horizonte de previsión. Calculamos\n",
        "# el de uno, sabemos el de todos.\n",
        "data_1 = data[(data['FORECAST_YEAR']==2023) & (data['FORECAST']=='AI_P02F') & (data['COUNTRY']=='Portugal') & (data['SCENARIO']=='AI_forecast') & (data['SUBBRAND']=='Lipton (L3)')]\n",
        "print(len(data_1))"
      ],
      "metadata": {
        "colab": {
          "base_uri": "https://localhost:8080/"
        },
        "id": "rq9abfWtJKWj",
        "outputId": "84973435-1bb5-45e8-ba4f-73f4b4f9485e",
        "collapsed": true
      },
      "execution_count": 9,
      "outputs": [
        {
          "output_type": "stream",
          "name": "stdout",
          "text": [
            "18\n"
          ]
        }
      ]
    },
    {
      "cell_type": "code",
      "source": [
        "# Comprobamos la cantidad de forecasts distintos que hay. Contando las diferentes\n",
        "# fechas de inicio de un forecast.\n",
        "\n",
        "data[(data['SCENARIO']=='AI_forecast')].loc[:, ['FORECAST_YEAR', 'FORECAST']].drop_duplicates().shape[0]"
      ],
      "metadata": {
        "colab": {
          "base_uri": "https://localhost:8080/"
        },
        "collapsed": true,
        "id": "aG5o8IKd4EG8",
        "outputId": "95015c7e-0d44-45f3-fb74-163e3b401f84"
      },
      "execution_count": 10,
      "outputs": [
        {
          "output_type": "execute_result",
          "data": {
            "text/plain": [
              "12"
            ]
          },
          "metadata": {},
          "execution_count": 10
        }
      ]
    },
    {
      "cell_type": "markdown",
      "source": [
        "Vemos que la cantidad de forecast distintos es 12 pero, ¿esto es igual para todos los productos de cada país?"
      ],
      "metadata": {
        "id": "z_5QiiRk7wgK"
      }
    },
    {
      "cell_type": "code",
      "source": [
        "# Comprobamos que para cada producto de cada país se han hecho 12 estudios\n",
        "# predicitivos teniendo en cuenta la fecha de inicio de la predicción.\n",
        "\n",
        "Pais_producto = data[(data['SCENARIO']=='AI_forecast')].groupby(['COUNTRY','SUBBRAND'])\n",
        "\n",
        "# Contar los valores únicos de la combinación de 'Year' y 'caca'\n",
        "resultado = Pais_producto.apply(lambda x: x[['FORECAST_YEAR', 'FORECAST']].drop_duplicates().shape[0], include_groups=False).reset_index(name='Estudios')\n",
        "\n",
        "print(resultado)"
      ],
      "metadata": {
        "colab": {
          "base_uri": "https://localhost:8080/"
        },
        "collapsed": true,
        "id": "b6W6B9xj76Nx",
        "outputId": "cfca3c7c-b5b3-4860-ad0b-ad8f241d80ab"
      },
      "execution_count": 11,
      "outputs": [
        {
          "output_type": "stream",
          "name": "stdout",
          "text": [
            "          COUNTRY            SUBBRAND  Estudios\n",
            "0           Czech            7up (L3)        12\n",
            "1           Czech         Lipton (L3)        12\n",
            "2           Czech   Mountain Dew (L3)        12\n",
            "3           Czech      Pepsi Max (L3)        12\n",
            "4           Czech  Pepsi Regular (L3)        12\n",
            "5         Denmark            7up (L3)        12\n",
            "6         Denmark       7up Free (L3)        12\n",
            "7         Denmark   Mountain Dew (L3)        12\n",
            "8         Denmark      Pepsi Max (L3)        12\n",
            "9         Denmark  Pepsi Regular (L3)        12\n",
            "10  Great Britain            7up (L3)        12\n",
            "11  Great Britain       7up Free (L3)        12\n",
            "12  Great Britain         Lipton (L3)        12\n",
            "13  Great Britain   Mountain Dew (L3)        12\n",
            "14  Great Britain      Pepsi Max (L3)        12\n",
            "15  Great Britain  Pepsi Regular (L3)        12\n",
            "16        Hungary            7up (L3)        12\n",
            "17        Hungary       7up Free (L3)        12\n",
            "18        Hungary         Lipton (L3)        12\n",
            "19        Hungary   Mountain Dew (L3)        12\n",
            "20        Hungary      Pepsi Max (L3)        12\n",
            "21        Hungary  Pepsi Regular (L3)        12\n",
            "22          Italy            7up (L3)        12\n",
            "23          Italy      Pepsi Max (L3)        12\n",
            "24          Italy  Pepsi Regular (L3)        12\n",
            "25    Netherlands            7up (L3)        12\n",
            "26    Netherlands       7up Free (L3)        12\n",
            "27    Netherlands         Lipton (L3)        12\n",
            "28    Netherlands   Mountain Dew (L3)        12\n",
            "29    Netherlands      Pepsi Max (L3)        12\n",
            "30    Netherlands  Pepsi Regular (L3)        12\n",
            "31         Norway            7up (L3)        12\n",
            "32         Norway       7up Free (L3)        12\n",
            "33         Norway         Lipton (L3)        12\n",
            "34         Norway   Mountain Dew (L3)        12\n",
            "35         Norway      Pepsi Max (L3)        12\n",
            "36         Norway  Pepsi Regular (L3)        12\n",
            "37       Portugal            7up (L3)        12\n",
            "38       Portugal       7up Free (L3)        12\n",
            "39       Portugal         Lipton (L3)        12\n",
            "40       Portugal      Pepsi Max (L3)        12\n",
            "41       Portugal  Pepsi Regular (L3)        12\n",
            "42          Spain            7up (L3)        12\n",
            "43          Spain       7up Free (L3)        12\n",
            "44          Spain         Lipton (L3)        12\n",
            "45          Spain      Pepsi Max (L3)        12\n",
            "46          Spain  Pepsi Regular (L3)        12\n"
          ]
        }
      ]
    },
    {
      "cell_type": "markdown",
      "source": [
        "Efectivamente, para cada producto de cada país se han hecho 12 estudios de predicción distintos."
      ],
      "metadata": {
        "id": "Gi3AtNHt_8gi"
      }
    },
    {
      "cell_type": "code",
      "source": [
        "# Sumamos la cantidad de cada producto del país.\n",
        "datos = data[(data['SCENARIO'] == 'actual')].groupby(['COUNTRY', 'SUBBRAND'])['AMOUNT'].sum().reset_index()\n",
        "print(datos)"
      ],
      "metadata": {
        "colab": {
          "base_uri": "https://localhost:8080/"
        },
        "id": "WYblYx2WEDvh",
        "outputId": "bbe2bd20-e6ea-4b32-8544-5902a5b44e37",
        "collapsed": true
      },
      "execution_count": 12,
      "outputs": [
        {
          "output_type": "stream",
          "name": "stdout",
          "text": [
            "          COUNTRY            SUBBRAND        AMOUNT\n",
            "0           Czech            7up (L3)  9.610990e+05\n",
            "1           Czech       7up Free (L3)  3.242474e+05\n",
            "2           Czech         Lipton (L3)  5.959059e+06\n",
            "3           Czech   Mountain Dew (L3)  1.604077e+06\n",
            "4           Czech      Pepsi Max (L3)  7.922810e+06\n",
            "5           Czech  Pepsi Regular (L3)  1.858035e+07\n",
            "6         Denmark       7up Free (L3)  6.356360e+05\n",
            "7         Denmark   Mountain Dew (L3)  8.253904e+05\n",
            "8         Denmark      Pepsi Max (L3)  4.936140e+07\n",
            "9         Denmark  Pepsi Regular (L3)  5.774250e+06\n",
            "10  Great Britain            7up (L3)  5.432014e+06\n",
            "11  Great Britain       7up Free (L3)  2.451862e+07\n",
            "12  Great Britain         Lipton (L3)  1.365866e+07\n",
            "13  Great Britain   Mountain Dew (L3)  3.692249e+06\n",
            "14  Great Britain      Pepsi Max (L3)  2.496323e+08\n",
            "15  Great Britain  Pepsi Regular (L3)  3.784479e+07\n",
            "16        Hungary            7up (L3)  1.418907e+05\n",
            "17        Hungary       7up Free (L3)  1.244282e+06\n",
            "18        Hungary         Lipton (L3)  6.564796e+06\n",
            "19        Hungary   Mountain Dew (L3)  1.129727e+06\n",
            "20        Hungary      Pepsi Max (L3)  1.005709e+07\n",
            "21        Hungary  Pepsi Regular (L3)  2.240212e+07\n",
            "22          Italy            7up (L3)  2.891541e+05\n",
            "23          Italy      Pepsi Max (L3)  3.964185e+06\n",
            "24          Italy  Pepsi Regular (L3)  3.920070e+07\n",
            "25    Netherlands            7up (L3)  2.383433e+06\n",
            "26    Netherlands       7up Free (L3)  2.729431e+06\n",
            "27    Netherlands         Lipton (L3)  3.099832e+07\n",
            "28    Netherlands      Pepsi Max (L3)  2.028984e+07\n",
            "29    Netherlands  Pepsi Regular (L3)  7.558400e+06\n",
            "30         Norway            7up (L3)  9.206923e+04\n",
            "31         Norway       7up Free (L3)  8.298246e+05\n",
            "32         Norway         Lipton (L3)  6.194392e+04\n",
            "33         Norway   Mountain Dew (L3)  2.229472e+05\n",
            "34         Norway      Pepsi Max (L3)  4.894936e+07\n",
            "35         Norway  Pepsi Regular (L3)  1.057919e+06\n",
            "36       Portugal            7up (L3)  7.751144e+06\n",
            "37       Portugal       7up Free (L3)  2.545966e+06\n",
            "38       Portugal         Lipton (L3)  1.541006e+07\n",
            "39       Portugal      Pepsi Max (L3)  4.332673e+06\n",
            "40       Portugal  Pepsi Regular (L3)  4.848222e+06\n",
            "41          Spain            7up (L3)  1.717711e+06\n",
            "42          Spain       7up Free (L3)  1.448288e+06\n",
            "43          Spain         Lipton (L3)  2.123016e+05\n",
            "44          Spain      Pepsi Max (L3)  2.189051e+06\n",
            "45          Spain  Pepsi Regular (L3)  2.563914e+06\n"
          ]
        }
      ]
    },
    {
      "cell_type": "code",
      "source": [
        "# Normalizamos las cantidades de los productos diviendo entre el total de\n",
        "# de cantidad vendida en el país.\n",
        "country_totals = datos.groupby('COUNTRY')['AMOUNT'].sum().reset_index()\n",
        "country_totals = country_totals.rename(columns={'AMOUNT': 'COUNTRY_TOTAL'})\n",
        "\n",
        "datos_N = pd.merge(datos, country_totals, on='COUNTRY', how='left')\n",
        "datos_N['AMOUNT_N'] = datos_N['AMOUNT'] / datos_N['COUNTRY_TOTAL']\n",
        "\n",
        "# Eliminamos columnas innecesarias.\n",
        "datos_N.drop(columns=['AMOUNT', 'COUNTRY_TOTAL'], inplace=True)\n",
        "\n",
        "print(datos_N)"
      ],
      "metadata": {
        "colab": {
          "base_uri": "https://localhost:8080/"
        },
        "id": "SC5qBSAIrzFz",
        "outputId": "dbdcbbbd-1569-482f-d7b4-bf2117192d69",
        "collapsed": true
      },
      "execution_count": 13,
      "outputs": [
        {
          "output_type": "stream",
          "name": "stdout",
          "text": [
            "          COUNTRY            SUBBRAND  AMOUNT_N\n",
            "0           Czech            7up (L3)  0.027187\n",
            "1           Czech       7up Free (L3)  0.009172\n",
            "2           Czech         Lipton (L3)  0.168565\n",
            "3           Czech   Mountain Dew (L3)  0.045375\n",
            "4           Czech      Pepsi Max (L3)  0.224114\n",
            "5           Czech  Pepsi Regular (L3)  0.525587\n",
            "6         Denmark       7up Free (L3)  0.011231\n",
            "7         Denmark   Mountain Dew (L3)  0.014584\n",
            "8         Denmark      Pepsi Max (L3)  0.872161\n",
            "9         Denmark  Pepsi Regular (L3)  0.102025\n",
            "10  Great Britain            7up (L3)  0.016226\n",
            "11  Great Britain       7up Free (L3)  0.073238\n",
            "12  Great Britain         Lipton (L3)  0.040799\n",
            "13  Great Britain   Mountain Dew (L3)  0.011029\n",
            "14  Great Britain      Pepsi Max (L3)  0.745664\n",
            "15  Great Britain  Pepsi Regular (L3)  0.113044\n",
            "16        Hungary            7up (L3)  0.003416\n",
            "17        Hungary       7up Free (L3)  0.029954\n",
            "18        Hungary         Lipton (L3)  0.158036\n",
            "19        Hungary   Mountain Dew (L3)  0.027196\n",
            "20        Hungary      Pepsi Max (L3)  0.242107\n",
            "21        Hungary  Pepsi Regular (L3)  0.539292\n",
            "22          Italy            7up (L3)  0.006654\n",
            "23          Italy      Pepsi Max (L3)  0.091227\n",
            "24          Italy  Pepsi Regular (L3)  0.902119\n",
            "25    Netherlands            7up (L3)  0.037265\n",
            "26    Netherlands       7up Free (L3)  0.042674\n",
            "27    Netherlands         Lipton (L3)  0.484656\n",
            "28    Netherlands      Pepsi Max (L3)  0.317230\n",
            "29    Netherlands  Pepsi Regular (L3)  0.118175\n",
            "30         Norway            7up (L3)  0.001798\n",
            "31         Norway       7up Free (L3)  0.016203\n",
            "32         Norway         Lipton (L3)  0.001210\n",
            "33         Norway   Mountain Dew (L3)  0.004353\n",
            "34         Norway      Pepsi Max (L3)  0.955780\n",
            "35         Norway  Pepsi Regular (L3)  0.020657\n",
            "36       Portugal            7up (L3)  0.222172\n",
            "37       Portugal       7up Free (L3)  0.072975\n",
            "38       Portugal         Lipton (L3)  0.441700\n",
            "39       Portugal      Pepsi Max (L3)  0.124188\n",
            "40       Portugal  Pepsi Regular (L3)  0.138965\n",
            "41          Spain            7up (L3)  0.211248\n",
            "42          Spain       7up Free (L3)  0.178114\n",
            "43          Spain         Lipton (L3)  0.026109\n",
            "44          Spain      Pepsi Max (L3)  0.269214\n",
            "45          Spain  Pepsi Regular (L3)  0.315315\n"
          ]
        }
      ]
    },
    {
      "cell_type": "markdown",
      "source": [
        "# Distribución de ventas realizadas en cada país."
      ],
      "metadata": {
        "id": "Rtuod07A2EhM"
      }
    },
    {
      "cell_type": "code",
      "source": [
        "fig = px.histogram(datos_N, x='COUNTRY', y='AMOUNT_N', color='SUBBRAND',\n",
        "    title=\"Distribución de ventas realizadas por país\",\n",
        "    template=\"plotly_white\",\n",
        "    color_discrete_sequence=px.colors.qualitative.Prism, # Color pastel.\n",
        "    height=700, # Modificamos la altura para que se vean bien las porporciones.\n",
        "    width=1100)\n",
        "\n",
        "fig.update_layout(xaxis_title=\"País\",  yaxis_title=\"Proporción de las ventas\",\n",
        "    legend_title=\"Marca\", title_font=dict(size=24, color=\"black\", family=\"Arial\"),\n",
        "    font=dict(size=16, color=\"black\", family=\"Arial\"),\n",
        "    bargap=0.4) # Ajustamos el espacio entre barras.\n",
        "\n",
        "fig.show()"
      ],
      "metadata": {
        "colab": {
          "base_uri": "https://localhost:8080/",
          "height": 717
        },
        "id": "x-wbenhpwtG3",
        "outputId": "f042236e-e7f1-47de-8cb2-e1e22727c7ed"
      },
      "execution_count": 96,
      "outputs": [
        {
          "output_type": "display_data",
          "data": {
            "text/html": [
              "<html>\n",
              "<head><meta charset=\"utf-8\" /></head>\n",
              "<body>\n",
              "    <div>            <script src=\"https://cdnjs.cloudflare.com/ajax/libs/mathjax/2.7.5/MathJax.js?config=TeX-AMS-MML_SVG\"></script><script type=\"text/javascript\">if (window.MathJax && window.MathJax.Hub && window.MathJax.Hub.Config) {window.MathJax.Hub.Config({SVG: {font: \"STIX-Web\"}});}</script>                <script type=\"text/javascript\">window.PlotlyConfig = {MathJaxConfig: 'local'};</script>\n",
              "        <script charset=\"utf-8\" src=\"https://cdn.plot.ly/plotly-2.35.2.min.js\"></script>                <div id=\"b77863b4-b3d7-404e-bba3-63ede3db19f4\" class=\"plotly-graph-div\" style=\"height:700px; width:1100px;\"></div>            <script type=\"text/javascript\">                                    window.PLOTLYENV=window.PLOTLYENV || {};                                    if (document.getElementById(\"b77863b4-b3d7-404e-bba3-63ede3db19f4\")) {                    Plotly.newPlot(                        \"b77863b4-b3d7-404e-bba3-63ede3db19f4\",                        [{\"alignmentgroup\":\"True\",\"bingroup\":\"x\",\"histfunc\":\"sum\",\"hovertemplate\":\"SUBBRAND=7up (L3)\\u003cbr\\u003eCOUNTRY=%{x}\\u003cbr\\u003esum of AMOUNT_N=%{y}\\u003cextra\\u003e\\u003c\\u002fextra\\u003e\",\"legendgroup\":\"7up (L3)\",\"marker\":{\"color\":\"rgb(95, 70, 144)\",\"pattern\":{\"shape\":\"\"}},\"name\":\"7up (L3)\",\"offsetgroup\":\"7up (L3)\",\"orientation\":\"v\",\"showlegend\":true,\"x\":[\"Czech\",\"Great Britain\",\"Hungary\",\"Italy\",\"Netherlands\",\"Norway\",\"Portugal\",\"Spain\"],\"xaxis\":\"x\",\"y\":[0.027186828920652512,0.016225689535169098,0.0034157675744000433,0.0066542505869337425,0.03726476264273887,0.0017977334229025649,0.22217174995548047,0.21124773163506888],\"yaxis\":\"y\",\"type\":\"histogram\"},{\"alignmentgroup\":\"True\",\"bingroup\":\"x\",\"histfunc\":\"sum\",\"hovertemplate\":\"SUBBRAND=7up Free (L3)\\u003cbr\\u003eCOUNTRY=%{x}\\u003cbr\\u003esum of AMOUNT_N=%{y}\\u003cextra\\u003e\\u003c\\u002fextra\\u003e\",\"legendgroup\":\"7up Free (L3)\",\"marker\":{\"color\":\"rgb(29, 105, 150)\",\"pattern\":{\"shape\":\"\"}},\"name\":\"7up Free (L3)\",\"offsetgroup\":\"7up Free (L3)\",\"orientation\":\"v\",\"showlegend\":true,\"x\":[\"Czech\",\"Denmark\",\"Great Britain\",\"Hungary\",\"Netherlands\",\"Norway\",\"Portugal\",\"Spain\"],\"xaxis\":\"x\",\"y\":[0.009172059952580212,0.01123097729974973,0.07323832437609909,0.029953890937032948,0.0426744079421985,0.016203061172487227,0.07297526513950986,0.17811350253156788],\"yaxis\":\"y\",\"type\":\"histogram\"},{\"alignmentgroup\":\"True\",\"bingroup\":\"x\",\"histfunc\":\"sum\",\"hovertemplate\":\"SUBBRAND=Lipton (L3)\\u003cbr\\u003eCOUNTRY=%{x}\\u003cbr\\u003esum of AMOUNT_N=%{y}\\u003cextra\\u003e\\u003c\\u002fextra\\u003e\",\"legendgroup\":\"Lipton (L3)\",\"marker\":{\"color\":\"rgb(56, 166, 165)\",\"pattern\":{\"shape\":\"\"}},\"name\":\"Lipton (L3)\",\"offsetgroup\":\"Lipton (L3)\",\"orientation\":\"v\",\"showlegend\":true,\"x\":[\"Czech\",\"Great Britain\",\"Hungary\",\"Netherlands\",\"Norway\",\"Portugal\",\"Spain\"],\"xaxis\":\"x\",\"y\":[0.16856528946854216,0.04079909678280039,0.15803587278555,0.48465602592145846,0.001209509986288827,0.44170012820688165,0.026109295226754377],\"yaxis\":\"y\",\"type\":\"histogram\"},{\"alignmentgroup\":\"True\",\"bingroup\":\"x\",\"histfunc\":\"sum\",\"hovertemplate\":\"SUBBRAND=Mountain Dew (L3)\\u003cbr\\u003eCOUNTRY=%{x}\\u003cbr\\u003esum of AMOUNT_N=%{y}\\u003cextra\\u003e\\u003c\\u002fextra\\u003e\",\"legendgroup\":\"Mountain Dew (L3)\",\"marker\":{\"color\":\"rgb(15, 133, 84)\",\"pattern\":{\"shape\":\"\"}},\"name\":\"Mountain Dew (L3)\",\"offsetgroup\":\"Mountain Dew (L3)\",\"orientation\":\"v\",\"showlegend\":true,\"x\":[\"Czech\",\"Denmark\",\"Great Britain\",\"Hungary\",\"Norway\"],\"xaxis\":\"x\",\"y\":[0.045374905306332626,0.01458372536329545,0.011028927434592876,0.02719618722046006,0.004353242105498616],\"yaxis\":\"y\",\"type\":\"histogram\"},{\"alignmentgroup\":\"True\",\"bingroup\":\"x\",\"histfunc\":\"sum\",\"hovertemplate\":\"SUBBRAND=Pepsi Max (L3)\\u003cbr\\u003eCOUNTRY=%{x}\\u003cbr\\u003esum of AMOUNT_N=%{y}\\u003cextra\\u003e\\u003c\\u002fextra\\u003e\",\"legendgroup\":\"Pepsi Max (L3)\",\"marker\":{\"color\":\"rgb(115, 175, 72)\",\"pattern\":{\"shape\":\"\"}},\"name\":\"Pepsi Max (L3)\",\"offsetgroup\":\"Pepsi Max (L3)\",\"orientation\":\"v\",\"showlegend\":true,\"x\":[\"Czech\",\"Denmark\",\"Great Britain\",\"Hungary\",\"Italy\",\"Netherlands\",\"Norway\",\"Portugal\",\"Spain\"],\"xaxis\":\"x\",\"y\":[0.2241143541256026,0.8721607489855392,0.7456637325310144,0.2421066770693782,0.09122708436814014,0.3172298952726399,0.9557796515560283,0.12418780916802058,0.26921402020810803],\"yaxis\":\"y\",\"type\":\"histogram\"},{\"alignmentgroup\":\"True\",\"bingroup\":\"x\",\"histfunc\":\"sum\",\"hovertemplate\":\"SUBBRAND=Pepsi Regular (L3)\\u003cbr\\u003eCOUNTRY=%{x}\\u003cbr\\u003esum of AMOUNT_N=%{y}\\u003cextra\\u003e\\u003c\\u002fextra\\u003e\",\"legendgroup\":\"Pepsi Regular (L3)\",\"marker\":{\"color\":\"rgb(237, 173, 8)\",\"pattern\":{\"shape\":\"\"}},\"name\":\"Pepsi Regular (L3)\",\"offsetgroup\":\"Pepsi Regular (L3)\",\"orientation\":\"v\",\"showlegend\":true,\"x\":[\"Czech\",\"Denmark\",\"Great Britain\",\"Hungary\",\"Italy\",\"Netherlands\",\"Norway\",\"Portugal\",\"Spain\"],\"xaxis\":\"x\",\"y\":[0.5255865622262899,0.10202454835141563,0.11304422934032429,0.5392916044131787,0.9021186650449261,0.1181749082209642,0.020656801756794383,0.13896504753010747,0.31531545039850084],\"yaxis\":\"y\",\"type\":\"histogram\"}],                        {\"template\":{\"data\":{\"barpolar\":[{\"marker\":{\"line\":{\"color\":\"white\",\"width\":0.5},\"pattern\":{\"fillmode\":\"overlay\",\"size\":10,\"solidity\":0.2}},\"type\":\"barpolar\"}],\"bar\":[{\"error_x\":{\"color\":\"#2a3f5f\"},\"error_y\":{\"color\":\"#2a3f5f\"},\"marker\":{\"line\":{\"color\":\"white\",\"width\":0.5},\"pattern\":{\"fillmode\":\"overlay\",\"size\":10,\"solidity\":0.2}},\"type\":\"bar\"}],\"carpet\":[{\"aaxis\":{\"endlinecolor\":\"#2a3f5f\",\"gridcolor\":\"#C8D4E3\",\"linecolor\":\"#C8D4E3\",\"minorgridcolor\":\"#C8D4E3\",\"startlinecolor\":\"#2a3f5f\"},\"baxis\":{\"endlinecolor\":\"#2a3f5f\",\"gridcolor\":\"#C8D4E3\",\"linecolor\":\"#C8D4E3\",\"minorgridcolor\":\"#C8D4E3\",\"startlinecolor\":\"#2a3f5f\"},\"type\":\"carpet\"}],\"choropleth\":[{\"colorbar\":{\"outlinewidth\":0,\"ticks\":\"\"},\"type\":\"choropleth\"}],\"contourcarpet\":[{\"colorbar\":{\"outlinewidth\":0,\"ticks\":\"\"},\"type\":\"contourcarpet\"}],\"contour\":[{\"colorbar\":{\"outlinewidth\":0,\"ticks\":\"\"},\"colorscale\":[[0.0,\"#0d0887\"],[0.1111111111111111,\"#46039f\"],[0.2222222222222222,\"#7201a8\"],[0.3333333333333333,\"#9c179e\"],[0.4444444444444444,\"#bd3786\"],[0.5555555555555556,\"#d8576b\"],[0.6666666666666666,\"#ed7953\"],[0.7777777777777778,\"#fb9f3a\"],[0.8888888888888888,\"#fdca26\"],[1.0,\"#f0f921\"]],\"type\":\"contour\"}],\"heatmapgl\":[{\"colorbar\":{\"outlinewidth\":0,\"ticks\":\"\"},\"colorscale\":[[0.0,\"#0d0887\"],[0.1111111111111111,\"#46039f\"],[0.2222222222222222,\"#7201a8\"],[0.3333333333333333,\"#9c179e\"],[0.4444444444444444,\"#bd3786\"],[0.5555555555555556,\"#d8576b\"],[0.6666666666666666,\"#ed7953\"],[0.7777777777777778,\"#fb9f3a\"],[0.8888888888888888,\"#fdca26\"],[1.0,\"#f0f921\"]],\"type\":\"heatmapgl\"}],\"heatmap\":[{\"colorbar\":{\"outlinewidth\":0,\"ticks\":\"\"},\"colorscale\":[[0.0,\"#0d0887\"],[0.1111111111111111,\"#46039f\"],[0.2222222222222222,\"#7201a8\"],[0.3333333333333333,\"#9c179e\"],[0.4444444444444444,\"#bd3786\"],[0.5555555555555556,\"#d8576b\"],[0.6666666666666666,\"#ed7953\"],[0.7777777777777778,\"#fb9f3a\"],[0.8888888888888888,\"#fdca26\"],[1.0,\"#f0f921\"]],\"type\":\"heatmap\"}],\"histogram2dcontour\":[{\"colorbar\":{\"outlinewidth\":0,\"ticks\":\"\"},\"colorscale\":[[0.0,\"#0d0887\"],[0.1111111111111111,\"#46039f\"],[0.2222222222222222,\"#7201a8\"],[0.3333333333333333,\"#9c179e\"],[0.4444444444444444,\"#bd3786\"],[0.5555555555555556,\"#d8576b\"],[0.6666666666666666,\"#ed7953\"],[0.7777777777777778,\"#fb9f3a\"],[0.8888888888888888,\"#fdca26\"],[1.0,\"#f0f921\"]],\"type\":\"histogram2dcontour\"}],\"histogram2d\":[{\"colorbar\":{\"outlinewidth\":0,\"ticks\":\"\"},\"colorscale\":[[0.0,\"#0d0887\"],[0.1111111111111111,\"#46039f\"],[0.2222222222222222,\"#7201a8\"],[0.3333333333333333,\"#9c179e\"],[0.4444444444444444,\"#bd3786\"],[0.5555555555555556,\"#d8576b\"],[0.6666666666666666,\"#ed7953\"],[0.7777777777777778,\"#fb9f3a\"],[0.8888888888888888,\"#fdca26\"],[1.0,\"#f0f921\"]],\"type\":\"histogram2d\"}],\"histogram\":[{\"marker\":{\"pattern\":{\"fillmode\":\"overlay\",\"size\":10,\"solidity\":0.2}},\"type\":\"histogram\"}],\"mesh3d\":[{\"colorbar\":{\"outlinewidth\":0,\"ticks\":\"\"},\"type\":\"mesh3d\"}],\"parcoords\":[{\"line\":{\"colorbar\":{\"outlinewidth\":0,\"ticks\":\"\"}},\"type\":\"parcoords\"}],\"pie\":[{\"automargin\":true,\"type\":\"pie\"}],\"scatter3d\":[{\"line\":{\"colorbar\":{\"outlinewidth\":0,\"ticks\":\"\"}},\"marker\":{\"colorbar\":{\"outlinewidth\":0,\"ticks\":\"\"}},\"type\":\"scatter3d\"}],\"scattercarpet\":[{\"marker\":{\"colorbar\":{\"outlinewidth\":0,\"ticks\":\"\"}},\"type\":\"scattercarpet\"}],\"scattergeo\":[{\"marker\":{\"colorbar\":{\"outlinewidth\":0,\"ticks\":\"\"}},\"type\":\"scattergeo\"}],\"scattergl\":[{\"marker\":{\"colorbar\":{\"outlinewidth\":0,\"ticks\":\"\"}},\"type\":\"scattergl\"}],\"scattermapbox\":[{\"marker\":{\"colorbar\":{\"outlinewidth\":0,\"ticks\":\"\"}},\"type\":\"scattermapbox\"}],\"scatterpolargl\":[{\"marker\":{\"colorbar\":{\"outlinewidth\":0,\"ticks\":\"\"}},\"type\":\"scatterpolargl\"}],\"scatterpolar\":[{\"marker\":{\"colorbar\":{\"outlinewidth\":0,\"ticks\":\"\"}},\"type\":\"scatterpolar\"}],\"scatter\":[{\"fillpattern\":{\"fillmode\":\"overlay\",\"size\":10,\"solidity\":0.2},\"type\":\"scatter\"}],\"scatterternary\":[{\"marker\":{\"colorbar\":{\"outlinewidth\":0,\"ticks\":\"\"}},\"type\":\"scatterternary\"}],\"surface\":[{\"colorbar\":{\"outlinewidth\":0,\"ticks\":\"\"},\"colorscale\":[[0.0,\"#0d0887\"],[0.1111111111111111,\"#46039f\"],[0.2222222222222222,\"#7201a8\"],[0.3333333333333333,\"#9c179e\"],[0.4444444444444444,\"#bd3786\"],[0.5555555555555556,\"#d8576b\"],[0.6666666666666666,\"#ed7953\"],[0.7777777777777778,\"#fb9f3a\"],[0.8888888888888888,\"#fdca26\"],[1.0,\"#f0f921\"]],\"type\":\"surface\"}],\"table\":[{\"cells\":{\"fill\":{\"color\":\"#EBF0F8\"},\"line\":{\"color\":\"white\"}},\"header\":{\"fill\":{\"color\":\"#C8D4E3\"},\"line\":{\"color\":\"white\"}},\"type\":\"table\"}]},\"layout\":{\"annotationdefaults\":{\"arrowcolor\":\"#2a3f5f\",\"arrowhead\":0,\"arrowwidth\":1},\"autotypenumbers\":\"strict\",\"coloraxis\":{\"colorbar\":{\"outlinewidth\":0,\"ticks\":\"\"}},\"colorscale\":{\"diverging\":[[0,\"#8e0152\"],[0.1,\"#c51b7d\"],[0.2,\"#de77ae\"],[0.3,\"#f1b6da\"],[0.4,\"#fde0ef\"],[0.5,\"#f7f7f7\"],[0.6,\"#e6f5d0\"],[0.7,\"#b8e186\"],[0.8,\"#7fbc41\"],[0.9,\"#4d9221\"],[1,\"#276419\"]],\"sequential\":[[0.0,\"#0d0887\"],[0.1111111111111111,\"#46039f\"],[0.2222222222222222,\"#7201a8\"],[0.3333333333333333,\"#9c179e\"],[0.4444444444444444,\"#bd3786\"],[0.5555555555555556,\"#d8576b\"],[0.6666666666666666,\"#ed7953\"],[0.7777777777777778,\"#fb9f3a\"],[0.8888888888888888,\"#fdca26\"],[1.0,\"#f0f921\"]],\"sequentialminus\":[[0.0,\"#0d0887\"],[0.1111111111111111,\"#46039f\"],[0.2222222222222222,\"#7201a8\"],[0.3333333333333333,\"#9c179e\"],[0.4444444444444444,\"#bd3786\"],[0.5555555555555556,\"#d8576b\"],[0.6666666666666666,\"#ed7953\"],[0.7777777777777778,\"#fb9f3a\"],[0.8888888888888888,\"#fdca26\"],[1.0,\"#f0f921\"]]},\"colorway\":[\"#636efa\",\"#EF553B\",\"#00cc96\",\"#ab63fa\",\"#FFA15A\",\"#19d3f3\",\"#FF6692\",\"#B6E880\",\"#FF97FF\",\"#FECB52\"],\"font\":{\"color\":\"#2a3f5f\"},\"geo\":{\"bgcolor\":\"white\",\"lakecolor\":\"white\",\"landcolor\":\"white\",\"showlakes\":true,\"showland\":true,\"subunitcolor\":\"#C8D4E3\"},\"hoverlabel\":{\"align\":\"left\"},\"hovermode\":\"closest\",\"mapbox\":{\"style\":\"light\"},\"paper_bgcolor\":\"white\",\"plot_bgcolor\":\"white\",\"polar\":{\"angularaxis\":{\"gridcolor\":\"#EBF0F8\",\"linecolor\":\"#EBF0F8\",\"ticks\":\"\"},\"bgcolor\":\"white\",\"radialaxis\":{\"gridcolor\":\"#EBF0F8\",\"linecolor\":\"#EBF0F8\",\"ticks\":\"\"}},\"scene\":{\"xaxis\":{\"backgroundcolor\":\"white\",\"gridcolor\":\"#DFE8F3\",\"gridwidth\":2,\"linecolor\":\"#EBF0F8\",\"showbackground\":true,\"ticks\":\"\",\"zerolinecolor\":\"#EBF0F8\"},\"yaxis\":{\"backgroundcolor\":\"white\",\"gridcolor\":\"#DFE8F3\",\"gridwidth\":2,\"linecolor\":\"#EBF0F8\",\"showbackground\":true,\"ticks\":\"\",\"zerolinecolor\":\"#EBF0F8\"},\"zaxis\":{\"backgroundcolor\":\"white\",\"gridcolor\":\"#DFE8F3\",\"gridwidth\":2,\"linecolor\":\"#EBF0F8\",\"showbackground\":true,\"ticks\":\"\",\"zerolinecolor\":\"#EBF0F8\"}},\"shapedefaults\":{\"line\":{\"color\":\"#2a3f5f\"}},\"ternary\":{\"aaxis\":{\"gridcolor\":\"#DFE8F3\",\"linecolor\":\"#A2B1C6\",\"ticks\":\"\"},\"baxis\":{\"gridcolor\":\"#DFE8F3\",\"linecolor\":\"#A2B1C6\",\"ticks\":\"\"},\"bgcolor\":\"white\",\"caxis\":{\"gridcolor\":\"#DFE8F3\",\"linecolor\":\"#A2B1C6\",\"ticks\":\"\"}},\"title\":{\"x\":0.05},\"xaxis\":{\"automargin\":true,\"gridcolor\":\"#EBF0F8\",\"linecolor\":\"#EBF0F8\",\"ticks\":\"\",\"title\":{\"standoff\":15},\"zerolinecolor\":\"#EBF0F8\",\"zerolinewidth\":2},\"yaxis\":{\"automargin\":true,\"gridcolor\":\"#EBF0F8\",\"linecolor\":\"#EBF0F8\",\"ticks\":\"\",\"title\":{\"standoff\":15},\"zerolinecolor\":\"#EBF0F8\",\"zerolinewidth\":2}}},\"xaxis\":{\"anchor\":\"y\",\"domain\":[0.0,1.0],\"title\":{\"text\":\"Pa\\u00eds\"}},\"yaxis\":{\"anchor\":\"x\",\"domain\":[0.0,1.0],\"title\":{\"text\":\"Proporci\\u00f3n de las ventas\"}},\"legend\":{\"title\":{\"text\":\"Marca\"},\"tracegroupgap\":0},\"title\":{\"text\":\"Distribuci\\u00f3n de ventas realizadas por pa\\u00eds\",\"font\":{\"size\":24,\"color\":\"black\",\"family\":\"Arial\"}},\"barmode\":\"relative\",\"height\":700,\"width\":1100,\"font\":{\"size\":16,\"color\":\"black\",\"family\":\"Arial\"},\"bargap\":0.4},                        {\"responsive\": true}                    ).then(function(){\n",
              "                            \n",
              "var gd = document.getElementById('b77863b4-b3d7-404e-bba3-63ede3db19f4');\n",
              "var x = new MutationObserver(function (mutations, observer) {{\n",
              "        var display = window.getComputedStyle(gd).display;\n",
              "        if (!display || display === 'none') {{\n",
              "            console.log([gd, 'removed!']);\n",
              "            Plotly.purge(gd);\n",
              "            observer.disconnect();\n",
              "        }}\n",
              "}});\n",
              "\n",
              "// Listen for the removal of the full notebook cells\n",
              "var notebookContainer = gd.closest('#notebook-container');\n",
              "if (notebookContainer) {{\n",
              "    x.observe(notebookContainer, {childList: true});\n",
              "}}\n",
              "\n",
              "// Listen for the clearing of the current output cell\n",
              "var outputEl = gd.closest('.output');\n",
              "if (outputEl) {{\n",
              "    x.observe(outputEl, {childList: true});\n",
              "}}\n",
              "\n",
              "                        })                };                            </script>        </div>\n",
              "</body>\n",
              "</html>"
            ]
          },
          "metadata": {}
        }
      ]
    },
    {
      "cell_type": "code",
      "source": [
        "# Total de ventas por país.\n",
        "fig = px.histogram(country_totals, x='COUNTRY', y='COUNTRY_TOTAL',\n",
        "                   color='COUNTRY',\n",
        "                   template=\"plotly_white\",\n",
        "                   color_discrete_sequence=px.colors.qualitative.Prism,\n",
        "                   height=700,\n",
        "                   width=1100)\n",
        "\n",
        "fig.update_layout(title=\"Ventas/Cantidad total por país\",\n",
        "                xaxis_title=\"País\", yaxis_title=\"Total de ventas/cantidad\",\n",
        "                showlegend=False,\n",
        "                title_font=dict(size=24, color=\"black\", family=\"Arial\"),\n",
        "                font=dict(size=16, color=\"black\", family=\"Arial\"))\n",
        "\n",
        "fig.show()\n"
      ],
      "metadata": {
        "colab": {
          "base_uri": "https://localhost:8080/",
          "height": 717
        },
        "id": "wgJQk7yw4kpQ",
        "outputId": "cdee45f4-2c76-47e1-9b94-e860f1fc3567"
      },
      "execution_count": 93,
      "outputs": [
        {
          "output_type": "display_data",
          "data": {
            "text/html": [
              "<html>\n",
              "<head><meta charset=\"utf-8\" /></head>\n",
              "<body>\n",
              "    <div>            <script src=\"https://cdnjs.cloudflare.com/ajax/libs/mathjax/2.7.5/MathJax.js?config=TeX-AMS-MML_SVG\"></script><script type=\"text/javascript\">if (window.MathJax && window.MathJax.Hub && window.MathJax.Hub.Config) {window.MathJax.Hub.Config({SVG: {font: \"STIX-Web\"}});}</script>                <script type=\"text/javascript\">window.PlotlyConfig = {MathJaxConfig: 'local'};</script>\n",
              "        <script charset=\"utf-8\" src=\"https://cdn.plot.ly/plotly-2.35.2.min.js\"></script>                <div id=\"f2063c18-61d2-402d-b8f3-6f6068495158\" class=\"plotly-graph-div\" style=\"height:700px; width:1100px;\"></div>            <script type=\"text/javascript\">                                    window.PLOTLYENV=window.PLOTLYENV || {};                                    if (document.getElementById(\"f2063c18-61d2-402d-b8f3-6f6068495158\")) {                    Plotly.newPlot(                        \"f2063c18-61d2-402d-b8f3-6f6068495158\",                        [{\"alignmentgroup\":\"True\",\"bingroup\":\"x\",\"histfunc\":\"sum\",\"hovertemplate\":\"COUNTRY=%{x}\\u003cbr\\u003esum of COUNTRY_TOTAL=%{y}\\u003cextra\\u003e\\u003c\\u002fextra\\u003e\",\"legendgroup\":\"Czech\",\"marker\":{\"color\":\"rgb(95, 70, 144)\",\"pattern\":{\"shape\":\"\"}},\"name\":\"Czech\",\"offsetgroup\":\"Czech\",\"orientation\":\"v\",\"showlegend\":true,\"x\":[\"Czech\"],\"xaxis\":\"x\",\"y\":[35351639.56481399],\"yaxis\":\"y\",\"type\":\"histogram\"},{\"alignmentgroup\":\"True\",\"bingroup\":\"x\",\"histfunc\":\"sum\",\"hovertemplate\":\"COUNTRY=%{x}\\u003cbr\\u003esum of COUNTRY_TOTAL=%{y}\\u003cextra\\u003e\\u003c\\u002fextra\\u003e\",\"legendgroup\":\"Denmark\",\"marker\":{\"color\":\"rgb(29, 105, 150)\",\"pattern\":{\"shape\":\"\"}},\"name\":\"Denmark\",\"offsetgroup\":\"Denmark\",\"orientation\":\"v\",\"showlegend\":true,\"x\":[\"Denmark\"],\"xaxis\":\"x\",\"y\":[56596675.75261528],\"yaxis\":\"y\",\"type\":\"histogram\"},{\"alignmentgroup\":\"True\",\"bingroup\":\"x\",\"histfunc\":\"sum\",\"hovertemplate\":\"COUNTRY=%{x}\\u003cbr\\u003esum of COUNTRY_TOTAL=%{y}\\u003cextra\\u003e\\u003c\\u002fextra\\u003e\",\"legendgroup\":\"Great Britain\",\"marker\":{\"color\":\"rgb(56, 166, 165)\",\"pattern\":{\"shape\":\"\"}},\"name\":\"Great Britain\",\"offsetgroup\":\"Great Britain\",\"orientation\":\"v\",\"showlegend\":true,\"x\":[\"Great Britain\"],\"xaxis\":\"x\",\"y\":[334778603.75283086],\"yaxis\":\"y\",\"type\":\"histogram\"},{\"alignmentgroup\":\"True\",\"bingroup\":\"x\",\"histfunc\":\"sum\",\"hovertemplate\":\"COUNTRY=%{x}\\u003cbr\\u003esum of COUNTRY_TOTAL=%{y}\\u003cextra\\u003e\\u003c\\u002fextra\\u003e\",\"legendgroup\":\"Hungary\",\"marker\":{\"color\":\"rgb(15, 133, 84)\",\"pattern\":{\"shape\":\"\"}},\"name\":\"Hungary\",\"offsetgroup\":\"Hungary\",\"orientation\":\"v\",\"showlegend\":true,\"x\":[\"Hungary\"],\"xaxis\":\"x\",\"y\":[41539909.2680905],\"yaxis\":\"y\",\"type\":\"histogram\"},{\"alignmentgroup\":\"True\",\"bingroup\":\"x\",\"histfunc\":\"sum\",\"hovertemplate\":\"COUNTRY=%{x}\\u003cbr\\u003esum of COUNTRY_TOTAL=%{y}\\u003cextra\\u003e\\u003c\\u002fextra\\u003e\",\"legendgroup\":\"Italy\",\"marker\":{\"color\":\"rgb(115, 175, 72)\",\"pattern\":{\"shape\":\"\"}},\"name\":\"Italy\",\"offsetgroup\":\"Italy\",\"orientation\":\"v\",\"showlegend\":true,\"x\":[\"Italy\"],\"xaxis\":\"x\",\"y\":[43454036.96646074],\"yaxis\":\"y\",\"type\":\"histogram\"},{\"alignmentgroup\":\"True\",\"bingroup\":\"x\",\"histfunc\":\"sum\",\"hovertemplate\":\"COUNTRY=%{x}\\u003cbr\\u003esum of COUNTRY_TOTAL=%{y}\\u003cextra\\u003e\\u003c\\u002fextra\\u003e\",\"legendgroup\":\"Netherlands\",\"marker\":{\"color\":\"rgb(237, 173, 8)\",\"pattern\":{\"shape\":\"\"}},\"name\":\"Netherlands\",\"offsetgroup\":\"Netherlands\",\"orientation\":\"v\",\"showlegend\":true,\"x\":[\"Netherlands\"],\"xaxis\":\"x\",\"y\":[63959428.7739604],\"yaxis\":\"y\",\"type\":\"histogram\"},{\"alignmentgroup\":\"True\",\"bingroup\":\"x\",\"histfunc\":\"sum\",\"hovertemplate\":\"COUNTRY=%{x}\\u003cbr\\u003esum of COUNTRY_TOTAL=%{y}\\u003cextra\\u003e\\u003c\\u002fextra\\u003e\",\"legendgroup\":\"Norway\",\"marker\":{\"color\":\"rgb(225, 124, 5)\",\"pattern\":{\"shape\":\"\"}},\"name\":\"Norway\",\"offsetgroup\":\"Norway\",\"orientation\":\"v\",\"showlegend\":true,\"x\":[\"Norway\"],\"xaxis\":\"x\",\"y\":[51214060.87602149],\"yaxis\":\"y\",\"type\":\"histogram\"},{\"alignmentgroup\":\"True\",\"bingroup\":\"x\",\"histfunc\":\"sum\",\"hovertemplate\":\"COUNTRY=%{x}\\u003cbr\\u003esum of COUNTRY_TOTAL=%{y}\\u003cextra\\u003e\\u003c\\u002fextra\\u003e\",\"legendgroup\":\"Portugal\",\"marker\":{\"color\":\"rgb(204, 80, 62)\",\"pattern\":{\"shape\":\"\"}},\"name\":\"Portugal\",\"offsetgroup\":\"Portugal\",\"orientation\":\"v\",\"showlegend\":true,\"x\":[\"Portugal\"],\"xaxis\":\"x\",\"y\":[34888069.81380808],\"yaxis\":\"y\",\"type\":\"histogram\"},{\"alignmentgroup\":\"True\",\"bingroup\":\"x\",\"histfunc\":\"sum\",\"hovertemplate\":\"COUNTRY=%{x}\\u003cbr\\u003esum of COUNTRY_TOTAL=%{y}\\u003cextra\\u003e\\u003c\\u002fextra\\u003e\",\"legendgroup\":\"Spain\",\"marker\":{\"color\":\"rgb(148, 52, 110)\",\"pattern\":{\"shape\":\"\"}},\"name\":\"Spain\",\"offsetgroup\":\"Spain\",\"orientation\":\"v\",\"showlegend\":true,\"x\":[\"Spain\"],\"xaxis\":\"x\",\"y\":[8131265.977520084],\"yaxis\":\"y\",\"type\":\"histogram\"}],                        {\"template\":{\"data\":{\"barpolar\":[{\"marker\":{\"line\":{\"color\":\"white\",\"width\":0.5},\"pattern\":{\"fillmode\":\"overlay\",\"size\":10,\"solidity\":0.2}},\"type\":\"barpolar\"}],\"bar\":[{\"error_x\":{\"color\":\"#2a3f5f\"},\"error_y\":{\"color\":\"#2a3f5f\"},\"marker\":{\"line\":{\"color\":\"white\",\"width\":0.5},\"pattern\":{\"fillmode\":\"overlay\",\"size\":10,\"solidity\":0.2}},\"type\":\"bar\"}],\"carpet\":[{\"aaxis\":{\"endlinecolor\":\"#2a3f5f\",\"gridcolor\":\"#C8D4E3\",\"linecolor\":\"#C8D4E3\",\"minorgridcolor\":\"#C8D4E3\",\"startlinecolor\":\"#2a3f5f\"},\"baxis\":{\"endlinecolor\":\"#2a3f5f\",\"gridcolor\":\"#C8D4E3\",\"linecolor\":\"#C8D4E3\",\"minorgridcolor\":\"#C8D4E3\",\"startlinecolor\":\"#2a3f5f\"},\"type\":\"carpet\"}],\"choropleth\":[{\"colorbar\":{\"outlinewidth\":0,\"ticks\":\"\"},\"type\":\"choropleth\"}],\"contourcarpet\":[{\"colorbar\":{\"outlinewidth\":0,\"ticks\":\"\"},\"type\":\"contourcarpet\"}],\"contour\":[{\"colorbar\":{\"outlinewidth\":0,\"ticks\":\"\"},\"colorscale\":[[0.0,\"#0d0887\"],[0.1111111111111111,\"#46039f\"],[0.2222222222222222,\"#7201a8\"],[0.3333333333333333,\"#9c179e\"],[0.4444444444444444,\"#bd3786\"],[0.5555555555555556,\"#d8576b\"],[0.6666666666666666,\"#ed7953\"],[0.7777777777777778,\"#fb9f3a\"],[0.8888888888888888,\"#fdca26\"],[1.0,\"#f0f921\"]],\"type\":\"contour\"}],\"heatmapgl\":[{\"colorbar\":{\"outlinewidth\":0,\"ticks\":\"\"},\"colorscale\":[[0.0,\"#0d0887\"],[0.1111111111111111,\"#46039f\"],[0.2222222222222222,\"#7201a8\"],[0.3333333333333333,\"#9c179e\"],[0.4444444444444444,\"#bd3786\"],[0.5555555555555556,\"#d8576b\"],[0.6666666666666666,\"#ed7953\"],[0.7777777777777778,\"#fb9f3a\"],[0.8888888888888888,\"#fdca26\"],[1.0,\"#f0f921\"]],\"type\":\"heatmapgl\"}],\"heatmap\":[{\"colorbar\":{\"outlinewidth\":0,\"ticks\":\"\"},\"colorscale\":[[0.0,\"#0d0887\"],[0.1111111111111111,\"#46039f\"],[0.2222222222222222,\"#7201a8\"],[0.3333333333333333,\"#9c179e\"],[0.4444444444444444,\"#bd3786\"],[0.5555555555555556,\"#d8576b\"],[0.6666666666666666,\"#ed7953\"],[0.7777777777777778,\"#fb9f3a\"],[0.8888888888888888,\"#fdca26\"],[1.0,\"#f0f921\"]],\"type\":\"heatmap\"}],\"histogram2dcontour\":[{\"colorbar\":{\"outlinewidth\":0,\"ticks\":\"\"},\"colorscale\":[[0.0,\"#0d0887\"],[0.1111111111111111,\"#46039f\"],[0.2222222222222222,\"#7201a8\"],[0.3333333333333333,\"#9c179e\"],[0.4444444444444444,\"#bd3786\"],[0.5555555555555556,\"#d8576b\"],[0.6666666666666666,\"#ed7953\"],[0.7777777777777778,\"#fb9f3a\"],[0.8888888888888888,\"#fdca26\"],[1.0,\"#f0f921\"]],\"type\":\"histogram2dcontour\"}],\"histogram2d\":[{\"colorbar\":{\"outlinewidth\":0,\"ticks\":\"\"},\"colorscale\":[[0.0,\"#0d0887\"],[0.1111111111111111,\"#46039f\"],[0.2222222222222222,\"#7201a8\"],[0.3333333333333333,\"#9c179e\"],[0.4444444444444444,\"#bd3786\"],[0.5555555555555556,\"#d8576b\"],[0.6666666666666666,\"#ed7953\"],[0.7777777777777778,\"#fb9f3a\"],[0.8888888888888888,\"#fdca26\"],[1.0,\"#f0f921\"]],\"type\":\"histogram2d\"}],\"histogram\":[{\"marker\":{\"pattern\":{\"fillmode\":\"overlay\",\"size\":10,\"solidity\":0.2}},\"type\":\"histogram\"}],\"mesh3d\":[{\"colorbar\":{\"outlinewidth\":0,\"ticks\":\"\"},\"type\":\"mesh3d\"}],\"parcoords\":[{\"line\":{\"colorbar\":{\"outlinewidth\":0,\"ticks\":\"\"}},\"type\":\"parcoords\"}],\"pie\":[{\"automargin\":true,\"type\":\"pie\"}],\"scatter3d\":[{\"line\":{\"colorbar\":{\"outlinewidth\":0,\"ticks\":\"\"}},\"marker\":{\"colorbar\":{\"outlinewidth\":0,\"ticks\":\"\"}},\"type\":\"scatter3d\"}],\"scattercarpet\":[{\"marker\":{\"colorbar\":{\"outlinewidth\":0,\"ticks\":\"\"}},\"type\":\"scattercarpet\"}],\"scattergeo\":[{\"marker\":{\"colorbar\":{\"outlinewidth\":0,\"ticks\":\"\"}},\"type\":\"scattergeo\"}],\"scattergl\":[{\"marker\":{\"colorbar\":{\"outlinewidth\":0,\"ticks\":\"\"}},\"type\":\"scattergl\"}],\"scattermapbox\":[{\"marker\":{\"colorbar\":{\"outlinewidth\":0,\"ticks\":\"\"}},\"type\":\"scattermapbox\"}],\"scatterpolargl\":[{\"marker\":{\"colorbar\":{\"outlinewidth\":0,\"ticks\":\"\"}},\"type\":\"scatterpolargl\"}],\"scatterpolar\":[{\"marker\":{\"colorbar\":{\"outlinewidth\":0,\"ticks\":\"\"}},\"type\":\"scatterpolar\"}],\"scatter\":[{\"fillpattern\":{\"fillmode\":\"overlay\",\"size\":10,\"solidity\":0.2},\"type\":\"scatter\"}],\"scatterternary\":[{\"marker\":{\"colorbar\":{\"outlinewidth\":0,\"ticks\":\"\"}},\"type\":\"scatterternary\"}],\"surface\":[{\"colorbar\":{\"outlinewidth\":0,\"ticks\":\"\"},\"colorscale\":[[0.0,\"#0d0887\"],[0.1111111111111111,\"#46039f\"],[0.2222222222222222,\"#7201a8\"],[0.3333333333333333,\"#9c179e\"],[0.4444444444444444,\"#bd3786\"],[0.5555555555555556,\"#d8576b\"],[0.6666666666666666,\"#ed7953\"],[0.7777777777777778,\"#fb9f3a\"],[0.8888888888888888,\"#fdca26\"],[1.0,\"#f0f921\"]],\"type\":\"surface\"}],\"table\":[{\"cells\":{\"fill\":{\"color\":\"#EBF0F8\"},\"line\":{\"color\":\"white\"}},\"header\":{\"fill\":{\"color\":\"#C8D4E3\"},\"line\":{\"color\":\"white\"}},\"type\":\"table\"}]},\"layout\":{\"annotationdefaults\":{\"arrowcolor\":\"#2a3f5f\",\"arrowhead\":0,\"arrowwidth\":1},\"autotypenumbers\":\"strict\",\"coloraxis\":{\"colorbar\":{\"outlinewidth\":0,\"ticks\":\"\"}},\"colorscale\":{\"diverging\":[[0,\"#8e0152\"],[0.1,\"#c51b7d\"],[0.2,\"#de77ae\"],[0.3,\"#f1b6da\"],[0.4,\"#fde0ef\"],[0.5,\"#f7f7f7\"],[0.6,\"#e6f5d0\"],[0.7,\"#b8e186\"],[0.8,\"#7fbc41\"],[0.9,\"#4d9221\"],[1,\"#276419\"]],\"sequential\":[[0.0,\"#0d0887\"],[0.1111111111111111,\"#46039f\"],[0.2222222222222222,\"#7201a8\"],[0.3333333333333333,\"#9c179e\"],[0.4444444444444444,\"#bd3786\"],[0.5555555555555556,\"#d8576b\"],[0.6666666666666666,\"#ed7953\"],[0.7777777777777778,\"#fb9f3a\"],[0.8888888888888888,\"#fdca26\"],[1.0,\"#f0f921\"]],\"sequentialminus\":[[0.0,\"#0d0887\"],[0.1111111111111111,\"#46039f\"],[0.2222222222222222,\"#7201a8\"],[0.3333333333333333,\"#9c179e\"],[0.4444444444444444,\"#bd3786\"],[0.5555555555555556,\"#d8576b\"],[0.6666666666666666,\"#ed7953\"],[0.7777777777777778,\"#fb9f3a\"],[0.8888888888888888,\"#fdca26\"],[1.0,\"#f0f921\"]]},\"colorway\":[\"#636efa\",\"#EF553B\",\"#00cc96\",\"#ab63fa\",\"#FFA15A\",\"#19d3f3\",\"#FF6692\",\"#B6E880\",\"#FF97FF\",\"#FECB52\"],\"font\":{\"color\":\"#2a3f5f\"},\"geo\":{\"bgcolor\":\"white\",\"lakecolor\":\"white\",\"landcolor\":\"white\",\"showlakes\":true,\"showland\":true,\"subunitcolor\":\"#C8D4E3\"},\"hoverlabel\":{\"align\":\"left\"},\"hovermode\":\"closest\",\"mapbox\":{\"style\":\"light\"},\"paper_bgcolor\":\"white\",\"plot_bgcolor\":\"white\",\"polar\":{\"angularaxis\":{\"gridcolor\":\"#EBF0F8\",\"linecolor\":\"#EBF0F8\",\"ticks\":\"\"},\"bgcolor\":\"white\",\"radialaxis\":{\"gridcolor\":\"#EBF0F8\",\"linecolor\":\"#EBF0F8\",\"ticks\":\"\"}},\"scene\":{\"xaxis\":{\"backgroundcolor\":\"white\",\"gridcolor\":\"#DFE8F3\",\"gridwidth\":2,\"linecolor\":\"#EBF0F8\",\"showbackground\":true,\"ticks\":\"\",\"zerolinecolor\":\"#EBF0F8\"},\"yaxis\":{\"backgroundcolor\":\"white\",\"gridcolor\":\"#DFE8F3\",\"gridwidth\":2,\"linecolor\":\"#EBF0F8\",\"showbackground\":true,\"ticks\":\"\",\"zerolinecolor\":\"#EBF0F8\"},\"zaxis\":{\"backgroundcolor\":\"white\",\"gridcolor\":\"#DFE8F3\",\"gridwidth\":2,\"linecolor\":\"#EBF0F8\",\"showbackground\":true,\"ticks\":\"\",\"zerolinecolor\":\"#EBF0F8\"}},\"shapedefaults\":{\"line\":{\"color\":\"#2a3f5f\"}},\"ternary\":{\"aaxis\":{\"gridcolor\":\"#DFE8F3\",\"linecolor\":\"#A2B1C6\",\"ticks\":\"\"},\"baxis\":{\"gridcolor\":\"#DFE8F3\",\"linecolor\":\"#A2B1C6\",\"ticks\":\"\"},\"bgcolor\":\"white\",\"caxis\":{\"gridcolor\":\"#DFE8F3\",\"linecolor\":\"#A2B1C6\",\"ticks\":\"\"}},\"title\":{\"x\":0.05},\"xaxis\":{\"automargin\":true,\"gridcolor\":\"#EBF0F8\",\"linecolor\":\"#EBF0F8\",\"ticks\":\"\",\"title\":{\"standoff\":15},\"zerolinecolor\":\"#EBF0F8\",\"zerolinewidth\":2},\"yaxis\":{\"automargin\":true,\"gridcolor\":\"#EBF0F8\",\"linecolor\":\"#EBF0F8\",\"ticks\":\"\",\"title\":{\"standoff\":15},\"zerolinecolor\":\"#EBF0F8\",\"zerolinewidth\":2}}},\"xaxis\":{\"anchor\":\"y\",\"domain\":[0.0,1.0],\"title\":{\"text\":\"\"},\"categoryorder\":\"array\",\"categoryarray\":[\"Czech\",\"Denmark\",\"Great Britain\",\"Hungary\",\"Italy\",\"Netherlands\",\"Norway\",\"Portugal\",\"Spain\"]},\"yaxis\":{\"anchor\":\"x\",\"domain\":[0.0,1.0],\"title\":{\"text\":\"Total de ventas\\u002fcantidad\"}},\"legend\":{\"title\":{\"text\":\"COUNTRY\"},\"tracegroupgap\":0},\"margin\":{\"t\":60},\"barmode\":\"relative\",\"height\":700,\"width\":1100,\"title\":{\"text\":\"Ventas\\u002fCantidad total por pa\\u00eds\",\"font\":{\"size\":24,\"color\":\"black\",\"family\":\"Arial\"}},\"font\":{\"size\":16,\"color\":\"black\",\"family\":\"Arial\"},\"showlegend\":false},                        {\"responsive\": true}                    ).then(function(){\n",
              "                            \n",
              "var gd = document.getElementById('f2063c18-61d2-402d-b8f3-6f6068495158');\n",
              "var x = new MutationObserver(function (mutations, observer) {{\n",
              "        var display = window.getComputedStyle(gd).display;\n",
              "        if (!display || display === 'none') {{\n",
              "            console.log([gd, 'removed!']);\n",
              "            Plotly.purge(gd);\n",
              "            observer.disconnect();\n",
              "        }}\n",
              "}});\n",
              "\n",
              "// Listen for the removal of the full notebook cells\n",
              "var notebookContainer = gd.closest('#notebook-container');\n",
              "if (notebookContainer) {{\n",
              "    x.observe(notebookContainer, {childList: true});\n",
              "}}\n",
              "\n",
              "// Listen for the clearing of the current output cell\n",
              "var outputEl = gd.closest('.output');\n",
              "if (outputEl) {{\n",
              "    x.observe(outputEl, {childList: true});\n",
              "}}\n",
              "\n",
              "                        })                };                            </script>        </div>\n",
              "</body>\n",
              "</html>"
            ]
          },
          "metadata": {}
        }
      ]
    },
    {
      "cell_type": "markdown",
      "source": [
        "# Distriución de ventas según mes y año."
      ],
      "metadata": {
        "id": "GhwDlBnn9n5K"
      }
    },
    {
      "cell_type": "code",
      "source": [
        "# Número de combinaciones distintas de mes y año. Si lo conocemos sabremos\n",
        "# cuántos puntos temporales necesitará nuestra gráfica.\n",
        "combinaciones = data[['YEAR', 'MONTH']].drop_duplicates().values.tolist()\n",
        "print(len(combinaciones))"
      ],
      "metadata": {
        "colab": {
          "base_uri": "https://localhost:8080/"
        },
        "id": "B-G-lx3J9nYm",
        "outputId": "e34e62a6-717a-4f87-e7db-03b298f7909d"
      },
      "execution_count": 16,
      "outputs": [
        {
          "output_type": "stream",
          "name": "stdout",
          "text": [
            "29\n"
          ]
        }
      ]
    },
    {
      "cell_type": "code",
      "source": [
        "data['copia_Marca'] = data['SUBBRAND']\n",
        "Marca = data[data['SCENARIO'] == 'actual'].groupby('copia_Marca').apply(lambda x: x.sort_values(['YEAR', 'MONTH']),\n",
        "       include_groups=False).reset_index(drop=True)\n",
        "Marca.drop(columns=['COUNTRY','SCENARIO','FORECAST', 'FORECAST_YEAR'], inplace=True)\n",
        "data.drop(columns=['copia_Marca'], inplace=True)\n",
        "print(Marca)"
      ],
      "metadata": {
        "colab": {
          "base_uri": "https://localhost:8080/"
        },
        "id": "H0Ag8E-u22be",
        "outputId": "9749a320-60d6-4362-9ea3-9230502aefcd"
      },
      "execution_count": 17,
      "outputs": [
        {
          "output_type": "stream",
          "name": "stdout",
          "text": [
            "               SUBBRAND  YEAR  MONTH         AMOUNT\n",
            "0              7up (L3)  2023      1   64640.338704\n",
            "1              7up (L3)  2023      1   10681.570661\n",
            "2              7up (L3)  2023      1  146982.143738\n",
            "3              7up (L3)  2023      1   78971.969596\n",
            "4              7up (L3)  2023      1    1485.703014\n",
            "..                  ...   ...    ...            ...\n",
            "895  Pepsi Regular (L3)  2024      8  376188.333462\n",
            "896  Pepsi Regular (L3)  2024      8  335232.153177\n",
            "897  Pepsi Regular (L3)  2024      8  981788.232725\n",
            "898  Pepsi Regular (L3)  2024      8  118063.302642\n",
            "899  Pepsi Regular (L3)  2024      8  985290.247476\n",
            "\n",
            "[900 rows x 4 columns]\n"
          ]
        }
      ]
    },
    {
      "cell_type": "code",
      "source": [
        "# Sumamos el amount de aquellos productos que tengan la misma fecha de actual.\n",
        "Marca = Marca.groupby(['YEAR', 'MONTH', 'SUBBRAND'])['AMOUNT'].sum().reset_index()\n",
        "Marca['YEAR_MONTH'] = pd.to_datetime(Marca[['YEAR', 'MONTH']].assign(DAY=1))\n",
        "print(Marca)"
      ],
      "metadata": {
        "colab": {
          "base_uri": "https://localhost:8080/"
        },
        "id": "3EB7fC2XySAD",
        "outputId": "4e1034bd-2a87-4e0d-cb3d-f2f3799befab"
      },
      "execution_count": 18,
      "outputs": [
        {
          "output_type": "stream",
          "name": "stdout",
          "text": [
            "     YEAR  MONTH            SUBBRAND        AMOUNT YEAR_MONTH\n",
            "0    2023      1            7up (L3)  7.411262e+05 2023-01-01\n",
            "1    2023      1       7up Free (L3)  1.308115e+06 2023-01-01\n",
            "2    2023      1         Lipton (L3)  3.399210e+06 2023-01-01\n",
            "3    2023      1   Mountain Dew (L3)  2.883267e+05 2023-01-01\n",
            "4    2023      1      Pepsi Max (L3)  1.485655e+07 2023-01-01\n",
            "..    ...    ...                 ...           ...        ...\n",
            "115  2024      8       7up Free (L3)  2.218120e+06 2024-08-01\n",
            "116  2024      8         Lipton (L3)  4.825935e+06 2024-08-01\n",
            "117  2024      8   Mountain Dew (L3)  4.248439e+05 2024-08-01\n",
            "118  2024      8      Pepsi Max (L3)  2.273393e+07 2024-08-01\n",
            "119  2024      8  Pepsi Regular (L3)  7.192413e+06 2024-08-01\n",
            "\n",
            "[120 rows x 5 columns]\n"
          ]
        }
      ]
    },
    {
      "cell_type": "code",
      "source": [
        "# Representamos las ventas de cada empresa en función del tiempo.\n",
        "fig = px.line(Marca,\n",
        "              x='YEAR_MONTH',\n",
        "              y='AMOUNT',\n",
        "              color='SUBBRAND',\n",
        "              symbol=\"SUBBRAND\",\n",
        "              color_discrete_sequence=px.colors.qualitative.Safe,\n",
        "              template=\"plotly_white\",\n",
        "              labels = {'AMOUNT':'Cantidad', 'YEAR_MONTH':'','SUBBRAND':'MARCA'},\n",
        "              title='Ventas en función del tiempo')\n",
        "\n",
        "fig.update_layout(\n",
        "    title_font=dict(size=24, color=\"black\", family=\"Arial\"),\n",
        "    font=dict(size=16, color=\"black\", family=\"Arial\"),\n",
        ")\n",
        "fig.show()"
      ],
      "metadata": {
        "colab": {
          "base_uri": "https://localhost:8080/",
          "height": 542
        },
        "id": "XAgQ5wp8yxou",
        "outputId": "99d366d2-fee4-4ec6-b938-7af747d7dea3"
      },
      "execution_count": 44,
      "outputs": [
        {
          "output_type": "display_data",
          "data": {
            "text/html": [
              "<html>\n",
              "<head><meta charset=\"utf-8\" /></head>\n",
              "<body>\n",
              "    <div>            <script src=\"https://cdnjs.cloudflare.com/ajax/libs/mathjax/2.7.5/MathJax.js?config=TeX-AMS-MML_SVG\"></script><script type=\"text/javascript\">if (window.MathJax && window.MathJax.Hub && window.MathJax.Hub.Config) {window.MathJax.Hub.Config({SVG: {font: \"STIX-Web\"}});}</script>                <script type=\"text/javascript\">window.PlotlyConfig = {MathJaxConfig: 'local'};</script>\n",
              "        <script charset=\"utf-8\" src=\"https://cdn.plot.ly/plotly-2.35.2.min.js\"></script>                <div id=\"66f3be15-3ec8-47c4-a020-0e5c8d1cde0e\" class=\"plotly-graph-div\" style=\"height:525px; width:100%;\"></div>            <script type=\"text/javascript\">                                    window.PLOTLYENV=window.PLOTLYENV || {};                                    if (document.getElementById(\"66f3be15-3ec8-47c4-a020-0e5c8d1cde0e\")) {                    Plotly.newPlot(                        \"66f3be15-3ec8-47c4-a020-0e5c8d1cde0e\",                        [{\"hovertemplate\":\"MARCA=7up (L3)\\u003cbr\\u003e=%{x}\\u003cbr\\u003eCantidad=%{y}\\u003cextra\\u003e\\u003c\\u002fextra\\u003e\",\"legendgroup\":\"7up (L3)\",\"line\":{\"color\":\"rgb(136, 204, 238)\",\"dash\":\"solid\"},\"marker\":{\"symbol\":\"circle\"},\"mode\":\"lines+markers\",\"name\":\"7up (L3)\",\"orientation\":\"v\",\"showlegend\":true,\"x\":[\"2023-01-01T00:00:00\",\"2023-02-01T00:00:00\",\"2023-03-01T00:00:00\",\"2023-04-01T00:00:00\",\"2023-05-01T00:00:00\",\"2023-06-01T00:00:00\",\"2023-07-01T00:00:00\",\"2023-08-01T00:00:00\",\"2023-09-01T00:00:00\",\"2023-10-01T00:00:00\",\"2023-11-01T00:00:00\",\"2023-12-01T00:00:00\",\"2024-01-01T00:00:00\",\"2024-02-01T00:00:00\",\"2024-03-01T00:00:00\",\"2024-04-01T00:00:00\",\"2024-05-01T00:00:00\",\"2024-06-01T00:00:00\",\"2024-07-01T00:00:00\",\"2024-08-01T00:00:00\"],\"xaxis\":\"x\",\"y\":[741126.2195938092,704156.5570998852,846298.8756986468,839424.6387584375,1035666.3825510627,1168746.9843074821,1244699.0663929258,1246907.704134643,961985.7079963087,893193.1267496989,764230.316840433,893265.8091333923,777655.858636133,774340.1519115128,818093.2766178242,847592.9850227558,1006827.196360769,980115.221675477,1064826.82451234,1159361.663702068],\"yaxis\":\"y\",\"type\":\"scatter\"},{\"hovertemplate\":\"MARCA=7up Free (L3)\\u003cbr\\u003e=%{x}\\u003cbr\\u003eCantidad=%{y}\\u003cextra\\u003e\\u003c\\u002fextra\\u003e\",\"legendgroup\":\"7up Free (L3)\",\"line\":{\"color\":\"rgb(204, 102, 119)\",\"dash\":\"solid\"},\"marker\":{\"symbol\":\"diamond\"},\"mode\":\"lines+markers\",\"name\":\"7up Free (L3)\",\"orientation\":\"v\",\"showlegend\":true,\"x\":[\"2023-01-01T00:00:00\",\"2023-02-01T00:00:00\",\"2023-03-01T00:00:00\",\"2023-04-01T00:00:00\",\"2023-05-01T00:00:00\",\"2023-06-01T00:00:00\",\"2023-07-01T00:00:00\",\"2023-08-01T00:00:00\",\"2023-09-01T00:00:00\",\"2023-10-01T00:00:00\",\"2023-11-01T00:00:00\",\"2023-12-01T00:00:00\",\"2024-01-01T00:00:00\",\"2024-02-01T00:00:00\",\"2024-03-01T00:00:00\",\"2024-04-01T00:00:00\",\"2024-05-01T00:00:00\",\"2024-06-01T00:00:00\",\"2024-07-01T00:00:00\",\"2024-08-01T00:00:00\"],\"xaxis\":\"x\",\"y\":[1308114.5062098019,1320526.1988122833,1704413.9577450815,1603991.817444716,1843327.4474267715,2004753.217850539,2171817.7187261805,1924541.2194017214,1780355.3665767193,1618881.758755486,1485241.6595156123,1555995.8722110486,1337362.7602403965,1267755.173639039,1610298.5858034,1712813.5616556644,1842466.510799349,1916182.3153860809,2049339.555891737,2218119.746271655],\"yaxis\":\"y\",\"type\":\"scatter\"},{\"hovertemplate\":\"MARCA=Lipton (L3)\\u003cbr\\u003e=%{x}\\u003cbr\\u003eCantidad=%{y}\\u003cextra\\u003e\\u003c\\u002fextra\\u003e\",\"legendgroup\":\"Lipton (L3)\",\"line\":{\"color\":\"rgb(221, 204, 119)\",\"dash\":\"solid\"},\"marker\":{\"symbol\":\"square\"},\"mode\":\"lines+markers\",\"name\":\"Lipton (L3)\",\"orientation\":\"v\",\"showlegend\":true,\"x\":[\"2023-01-01T00:00:00\",\"2023-02-01T00:00:00\",\"2023-03-01T00:00:00\",\"2023-04-01T00:00:00\",\"2023-05-01T00:00:00\",\"2023-06-01T00:00:00\",\"2023-07-01T00:00:00\",\"2023-08-01T00:00:00\",\"2023-09-01T00:00:00\",\"2023-10-01T00:00:00\",\"2023-11-01T00:00:00\",\"2023-12-01T00:00:00\",\"2024-01-01T00:00:00\",\"2024-02-01T00:00:00\",\"2024-03-01T00:00:00\",\"2024-04-01T00:00:00\",\"2024-05-01T00:00:00\",\"2024-06-01T00:00:00\",\"2024-07-01T00:00:00\",\"2024-08-01T00:00:00\"],\"xaxis\":\"x\",\"y\":[3399210.150542785,2382211.9310616893,4228475.459549992,3204295.6208965294,2983943.7417085236,4858290.2694139965,4716942.294522959,5187959.776410302,2788573.935951336,3773552.321309527,3042503.3674841505,3204757.198254571,2634821.649695075,2762567.3533371966,3052483.9194812365,3435835.559318036,3770765.408268942,4241625.090699024,4370403.166893262,4825934.635055255],\"yaxis\":\"y\",\"type\":\"scatter\"},{\"hovertemplate\":\"MARCA=Mountain Dew (L3)\\u003cbr\\u003e=%{x}\\u003cbr\\u003eCantidad=%{y}\\u003cextra\\u003e\\u003c\\u002fextra\\u003e\",\"legendgroup\":\"Mountain Dew (L3)\",\"line\":{\"color\":\"rgb(17, 119, 51)\",\"dash\":\"solid\"},\"marker\":{\"symbol\":\"x\"},\"mode\":\"lines+markers\",\"name\":\"Mountain Dew (L3)\",\"orientation\":\"v\",\"showlegend\":true,\"x\":[\"2023-01-01T00:00:00\",\"2023-02-01T00:00:00\",\"2023-03-01T00:00:00\",\"2023-04-01T00:00:00\",\"2023-05-01T00:00:00\",\"2023-06-01T00:00:00\",\"2023-07-01T00:00:00\",\"2023-08-01T00:00:00\",\"2023-09-01T00:00:00\",\"2023-10-01T00:00:00\",\"2023-11-01T00:00:00\",\"2023-12-01T00:00:00\",\"2024-01-01T00:00:00\",\"2024-02-01T00:00:00\",\"2024-03-01T00:00:00\",\"2024-04-01T00:00:00\",\"2024-05-01T00:00:00\",\"2024-06-01T00:00:00\",\"2024-07-01T00:00:00\",\"2024-08-01T00:00:00\"],\"xaxis\":\"x\",\"y\":[288326.66093707073,273631.52240530314,394356.48700626264,332209.93244245264,495651.96566872485,412288.7645910971,403009.3576703205,380342.58447091636,367751.273872338,336578.92227797233,366421.5605531409,314170.6953021268,295520.4547364268,348896.24361056124,384656.7826551746,370644.0784009496,439523.227758487,405097.773558853,440468.737892118,424843.93073763803],\"yaxis\":\"y\",\"type\":\"scatter\"},{\"hovertemplate\":\"MARCA=Pepsi Max (L3)\\u003cbr\\u003e=%{x}\\u003cbr\\u003eCantidad=%{y}\\u003cextra\\u003e\\u003c\\u002fextra\\u003e\",\"legendgroup\":\"Pepsi Max (L3)\",\"line\":{\"color\":\"rgb(51, 34, 136)\",\"dash\":\"solid\"},\"marker\":{\"symbol\":\"cross\"},\"mode\":\"lines+markers\",\"name\":\"Pepsi Max (L3)\",\"orientation\":\"v\",\"showlegend\":true,\"x\":[\"2023-01-01T00:00:00\",\"2023-02-01T00:00:00\",\"2023-03-01T00:00:00\",\"2023-04-01T00:00:00\",\"2023-05-01T00:00:00\",\"2023-06-01T00:00:00\",\"2023-07-01T00:00:00\",\"2023-08-01T00:00:00\",\"2023-09-01T00:00:00\",\"2023-10-01T00:00:00\",\"2023-11-01T00:00:00\",\"2023-12-01T00:00:00\",\"2024-01-01T00:00:00\",\"2024-02-01T00:00:00\",\"2024-03-01T00:00:00\",\"2024-04-01T00:00:00\",\"2024-05-01T00:00:00\",\"2024-06-01T00:00:00\",\"2024-07-01T00:00:00\",\"2024-08-01T00:00:00\"],\"xaxis\":\"x\",\"y\":[14856548.128605943,15463315.96725677,20873551.914991353,17934944.15249419,22325446.036569193,21328548.8814003,18368657.109468464,21608180.963240135,19652280.390064318,18626907.831478518,20722021.60754396,21701863.908770297,15624249.97952067,18256940.63911945,21254343.204710368,20238337.23987266,23110133.530175477,21238809.837675165,20779660.905810736,22733928.40504956],\"yaxis\":\"y\",\"type\":\"scatter\"},{\"hovertemplate\":\"MARCA=Pepsi Regular (L3)\\u003cbr\\u003e=%{x}\\u003cbr\\u003eCantidad=%{y}\\u003cextra\\u003e\\u003c\\u002fextra\\u003e\",\"legendgroup\":\"Pepsi Regular (L3)\",\"line\":{\"color\":\"rgb(170, 68, 153)\",\"dash\":\"solid\"},\"marker\":{\"symbol\":\"circle\"},\"mode\":\"lines+markers\",\"name\":\"Pepsi Regular (L3)\",\"orientation\":\"v\",\"showlegend\":true,\"x\":[\"2023-01-01T00:00:00\",\"2023-02-01T00:00:00\",\"2023-03-01T00:00:00\",\"2023-04-01T00:00:00\",\"2023-05-01T00:00:00\",\"2023-06-01T00:00:00\",\"2023-07-01T00:00:00\",\"2023-08-01T00:00:00\",\"2023-09-01T00:00:00\",\"2023-10-01T00:00:00\",\"2023-11-01T00:00:00\",\"2023-12-01T00:00:00\",\"2024-01-01T00:00:00\",\"2024-02-01T00:00:00\",\"2024-03-01T00:00:00\",\"2024-04-01T00:00:00\",\"2024-05-01T00:00:00\",\"2024-06-01T00:00:00\",\"2024-07-01T00:00:00\",\"2024-08-01T00:00:00\"],\"xaxis\":\"x\",\"y\":[7495474.176311878,5960531.399477292,7884536.941011637,6942384.434413514,8218410.920301037,7827363.267069735,7127141.995042374,7826835.663979451,6380214.847097808,6200069.116219806,6523773.345204347,7161683.832293537,6221301.429466267,6479530.248697774,7377612.469294943,7093978.736550224,6602920.177329828,6305799.601206019,7008687.484501916,7192412.70237332],\"yaxis\":\"y\",\"type\":\"scatter\"}],                        {\"template\":{\"data\":{\"barpolar\":[{\"marker\":{\"line\":{\"color\":\"white\",\"width\":0.5},\"pattern\":{\"fillmode\":\"overlay\",\"size\":10,\"solidity\":0.2}},\"type\":\"barpolar\"}],\"bar\":[{\"error_x\":{\"color\":\"#2a3f5f\"},\"error_y\":{\"color\":\"#2a3f5f\"},\"marker\":{\"line\":{\"color\":\"white\",\"width\":0.5},\"pattern\":{\"fillmode\":\"overlay\",\"size\":10,\"solidity\":0.2}},\"type\":\"bar\"}],\"carpet\":[{\"aaxis\":{\"endlinecolor\":\"#2a3f5f\",\"gridcolor\":\"#C8D4E3\",\"linecolor\":\"#C8D4E3\",\"minorgridcolor\":\"#C8D4E3\",\"startlinecolor\":\"#2a3f5f\"},\"baxis\":{\"endlinecolor\":\"#2a3f5f\",\"gridcolor\":\"#C8D4E3\",\"linecolor\":\"#C8D4E3\",\"minorgridcolor\":\"#C8D4E3\",\"startlinecolor\":\"#2a3f5f\"},\"type\":\"carpet\"}],\"choropleth\":[{\"colorbar\":{\"outlinewidth\":0,\"ticks\":\"\"},\"type\":\"choropleth\"}],\"contourcarpet\":[{\"colorbar\":{\"outlinewidth\":0,\"ticks\":\"\"},\"type\":\"contourcarpet\"}],\"contour\":[{\"colorbar\":{\"outlinewidth\":0,\"ticks\":\"\"},\"colorscale\":[[0.0,\"#0d0887\"],[0.1111111111111111,\"#46039f\"],[0.2222222222222222,\"#7201a8\"],[0.3333333333333333,\"#9c179e\"],[0.4444444444444444,\"#bd3786\"],[0.5555555555555556,\"#d8576b\"],[0.6666666666666666,\"#ed7953\"],[0.7777777777777778,\"#fb9f3a\"],[0.8888888888888888,\"#fdca26\"],[1.0,\"#f0f921\"]],\"type\":\"contour\"}],\"heatmapgl\":[{\"colorbar\":{\"outlinewidth\":0,\"ticks\":\"\"},\"colorscale\":[[0.0,\"#0d0887\"],[0.1111111111111111,\"#46039f\"],[0.2222222222222222,\"#7201a8\"],[0.3333333333333333,\"#9c179e\"],[0.4444444444444444,\"#bd3786\"],[0.5555555555555556,\"#d8576b\"],[0.6666666666666666,\"#ed7953\"],[0.7777777777777778,\"#fb9f3a\"],[0.8888888888888888,\"#fdca26\"],[1.0,\"#f0f921\"]],\"type\":\"heatmapgl\"}],\"heatmap\":[{\"colorbar\":{\"outlinewidth\":0,\"ticks\":\"\"},\"colorscale\":[[0.0,\"#0d0887\"],[0.1111111111111111,\"#46039f\"],[0.2222222222222222,\"#7201a8\"],[0.3333333333333333,\"#9c179e\"],[0.4444444444444444,\"#bd3786\"],[0.5555555555555556,\"#d8576b\"],[0.6666666666666666,\"#ed7953\"],[0.7777777777777778,\"#fb9f3a\"],[0.8888888888888888,\"#fdca26\"],[1.0,\"#f0f921\"]],\"type\":\"heatmap\"}],\"histogram2dcontour\":[{\"colorbar\":{\"outlinewidth\":0,\"ticks\":\"\"},\"colorscale\":[[0.0,\"#0d0887\"],[0.1111111111111111,\"#46039f\"],[0.2222222222222222,\"#7201a8\"],[0.3333333333333333,\"#9c179e\"],[0.4444444444444444,\"#bd3786\"],[0.5555555555555556,\"#d8576b\"],[0.6666666666666666,\"#ed7953\"],[0.7777777777777778,\"#fb9f3a\"],[0.8888888888888888,\"#fdca26\"],[1.0,\"#f0f921\"]],\"type\":\"histogram2dcontour\"}],\"histogram2d\":[{\"colorbar\":{\"outlinewidth\":0,\"ticks\":\"\"},\"colorscale\":[[0.0,\"#0d0887\"],[0.1111111111111111,\"#46039f\"],[0.2222222222222222,\"#7201a8\"],[0.3333333333333333,\"#9c179e\"],[0.4444444444444444,\"#bd3786\"],[0.5555555555555556,\"#d8576b\"],[0.6666666666666666,\"#ed7953\"],[0.7777777777777778,\"#fb9f3a\"],[0.8888888888888888,\"#fdca26\"],[1.0,\"#f0f921\"]],\"type\":\"histogram2d\"}],\"histogram\":[{\"marker\":{\"pattern\":{\"fillmode\":\"overlay\",\"size\":10,\"solidity\":0.2}},\"type\":\"histogram\"}],\"mesh3d\":[{\"colorbar\":{\"outlinewidth\":0,\"ticks\":\"\"},\"type\":\"mesh3d\"}],\"parcoords\":[{\"line\":{\"colorbar\":{\"outlinewidth\":0,\"ticks\":\"\"}},\"type\":\"parcoords\"}],\"pie\":[{\"automargin\":true,\"type\":\"pie\"}],\"scatter3d\":[{\"line\":{\"colorbar\":{\"outlinewidth\":0,\"ticks\":\"\"}},\"marker\":{\"colorbar\":{\"outlinewidth\":0,\"ticks\":\"\"}},\"type\":\"scatter3d\"}],\"scattercarpet\":[{\"marker\":{\"colorbar\":{\"outlinewidth\":0,\"ticks\":\"\"}},\"type\":\"scattercarpet\"}],\"scattergeo\":[{\"marker\":{\"colorbar\":{\"outlinewidth\":0,\"ticks\":\"\"}},\"type\":\"scattergeo\"}],\"scattergl\":[{\"marker\":{\"colorbar\":{\"outlinewidth\":0,\"ticks\":\"\"}},\"type\":\"scattergl\"}],\"scattermapbox\":[{\"marker\":{\"colorbar\":{\"outlinewidth\":0,\"ticks\":\"\"}},\"type\":\"scattermapbox\"}],\"scatterpolargl\":[{\"marker\":{\"colorbar\":{\"outlinewidth\":0,\"ticks\":\"\"}},\"type\":\"scatterpolargl\"}],\"scatterpolar\":[{\"marker\":{\"colorbar\":{\"outlinewidth\":0,\"ticks\":\"\"}},\"type\":\"scatterpolar\"}],\"scatter\":[{\"fillpattern\":{\"fillmode\":\"overlay\",\"size\":10,\"solidity\":0.2},\"type\":\"scatter\"}],\"scatterternary\":[{\"marker\":{\"colorbar\":{\"outlinewidth\":0,\"ticks\":\"\"}},\"type\":\"scatterternary\"}],\"surface\":[{\"colorbar\":{\"outlinewidth\":0,\"ticks\":\"\"},\"colorscale\":[[0.0,\"#0d0887\"],[0.1111111111111111,\"#46039f\"],[0.2222222222222222,\"#7201a8\"],[0.3333333333333333,\"#9c179e\"],[0.4444444444444444,\"#bd3786\"],[0.5555555555555556,\"#d8576b\"],[0.6666666666666666,\"#ed7953\"],[0.7777777777777778,\"#fb9f3a\"],[0.8888888888888888,\"#fdca26\"],[1.0,\"#f0f921\"]],\"type\":\"surface\"}],\"table\":[{\"cells\":{\"fill\":{\"color\":\"#EBF0F8\"},\"line\":{\"color\":\"white\"}},\"header\":{\"fill\":{\"color\":\"#C8D4E3\"},\"line\":{\"color\":\"white\"}},\"type\":\"table\"}]},\"layout\":{\"annotationdefaults\":{\"arrowcolor\":\"#2a3f5f\",\"arrowhead\":0,\"arrowwidth\":1},\"autotypenumbers\":\"strict\",\"coloraxis\":{\"colorbar\":{\"outlinewidth\":0,\"ticks\":\"\"}},\"colorscale\":{\"diverging\":[[0,\"#8e0152\"],[0.1,\"#c51b7d\"],[0.2,\"#de77ae\"],[0.3,\"#f1b6da\"],[0.4,\"#fde0ef\"],[0.5,\"#f7f7f7\"],[0.6,\"#e6f5d0\"],[0.7,\"#b8e186\"],[0.8,\"#7fbc41\"],[0.9,\"#4d9221\"],[1,\"#276419\"]],\"sequential\":[[0.0,\"#0d0887\"],[0.1111111111111111,\"#46039f\"],[0.2222222222222222,\"#7201a8\"],[0.3333333333333333,\"#9c179e\"],[0.4444444444444444,\"#bd3786\"],[0.5555555555555556,\"#d8576b\"],[0.6666666666666666,\"#ed7953\"],[0.7777777777777778,\"#fb9f3a\"],[0.8888888888888888,\"#fdca26\"],[1.0,\"#f0f921\"]],\"sequentialminus\":[[0.0,\"#0d0887\"],[0.1111111111111111,\"#46039f\"],[0.2222222222222222,\"#7201a8\"],[0.3333333333333333,\"#9c179e\"],[0.4444444444444444,\"#bd3786\"],[0.5555555555555556,\"#d8576b\"],[0.6666666666666666,\"#ed7953\"],[0.7777777777777778,\"#fb9f3a\"],[0.8888888888888888,\"#fdca26\"],[1.0,\"#f0f921\"]]},\"colorway\":[\"#636efa\",\"#EF553B\",\"#00cc96\",\"#ab63fa\",\"#FFA15A\",\"#19d3f3\",\"#FF6692\",\"#B6E880\",\"#FF97FF\",\"#FECB52\"],\"font\":{\"color\":\"#2a3f5f\"},\"geo\":{\"bgcolor\":\"white\",\"lakecolor\":\"white\",\"landcolor\":\"white\",\"showlakes\":true,\"showland\":true,\"subunitcolor\":\"#C8D4E3\"},\"hoverlabel\":{\"align\":\"left\"},\"hovermode\":\"closest\",\"mapbox\":{\"style\":\"light\"},\"paper_bgcolor\":\"white\",\"plot_bgcolor\":\"white\",\"polar\":{\"angularaxis\":{\"gridcolor\":\"#EBF0F8\",\"linecolor\":\"#EBF0F8\",\"ticks\":\"\"},\"bgcolor\":\"white\",\"radialaxis\":{\"gridcolor\":\"#EBF0F8\",\"linecolor\":\"#EBF0F8\",\"ticks\":\"\"}},\"scene\":{\"xaxis\":{\"backgroundcolor\":\"white\",\"gridcolor\":\"#DFE8F3\",\"gridwidth\":2,\"linecolor\":\"#EBF0F8\",\"showbackground\":true,\"ticks\":\"\",\"zerolinecolor\":\"#EBF0F8\"},\"yaxis\":{\"backgroundcolor\":\"white\",\"gridcolor\":\"#DFE8F3\",\"gridwidth\":2,\"linecolor\":\"#EBF0F8\",\"showbackground\":true,\"ticks\":\"\",\"zerolinecolor\":\"#EBF0F8\"},\"zaxis\":{\"backgroundcolor\":\"white\",\"gridcolor\":\"#DFE8F3\",\"gridwidth\":2,\"linecolor\":\"#EBF0F8\",\"showbackground\":true,\"ticks\":\"\",\"zerolinecolor\":\"#EBF0F8\"}},\"shapedefaults\":{\"line\":{\"color\":\"#2a3f5f\"}},\"ternary\":{\"aaxis\":{\"gridcolor\":\"#DFE8F3\",\"linecolor\":\"#A2B1C6\",\"ticks\":\"\"},\"baxis\":{\"gridcolor\":\"#DFE8F3\",\"linecolor\":\"#A2B1C6\",\"ticks\":\"\"},\"bgcolor\":\"white\",\"caxis\":{\"gridcolor\":\"#DFE8F3\",\"linecolor\":\"#A2B1C6\",\"ticks\":\"\"}},\"title\":{\"x\":0.05},\"xaxis\":{\"automargin\":true,\"gridcolor\":\"#EBF0F8\",\"linecolor\":\"#EBF0F8\",\"ticks\":\"\",\"title\":{\"standoff\":15},\"zerolinecolor\":\"#EBF0F8\",\"zerolinewidth\":2},\"yaxis\":{\"automargin\":true,\"gridcolor\":\"#EBF0F8\",\"linecolor\":\"#EBF0F8\",\"ticks\":\"\",\"title\":{\"standoff\":15},\"zerolinecolor\":\"#EBF0F8\",\"zerolinewidth\":2}}},\"xaxis\":{\"anchor\":\"y\",\"domain\":[0.0,1.0],\"title\":{\"text\":\"\"}},\"yaxis\":{\"anchor\":\"x\",\"domain\":[0.0,1.0],\"title\":{\"text\":\"Cantidad\"}},\"legend\":{\"title\":{\"text\":\"MARCA\"},\"tracegroupgap\":0},\"title\":{\"text\":\"Ventas en funci\\u00f3n del tiempo\",\"font\":{\"size\":24,\"color\":\"black\",\"family\":\"Arial\"}},\"font\":{\"size\":16,\"color\":\"black\",\"family\":\"Arial\"}},                        {\"responsive\": true}                    ).then(function(){\n",
              "                            \n",
              "var gd = document.getElementById('66f3be15-3ec8-47c4-a020-0e5c8d1cde0e');\n",
              "var x = new MutationObserver(function (mutations, observer) {{\n",
              "        var display = window.getComputedStyle(gd).display;\n",
              "        if (!display || display === 'none') {{\n",
              "            console.log([gd, 'removed!']);\n",
              "            Plotly.purge(gd);\n",
              "            observer.disconnect();\n",
              "        }}\n",
              "}});\n",
              "\n",
              "// Listen for the removal of the full notebook cells\n",
              "var notebookContainer = gd.closest('#notebook-container');\n",
              "if (notebookContainer) {{\n",
              "    x.observe(notebookContainer, {childList: true});\n",
              "}}\n",
              "\n",
              "// Listen for the clearing of the current output cell\n",
              "var outputEl = gd.closest('.output');\n",
              "if (outputEl) {{\n",
              "    x.observe(outputEl, {childList: true});\n",
              "}}\n",
              "\n",
              "                        })                };                            </script>        </div>\n",
              "</body>\n",
              "</html>"
            ]
          },
          "metadata": {}
        }
      ]
    },
    {
      "cell_type": "markdown",
      "source": [
        "# Distribución de ventas según la marca."
      ],
      "metadata": {
        "id": "bazuzxs7A6O5"
      }
    },
    {
      "cell_type": "code",
      "source": [
        "MarcaTotal = data[data['SCENARIO'] == 'actual'].groupby('SUBBRAND')['AMOUNT'].sum().reset_index()\n",
        "print(MarcaTotal)"
      ],
      "metadata": {
        "colab": {
          "base_uri": "https://localhost:8080/"
        },
        "id": "HIxPPva1BAPl",
        "outputId": "8a539cc2-76c8-4f2b-ea5b-ae528bcf7c4d"
      },
      "execution_count": 19,
      "outputs": [
        {
          "output_type": "stream",
          "name": "stdout",
          "text": [
            "             SUBBRAND        AMOUNT\n",
            "0            7up (L3)  1.876851e+07\n",
            "1       7up Free (L3)  3.427630e+07\n",
            "2         Lipton (L3)  7.286515e+07\n",
            "3   Mountain Dew (L3)  7.474391e+06\n",
            "4      Pepsi Max (L3)  3.966987e+08\n",
            "5  Pepsi Regular (L3)  1.398307e+08\n"
          ]
        }
      ]
    },
    {
      "cell_type": "code",
      "source": [
        "fig = px.treemap(MarcaTotal,\n",
        "                 path=['SUBBRAND'],\n",
        "                 values='AMOUNT',\n",
        "                 title='Cuota de mercado',\n",
        "                 color_discrete_sequence=px.colors.qualitative.Safe,\n",
        "                 color_continuous_scale='Blues')\n",
        "\n",
        "fig.update_layout(\n",
        "    title_font=dict(size=24, color=\"black\", family=\"Arial\"),\n",
        "    font=dict(size=16, color=\"black\", family=\"Arial\"),\n",
        "    margin = dict(t=60, l=20, r=20, b=25))\n",
        "\n",
        "fig.show()"
      ],
      "metadata": {
        "colab": {
          "base_uri": "https://localhost:8080/",
          "height": 542
        },
        "id": "-Demj2OH553n",
        "outputId": "f5b0c6ff-ff54-402c-c277-fcf5d51042a4"
      },
      "execution_count": 74,
      "outputs": [
        {
          "output_type": "display_data",
          "data": {
            "text/html": [
              "<html>\n",
              "<head><meta charset=\"utf-8\" /></head>\n",
              "<body>\n",
              "    <div>            <script src=\"https://cdnjs.cloudflare.com/ajax/libs/mathjax/2.7.5/MathJax.js?config=TeX-AMS-MML_SVG\"></script><script type=\"text/javascript\">if (window.MathJax && window.MathJax.Hub && window.MathJax.Hub.Config) {window.MathJax.Hub.Config({SVG: {font: \"STIX-Web\"}});}</script>                <script type=\"text/javascript\">window.PlotlyConfig = {MathJaxConfig: 'local'};</script>\n",
              "        <script charset=\"utf-8\" src=\"https://cdn.plot.ly/plotly-2.35.2.min.js\"></script>                <div id=\"6d4292f9-cfe0-481c-b22f-da655fa4a1d5\" class=\"plotly-graph-div\" style=\"height:525px; width:100%;\"></div>            <script type=\"text/javascript\">                                    window.PLOTLYENV=window.PLOTLYENV || {};                                    if (document.getElementById(\"6d4292f9-cfe0-481c-b22f-da655fa4a1d5\")) {                    Plotly.newPlot(                        \"6d4292f9-cfe0-481c-b22f-da655fa4a1d5\",                        [{\"branchvalues\":\"total\",\"domain\":{\"x\":[0.0,1.0],\"y\":[0.0,1.0]},\"hovertemplate\":\"labels=%{label}\\u003cbr\\u003eAMOUNT=%{value}\\u003cbr\\u003eparent=%{parent}\\u003cbr\\u003eid=%{id}\\u003cextra\\u003e\\u003c\\u002fextra\\u003e\",\"ids\":[\"7up (L3)\",\"7up Free (L3)\",\"Lipton (L3)\",\"Mountain Dew (L3)\",\"Pepsi Max (L3)\",\"Pepsi Regular (L3)\"],\"labels\":[\"7up (L3)\",\"7up Free (L3)\",\"Lipton (L3)\",\"Mountain Dew (L3)\",\"Pepsi Max (L3)\",\"Pepsi Regular (L3)\"],\"name\":\"\",\"parents\":[\"\",\"\",\"\",\"\",\"\",\"\"],\"values\":[18768514.567695606,34276298.950363286,72865152.8498544,7474390.956547935,396698670.6338175,139830662.7878427],\"type\":\"treemap\"}],                        {\"template\":{\"data\":{\"histogram2dcontour\":[{\"type\":\"histogram2dcontour\",\"colorbar\":{\"outlinewidth\":0,\"ticks\":\"\"},\"colorscale\":[[0.0,\"#0d0887\"],[0.1111111111111111,\"#46039f\"],[0.2222222222222222,\"#7201a8\"],[0.3333333333333333,\"#9c179e\"],[0.4444444444444444,\"#bd3786\"],[0.5555555555555556,\"#d8576b\"],[0.6666666666666666,\"#ed7953\"],[0.7777777777777778,\"#fb9f3a\"],[0.8888888888888888,\"#fdca26\"],[1.0,\"#f0f921\"]]}],\"choropleth\":[{\"type\":\"choropleth\",\"colorbar\":{\"outlinewidth\":0,\"ticks\":\"\"}}],\"histogram2d\":[{\"type\":\"histogram2d\",\"colorbar\":{\"outlinewidth\":0,\"ticks\":\"\"},\"colorscale\":[[0.0,\"#0d0887\"],[0.1111111111111111,\"#46039f\"],[0.2222222222222222,\"#7201a8\"],[0.3333333333333333,\"#9c179e\"],[0.4444444444444444,\"#bd3786\"],[0.5555555555555556,\"#d8576b\"],[0.6666666666666666,\"#ed7953\"],[0.7777777777777778,\"#fb9f3a\"],[0.8888888888888888,\"#fdca26\"],[1.0,\"#f0f921\"]]}],\"heatmap\":[{\"type\":\"heatmap\",\"colorbar\":{\"outlinewidth\":0,\"ticks\":\"\"},\"colorscale\":[[0.0,\"#0d0887\"],[0.1111111111111111,\"#46039f\"],[0.2222222222222222,\"#7201a8\"],[0.3333333333333333,\"#9c179e\"],[0.4444444444444444,\"#bd3786\"],[0.5555555555555556,\"#d8576b\"],[0.6666666666666666,\"#ed7953\"],[0.7777777777777778,\"#fb9f3a\"],[0.8888888888888888,\"#fdca26\"],[1.0,\"#f0f921\"]]}],\"heatmapgl\":[{\"type\":\"heatmapgl\",\"colorbar\":{\"outlinewidth\":0,\"ticks\":\"\"},\"colorscale\":[[0.0,\"#0d0887\"],[0.1111111111111111,\"#46039f\"],[0.2222222222222222,\"#7201a8\"],[0.3333333333333333,\"#9c179e\"],[0.4444444444444444,\"#bd3786\"],[0.5555555555555556,\"#d8576b\"],[0.6666666666666666,\"#ed7953\"],[0.7777777777777778,\"#fb9f3a\"],[0.8888888888888888,\"#fdca26\"],[1.0,\"#f0f921\"]]}],\"contourcarpet\":[{\"type\":\"contourcarpet\",\"colorbar\":{\"outlinewidth\":0,\"ticks\":\"\"}}],\"contour\":[{\"type\":\"contour\",\"colorbar\":{\"outlinewidth\":0,\"ticks\":\"\"},\"colorscale\":[[0.0,\"#0d0887\"],[0.1111111111111111,\"#46039f\"],[0.2222222222222222,\"#7201a8\"],[0.3333333333333333,\"#9c179e\"],[0.4444444444444444,\"#bd3786\"],[0.5555555555555556,\"#d8576b\"],[0.6666666666666666,\"#ed7953\"],[0.7777777777777778,\"#fb9f3a\"],[0.8888888888888888,\"#fdca26\"],[1.0,\"#f0f921\"]]}],\"surface\":[{\"type\":\"surface\",\"colorbar\":{\"outlinewidth\":0,\"ticks\":\"\"},\"colorscale\":[[0.0,\"#0d0887\"],[0.1111111111111111,\"#46039f\"],[0.2222222222222222,\"#7201a8\"],[0.3333333333333333,\"#9c179e\"],[0.4444444444444444,\"#bd3786\"],[0.5555555555555556,\"#d8576b\"],[0.6666666666666666,\"#ed7953\"],[0.7777777777777778,\"#fb9f3a\"],[0.8888888888888888,\"#fdca26\"],[1.0,\"#f0f921\"]]}],\"mesh3d\":[{\"type\":\"mesh3d\",\"colorbar\":{\"outlinewidth\":0,\"ticks\":\"\"}}],\"scatter\":[{\"fillpattern\":{\"fillmode\":\"overlay\",\"size\":10,\"solidity\":0.2},\"type\":\"scatter\"}],\"parcoords\":[{\"type\":\"parcoords\",\"line\":{\"colorbar\":{\"outlinewidth\":0,\"ticks\":\"\"}}}],\"scatterpolargl\":[{\"type\":\"scatterpolargl\",\"marker\":{\"colorbar\":{\"outlinewidth\":0,\"ticks\":\"\"}}}],\"bar\":[{\"error_x\":{\"color\":\"#2a3f5f\"},\"error_y\":{\"color\":\"#2a3f5f\"},\"marker\":{\"line\":{\"color\":\"#E5ECF6\",\"width\":0.5},\"pattern\":{\"fillmode\":\"overlay\",\"size\":10,\"solidity\":0.2}},\"type\":\"bar\"}],\"scattergeo\":[{\"type\":\"scattergeo\",\"marker\":{\"colorbar\":{\"outlinewidth\":0,\"ticks\":\"\"}}}],\"scatterpolar\":[{\"type\":\"scatterpolar\",\"marker\":{\"colorbar\":{\"outlinewidth\":0,\"ticks\":\"\"}}}],\"histogram\":[{\"marker\":{\"pattern\":{\"fillmode\":\"overlay\",\"size\":10,\"solidity\":0.2}},\"type\":\"histogram\"}],\"scattergl\":[{\"type\":\"scattergl\",\"marker\":{\"colorbar\":{\"outlinewidth\":0,\"ticks\":\"\"}}}],\"scatter3d\":[{\"type\":\"scatter3d\",\"line\":{\"colorbar\":{\"outlinewidth\":0,\"ticks\":\"\"}},\"marker\":{\"colorbar\":{\"outlinewidth\":0,\"ticks\":\"\"}}}],\"scattermapbox\":[{\"type\":\"scattermapbox\",\"marker\":{\"colorbar\":{\"outlinewidth\":0,\"ticks\":\"\"}}}],\"scatterternary\":[{\"type\":\"scatterternary\",\"marker\":{\"colorbar\":{\"outlinewidth\":0,\"ticks\":\"\"}}}],\"scattercarpet\":[{\"type\":\"scattercarpet\",\"marker\":{\"colorbar\":{\"outlinewidth\":0,\"ticks\":\"\"}}}],\"carpet\":[{\"aaxis\":{\"endlinecolor\":\"#2a3f5f\",\"gridcolor\":\"white\",\"linecolor\":\"white\",\"minorgridcolor\":\"white\",\"startlinecolor\":\"#2a3f5f\"},\"baxis\":{\"endlinecolor\":\"#2a3f5f\",\"gridcolor\":\"white\",\"linecolor\":\"white\",\"minorgridcolor\":\"white\",\"startlinecolor\":\"#2a3f5f\"},\"type\":\"carpet\"}],\"table\":[{\"cells\":{\"fill\":{\"color\":\"#EBF0F8\"},\"line\":{\"color\":\"white\"}},\"header\":{\"fill\":{\"color\":\"#C8D4E3\"},\"line\":{\"color\":\"white\"}},\"type\":\"table\"}],\"barpolar\":[{\"marker\":{\"line\":{\"color\":\"#E5ECF6\",\"width\":0.5},\"pattern\":{\"fillmode\":\"overlay\",\"size\":10,\"solidity\":0.2}},\"type\":\"barpolar\"}],\"pie\":[{\"automargin\":true,\"type\":\"pie\"}]},\"layout\":{\"autotypenumbers\":\"strict\",\"colorway\":[\"#636efa\",\"#EF553B\",\"#00cc96\",\"#ab63fa\",\"#FFA15A\",\"#19d3f3\",\"#FF6692\",\"#B6E880\",\"#FF97FF\",\"#FECB52\"],\"font\":{\"color\":\"#2a3f5f\"},\"hovermode\":\"closest\",\"hoverlabel\":{\"align\":\"left\"},\"paper_bgcolor\":\"white\",\"plot_bgcolor\":\"#E5ECF6\",\"polar\":{\"bgcolor\":\"#E5ECF6\",\"angularaxis\":{\"gridcolor\":\"white\",\"linecolor\":\"white\",\"ticks\":\"\"},\"radialaxis\":{\"gridcolor\":\"white\",\"linecolor\":\"white\",\"ticks\":\"\"}},\"ternary\":{\"bgcolor\":\"#E5ECF6\",\"aaxis\":{\"gridcolor\":\"white\",\"linecolor\":\"white\",\"ticks\":\"\"},\"baxis\":{\"gridcolor\":\"white\",\"linecolor\":\"white\",\"ticks\":\"\"},\"caxis\":{\"gridcolor\":\"white\",\"linecolor\":\"white\",\"ticks\":\"\"}},\"coloraxis\":{\"colorbar\":{\"outlinewidth\":0,\"ticks\":\"\"}},\"colorscale\":{\"sequential\":[[0.0,\"#0d0887\"],[0.1111111111111111,\"#46039f\"],[0.2222222222222222,\"#7201a8\"],[0.3333333333333333,\"#9c179e\"],[0.4444444444444444,\"#bd3786\"],[0.5555555555555556,\"#d8576b\"],[0.6666666666666666,\"#ed7953\"],[0.7777777777777778,\"#fb9f3a\"],[0.8888888888888888,\"#fdca26\"],[1.0,\"#f0f921\"]],\"sequentialminus\":[[0.0,\"#0d0887\"],[0.1111111111111111,\"#46039f\"],[0.2222222222222222,\"#7201a8\"],[0.3333333333333333,\"#9c179e\"],[0.4444444444444444,\"#bd3786\"],[0.5555555555555556,\"#d8576b\"],[0.6666666666666666,\"#ed7953\"],[0.7777777777777778,\"#fb9f3a\"],[0.8888888888888888,\"#fdca26\"],[1.0,\"#f0f921\"]],\"diverging\":[[0,\"#8e0152\"],[0.1,\"#c51b7d\"],[0.2,\"#de77ae\"],[0.3,\"#f1b6da\"],[0.4,\"#fde0ef\"],[0.5,\"#f7f7f7\"],[0.6,\"#e6f5d0\"],[0.7,\"#b8e186\"],[0.8,\"#7fbc41\"],[0.9,\"#4d9221\"],[1,\"#276419\"]]},\"xaxis\":{\"gridcolor\":\"white\",\"linecolor\":\"white\",\"ticks\":\"\",\"title\":{\"standoff\":15},\"zerolinecolor\":\"white\",\"automargin\":true,\"zerolinewidth\":2},\"yaxis\":{\"gridcolor\":\"white\",\"linecolor\":\"white\",\"ticks\":\"\",\"title\":{\"standoff\":15},\"zerolinecolor\":\"white\",\"automargin\":true,\"zerolinewidth\":2},\"scene\":{\"xaxis\":{\"backgroundcolor\":\"#E5ECF6\",\"gridcolor\":\"white\",\"linecolor\":\"white\",\"showbackground\":true,\"ticks\":\"\",\"zerolinecolor\":\"white\",\"gridwidth\":2},\"yaxis\":{\"backgroundcolor\":\"#E5ECF6\",\"gridcolor\":\"white\",\"linecolor\":\"white\",\"showbackground\":true,\"ticks\":\"\",\"zerolinecolor\":\"white\",\"gridwidth\":2},\"zaxis\":{\"backgroundcolor\":\"#E5ECF6\",\"gridcolor\":\"white\",\"linecolor\":\"white\",\"showbackground\":true,\"ticks\":\"\",\"zerolinecolor\":\"white\",\"gridwidth\":2}},\"shapedefaults\":{\"line\":{\"color\":\"#2a3f5f\"}},\"annotationdefaults\":{\"arrowcolor\":\"#2a3f5f\",\"arrowhead\":0,\"arrowwidth\":1},\"geo\":{\"bgcolor\":\"white\",\"landcolor\":\"#E5ECF6\",\"subunitcolor\":\"white\",\"showland\":true,\"showlakes\":true,\"lakecolor\":\"white\"},\"title\":{\"x\":0.05},\"mapbox\":{\"style\":\"light\"}}},\"legend\":{\"tracegroupgap\":0},\"title\":{\"text\":\"Cuota de mercado\",\"font\":{\"size\":24,\"color\":\"black\",\"family\":\"Arial\"}},\"treemapcolorway\":[\"rgb(136, 204, 238)\",\"rgb(204, 102, 119)\",\"rgb(221, 204, 119)\",\"rgb(17, 119, 51)\",\"rgb(51, 34, 136)\",\"rgb(170, 68, 153)\",\"rgb(68, 170, 153)\",\"rgb(153, 153, 51)\",\"rgb(136, 34, 85)\",\"rgb(102, 17, 0)\",\"rgb(136, 136, 136)\"],\"font\":{\"size\":16,\"color\":\"black\",\"family\":\"Arial\"},\"margin\":{\"t\":60,\"l\":20,\"r\":20,\"b\":25}},                        {\"responsive\": true}                    ).then(function(){\n",
              "                            \n",
              "var gd = document.getElementById('6d4292f9-cfe0-481c-b22f-da655fa4a1d5');\n",
              "var x = new MutationObserver(function (mutations, observer) {{\n",
              "        var display = window.getComputedStyle(gd).display;\n",
              "        if (!display || display === 'none') {{\n",
              "            console.log([gd, 'removed!']);\n",
              "            Plotly.purge(gd);\n",
              "            observer.disconnect();\n",
              "        }}\n",
              "}});\n",
              "\n",
              "// Listen for the removal of the full notebook cells\n",
              "var notebookContainer = gd.closest('#notebook-container');\n",
              "if (notebookContainer) {{\n",
              "    x.observe(notebookContainer, {childList: true});\n",
              "}}\n",
              "\n",
              "// Listen for the clearing of the current output cell\n",
              "var outputEl = gd.closest('.output');\n",
              "if (outputEl) {{\n",
              "    x.observe(outputEl, {childList: true});\n",
              "}}\n",
              "\n",
              "                        })                };                            </script>        </div>\n",
              "</body>\n",
              "</html>"
            ]
          },
          "metadata": {}
        }
      ]
    },
    {
      "cell_type": "code",
      "source": [
        "# Se muestra un gráifco de bigotes para visualizar la distribución de ventas\n",
        "# según la marca. Se limpian algunos outliers para visualizar mejor el gráfico.\n",
        "\n",
        "datos11 = data[(data['SCENARIO'] == 'actual')]\n",
        "\n",
        "# Elimino outliers.\n",
        "datos11 = datos11[datos11['AMOUNT'] < 9000000]\n",
        "\n",
        "fig = px.box(datos11, x='AMOUNT', y='SUBBRAND', color='SUBBRAND',\n",
        "             color_discrete_sequence=px.colors.qualitative.Safe,\n",
        "             template='plotly_white',\n",
        "             labels={'AMOUNT': 'Cantidad', 'SUBBRAND': ''},\n",
        "             notched=True, # used notched shape\n",
        "             title='Distribución de las ventas por marca',\n",
        "             hover_data=['YEAR','MONTH']\n",
        "             )\n",
        "\n",
        "fig.update_layout(showlegend=False,\n",
        "    title_font=dict(size=24, color=\"black\", family=\"Arial\"),\n",
        "    font=dict(size=16, color=\"black\", family=\"Arial\"),\n",
        ")\n",
        "\n",
        "fig.show()"
      ],
      "metadata": {
        "colab": {
          "base_uri": "https://localhost:8080/",
          "height": 542
        },
        "id": "IvfjcosYi4nI",
        "outputId": "5e368f0e-8a56-4bd0-c6dc-df80fc9f8133"
      },
      "execution_count": 92,
      "outputs": [
        {
          "output_type": "display_data",
          "data": {
            "text/html": [
              "<html>\n",
              "<head><meta charset=\"utf-8\" /></head>\n",
              "<body>\n",
              "    <div>            <script src=\"https://cdnjs.cloudflare.com/ajax/libs/mathjax/2.7.5/MathJax.js?config=TeX-AMS-MML_SVG\"></script><script type=\"text/javascript\">if (window.MathJax && window.MathJax.Hub && window.MathJax.Hub.Config) {window.MathJax.Hub.Config({SVG: {font: \"STIX-Web\"}});}</script>                <script type=\"text/javascript\">window.PlotlyConfig = {MathJaxConfig: 'local'};</script>\n",
              "        <script charset=\"utf-8\" src=\"https://cdn.plot.ly/plotly-2.35.2.min.js\"></script>                <div id=\"519a76ab-8413-4e4a-ad91-6946b8c505a8\" class=\"plotly-graph-div\" style=\"height:525px; width:100%;\"></div>            <script type=\"text/javascript\">                                    window.PLOTLYENV=window.PLOTLYENV || {};                                    if (document.getElementById(\"519a76ab-8413-4e4a-ad91-6946b8c505a8\")) {                    Plotly.newPlot(                        \"519a76ab-8413-4e4a-ad91-6946b8c505a8\",                        [{\"alignmentgroup\":\"True\",\"customdata\":[[2023,10],[2024,2],[2024,2],[2024,2],[2024,4],[2024,7],[2024,7],[2024,7],[2023,5],[2023,11],[2023,11],[2023,12],[2023,12],[2023,12],[2023,12],[2024,6],[2024,6],[2023,8],[2023,4],[2023,4],[2023,6],[2023,1],[2023,1],[2023,1],[2023,7],[2023,7],[2023,2],[2023,2],[2023,3],[2024,2],[2024,4],[2024,7],[2024,7],[2024,4],[2023,5],[2023,11],[2023,11],[2023,11],[2023,12],[2024,6],[2024,8],[2024,8],[2024,5],[2024,5],[2024,3],[2024,3],[2024,3],[2023,6],[2023,6],[2023,6],[2023,1],[2023,7],[2023,7],[2023,2],[2023,3],[2023,10],[2023,10],[2023,10],[2023,3],[2023,3],[2023,10],[2023,10],[2023,10],[2023,3],[2024,1],[2024,1],[2024,1],[2024,2],[2024,2],[2024,7],[2024,7],[2023,5],[2023,12],[2024,6],[2024,6],[2024,6],[2024,8],[2024,8],[2024,8],[2024,8],[2024,5],[2024,5],[2024,5],[2024,5],[2023,8],[2023,8],[2023,8],[2023,8],[2023,8],[2023,4],[2023,4],[2023,4],[2023,4],[2023,4],[2024,3],[2023,6],[2023,6],[2023,1],[2023,1],[2023,7],[2023,7],[2023,2],[2023,9],[2023,9],[2023,9],[2023,3],[2023,3],[2023,10],[2024,1],[2024,1],[2024,1],[2024,2],[2024,4],[2024,4],[2024,4],[2024,4],[2023,5],[2023,5],[2023,5],[2023,11],[2023,11],[2023,12],[2023,12],[2024,6],[2024,8],[2024,5],[2024,5],[2023,8],[2023,4],[2024,3],[2024,3],[2024,3],[2023,6],[2023,6],[2023,1],[2023,1],[2023,7],[2023,7],[2023,2],[2023,2],[2023,9],[2023,9],[2023,9],[2023,9],[2023,3],[2024,1],[2024,1],[2024,2],[2024,4],[2024,7],[2023,5],[2023,5],[2023,11],[2024,6],[2024,8],[2023,8],[2024,3],[2023,2],[2023,2],[2023,9]],\"hovertemplate\":\"=%{y}\\u003cbr\\u003eCantidad=%{x}\\u003cbr\\u003eYEAR=%{customdata[0]}\\u003cbr\\u003eMONTH=%{customdata[1]}\\u003cextra\\u003e\\u003c\\u002fextra\\u003e\",\"legendgroup\":\"Pepsi Max (L3)\",\"marker\":{\"color\":\"rgb(136, 204, 238)\"},\"name\":\"Pepsi Max (L3)\",\"notched\":true,\"offsetgroup\":\"Pepsi Max (L3)\",\"orientation\":\"h\",\"showlegend\":true,\"x\":[188594.89408466185,2557570.5515205744,192889.74167506144,2119033.169499764,2090877.40308412,249086.121392291,1323603.925242862,1900579.561545018,1106911.2030038116,2704018.777341796,2233147.3586327867,208084.9841144604,3004664.8714715424,1001472.7762005735,184646.53089402968,489731.868998895,2789422.562397415,1110572.689552176,2155775.256599015,90623.55743784914,3003307.991729657,83274.05549724207,686853.0429085685,2521703.796326954,778523.5887934739,107349.9221573338,2185992.599663269,114642.772607835,2971511.39813882,365915.334774538,240511.60067064452,470651.095785226,3185914.985946054,2700714.368641056,174296.3797876762,539381.3740569765,185403.7322212282,360459.9851910845,467211.6528117226,2600475.315773532,229202.943932146,451893.397814769,94165.227223096,460588.92379872,95639.02841081204,200197.4738117546,410398.91733531526,2677852.757602868,693856.0298126846,266983.9119285961,142643.44536571964,287059.8807351729,1967502.233133502,336105.88011524937,194375.7986798448,421500.28785920347,189886.8040830416,344103.25095693645,442842.9022282023,1070921.3049389587,951417.7932132469,2176313.5685755145,130091.60765395944,2762663.8623347166,724274.0625418272,188107.5109367185,445572.00520418736,100246.4604717935,797483.8784668165,426673.094263594,302609.860305876,85757.98791767348,2360408.9276027987,243410.502067585,1223161.109663059,238540.553123213,1229491.803625145,294264.064338196,696733.557938189,150238.709291102,250696.634519877,563365.011658788,2845438.683930593,274489.665593542,510976.4625534509,210844.4960655992,2882205.9950339203,375363.6393831057,2960407.620832247,220002.64348058865,126539.39684261694,393516.76963502006,777216.4026121321,1968366.6442416364,566835.0646041295,474625.8268581855,237207.88218635743,376371.6230019796,154587.69451860824,480248.2159588035,125493.49625476392,1825216.3497777432,108423.09226152318,371710.40767014434,1207033.968989736,108883.1082384134,199716.4519242285,2492830.109261516,352310.63409420726,97238.51342749008,1446233.6829795777,185368.6660373504,215496.7101787211,388034.7027965242,577621.5051380707,1265584.6935253218,3013392.549014311,453079.49109916657,234117.4772636013,112481.01179068074,816912.9641501062,105442.11223403168,445266.3229528796,113988.682873909,2433265.147619283,1307569.244750023,2498191.900833373,183119.15211372773,485769.6138862865,2819279.585496608,180144.61828915204,2096237.596246645,115198.26101891116,1088796.7496283983,460671.4335026381,1271376.84656189,2607643.205050439,207459.0463040584,719275.2037646263,162759.71096067008,197929.09272787475,2017784.1609546824,180327.70001338475,2169078.6915387493,548786.119349362,174657.55390868807,2456795.8914218093,392770.68300296576,106530.7355251386,135627.644361161,633915.9933217333,2727204.3211485487,185953.95306897355,366968.639267931,3110356.073841342,148935.01617841818,1102766.4860904666,80772.49512162477,362154.39617338136,468567.2299986616],\"x0\":\" \",\"xaxis\":\"x\",\"y\":[\"Pepsi Max (L3)\",\"Pepsi Max (L3)\",\"Pepsi Max (L3)\",\"Pepsi Max (L3)\",\"Pepsi Max (L3)\",\"Pepsi Max (L3)\",\"Pepsi Max (L3)\",\"Pepsi Max (L3)\",\"Pepsi Max (L3)\",\"Pepsi Max (L3)\",\"Pepsi Max (L3)\",\"Pepsi Max (L3)\",\"Pepsi Max (L3)\",\"Pepsi Max (L3)\",\"Pepsi Max (L3)\",\"Pepsi Max (L3)\",\"Pepsi Max (L3)\",\"Pepsi Max (L3)\",\"Pepsi Max (L3)\",\"Pepsi Max (L3)\",\"Pepsi Max (L3)\",\"Pepsi Max (L3)\",\"Pepsi Max (L3)\",\"Pepsi Max (L3)\",\"Pepsi Max (L3)\",\"Pepsi Max (L3)\",\"Pepsi Max (L3)\",\"Pepsi Max (L3)\",\"Pepsi Max (L3)\",\"Pepsi Max (L3)\",\"Pepsi Max (L3)\",\"Pepsi Max (L3)\",\"Pepsi Max (L3)\",\"Pepsi Max (L3)\",\"Pepsi Max (L3)\",\"Pepsi Max (L3)\",\"Pepsi Max (L3)\",\"Pepsi Max (L3)\",\"Pepsi Max (L3)\",\"Pepsi Max (L3)\",\"Pepsi Max (L3)\",\"Pepsi Max (L3)\",\"Pepsi Max (L3)\",\"Pepsi Max (L3)\",\"Pepsi Max (L3)\",\"Pepsi Max (L3)\",\"Pepsi Max (L3)\",\"Pepsi Max (L3)\",\"Pepsi Max (L3)\",\"Pepsi Max (L3)\",\"Pepsi Max (L3)\",\"Pepsi Max (L3)\",\"Pepsi Max (L3)\",\"Pepsi Max (L3)\",\"Pepsi Max (L3)\",\"Pepsi Max (L3)\",\"Pepsi Max (L3)\",\"Pepsi Max (L3)\",\"Pepsi Max (L3)\",\"Pepsi Max (L3)\",\"Pepsi Max (L3)\",\"Pepsi Max (L3)\",\"Pepsi Max (L3)\",\"Pepsi Max (L3)\",\"Pepsi Max (L3)\",\"Pepsi Max (L3)\",\"Pepsi Max (L3)\",\"Pepsi Max (L3)\",\"Pepsi Max (L3)\",\"Pepsi Max (L3)\",\"Pepsi Max (L3)\",\"Pepsi Max (L3)\",\"Pepsi Max (L3)\",\"Pepsi Max (L3)\",\"Pepsi Max (L3)\",\"Pepsi Max (L3)\",\"Pepsi Max (L3)\",\"Pepsi Max (L3)\",\"Pepsi Max (L3)\",\"Pepsi Max (L3)\",\"Pepsi Max (L3)\",\"Pepsi Max (L3)\",\"Pepsi Max (L3)\",\"Pepsi Max (L3)\",\"Pepsi Max (L3)\",\"Pepsi Max (L3)\",\"Pepsi Max (L3)\",\"Pepsi Max (L3)\",\"Pepsi Max (L3)\",\"Pepsi Max (L3)\",\"Pepsi Max (L3)\",\"Pepsi Max (L3)\",\"Pepsi Max (L3)\",\"Pepsi Max (L3)\",\"Pepsi Max (L3)\",\"Pepsi Max (L3)\",\"Pepsi Max (L3)\",\"Pepsi Max (L3)\",\"Pepsi Max (L3)\",\"Pepsi Max (L3)\",\"Pepsi Max (L3)\",\"Pepsi Max (L3)\",\"Pepsi Max (L3)\",\"Pepsi Max (L3)\",\"Pepsi Max (L3)\",\"Pepsi Max (L3)\",\"Pepsi Max (L3)\",\"Pepsi Max (L3)\",\"Pepsi Max (L3)\",\"Pepsi Max (L3)\",\"Pepsi Max (L3)\",\"Pepsi Max (L3)\",\"Pepsi Max (L3)\",\"Pepsi Max (L3)\",\"Pepsi Max (L3)\",\"Pepsi Max (L3)\",\"Pepsi Max (L3)\",\"Pepsi Max (L3)\",\"Pepsi Max (L3)\",\"Pepsi Max (L3)\",\"Pepsi Max (L3)\",\"Pepsi Max (L3)\",\"Pepsi Max (L3)\",\"Pepsi Max (L3)\",\"Pepsi Max (L3)\",\"Pepsi Max (L3)\",\"Pepsi Max (L3)\",\"Pepsi Max (L3)\",\"Pepsi Max (L3)\",\"Pepsi Max (L3)\",\"Pepsi Max (L3)\",\"Pepsi Max (L3)\",\"Pepsi Max (L3)\",\"Pepsi Max (L3)\",\"Pepsi Max (L3)\",\"Pepsi Max (L3)\",\"Pepsi Max (L3)\",\"Pepsi Max (L3)\",\"Pepsi Max (L3)\",\"Pepsi Max (L3)\",\"Pepsi Max (L3)\",\"Pepsi Max (L3)\",\"Pepsi Max (L3)\",\"Pepsi Max (L3)\",\"Pepsi Max (L3)\",\"Pepsi Max (L3)\",\"Pepsi Max (L3)\",\"Pepsi Max (L3)\",\"Pepsi Max (L3)\",\"Pepsi Max (L3)\",\"Pepsi Max (L3)\",\"Pepsi Max (L3)\",\"Pepsi Max (L3)\",\"Pepsi Max (L3)\",\"Pepsi Max (L3)\",\"Pepsi Max (L3)\",\"Pepsi Max (L3)\",\"Pepsi Max (L3)\",\"Pepsi Max (L3)\",\"Pepsi Max (L3)\"],\"y0\":\" \",\"yaxis\":\"y\",\"type\":\"box\"},{\"alignmentgroup\":\"True\",\"customdata\":[[2023,3],[2023,10],[2023,10],[2024,4],[2024,7],[2024,4],[2024,4],[2023,5],[2023,5],[2023,12],[2023,12],[2023,12],[2024,5],[2023,8],[2023,4],[2023,4],[2023,6],[2023,1],[2023,1],[2023,2],[2023,9],[2023,9],[2023,9],[2023,3],[2023,3],[2024,1],[2024,1],[2024,1],[2024,1],[2024,2],[2024,7],[2024,7],[2023,5],[2023,5],[2023,11],[2023,12],[2024,6],[2024,8],[2024,8],[2024,8],[2024,8],[2024,5],[2024,5],[2024,5],[2023,8],[2023,4],[2023,4],[2023,4],[2024,3],[2024,3],[2024,3],[2023,6],[2023,6],[2023,1],[2023,7],[2023,7],[2023,2],[2023,2],[2023,2],[2023,9],[2023,9],[2023,9],[2023,9],[2023,3],[2023,10],[2023,10],[2023,3],[2023,10],[2024,1],[2024,1],[2024,1],[2024,1],[2024,2],[2024,2],[2024,2],[2024,2],[2024,4],[2023,5],[2023,11],[2023,11],[2023,11],[2023,11],[2023,11],[2023,12],[2024,6],[2024,6],[2024,6],[2024,6],[2024,6],[2024,8],[2024,5],[2024,5],[2023,8],[2023,8],[2023,4],[2023,4],[2024,3],[2024,3],[2023,6],[2023,1],[2023,1],[2023,1],[2023,7],[2023,7],[2023,2],[2023,9],[2023,10],[2023,10],[2023,3],[2023,3],[2023,10],[2024,2],[2024,2],[2024,4],[2024,7],[2024,4],[2024,4],[2024,7],[2023,5],[2023,5],[2023,11],[2023,12],[2023,12],[2024,8],[2024,8],[2024,5],[2023,8],[2023,8],[2023,8],[2023,8],[2023,4],[2024,3],[2024,3],[2023,6],[2023,6],[2023,1],[2023,7],[2023,7],[2023,7],[2023,2],[2023,2],[2023,2],[2023,3],[2024,2],[2024,7],[2024,7],[2024,4],[2024,7],[2023,5],[2023,11],[2023,12],[2024,6],[2023,6],[2023,6],[2023,1],[2023,7]],\"hovertemplate\":\"=%{y}\\u003cbr\\u003eCantidad=%{x}\\u003cbr\\u003eYEAR=%{customdata[0]}\\u003cbr\\u003eMONTH=%{customdata[1]}\\u003cextra\\u003e\\u003c\\u002fextra\\u003e\",\"legendgroup\":\"7up (L3)\",\"marker\":{\"color\":\"rgb(204, 102, 119)\"},\"name\":\"7up (L3)\",\"notched\":true,\"offsetgroup\":\"7up (L3)\",\"orientation\":\"h\",\"showlegend\":true,\"x\":[293497.1117200764,348446.58091058314,140721.0555606433,74882.99296245942,467928.687452889,109110.6211210753,5.575874305227786,82918.33366906652,3774.4887599839385,100807.92233802738,272963.44071629347,11136.030939822676,482446.084302552,106715.95381781296,9060.449585426164,73141.16028298099,11802.589589512025,64640.33870365544,10681.570660711644,87711.84828781358,12398.87850203941,313828.81094446755,129415.9334427592,75310.10263960606,15229.00537501849,71405.76048903509,2567.753411340373,245995.7835339866,6789.810711996224,76848.37996555197,1.394827866,45.7986094,81047.37131304023,459201.46456925885,11175.973737786451,114694.920149627,3451.142279487,96514.247673526,556479.542507026,1800.595971906,0.443808866,3482.321613491,3391.967763978,301786.721661398,21004.4492235106,342200.0838305637,62656.2383324058,240064.25450677337,66435.80973984348,38418.88424851888,266715.7721217586,3924.538403556107,6965.280761942333,146982.14373771602,302001.9135911182,2398.6812536543785,26176.671151719234,50850.25677512979,4657.752918219411,-19481.65237789973,3163.7232041591237,62839.81669989363,375453.7153142238,94306.65094820118,1542.7641543327725,13533.59391523955,31252.9006079477,60014.249460560895,-188.4740167520236,288522.0037618085,52101.72996960261,110461.4907751157,264665.6921657168,3588.5116904891056,9042.352046099766,272026.82747106435,14310.76483061295,136417.9693278761,99913.5795238565,-13549.371550971096,51336.52884299734,250399.60390569412,100802.81501623776,2388.114375884976,323061.095926113,79701.862588321,22362.683423385,440024.607176317,110012.271667383,15992.124153769,18141.892034689,120009.84833008,319487.7969468768,65701.26353159145,98599.36739625088,2138.736060713476,17993.173796960968,94549.0408797278,344973.0768634689,78971.96959557036,1485.7030143779984,65880.60484808353,-6332.708713447409,91099.07152367334,311120.86218678014,84366.48226666574,226245.2291955788,92671.3869433897,1413.848245546061,140029.30547434714,10018.266609370708,94169.45749649532,54000.32594661614,262402.5683148648,22657.414778131,365441.52994300926,2050.946126534839,2679.76020232,8814.413925735982,242854.25654970307,1912.6048762618611,329658.85363465373,-10.791926294090295,101146.576683832,387428.132903143,77568.360654581,14761.484434989045,576737.781167006,138851.28880685862,3647.68620599776,11564.34876332307,290162.8181158553,43817.777715159245,63797.1053799497,91915.88401372284,122161.56051650898,103384.94030894028,601534.6276584503,27799.84924587716,69302.9735194043,153406.3070171113,929.8852437074244,195259.95068790377,-1.394870520524399,95936.841771572,340682.9549217,19387.98584989398,134893.971948462,20638.084436397967,262238.5824885702,61627.318905377135,1501.558614471,468507.61167428654,176860.89762104358,250322.3285171853,122812.69152465956],\"x0\":\" \",\"xaxis\":\"x\",\"y\":[\"7up (L3)\",\"7up (L3)\",\"7up (L3)\",\"7up (L3)\",\"7up (L3)\",\"7up (L3)\",\"7up (L3)\",\"7up (L3)\",\"7up (L3)\",\"7up (L3)\",\"7up (L3)\",\"7up (L3)\",\"7up (L3)\",\"7up (L3)\",\"7up (L3)\",\"7up (L3)\",\"7up (L3)\",\"7up (L3)\",\"7up (L3)\",\"7up (L3)\",\"7up (L3)\",\"7up (L3)\",\"7up (L3)\",\"7up (L3)\",\"7up (L3)\",\"7up (L3)\",\"7up (L3)\",\"7up (L3)\",\"7up (L3)\",\"7up (L3)\",\"7up (L3)\",\"7up (L3)\",\"7up (L3)\",\"7up (L3)\",\"7up (L3)\",\"7up (L3)\",\"7up (L3)\",\"7up (L3)\",\"7up (L3)\",\"7up (L3)\",\"7up (L3)\",\"7up (L3)\",\"7up (L3)\",\"7up (L3)\",\"7up (L3)\",\"7up (L3)\",\"7up (L3)\",\"7up (L3)\",\"7up (L3)\",\"7up (L3)\",\"7up (L3)\",\"7up (L3)\",\"7up (L3)\",\"7up (L3)\",\"7up (L3)\",\"7up (L3)\",\"7up (L3)\",\"7up (L3)\",\"7up (L3)\",\"7up (L3)\",\"7up (L3)\",\"7up (L3)\",\"7up (L3)\",\"7up (L3)\",\"7up (L3)\",\"7up (L3)\",\"7up (L3)\",\"7up (L3)\",\"7up (L3)\",\"7up (L3)\",\"7up (L3)\",\"7up (L3)\",\"7up (L3)\",\"7up (L3)\",\"7up (L3)\",\"7up (L3)\",\"7up (L3)\",\"7up (L3)\",\"7up (L3)\",\"7up (L3)\",\"7up (L3)\",\"7up (L3)\",\"7up (L3)\",\"7up (L3)\",\"7up (L3)\",\"7up (L3)\",\"7up (L3)\",\"7up (L3)\",\"7up (L3)\",\"7up (L3)\",\"7up (L3)\",\"7up (L3)\",\"7up (L3)\",\"7up (L3)\",\"7up (L3)\",\"7up (L3)\",\"7up (L3)\",\"7up (L3)\",\"7up (L3)\",\"7up (L3)\",\"7up (L3)\",\"7up (L3)\",\"7up (L3)\",\"7up (L3)\",\"7up (L3)\",\"7up (L3)\",\"7up (L3)\",\"7up (L3)\",\"7up (L3)\",\"7up (L3)\",\"7up (L3)\",\"7up (L3)\",\"7up (L3)\",\"7up (L3)\",\"7up (L3)\",\"7up (L3)\",\"7up (L3)\",\"7up (L3)\",\"7up (L3)\",\"7up (L3)\",\"7up (L3)\",\"7up (L3)\",\"7up (L3)\",\"7up (L3)\",\"7up (L3)\",\"7up (L3)\",\"7up (L3)\",\"7up (L3)\",\"7up (L3)\",\"7up (L3)\",\"7up (L3)\",\"7up (L3)\",\"7up (L3)\",\"7up (L3)\",\"7up (L3)\",\"7up (L3)\",\"7up (L3)\",\"7up (L3)\",\"7up (L3)\",\"7up (L3)\",\"7up (L3)\",\"7up (L3)\",\"7up (L3)\",\"7up (L3)\",\"7up (L3)\",\"7up (L3)\",\"7up (L3)\",\"7up (L3)\",\"7up (L3)\",\"7up (L3)\",\"7up (L3)\",\"7up (L3)\",\"7up (L3)\",\"7up (L3)\",\"7up (L3)\",\"7up (L3)\"],\"y0\":\" \",\"yaxis\":\"y\",\"type\":\"box\"},{\"alignmentgroup\":\"True\",\"customdata\":[[2023,10],[2023,10],[2023,10],[2024,1],[2024,1],[2024,1],[2024,2],[2024,2],[2024,2],[2024,4],[2024,4],[2024,7],[2024,7],[2024,7],[2023,5],[2023,11],[2023,12],[2023,12],[2024,8],[2024,5],[2024,5],[2024,3],[2023,6],[2023,1],[2023,2],[2023,2],[2023,10],[2023,3],[2024,1],[2024,2],[2024,4],[2024,7],[2024,7],[2023,5],[2023,5],[2023,5],[2023,5],[2023,5],[2023,11],[2023,12],[2023,12],[2024,6],[2024,8],[2024,8],[2024,8],[2024,5],[2024,5],[2023,4],[2023,4],[2024,3],[2024,3],[2023,6],[2023,1],[2023,1],[2023,7],[2023,7],[2023,7],[2023,7],[2023,9],[2023,9],[2023,3],[2023,10],[2023,3],[2023,10],[2023,3],[2023,3],[2024,1],[2024,1],[2024,2],[2024,7],[2024,4],[2024,7],[2024,7],[2024,4],[2023,5],[2023,11],[2023,12],[2024,6],[2024,6],[2024,6],[2024,8],[2024,8],[2024,5],[2024,5],[2023,8],[2023,8],[2023,8],[2023,8],[2023,4],[2023,4],[2023,4],[2024,3],[2024,3],[2023,6],[2023,6],[2023,6],[2023,2],[2023,2],[2023,9],[2023,9],[2023,3],[2023,10],[2023,3],[2024,1],[2024,2],[2024,2],[2024,2],[2024,4],[2024,4],[2024,4],[2023,11],[2023,11],[2023,11],[2023,12],[2024,6],[2024,8],[2024,8],[2024,5],[2023,8],[2023,8],[2023,8],[2023,4],[2023,4],[2024,3],[2023,6],[2023,6],[2023,1],[2023,1],[2023,7],[2023,2],[2023,2],[2023,11],[2023,12],[2024,6],[2024,6],[2024,6],[2024,5],[2024,3],[2024,3],[2023,1],[2023,1],[2023,7],[2023,7],[2023,2],[2023,9],[2023,9],[2023,9]],\"hovertemplate\":\"=%{y}\\u003cbr\\u003eCantidad=%{x}\\u003cbr\\u003eYEAR=%{customdata[0]}\\u003cbr\\u003eMONTH=%{customdata[1]}\\u003cextra\\u003e\\u003c\\u002fextra\\u003e\",\"legendgroup\":\"7up Free (L3)\",\"marker\":{\"color\":\"rgb(221, 204, 119)\"},\"name\":\"7up Free (L3)\",\"notched\":true,\"offsetgroup\":\"7up Free (L3)\",\"orientation\":\"h\",\"showlegend\":true,\"x\":[1172553.4686832966,132014.3991321071,83196.89587639924,969981.2136411348,103665.1849555839,60318.99423122441,52699.45814283602,59482.85058485907,910090.0804843856,29956.63806330264,72486.58258019538,94034.761505568,40910.2097173,49063.774629631,64424.03987398998,31843.99061661254,29107.04599409664,125054.94071981571,80319.401492045,88493.728558043,1270442.919487436,62914.44527414004,50624.28409403112,72078.55416933775,78712.61966989074,105868.78755644476,106866.12822553945,64655.47145032158,58579.906351398,89.35491155523307,143753.79174797295,79302.616006707,166701.35345854,128923.62260748276,46109.17347530521,1369.8195881735503,1398077.239720189,156433.91826872277,101695.60347438944,1133045.9368593832,63811.6805944221,58920.810056849,43022.796277641,82299.893274535,136482.215944714,38857.156946312,64397.071565943,28263.728135402565,147304.69944277333,114495.60770114051,1105659.5148746418,161835.08273865297,10365.666805210176,35732.59459116749,192337.2102033772,152992.8567906279,152643.734193712,58131.089163314624,28072.795220953416,135100.19513500945,95734.87703676573,44587.79525811359,25687.368354314454,48162.7334399414,1304897.9549921455,43451.00138778328,90492.87264094457,28550.647045148748,96123.5056673688,92202.399737943,32814.75708650047,153134.030277626,1373990.410558422,121748.45371355308,47989.63389290822,43669.911872239405,125343.33018675196,142005.198798195,1346003.398878506,131566.912992326,101061.307263671,1533493.899389235,150567.36636422,136778.93387248,79772.16402612132,164793.5126415081,105712.72961973328,48498.84782199038,116231.10113910944,41739.87164765802,54815.01624992075,14906.588661211812,87446.30969405366,76407.2321369573,32070.245081118403,174630.33539270036,13131.459004036547,19655.935415243075,83987.10840912133,130280.67388501827,17322.388396159295,31500.33814008862,152664.89612759155,25773.94137496213,23976.259747944743,95487.10840912133,29806.555690968136,36822.82163814784,1205175.7205201725,70054.79630581953,79338.81993089261,132196.72708572555,74531.12053248259,26668.157770529684,75371.66526949,51804.364824977,189635.867804837,57893.829295612,30500.578255813547,1317455.626721521,177807.76031503384,33523.877621466265,1182113.5232083858,29032.655174600048,65925.4401104591,1443260.5982966195,17068.677660915935,114214.14130028954,1492144.0896634802,1040915.5248568192,50344.87118975999,1021965.48600327,52964.78008604926,45056.603241918,38646.080040577,78611.64610822,35035.504709303,73851.81930163506,121991.645121977,1004129.6960965954,54525.1755862856,31229.40883003529,92339.32988163334,11897.001120089044,33798.11275563038,1293227.672891732,75888.8082792544],\"x0\":\" \",\"xaxis\":\"x\",\"y\":[\"7up Free (L3)\",\"7up Free (L3)\",\"7up Free (L3)\",\"7up Free (L3)\",\"7up Free (L3)\",\"7up Free (L3)\",\"7up Free (L3)\",\"7up Free (L3)\",\"7up Free (L3)\",\"7up Free (L3)\",\"7up Free (L3)\",\"7up Free (L3)\",\"7up Free (L3)\",\"7up Free (L3)\",\"7up Free (L3)\",\"7up Free (L3)\",\"7up Free (L3)\",\"7up Free (L3)\",\"7up Free (L3)\",\"7up Free (L3)\",\"7up Free (L3)\",\"7up Free (L3)\",\"7up Free (L3)\",\"7up Free (L3)\",\"7up Free (L3)\",\"7up Free (L3)\",\"7up Free (L3)\",\"7up Free (L3)\",\"7up Free (L3)\",\"7up Free (L3)\",\"7up Free (L3)\",\"7up Free (L3)\",\"7up Free (L3)\",\"7up Free (L3)\",\"7up Free (L3)\",\"7up Free (L3)\",\"7up Free (L3)\",\"7up Free (L3)\",\"7up Free (L3)\",\"7up Free (L3)\",\"7up Free (L3)\",\"7up Free (L3)\",\"7up Free (L3)\",\"7up Free (L3)\",\"7up Free (L3)\",\"7up Free (L3)\",\"7up Free (L3)\",\"7up Free (L3)\",\"7up Free (L3)\",\"7up Free (L3)\",\"7up Free (L3)\",\"7up Free (L3)\",\"7up Free (L3)\",\"7up Free (L3)\",\"7up Free (L3)\",\"7up Free (L3)\",\"7up Free (L3)\",\"7up Free (L3)\",\"7up Free (L3)\",\"7up Free (L3)\",\"7up Free (L3)\",\"7up Free (L3)\",\"7up Free (L3)\",\"7up Free (L3)\",\"7up Free (L3)\",\"7up Free (L3)\",\"7up Free (L3)\",\"7up Free (L3)\",\"7up Free (L3)\",\"7up Free (L3)\",\"7up Free (L3)\",\"7up Free (L3)\",\"7up Free (L3)\",\"7up Free (L3)\",\"7up Free (L3)\",\"7up Free (L3)\",\"7up Free (L3)\",\"7up Free (L3)\",\"7up Free (L3)\",\"7up Free (L3)\",\"7up Free (L3)\",\"7up Free (L3)\",\"7up Free (L3)\",\"7up Free (L3)\",\"7up Free (L3)\",\"7up Free (L3)\",\"7up Free (L3)\",\"7up Free (L3)\",\"7up Free (L3)\",\"7up Free (L3)\",\"7up Free (L3)\",\"7up Free (L3)\",\"7up Free (L3)\",\"7up Free (L3)\",\"7up Free (L3)\",\"7up Free (L3)\",\"7up Free (L3)\",\"7up Free (L3)\",\"7up Free (L3)\",\"7up Free (L3)\",\"7up Free (L3)\",\"7up Free (L3)\",\"7up Free (L3)\",\"7up Free (L3)\",\"7up Free (L3)\",\"7up Free (L3)\",\"7up Free (L3)\",\"7up Free (L3)\",\"7up Free (L3)\",\"7up Free (L3)\",\"7up Free (L3)\",\"7up Free (L3)\",\"7up Free (L3)\",\"7up Free (L3)\",\"7up Free (L3)\",\"7up Free (L3)\",\"7up Free (L3)\",\"7up Free (L3)\",\"7up Free (L3)\",\"7up Free (L3)\",\"7up Free (L3)\",\"7up Free (L3)\",\"7up Free (L3)\",\"7up Free (L3)\",\"7up Free (L3)\",\"7up Free (L3)\",\"7up Free (L3)\",\"7up Free (L3)\",\"7up Free (L3)\",\"7up Free (L3)\",\"7up Free (L3)\",\"7up Free (L3)\",\"7up Free (L3)\",\"7up Free (L3)\",\"7up Free (L3)\",\"7up Free (L3)\",\"7up Free (L3)\",\"7up Free (L3)\",\"7up Free (L3)\",\"7up Free (L3)\",\"7up Free (L3)\",\"7up Free (L3)\",\"7up Free (L3)\",\"7up Free (L3)\",\"7up Free (L3)\",\"7up Free (L3)\",\"7up Free (L3)\"],\"y0\":\" \",\"yaxis\":\"y\",\"type\":\"box\"},{\"alignmentgroup\":\"True\",\"customdata\":[[2023,10],[2023,3],[2023,3],[2024,1],[2024,2],[2024,2],[2024,7],[2024,4],[2023,5],[2024,8],[2024,8],[2024,5],[2023,8],[2023,4],[2024,3],[2024,3],[2023,6],[2023,6],[2023,6],[2023,1],[2023,7],[2023,7],[2023,7],[2023,7],[2023,2],[2023,9],[2023,9],[2023,10],[2024,1],[2024,2],[2024,4],[2024,7],[2024,4],[2024,7],[2024,7],[2024,7],[2023,5],[2023,11],[2023,11],[2023,11],[2023,12],[2023,12],[2024,6],[2024,6],[2024,6],[2024,6],[2024,5],[2023,8],[2023,8],[2023,4],[2023,4],[2024,3],[2024,3],[2023,6],[2023,1],[2023,7],[2023,2],[2023,2],[2023,9],[2023,3],[2023,10],[2023,10],[2023,10],[2023,10],[2023,10],[2024,1],[2024,1],[2024,2],[2024,4],[2024,4],[2024,4],[2024,4],[2024,7],[2023,5],[2023,5],[2023,5],[2023,11],[2023,11],[2023,12],[2023,12],[2023,12],[2023,12],[2023,12],[2024,6],[2024,8],[2024,8],[2024,8],[2024,8],[2024,5],[2024,5],[2023,8],[2023,8],[2023,8],[2024,3],[2024,3],[2023,6],[2023,6],[2023,6],[2023,1],[2023,1],[2023,1],[2023,7],[2023,2],[2023,2],[2023,2],[2023,9],[2023,3],[2023,10],[2023,3],[2023,3],[2023,3],[2023,3],[2023,3],[2024,1],[2024,1],[2024,1],[2024,1],[2024,2],[2024,2],[2024,2],[2024,2],[2024,2],[2024,7],[2024,7],[2024,7],[2024,4],[2023,5],[2023,5],[2023,11],[2023,11],[2023,12],[2023,12],[2024,6],[2024,6],[2024,6],[2024,6],[2024,8],[2024,8],[2024,8],[2024,5],[2024,5],[2024,5],[2024,5],[2023,8],[2023,8],[2023,4],[2023,4],[2023,4],[2023,4],[2024,3],[2024,3],[2024,3],[2023,6],[2023,1],[2023,1],[2023,1],[2023,7],[2023,2],[2023,2],[2023,9],[2023,9],[2023,9],[2023,9],[2023,10],[2024,1],[2024,4],[2023,5],[2023,5],[2023,11],[2023,11],[2024,5],[2023,8],[2023,4],[2023,4],[2023,6],[2023,1],[2023,7],[2023,7],[2023,2],[2023,9]],\"hovertemplate\":\"=%{y}\\u003cbr\\u003eCantidad=%{x}\\u003cbr\\u003eYEAR=%{customdata[0]}\\u003cbr\\u003eMONTH=%{customdata[1]}\\u003cextra\\u003e\\u003c\\u002fextra\\u003e\",\"legendgroup\":\"Pepsi Regular (L3)\",\"marker\":{\"color\":\"rgb(17, 119, 51)\"},\"name\":\"Pepsi Regular (L3)\",\"notched\":true,\"offsetgroup\":\"Pepsi Regular (L3)\",\"orientation\":\"h\",\"showlegend\":true,\"x\":[37848.59296386832,45879.58157101294,1042737.081991927,424229.5125851514,2028092.6916655512,195622.0791388699,394678.995864828,38736.60987791734,1908551.1472106967,173370.457123134,55198.204687467,1851436.730819364,1266616.6603699818,869314.3998365657,2100892.975139659,1968418.517889724,571161.9691024494,55327.72183927076,300333.1490000212,2100111.241044571,47753.36538326066,311299.1553542369,162071.55519256374,350901.80552718154,1830788.5638204191,257955.8022725832,216877.1949870732,252543.58837079885,193161.47950377944,389128.2959852909,1884452.6451360665,1845970.157376038,1596162.3533582513,2105301.82525202,1088774.907892049,268931.038706472,1779800.6769846354,393152.2405303164,1803962.3552026025,220008.26858185456,501825.3576888125,214672.65397702053,1847830.664022591,729744.905003767,312715.88131283,767879.162469266,991092.859960691,2228968.41912464,49100.65680013808,1896348.932428339,99838.51406116813,294037.2165435038,213812.88877304463,1429954.6328714434,135789.36338083734,2439380.35476531,36319.49307165048,1722087.5148816863,140729.30844064584,122439.03679157892,151523.86577670075,833296.3274087199,447053.3204652244,1799985.184497686,1433297.739392616,191390.19605080556,34536.63396335406,265639.3313279748,311093.23156255943,876939.3265816856,108135.50964051482,1913489.6409374936,935186.161969102,276816.72983311384,551830.1832296605,2137516.019245807,1036212.2823575408,38067.145597486495,1735358.908652864,285393.5985854473,1045487.76012792,115494.26762467154,37395.060963840144,265107.932132466,2132092.495403409,2035189.275675748,376188.333462483,335232.153177461,1700379.484759041,241078.499098294,260730.62591139323,933191.1872854044,186616.62295196296,981337.4232497727,1207066.7033542793,2099138.8100286718,143831.89772037225,973766.088071404,34297.395969088364,1607574.0456348227,1052390.2242291465,301485.7460338985,447496.10786668834,864592.2629320972,85035.20179214247,38895.2611005051,2106423.3130331864,1024731.9881193072,216674.3710946581,593942.2484906976,2344058.304509239,306278.2752037646,1106104.7283255726,1871824.466548787,1594887.3361253373,926173.7784539602,113340.61179034613,878493.5759953647,771024.4963093419,36672.00045789803,1806539.9463202609,108317.83149722092,151248.159602121,53269.147182519,165327.090656767,115596.74681056407,49642.68303060167,1048286.7674511988,123046.45431128611,299182.0884377224,2232423.5451170523,993632.6795559094,128068.022514494,2076134.033799918,48152.476523919,130166.523426768,981788.232724916,118063.302642424,985290.247476278,121190.253111945,1179755.864617163,358350.351877028,47917.039442632,2064473.571569463,330683.31879565766,223824.77298824256,1077233.6407120668,286841.753960818,34586.398503564946,273459.1026607398,100264.4079378386,238323.23374638084,309603.1080709813,193217.05775855383,99292.75887089389,1851080.885927032,1054386.0080449162,174903.04889646574,192058.3978499926,503292.2516607609,1015832.6770128142,1948755.726965968,695304.0125957185,219788.50922488436,871757.4144447459,249372.6726451713,350075.1657238663,115891.54759145631,1686422.661021606,923719.849163931,111719.09364367,506454.60117081006,448285.6438398625,2006110.3780828863,1944245.890365121,421721.20349693205,438084.2250604073,2021779.7796805988,607250.8083661493,1562572.6120617387],\"x0\":\" \",\"xaxis\":\"x\",\"y\":[\"Pepsi Regular (L3)\",\"Pepsi Regular (L3)\",\"Pepsi Regular (L3)\",\"Pepsi Regular (L3)\",\"Pepsi Regular (L3)\",\"Pepsi Regular (L3)\",\"Pepsi Regular (L3)\",\"Pepsi Regular (L3)\",\"Pepsi Regular (L3)\",\"Pepsi Regular (L3)\",\"Pepsi Regular (L3)\",\"Pepsi Regular (L3)\",\"Pepsi Regular (L3)\",\"Pepsi Regular (L3)\",\"Pepsi Regular (L3)\",\"Pepsi Regular (L3)\",\"Pepsi Regular (L3)\",\"Pepsi Regular (L3)\",\"Pepsi Regular (L3)\",\"Pepsi Regular (L3)\",\"Pepsi Regular (L3)\",\"Pepsi Regular (L3)\",\"Pepsi Regular (L3)\",\"Pepsi Regular (L3)\",\"Pepsi Regular (L3)\",\"Pepsi Regular (L3)\",\"Pepsi Regular (L3)\",\"Pepsi Regular (L3)\",\"Pepsi Regular (L3)\",\"Pepsi Regular (L3)\",\"Pepsi Regular (L3)\",\"Pepsi Regular (L3)\",\"Pepsi Regular (L3)\",\"Pepsi Regular (L3)\",\"Pepsi Regular (L3)\",\"Pepsi Regular (L3)\",\"Pepsi Regular (L3)\",\"Pepsi Regular (L3)\",\"Pepsi Regular (L3)\",\"Pepsi Regular (L3)\",\"Pepsi Regular (L3)\",\"Pepsi Regular (L3)\",\"Pepsi Regular (L3)\",\"Pepsi Regular (L3)\",\"Pepsi Regular (L3)\",\"Pepsi Regular (L3)\",\"Pepsi Regular (L3)\",\"Pepsi Regular (L3)\",\"Pepsi Regular (L3)\",\"Pepsi Regular (L3)\",\"Pepsi Regular (L3)\",\"Pepsi Regular (L3)\",\"Pepsi Regular (L3)\",\"Pepsi Regular (L3)\",\"Pepsi Regular (L3)\",\"Pepsi Regular (L3)\",\"Pepsi Regular (L3)\",\"Pepsi Regular (L3)\",\"Pepsi Regular (L3)\",\"Pepsi Regular (L3)\",\"Pepsi Regular (L3)\",\"Pepsi Regular (L3)\",\"Pepsi Regular (L3)\",\"Pepsi Regular (L3)\",\"Pepsi Regular (L3)\",\"Pepsi Regular (L3)\",\"Pepsi Regular (L3)\",\"Pepsi Regular (L3)\",\"Pepsi Regular (L3)\",\"Pepsi Regular (L3)\",\"Pepsi Regular (L3)\",\"Pepsi Regular (L3)\",\"Pepsi Regular (L3)\",\"Pepsi Regular (L3)\",\"Pepsi Regular (L3)\",\"Pepsi Regular (L3)\",\"Pepsi Regular (L3)\",\"Pepsi Regular (L3)\",\"Pepsi Regular (L3)\",\"Pepsi Regular (L3)\",\"Pepsi Regular (L3)\",\"Pepsi Regular (L3)\",\"Pepsi Regular (L3)\",\"Pepsi Regular (L3)\",\"Pepsi Regular (L3)\",\"Pepsi Regular (L3)\",\"Pepsi Regular (L3)\",\"Pepsi Regular (L3)\",\"Pepsi Regular (L3)\",\"Pepsi Regular (L3)\",\"Pepsi Regular (L3)\",\"Pepsi Regular (L3)\",\"Pepsi Regular (L3)\",\"Pepsi Regular (L3)\",\"Pepsi Regular (L3)\",\"Pepsi Regular (L3)\",\"Pepsi Regular (L3)\",\"Pepsi Regular (L3)\",\"Pepsi Regular (L3)\",\"Pepsi Regular (L3)\",\"Pepsi Regular (L3)\",\"Pepsi Regular (L3)\",\"Pepsi Regular (L3)\",\"Pepsi Regular (L3)\",\"Pepsi Regular (L3)\",\"Pepsi Regular (L3)\",\"Pepsi Regular (L3)\",\"Pepsi Regular (L3)\",\"Pepsi Regular (L3)\",\"Pepsi Regular (L3)\",\"Pepsi Regular (L3)\",\"Pepsi Regular (L3)\",\"Pepsi Regular (L3)\",\"Pepsi Regular (L3)\",\"Pepsi Regular (L3)\",\"Pepsi Regular (L3)\",\"Pepsi Regular (L3)\",\"Pepsi Regular (L3)\",\"Pepsi Regular (L3)\",\"Pepsi Regular (L3)\",\"Pepsi Regular (L3)\",\"Pepsi Regular (L3)\",\"Pepsi Regular (L3)\",\"Pepsi Regular (L3)\",\"Pepsi Regular (L3)\",\"Pepsi Regular (L3)\",\"Pepsi Regular (L3)\",\"Pepsi Regular (L3)\",\"Pepsi Regular (L3)\",\"Pepsi Regular (L3)\",\"Pepsi Regular (L3)\",\"Pepsi Regular (L3)\",\"Pepsi Regular (L3)\",\"Pepsi Regular (L3)\",\"Pepsi Regular (L3)\",\"Pepsi Regular (L3)\",\"Pepsi Regular (L3)\",\"Pepsi Regular (L3)\",\"Pepsi Regular (L3)\",\"Pepsi Regular (L3)\",\"Pepsi Regular (L3)\",\"Pepsi Regular (L3)\",\"Pepsi Regular (L3)\",\"Pepsi Regular (L3)\",\"Pepsi Regular (L3)\",\"Pepsi Regular (L3)\",\"Pepsi Regular (L3)\",\"Pepsi Regular (L3)\",\"Pepsi Regular (L3)\",\"Pepsi Regular (L3)\",\"Pepsi Regular (L3)\",\"Pepsi Regular (L3)\",\"Pepsi Regular (L3)\",\"Pepsi Regular (L3)\",\"Pepsi Regular (L3)\",\"Pepsi Regular (L3)\",\"Pepsi Regular (L3)\",\"Pepsi Regular (L3)\",\"Pepsi Regular (L3)\",\"Pepsi Regular (L3)\",\"Pepsi Regular (L3)\",\"Pepsi Regular (L3)\",\"Pepsi Regular (L3)\",\"Pepsi Regular (L3)\",\"Pepsi Regular (L3)\",\"Pepsi Regular (L3)\",\"Pepsi Regular (L3)\",\"Pepsi Regular (L3)\",\"Pepsi Regular (L3)\",\"Pepsi Regular (L3)\",\"Pepsi Regular (L3)\",\"Pepsi Regular (L3)\",\"Pepsi Regular (L3)\",\"Pepsi Regular (L3)\",\"Pepsi Regular (L3)\",\"Pepsi Regular (L3)\",\"Pepsi Regular (L3)\",\"Pepsi Regular (L3)\",\"Pepsi Regular (L3)\",\"Pepsi Regular (L3)\"],\"y0\":\" \",\"yaxis\":\"y\",\"type\":\"box\"},{\"alignmentgroup\":\"True\",\"customdata\":[[2023,10],[2023,10],[2024,2],[2024,2],[2024,7],[2024,7],[2023,5],[2023,5],[2023,11],[2023,12],[2024,6],[2024,8],[2024,8],[2024,8],[2024,5],[2024,5],[2023,8],[2023,8],[2023,8],[2023,4],[2023,4],[2024,3],[2023,7],[2023,2],[2023,9],[2023,3],[2023,10],[2024,1],[2024,1],[2024,7],[2024,7],[2024,4],[2023,5],[2023,11],[2023,12],[2023,12],[2024,6],[2024,6],[2024,8],[2024,5],[2023,4],[2023,4],[2023,4],[2023,4],[2024,3],[2023,6],[2023,6],[2023,6],[2023,6],[2023,1],[2023,1],[2023,7],[2023,7],[2023,2],[2023,9],[2023,3],[2023,10],[2023,3],[2023,3],[2023,3],[2024,1],[2024,2],[2024,7],[2024,7],[2024,4],[2024,4],[2023,5],[2023,5],[2023,12],[2024,6],[2024,6],[2024,5],[2024,5],[2023,8],[2023,8],[2023,8],[2023,4],[2024,3],[2023,6],[2023,6],[2023,6],[2023,1],[2023,1],[2023,2],[2023,2],[2023,2],[2023,9],[2023,9],[2023,9],[2023,3],[2023,10],[2023,10],[2024,1],[2024,1],[2024,1],[2024,2],[2024,2],[2024,2],[2024,2],[2024,4],[2024,4],[2024,4],[2023,5],[2023,5],[2023,11],[2023,11],[2023,11],[2023,12],[2024,6],[2024,8],[2024,8],[2024,5],[2023,8],[2024,3],[2024,3],[2024,3],[2023,1],[2023,1],[2023,7],[2023,7],[2023,7],[2023,2],[2023,10],[2023,3],[2024,1],[2024,4],[2024,7],[2023,11],[2023,11],[2023,12],[2023,12],[2024,6],[2024,8],[2024,3],[2023,7],[2023,2],[2023,9]],\"hovertemplate\":\"=%{y}\\u003cbr\\u003eCantidad=%{x}\\u003cbr\\u003eYEAR=%{customdata[0]}\\u003cbr\\u003eMONTH=%{customdata[1]}\\u003cextra\\u003e\\u003c\\u002fextra\\u003e\",\"legendgroup\":\"Lipton (L3)\",\"marker\":{\"color\":\"rgb(51, 34, 136)\"},\"name\":\"Lipton (L3)\",\"notched\":true,\"offsetgroup\":\"Lipton (L3)\",\"orientation\":\"h\",\"showlegend\":true,\"x\":[1206886.222904764,642688.8624756082,8003.513133044036,287384.59063616133,480667.294808845,15308.024486978,874043.682909132,311656.59760625,511840.46921868506,8591.425799032075,379306.000929886,16677.562291743,829271.484223649,462035.781209272,8909.258698302,769221.568054214,644766.3709819448,310316.8858660965,356247.3093537218,5781.138827640136,241540.5451100012,606040.6452628688,9078.885271885763,5337.329961325228,316922.2524356654,2061711.955717738,272927.96378429834,279790.3326555269,7392.653203701226,865671.68886885,986530.746092015,9613.097292765917,11759.247227955731,306240.8039472755,3218.847086711799,237346.75869002411,6618.035546977,9739.012208266,1266922.558875118,359128.547829213,584073.0946158236,270766.7115171924,657783.9962875036,1434733.1246962023,1169245.468570583,932690.8871246118,302972.6106528218,11845.311399723854,2245735.412425239,314354.5222714561,1854979.9933780893,399943.1889428192,696546.3075806783,195816.13280451985,294266.052848478,9426.005681457948,10942.085509666931,4765.66187400055,615373.1719301459,271460.49044402025,245344.32084908392,256625.6720106303,-3177.46014526,1589825.171007304,745942.7747212107,1241237.3672976266,883778.1448789388,1045.064211393912,533035.6995977542,857590.691989599,1822674.050566031,745673.687769899,321262.608046326,1219854.9847308616,229142.92054412377,2411275.506681789,9617.009842166068,6855.564870062626,1011623.23180912,344308.88392637006,9113.9320761097,204094.2248490698,647593.3125752892,10132.837981585457,191676.7486421562,310512.9655590231,1534608.0674589474,-217120.10313272703,10634.28934295154,970709.8159249892,245019.93944773977,1391180.6724761014,3823.096376969842,559138.4604059091,592168.3585412072,636620.1057392238,73.96814438581785,1051473.5511049433,522385.952568808,406366.91102863743,731579.0674730367,300841.679750516,75731.47097983136,825929.5338950215,2690.327080089889,257105.39744686615,1410549.5833127866,596053.7767077833,325133.96159292,1801768.981634766,451693.932146554,1566569.737870988,16355.798251764669,241767.3204359541,-173.29679541820178,698062.6725042795,368979.1180883814,9208.97938049918,1085059.273139701,870973.6265172276,1642085.0985889696,1359168.3796749625,3906.5747113481225,295028.3579776405,947164.4276626772,254.66175424260143,435577.701774531,546042.753587455,8034.032890992088,247952.81558372203,1578557.8747895432,840563.337865345,-2435.665325847,330685.54463290673,13255.914481677031,309567.536438117,849263.3769980205],\"x0\":\" \",\"xaxis\":\"x\",\"y\":[\"Lipton (L3)\",\"Lipton (L3)\",\"Lipton (L3)\",\"Lipton (L3)\",\"Lipton (L3)\",\"Lipton (L3)\",\"Lipton (L3)\",\"Lipton (L3)\",\"Lipton (L3)\",\"Lipton (L3)\",\"Lipton (L3)\",\"Lipton (L3)\",\"Lipton (L3)\",\"Lipton (L3)\",\"Lipton (L3)\",\"Lipton (L3)\",\"Lipton (L3)\",\"Lipton (L3)\",\"Lipton (L3)\",\"Lipton (L3)\",\"Lipton (L3)\",\"Lipton (L3)\",\"Lipton (L3)\",\"Lipton (L3)\",\"Lipton (L3)\",\"Lipton (L3)\",\"Lipton (L3)\",\"Lipton (L3)\",\"Lipton (L3)\",\"Lipton (L3)\",\"Lipton (L3)\",\"Lipton (L3)\",\"Lipton (L3)\",\"Lipton (L3)\",\"Lipton (L3)\",\"Lipton (L3)\",\"Lipton (L3)\",\"Lipton (L3)\",\"Lipton (L3)\",\"Lipton (L3)\",\"Lipton (L3)\",\"Lipton (L3)\",\"Lipton (L3)\",\"Lipton (L3)\",\"Lipton (L3)\",\"Lipton (L3)\",\"Lipton (L3)\",\"Lipton (L3)\",\"Lipton (L3)\",\"Lipton (L3)\",\"Lipton (L3)\",\"Lipton (L3)\",\"Lipton (L3)\",\"Lipton (L3)\",\"Lipton (L3)\",\"Lipton (L3)\",\"Lipton (L3)\",\"Lipton (L3)\",\"Lipton (L3)\",\"Lipton (L3)\",\"Lipton (L3)\",\"Lipton (L3)\",\"Lipton (L3)\",\"Lipton (L3)\",\"Lipton (L3)\",\"Lipton (L3)\",\"Lipton (L3)\",\"Lipton (L3)\",\"Lipton (L3)\",\"Lipton (L3)\",\"Lipton (L3)\",\"Lipton (L3)\",\"Lipton (L3)\",\"Lipton (L3)\",\"Lipton (L3)\",\"Lipton (L3)\",\"Lipton (L3)\",\"Lipton (L3)\",\"Lipton (L3)\",\"Lipton (L3)\",\"Lipton (L3)\",\"Lipton (L3)\",\"Lipton (L3)\",\"Lipton (L3)\",\"Lipton (L3)\",\"Lipton (L3)\",\"Lipton (L3)\",\"Lipton (L3)\",\"Lipton (L3)\",\"Lipton (L3)\",\"Lipton (L3)\",\"Lipton (L3)\",\"Lipton (L3)\",\"Lipton (L3)\",\"Lipton (L3)\",\"Lipton (L3)\",\"Lipton (L3)\",\"Lipton (L3)\",\"Lipton (L3)\",\"Lipton (L3)\",\"Lipton (L3)\",\"Lipton (L3)\",\"Lipton (L3)\",\"Lipton (L3)\",\"Lipton (L3)\",\"Lipton (L3)\",\"Lipton (L3)\",\"Lipton (L3)\",\"Lipton (L3)\",\"Lipton (L3)\",\"Lipton (L3)\",\"Lipton (L3)\",\"Lipton (L3)\",\"Lipton (L3)\",\"Lipton (L3)\",\"Lipton (L3)\",\"Lipton (L3)\",\"Lipton (L3)\",\"Lipton (L3)\",\"Lipton (L3)\",\"Lipton (L3)\",\"Lipton (L3)\",\"Lipton (L3)\",\"Lipton (L3)\",\"Lipton (L3)\",\"Lipton (L3)\",\"Lipton (L3)\",\"Lipton (L3)\",\"Lipton (L3)\",\"Lipton (L3)\",\"Lipton (L3)\",\"Lipton (L3)\",\"Lipton (L3)\",\"Lipton (L3)\",\"Lipton (L3)\",\"Lipton (L3)\",\"Lipton (L3)\"],\"y0\":\" \",\"yaxis\":\"y\",\"type\":\"box\"},{\"alignmentgroup\":\"True\",\"customdata\":[[2024,1],[2024,2],[2024,7],[2023,11],[2024,6],[2024,8],[2024,5],[2023,4],[2024,3],[2023,6],[2023,6],[2023,7],[2023,3],[2024,1],[2024,1],[2024,1],[2024,2],[2024,7],[2024,7],[2024,4],[2024,6],[2024,8],[2023,8],[2023,4],[2024,3],[2023,6],[2023,6],[2023,1],[2023,2],[2024,1],[2024,2],[2024,2],[2024,4],[2024,7],[2023,5],[2023,5],[2023,11],[2023,11],[2023,11],[2023,12],[2023,12],[2023,12],[2024,6],[2024,8],[2023,8],[2023,4],[2024,3],[2023,1],[2023,1],[2023,1],[2023,7],[2023,7],[2023,2],[2023,2],[2023,2],[2023,9],[2023,9],[2023,10],[2023,10],[2023,3],[2023,10],[2023,10],[2024,4],[2024,4],[2024,7],[2023,5],[2023,5],[2023,5],[2023,12],[2023,12],[2024,6],[2024,6],[2024,8],[2024,8],[2024,5],[2024,5],[2024,5],[2024,5],[2023,8],[2023,8],[2023,8],[2023,4],[2023,4],[2024,3],[2024,3],[2023,7],[2023,7],[2023,9],[2023,9],[2023,10],[2023,3],[2023,3],[2023,3],[2024,2],[2024,4],[2023,11],[2023,6],[2023,1],[2023,2],[2023,9]],\"hovertemplate\":\"=%{y}\\u003cbr\\u003eCantidad=%{x}\\u003cbr\\u003eYEAR=%{customdata[0]}\\u003cbr\\u003eMONTH=%{customdata[1]}\\u003cextra\\u003e\\u003c\\u002fextra\\u003e\",\"legendgroup\":\"Mountain Dew (L3)\",\"marker\":{\"color\":\"rgb(170, 68, 153)\"},\"name\":\"Mountain Dew (L3)\",\"notched\":true,\"offsetgroup\":\"Mountain Dew (L3)\",\"orientation\":\"h\",\"showlegend\":true,\"x\":[51328.769601558255,90174.6081379048,12583.038047805,94278.57019189453,196195.228350228,40695.476671856,78607.338344382,42561.53445154382,22482.30047973625,21947.47557290089,19464.18885123949,60504.8713306517,86546.85001373693,55881.68309193888,28582.38290138285,150676.03164427663,8652.159517586808,81390.830063471,212553.774840966,158102.72752248985,101538.482807691,212753.497636541,11369.960479877143,165850.19365564658,52057.7761653505,97490.71875902588,226203.12356906864,36744.908526061445,8730.354413080386,9051.587497270224,55111.12086570907,157587.1653293696,81093.61521242946,54319.739632132,47794.99200439583,232377.61780307567,59886.1971444774,167743.52121829058,8073.094615823547,147858.78833134912,70500.65097583567,41169.05047621396,37561.235056674,73714.991933949,191911.6951385317,8225.257655727459,62413.95733270872,20454.005903362384,70126.82014469578,151776.04207026272,86197.8189964284,10987.43950462477,21617.929878199124,57389.50568145794,162902.67201115863,85027.72044268173,34381.749593175206,180099.9867561799,8882.517452959783,52614.12227990955,67437.3486215508,42629.28846343508,74824.22465182138,48258.103034102845,79621.355307744,112877.10016695668,12671.79983918973,89930.45585510698,46108.395032158536,8533.810486569499,54778.840531724,15023.986812536,88567.089106959,9112.875388333,104483.304333125,203606.315118387,11817.9960973,41008.273865293,51530.94352003832,47132.14864074729,78397.8366917219,40746.14837305305,74826.79830648172,166701.00568498025,81001.74299239888,45946.17915348742,199373.0486851282,9780.702063359,31914.78869766754,37529.780983846766,43951.49098645326,201330.17900290943,9913.84472325347,37371.189759990986,8365.40798010609,36440.17738265483,47183.25783886216,9224.884292688424,22991.060421407088,206646.31307545456],\"x0\":\" \",\"xaxis\":\"x\",\"y\":[\"Mountain Dew (L3)\",\"Mountain Dew (L3)\",\"Mountain Dew (L3)\",\"Mountain Dew (L3)\",\"Mountain Dew (L3)\",\"Mountain Dew (L3)\",\"Mountain Dew (L3)\",\"Mountain Dew (L3)\",\"Mountain Dew (L3)\",\"Mountain Dew (L3)\",\"Mountain Dew (L3)\",\"Mountain Dew (L3)\",\"Mountain Dew (L3)\",\"Mountain Dew (L3)\",\"Mountain Dew (L3)\",\"Mountain Dew (L3)\",\"Mountain Dew (L3)\",\"Mountain Dew (L3)\",\"Mountain Dew (L3)\",\"Mountain Dew (L3)\",\"Mountain Dew (L3)\",\"Mountain Dew (L3)\",\"Mountain Dew (L3)\",\"Mountain Dew (L3)\",\"Mountain Dew (L3)\",\"Mountain Dew (L3)\",\"Mountain Dew (L3)\",\"Mountain Dew (L3)\",\"Mountain Dew (L3)\",\"Mountain Dew (L3)\",\"Mountain Dew (L3)\",\"Mountain Dew (L3)\",\"Mountain Dew (L3)\",\"Mountain Dew (L3)\",\"Mountain Dew (L3)\",\"Mountain Dew (L3)\",\"Mountain Dew (L3)\",\"Mountain Dew (L3)\",\"Mountain Dew (L3)\",\"Mountain Dew (L3)\",\"Mountain Dew (L3)\",\"Mountain Dew (L3)\",\"Mountain Dew (L3)\",\"Mountain Dew (L3)\",\"Mountain Dew (L3)\",\"Mountain Dew (L3)\",\"Mountain Dew (L3)\",\"Mountain Dew (L3)\",\"Mountain Dew (L3)\",\"Mountain Dew (L3)\",\"Mountain Dew (L3)\",\"Mountain Dew (L3)\",\"Mountain Dew (L3)\",\"Mountain Dew (L3)\",\"Mountain Dew (L3)\",\"Mountain Dew (L3)\",\"Mountain Dew (L3)\",\"Mountain Dew (L3)\",\"Mountain Dew (L3)\",\"Mountain Dew (L3)\",\"Mountain Dew (L3)\",\"Mountain Dew (L3)\",\"Mountain Dew (L3)\",\"Mountain Dew (L3)\",\"Mountain Dew (L3)\",\"Mountain Dew (L3)\",\"Mountain Dew (L3)\",\"Mountain Dew (L3)\",\"Mountain Dew (L3)\",\"Mountain Dew (L3)\",\"Mountain Dew (L3)\",\"Mountain Dew (L3)\",\"Mountain Dew (L3)\",\"Mountain Dew (L3)\",\"Mountain Dew (L3)\",\"Mountain Dew (L3)\",\"Mountain Dew (L3)\",\"Mountain Dew (L3)\",\"Mountain Dew (L3)\",\"Mountain Dew (L3)\",\"Mountain Dew (L3)\",\"Mountain Dew (L3)\",\"Mountain Dew (L3)\",\"Mountain Dew (L3)\",\"Mountain Dew (L3)\",\"Mountain Dew (L3)\",\"Mountain Dew (L3)\",\"Mountain Dew (L3)\",\"Mountain Dew (L3)\",\"Mountain Dew (L3)\",\"Mountain Dew (L3)\",\"Mountain Dew (L3)\",\"Mountain Dew (L3)\",\"Mountain Dew (L3)\",\"Mountain Dew (L3)\",\"Mountain Dew (L3)\",\"Mountain Dew (L3)\",\"Mountain Dew (L3)\",\"Mountain Dew (L3)\",\"Mountain Dew (L3)\"],\"y0\":\" \",\"yaxis\":\"y\",\"type\":\"box\"}],                        {\"template\":{\"data\":{\"barpolar\":[{\"marker\":{\"line\":{\"color\":\"white\",\"width\":0.5},\"pattern\":{\"fillmode\":\"overlay\",\"size\":10,\"solidity\":0.2}},\"type\":\"barpolar\"}],\"bar\":[{\"error_x\":{\"color\":\"#2a3f5f\"},\"error_y\":{\"color\":\"#2a3f5f\"},\"marker\":{\"line\":{\"color\":\"white\",\"width\":0.5},\"pattern\":{\"fillmode\":\"overlay\",\"size\":10,\"solidity\":0.2}},\"type\":\"bar\"}],\"carpet\":[{\"aaxis\":{\"endlinecolor\":\"#2a3f5f\",\"gridcolor\":\"#C8D4E3\",\"linecolor\":\"#C8D4E3\",\"minorgridcolor\":\"#C8D4E3\",\"startlinecolor\":\"#2a3f5f\"},\"baxis\":{\"endlinecolor\":\"#2a3f5f\",\"gridcolor\":\"#C8D4E3\",\"linecolor\":\"#C8D4E3\",\"minorgridcolor\":\"#C8D4E3\",\"startlinecolor\":\"#2a3f5f\"},\"type\":\"carpet\"}],\"choropleth\":[{\"colorbar\":{\"outlinewidth\":0,\"ticks\":\"\"},\"type\":\"choropleth\"}],\"contourcarpet\":[{\"colorbar\":{\"outlinewidth\":0,\"ticks\":\"\"},\"type\":\"contourcarpet\"}],\"contour\":[{\"colorbar\":{\"outlinewidth\":0,\"ticks\":\"\"},\"colorscale\":[[0.0,\"#0d0887\"],[0.1111111111111111,\"#46039f\"],[0.2222222222222222,\"#7201a8\"],[0.3333333333333333,\"#9c179e\"],[0.4444444444444444,\"#bd3786\"],[0.5555555555555556,\"#d8576b\"],[0.6666666666666666,\"#ed7953\"],[0.7777777777777778,\"#fb9f3a\"],[0.8888888888888888,\"#fdca26\"],[1.0,\"#f0f921\"]],\"type\":\"contour\"}],\"heatmapgl\":[{\"colorbar\":{\"outlinewidth\":0,\"ticks\":\"\"},\"colorscale\":[[0.0,\"#0d0887\"],[0.1111111111111111,\"#46039f\"],[0.2222222222222222,\"#7201a8\"],[0.3333333333333333,\"#9c179e\"],[0.4444444444444444,\"#bd3786\"],[0.5555555555555556,\"#d8576b\"],[0.6666666666666666,\"#ed7953\"],[0.7777777777777778,\"#fb9f3a\"],[0.8888888888888888,\"#fdca26\"],[1.0,\"#f0f921\"]],\"type\":\"heatmapgl\"}],\"heatmap\":[{\"colorbar\":{\"outlinewidth\":0,\"ticks\":\"\"},\"colorscale\":[[0.0,\"#0d0887\"],[0.1111111111111111,\"#46039f\"],[0.2222222222222222,\"#7201a8\"],[0.3333333333333333,\"#9c179e\"],[0.4444444444444444,\"#bd3786\"],[0.5555555555555556,\"#d8576b\"],[0.6666666666666666,\"#ed7953\"],[0.7777777777777778,\"#fb9f3a\"],[0.8888888888888888,\"#fdca26\"],[1.0,\"#f0f921\"]],\"type\":\"heatmap\"}],\"histogram2dcontour\":[{\"colorbar\":{\"outlinewidth\":0,\"ticks\":\"\"},\"colorscale\":[[0.0,\"#0d0887\"],[0.1111111111111111,\"#46039f\"],[0.2222222222222222,\"#7201a8\"],[0.3333333333333333,\"#9c179e\"],[0.4444444444444444,\"#bd3786\"],[0.5555555555555556,\"#d8576b\"],[0.6666666666666666,\"#ed7953\"],[0.7777777777777778,\"#fb9f3a\"],[0.8888888888888888,\"#fdca26\"],[1.0,\"#f0f921\"]],\"type\":\"histogram2dcontour\"}],\"histogram2d\":[{\"colorbar\":{\"outlinewidth\":0,\"ticks\":\"\"},\"colorscale\":[[0.0,\"#0d0887\"],[0.1111111111111111,\"#46039f\"],[0.2222222222222222,\"#7201a8\"],[0.3333333333333333,\"#9c179e\"],[0.4444444444444444,\"#bd3786\"],[0.5555555555555556,\"#d8576b\"],[0.6666666666666666,\"#ed7953\"],[0.7777777777777778,\"#fb9f3a\"],[0.8888888888888888,\"#fdca26\"],[1.0,\"#f0f921\"]],\"type\":\"histogram2d\"}],\"histogram\":[{\"marker\":{\"pattern\":{\"fillmode\":\"overlay\",\"size\":10,\"solidity\":0.2}},\"type\":\"histogram\"}],\"mesh3d\":[{\"colorbar\":{\"outlinewidth\":0,\"ticks\":\"\"},\"type\":\"mesh3d\"}],\"parcoords\":[{\"line\":{\"colorbar\":{\"outlinewidth\":0,\"ticks\":\"\"}},\"type\":\"parcoords\"}],\"pie\":[{\"automargin\":true,\"type\":\"pie\"}],\"scatter3d\":[{\"line\":{\"colorbar\":{\"outlinewidth\":0,\"ticks\":\"\"}},\"marker\":{\"colorbar\":{\"outlinewidth\":0,\"ticks\":\"\"}},\"type\":\"scatter3d\"}],\"scattercarpet\":[{\"marker\":{\"colorbar\":{\"outlinewidth\":0,\"ticks\":\"\"}},\"type\":\"scattercarpet\"}],\"scattergeo\":[{\"marker\":{\"colorbar\":{\"outlinewidth\":0,\"ticks\":\"\"}},\"type\":\"scattergeo\"}],\"scattergl\":[{\"marker\":{\"colorbar\":{\"outlinewidth\":0,\"ticks\":\"\"}},\"type\":\"scattergl\"}],\"scattermapbox\":[{\"marker\":{\"colorbar\":{\"outlinewidth\":0,\"ticks\":\"\"}},\"type\":\"scattermapbox\"}],\"scatterpolargl\":[{\"marker\":{\"colorbar\":{\"outlinewidth\":0,\"ticks\":\"\"}},\"type\":\"scatterpolargl\"}],\"scatterpolar\":[{\"marker\":{\"colorbar\":{\"outlinewidth\":0,\"ticks\":\"\"}},\"type\":\"scatterpolar\"}],\"scatter\":[{\"fillpattern\":{\"fillmode\":\"overlay\",\"size\":10,\"solidity\":0.2},\"type\":\"scatter\"}],\"scatterternary\":[{\"marker\":{\"colorbar\":{\"outlinewidth\":0,\"ticks\":\"\"}},\"type\":\"scatterternary\"}],\"surface\":[{\"colorbar\":{\"outlinewidth\":0,\"ticks\":\"\"},\"colorscale\":[[0.0,\"#0d0887\"],[0.1111111111111111,\"#46039f\"],[0.2222222222222222,\"#7201a8\"],[0.3333333333333333,\"#9c179e\"],[0.4444444444444444,\"#bd3786\"],[0.5555555555555556,\"#d8576b\"],[0.6666666666666666,\"#ed7953\"],[0.7777777777777778,\"#fb9f3a\"],[0.8888888888888888,\"#fdca26\"],[1.0,\"#f0f921\"]],\"type\":\"surface\"}],\"table\":[{\"cells\":{\"fill\":{\"color\":\"#EBF0F8\"},\"line\":{\"color\":\"white\"}},\"header\":{\"fill\":{\"color\":\"#C8D4E3\"},\"line\":{\"color\":\"white\"}},\"type\":\"table\"}]},\"layout\":{\"annotationdefaults\":{\"arrowcolor\":\"#2a3f5f\",\"arrowhead\":0,\"arrowwidth\":1},\"autotypenumbers\":\"strict\",\"coloraxis\":{\"colorbar\":{\"outlinewidth\":0,\"ticks\":\"\"}},\"colorscale\":{\"diverging\":[[0,\"#8e0152\"],[0.1,\"#c51b7d\"],[0.2,\"#de77ae\"],[0.3,\"#f1b6da\"],[0.4,\"#fde0ef\"],[0.5,\"#f7f7f7\"],[0.6,\"#e6f5d0\"],[0.7,\"#b8e186\"],[0.8,\"#7fbc41\"],[0.9,\"#4d9221\"],[1,\"#276419\"]],\"sequential\":[[0.0,\"#0d0887\"],[0.1111111111111111,\"#46039f\"],[0.2222222222222222,\"#7201a8\"],[0.3333333333333333,\"#9c179e\"],[0.4444444444444444,\"#bd3786\"],[0.5555555555555556,\"#d8576b\"],[0.6666666666666666,\"#ed7953\"],[0.7777777777777778,\"#fb9f3a\"],[0.8888888888888888,\"#fdca26\"],[1.0,\"#f0f921\"]],\"sequentialminus\":[[0.0,\"#0d0887\"],[0.1111111111111111,\"#46039f\"],[0.2222222222222222,\"#7201a8\"],[0.3333333333333333,\"#9c179e\"],[0.4444444444444444,\"#bd3786\"],[0.5555555555555556,\"#d8576b\"],[0.6666666666666666,\"#ed7953\"],[0.7777777777777778,\"#fb9f3a\"],[0.8888888888888888,\"#fdca26\"],[1.0,\"#f0f921\"]]},\"colorway\":[\"#636efa\",\"#EF553B\",\"#00cc96\",\"#ab63fa\",\"#FFA15A\",\"#19d3f3\",\"#FF6692\",\"#B6E880\",\"#FF97FF\",\"#FECB52\"],\"font\":{\"color\":\"#2a3f5f\"},\"geo\":{\"bgcolor\":\"white\",\"lakecolor\":\"white\",\"landcolor\":\"white\",\"showlakes\":true,\"showland\":true,\"subunitcolor\":\"#C8D4E3\"},\"hoverlabel\":{\"align\":\"left\"},\"hovermode\":\"closest\",\"mapbox\":{\"style\":\"light\"},\"paper_bgcolor\":\"white\",\"plot_bgcolor\":\"white\",\"polar\":{\"angularaxis\":{\"gridcolor\":\"#EBF0F8\",\"linecolor\":\"#EBF0F8\",\"ticks\":\"\"},\"bgcolor\":\"white\",\"radialaxis\":{\"gridcolor\":\"#EBF0F8\",\"linecolor\":\"#EBF0F8\",\"ticks\":\"\"}},\"scene\":{\"xaxis\":{\"backgroundcolor\":\"white\",\"gridcolor\":\"#DFE8F3\",\"gridwidth\":2,\"linecolor\":\"#EBF0F8\",\"showbackground\":true,\"ticks\":\"\",\"zerolinecolor\":\"#EBF0F8\"},\"yaxis\":{\"backgroundcolor\":\"white\",\"gridcolor\":\"#DFE8F3\",\"gridwidth\":2,\"linecolor\":\"#EBF0F8\",\"showbackground\":true,\"ticks\":\"\",\"zerolinecolor\":\"#EBF0F8\"},\"zaxis\":{\"backgroundcolor\":\"white\",\"gridcolor\":\"#DFE8F3\",\"gridwidth\":2,\"linecolor\":\"#EBF0F8\",\"showbackground\":true,\"ticks\":\"\",\"zerolinecolor\":\"#EBF0F8\"}},\"shapedefaults\":{\"line\":{\"color\":\"#2a3f5f\"}},\"ternary\":{\"aaxis\":{\"gridcolor\":\"#DFE8F3\",\"linecolor\":\"#A2B1C6\",\"ticks\":\"\"},\"baxis\":{\"gridcolor\":\"#DFE8F3\",\"linecolor\":\"#A2B1C6\",\"ticks\":\"\"},\"bgcolor\":\"white\",\"caxis\":{\"gridcolor\":\"#DFE8F3\",\"linecolor\":\"#A2B1C6\",\"ticks\":\"\"}},\"title\":{\"x\":0.05},\"xaxis\":{\"automargin\":true,\"gridcolor\":\"#EBF0F8\",\"linecolor\":\"#EBF0F8\",\"ticks\":\"\",\"title\":{\"standoff\":15},\"zerolinecolor\":\"#EBF0F8\",\"zerolinewidth\":2},\"yaxis\":{\"automargin\":true,\"gridcolor\":\"#EBF0F8\",\"linecolor\":\"#EBF0F8\",\"ticks\":\"\",\"title\":{\"standoff\":15},\"zerolinecolor\":\"#EBF0F8\",\"zerolinewidth\":2}}},\"xaxis\":{\"anchor\":\"y\",\"domain\":[0.0,1.0],\"title\":{\"text\":\"Cantidad\"}},\"yaxis\":{\"anchor\":\"x\",\"domain\":[0.0,1.0],\"title\":{\"text\":\"\"},\"categoryorder\":\"array\",\"categoryarray\":[\"Mountain Dew (L3)\",\"Lipton (L3)\",\"Pepsi Regular (L3)\",\"7up Free (L3)\",\"7up (L3)\",\"Pepsi Max (L3)\"]},\"legend\":{\"title\":{\"text\":\"\"},\"tracegroupgap\":0},\"title\":{\"text\":\"Distribuci\\u00f3n de las ventas por marca\",\"font\":{\"size\":24,\"color\":\"black\",\"family\":\"Arial\"}},\"boxmode\":\"overlay\",\"font\":{\"size\":16,\"color\":\"black\",\"family\":\"Arial\"},\"showlegend\":false},                        {\"responsive\": true}                    ).then(function(){\n",
              "                            \n",
              "var gd = document.getElementById('519a76ab-8413-4e4a-ad91-6946b8c505a8');\n",
              "var x = new MutationObserver(function (mutations, observer) {{\n",
              "        var display = window.getComputedStyle(gd).display;\n",
              "        if (!display || display === 'none') {{\n",
              "            console.log([gd, 'removed!']);\n",
              "            Plotly.purge(gd);\n",
              "            observer.disconnect();\n",
              "        }}\n",
              "}});\n",
              "\n",
              "// Listen for the removal of the full notebook cells\n",
              "var notebookContainer = gd.closest('#notebook-container');\n",
              "if (notebookContainer) {{\n",
              "    x.observe(notebookContainer, {childList: true});\n",
              "}}\n",
              "\n",
              "// Listen for the clearing of the current output cell\n",
              "var outputEl = gd.closest('.output');\n",
              "if (outputEl) {{\n",
              "    x.observe(outputEl, {childList: true});\n",
              "}}\n",
              "\n",
              "                        })                };                            </script>        </div>\n",
              "</body>\n",
              "</html>"
            ]
          },
          "metadata": {}
        }
      ]
    },
    {
      "cell_type": "markdown",
      "source": [
        "#  Tendencia y estacionalidad\n",
        "\n",
        "## Todas las ventas del país con menos ventas"
      ],
      "metadata": {
        "id": "d-PDqNEaoenZ"
      }
    },
    {
      "cell_type": "code",
      "source": [
        "# Sabemos por las gráficas anteriores que el país con menos ventas es España.\n",
        "data_espana = data[(data['COUNTRY'] == 'Spain') & (data['SCENARIO'] == 'actual')]\n",
        "data_espana = data_espana.groupby(['YEAR', 'MONTH'])['AMOUNT'].sum().reset_index()\n",
        "data_espana['YEAR_MONTH'] = pd.to_datetime(data_espana[['YEAR', 'MONTH']].assign(DAY=1))\n",
        "\n",
        "fig = px.area(data_espana, x=\"YEAR_MONTH\", y=\"AMOUNT\",\n",
        "              labels={'YEAR_MONTH':'','AMOUNT':'Cantidad'},\n",
        "              title='Total de ventas en España con respecto al tiempo',\n",
        "              markers=True,\n",
        "              color_discrete_sequence=px.colors.qualitative.Prism)\n",
        "\n",
        "fig.update_layout(\n",
        "    title_font=dict(size=24, color=\"black\", family=\"Arial\"),\n",
        "    font=dict(size=16, color=\"black\", family=\"Arial\"))\n",
        "\n",
        "fig.update_yaxes(range=[0, 800000])\n",
        "\n",
        "fig.show()"
      ],
      "metadata": {
        "colab": {
          "base_uri": "https://localhost:8080/",
          "height": 542
        },
        "id": "5He2O_TdorN_",
        "outputId": "3e93ac34-351f-4e51-e6a5-33e4c9e1a52f"
      },
      "execution_count": 105,
      "outputs": [
        {
          "output_type": "display_data",
          "data": {
            "text/html": [
              "<html>\n",
              "<head><meta charset=\"utf-8\" /></head>\n",
              "<body>\n",
              "    <div>            <script src=\"https://cdnjs.cloudflare.com/ajax/libs/mathjax/2.7.5/MathJax.js?config=TeX-AMS-MML_SVG\"></script><script type=\"text/javascript\">if (window.MathJax && window.MathJax.Hub && window.MathJax.Hub.Config) {window.MathJax.Hub.Config({SVG: {font: \"STIX-Web\"}});}</script>                <script type=\"text/javascript\">window.PlotlyConfig = {MathJaxConfig: 'local'};</script>\n",
              "        <script charset=\"utf-8\" src=\"https://cdn.plot.ly/plotly-2.35.2.min.js\"></script>                <div id=\"7ebe8910-43ae-4f53-aee6-52df091ad078\" class=\"plotly-graph-div\" style=\"height:525px; width:100%;\"></div>            <script type=\"text/javascript\">                                    window.PLOTLYENV=window.PLOTLYENV || {};                                    if (document.getElementById(\"7ebe8910-43ae-4f53-aee6-52df091ad078\")) {                    Plotly.newPlot(                        \"7ebe8910-43ae-4f53-aee6-52df091ad078\",                        [{\"fillpattern\":{\"shape\":\"\"},\"hovertemplate\":\"=%{x}\\u003cbr\\u003eCantidad=%{y}\\u003cextra\\u003e\\u003c\\u002fextra\\u003e\",\"legendgroup\":\"\",\"line\":{\"color\":\"rgb(95, 70, 144)\"},\"marker\":{\"symbol\":\"circle\"},\"mode\":\"lines+markers\",\"name\":\"\",\"orientation\":\"v\",\"showlegend\":false,\"stackgroup\":\"1\",\"x\":[\"2023-01-01T00:00:00\",\"2023-02-01T00:00:00\",\"2023-03-01T00:00:00\",\"2023-04-01T00:00:00\",\"2023-05-01T00:00:00\",\"2023-06-01T00:00:00\",\"2023-07-01T00:00:00\",\"2023-08-01T00:00:00\",\"2023-09-01T00:00:00\",\"2023-10-01T00:00:00\",\"2023-11-01T00:00:00\",\"2023-12-01T00:00:00\",\"2024-01-01T00:00:00\",\"2024-02-01T00:00:00\",\"2024-03-01T00:00:00\",\"2024-04-01T00:00:00\",\"2024-05-01T00:00:00\",\"2024-06-01T00:00:00\",\"2024-07-01T00:00:00\",\"2024-08-01T00:00:00\"],\"xaxis\":\"x\",\"y\":[325272.9389304911,295588.379604517,399710.27310997306,328035.2578740851,360751.156280142,439198.58628968743,496545.2361195783,564336.120819692,420041.9805910407,468425.84176011605,418006.199049298,394147.40859018476,349696.53314179694,352899.0356524695,332109.2562326968,376678.36889674753,356759.011785592,408967.746366754,506234.36278204597,537862.283643176],\"yaxis\":\"y\",\"type\":\"scatter\"}],                        {\"template\":{\"data\":{\"histogram2dcontour\":[{\"type\":\"histogram2dcontour\",\"colorbar\":{\"outlinewidth\":0,\"ticks\":\"\"},\"colorscale\":[[0.0,\"#0d0887\"],[0.1111111111111111,\"#46039f\"],[0.2222222222222222,\"#7201a8\"],[0.3333333333333333,\"#9c179e\"],[0.4444444444444444,\"#bd3786\"],[0.5555555555555556,\"#d8576b\"],[0.6666666666666666,\"#ed7953\"],[0.7777777777777778,\"#fb9f3a\"],[0.8888888888888888,\"#fdca26\"],[1.0,\"#f0f921\"]]}],\"choropleth\":[{\"type\":\"choropleth\",\"colorbar\":{\"outlinewidth\":0,\"ticks\":\"\"}}],\"histogram2d\":[{\"type\":\"histogram2d\",\"colorbar\":{\"outlinewidth\":0,\"ticks\":\"\"},\"colorscale\":[[0.0,\"#0d0887\"],[0.1111111111111111,\"#46039f\"],[0.2222222222222222,\"#7201a8\"],[0.3333333333333333,\"#9c179e\"],[0.4444444444444444,\"#bd3786\"],[0.5555555555555556,\"#d8576b\"],[0.6666666666666666,\"#ed7953\"],[0.7777777777777778,\"#fb9f3a\"],[0.8888888888888888,\"#fdca26\"],[1.0,\"#f0f921\"]]}],\"heatmap\":[{\"type\":\"heatmap\",\"colorbar\":{\"outlinewidth\":0,\"ticks\":\"\"},\"colorscale\":[[0.0,\"#0d0887\"],[0.1111111111111111,\"#46039f\"],[0.2222222222222222,\"#7201a8\"],[0.3333333333333333,\"#9c179e\"],[0.4444444444444444,\"#bd3786\"],[0.5555555555555556,\"#d8576b\"],[0.6666666666666666,\"#ed7953\"],[0.7777777777777778,\"#fb9f3a\"],[0.8888888888888888,\"#fdca26\"],[1.0,\"#f0f921\"]]}],\"heatmapgl\":[{\"type\":\"heatmapgl\",\"colorbar\":{\"outlinewidth\":0,\"ticks\":\"\"},\"colorscale\":[[0.0,\"#0d0887\"],[0.1111111111111111,\"#46039f\"],[0.2222222222222222,\"#7201a8\"],[0.3333333333333333,\"#9c179e\"],[0.4444444444444444,\"#bd3786\"],[0.5555555555555556,\"#d8576b\"],[0.6666666666666666,\"#ed7953\"],[0.7777777777777778,\"#fb9f3a\"],[0.8888888888888888,\"#fdca26\"],[1.0,\"#f0f921\"]]}],\"contourcarpet\":[{\"type\":\"contourcarpet\",\"colorbar\":{\"outlinewidth\":0,\"ticks\":\"\"}}],\"contour\":[{\"type\":\"contour\",\"colorbar\":{\"outlinewidth\":0,\"ticks\":\"\"},\"colorscale\":[[0.0,\"#0d0887\"],[0.1111111111111111,\"#46039f\"],[0.2222222222222222,\"#7201a8\"],[0.3333333333333333,\"#9c179e\"],[0.4444444444444444,\"#bd3786\"],[0.5555555555555556,\"#d8576b\"],[0.6666666666666666,\"#ed7953\"],[0.7777777777777778,\"#fb9f3a\"],[0.8888888888888888,\"#fdca26\"],[1.0,\"#f0f921\"]]}],\"surface\":[{\"type\":\"surface\",\"colorbar\":{\"outlinewidth\":0,\"ticks\":\"\"},\"colorscale\":[[0.0,\"#0d0887\"],[0.1111111111111111,\"#46039f\"],[0.2222222222222222,\"#7201a8\"],[0.3333333333333333,\"#9c179e\"],[0.4444444444444444,\"#bd3786\"],[0.5555555555555556,\"#d8576b\"],[0.6666666666666666,\"#ed7953\"],[0.7777777777777778,\"#fb9f3a\"],[0.8888888888888888,\"#fdca26\"],[1.0,\"#f0f921\"]]}],\"mesh3d\":[{\"type\":\"mesh3d\",\"colorbar\":{\"outlinewidth\":0,\"ticks\":\"\"}}],\"scatter\":[{\"fillpattern\":{\"fillmode\":\"overlay\",\"size\":10,\"solidity\":0.2},\"type\":\"scatter\"}],\"parcoords\":[{\"type\":\"parcoords\",\"line\":{\"colorbar\":{\"outlinewidth\":0,\"ticks\":\"\"}}}],\"scatterpolargl\":[{\"type\":\"scatterpolargl\",\"marker\":{\"colorbar\":{\"outlinewidth\":0,\"ticks\":\"\"}}}],\"bar\":[{\"error_x\":{\"color\":\"#2a3f5f\"},\"error_y\":{\"color\":\"#2a3f5f\"},\"marker\":{\"line\":{\"color\":\"#E5ECF6\",\"width\":0.5},\"pattern\":{\"fillmode\":\"overlay\",\"size\":10,\"solidity\":0.2}},\"type\":\"bar\"}],\"scattergeo\":[{\"type\":\"scattergeo\",\"marker\":{\"colorbar\":{\"outlinewidth\":0,\"ticks\":\"\"}}}],\"scatterpolar\":[{\"type\":\"scatterpolar\",\"marker\":{\"colorbar\":{\"outlinewidth\":0,\"ticks\":\"\"}}}],\"histogram\":[{\"marker\":{\"pattern\":{\"fillmode\":\"overlay\",\"size\":10,\"solidity\":0.2}},\"type\":\"histogram\"}],\"scattergl\":[{\"type\":\"scattergl\",\"marker\":{\"colorbar\":{\"outlinewidth\":0,\"ticks\":\"\"}}}],\"scatter3d\":[{\"type\":\"scatter3d\",\"line\":{\"colorbar\":{\"outlinewidth\":0,\"ticks\":\"\"}},\"marker\":{\"colorbar\":{\"outlinewidth\":0,\"ticks\":\"\"}}}],\"scattermapbox\":[{\"type\":\"scattermapbox\",\"marker\":{\"colorbar\":{\"outlinewidth\":0,\"ticks\":\"\"}}}],\"scatterternary\":[{\"type\":\"scatterternary\",\"marker\":{\"colorbar\":{\"outlinewidth\":0,\"ticks\":\"\"}}}],\"scattercarpet\":[{\"type\":\"scattercarpet\",\"marker\":{\"colorbar\":{\"outlinewidth\":0,\"ticks\":\"\"}}}],\"carpet\":[{\"aaxis\":{\"endlinecolor\":\"#2a3f5f\",\"gridcolor\":\"white\",\"linecolor\":\"white\",\"minorgridcolor\":\"white\",\"startlinecolor\":\"#2a3f5f\"},\"baxis\":{\"endlinecolor\":\"#2a3f5f\",\"gridcolor\":\"white\",\"linecolor\":\"white\",\"minorgridcolor\":\"white\",\"startlinecolor\":\"#2a3f5f\"},\"type\":\"carpet\"}],\"table\":[{\"cells\":{\"fill\":{\"color\":\"#EBF0F8\"},\"line\":{\"color\":\"white\"}},\"header\":{\"fill\":{\"color\":\"#C8D4E3\"},\"line\":{\"color\":\"white\"}},\"type\":\"table\"}],\"barpolar\":[{\"marker\":{\"line\":{\"color\":\"#E5ECF6\",\"width\":0.5},\"pattern\":{\"fillmode\":\"overlay\",\"size\":10,\"solidity\":0.2}},\"type\":\"barpolar\"}],\"pie\":[{\"automargin\":true,\"type\":\"pie\"}]},\"layout\":{\"autotypenumbers\":\"strict\",\"colorway\":[\"#636efa\",\"#EF553B\",\"#00cc96\",\"#ab63fa\",\"#FFA15A\",\"#19d3f3\",\"#FF6692\",\"#B6E880\",\"#FF97FF\",\"#FECB52\"],\"font\":{\"color\":\"#2a3f5f\"},\"hovermode\":\"closest\",\"hoverlabel\":{\"align\":\"left\"},\"paper_bgcolor\":\"white\",\"plot_bgcolor\":\"#E5ECF6\",\"polar\":{\"bgcolor\":\"#E5ECF6\",\"angularaxis\":{\"gridcolor\":\"white\",\"linecolor\":\"white\",\"ticks\":\"\"},\"radialaxis\":{\"gridcolor\":\"white\",\"linecolor\":\"white\",\"ticks\":\"\"}},\"ternary\":{\"bgcolor\":\"#E5ECF6\",\"aaxis\":{\"gridcolor\":\"white\",\"linecolor\":\"white\",\"ticks\":\"\"},\"baxis\":{\"gridcolor\":\"white\",\"linecolor\":\"white\",\"ticks\":\"\"},\"caxis\":{\"gridcolor\":\"white\",\"linecolor\":\"white\",\"ticks\":\"\"}},\"coloraxis\":{\"colorbar\":{\"outlinewidth\":0,\"ticks\":\"\"}},\"colorscale\":{\"sequential\":[[0.0,\"#0d0887\"],[0.1111111111111111,\"#46039f\"],[0.2222222222222222,\"#7201a8\"],[0.3333333333333333,\"#9c179e\"],[0.4444444444444444,\"#bd3786\"],[0.5555555555555556,\"#d8576b\"],[0.6666666666666666,\"#ed7953\"],[0.7777777777777778,\"#fb9f3a\"],[0.8888888888888888,\"#fdca26\"],[1.0,\"#f0f921\"]],\"sequentialminus\":[[0.0,\"#0d0887\"],[0.1111111111111111,\"#46039f\"],[0.2222222222222222,\"#7201a8\"],[0.3333333333333333,\"#9c179e\"],[0.4444444444444444,\"#bd3786\"],[0.5555555555555556,\"#d8576b\"],[0.6666666666666666,\"#ed7953\"],[0.7777777777777778,\"#fb9f3a\"],[0.8888888888888888,\"#fdca26\"],[1.0,\"#f0f921\"]],\"diverging\":[[0,\"#8e0152\"],[0.1,\"#c51b7d\"],[0.2,\"#de77ae\"],[0.3,\"#f1b6da\"],[0.4,\"#fde0ef\"],[0.5,\"#f7f7f7\"],[0.6,\"#e6f5d0\"],[0.7,\"#b8e186\"],[0.8,\"#7fbc41\"],[0.9,\"#4d9221\"],[1,\"#276419\"]]},\"xaxis\":{\"gridcolor\":\"white\",\"linecolor\":\"white\",\"ticks\":\"\",\"title\":{\"standoff\":15},\"zerolinecolor\":\"white\",\"automargin\":true,\"zerolinewidth\":2},\"yaxis\":{\"gridcolor\":\"white\",\"linecolor\":\"white\",\"ticks\":\"\",\"title\":{\"standoff\":15},\"zerolinecolor\":\"white\",\"automargin\":true,\"zerolinewidth\":2},\"scene\":{\"xaxis\":{\"backgroundcolor\":\"#E5ECF6\",\"gridcolor\":\"white\",\"linecolor\":\"white\",\"showbackground\":true,\"ticks\":\"\",\"zerolinecolor\":\"white\",\"gridwidth\":2},\"yaxis\":{\"backgroundcolor\":\"#E5ECF6\",\"gridcolor\":\"white\",\"linecolor\":\"white\",\"showbackground\":true,\"ticks\":\"\",\"zerolinecolor\":\"white\",\"gridwidth\":2},\"zaxis\":{\"backgroundcolor\":\"#E5ECF6\",\"gridcolor\":\"white\",\"linecolor\":\"white\",\"showbackground\":true,\"ticks\":\"\",\"zerolinecolor\":\"white\",\"gridwidth\":2}},\"shapedefaults\":{\"line\":{\"color\":\"#2a3f5f\"}},\"annotationdefaults\":{\"arrowcolor\":\"#2a3f5f\",\"arrowhead\":0,\"arrowwidth\":1},\"geo\":{\"bgcolor\":\"white\",\"landcolor\":\"#E5ECF6\",\"subunitcolor\":\"white\",\"showland\":true,\"showlakes\":true,\"lakecolor\":\"white\"},\"title\":{\"x\":0.05},\"mapbox\":{\"style\":\"light\"}}},\"xaxis\":{\"anchor\":\"y\",\"domain\":[0.0,1.0],\"title\":{\"text\":\"\"}},\"yaxis\":{\"anchor\":\"x\",\"domain\":[0.0,1.0],\"title\":{\"text\":\"Cantidad\"},\"range\":[0,800000]},\"legend\":{\"tracegroupgap\":0},\"title\":{\"text\":\"Total de ventas en Espa\\u00f1a con respecto al tiempo\",\"font\":{\"size\":24,\"color\":\"black\",\"family\":\"Arial\"}},\"font\":{\"size\":16,\"color\":\"black\",\"family\":\"Arial\"}},                        {\"responsive\": true}                    ).then(function(){\n",
              "                            \n",
              "var gd = document.getElementById('7ebe8910-43ae-4f53-aee6-52df091ad078');\n",
              "var x = new MutationObserver(function (mutations, observer) {{\n",
              "        var display = window.getComputedStyle(gd).display;\n",
              "        if (!display || display === 'none') {{\n",
              "            console.log([gd, 'removed!']);\n",
              "            Plotly.purge(gd);\n",
              "            observer.disconnect();\n",
              "        }}\n",
              "}});\n",
              "\n",
              "// Listen for the removal of the full notebook cells\n",
              "var notebookContainer = gd.closest('#notebook-container');\n",
              "if (notebookContainer) {{\n",
              "    x.observe(notebookContainer, {childList: true});\n",
              "}}\n",
              "\n",
              "// Listen for the clearing of the current output cell\n",
              "var outputEl = gd.closest('.output');\n",
              "if (outputEl) {{\n",
              "    x.observe(outputEl, {childList: true});\n",
              "}}\n",
              "\n",
              "                        })                };                            </script>        </div>\n",
              "</body>\n",
              "</html>"
            ]
          },
          "metadata": {}
        }
      ]
    },
    {
      "cell_type": "code",
      "source": [
        "print(data_espana)"
      ],
      "metadata": {
        "colab": {
          "base_uri": "https://localhost:8080/"
        },
        "id": "yRggxFztvykV",
        "outputId": "a19558a1-670b-4c21-ad81-c344a1a02365"
      },
      "execution_count": 106,
      "outputs": [
        {
          "output_type": "stream",
          "name": "stdout",
          "text": [
            "    YEAR  MONTH         AMOUNT YEAR_MONTH\n",
            "0   2023      1  325272.938930 2023-01-01\n",
            "1   2023      2  295588.379605 2023-02-01\n",
            "2   2023      3  399710.273110 2023-03-01\n",
            "3   2023      4  328035.257874 2023-04-01\n",
            "4   2023      5  360751.156280 2023-05-01\n",
            "5   2023      6  439198.586290 2023-06-01\n",
            "6   2023      7  496545.236120 2023-07-01\n",
            "7   2023      8  564336.120820 2023-08-01\n",
            "8   2023      9  420041.980591 2023-09-01\n",
            "9   2023     10  468425.841760 2023-10-01\n",
            "10  2023     11  418006.199049 2023-11-01\n",
            "11  2023     12  394147.408590 2023-12-01\n",
            "12  2024      1  349696.533142 2024-01-01\n",
            "13  2024      2  352899.035652 2024-02-01\n",
            "14  2024      3  332109.256233 2024-03-01\n",
            "15  2024      4  376678.368897 2024-04-01\n",
            "16  2024      5  356759.011786 2024-05-01\n",
            "17  2024      6  408967.746367 2024-06-01\n",
            "18  2024      7  506234.362782 2024-07-01\n",
            "19  2024      8  537862.283643 2024-08-01\n"
          ]
        }
      ]
    },
    {
      "cell_type": "code",
      "source": [
        "result = seasonal_decompose(data_espana['AMOUNT'], model='additive', period=5)\n",
        "px.line(result.trend, title='Tendencia')"
      ],
      "metadata": {
        "colab": {
          "base_uri": "https://localhost:8080/",
          "height": 542
        },
        "id": "IelTPUNvwTKa",
        "outputId": "34a28241-6a57-467e-9f1f-3385ca485e36"
      },
      "execution_count": 111,
      "outputs": [
        {
          "output_type": "display_data",
          "data": {
            "text/html": [
              "<html>\n",
              "<head><meta charset=\"utf-8\" /></head>\n",
              "<body>\n",
              "    <div>            <script src=\"https://cdnjs.cloudflare.com/ajax/libs/mathjax/2.7.5/MathJax.js?config=TeX-AMS-MML_SVG\"></script><script type=\"text/javascript\">if (window.MathJax && window.MathJax.Hub && window.MathJax.Hub.Config) {window.MathJax.Hub.Config({SVG: {font: \"STIX-Web\"}});}</script>                <script type=\"text/javascript\">window.PlotlyConfig = {MathJaxConfig: 'local'};</script>\n",
              "        <script charset=\"utf-8\" src=\"https://cdn.plot.ly/plotly-2.35.2.min.js\"></script>                <div id=\"0d02470a-b7b2-40c6-ac47-a059d803feb8\" class=\"plotly-graph-div\" style=\"height:525px; width:100%;\"></div>            <script type=\"text/javascript\">                                    window.PLOTLYENV=window.PLOTLYENV || {};                                    if (document.getElementById(\"0d02470a-b7b2-40c6-ac47-a059d803feb8\")) {                    Plotly.newPlot(                        \"0d02470a-b7b2-40c6-ac47-a059d803feb8\",                        [{\"hovertemplate\":\"variable=trend\\u003cbr\\u003eindex=%{x}\\u003cbr\\u003evalue=%{y}\\u003cextra\\u003e\\u003c\\u002fextra\\u003e\",\"legendgroup\":\"trend\",\"line\":{\"color\":\"#636efa\",\"dash\":\"solid\"},\"marker\":{\"symbol\":\"circle\"},\"mode\":\"lines\",\"name\":\"trend\",\"orientation\":\"v\",\"showlegend\":true,\"x\":[0,1,2,3,4,5,6,7,8,9,10,11,12,13,14,15,16,17,18,19],\"xaxis\":\"x\",\"y\":[null,null,341871.6011598417,364656.7306316809,404848.1019346932,437773.271476637,456174.6160200281,477709.55311602296,473471.075667945,452991.5101620663,410063.59262648725,396635.0036387731,369371.68653328926,361106.12050277914,353628.4411418606,365482.683786852,396149.7492127673,437300.3546948631,null,null],\"yaxis\":\"y\",\"type\":\"scatter\"}],                        {\"template\":{\"data\":{\"histogram2dcontour\":[{\"type\":\"histogram2dcontour\",\"colorbar\":{\"outlinewidth\":0,\"ticks\":\"\"},\"colorscale\":[[0.0,\"#0d0887\"],[0.1111111111111111,\"#46039f\"],[0.2222222222222222,\"#7201a8\"],[0.3333333333333333,\"#9c179e\"],[0.4444444444444444,\"#bd3786\"],[0.5555555555555556,\"#d8576b\"],[0.6666666666666666,\"#ed7953\"],[0.7777777777777778,\"#fb9f3a\"],[0.8888888888888888,\"#fdca26\"],[1.0,\"#f0f921\"]]}],\"choropleth\":[{\"type\":\"choropleth\",\"colorbar\":{\"outlinewidth\":0,\"ticks\":\"\"}}],\"histogram2d\":[{\"type\":\"histogram2d\",\"colorbar\":{\"outlinewidth\":0,\"ticks\":\"\"},\"colorscale\":[[0.0,\"#0d0887\"],[0.1111111111111111,\"#46039f\"],[0.2222222222222222,\"#7201a8\"],[0.3333333333333333,\"#9c179e\"],[0.4444444444444444,\"#bd3786\"],[0.5555555555555556,\"#d8576b\"],[0.6666666666666666,\"#ed7953\"],[0.7777777777777778,\"#fb9f3a\"],[0.8888888888888888,\"#fdca26\"],[1.0,\"#f0f921\"]]}],\"heatmap\":[{\"type\":\"heatmap\",\"colorbar\":{\"outlinewidth\":0,\"ticks\":\"\"},\"colorscale\":[[0.0,\"#0d0887\"],[0.1111111111111111,\"#46039f\"],[0.2222222222222222,\"#7201a8\"],[0.3333333333333333,\"#9c179e\"],[0.4444444444444444,\"#bd3786\"],[0.5555555555555556,\"#d8576b\"],[0.6666666666666666,\"#ed7953\"],[0.7777777777777778,\"#fb9f3a\"],[0.8888888888888888,\"#fdca26\"],[1.0,\"#f0f921\"]]}],\"heatmapgl\":[{\"type\":\"heatmapgl\",\"colorbar\":{\"outlinewidth\":0,\"ticks\":\"\"},\"colorscale\":[[0.0,\"#0d0887\"],[0.1111111111111111,\"#46039f\"],[0.2222222222222222,\"#7201a8\"],[0.3333333333333333,\"#9c179e\"],[0.4444444444444444,\"#bd3786\"],[0.5555555555555556,\"#d8576b\"],[0.6666666666666666,\"#ed7953\"],[0.7777777777777778,\"#fb9f3a\"],[0.8888888888888888,\"#fdca26\"],[1.0,\"#f0f921\"]]}],\"contourcarpet\":[{\"type\":\"contourcarpet\",\"colorbar\":{\"outlinewidth\":0,\"ticks\":\"\"}}],\"contour\":[{\"type\":\"contour\",\"colorbar\":{\"outlinewidth\":0,\"ticks\":\"\"},\"colorscale\":[[0.0,\"#0d0887\"],[0.1111111111111111,\"#46039f\"],[0.2222222222222222,\"#7201a8\"],[0.3333333333333333,\"#9c179e\"],[0.4444444444444444,\"#bd3786\"],[0.5555555555555556,\"#d8576b\"],[0.6666666666666666,\"#ed7953\"],[0.7777777777777778,\"#fb9f3a\"],[0.8888888888888888,\"#fdca26\"],[1.0,\"#f0f921\"]]}],\"surface\":[{\"type\":\"surface\",\"colorbar\":{\"outlinewidth\":0,\"ticks\":\"\"},\"colorscale\":[[0.0,\"#0d0887\"],[0.1111111111111111,\"#46039f\"],[0.2222222222222222,\"#7201a8\"],[0.3333333333333333,\"#9c179e\"],[0.4444444444444444,\"#bd3786\"],[0.5555555555555556,\"#d8576b\"],[0.6666666666666666,\"#ed7953\"],[0.7777777777777778,\"#fb9f3a\"],[0.8888888888888888,\"#fdca26\"],[1.0,\"#f0f921\"]]}],\"mesh3d\":[{\"type\":\"mesh3d\",\"colorbar\":{\"outlinewidth\":0,\"ticks\":\"\"}}],\"scatter\":[{\"fillpattern\":{\"fillmode\":\"overlay\",\"size\":10,\"solidity\":0.2},\"type\":\"scatter\"}],\"parcoords\":[{\"type\":\"parcoords\",\"line\":{\"colorbar\":{\"outlinewidth\":0,\"ticks\":\"\"}}}],\"scatterpolargl\":[{\"type\":\"scatterpolargl\",\"marker\":{\"colorbar\":{\"outlinewidth\":0,\"ticks\":\"\"}}}],\"bar\":[{\"error_x\":{\"color\":\"#2a3f5f\"},\"error_y\":{\"color\":\"#2a3f5f\"},\"marker\":{\"line\":{\"color\":\"#E5ECF6\",\"width\":0.5},\"pattern\":{\"fillmode\":\"overlay\",\"size\":10,\"solidity\":0.2}},\"type\":\"bar\"}],\"scattergeo\":[{\"type\":\"scattergeo\",\"marker\":{\"colorbar\":{\"outlinewidth\":0,\"ticks\":\"\"}}}],\"scatterpolar\":[{\"type\":\"scatterpolar\",\"marker\":{\"colorbar\":{\"outlinewidth\":0,\"ticks\":\"\"}}}],\"histogram\":[{\"marker\":{\"pattern\":{\"fillmode\":\"overlay\",\"size\":10,\"solidity\":0.2}},\"type\":\"histogram\"}],\"scattergl\":[{\"type\":\"scattergl\",\"marker\":{\"colorbar\":{\"outlinewidth\":0,\"ticks\":\"\"}}}],\"scatter3d\":[{\"type\":\"scatter3d\",\"line\":{\"colorbar\":{\"outlinewidth\":0,\"ticks\":\"\"}},\"marker\":{\"colorbar\":{\"outlinewidth\":0,\"ticks\":\"\"}}}],\"scattermapbox\":[{\"type\":\"scattermapbox\",\"marker\":{\"colorbar\":{\"outlinewidth\":0,\"ticks\":\"\"}}}],\"scatterternary\":[{\"type\":\"scatterternary\",\"marker\":{\"colorbar\":{\"outlinewidth\":0,\"ticks\":\"\"}}}],\"scattercarpet\":[{\"type\":\"scattercarpet\",\"marker\":{\"colorbar\":{\"outlinewidth\":0,\"ticks\":\"\"}}}],\"carpet\":[{\"aaxis\":{\"endlinecolor\":\"#2a3f5f\",\"gridcolor\":\"white\",\"linecolor\":\"white\",\"minorgridcolor\":\"white\",\"startlinecolor\":\"#2a3f5f\"},\"baxis\":{\"endlinecolor\":\"#2a3f5f\",\"gridcolor\":\"white\",\"linecolor\":\"white\",\"minorgridcolor\":\"white\",\"startlinecolor\":\"#2a3f5f\"},\"type\":\"carpet\"}],\"table\":[{\"cells\":{\"fill\":{\"color\":\"#EBF0F8\"},\"line\":{\"color\":\"white\"}},\"header\":{\"fill\":{\"color\":\"#C8D4E3\"},\"line\":{\"color\":\"white\"}},\"type\":\"table\"}],\"barpolar\":[{\"marker\":{\"line\":{\"color\":\"#E5ECF6\",\"width\":0.5},\"pattern\":{\"fillmode\":\"overlay\",\"size\":10,\"solidity\":0.2}},\"type\":\"barpolar\"}],\"pie\":[{\"automargin\":true,\"type\":\"pie\"}]},\"layout\":{\"autotypenumbers\":\"strict\",\"colorway\":[\"#636efa\",\"#EF553B\",\"#00cc96\",\"#ab63fa\",\"#FFA15A\",\"#19d3f3\",\"#FF6692\",\"#B6E880\",\"#FF97FF\",\"#FECB52\"],\"font\":{\"color\":\"#2a3f5f\"},\"hovermode\":\"closest\",\"hoverlabel\":{\"align\":\"left\"},\"paper_bgcolor\":\"white\",\"plot_bgcolor\":\"#E5ECF6\",\"polar\":{\"bgcolor\":\"#E5ECF6\",\"angularaxis\":{\"gridcolor\":\"white\",\"linecolor\":\"white\",\"ticks\":\"\"},\"radialaxis\":{\"gridcolor\":\"white\",\"linecolor\":\"white\",\"ticks\":\"\"}},\"ternary\":{\"bgcolor\":\"#E5ECF6\",\"aaxis\":{\"gridcolor\":\"white\",\"linecolor\":\"white\",\"ticks\":\"\"},\"baxis\":{\"gridcolor\":\"white\",\"linecolor\":\"white\",\"ticks\":\"\"},\"caxis\":{\"gridcolor\":\"white\",\"linecolor\":\"white\",\"ticks\":\"\"}},\"coloraxis\":{\"colorbar\":{\"outlinewidth\":0,\"ticks\":\"\"}},\"colorscale\":{\"sequential\":[[0.0,\"#0d0887\"],[0.1111111111111111,\"#46039f\"],[0.2222222222222222,\"#7201a8\"],[0.3333333333333333,\"#9c179e\"],[0.4444444444444444,\"#bd3786\"],[0.5555555555555556,\"#d8576b\"],[0.6666666666666666,\"#ed7953\"],[0.7777777777777778,\"#fb9f3a\"],[0.8888888888888888,\"#fdca26\"],[1.0,\"#f0f921\"]],\"sequentialminus\":[[0.0,\"#0d0887\"],[0.1111111111111111,\"#46039f\"],[0.2222222222222222,\"#7201a8\"],[0.3333333333333333,\"#9c179e\"],[0.4444444444444444,\"#bd3786\"],[0.5555555555555556,\"#d8576b\"],[0.6666666666666666,\"#ed7953\"],[0.7777777777777778,\"#fb9f3a\"],[0.8888888888888888,\"#fdca26\"],[1.0,\"#f0f921\"]],\"diverging\":[[0,\"#8e0152\"],[0.1,\"#c51b7d\"],[0.2,\"#de77ae\"],[0.3,\"#f1b6da\"],[0.4,\"#fde0ef\"],[0.5,\"#f7f7f7\"],[0.6,\"#e6f5d0\"],[0.7,\"#b8e186\"],[0.8,\"#7fbc41\"],[0.9,\"#4d9221\"],[1,\"#276419\"]]},\"xaxis\":{\"gridcolor\":\"white\",\"linecolor\":\"white\",\"ticks\":\"\",\"title\":{\"standoff\":15},\"zerolinecolor\":\"white\",\"automargin\":true,\"zerolinewidth\":2},\"yaxis\":{\"gridcolor\":\"white\",\"linecolor\":\"white\",\"ticks\":\"\",\"title\":{\"standoff\":15},\"zerolinecolor\":\"white\",\"automargin\":true,\"zerolinewidth\":2},\"scene\":{\"xaxis\":{\"backgroundcolor\":\"#E5ECF6\",\"gridcolor\":\"white\",\"linecolor\":\"white\",\"showbackground\":true,\"ticks\":\"\",\"zerolinecolor\":\"white\",\"gridwidth\":2},\"yaxis\":{\"backgroundcolor\":\"#E5ECF6\",\"gridcolor\":\"white\",\"linecolor\":\"white\",\"showbackground\":true,\"ticks\":\"\",\"zerolinecolor\":\"white\",\"gridwidth\":2},\"zaxis\":{\"backgroundcolor\":\"#E5ECF6\",\"gridcolor\":\"white\",\"linecolor\":\"white\",\"showbackground\":true,\"ticks\":\"\",\"zerolinecolor\":\"white\",\"gridwidth\":2}},\"shapedefaults\":{\"line\":{\"color\":\"#2a3f5f\"}},\"annotationdefaults\":{\"arrowcolor\":\"#2a3f5f\",\"arrowhead\":0,\"arrowwidth\":1},\"geo\":{\"bgcolor\":\"white\",\"landcolor\":\"#E5ECF6\",\"subunitcolor\":\"white\",\"showland\":true,\"showlakes\":true,\"lakecolor\":\"white\"},\"title\":{\"x\":0.05},\"mapbox\":{\"style\":\"light\"}}},\"xaxis\":{\"anchor\":\"y\",\"domain\":[0.0,1.0],\"title\":{\"text\":\"index\"}},\"yaxis\":{\"anchor\":\"x\",\"domain\":[0.0,1.0],\"title\":{\"text\":\"value\"}},\"legend\":{\"title\":{\"text\":\"variable\"},\"tracegroupgap\":0},\"title\":{\"text\":\"Tendencia\"}},                        {\"responsive\": true}                    ).then(function(){\n",
              "                            \n",
              "var gd = document.getElementById('0d02470a-b7b2-40c6-ac47-a059d803feb8');\n",
              "var x = new MutationObserver(function (mutations, observer) {{\n",
              "        var display = window.getComputedStyle(gd).display;\n",
              "        if (!display || display === 'none') {{\n",
              "            console.log([gd, 'removed!']);\n",
              "            Plotly.purge(gd);\n",
              "            observer.disconnect();\n",
              "        }}\n",
              "}});\n",
              "\n",
              "// Listen for the removal of the full notebook cells\n",
              "var notebookContainer = gd.closest('#notebook-container');\n",
              "if (notebookContainer) {{\n",
              "    x.observe(notebookContainer, {childList: true});\n",
              "}}\n",
              "\n",
              "// Listen for the clearing of the current output cell\n",
              "var outputEl = gd.closest('.output');\n",
              "if (outputEl) {{\n",
              "    x.observe(outputEl, {childList: true});\n",
              "}}\n",
              "\n",
              "                        })                };                            </script>        </div>\n",
              "</body>\n",
              "</html>"
            ]
          },
          "metadata": {}
        }
      ]
    }
  ]
}