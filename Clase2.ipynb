{
  "nbformat": 4,
  "nbformat_minor": 0,
  "metadata": {
    "colab": {
      "provenance": [],
      "mount_file_id": "1VwLKSkvRTceijPBxYHaYLqGTmsrYnkyD",
      "authorship_tag": "ABX9TyOLU6yAMeVxsplK0ptp9O0V",
      "include_colab_link": true
    },
    "kernelspec": {
      "name": "python3",
      "display_name": "Python 3"
    },
    "language_info": {
      "name": "python"
    }
  },
  "cells": [
    {
      "cell_type": "markdown",
      "metadata": {
        "id": "view-in-github",
        "colab_type": "text"
      },
      "source": [
        "<a href=\"https://colab.research.google.com/github/JoaquinV13/UFV-Visualizacion/blob/main/Clase2.ipynb\" target=\"_parent\"><img src=\"https://colab.research.google.com/assets/colab-badge.svg\" alt=\"Open In Colab\"/></a>"
      ]
    },
    {
      "cell_type": "code",
      "source": [
        "pip install plotly_express"
      ],
      "metadata": {
        "colab": {
          "base_uri": "https://localhost:8080/"
        },
        "id": "N-Qne7aZCjPQ",
        "outputId": "27b961b3-969d-4bd0-dbbb-c97440774457"
      },
      "execution_count": 14,
      "outputs": [
        {
          "output_type": "stream",
          "name": "stdout",
          "text": [
            "Requirement already satisfied: plotly_express in /usr/local/lib/python3.10/dist-packages (0.4.1)\n",
            "Requirement already satisfied: pandas>=0.20.0 in /usr/local/lib/python3.10/dist-packages (from plotly_express) (2.2.2)\n",
            "Requirement already satisfied: plotly>=4.1.0 in /usr/local/lib/python3.10/dist-packages (from plotly_express) (5.24.1)\n",
            "Requirement already satisfied: statsmodels>=0.9.0 in /usr/local/lib/python3.10/dist-packages (from plotly_express) (0.14.4)\n",
            "Requirement already satisfied: scipy>=0.18 in /usr/local/lib/python3.10/dist-packages (from plotly_express) (1.13.1)\n",
            "Requirement already satisfied: patsy>=0.5 in /usr/local/lib/python3.10/dist-packages (from plotly_express) (0.5.6)\n",
            "Requirement already satisfied: numpy>=1.11 in /usr/local/lib/python3.10/dist-packages (from plotly_express) (1.26.4)\n",
            "Requirement already satisfied: python-dateutil>=2.8.2 in /usr/local/lib/python3.10/dist-packages (from pandas>=0.20.0->plotly_express) (2.8.2)\n",
            "Requirement already satisfied: pytz>=2020.1 in /usr/local/lib/python3.10/dist-packages (from pandas>=0.20.0->plotly_express) (2024.2)\n",
            "Requirement already satisfied: tzdata>=2022.7 in /usr/local/lib/python3.10/dist-packages (from pandas>=0.20.0->plotly_express) (2024.2)\n",
            "Requirement already satisfied: six in /usr/local/lib/python3.10/dist-packages (from patsy>=0.5->plotly_express) (1.16.0)\n",
            "Requirement already satisfied: tenacity>=6.2.0 in /usr/local/lib/python3.10/dist-packages (from plotly>=4.1.0->plotly_express) (9.0.0)\n",
            "Requirement already satisfied: packaging in /usr/local/lib/python3.10/dist-packages (from plotly>=4.1.0->plotly_express) (24.1)\n"
          ]
        }
      ]
    },
    {
      "cell_type": "code",
      "execution_count": 15,
      "metadata": {
        "id": "nEo8qHW06ram"
      },
      "outputs": [],
      "source": [
        "import plotly_express as px\n",
        "import pandas as pd\n",
        "import numpy as np\n",
        "from google.colab import drive"
      ]
    },
    {
      "cell_type": "code",
      "source": [
        "drive.mount('/content/drive/')\n",
        "data = pd.read_csv('/content/drive/MyDrive/Colab/datos_ejercicio_ventas.csv',sep=';')"
      ],
      "metadata": {
        "colab": {
          "base_uri": "https://localhost:8080/"
        },
        "id": "YKirc1KWELxX",
        "outputId": "883b6c25-b42c-4814-95ef-4d4af685d9cc"
      },
      "execution_count": 16,
      "outputs": [
        {
          "output_type": "stream",
          "name": "stdout",
          "text": [
            "Drive already mounted at /content/drive/; to attempt to forcibly remount, call drive.mount(\"/content/drive/\", force_remount=True).\n"
          ]
        }
      ]
    },
    {
      "cell_type": "code",
      "source": [
        "# Visualizamos los datos.\n",
        "data.head()"
      ],
      "metadata": {
        "colab": {
          "base_uri": "https://localhost:8080/",
          "height": 204
        },
        "id": "zL8J3lpGFmJc",
        "outputId": "77ef3790-14aa-4ea9-dee8-36c600a216bb"
      },
      "execution_count": 17,
      "outputs": [
        {
          "output_type": "execute_result",
          "data": {
            "text/plain": [
              "  COUNTRY            SUBBRAND  YEAR  MONTH     SCENARIO FORECAST  \\\n",
              "0   Spain      Pepsi Max (L3)  2023     12  AI_forecast  AI_P09F   \n",
              "1   Spain  Pepsi Regular (L3)  2023     12  AI_forecast  AI_P05F   \n",
              "2   Spain       7up Free (L3)  2023      8  AI_forecast  AI_P08F   \n",
              "3   Spain  Pepsi Regular (L3)  2023      8  AI_forecast    AI_PF   \n",
              "4   Spain      Pepsi Max (L3)  2023     10  AI_forecast  AI_P07F   \n",
              "\n",
              "   FORECAST_YEAR       AMOUNT  \n",
              "0         2023.0   8,8502E+15  \n",
              "1         2023.0  1,34268E+15  \n",
              "2         2023.0  8,98326E+15  \n",
              "3         2023.0   1,6476E+15  \n",
              "4         2023.0  1,41119E+16  "
            ],
            "text/html": [
              "\n",
              "  <div id=\"df-beb9a984-21f4-44ca-b8f4-4d421c09ffb3\" class=\"colab-df-container\">\n",
              "    <div>\n",
              "<style scoped>\n",
              "    .dataframe tbody tr th:only-of-type {\n",
              "        vertical-align: middle;\n",
              "    }\n",
              "\n",
              "    .dataframe tbody tr th {\n",
              "        vertical-align: top;\n",
              "    }\n",
              "\n",
              "    .dataframe thead th {\n",
              "        text-align: right;\n",
              "    }\n",
              "</style>\n",
              "<table border=\"1\" class=\"dataframe\">\n",
              "  <thead>\n",
              "    <tr style=\"text-align: right;\">\n",
              "      <th></th>\n",
              "      <th>COUNTRY</th>\n",
              "      <th>SUBBRAND</th>\n",
              "      <th>YEAR</th>\n",
              "      <th>MONTH</th>\n",
              "      <th>SCENARIO</th>\n",
              "      <th>FORECAST</th>\n",
              "      <th>FORECAST_YEAR</th>\n",
              "      <th>AMOUNT</th>\n",
              "    </tr>\n",
              "  </thead>\n",
              "  <tbody>\n",
              "    <tr>\n",
              "      <th>0</th>\n",
              "      <td>Spain</td>\n",
              "      <td>Pepsi Max (L3)</td>\n",
              "      <td>2023</td>\n",
              "      <td>12</td>\n",
              "      <td>AI_forecast</td>\n",
              "      <td>AI_P09F</td>\n",
              "      <td>2023.0</td>\n",
              "      <td>8,8502E+15</td>\n",
              "    </tr>\n",
              "    <tr>\n",
              "      <th>1</th>\n",
              "      <td>Spain</td>\n",
              "      <td>Pepsi Regular (L3)</td>\n",
              "      <td>2023</td>\n",
              "      <td>12</td>\n",
              "      <td>AI_forecast</td>\n",
              "      <td>AI_P05F</td>\n",
              "      <td>2023.0</td>\n",
              "      <td>1,34268E+15</td>\n",
              "    </tr>\n",
              "    <tr>\n",
              "      <th>2</th>\n",
              "      <td>Spain</td>\n",
              "      <td>7up Free (L3)</td>\n",
              "      <td>2023</td>\n",
              "      <td>8</td>\n",
              "      <td>AI_forecast</td>\n",
              "      <td>AI_P08F</td>\n",
              "      <td>2023.0</td>\n",
              "      <td>8,98326E+15</td>\n",
              "    </tr>\n",
              "    <tr>\n",
              "      <th>3</th>\n",
              "      <td>Spain</td>\n",
              "      <td>Pepsi Regular (L3)</td>\n",
              "      <td>2023</td>\n",
              "      <td>8</td>\n",
              "      <td>AI_forecast</td>\n",
              "      <td>AI_PF</td>\n",
              "      <td>2023.0</td>\n",
              "      <td>1,6476E+15</td>\n",
              "    </tr>\n",
              "    <tr>\n",
              "      <th>4</th>\n",
              "      <td>Spain</td>\n",
              "      <td>Pepsi Max (L3)</td>\n",
              "      <td>2023</td>\n",
              "      <td>10</td>\n",
              "      <td>AI_forecast</td>\n",
              "      <td>AI_P07F</td>\n",
              "      <td>2023.0</td>\n",
              "      <td>1,41119E+16</td>\n",
              "    </tr>\n",
              "  </tbody>\n",
              "</table>\n",
              "</div>\n",
              "    <div class=\"colab-df-buttons\">\n",
              "\n",
              "  <div class=\"colab-df-container\">\n",
              "    <button class=\"colab-df-convert\" onclick=\"convertToInteractive('df-beb9a984-21f4-44ca-b8f4-4d421c09ffb3')\"\n",
              "            title=\"Convert this dataframe to an interactive table.\"\n",
              "            style=\"display:none;\">\n",
              "\n",
              "  <svg xmlns=\"http://www.w3.org/2000/svg\" height=\"24px\" viewBox=\"0 -960 960 960\">\n",
              "    <path d=\"M120-120v-720h720v720H120Zm60-500h600v-160H180v160Zm220 220h160v-160H400v160Zm0 220h160v-160H400v160ZM180-400h160v-160H180v160Zm440 0h160v-160H620v160ZM180-180h160v-160H180v160Zm440 0h160v-160H620v160Z\"/>\n",
              "  </svg>\n",
              "    </button>\n",
              "\n",
              "  <style>\n",
              "    .colab-df-container {\n",
              "      display:flex;\n",
              "      gap: 12px;\n",
              "    }\n",
              "\n",
              "    .colab-df-convert {\n",
              "      background-color: #E8F0FE;\n",
              "      border: none;\n",
              "      border-radius: 50%;\n",
              "      cursor: pointer;\n",
              "      display: none;\n",
              "      fill: #1967D2;\n",
              "      height: 32px;\n",
              "      padding: 0 0 0 0;\n",
              "      width: 32px;\n",
              "    }\n",
              "\n",
              "    .colab-df-convert:hover {\n",
              "      background-color: #E2EBFA;\n",
              "      box-shadow: 0px 1px 2px rgba(60, 64, 67, 0.3), 0px 1px 3px 1px rgba(60, 64, 67, 0.15);\n",
              "      fill: #174EA6;\n",
              "    }\n",
              "\n",
              "    .colab-df-buttons div {\n",
              "      margin-bottom: 4px;\n",
              "    }\n",
              "\n",
              "    [theme=dark] .colab-df-convert {\n",
              "      background-color: #3B4455;\n",
              "      fill: #D2E3FC;\n",
              "    }\n",
              "\n",
              "    [theme=dark] .colab-df-convert:hover {\n",
              "      background-color: #434B5C;\n",
              "      box-shadow: 0px 1px 3px 1px rgba(0, 0, 0, 0.15);\n",
              "      filter: drop-shadow(0px 1px 2px rgba(0, 0, 0, 0.3));\n",
              "      fill: #FFFFFF;\n",
              "    }\n",
              "  </style>\n",
              "\n",
              "    <script>\n",
              "      const buttonEl =\n",
              "        document.querySelector('#df-beb9a984-21f4-44ca-b8f4-4d421c09ffb3 button.colab-df-convert');\n",
              "      buttonEl.style.display =\n",
              "        google.colab.kernel.accessAllowed ? 'block' : 'none';\n",
              "\n",
              "      async function convertToInteractive(key) {\n",
              "        const element = document.querySelector('#df-beb9a984-21f4-44ca-b8f4-4d421c09ffb3');\n",
              "        const dataTable =\n",
              "          await google.colab.kernel.invokeFunction('convertToInteractive',\n",
              "                                                    [key], {});\n",
              "        if (!dataTable) return;\n",
              "\n",
              "        const docLinkHtml = 'Like what you see? Visit the ' +\n",
              "          '<a target=\"_blank\" href=https://colab.research.google.com/notebooks/data_table.ipynb>data table notebook</a>'\n",
              "          + ' to learn more about interactive tables.';\n",
              "        element.innerHTML = '';\n",
              "        dataTable['output_type'] = 'display_data';\n",
              "        await google.colab.output.renderOutput(dataTable, element);\n",
              "        const docLink = document.createElement('div');\n",
              "        docLink.innerHTML = docLinkHtml;\n",
              "        element.appendChild(docLink);\n",
              "      }\n",
              "    </script>\n",
              "  </div>\n",
              "\n",
              "\n",
              "<div id=\"df-f4d41e29-f7f3-4324-8a47-fd8e62db2409\">\n",
              "  <button class=\"colab-df-quickchart\" onclick=\"quickchart('df-f4d41e29-f7f3-4324-8a47-fd8e62db2409')\"\n",
              "            title=\"Suggest charts\"\n",
              "            style=\"display:none;\">\n",
              "\n",
              "<svg xmlns=\"http://www.w3.org/2000/svg\" height=\"24px\"viewBox=\"0 0 24 24\"\n",
              "     width=\"24px\">\n",
              "    <g>\n",
              "        <path d=\"M19 3H5c-1.1 0-2 .9-2 2v14c0 1.1.9 2 2 2h14c1.1 0 2-.9 2-2V5c0-1.1-.9-2-2-2zM9 17H7v-7h2v7zm4 0h-2V7h2v10zm4 0h-2v-4h2v4z\"/>\n",
              "    </g>\n",
              "</svg>\n",
              "  </button>\n",
              "\n",
              "<style>\n",
              "  .colab-df-quickchart {\n",
              "      --bg-color: #E8F0FE;\n",
              "      --fill-color: #1967D2;\n",
              "      --hover-bg-color: #E2EBFA;\n",
              "      --hover-fill-color: #174EA6;\n",
              "      --disabled-fill-color: #AAA;\n",
              "      --disabled-bg-color: #DDD;\n",
              "  }\n",
              "\n",
              "  [theme=dark] .colab-df-quickchart {\n",
              "      --bg-color: #3B4455;\n",
              "      --fill-color: #D2E3FC;\n",
              "      --hover-bg-color: #434B5C;\n",
              "      --hover-fill-color: #FFFFFF;\n",
              "      --disabled-bg-color: #3B4455;\n",
              "      --disabled-fill-color: #666;\n",
              "  }\n",
              "\n",
              "  .colab-df-quickchart {\n",
              "    background-color: var(--bg-color);\n",
              "    border: none;\n",
              "    border-radius: 50%;\n",
              "    cursor: pointer;\n",
              "    display: none;\n",
              "    fill: var(--fill-color);\n",
              "    height: 32px;\n",
              "    padding: 0;\n",
              "    width: 32px;\n",
              "  }\n",
              "\n",
              "  .colab-df-quickchart:hover {\n",
              "    background-color: var(--hover-bg-color);\n",
              "    box-shadow: 0 1px 2px rgba(60, 64, 67, 0.3), 0 1px 3px 1px rgba(60, 64, 67, 0.15);\n",
              "    fill: var(--button-hover-fill-color);\n",
              "  }\n",
              "\n",
              "  .colab-df-quickchart-complete:disabled,\n",
              "  .colab-df-quickchart-complete:disabled:hover {\n",
              "    background-color: var(--disabled-bg-color);\n",
              "    fill: var(--disabled-fill-color);\n",
              "    box-shadow: none;\n",
              "  }\n",
              "\n",
              "  .colab-df-spinner {\n",
              "    border: 2px solid var(--fill-color);\n",
              "    border-color: transparent;\n",
              "    border-bottom-color: var(--fill-color);\n",
              "    animation:\n",
              "      spin 1s steps(1) infinite;\n",
              "  }\n",
              "\n",
              "  @keyframes spin {\n",
              "    0% {\n",
              "      border-color: transparent;\n",
              "      border-bottom-color: var(--fill-color);\n",
              "      border-left-color: var(--fill-color);\n",
              "    }\n",
              "    20% {\n",
              "      border-color: transparent;\n",
              "      border-left-color: var(--fill-color);\n",
              "      border-top-color: var(--fill-color);\n",
              "    }\n",
              "    30% {\n",
              "      border-color: transparent;\n",
              "      border-left-color: var(--fill-color);\n",
              "      border-top-color: var(--fill-color);\n",
              "      border-right-color: var(--fill-color);\n",
              "    }\n",
              "    40% {\n",
              "      border-color: transparent;\n",
              "      border-right-color: var(--fill-color);\n",
              "      border-top-color: var(--fill-color);\n",
              "    }\n",
              "    60% {\n",
              "      border-color: transparent;\n",
              "      border-right-color: var(--fill-color);\n",
              "    }\n",
              "    80% {\n",
              "      border-color: transparent;\n",
              "      border-right-color: var(--fill-color);\n",
              "      border-bottom-color: var(--fill-color);\n",
              "    }\n",
              "    90% {\n",
              "      border-color: transparent;\n",
              "      border-bottom-color: var(--fill-color);\n",
              "    }\n",
              "  }\n",
              "</style>\n",
              "\n",
              "  <script>\n",
              "    async function quickchart(key) {\n",
              "      const quickchartButtonEl =\n",
              "        document.querySelector('#' + key + ' button');\n",
              "      quickchartButtonEl.disabled = true;  // To prevent multiple clicks.\n",
              "      quickchartButtonEl.classList.add('colab-df-spinner');\n",
              "      try {\n",
              "        const charts = await google.colab.kernel.invokeFunction(\n",
              "            'suggestCharts', [key], {});\n",
              "      } catch (error) {\n",
              "        console.error('Error during call to suggestCharts:', error);\n",
              "      }\n",
              "      quickchartButtonEl.classList.remove('colab-df-spinner');\n",
              "      quickchartButtonEl.classList.add('colab-df-quickchart-complete');\n",
              "    }\n",
              "    (() => {\n",
              "      let quickchartButtonEl =\n",
              "        document.querySelector('#df-f4d41e29-f7f3-4324-8a47-fd8e62db2409 button');\n",
              "      quickchartButtonEl.style.display =\n",
              "        google.colab.kernel.accessAllowed ? 'block' : 'none';\n",
              "    })();\n",
              "  </script>\n",
              "</div>\n",
              "\n",
              "    </div>\n",
              "  </div>\n"
            ],
            "application/vnd.google.colaboratory.intrinsic+json": {
              "type": "dataframe",
              "variable_name": "data",
              "summary": "{\n  \"name\": \"data\",\n  \"rows\": 18666,\n  \"fields\": [\n    {\n      \"column\": \"COUNTRY\",\n      \"properties\": {\n        \"dtype\": \"category\",\n        \"num_unique_values\": 9,\n        \"samples\": [\n          \"Denmark\",\n          \"Portugal\",\n          \"Hungary\"\n        ],\n        \"semantic_type\": \"\",\n        \"description\": \"\"\n      }\n    },\n    {\n      \"column\": \"SUBBRAND\",\n      \"properties\": {\n        \"dtype\": \"category\",\n        \"num_unique_values\": 6,\n        \"samples\": [\n          \"Pepsi Max (L3)\",\n          \"Pepsi Regular (L3)\",\n          \"Mountain Dew (L3)\"\n        ],\n        \"semantic_type\": \"\",\n        \"description\": \"\"\n      }\n    },\n    {\n      \"column\": \"YEAR\",\n      \"properties\": {\n        \"dtype\": \"number\",\n        \"std\": 0,\n        \"min\": 2023,\n        \"max\": 2025,\n        \"num_unique_values\": 3,\n        \"samples\": [\n          2023,\n          2024,\n          2025\n        ],\n        \"semantic_type\": \"\",\n        \"description\": \"\"\n      }\n    },\n    {\n      \"column\": \"MONTH\",\n      \"properties\": {\n        \"dtype\": \"number\",\n        \"std\": 3,\n        \"min\": 1,\n        \"max\": 12,\n        \"num_unique_values\": 12,\n        \"samples\": [\n          2,\n          3,\n          12\n        ],\n        \"semantic_type\": \"\",\n        \"description\": \"\"\n      }\n    },\n    {\n      \"column\": \"SCENARIO\",\n      \"properties\": {\n        \"dtype\": \"category\",\n        \"num_unique_values\": 2,\n        \"samples\": [\n          \"actual\",\n          \"AI_forecast\"\n        ],\n        \"semantic_type\": \"\",\n        \"description\": \"\"\n      }\n    },\n    {\n      \"column\": \"FORECAST\",\n      \"properties\": {\n        \"dtype\": \"category\",\n        \"num_unique_values\": 12,\n        \"samples\": [\n          \"AI_P12F\",\n          \"AI_P06F\"\n        ],\n        \"semantic_type\": \"\",\n        \"description\": \"\"\n      }\n    },\n    {\n      \"column\": \"FORECAST_YEAR\",\n      \"properties\": {\n        \"dtype\": \"number\",\n        \"std\": 0.0,\n        \"min\": 2023.0,\n        \"max\": 2023.0,\n        \"num_unique_values\": 1,\n        \"samples\": [\n          2023.0\n        ],\n        \"semantic_type\": \"\",\n        \"description\": \"\"\n      }\n    },\n    {\n      \"column\": \"AMOUNT\",\n      \"properties\": {\n        \"dtype\": \"string\",\n        \"num_unique_values\": 16927,\n        \"samples\": [\n          \"3,6382E+15\"\n        ],\n        \"semantic_type\": \"\",\n        \"description\": \"\"\n      }\n    }\n  ]\n}"
            }
          },
          "metadata": {},
          "execution_count": 17
        }
      ]
    },
    {
      "cell_type": "code",
      "source": [
        "# Tipos de datos.\n",
        "data.info()"
      ],
      "metadata": {
        "colab": {
          "base_uri": "https://localhost:8080/"
        },
        "id": "5FvKMTwaGYKc",
        "outputId": "3b5a2801-a44f-483a-e6a8-98dabe240907"
      },
      "execution_count": 18,
      "outputs": [
        {
          "output_type": "stream",
          "name": "stdout",
          "text": [
            "<class 'pandas.core.frame.DataFrame'>\n",
            "RangeIndex: 18666 entries, 0 to 18665\n",
            "Data columns (total 8 columns):\n",
            " #   Column         Non-Null Count  Dtype  \n",
            "---  ------         --------------  -----  \n",
            " 0   COUNTRY        18666 non-null  object \n",
            " 1   SUBBRAND       18666 non-null  object \n",
            " 2   YEAR           18666 non-null  int64  \n",
            " 3   MONTH          18666 non-null  int64  \n",
            " 4   SCENARIO       18666 non-null  object \n",
            " 5   FORECAST       17766 non-null  object \n",
            " 6   FORECAST_YEAR  17766 non-null  float64\n",
            " 7   AMOUNT         18666 non-null  object \n",
            "dtypes: float64(1), int64(2), object(5)\n",
            "memory usage: 1.1+ MB\n"
          ]
        }
      ]
    },
    {
      "cell_type": "code",
      "source": [
        "# Número de 'Actuals' y 'AI_forecast'.\n",
        "actuals = (sum(data['SCENARIO']=='actual'))\n",
        "forecast = (sum(data['SCENARIO']=='AI_forecast'))\n",
        "print('Número de Actuals:',actuals)\n",
        "print('Número de Forecasts:',forecast)"
      ],
      "metadata": {
        "colab": {
          "base_uri": "https://localhost:8080/"
        },
        "id": "9iBaa1nYGyAB",
        "outputId": "dab2d0ea-447b-4f5c-b7b2-8647d85e12b6"
      },
      "execution_count": 19,
      "outputs": [
        {
          "output_type": "stream",
          "name": "stdout",
          "text": [
            "Número de Actuals: 900\n",
            "Número de Forecasts: 17766\n"
          ]
        }
      ]
    },
    {
      "cell_type": "code",
      "source": [
        "# Número de regustros de cada marca por país.\n",
        "tabla_pivot = data.pivot_table(index='COUNTRY', columns='SUBBRAND', aggfunc='size', fill_value=0)\n",
        "\n",
        "# Agregar una columna con el total de registros por país.\n",
        "tabla_pivot['Total'] = tabla_pivot.sum(axis=1)\n",
        "print(tabla_pivot)"
      ],
      "metadata": {
        "colab": {
          "base_uri": "https://localhost:8080/"
        },
        "id": "0YEGltkZeFe-",
        "outputId": "d6df1a72-b4c8-43e7-8df8-1eaa5eb4c3cd"
      },
      "execution_count": 20,
      "outputs": [
        {
          "output_type": "stream",
          "name": "stdout",
          "text": [
            "SUBBRAND       7up (L3)  7up Free (L3)  Lipton (L3)  Mountain Dew (L3)  \\\n",
            "COUNTRY                                                                  \n",
            "Czech               236              7          236                236   \n",
            "Denmark             216            236            0                236   \n",
            "Great Britain       794            758          830                542   \n",
            "Hungary             268            236          452                236   \n",
            "Italy               236              0            0                  0   \n",
            "Netherlands         236            236          452                216   \n",
            "Norway              236            236          252                236   \n",
            "Portugal            236            236          235                  0   \n",
            "Spain               236            398          236                  0   \n",
            "\n",
            "SUBBRAND       Pepsi Max (L3)  Pepsi Regular (L3)  Total  \n",
            "COUNTRY                                                   \n",
            "Czech                     236                 452   1403  \n",
            "Denmark                  1280                 326   2294  \n",
            "Great Britain             542                 542   4008  \n",
            "Hungary                   740                 452   2384  \n",
            "Italy                     236                 236    708  \n",
            "Netherlands               884                 452   2476  \n",
            "Norway                    722                 380   2062  \n",
            "Portugal                  236                 236   1179  \n",
            "Spain                     722                 560   2152  \n"
          ]
        }
      ]
    },
    {
      "cell_type": "code",
      "source": [
        "# Todos los datos del dataset tiene el mismo horizonte de previsión. Calculamos\n",
        "# el de uno, sabemos el de todos.\n",
        "data_1 = data[(data['FORECAST_YEAR']==2023) & (data['FORECAST']=='AI_P02F') & (data['COUNTRY']=='Portugal') & (data['SCENARIO']=='AI_forecast') & (data['SUBBRAND']=='Lipton (L3)')]\n",
        "print(len(data_1))"
      ],
      "metadata": {
        "colab": {
          "base_uri": "https://localhost:8080/"
        },
        "id": "rq9abfWtJKWj",
        "outputId": "661f49e5-2589-4706-b98a-b05ac8e85a75"
      },
      "execution_count": 21,
      "outputs": [
        {
          "output_type": "stream",
          "name": "stdout",
          "text": [
            "18\n"
          ]
        }
      ]
    },
    {
      "cell_type": "code",
      "source": [
        "# Comprobamos la cantidad de forecasts distintos que hay. Contando las diferentes\n",
        "# fechas de inicio de un forecast.\n",
        "\n",
        "data[(data['SCENARIO']=='AI_forecast')].loc[:, ['FORECAST_YEAR', 'FORECAST']].drop_duplicates().shape[0]"
      ],
      "metadata": {
        "colab": {
          "base_uri": "https://localhost:8080/"
        },
        "id": "aG5o8IKd4EG8",
        "outputId": "17246039-e973-4dce-dc34-e89c55b6f16f"
      },
      "execution_count": 26,
      "outputs": [
        {
          "output_type": "execute_result",
          "data": {
            "text/plain": [
              "12"
            ]
          },
          "metadata": {},
          "execution_count": 26
        }
      ]
    },
    {
      "cell_type": "markdown",
      "source": [
        "Vemos que la cantidad de forecast distintos es 12 pero, ¿esto es igual para todos los productos de cada país?"
      ],
      "metadata": {
        "id": "z_5QiiRk7wgK"
      }
    },
    {
      "cell_type": "code",
      "source": [
        "# Comprobamos que para cada producto de cada país se han hecho 12 estudios\n",
        "# predicitivos teniendo en cuenta la fecha de inicio de la predicción.\n",
        "\n",
        "Pais_producto = data[(data['SCENARIO']=='AI_forecast')].groupby(['COUNTRY','SUBBRAND'])\n",
        "\n",
        "# Contar los valores únicos de la combinación de 'Year' y 'caca'\n",
        "resultado = Pais_producto.apply(lambda x: x[['FORECAST_YEAR', 'FORECAST']].drop_duplicates().shape[0], include_groups=False).reset_index(name='Estudios')\n",
        "\n",
        "print(resultado)"
      ],
      "metadata": {
        "colab": {
          "base_uri": "https://localhost:8080/"
        },
        "id": "b6W6B9xj76Nx",
        "outputId": "f8c7c451-5cd0-45d2-daea-b4dbc547b201"
      },
      "execution_count": 30,
      "outputs": [
        {
          "output_type": "stream",
          "name": "stdout",
          "text": [
            "          COUNTRY            SUBBRAND  Estudios\n",
            "0           Czech            7up (L3)        12\n",
            "1           Czech         Lipton (L3)        12\n",
            "2           Czech   Mountain Dew (L3)        12\n",
            "3           Czech      Pepsi Max (L3)        12\n",
            "4           Czech  Pepsi Regular (L3)        12\n",
            "5         Denmark            7up (L3)        12\n",
            "6         Denmark       7up Free (L3)        12\n",
            "7         Denmark   Mountain Dew (L3)        12\n",
            "8         Denmark      Pepsi Max (L3)        12\n",
            "9         Denmark  Pepsi Regular (L3)        12\n",
            "10  Great Britain            7up (L3)        12\n",
            "11  Great Britain       7up Free (L3)        12\n",
            "12  Great Britain         Lipton (L3)        12\n",
            "13  Great Britain   Mountain Dew (L3)        12\n",
            "14  Great Britain      Pepsi Max (L3)        12\n",
            "15  Great Britain  Pepsi Regular (L3)        12\n",
            "16        Hungary            7up (L3)        12\n",
            "17        Hungary       7up Free (L3)        12\n",
            "18        Hungary         Lipton (L3)        12\n",
            "19        Hungary   Mountain Dew (L3)        12\n",
            "20        Hungary      Pepsi Max (L3)        12\n",
            "21        Hungary  Pepsi Regular (L3)        12\n",
            "22          Italy            7up (L3)        12\n",
            "23          Italy      Pepsi Max (L3)        12\n",
            "24          Italy  Pepsi Regular (L3)        12\n",
            "25    Netherlands            7up (L3)        12\n",
            "26    Netherlands       7up Free (L3)        12\n",
            "27    Netherlands         Lipton (L3)        12\n",
            "28    Netherlands   Mountain Dew (L3)        12\n",
            "29    Netherlands      Pepsi Max (L3)        12\n",
            "30    Netherlands  Pepsi Regular (L3)        12\n",
            "31         Norway            7up (L3)        12\n",
            "32         Norway       7up Free (L3)        12\n",
            "33         Norway         Lipton (L3)        12\n",
            "34         Norway   Mountain Dew (L3)        12\n",
            "35         Norway      Pepsi Max (L3)        12\n",
            "36         Norway  Pepsi Regular (L3)        12\n",
            "37       Portugal            7up (L3)        12\n",
            "38       Portugal       7up Free (L3)        12\n",
            "39       Portugal         Lipton (L3)        12\n",
            "40       Portugal      Pepsi Max (L3)        12\n",
            "41       Portugal  Pepsi Regular (L3)        12\n",
            "42          Spain            7up (L3)        12\n",
            "43          Spain       7up Free (L3)        12\n",
            "44          Spain         Lipton (L3)        12\n",
            "45          Spain      Pepsi Max (L3)        12\n",
            "46          Spain  Pepsi Regular (L3)        12\n"
          ]
        }
      ]
    },
    {
      "cell_type": "markdown",
      "source": [
        "Efectivamente, para cada producto de cada país se han hecho 12 estudios de predicción distintos."
      ],
      "metadata": {
        "id": "Gi3AtNHt_8gi"
      }
    },
    {
      "cell_type": "code",
      "source": [
        "# Distribución de ventas de cada país."
      ],
      "metadata": {
        "id": "wk3cjpqNBJvz"
      },
      "execution_count": null,
      "outputs": []
    }
  ]
}